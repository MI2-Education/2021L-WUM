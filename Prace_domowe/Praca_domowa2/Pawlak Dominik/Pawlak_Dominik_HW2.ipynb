{
 "cells": [
  {
   "cell_type": "code",
   "execution_count": null,
   "id": "foster-mailman",
   "metadata": {},
   "outputs": [],
   "source": [
    "import pandas as pd\n",
    "import numpy as np\n",
    "import matplotlib.pyplot as plt\n",
    "import warnings\n",
    "warnings.filterwarnings('ignore')\n",
    "np.random.seed = 42\n",
    "import category_encoders as ce"
   ]
  },
  {
   "cell_type": "code",
   "execution_count": null,
   "id": "closed-sensitivity",
   "metadata": {},
   "outputs": [],
   "source": [
    "allegro_df = pd.read_csv('allegro-api-transactions.csv')\n",
    "allegro_df.head()"
   ]
  },
  {
   "cell_type": "markdown",
   "id": "white-clarity",
   "metadata": {},
   "source": [
    "# Target encoding"
   ]
  },
  {
   "cell_type": "code",
   "execution_count": null,
   "id": "under-instrument",
   "metadata": {},
   "outputs": [],
   "source": [
    "means = allegro_df.groupby('it_location')['price'].mean()\n",
    "print('Liczba kategorii: ' + str(len(allegro_df['it_location'].unique())))\n",
    "print(means)"
   ]
  },
  {
   "cell_type": "code",
   "execution_count": null,
   "id": "following-coverage",
   "metadata": {},
   "outputs": [],
   "source": [
    "TG = allegro_df.copy()\n",
    "TG['it_location'] = allegro_df['it_location'].map(means)\n",
    "TG.head()"
   ]
  },
  {
   "cell_type": "markdown",
   "id": "innocent-night",
   "metadata": {},
   "source": [
    "Przewagą nad one-hot encoding jest mniejsza zajętość pamięciowa, nietworzenie dodatkowej ilości kolumn dla każdej kategorii. W tym zadaniu zmienna ma 6291 kategorii, a więc tyle dodatkowych kolumn by powstało. Jego kolejną zaletą jest, że zmienia zmienną kategoryczną na zmienną celu. "
   ]
  },
  {
   "cell_type": "markdown",
   "id": "soviet-framework",
   "metadata": {},
   "source": [
    "# One-hot endoding"
   ]
  },
  {
   "cell_type": "code",
   "execution_count": null,
   "id": "comic-bleeding",
   "metadata": {},
   "outputs": [],
   "source": [
    "OHE = pd.concat([\n",
    "    pd.get_dummies(allegro_df.main_category, prefix='MainCategory'),\n",
    "    allegro_df], axis=1).drop(['main_category'], axis=1)\n",
    "print(OHE.head())"
   ]
  },
  {
   "cell_type": "markdown",
   "id": "simple-worse",
   "metadata": {},
   "source": [
    "# Leave One Out Encoder"
   ]
  },
  {
   "cell_type": "code",
   "execution_count": null,
   "id": "charitable-bolivia",
   "metadata": {},
   "outputs": [],
   "source": [
    "loe = ce.LeaveOneOutEncoder(cols = ['main_category'], return_df = True)\n",
    "LOE = loe.fit_transform(allegro_df, allegro_df['price'])\n",
    "\n",
    "print(LOE.head())"
   ]
  },
  {
   "cell_type": "markdown",
   "id": "normal-bones",
   "metadata": {},
   "source": [
    "# Count Encoding"
   ]
  },
  {
   "cell_type": "code",
   "execution_count": null,
   "id": "indie-large",
   "metadata": {},
   "outputs": [],
   "source": [
    "pe = ce.CountEncoder(cols = ['main_category'], return_df = True)\n",
    "PE = pe.fit_transform(allegro_df, allegro_df['price'])\n",
    "\n",
    "print(PE.head())"
   ]
  },
  {
   "cell_type": "markdown",
   "id": "falling-group",
   "metadata": {},
   "source": [
    "Wybrałem *LeaveOneOut Encoding* oraz *CountEncoding*. Pierwszy z nich działa podobnie jak *Target Encoding*, z tą różnicą, że przy wyliczaniu średniej nie bierze pod uwagę danego rekordu. Działa tylko, jeżeli zmienna celu jest typu binarnego albo ciągłego. Natomiast *CountEncoding* zamienia nazwę kategorii na liczbę jej wystąpień, dlatego nie ma żadnych ograniczeń co do typu zmiennej celu."
   ]
  },
  {
   "cell_type": "markdown",
   "id": "registered-broadcasting",
   "metadata": {},
   "source": [
    "# Zad 2"
   ]
  },
  {
   "cell_type": "code",
   "execution_count": null,
   "id": "rental-logan",
   "metadata": {},
   "outputs": [],
   "source": [
    "allegro_df_mod = allegro_df.loc[:10000, ['price', 'it_seller_rating', 'it_quantity']]\n",
    "print(allegro_df_mod)\n",
    "cols = allegro_df_mod.columns\n",
    "\n",
    "rmse = [0] * 10\n",
    "sr = np.mean(allegro_df_mod['it_seller_rating'])\n",
    "print(sr)"
   ]
  },
  {
   "cell_type": "code",
   "execution_count": null,
   "id": "imposed-russell",
   "metadata": {},
   "outputs": [],
   "source": [
    "from sklearn.impute import KNNImputer\n",
    "\n",
    "remove_n = int(0.1 * len(allegro_df_mod))\n",
    "\n",
    "for r in range (len(rmse)):\n",
    "    allegro_tmp = allegro_df_mod.copy()\n",
    "    r_temp = 0\n",
    "    drop_indices = np.array(np.random.choice(allegro_df_mod.index, remove_n, replace=False))\n",
    "\n",
    "    for i in drop_indices:\n",
    "        allegro_tmp.loc[i, 'it_seller_rating'] = np.NaN\n",
    "\n",
    "    imputer = KNNImputer(n_neighbors=3, weights=\"uniform\")\n",
    "    NN = pd.DataFrame(imputer.fit_transform(allegro_tmp), columns = cols)\n",
    "\n",
    "    for i in range (len(NN)):\n",
    "        r_temp += (sr - NN.loc[i, 'it_seller_rating'])**2\n",
    "    r_temp /= len(NN)\n",
    "    r_temp = np.sqrt(r_temp).round(2)\n",
    "\n",
    "    rmse[r] = r_temp\n",
    "print(rmse)\n",
    "std_r = np.std(rmse)\n",
    "mean_r = np.mean(rmse)"
   ]
  },
  {
   "cell_type": "code",
   "execution_count": null,
   "id": "immune-sequence",
   "metadata": {},
   "outputs": [],
   "source": [
    "rmse_org = 0\n",
    "for i in range (len(allegro_df_mod)):\n",
    "    rmse_org += (sr - allegro_df_mod.loc[i, 'it_seller_rating'])**2\n",
    "rmse_org = rmse_org / len(allegro_df_mod)\n",
    "rmse_org = np.sqrt(rmse_org).round(2)\n",
    "\n",
    "rmse_org_IQ = 0\n",
    "for i in range (len(allegro_df_mod)):\n",
    "    rmse_org_IQ += (sr - allegro_df_mod.loc[i, 'it_quantity'])**2\n",
    "rmse_org_IQ = rmse_org_IQ / len(allegro_df_mod)\n",
    "rmse_org_IQ = np.sqrt(rmse_org_IQ).round(2)"
   ]
  },
  {
   "cell_type": "code",
   "execution_count": null,
   "id": "improving-squad",
   "metadata": {},
   "outputs": [],
   "source": [
    "print(f'Miara RMSE dla oryginalnych wartości: {rmse_org}.')\n",
    "print(f'Miary RMSE dla losowo usuniętych: {rmse}.')\n",
    "print(f'Średnia miary RMSE dla losowo usuniętych: {mean_r:.2f}.')\n",
    "print(f'Odchylenie standardowe miary RMSE dla losowo usuniętych: {std_r:.2f}.')"
   ]
  },
  {
   "cell_type": "code",
   "execution_count": null,
   "id": "weekly-attitude",
   "metadata": {},
   "outputs": [],
   "source": [
    "fig, ax = plt.subplots(1, 1, figsize=(10, 8))\n",
    "plt.plot(rmse, label = 'RMSE po usunięciu danych')\n",
    "plt.plot(range(10), [rmse_org]*10, label = 'RMSE bez usunięcia danych')\n",
    "plt.plot(range(10), [mean_r]*10, label = 'Średnia RMSE po usunięciu danych')\n",
    "ax.set_title('Wizualizacji wartości miary RMSE')\n",
    "ax.set_ylim([34400, 35700])\n",
    "ax.legend()\n",
    "legend = ax.legend(loc='center right', shadow=True, fontsize='medium')\n",
    "plt.show()"
   ]
  },
  {
   "cell_type": "code",
   "execution_count": null,
   "id": "systematic-barbados",
   "metadata": {},
   "outputs": [],
   "source": [
    "rmse_SR = [0]*10\n",
    "rmse_IQ = [0]*10\n",
    "\n",
    "for r in range (len(rmse)):\n",
    "    allegro_tmp = allegro_df_mod.copy()\n",
    "    r_temp_SR = 0\n",
    "    r_temp_IQ = 0\n",
    "    \n",
    "    drop_indices = np.array(np.random.choice(allegro_df_mod.index, remove_n, replace=False))\n",
    "    for i in drop_indices:\n",
    "        allegro_tmp.loc[i, 'it_seller_rating'] = np.NaN\n",
    "        \n",
    "    drop_indices = np.array(np.random.choice(allegro_df_mod.index, remove_n, replace=False))\n",
    "    for i in drop_indices:\n",
    "        allegro_tmp.loc[i, 'it_quantity'] = np.NaN\n",
    "\n",
    "    imputer = KNNImputer(n_neighbors=3, weights=\"uniform\")\n",
    "    NN = pd.DataFrame(imputer.fit_transform(allegro_tmp), columns = cols)\n",
    "\n",
    "    for i in range (len(NN)):\n",
    "        r_temp_SR += (sr - NN.loc[i, 'it_seller_rating'])**2\n",
    "        r_temp_IQ += (sr - NN.loc[i, 'it_quantity'])**2\n",
    "    r_temp_SR /= len(NN)\n",
    "    r_temp_SR = np.sqrt(r_temp_SR).round(2)\n",
    "    r_temp_IQ /= len(NN)\n",
    "    r_temp_IQ = np.sqrt(r_temp_IQ).round(2)\n",
    "\n",
    "    rmse_SR[r] = r_temp_SR\n",
    "    rmse_IQ[r] = r_temp_IQ\n",
    "std_SR = np.std(rmse_SR)\n",
    "mean_SR = np.mean(rmse_SR)\n",
    "std_IQ = np.std(rmse_IQ)\n",
    "mean_IQ = np.mean(rmse_IQ)\n",
    "\n",
    "mean_SR_org = allegro_df_mod['it_seller_rating'].mean()\n",
    "mean_IQ_org = allegro_df_mod['it_quantity'].mean()"
   ]
  },
  {
   "cell_type": "code",
   "execution_count": null,
   "id": "regular-cleaner",
   "metadata": {},
   "outputs": [],
   "source": [
    "x = 'it_seller_rating'\n",
    "print(f'Miara RMSE dla oryginalnych wartości zmiennej {x}: {rmse_org}.')\n",
    "print(f'Miary RMSE dla losowo usuniętych zmiennej {x}: {rmse_SR}.')\n",
    "print(f'Średnia miary RMSE dla losowo usuniętych zmiennej {x}: {mean_SR:.2f}.')\n",
    "print(f'Odchylenie standardowe miary RMSE dla losowo usuniętych zmiennej {x}: {std_SR:.2f}.')\n",
    "print()\n",
    "\n",
    "x = 'it_quantity'\n",
    "print(f'Miara RMSE dla oryginalnych wartości zmiennej {x}: {rmse_org_IQ}.')\n",
    "print(f'Miary RMSE dla losowo usuniętych zmiennej {x}: {rmse_IQ}.')\n",
    "print(f'Średnia miary RMSE dla losowo usuniętych zmiennej {x}: {mean_IQ:.2f}.')\n",
    "print(f'Odchylenie standardowe miary RMSE dla losowo usuniętych zmiennej {x}: {std_IQ:.2f}.')"
   ]
  },
  {
   "cell_type": "code",
   "execution_count": null,
   "id": "furnished-theta",
   "metadata": {},
   "outputs": [],
   "source": [
    "fig, (ax1, ax2) = plt.subplots(1, 2, figsize=(15, 8))\n",
    "\n",
    "ax1.plot(rmse_SR, label = 'RMSE po usunięciu danych')\n",
    "ax1.plot(range(10), [rmse_org]*10, label = 'RMSE bez usunięcia danych')\n",
    "ax1.plot(range(10), [mean_SR]*10, label = 'Średnia RMSE po usunięciu danych')\n",
    "ax1.set_title('Wizualizacji wartości miary RMSE dla zmiennej it_seller_rating')\n",
    "ax1.set_ylim([34200, 35700])\n",
    "ax1.legend()\n",
    "legend = ax1.legend(loc='center right', shadow=True, fontsize='medium')\n",
    "\n",
    "ax2.plot(rmse_IQ, label = 'RMSE po usunięciu danych')\n",
    "ax2.plot(range(10), [rmse_org_IQ]*10, label = 'RMSE bez usunięcia danych')\n",
    "ax2.plot(range(10), [mean_IQ]*10, label = 'Średnia RMSE po usunięciu danych')\n",
    "ax2.set_title('Wizualizacji wartości miary RMSE dla zmiennej dla zmiennej it_quantity')\n",
    "ax2.set_ylim([26800, 27700])\n",
    "ax2.legend()\n",
    "legend = ax2.legend(loc='center right', shadow=True, fontsize='medium')\n",
    "\n",
    "plt.show()"
   ]
  },
  {
   "cell_type": "markdown",
   "id": "regional-today",
   "metadata": {},
   "source": [
    "Widzimy, że usunięcie wartości zmniejsza wartość miary RMSE dla obu zmiennych. W drugim przypadku, po usunięciu danych z dwóch kolumn wartość miary RMSE dla zmiennej *it_seller_rating* była niższa."
   ]
  }
 ],
 "metadata": {
  "kernelspec": {
   "display_name": "Python 3",
   "language": "python",
   "name": "python3"
  },
  "language_info": {
   "codemirror_mode": {
    "name": "ipython",
    "version": 3
   },
   "file_extension": ".py",
   "mimetype": "text/x-python",
   "name": "python",
   "nbconvert_exporter": "python",
   "pygments_lexer": "ipython3",
   "version": "3.7.4"
  }
 },
 "nbformat": 4,
 "nbformat_minor": 5
}
