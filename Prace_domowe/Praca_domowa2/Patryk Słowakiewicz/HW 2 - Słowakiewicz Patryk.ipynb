{
 "cells": [
  {
   "cell_type": "code",
   "execution_count": 2,
   "id": "rising-fitness",
   "metadata": {
    "collapsed": true,
    "scrolled": true
   },
   "outputs": [],
   "source": [
    "import pandas as pd\n",
    "import numpy as np\n",
    "import matplotlib.pyplot as plt\n",
    "import seaborn as sns\n",
    "import category_encoders as ce\n",
    "import unicodedata\n",
    "import warnings\n",
    "warnings.filterwarnings('ignore')"
   ]
  },
  {
   "cell_type": "code",
   "execution_count": 3,
   "id": "liked-safety",
   "metadata": {
    "collapsed": true,
    "scrolled": true
   },
   "outputs": [],
   "source": [
    "df = pd.read_csv('allegro-api-transactions.csv')"
   ]
  },
  {
   "cell_type": "code",
   "execution_count": 4,
   "id": "negative-living",
   "metadata": {
    "collapsed": true,
    "scrolled": true
   },
   "outputs": [
    {
     "data": {
      "text/html": [
       "<div>\n",
       "<style scoped>\n",
       "    .dataframe tbody tr th:only-of-type {\n",
       "        vertical-align: middle;\n",
       "    }\n",
       "\n",
       "    .dataframe tbody tr th {\n",
       "        vertical-align: top;\n",
       "    }\n",
       "\n",
       "    .dataframe thead th {\n",
       "        text-align: right;\n",
       "    }\n",
       "</style>\n",
       "<table border=\"1\" class=\"dataframe\">\n",
       "  <thead>\n",
       "    <tr style=\"text-align: right;\">\n",
       "      <th></th>\n",
       "      <th>lp</th>\n",
       "      <th>date</th>\n",
       "      <th>item_id</th>\n",
       "      <th>categories</th>\n",
       "      <th>pay_option_on_delivery</th>\n",
       "      <th>pay_option_transfer</th>\n",
       "      <th>seller</th>\n",
       "      <th>price</th>\n",
       "      <th>it_is_allegro_standard</th>\n",
       "      <th>it_quantity</th>\n",
       "      <th>it_is_brand_zone</th>\n",
       "      <th>it_seller_rating</th>\n",
       "      <th>it_location</th>\n",
       "      <th>main_category</th>\n",
       "    </tr>\n",
       "  </thead>\n",
       "  <tbody>\n",
       "    <tr>\n",
       "      <th>0</th>\n",
       "      <td>0</td>\n",
       "      <td>2016-04-03 21:21:08</td>\n",
       "      <td>4753602474</td>\n",
       "      <td>['Komputery', 'Dyski i napędy', 'Nośniki', 'No...</td>\n",
       "      <td>1</td>\n",
       "      <td>1</td>\n",
       "      <td>radzioch666</td>\n",
       "      <td>59.99</td>\n",
       "      <td>1</td>\n",
       "      <td>997</td>\n",
       "      <td>0</td>\n",
       "      <td>50177</td>\n",
       "      <td>Warszawa</td>\n",
       "      <td>Komputery</td>\n",
       "    </tr>\n",
       "    <tr>\n",
       "      <th>1</th>\n",
       "      <td>1</td>\n",
       "      <td>2016-04-03 15:35:26</td>\n",
       "      <td>4773181874</td>\n",
       "      <td>['Odzież, Obuwie, Dodatki', 'Bielizna damska',...</td>\n",
       "      <td>1</td>\n",
       "      <td>1</td>\n",
       "      <td>InwestycjeNET</td>\n",
       "      <td>4.90</td>\n",
       "      <td>1</td>\n",
       "      <td>9288</td>\n",
       "      <td>0</td>\n",
       "      <td>12428</td>\n",
       "      <td>Warszawa</td>\n",
       "      <td>Odzież, Obuwie, Dodatki</td>\n",
       "    </tr>\n",
       "    <tr>\n",
       "      <th>2</th>\n",
       "      <td>2</td>\n",
       "      <td>2016-04-03 14:14:31</td>\n",
       "      <td>4781627074</td>\n",
       "      <td>['Dom i Ogród', 'Budownictwo i Akcesoria', 'Śc...</td>\n",
       "      <td>1</td>\n",
       "      <td>1</td>\n",
       "      <td>otostyl_com</td>\n",
       "      <td>109.90</td>\n",
       "      <td>1</td>\n",
       "      <td>895</td>\n",
       "      <td>0</td>\n",
       "      <td>7389</td>\n",
       "      <td>Leszno</td>\n",
       "      <td>Dom i Ogród</td>\n",
       "    </tr>\n",
       "    <tr>\n",
       "      <th>3</th>\n",
       "      <td>3</td>\n",
       "      <td>2016-04-03 19:55:44</td>\n",
       "      <td>4783971474</td>\n",
       "      <td>['Książki i Komiksy', 'Poradniki i albumy', 'Z...</td>\n",
       "      <td>1</td>\n",
       "      <td>1</td>\n",
       "      <td>Matfel1</td>\n",
       "      <td>18.50</td>\n",
       "      <td>0</td>\n",
       "      <td>971</td>\n",
       "      <td>0</td>\n",
       "      <td>15006</td>\n",
       "      <td>Wola Krzysztoporska</td>\n",
       "      <td>Książki i Komiksy</td>\n",
       "    </tr>\n",
       "    <tr>\n",
       "      <th>4</th>\n",
       "      <td>4</td>\n",
       "      <td>2016-04-03 18:05:54</td>\n",
       "      <td>4787908274</td>\n",
       "      <td>['Odzież, Obuwie, Dodatki', 'Ślub i wesele', '...</td>\n",
       "      <td>1</td>\n",
       "      <td>1</td>\n",
       "      <td>PPHU_RICO</td>\n",
       "      <td>19.90</td>\n",
       "      <td>1</td>\n",
       "      <td>950</td>\n",
       "      <td>0</td>\n",
       "      <td>32975</td>\n",
       "      <td>BIAŁYSTOK</td>\n",
       "      <td>Odzież, Obuwie, Dodatki</td>\n",
       "    </tr>\n",
       "  </tbody>\n",
       "</table>\n",
       "</div>"
      ],
      "text/plain": [
       "   lp                 date     item_id  \\\n",
       "0   0  2016-04-03 21:21:08  4753602474   \n",
       "1   1  2016-04-03 15:35:26  4773181874   \n",
       "2   2  2016-04-03 14:14:31  4781627074   \n",
       "3   3  2016-04-03 19:55:44  4783971474   \n",
       "4   4  2016-04-03 18:05:54  4787908274   \n",
       "\n",
       "                                          categories  pay_option_on_delivery  \\\n",
       "0  ['Komputery', 'Dyski i napędy', 'Nośniki', 'No...                       1   \n",
       "1  ['Odzież, Obuwie, Dodatki', 'Bielizna damska',...                       1   \n",
       "2  ['Dom i Ogród', 'Budownictwo i Akcesoria', 'Śc...                       1   \n",
       "3  ['Książki i Komiksy', 'Poradniki i albumy', 'Z...                       1   \n",
       "4  ['Odzież, Obuwie, Dodatki', 'Ślub i wesele', '...                       1   \n",
       "\n",
       "   pay_option_transfer         seller   price  it_is_allegro_standard  \\\n",
       "0                    1    radzioch666   59.99                       1   \n",
       "1                    1  InwestycjeNET    4.90                       1   \n",
       "2                    1    otostyl_com  109.90                       1   \n",
       "3                    1        Matfel1   18.50                       0   \n",
       "4                    1      PPHU_RICO   19.90                       1   \n",
       "\n",
       "   it_quantity  it_is_brand_zone  it_seller_rating          it_location  \\\n",
       "0          997                 0             50177             Warszawa   \n",
       "1         9288                 0             12428             Warszawa   \n",
       "2          895                 0              7389               Leszno   \n",
       "3          971                 0             15006  Wola Krzysztoporska   \n",
       "4          950                 0             32975            BIAŁYSTOK   \n",
       "\n",
       "             main_category  \n",
       "0                Komputery  \n",
       "1  Odzież, Obuwie, Dodatki  \n",
       "2              Dom i Ogród  \n",
       "3        Książki i Komiksy  \n",
       "4  Odzież, Obuwie, Dodatki  "
      ]
     },
     "execution_count": 4,
     "metadata": {},
     "output_type": "execute_result"
    }
   ],
   "source": [
    "df.head()"
   ]
  },
  {
   "cell_type": "markdown",
   "id": "continuing-designation",
   "metadata": {},
   "source": [
    "### Liczba unikalnych nazw miast\n",
    "Zobaczymy, że miast w naszym zbiorze danych jest bardzo dużo będzie to powodowało problemy np. z One-Hot Encoding. Dlatego będę próbował jakoś ograniczyć liczbę tych rekordów. Sprawdzę czy rozróżniane są miasta z pisane wielkimi literami i małymi oraz z polskimi znakami i bez nich a następnie je zrzutuje."
   ]
  },
  {
   "cell_type": "code",
   "execution_count": 5,
   "id": "announced-syndicate",
   "metadata": {
    "collapsed": true,
    "scrolled": true
   },
   "outputs": [
    {
     "data": {
      "text/plain": [
       "10056"
      ]
     },
     "execution_count": 5,
     "metadata": {},
     "output_type": "execute_result"
    }
   ],
   "source": [
    "from collections import Counter\n",
    "loc = df.it_location\n",
    "dfl = pd.DataFrame({\"keys\":Counter(loc).keys(), \"val\" :Counter(loc).values()})\n",
    "#dfl.loc[dfl.val > 20]\n",
    "len(dfl)"
   ]
  },
  {
   "cell_type": "code",
   "execution_count": 6,
   "id": "composite-billion",
   "metadata": {
    "collapsed": true,
    "scrolled": true
   },
   "outputs": [
    {
     "data": {
      "text/html": [
       "<div>\n",
       "<style scoped>\n",
       "    .dataframe tbody tr th:only-of-type {\n",
       "        vertical-align: middle;\n",
       "    }\n",
       "\n",
       "    .dataframe tbody tr th {\n",
       "        vertical-align: top;\n",
       "    }\n",
       "\n",
       "    .dataframe thead th {\n",
       "        text-align: right;\n",
       "    }\n",
       "</style>\n",
       "<table border=\"1\" class=\"dataframe\">\n",
       "  <thead>\n",
       "    <tr style=\"text-align: right;\">\n",
       "      <th></th>\n",
       "      <th>keys</th>\n",
       "      <th>val</th>\n",
       "    </tr>\n",
       "  </thead>\n",
       "  <tbody>\n",
       "    <tr>\n",
       "      <th>0</th>\n",
       "      <td>Warszawa</td>\n",
       "      <td>23244</td>\n",
       "    </tr>\n",
       "    <tr>\n",
       "      <th>83</th>\n",
       "      <td>WARSZAWA</td>\n",
       "      <td>2672</td>\n",
       "    </tr>\n",
       "    <tr>\n",
       "      <th>142</th>\n",
       "      <td>warszawa</td>\n",
       "      <td>1123</td>\n",
       "    </tr>\n",
       "    <tr>\n",
       "      <th>578</th>\n",
       "      <td>Wieluń</td>\n",
       "      <td>508</td>\n",
       "    </tr>\n",
       "    <tr>\n",
       "      <th>6765</th>\n",
       "      <td>Wielun</td>\n",
       "      <td>1</td>\n",
       "    </tr>\n",
       "  </tbody>\n",
       "</table>\n",
       "</div>"
      ],
      "text/plain": [
       "          keys    val\n",
       "0     Warszawa  23244\n",
       "83    WARSZAWA   2672\n",
       "142   warszawa   1123\n",
       "578     Wieluń    508\n",
       "6765    Wielun      1"
      ]
     },
     "execution_count": 6,
     "metadata": {},
     "output_type": "execute_result"
    }
   ],
   "source": [
    "dfl[dfl['keys'].isin([\"WARSZAWA\", \"Warszawa\", \"warszawa\", 'Wielun', 'Wieluń'])]"
   ]
  },
  {
   "cell_type": "code",
   "execution_count": 7,
   "id": "included-attention",
   "metadata": {
    "collapsed": true,
    "scrolled": true
   },
   "outputs": [],
   "source": [
    "df['it_location'] = df['it_location'].apply(str.title)"
   ]
  },
  {
   "cell_type": "code",
   "execution_count": 8,
   "id": "foster-green",
   "metadata": {
    "collapsed": true,
    "scrolled": true
   },
   "outputs": [],
   "source": [
    "def unicode(x):\n",
    "    return unicodedata.normalize('NFKD', x).encode('ascii', 'ignore').decode('utf-8')"
   ]
  },
  {
   "cell_type": "code",
   "execution_count": 9,
   "id": "quiet-chapel",
   "metadata": {
    "collapsed": true,
    "scrolled": true
   },
   "outputs": [],
   "source": [
    "tmp = df['it_location'].apply(unicode)\n",
    "df[\"it_location\"] = tmp"
   ]
  },
  {
   "cell_type": "code",
   "execution_count": 10,
   "id": "governing-board",
   "metadata": {
    "collapsed": true,
    "scrolled": true
   },
   "outputs": [
    {
     "data": {
      "text/plain": [
       "7554"
      ]
     },
     "execution_count": 10,
     "metadata": {},
     "output_type": "execute_result"
    }
   ],
   "source": [
    "loc = df.it_location\n",
    "dfl = pd.DataFrame({\"keys\":Counter(loc).keys(), \"val\" :Counter(loc).values()})\n",
    "#dfl.loc[dfl.val > 20]\n",
    "len(dfl)"
   ]
  },
  {
   "cell_type": "code",
   "execution_count": 11,
   "id": "impossible-savings",
   "metadata": {
    "collapsed": true,
    "scrolled": true
   },
   "outputs": [],
   "source": [
    "df_target = df.copy(deep=True)\n",
    "df_onehot = df.copy(deep=True)"
   ]
  },
  {
   "cell_type": "markdown",
   "id": "increased-institution",
   "metadata": {},
   "source": [
    "Udało nam się ograniczyć liczbę unikalnych nazw miast o ok. 2500. \n",
    "### Target Encoding\n",
    "Zatem możemy próbować zakodować je przy pomocy metody Target Encoding.\n",
    "\n",
    "Zaletą target encodingu jest możliwość zakodowania zmiennej która posiada bardzo dużo kategorii. \n",
    "Zmienna kategoryczna zamieniana jest na liczbę dzięki temu przyspieszają się obliczenia oraz dostajemy tylko jedną kolumnę co jest główną zaletą w porówaniu z One-Hot encoding.\n",
    "\n",
    "Wadami są straty danych które następują przez takie rzutowanie, ponieważ zmienna jest zamieniana na średnią targetu dla danej kategorii a wiemy, że średnia jest wrażliwa na odchylenia. Tworzymy też nieistniejącą hierarchię w zmiennej. Przy małych zbiorach może się zdarzyć, że dwie kategorie zostaną rzutowane na taką samą wartość."
   ]
  },
  {
   "cell_type": "code",
   "execution_count": 12,
   "id": "artificial-retention",
   "metadata": {
    "collapsed": true,
    "scrolled": true
   },
   "outputs": [
    {
     "data": {
      "text/plain": [
       "TargetEncoder(cols=['it_location'])"
      ]
     },
     "execution_count": 12,
     "metadata": {},
     "output_type": "execute_result"
    }
   ],
   "source": [
    "encoder = ce.TargetEncoder(cols=['it_location'])\n",
    "encoder.fit(df_target, df_target.price)"
   ]
  },
  {
   "cell_type": "code",
   "execution_count": 13,
   "id": "southeast-marble",
   "metadata": {
    "collapsed": true,
    "scrolled": true
   },
   "outputs": [],
   "source": [
    "df_target = encoder.transform(df_target)"
   ]
  },
  {
   "cell_type": "code",
   "execution_count": 14,
   "id": "conservative-paraguay",
   "metadata": {
    "collapsed": true,
    "scrolled": true
   },
   "outputs": [],
   "source": [
    "encoder = ce.TargetEncoder()\n",
    "df_target['it_location_encoded'] = encoder.fit_transform(df['it_location'], df['price'])"
   ]
  },
  {
   "cell_type": "code",
   "execution_count": 15,
   "id": "million-morrison",
   "metadata": {
    "collapsed": true,
    "scrolled": true
   },
   "outputs": [
    {
     "data": {
      "text/html": [
       "<div>\n",
       "<style scoped>\n",
       "    .dataframe tbody tr th:only-of-type {\n",
       "        vertical-align: middle;\n",
       "    }\n",
       "\n",
       "    .dataframe tbody tr th {\n",
       "        vertical-align: top;\n",
       "    }\n",
       "\n",
       "    .dataframe thead th {\n",
       "        text-align: right;\n",
       "    }\n",
       "</style>\n",
       "<table border=\"1\" class=\"dataframe\">\n",
       "  <thead>\n",
       "    <tr style=\"text-align: right;\">\n",
       "      <th></th>\n",
       "      <th>lp</th>\n",
       "      <th>date</th>\n",
       "      <th>item_id</th>\n",
       "      <th>categories</th>\n",
       "      <th>pay_option_on_delivery</th>\n",
       "      <th>pay_option_transfer</th>\n",
       "      <th>seller</th>\n",
       "      <th>price</th>\n",
       "      <th>it_is_allegro_standard</th>\n",
       "      <th>it_quantity</th>\n",
       "      <th>it_is_brand_zone</th>\n",
       "      <th>it_seller_rating</th>\n",
       "      <th>it_location</th>\n",
       "      <th>main_category</th>\n",
       "      <th>it_location_encoded</th>\n",
       "    </tr>\n",
       "  </thead>\n",
       "  <tbody>\n",
       "    <tr>\n",
       "      <th>0</th>\n",
       "      <td>0</td>\n",
       "      <td>2016-04-03 21:21:08</td>\n",
       "      <td>4753602474</td>\n",
       "      <td>['Komputery', 'Dyski i napędy', 'Nośniki', 'No...</td>\n",
       "      <td>1</td>\n",
       "      <td>1</td>\n",
       "      <td>radzioch666</td>\n",
       "      <td>59.99</td>\n",
       "      <td>1</td>\n",
       "      <td>997</td>\n",
       "      <td>0</td>\n",
       "      <td>50177</td>\n",
       "      <td>84.132898</td>\n",
       "      <td>Komputery</td>\n",
       "      <td>84.132898</td>\n",
       "    </tr>\n",
       "    <tr>\n",
       "      <th>1</th>\n",
       "      <td>1</td>\n",
       "      <td>2016-04-03 15:35:26</td>\n",
       "      <td>4773181874</td>\n",
       "      <td>['Odzież, Obuwie, Dodatki', 'Bielizna damska',...</td>\n",
       "      <td>1</td>\n",
       "      <td>1</td>\n",
       "      <td>InwestycjeNET</td>\n",
       "      <td>4.90</td>\n",
       "      <td>1</td>\n",
       "      <td>9288</td>\n",
       "      <td>0</td>\n",
       "      <td>12428</td>\n",
       "      <td>84.132898</td>\n",
       "      <td>Odzież, Obuwie, Dodatki</td>\n",
       "      <td>84.132898</td>\n",
       "    </tr>\n",
       "    <tr>\n",
       "      <th>2</th>\n",
       "      <td>2</td>\n",
       "      <td>2016-04-03 14:14:31</td>\n",
       "      <td>4781627074</td>\n",
       "      <td>['Dom i Ogród', 'Budownictwo i Akcesoria', 'Śc...</td>\n",
       "      <td>1</td>\n",
       "      <td>1</td>\n",
       "      <td>otostyl_com</td>\n",
       "      <td>109.90</td>\n",
       "      <td>1</td>\n",
       "      <td>895</td>\n",
       "      <td>0</td>\n",
       "      <td>7389</td>\n",
       "      <td>64.883187</td>\n",
       "      <td>Dom i Ogród</td>\n",
       "      <td>64.883187</td>\n",
       "    </tr>\n",
       "    <tr>\n",
       "      <th>3</th>\n",
       "      <td>3</td>\n",
       "      <td>2016-04-03 19:55:44</td>\n",
       "      <td>4783971474</td>\n",
       "      <td>['Książki i Komiksy', 'Poradniki i albumy', 'Z...</td>\n",
       "      <td>1</td>\n",
       "      <td>1</td>\n",
       "      <td>Matfel1</td>\n",
       "      <td>18.50</td>\n",
       "      <td>0</td>\n",
       "      <td>971</td>\n",
       "      <td>0</td>\n",
       "      <td>15006</td>\n",
       "      <td>35.433365</td>\n",
       "      <td>Książki i Komiksy</td>\n",
       "      <td>35.433365</td>\n",
       "    </tr>\n",
       "    <tr>\n",
       "      <th>4</th>\n",
       "      <td>4</td>\n",
       "      <td>2016-04-03 18:05:54</td>\n",
       "      <td>4787908274</td>\n",
       "      <td>['Odzież, Obuwie, Dodatki', 'Ślub i wesele', '...</td>\n",
       "      <td>1</td>\n",
       "      <td>1</td>\n",
       "      <td>PPHU_RICO</td>\n",
       "      <td>19.90</td>\n",
       "      <td>1</td>\n",
       "      <td>950</td>\n",
       "      <td>0</td>\n",
       "      <td>32975</td>\n",
       "      <td>73.782872</td>\n",
       "      <td>Odzież, Obuwie, Dodatki</td>\n",
       "      <td>73.782872</td>\n",
       "    </tr>\n",
       "  </tbody>\n",
       "</table>\n",
       "</div>"
      ],
      "text/plain": [
       "   lp                 date     item_id  \\\n",
       "0   0  2016-04-03 21:21:08  4753602474   \n",
       "1   1  2016-04-03 15:35:26  4773181874   \n",
       "2   2  2016-04-03 14:14:31  4781627074   \n",
       "3   3  2016-04-03 19:55:44  4783971474   \n",
       "4   4  2016-04-03 18:05:54  4787908274   \n",
       "\n",
       "                                          categories  pay_option_on_delivery  \\\n",
       "0  ['Komputery', 'Dyski i napędy', 'Nośniki', 'No...                       1   \n",
       "1  ['Odzież, Obuwie, Dodatki', 'Bielizna damska',...                       1   \n",
       "2  ['Dom i Ogród', 'Budownictwo i Akcesoria', 'Śc...                       1   \n",
       "3  ['Książki i Komiksy', 'Poradniki i albumy', 'Z...                       1   \n",
       "4  ['Odzież, Obuwie, Dodatki', 'Ślub i wesele', '...                       1   \n",
       "\n",
       "   pay_option_transfer         seller   price  it_is_allegro_standard  \\\n",
       "0                    1    radzioch666   59.99                       1   \n",
       "1                    1  InwestycjeNET    4.90                       1   \n",
       "2                    1    otostyl_com  109.90                       1   \n",
       "3                    1        Matfel1   18.50                       0   \n",
       "4                    1      PPHU_RICO   19.90                       1   \n",
       "\n",
       "   it_quantity  it_is_brand_zone  it_seller_rating  it_location  \\\n",
       "0          997                 0             50177    84.132898   \n",
       "1         9288                 0             12428    84.132898   \n",
       "2          895                 0              7389    64.883187   \n",
       "3          971                 0             15006    35.433365   \n",
       "4          950                 0             32975    73.782872   \n",
       "\n",
       "             main_category  it_location_encoded  \n",
       "0                Komputery            84.132898  \n",
       "1  Odzież, Obuwie, Dodatki            84.132898  \n",
       "2              Dom i Ogród            64.883187  \n",
       "3        Książki i Komiksy            35.433365  \n",
       "4  Odzież, Obuwie, Dodatki            73.782872  "
      ]
     },
     "execution_count": 15,
     "metadata": {},
     "output_type": "execute_result"
    }
   ],
   "source": [
    "df_target.head()"
   ]
  },
  {
   "cell_type": "markdown",
   "id": "experimental-poker",
   "metadata": {},
   "source": [
    "Udało nam się zakodować zmienną *it_location*\n",
    "\n",
    "### One-Hot encoding *main_catagory*\n",
    "Sprawdzam ile jest różnych wartości *main_category*. Jest ich 27 więc przy tak dużej ilości recordów możemy sobie pozwolić na zakodowanie ich wszystkich za pomocą one-hot. Przy okazji zamieniam nazwy nowo powstałych kolumn tak aby można było rozpoznać kategorię."
   ]
  },
  {
   "cell_type": "code",
   "execution_count": 16,
   "id": "equipped-korean",
   "metadata": {
    "collapsed": true,
    "scrolled": true
   },
   "outputs": [
    {
     "data": {
      "text/plain": [
       "27"
      ]
     },
     "execution_count": 16,
     "metadata": {},
     "output_type": "execute_result"
    }
   ],
   "source": [
    "len(pd.unique(df_onehot['main_category']))"
   ]
  },
  {
   "cell_type": "code",
   "execution_count": 17,
   "id": "killing-algeria",
   "metadata": {
    "collapsed": true,
    "scrolled": true
   },
   "outputs": [],
   "source": [
    "encoder = ce.OneHotEncoder(cols=['main_category'])\n",
    "df_onehot = encoder.fit_transform(df_onehot)"
   ]
  },
  {
   "cell_type": "code",
   "execution_count": 18,
   "id": "complimentary-zealand",
   "metadata": {
    "collapsed": true,
    "scrolled": true
   },
   "outputs": [],
   "source": [
    "df_onehot.columns.values[-27:] = \"is_\"+pd.unique(df['main_category'])"
   ]
  },
  {
   "cell_type": "markdown",
   "id": "complimentary-squad",
   "metadata": {},
   "source": [
    "### CatBoost encoding\n",
    "\n",
    "Podział kodowania polegający na permutacji danych, podziale zmiennej na podzbiory a następnie obliczaniu wartości na podstawie pozoastałych wartości."
   ]
  },
  {
   "cell_type": "code",
   "execution_count": 19,
   "id": "protected-saturn",
   "metadata": {
    "collapsed": true,
    "scrolled": true
   },
   "outputs": [],
   "source": [
    "encoder =ce.CatBoostEncoder(cols = ['main_category'])\n",
    "df_cat = df.copy(deep=True)\n",
    "df_cat = encoder.fit_transform(df_cat, df_cat.price)"
   ]
  },
  {
   "cell_type": "code",
   "execution_count": 20,
   "id": "dutch-impossible",
   "metadata": {
    "collapsed": true,
    "scrolled": true
   },
   "outputs": [
    {
     "data": {
      "text/plain": [
       "0          76.811350\n",
       "1          76.811350\n",
       "2          76.811350\n",
       "3          76.811350\n",
       "4          40.855675\n",
       "             ...    \n",
       "420015    107.529199\n",
       "420016     28.130777\n",
       "420017     75.859354\n",
       "420018     71.203460\n",
       "420019    134.417590\n",
       "Name: main_category, Length: 420020, dtype: float64"
      ]
     },
     "execution_count": 20,
     "metadata": {},
     "output_type": "execute_result"
    }
   ],
   "source": [
    "df_cat['main_category']"
   ]
  },
  {
   "cell_type": "markdown",
   "id": "incoming-concern",
   "metadata": {},
   "source": [
    "### Count Encoding\n",
    "\n",
    "Proste kodowanie które zamienia zmienne kategoryczne na liczbę jej wystąpień w kolumnie. Daje to pewną intuicję co jest większe a co mniejsze. Natomiast może pojawić się problem, że różne labele zostaną zmapowane na tą samą liczbę jeśli wystąpią tyle samo razy."
   ]
  },
  {
   "cell_type": "code",
   "execution_count": 21,
   "id": "spread-helen",
   "metadata": {
    "collapsed": true,
    "scrolled": true
   },
   "outputs": [],
   "source": [
    "df_count = df.copy(deep = True)"
   ]
  },
  {
   "cell_type": "code",
   "execution_count": 22,
   "id": "normal-thesis",
   "metadata": {
    "collapsed": true,
    "scrolled": true
   },
   "outputs": [],
   "source": [
    "encoder = ce.CountEncoder(cols = ['main_category'])"
   ]
  },
  {
   "cell_type": "code",
   "execution_count": 23,
   "id": "static-mouth",
   "metadata": {
    "collapsed": true,
    "scrolled": true
   },
   "outputs": [],
   "source": [
    "df_count = encoder.fit_transform(df_count, df_count.price)"
   ]
  },
  {
   "cell_type": "code",
   "execution_count": 24,
   "id": "backed-recovery",
   "metadata": {
    "collapsed": true,
    "scrolled": true
   },
   "outputs": [
    {
     "data": {
      "text/plain": [
       "420020"
      ]
     },
     "execution_count": 24,
     "metadata": {},
     "output_type": "execute_result"
    }
   ],
   "source": [
    "sum(np.unique(df_count['main_category']))"
   ]
  },
  {
   "cell_type": "markdown",
   "id": "handled-citizen",
   "metadata": {},
   "source": [
    "## Wizualizacja"
   ]
  },
  {
   "cell_type": "code",
   "execution_count": 25,
   "id": "differential-background",
   "metadata": {
    "collapsed": true,
    "scrolled": true
   },
   "outputs": [
    {
     "data": {
      "text/html": [
       "<div>\n",
       "<style scoped>\n",
       "    .dataframe tbody tr th:only-of-type {\n",
       "        vertical-align: middle;\n",
       "    }\n",
       "\n",
       "    .dataframe tbody tr th {\n",
       "        vertical-align: top;\n",
       "    }\n",
       "\n",
       "    .dataframe thead th {\n",
       "        text-align: right;\n",
       "    }\n",
       "</style>\n",
       "<table border=\"1\" class=\"dataframe\">\n",
       "  <thead>\n",
       "    <tr style=\"text-align: right;\">\n",
       "      <th></th>\n",
       "      <th>cnt</th>\n",
       "    </tr>\n",
       "  </thead>\n",
       "  <tbody>\n",
       "    <tr>\n",
       "      <th>0</th>\n",
       "      <td>14491</td>\n",
       "    </tr>\n",
       "    <tr>\n",
       "      <th>1</th>\n",
       "      <td>54257</td>\n",
       "    </tr>\n",
       "    <tr>\n",
       "      <th>2</th>\n",
       "      <td>91042</td>\n",
       "    </tr>\n",
       "    <tr>\n",
       "      <th>3</th>\n",
       "      <td>11572</td>\n",
       "    </tr>\n",
       "    <tr>\n",
       "      <th>4</th>\n",
       "      <td>54257</td>\n",
       "    </tr>\n",
       "    <tr>\n",
       "      <th>...</th>\n",
       "      <td>...</td>\n",
       "    </tr>\n",
       "    <tr>\n",
       "      <th>95</th>\n",
       "      <td>14491</td>\n",
       "    </tr>\n",
       "    <tr>\n",
       "      <th>96</th>\n",
       "      <td>54257</td>\n",
       "    </tr>\n",
       "    <tr>\n",
       "      <th>97</th>\n",
       "      <td>54257</td>\n",
       "    </tr>\n",
       "    <tr>\n",
       "      <th>98</th>\n",
       "      <td>28096</td>\n",
       "    </tr>\n",
       "    <tr>\n",
       "      <th>99</th>\n",
       "      <td>20341</td>\n",
       "    </tr>\n",
       "  </tbody>\n",
       "</table>\n",
       "<p>100 rows × 1 columns</p>\n",
       "</div>"
      ],
      "text/plain": [
       "      cnt\n",
       "0   14491\n",
       "1   54257\n",
       "2   91042\n",
       "3   11572\n",
       "4   54257\n",
       "..    ...\n",
       "95  14491\n",
       "96  54257\n",
       "97  54257\n",
       "98  28096\n",
       "99  20341\n",
       "\n",
       "[100 rows x 1 columns]"
      ]
     },
     "execution_count": 25,
     "metadata": {},
     "output_type": "execute_result"
    }
   ],
   "source": [
    "df_viz = pd.DataFrame({'cat':df_cat.main_category[:100]})\n",
    "df_viz2 = pd.DataFrame({'cnt': df_count.main_category[:100]})\n",
    "df_viz3 = df_onehot[:100]\n",
    "df_viz2"
   ]
  },
  {
   "cell_type": "code",
   "execution_count": 26,
   "id": "modular-cooking",
   "metadata": {
    "collapsed": true,
    "scrolled": true
   },
   "outputs": [
    {
     "data": {
      "image/png": "[encoded data removed]",
      "text/plain": [
       "<Figure size 1296x432 with 3 Axes>"
      ]
     },
     "metadata": {
      "needs_background": "light"
     },
     "output_type": "display_data"
    }
   ],
   "source": [
    "\n",
    "fig, axs = plt.subplots(1,3, figsize=(18,6))\n",
    "axs[1].scatter(x=df_viz.index, y=df_viz.cat)\n",
    "axs[2].scatter(x=df_viz2.index, y=np.log(df_viz2.cnt))\n",
    "axs[0].scatter(x=df_viz3.index, y=df['main_category'][:100])\n",
    "titles = ['OneHot', 'CatBoost', 'Count']\n",
    "for i in range(0,3):\n",
    "    axs[i].title.set_text('Wykres ' + titles[i])"
   ]
  },
  {
   "cell_type": "markdown",
   "id": "medical-thunder",
   "metadata": {},
   "source": [
    "## Uzupełnianie braków "
   ]
  },
  {
   "cell_type": "code",
   "execution_count": 27,
   "id": "patient-assistant",
   "metadata": {
    "collapsed": true,
    "scrolled": true
   },
   "outputs": [],
   "source": [
    "from sklearn.experimental import enable_iterative_imputer \n",
    "from sklearn.impute import IterativeImputer \n",
    "from sklearn.metrics import mean_squared_error"
   ]
  },
  {
   "cell_type": "code",
   "execution_count": 28,
   "id": "motivated-round",
   "metadata": {
    "collapsed": true,
    "scrolled": true
   },
   "outputs": [],
   "source": [
    "cols_n = ['price', 'it_seller_rating', 'it_quantity']\n",
    "df_miss = df[cols_n].copy(deep=True)"
   ]
  },
  {
   "cell_type": "code",
   "execution_count": 29,
   "id": "agricultural-norfolk",
   "metadata": {
    "collapsed": true,
    "scrolled": true
   },
   "outputs": [],
   "source": [
    "ls_os = 10*[0]\n",
    "amound = round(df.shape[0]/10)\n",
    "for i in range(0,10):\n",
    "    df_rate = df_miss.copy(deep=True)\n",
    "    rand_index = np.random.choice(df_rate.index, amound, False)\n",
    "    df_rate['it_seller_rating'][rand_index] = None\n",
    "\n",
    "    imp = IterativeImputer(max_iter= 10, random_state= 0)\n",
    "    imp.fit(df_rate.drop(rand_index))\n",
    "    df_rate = imp.transform(df_rate)\n",
    "    df_rate = pd.DataFrame(df_rate, columns=cols_n)\n",
    "\n",
    "    ls_os[i] = np.sqrt(mean_squared_error(df_miss['it_seller_rating'][rand_index], df_rate['it_seller_rating'][rand_index]))"
   ]
  },
  {
   "cell_type": "code",
   "execution_count": 30,
   "id": "fresh-exclusive",
   "metadata": {
    "collapsed": true,
    "scrolled": true
   },
   "outputs": [],
   "source": [
    "imp1 = np.std(ls_os)"
   ]
  },
  {
   "cell_type": "code",
   "execution_count": 31,
   "id": "front-powder",
   "metadata": {
    "collapsed": true,
    "scrolled": true
   },
   "outputs": [
    {
     "data": {
      "text/plain": [
       "[36774.2956866823,\n",
       " 36522.7129839732,\n",
       " 37159.935546010165,\n",
       " 36616.17337858048,\n",
       " 36538.42097662444,\n",
       " 36660.55290145212,\n",
       " 37495.79844188589,\n",
       " 36001.086688433694,\n",
       " 37011.085642321035,\n",
       " 36661.58487479926]"
      ]
     },
     "execution_count": 31,
     "metadata": {},
     "output_type": "execute_result"
    }
   ],
   "source": [
    "ls_os"
   ]
  },
  {
   "cell_type": "code",
   "execution_count": 32,
   "id": "flexible-victor",
   "metadata": {
    "collapsed": true,
    "scrolled": true
   },
   "outputs": [],
   "source": [
    "ls_os_r = 10*[0]\n",
    "ls_os_q = 10*[0]\n",
    "amound = round(df.shape[0]/10)\n",
    "for i in range(0,10):\n",
    "    df_rate = df_miss.copy(deep=True)\n",
    "    rand_index1 = np.random.choice(df_rate.index, amound, False)\n",
    "    rand_index2 = np.random.choice(df_rate.index, amound, False)\n",
    "    df_rate['it_seller_rating'][rand_index1] = None\n",
    "    df_rate['it_quantity'][rand_index2] = None\n",
    "\n",
    "    imp = IterativeImputer(max_iter= 10, random_state= 0)\n",
    "    imp.fit(df_rate.drop(rand_index))\n",
    "    df_rate = imp.transform(df_rate)\n",
    "    df_rate = pd.DataFrame(df_rate, columns=cols_n)\n",
    "\n",
    "    ls_os_r[i] = np.sqrt(mean_squared_error(df_rate['it_seller_rating'][rand_index1], df_miss['it_seller_rating'][rand_index1]))\n",
    "    ls_os_q[i] = np.sqrt(mean_squared_error(df_rate['it_quantity'][rand_index2], df_miss['it_quantity'][rand_index2]))"
   ]
  },
  {
   "cell_type": "code",
   "execution_count": 33,
   "id": "cross-departure",
   "metadata": {
    "collapsed": true,
    "scrolled": true
   },
   "outputs": [],
   "source": [
    "imp2 = np.std(ls_os_r)"
   ]
  },
  {
   "cell_type": "markdown",
   "id": "pursuant-florist",
   "metadata": {},
   "source": [
    "## Wizualizacja błędu\n",
    "Widać, że błąd imputacji zmiennej *it_seller_rating* nie zależał od tego czy brakowało również *it_quantity*. Jest to dość nieintuicyjne ponieważ można było podejrzewać, że barki w danych z innej kolumny będą pociągały za sobą większą rozbieżność danych imputowanych. Najwidzoczniej nasza metoda imputacji nie korzysta z innych kolumn.\n",
    "Warto, też pamiętać, że przy braku danych w *it_quality* szum baraku danych w naszym ogólnym modelu będzie większy."
   ]
  },
  {
   "cell_type": "code",
   "execution_count": 47,
   "id": "attended-reset",
   "metadata": {
    "collapsed": true,
    "scrolled": true
   },
   "outputs": [
    {
     "name": "stdout",
     "output_type": "stream",
     "text": [
      "Odchylenie standardowe zmiennej it_selller_rating: 385.18849364949756\n",
      "Imputacja braków zmiennych wspólnie: \n",
      "Odchylenie standardowe zmiennej it_selller_rating: 300.7340783588597\n",
      "Odchylenie standardowe zmiennej it_selller_rating: 237.99758409663664\n"
     ]
    },
    {
     "data": {
      "image/png": "[encoded data removed]",
      "text/plain": [
       "<Figure size 432x288 with 1 Axes>"
      ]
     },
     "metadata": {
      "needs_background": "light"
     },
     "output_type": "display_data"
    }
   ],
   "source": [
    "\n",
    "data =[ls_os, ls_os_r, ls_os_q]\n",
    "sns.lineplot(data = ls_os, markers=True)\n",
    "sns.lineplot(data = ls_os_r, markers=True, dashes=False)\n",
    "sns.lineplot(data = ls_os_q, markers=True, dashes=False)\n",
    "plt.legend(['Błąd zmiennej it_seller_rating','Błąd zmiennej it_seller_rating 2','Błąd zmiennej it_quantity 2'])\n",
    "\n",
    "print('Odchylenie standardowe zmiennej it_selller_rating: ' + str(np.std(ls_os)))\n",
    "print('Imputacja braków zmiennych wspólnie: ')\n",
    "print('Odchylenie standardowe zmiennej it_selller_rating: ' + str(np.std(ls_os_r)))\n",
    "print('Odchylenie standardowe zmiennej it_selller_rating: ' + str(np.std(ls_os_q)))"
   ]
  },
  {
   "cell_type": "code",
   "execution_count": null,
   "id": "dental-portable",
   "metadata": {
    "scrolled": true
   },
   "outputs": [],
   "source": []
  }
 ],
 "metadata": {
  "celltoolbar": "Attachments",
  "kernelspec": {
   "display_name": "Python 3",
   "language": "python",
   "name": "python3"
  },
  "language_info": {
   "codemirror_mode": {
    "name": "ipython",
    "version": 3
   },
   "file_extension": ".py",
   "mimetype": "text/x-python",
   "name": "python",
   "nbconvert_exporter": "python",
   "pygments_lexer": "ipython3",
   "version": "3.8.8"
  }
 },
 "nbformat": 4,
 "nbformat_minor": 5
}
