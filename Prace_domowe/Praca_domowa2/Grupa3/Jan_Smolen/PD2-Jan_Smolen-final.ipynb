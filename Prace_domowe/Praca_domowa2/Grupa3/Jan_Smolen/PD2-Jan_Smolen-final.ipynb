{
 "cells": [
  {
   "cell_type": "markdown",
   "metadata": {},
   "source": [
    "# Jan Smoleń PD2"
   ]
  },
  {
   "cell_type": "code",
   "execution_count": null,
   "metadata": {},
   "outputs": [],
   "source": [
    "import pandas as pd \n",
    "import numpy as np\n",
    "from matplotlib import pyplot as plt\n",
    "import seaborn as sns\n",
    "import sklearn\n",
    "import category_encoders as ce\n",
    "import sklearn.metrics as metrics\n",
    "import statistics\n"
   ]
  },
  {
   "cell_type": "code",
   "execution_count": null,
   "metadata": {},
   "outputs": [],
   "source": [
    "df=pd.read_csv(\"allegro-api-transactions.csv\")"
   ]
  },
  {
   "cell_type": "markdown",
   "metadata": {},
   "source": [
    "## Kodowanie zmiennych kategorycznych\n",
    "### Target Encoding"
   ]
  },
  {
   "cell_type": "code",
   "execution_count": null,
   "metadata": {},
   "outputs": [],
   "source": [
    "encoder=ce.TargetEncoder()\n",
    "df_target=df.copy()\n",
    "df_target['it_location_encoded'] = encoder.fit_transform(df['it_location'], df['price'])\n",
    "fig, axs= plt.subplots(ncols=2, figsize=(16, 8))\n",
    "sns.distplot(df_target['price'], ax=axs[0]).set_title(\"price\")\n",
    "sns.distplot(df_target['it_location_encoded'], ax=axs[1]).set_title(\"it_location_encoded\")\n"
   ]
  },
  {
   "cell_type": "code",
   "execution_count": null,
   "metadata": {},
   "outputs": [],
   "source": [
    "df_target.head()  #podgląd ramki danych źle sie konwertuje do PDFa"
   ]
  },
  {
   "cell_type": "markdown",
   "metadata": {},
   "source": [
    "### One Hot Encoding"
   ]
  },
  {
   "cell_type": "code",
   "execution_count": null,
   "metadata": {},
   "outputs": [],
   "source": [
    "encoder=ce.OneHotEncoder()\n",
    "enc_df = pd.DataFrame(encoder.fit_transform(df[['main_category']]))\n",
    "enc_df=df.join(enc_df).drop(\"main_category\", axis=1)\n",
    "arr=[]\n",
    "r1=[]\n",
    "for i in range(1, 28):\n",
    "    r1.append(i)\n",
    "    tmp=\"main_category_\"+str(i)\n",
    "    arr.append(sum(enc_df[tmp]))\n",
    "plt.figure(figsize=(8,6))\n",
    "plt.bar(r1, arr, label=\"sum of values in columns main_category_x\")\n",
    "plt.legend()"
   ]
  },
  {
   "cell_type": "code",
   "execution_count": null,
   "metadata": {},
   "outputs": [],
   "source": [
    "enc_df.head() #podgląd ramki danych źle sie konwertuje do PDFa"
   ]
  },
  {
   "cell_type": "markdown",
   "metadata": {},
   "source": [
    "### Target Encoding vs One Hot Encoding\n",
    "Dużą zaletą target encoding jest możliwość zakodowania zmiennych kategorycznych bez potrzeby dodawania wielu dodatkowych kolumn. Wadą za to jest fakt, że używając target encoding możemy narazić się na overfitting - jest ono bardzo zależne od naszych danych."
   ]
  },
  {
   "cell_type": "markdown",
   "metadata": {},
   "source": [
    "### Binary Encoding"
   ]
  },
  {
   "cell_type": "code",
   "execution_count": null,
   "metadata": {},
   "outputs": [],
   "source": [
    "encoder=ce.BinaryEncoder()\n",
    "enc_df = pd.DataFrame(encoder.fit_transform(df[['main_category']]))\n",
    "enc_df=df.join(enc_df).drop(\"main_category\", axis=1)\n",
    "arr=[]\n",
    "r1=[]\n",
    "for i in range(6):\n",
    "    r1.append(i)\n",
    "    tmp=\"main_category_\"+str(i)\n",
    "    arr.append(sum(enc_df[tmp]))\n",
    "plt.figure(figsize=(8,6))\n",
    "plt.bar(r1, arr, label=\"sum of values in columns main_category_x\")\n",
    "plt.legend()"
   ]
  },
  {
   "cell_type": "code",
   "execution_count": null,
   "metadata": {},
   "outputs": [],
   "source": [
    "enc_df.head() #podgląd ramki danych źle sie konwertuje do PDFa"
   ]
  },
  {
   "cell_type": "markdown",
   "metadata": {},
   "source": [
    "### Base N Encoding "
   ]
  },
  {
   "cell_type": "code",
   "execution_count": null,
   "metadata": {},
   "outputs": [],
   "source": [
    "encoder=ce.BaseNEncoder(base=5)\n",
    "enc_df = pd.DataFrame(encoder.fit_transform(df[['main_category']]))\n",
    "enc_df=df.join(enc_df).drop(\"main_category\", axis=1)\n",
    "arr=[]\n",
    "r1=[]\n",
    "for i in range(4):\n",
    "    r1.append(i)\n",
    "    tmp=\"main_category_\"+str(i)\n",
    "    arr.append(sum(enc_df[tmp]))\n",
    "plt.figure(figsize=(8,6))\n",
    "plt.bar(r1, arr, label=\"sum of values in columns main_category_x\")\n",
    "plt.legend()"
   ]
  },
  {
   "cell_type": "code",
   "execution_count": null,
   "metadata": {},
   "outputs": [],
   "source": [
    "enc_df.head() #podgląd ramki danych źle sie konwertuje do PDFa"
   ]
  },
  {
   "cell_type": "markdown",
   "metadata": {},
   "source": [
    "Base N Encoding jest zatem uogólnieniem Binary Encoding na kodowanie w systemie o dowolnej podstawie. Ich przewagą nad one hot encoding jest fakt, że możemy dodać mniejszą ilość kolumn. Wadą Base N Encoding jest natomiast to, że wartości w kolumnach mogą przyjmować wiele wartości, co może komplikować dalsze działanie. "
   ]
  },
  {
   "cell_type": "markdown",
   "metadata": {},
   "source": [
    "## Uzupełnianie brakujących danych\n",
    "### Nearest Neighbors Imputation"
   ]
  },
  {
   "cell_type": "code",
   "execution_count": null,
   "metadata": {},
   "outputs": [],
   "source": [
    "import numpy as np\n",
    "from sklearn.impute import KNNImputer\n",
    "df2=df[['price', 'it_seller_rating', 'it_quantity']].head(1000)\n",
    "arr1=[]\n",
    "arr2=[]\n",
    "imputer = KNNImputer(n_neighbors=2, weights=\"uniform\")\n",
    "for i in range(10):\n",
    "    dfl=df2.copy()\n",
    "    dfl.loc[dfl['it_seller_rating'].sample(frac=0.1, random_state=i).index, \"it_seller_rating\"] = np.nan\n",
    "    dfl=pd.DataFrame(imputer.fit_transform(dfl), columns=dfl.columns)\n",
    "    arr1.append(metrics.mean_squared_error(df2[\"it_seller_rating\"], dfl[\"it_seller_rating\"], squared=False))\n",
    "    dfl=df2.copy()\n",
    "    dfl.loc[dfl['it_seller_rating'].sample(frac=0.1, random_state=i).index, \"it_seller_rating\"] = np.nan\n",
    "    dfl.loc[dfl['it_quantity'].sample(frac=0.1, random_state=i).index, \"it_quantity\"] = np.nan\n",
    "    dfl=pd.DataFrame(imputer.fit_transform(dfl), columns=dfl.columns)\n",
    "    arr2.append(metrics.mean_squared_error(df2[\"it_seller_rating\"], dfl[\"it_seller_rating\"], squared=False))"
   ]
  },
  {
   "cell_type": "code",
   "execution_count": null,
   "metadata": {},
   "outputs": [],
   "source": [
    "statistics.stdev(arr1)"
   ]
  },
  {
   "cell_type": "code",
   "execution_count": null,
   "metadata": {},
   "outputs": [],
   "source": [
    "statistics.stdev(arr2)"
   ]
  },
  {
   "cell_type": "code",
   "execution_count": null,
   "metadata": {},
   "outputs": [],
   "source": [
    "\n",
    "plt.figure(figsize=(12,10))\n",
    "barWidth = 0.25\n",
    "r1 = np.arange(len(arr1))\n",
    "r2 = [x + barWidth for x in r1]\n",
    "plt.bar(r1, arr1, color='blue', width=barWidth, edgecolor='white', label='it_seller_rating missing')\n",
    "plt.bar(r2, arr2, color='green', width=barWidth, edgecolor='white', label='it_seller_rating and it_quantity missing')\n",
    "plt.legend()\n",
    "plt.ylabel(\"RMSE\")\n",
    "plt.xlabel(\"experiment no.\")"
   ]
  },
  {
   "cell_type": "markdown",
   "metadata": {},
   "source": [
    "Zgodnie z oczekiwaniami, usunięcie wartości w innej kolumnie wpywa negatywnie na dokładność naszego przybliżenia - naszemu algorytmowi brakuje danych żeby znaleźć najbliższych sąsiadów, których używamy do obliczania brakujących wartości."
   ]
  },
  {
   "cell_type": "code",
   "execution_count": null,
   "metadata": {},
   "outputs": [],
   "source": []
  }
 ],
 "metadata": {
  "kernelspec": {
   "display_name": "Python 3",
   "language": "python",
   "name": "python3"
  },
  "language_info": {
   "codemirror_mode": {
    "name": "ipython",
    "version": 3
   },
   "file_extension": ".py",
   "mimetype": "text/x-python",
   "name": "python",
   "nbconvert_exporter": "python",
   "pygments_lexer": "ipython3",
   "version": "3.8.5"
  }
 },
 "nbformat": 4,
 "nbformat_minor": 4
}
