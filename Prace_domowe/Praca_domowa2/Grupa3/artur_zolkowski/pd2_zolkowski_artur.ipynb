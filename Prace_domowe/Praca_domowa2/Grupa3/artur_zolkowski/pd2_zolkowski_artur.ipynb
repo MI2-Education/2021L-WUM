{
 "cells": [
  {
   "cell_type": "code",
   "execution_count": null,
   "metadata": {},
   "outputs": [],
   "source": [
    "import matplotlib.pyplot as plt\n",
    "import numpy as np\n",
    "import pandas as pd\n",
    "import seaborn as sns\n",
    "\n",
    "from category_encoders import TargetEncoder, OneHotEncoder, BinaryEncoder, CountEncoder\n",
    "from sklearn.impute import KNNImputer\n",
    "from sklearn.metrics import mean_squared_error\n",
    "import random"
   ]
  },
  {
   "cell_type": "code",
   "execution_count": null,
   "metadata": {},
   "outputs": [],
   "source": [
    "df = pd.read_csv('https://www.dropbox.com/s/360xhh2d9lnaek3/allegro-api-transactions.csv?dl=1')\n",
    "df.head(10)"
   ]
  },
  {
   "cell_type": "markdown",
   "metadata": {},
   "source": [
    "Patrząc na kilka pierwszych rekordów z wczytanej ramki danych, możemy zauważyć, że wielkość liter w nazwach lokacji jest różna. Ujednolićmy więc dane nazwy zmieniając ich pisownię na wielkie litery."
   ]
  },
  {
   "cell_type": "code",
   "execution_count": null,
   "metadata": {},
   "outputs": [],
   "source": [
    "df[[\"it_location\"]] = df[[\"it_location\"]].apply(lambda x: x.str.upper())"
   ]
  },
  {
   "cell_type": "markdown",
   "metadata": {},
   "source": [
    "## 1. Kodowanie zmiennych kategorycznych"
   ]
  },
  {
   "cell_type": "markdown",
   "metadata": {},
   "source": [
    "### Target encoding"
   ]
  },
  {
   "cell_type": "code",
   "execution_count": null,
   "metadata": {},
   "outputs": [],
   "source": [
    "df_target_encoding = df.copy()\n",
    "df_target_encoding[[\"it_location\"]].describe()"
   ]
  },
  {
   "cell_type": "code",
   "execution_count": null,
   "metadata": {},
   "outputs": [],
   "source": [
    "encoder = TargetEncoder()\n",
    "df_target_encoding[\"it_location_target_encoded\"] = encoder.fit_transform(\n",
    "    df_target_encoding[\"it_location\"], df_target_encoding[\"price\"])\n",
    "df_target_encoding[[\"it_location_target_encoded\"]].describe()"
   ]
  },
  {
   "cell_type": "code",
   "execution_count": null,
   "metadata": {},
   "outputs": [],
   "source": [
    "len(df_target_encoding[[\"it_location_target_encoded\"]].value_counts())"
   ]
  },
  {
   "cell_type": "markdown",
   "metadata": {},
   "source": [
    "Możemy zauważyć, że zmienna it_location przyjmuje aż 7903 róznych wartości. Przy zastosowaniu one hot encodingu wynikowa ramka danych miałaby 7903 nowych kolumn, co zdecydowanie nie byłoby dobrym wyjściem. Możemy zauważyć, że po zastosowaniu target encodingu liczba unikatowych wartości zmniejszyła się do 5140 (w wynikowej, zakodowanej kolumnie).\n",
    "\n",
    "Wartości w nowo powstałej kolumnie są wyliczoną średnią wartością zmiennej docelowej cechy dla każdej z kategorii.\n",
    "\n",
    "Target encoding jednak może prowadzić do przeuczenia modelu (jest powiązany ze zmienną objaśnialną). Wprowadza także możliwość porównywania zakodowanych w ten sposób kategorii, co w naszym przypadku wydaje się nie mieć dużego sensu."
   ]
  },
  {
   "cell_type": "markdown",
   "metadata": {},
   "source": [
    "#### Kodowanie main_category"
   ]
  },
  {
   "cell_type": "code",
   "execution_count": null,
   "metadata": {},
   "outputs": [],
   "source": [
    "df[['main_category']].describe()"
   ]
  },
  {
   "cell_type": "markdown",
   "metadata": {},
   "source": [
    "##### One Hot Encoder"
   ]
  },
  {
   "cell_type": "code",
   "execution_count": null,
   "metadata": {},
   "outputs": [],
   "source": [
    "oh_encoder = OneHotEncoder(use_cat_names=True).fit_transform(df[\"main_category\"])\n",
    "oh_encoder.head()"
   ]
  },
  {
   "cell_type": "markdown",
   "metadata": {},
   "source": [
    "Powstało 27 nowych kolumn, każda dla unikalnej wartości zmiennej main_category. "
   ]
  },
  {
   "cell_type": "markdown",
   "metadata": {},
   "source": [
    "##### Count Encoder"
   ]
  },
  {
   "cell_type": "code",
   "execution_count": null,
   "metadata": {},
   "outputs": [],
   "source": [
    "count_encoder = CountEncoder().fit_transform(df[\"main_category\"])\n",
    "count_encoder.head()"
   ]
  },
  {
   "cell_type": "markdown",
   "metadata": {},
   "source": [
    "Kodowanie count encoder tworzy nam jedną kolumnę, gdzie dla każdej obserwacji przypisana jest liczba produktów z odpowiadającej kategorii. "
   ]
  },
  {
   "cell_type": "markdown",
   "metadata": {},
   "source": [
    "##### Binary Encoder"
   ]
  },
  {
   "cell_type": "code",
   "execution_count": null,
   "metadata": {},
   "outputs": [],
   "source": [
    "binary_encoder = BinaryEncoder().fit_transform(df[\"main_category\"])\n",
    "binary_encoder.head()"
   ]
  },
  {
   "cell_type": "markdown",
   "metadata": {},
   "source": [
    "Kodowanie binarne jest bardzo podobne do One Hote'a, ale przechowuje kategorie w postaci binarnych bitstringów."
   ]
  },
  {
   "cell_type": "markdown",
   "metadata": {},
   "source": [
    "## 2. Uzupełnianie braków"
   ]
  },
  {
   "cell_type": "code",
   "execution_count": null,
   "metadata": {},
   "outputs": [],
   "source": [
    "df2 = df[['price','it_seller_rating','it_quantity']].copy()\n",
    "df2 = df2.sample(frac=0.1)\n",
    "df2.head()"
   ]
  },
  {
   "cell_type": "code",
   "execution_count": null,
   "metadata": {},
   "outputs": [],
   "source": [
    "rmse_errors = []\n",
    "\n",
    "for i in range(10):\n",
    "    df2_1 = df2.copy()\n",
    "    remove_index = df2_1.sample(frac=0.1).index\n",
    "    df2_1.loc[remove_index, 'it_seller_rating'] = None\n",
    "    df2_1 = pd.DataFrame(KNNImputer(weights='uniform', n_neighbors=5).fit_transform(df2_1), columns=df2_1.columns)\n",
    "    error = np.sqrt(mean_squared_error(df2[\"it_seller_rating\"], df2_1[\"it_seller_rating\"]))\n",
    "    rmse_errors.append(error)\n",
    "    print(error)\n",
    "    "
   ]
  },
  {
   "cell_type": "code",
   "execution_count": null,
   "metadata": {},
   "outputs": [],
   "source": [
    "np.std(rmse_errors)"
   ]
  },
  {
   "cell_type": "code",
   "execution_count": null,
   "metadata": {},
   "outputs": [],
   "source": [
    "rmse_errors1 = []\n",
    "rmse_errors2 = []\n",
    "\n",
    "for i in range(10):\n",
    "    df2_2 = df2.copy()\n",
    "    remove_index1 = df2_2.sample(frac=0.1).index\n",
    "    remove_index2 = df2_2.sample(frac=0.1).index\n",
    "    \n",
    "    df2_2.loc[remove_index1, 'it_seller_rating'] = None\n",
    "    df2_2.loc[remove_index2, 'it_quantity'] = None\n",
    "    \n",
    "    df2_2 = pd.DataFrame(KNNImputer(weights='uniform', n_neighbors=5).fit_transform(df2_2), columns=df2_2.columns)\n",
    "    error1 = np.sqrt(mean_squared_error(df2[\"it_seller_rating\"], df2_2[\"it_seller_rating\"]))\n",
    "    error2 = np.sqrt(mean_squared_error(df2[\"it_quantity\"], df2_2[\"it_quantity\"]))\n",
    "    \n",
    "    rmse_errors1.append(error1)\n",
    "    rmse_errors2.append(error2)\n",
    "    print(\"RMSE it_seller_rating - \", error1)\n",
    "    print(\"RMSE it_quantity - \", error2)"
   ]
  },
  {
   "cell_type": "code",
   "execution_count": null,
   "metadata": {},
   "outputs": [],
   "source": [
    "print(\"RMSE it_seller_rating std - \",np.std(rmse_errors1))\n",
    "print(\"RMSE it_quantity std - \",np.std(rmse_errors2))"
   ]
  },
  {
   "cell_type": "code",
   "execution_count": null,
   "metadata": {},
   "outputs": [],
   "source": [
    "plt.plot(range(1,11), rmse_errors, range(1,11), rmse_errors1)\n",
    "plt.legend(['Usunięcie it_seller_rating', 'Usunięcie obu kolumn'])"
   ]
  },
  {
   "cell_type": "code",
   "execution_count": null,
   "metadata": {},
   "outputs": [],
   "source": [
    "plotdf = pd.DataFrame({\"1\": rmse_errors, \"2\":rmse_errors1})\n",
    "fig, ax = plt.subplots(figsize=(12,8))\n",
    "sns.boxplot(data=plotdf)"
   ]
  },
  {
   "cell_type": "markdown",
   "metadata": {},
   "source": [
    "Na wykresach możemy zaobserwować, że przy usunięciu danych z dwóch kolumn imputacja będzie obarczona większym błędem, choć nadal losowość w doborze usuwanych danych może powodować pewne odstępstwa.   "
   ]
  }
 ],
 "metadata": {
  "kernelspec": {
   "display_name": "Python 3",
   "language": "python",
   "name": "python3"
  },
  "language_info": {
   "codemirror_mode": {
    "name": "ipython",
    "version": 3
   },
   "file_extension": ".py",
   "mimetype": "text/x-python",
   "name": "python",
   "nbconvert_exporter": "python",
   "pygments_lexer": "ipython3",
   "version": "3.9.0"
  }
 },
 "nbformat": 4,
 "nbformat_minor": 4
}
