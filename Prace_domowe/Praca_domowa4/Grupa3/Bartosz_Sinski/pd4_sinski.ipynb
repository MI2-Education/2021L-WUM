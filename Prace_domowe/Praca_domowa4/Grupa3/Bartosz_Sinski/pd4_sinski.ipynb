{
 "cells": [
  {
   "cell_type": "markdown",
   "id": "checked-lighting",
   "metadata": {},
   "source": [
    "# Praca domowa 4\n",
    "Bartosz Siński"
   ]
  },
  {
   "cell_type": "code",
   "execution_count": null,
   "id": "interracial-sugar",
   "metadata": {},
   "outputs": [],
   "source": [
    "import dalex \n",
    "import pandas as pd\n",
    "import numpy as np\n",
    "np.set_seed = 42\n",
    "from sklearn.model_selection import train_test_split"
   ]
  },
  {
   "cell_type": "markdown",
   "id": "executed-calculator",
   "metadata": {},
   "source": [
    "### Zbiór apratments z DALEX\n",
    "Na zbiorze danych będziemy przewidywac cenę metra kwadratowego mieszkania, przy użyciu Epsilon-Support Vector Regression."
   ]
  },
  {
   "cell_type": "code",
   "execution_count": null,
   "id": "mighty-journalist",
   "metadata": {},
   "outputs": [],
   "source": [
    "df_apartments = dalex.datasets.load_apartments()\n",
    "df_apartments_test = dalex.datasets.load_apartments_test()"
   ]
  },
  {
   "cell_type": "code",
   "execution_count": null,
   "id": "short-permit",
   "metadata": {
    "scrolled": false
   },
   "outputs": [],
   "source": [
    "df_apartments"
   ]
  },
  {
   "cell_type": "code",
   "execution_count": null,
   "id": "incredible-december",
   "metadata": {},
   "outputs": [],
   "source": [
    "df_apartments = pd.get_dummies(df_apartments)\n",
    "df_apartments_test = pd.get_dummies(df_apartments_test)"
   ]
  },
  {
   "cell_type": "code",
   "execution_count": null,
   "id": "national-teddy",
   "metadata": {},
   "outputs": [],
   "source": [
    "X = df_apartments.drop('m2_price',axis=1)\n",
    "y = df_apartments[['m2_price']]\n",
    "X_test = df_apartments_test.drop('m2_price',axis=1)\n",
    "y_test = df_apartments_test[['m2_price']]\n",
    "X_train, X_val, y_train, y_val = train_test_split(X, y,random_state = 42)"
   ]
  },
  {
   "cell_type": "markdown",
   "id": "technological-visitor",
   "metadata": {},
   "source": [
    "### SVR z domyślnymi parametrami, standaryzacja i normalizacja danych"
   ]
  },
  {
   "cell_type": "code",
   "execution_count": null,
   "id": "fourth-composite",
   "metadata": {
    "scrolled": false
   },
   "outputs": [],
   "source": [
    "from sklearn.svm import SVR\n",
    "from sklearn.metrics import mean_squared_error\n",
    "first_regression = SVR(kernel=\"poly\",degree=5)\n",
    "first_regression.fit(X_train,y_train)\n",
    "mean_squared_error(first_regression.predict(X_val),y_val)"
   ]
  },
  {
   "cell_type": "markdown",
   "id": "harmful-excellence",
   "metadata": {},
   "source": [
    "Sprawdzimy czy standaryzacja poprawi wynik."
   ]
  },
  {
   "cell_type": "code",
   "execution_count": null,
   "id": "fixed-slovakia",
   "metadata": {},
   "outputs": [],
   "source": [
    "from sklearn import preprocessing\n",
    "scaler = preprocessing.StandardScaler().fit(X)\n",
    "scaler2 = preprocessing.StandardScaler().fit(X_test)\n",
    "X_scaled = scaler.transform(X)\n",
    "y_scaled = y\n",
    "X_test_scaled =scaler2.transform(X_test)\n",
    "y_test_scaled = y_test\n",
    "X_train_s, X_val_s, y_train_s, y_val_s = train_test_split(X_scaled, y_scaled,random_state = 42)"
   ]
  },
  {
   "cell_type": "code",
   "execution_count": null,
   "id": "focal-ranch",
   "metadata": {
    "scrolled": true
   },
   "outputs": [],
   "source": [
    "second_regression = SVR()\n",
    "second_regression.fit(X_train_s,y_train_s)\n",
    "mean_squared_error(first_regression.predict(X_val_s),y_val_s)"
   ]
  },
  {
   "cell_type": "markdown",
   "id": "complimentary-revolution",
   "metadata": {},
   "source": [
    "A następnie znormalizujmy nasze dane."
   ]
  },
  {
   "cell_type": "code",
   "execution_count": null,
   "id": "wireless-ground",
   "metadata": {},
   "outputs": [],
   "source": [
    "X_n = preprocessing.normalize(X,axis=0)\n",
    "y_n = y\n",
    "X_test_n = preprocessing.normalize(X_test,axis=0)\n",
    "y_test_n = y_test\n",
    "X_train_n, X_val_n, y_train_n, y_val_n = train_test_split(X_n, y_n,random_state = 42)"
   ]
  },
  {
   "cell_type": "code",
   "execution_count": null,
   "id": "warming-honolulu",
   "metadata": {},
   "outputs": [],
   "source": [
    "third_regression = SVR()\n",
    "third_regression.fit(X_train_n,y_train_n)\n",
    "mean_squared_error(third_regression.predict(X_val_n),y_val_n)"
   ]
  },
  {
   "cell_type": "markdown",
   "id": "muslim-field",
   "metadata": {},
   "source": [
    "### SVR z tuningiem hiperparametrów"
   ]
  },
  {
   "cell_type": "code",
   "execution_count": null,
   "id": "renewable-apparel",
   "metadata": {
    "scrolled": false
   },
   "outputs": [],
   "source": [
    "import warnings\n",
    "warnings.filterwarnings(\"ignore\")\n",
    "from sklearn.model_selection import RandomizedSearchCV\n",
    "fourth_regression = SVR()\n",
    "grid = { 'C' : [0.001,0.01,0.1,10,100,1000],\n",
    "              'kernel' : [\"rbf\"],\n",
    "              'gamma' : [0.0001,0.001,0.01,0.1,1,10,100,'auto','scale']\n",
    "}\n",
    "fourth_regression = RandomizedSearchCV(estimator = fourth_regression,param_distributions = grid, cv=5,n_iter=100, random_state=1613,verbose=1)\n",
    "fourth_regression.fit(X_train,y_train)\n",
    "mean_squared_error(third_regression.predict(X_val),y_val)"
   ]
  },
  {
   "cell_type": "code",
   "execution_count": null,
   "id": "short-indicator",
   "metadata": {},
   "outputs": [],
   "source": [
    "fourth_regression.best_params_"
   ]
  },
  {
   "cell_type": "markdown",
   "id": "minimal-collectible",
   "metadata": {},
   "source": [
    "Do trenowania modelu wykorzystaliśmy jedynie jądro gaussowskie, ponieważ inne jądra powodowały znaczące wydłużenie się czasu trenowania modelu."
   ]
  },
  {
   "cell_type": "markdown",
   "id": "atlantic-prediction",
   "metadata": {},
   "source": [
    "### Wyniki "
   ]
  },
  {
   "cell_type": "code",
   "execution_count": null,
   "id": "fewer-guinea",
   "metadata": {
    "scrolled": true
   },
   "outputs": [],
   "source": [
    "print(\"Base SVR: \" + str(mean_squared_error(first_regression.predict(X_test),y_test)))\n",
    "print(\"SVR ze standaryzacją zmiennych: \" + str(mean_squared_error(second_regression.predict(X_test_scaled),y_test_scaled)))\n",
    "print(\"SVR ze normalizacją zmiennych: \" + str(mean_squared_error(third_regression.predict(X_test_n),y_test_n)))\n",
    "print(\"SVR z tuningiem hiperparametrów: \" + str(mean_squared_error(fourth_regression.predict(X_test),y_test)))"
   ]
  },
  {
   "cell_type": "markdown",
   "id": "grateful-account",
   "metadata": {},
   "source": [
    "W tym przypadku ręczna standaryzacja poprawiła RMSE naszego wyniku lepiej niż normlalizacja. Tuning hiperparametrów także w znaczący sposób poprawił jakość predykcji naszego modelu, pomimo rozważania przez nas jedynie jądra gaussowskiego"
   ]
  },
  {
   "cell_type": "markdown",
   "id": "promising-gibraltar",
   "metadata": {},
   "source": [
    "### Wybrany przeze mnie zbiór danych - Mobile Price Classification\n",
    "Zbiór zawiera informacje o telefonach komórkowych, gdzie trzeba zaklasyfikować   telefon do danego zakresu cenowego. \n",
    "https://www.kaggle.com/iabhishekofficial/mobile-price-classification"
   ]
  },
  {
   "cell_type": "code",
   "execution_count": null,
   "id": "municipal-ground",
   "metadata": {},
   "outputs": [],
   "source": [
    "df_phones = pd.read_csv(\"./src/phones_train.csv\")"
   ]
  },
  {
   "cell_type": "code",
   "execution_count": null,
   "id": "peripheral-partition",
   "metadata": {
    "scrolled": false
   },
   "outputs": [],
   "source": [
    "df_phones"
   ]
  },
  {
   "cell_type": "code",
   "execution_count": null,
   "id": "emerging-eligibility",
   "metadata": {},
   "outputs": [],
   "source": [
    "X = df_phones.drop('price_range',axis=1)\n",
    "y = df_phones[['price_range']]\n",
    "X_train, X_test,y_train,y_test = train_test_split(X, y,random_state = 42)\n",
    "X_train, X_val, y_train, y_val = train_test_split(X_train, y_train,random_state = 42)"
   ]
  },
  {
   "cell_type": "markdown",
   "id": "fatal-publication",
   "metadata": {},
   "source": [
    "### Bazowy SVC, standaryzacja danych i normalizacja danych"
   ]
  },
  {
   "cell_type": "code",
   "execution_count": null,
   "id": "moved-insert",
   "metadata": {
    "scrolled": true
   },
   "outputs": [],
   "source": [
    "from sklearn.svm import SVC\n",
    "from sklearn.metrics import accuracy_score\n",
    "first_classification = SVC(random_state=42)\n",
    "first_classification.fit(X_train,y_train)\n",
    "accuracy_score(first_classifiaction.predict(X_val),y_val)"
   ]
  },
  {
   "cell_type": "markdown",
   "id": "successful-nylon",
   "metadata": {},
   "source": [
    "Następnie klasyfikacja z wcześniejsza standaryzacją danych."
   ]
  },
  {
   "cell_type": "code",
   "execution_count": null,
   "id": "buried-opposition",
   "metadata": {},
   "outputs": [],
   "source": [
    "X_scaled = preprocessing.StandardScaler().fit_transform(X)\n",
    "X_train_s, X_test_S,y_train_s,y_test_S = train_test_split(X_scaled, y,random_state = 42)\n",
    "X_train_s, X_val_s, y_train_s, y_val_s = train_test_split(X_train_s, y_train_s,random_state = 42)"
   ]
  },
  {
   "cell_type": "code",
   "execution_count": null,
   "id": "formal-jersey",
   "metadata": {},
   "outputs": [],
   "source": [
    "second_classification = SVC(random_state=42)\n",
    "second_classification.fit(X_train_s,y_train_s)\n",
    "accuracy_score(second_classification.predict(X_val_s),y_val_s)"
   ]
  },
  {
   "cell_type": "markdown",
   "id": "adolescent-remedy",
   "metadata": {},
   "source": [
    "I normalizacją."
   ]
  },
  {
   "cell_type": "code",
   "execution_count": null,
   "id": "strange-audio",
   "metadata": {},
   "outputs": [],
   "source": [
    "X_n = preprocessing.normalize(X,axis=0)\n",
    "X_train_n, X_test_n,y_train_n,y_test_n = train_test_split(X_n, y,random_state = 42)\n",
    "X_train_n, X_val_n, y_train_n, y_val_n = train_test_split(X_train_n, y_train_n,random_state = 42)"
   ]
  },
  {
   "cell_type": "code",
   "execution_count": null,
   "id": "interim-passenger",
   "metadata": {},
   "outputs": [],
   "source": [
    "third_classification = SVC(random_state=42)\n",
    "third_classification.fit(X_train_n,y_train_n)\n",
    "accuracy_score(third_classification.predict(X_val_n),y_val_n)"
   ]
  },
  {
   "cell_type": "code",
   "execution_count": null,
   "id": "agricultural-harbor",
   "metadata": {},
   "outputs": [],
   "source": [
    "pd.DataFrame(X_train_n)"
   ]
  },
  {
   "cell_type": "markdown",
   "id": "combined-munich",
   "metadata": {},
   "source": [
    "### SVC z tuningiem hiperparametrów"
   ]
  },
  {
   "cell_type": "code",
   "execution_count": null,
   "id": "beginning-preview",
   "metadata": {
    "scrolled": true
   },
   "outputs": [],
   "source": [
    "import warnings\n",
    "warnings.filterwarnings(\"ignore\")\n",
    "from sklearn.model_selection import RandomizedSearchCV\n",
    "fourth_classification = SVC(random_state=42)\n",
    "grid = { 'C' : [0.001,0.01,0.1,10,100,1000],\n",
    "              'kernel' : [\"rbf\",\"poly\"],\n",
    "              'gamma' : [0.0001,0.001,0.01,0.1,1,10,100,'auto','scale'],\n",
    "            'degree' : [1,2,3,4,5]\n",
    "}\n",
    "fourth_classification = RandomizedSearchCV(estimator = fourth_classification,param_distributions = grid, cv=5,n_iter=100, random_state=1613,verbose=1)\n",
    "fourth_classification.fit(X_train,y_train)\n",
    "accuracy_score(fourth_classification.predict(X_val),y_val)"
   ]
  },
  {
   "cell_type": "code",
   "execution_count": null,
   "id": "entertaining-difficulty",
   "metadata": {},
   "outputs": [],
   "source": [
    "fourth_classification.best_params_"
   ]
  },
  {
   "cell_type": "markdown",
   "id": "excellent-customer",
   "metadata": {},
   "source": [
    "Na zbiorze walidacyjnym widać, że nasz tuning, nie podniósł za bardzo accuracy naszego modelu. Może to być spowodowane bardzo mocnym rozstrzałem w wartościach dobieranych parametrów. Spróbujemy więc jeszcze raz z wartościami bliżej tych, które przed chwilą otrzymalismy."
   ]
  },
  {
   "cell_type": "code",
   "execution_count": null,
   "id": "worldwide-thailand",
   "metadata": {
    "scrolled": true
   },
   "outputs": [],
   "source": [
    "import warnings\n",
    "warnings.filterwarnings(\"ignore\")\n",
    "from sklearn.model_selection import RandomizedSearchCV\n",
    "fifth_classification = SVC(random_state=42)\n",
    "grid = { 'C' : [0.0001,0.0005,0.001,0.002,0.005,0.7,0.01],\n",
    "              'kernel' : [\"poly\"],\n",
    "              'gamma' : [0.00001,0.00005,0.0001,0.0002,0.0005,0.0007,0.001,'auto','scale'],\n",
    "            'degree' : [1,2,3]\n",
    "}\n",
    "fifth_classification = RandomizedSearchCV(estimator = fifth_classification,param_distributions = grid, cv=5,n_iter=100, random_state=1613,verbose=1)\n",
    "fifth_classification.fit(X_train,y_train)\n",
    "accuracy_score(fifth_classification.predict(X_val),y_val)"
   ]
  },
  {
   "cell_type": "code",
   "execution_count": null,
   "id": "arranged-blade",
   "metadata": {},
   "outputs": [],
   "source": [
    "fifth_classification.best_params_"
   ]
  },
  {
   "cell_type": "markdown",
   "id": "dominant-indiana",
   "metadata": {},
   "source": [
    "### Wyniki"
   ]
  },
  {
   "cell_type": "code",
   "execution_count": null,
   "id": "adjacent-trigger",
   "metadata": {
    "scrolled": true
   },
   "outputs": [],
   "source": [
    "print(\"Base SVC: \" + str(accuracy_score(first_classification.predict(X_test),y_test)))\n",
    "print(\"SVC ze standaryzacją zmiennych: \" + str(accuracy_score(second_classification.predict(X_test_S),y_test_S)))\n",
    "print(\"SVC ze normalizacją zmiennych: \" + str(accuracy_score(third_classification.predict(X_test_n),y_test_n)))\n",
    "print(\"SVC z tuningiem hiperparametrów: \" + str(accuracy_score(fourth_classification.predict(X_test),y_test)))\n",
    "print(\"SVC z tuningiem hiperparametrów++: \" + str(accuracy_score(fifth_classification.predict(X_test),y_test)))"
   ]
  },
  {
   "cell_type": "markdown",
   "id": "gross-rotation",
   "metadata": {},
   "source": [
    "Standaryzacja zdecydowanie obniżyła wynik accuracy naszego modelu. Może to być spowodowane istnieniem w naszych danych wielu zmiennych przyjmujących jedynie wartości 0 i 1, które są dalekie od rozkładu normlanego. Normalizacja zmiennych też obniżyła accuracy modelu. Z kolei pierwszy tuning hiperparametrów podniósł accuracy o 1,4%. Kolejny tuning z dokładniejszymi parametrami dodatkowo podniósł accuracy naszego modelu na zbiorze testowym."
   ]
  }
 ],
 "metadata": {
  "kernelspec": {
   "display_name": "Python 3",
   "language": "python",
   "name": "python3"
  },
  "language_info": {
   "codemirror_mode": {
    "name": "ipython",
    "version": 3
   },
   "file_extension": ".py",
   "mimetype": "text/x-python",
   "name": "python",
   "nbconvert_exporter": "python",
   "pygments_lexer": "ipython3",
   "version": "3.8.5"
  }
 },
 "nbformat": 4,
 "nbformat_minor": 5
}
