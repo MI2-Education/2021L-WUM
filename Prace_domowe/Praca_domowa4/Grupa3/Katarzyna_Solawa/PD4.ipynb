{
 "cells": [
  {
   "cell_type": "code",
   "execution_count": null,
   "id": "committed-anaheim",
   "metadata": {},
   "outputs": [],
   "source": [
    "import pandas as pd\n",
    "import numpy as np\n",
    "import matplotlib.pyplot as plt\n",
    "import seaborn as sns\n",
    "\n",
    "from sklearn.preprocessing import OneHotEncoder\n",
    "from sklearn.svm import SVR\n",
    "import dalex.datasets\n",
    "from sklearn.metrics import mean_squared_error\n",
    "from sklearn.model_selection import RandomizedSearchCV\n",
    "from sklearn.pipeline import Pipeline"
   ]
  },
  {
   "cell_type": "markdown",
   "id": "sealed-reading",
   "metadata": {},
   "source": [
    "# Apartments"
   ]
  },
  {
   "cell_type": "code",
   "execution_count": null,
   "id": "encouraging-clone",
   "metadata": {},
   "outputs": [],
   "source": [
    "df_apartments = dalex.datasets.load_apartments()"
   ]
  },
  {
   "cell_type": "code",
   "execution_count": null,
   "id": "million-former",
   "metadata": {},
   "outputs": [],
   "source": [
    "df_apartments.head()"
   ]
  },
  {
   "cell_type": "code",
   "execution_count": null,
   "id": "ceramic-restoration",
   "metadata": {},
   "outputs": [],
   "source": [
    "df_apartments_onehot = df_apartments.copy()\n",
    "df_apartments_onehot = pd.get_dummies(df_apartments_onehot, columns=['district'], prefix = ['district'])"
   ]
  },
  {
   "cell_type": "code",
   "execution_count": null,
   "id": "german-tourist",
   "metadata": {},
   "outputs": [],
   "source": [
    "df_apartments_onehot.head()"
   ]
  },
  {
   "cell_type": "markdown",
   "id": "other-sharp",
   "metadata": {},
   "source": [
    "# Forest fires - Predict the burned area of forest fires\n"
   ]
  },
  {
   "cell_type": "code",
   "execution_count": null,
   "id": "chronic-documentary",
   "metadata": {},
   "outputs": [],
   "source": [
    "forest_fires  = pd.read_csv(\"forest_fires_dataset.csv\")\n",
    "forest_fires.head()"
   ]
  },
  {
   "cell_type": "code",
   "execution_count": null,
   "id": "buried-hughes",
   "metadata": {},
   "outputs": [],
   "source": [
    "forest_fires_onehot = forest_fires.copy()\n",
    "forest_fires_onehot = pd.get_dummies(forest_fires_onehot, columns=['month', 'day'], prefix = ['month', 'day'])"
   ]
  },
  {
   "cell_type": "code",
   "execution_count": null,
   "id": "intermediate-public",
   "metadata": {},
   "outputs": [],
   "source": [
    "forest_fires_onehot.head()"
   ]
  },
  {
   "cell_type": "markdown",
   "id": "patent-hotel",
   "metadata": {},
   "source": [
    "# SVM\n",
    "## Apartments"
   ]
  },
  {
   "cell_type": "code",
   "execution_count": null,
   "id": "antique-relay",
   "metadata": {},
   "outputs": [],
   "source": [
    "X_train, X_test, y_train, y_test = train_test_split(\n",
    "    df_apartments_onehot.drop(columns=['m2_price']),\n",
    "    df_apartments_onehot['m2_price'], \n",
    "    test_size=0.33, random_state=42)\n"
   ]
  },
  {
   "cell_type": "code",
   "execution_count": null,
   "id": "flush-devices",
   "metadata": {},
   "outputs": [],
   "source": [
    "model_svr = SVR()\n",
    "model_svr.fit(X_train, y_train)"
   ]
  },
  {
   "cell_type": "code",
   "execution_count": null,
   "id": "optical-diving",
   "metadata": {},
   "outputs": [],
   "source": [
    "y_test_hat = model_svr.predict(X_test)\n",
    "print(f'RMSE : {np.sqrt(mean_squared_error(y_test, y_test_hat)):.3f}')"
   ]
  },
  {
   "cell_type": "markdown",
   "id": "confident-allergy",
   "metadata": {},
   "source": [
    "## Forest fires"
   ]
  },
  {
   "cell_type": "code",
   "execution_count": null,
   "id": "jewish-audio",
   "metadata": {},
   "outputs": [],
   "source": [
    "X_train, X_test, y_train, y_test = train_test_split(\n",
    "    forest_fires_onehot.drop(columns=['area']),\n",
    "    forest_fires_onehot['area'], \n",
    "    test_size=0.33, random_state=42)\n"
   ]
  },
  {
   "cell_type": "code",
   "execution_count": null,
   "id": "circular-handy",
   "metadata": {},
   "outputs": [],
   "source": [
    "model_svr = SVR()\n",
    "model_svr.fit(X_train, y_train)"
   ]
  },
  {
   "cell_type": "code",
   "execution_count": null,
   "id": "brazilian-lafayette",
   "metadata": {},
   "outputs": [],
   "source": [
    "y_test_hat = pipe_transformer.predict(X_test)\n",
    "print(f'RMSE : {np.sqrt(mean_squared_error(y_test, y_test_hat)):.3f}')"
   ]
  },
  {
   "cell_type": "markdown",
   "id": "micro-pipeline",
   "metadata": {},
   "source": [
    "# Skalowanie danych\n",
    "## Apartments"
   ]
  },
  {
   "cell_type": "code",
   "execution_count": null,
   "id": "resistant-census",
   "metadata": {},
   "outputs": [],
   "source": [
    "X_train, X_test, y_train, y_test = train_test_split(\n",
    "    df_apartments_onehot.drop(columns=['m2_price']),\n",
    "    df_apartments_onehot['m2_price'], \n",
    "    test_size=0.33, random_state=42)\n"
   ]
  },
  {
   "cell_type": "code",
   "execution_count": null,
   "id": "loved-class",
   "metadata": {},
   "outputs": [],
   "source": [
    "from sklearn.pipeline import Pipeline\n",
    "\n",
    "pipe_lrSVC = Pipeline([('scaler', StandardScaler()), ('clf', SVR())])\n",
    "pipe_lrSVC.fit(X_train, y_train)"
   ]
  },
  {
   "cell_type": "code",
   "execution_count": null,
   "id": "associate-network",
   "metadata": {},
   "outputs": [],
   "source": [
    "y_test_hat = pipe_lrSVC.predict(X_test)\n",
    "print(f'RMSE : {np.sqrt(mean_squared_error(y_test, y_test_hat)):.3f}')"
   ]
  },
  {
   "cell_type": "markdown",
   "id": "minus-guide",
   "metadata": {},
   "source": [
    "Dla danych Apartements skalowanie zmniejszyło RMSE z 899.757 na 880.207"
   ]
  },
  {
   "cell_type": "code",
   "execution_count": null,
   "id": "labeled-freeze",
   "metadata": {},
   "outputs": [],
   "source": [
    "X_train, X_test, y_train, y_test = train_test_split(\n",
    "    forest_fires_onehot.drop(columns=['area']),\n",
    "    forest_fires_onehot['area'], \n",
    "    test_size=0.33, random_state=42)\n"
   ]
  },
  {
   "cell_type": "code",
   "execution_count": null,
   "id": "narrative-sequence",
   "metadata": {},
   "outputs": [],
   "source": [
    "pipe_lrSVC = Pipeline([('scaler', StandardScaler()), ('clf', SVR())])\n",
    "pipe_lrSVC.fit(X_train, y_train)"
   ]
  },
  {
   "cell_type": "code",
   "execution_count": null,
   "id": "interpreted-decrease",
   "metadata": {},
   "outputs": [],
   "source": [
    "y_test_hat = pipe_lrSVC.predict(X_test)\n",
    "print(f'RMSE : {np.sqrt(mean_squared_error(y_test, y_test_hat)):.3f}')"
   ]
  },
  {
   "cell_type": "markdown",
   "id": "atlantic-enemy",
   "metadata": {},
   "source": [
    "Dla danych Apartements skalowanie zmniejszyło RMSE z 89.658 na 89.617\n",
    "\n",
    "Dla obu zbiorów danych skalowanie zmniejszyło RMSE, dlatego uważam, że artykuł słusznie zwraca uwagę na skalowanie danych."
   ]
  },
  {
   "cell_type": "markdown",
   "id": "greater-construction",
   "metadata": {},
   "source": [
    "# Strojenie parametrów\n",
    "## Apartments\n"
   ]
  },
  {
   "cell_type": "code",
   "execution_count": null,
   "id": "israeli-advertising",
   "metadata": {},
   "outputs": [],
   "source": [
    "X_train, X_test, y_train, y_test = train_test_split(\n",
    "    df_apartments_onehot.drop(columns=['m2_price']),\n",
    "    df_apartments_onehot['m2_price'], \n",
    "    test_size=0.33, random_state=42)"
   ]
  },
  {
   "cell_type": "code",
   "execution_count": null,
   "id": "higher-profile",
   "metadata": {},
   "outputs": [],
   "source": [
    "parameters = {\n",
    "    'degree': list(range(1, 10000)),\n",
    "    'C': list(range(1, 10000)),\n",
    "    'gamma': ['auto', 'scale']\n",
    "}"
   ]
  },
  {
   "cell_type": "code",
   "execution_count": null,
   "id": "hollow-wrestling",
   "metadata": {},
   "outputs": [],
   "source": [
    "random = RandomizedSearchCV(estimator=model_svr, param_distributions=parameters, cv = 3, n_jobs=-1, n_iter=100)\n",
    "\n",
    "random_result = random.fit(X_train, y_train)\n",
    "# Summarize results\n",
    "print(\"Best using %s\" % ( random_result.best_params_))"
   ]
  },
  {
   "cell_type": "code",
   "execution_count": null,
   "id": "grateful-canal",
   "metadata": {},
   "outputs": [],
   "source": [
    "y_test_hat = random.predict(X_test)\n",
    "print(f'RMSE : {np.sqrt(mean_squared_error(y_test, y_test_hat)):.3f}')"
   ]
  },
  {
   "cell_type": "markdown",
   "id": "proprietary-turkey",
   "metadata": {},
   "source": [
    "## Forest fires"
   ]
  },
  {
   "cell_type": "code",
   "execution_count": null,
   "id": "returning-boutique",
   "metadata": {},
   "outputs": [],
   "source": [
    "X_train, X_test, y_train, y_test = train_test_split(\n",
    "    forest_fires_onehot.drop(columns=['area']),\n",
    "    forest_fires_onehot['area'], \n",
    "    test_size=0.33, random_state=42)\n"
   ]
  },
  {
   "cell_type": "code",
   "execution_count": null,
   "id": "compound-marketplace",
   "metadata": {},
   "outputs": [],
   "source": [
    "random = RandomizedSearchCV(estimator=model_svr, param_distributions=parameters, cv = 3, n_jobs=-1,n_iter=100)\n",
    "\n",
    "random_result = random.fit(X_train, y_train)\n",
    "# Summarize results\n",
    "print(\"Best using %s\" % (random_result.best_params_))"
   ]
  },
  {
   "cell_type": "code",
   "execution_count": null,
   "id": "universal-transparency",
   "metadata": {},
   "outputs": [],
   "source": [
    "y_test_hat = random.predict(X_test)\n",
    "print(f'RMSE : {np.sqrt(mean_squared_error(y_test, y_test_hat)):.3f}')"
   ]
  },
  {
   "cell_type": "markdown",
   "id": "opposed-steel",
   "metadata": {},
   "source": [
    "W wyniku optymalizacji hiperparametrów udało się zmniejszyć RMSE dla Apartments z 899.757 do 806.431, a dla Forest fires z 89.658 do 89.169"
   ]
  }
 ],
 "metadata": {
  "kernelspec": {
   "display_name": "Python 3",
   "language": "python",
   "name": "python3"
  },
  "language_info": {
   "codemirror_mode": {
    "name": "ipython",
    "version": 3
   },
   "file_extension": ".py",
   "mimetype": "text/x-python",
   "name": "python",
   "nbconvert_exporter": "python",
   "pygments_lexer": "ipython3",
   "version": "3.8.8"
  }
 },
 "nbformat": 4,
 "nbformat_minor": 5
}
