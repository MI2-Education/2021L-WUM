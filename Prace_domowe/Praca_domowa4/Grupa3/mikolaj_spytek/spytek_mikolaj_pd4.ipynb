{
 "cells": [
  {
   "cell_type": "markdown",
   "metadata": {
    "id": "nBKNqIJuttJA"
   },
   "source": [
    "# Mikołaj Spytek - praca domowa 4"
   ]
  },
  {
   "cell_type": "code",
   "execution_count": null,
   "metadata": {
    "colab": {
     "base_uri": "https://localhost:8080/"
    },
    "id": "j4U_-WaMXQft",
    "outputId": "6da69c24-eba3-4f2c-f2e0-62a8ed8cde55"
   },
   "outputs": [],
   "source": [
    "import dalex as dx\n",
    "import pandas as pd\n",
    "from scipy.stats import uniform\n",
    "from sklearn.svm import SVC\n",
    "from sklearn.metrics import accuracy_score\n",
    "from sklearn.model_selection import RandomizedSearchCV\n",
    "from sklearn.preprocessing import StandardScaler\n",
    "from sklearn.datasets import load_breast_cancer\n",
    "from sklearn.model_selection import train_test_split\n",
    "import warnings\n",
    "warnings.filterwarnings('ignore')"
   ]
  },
  {
   "cell_type": "code",
   "execution_count": null,
   "metadata": {
    "id": "phs_FKdHXmnp"
   },
   "outputs": [],
   "source": [
    "#załadowanie zbiorów danych\n",
    "apartments = dx.datasets.load_apartments()\n",
    "apartments_test = dx.datasets.load_apartments_test()\n",
    "\n",
    "x_apartments_train = apartments.iloc[:,0:4]\n",
    "y_apartments_train = apartments.iloc[:, 5]\n",
    "x_apartments_test = apartments_test.iloc[:,0:4]\n",
    "y_apartments_test = apartments_test.iloc[:, 5]\n",
    "\n",
    "\n",
    "data = load_breast_cancer()\n",
    "\n",
    "x_cancer = pd.DataFrame(data=data.data, columns=data.feature_names)\n",
    "y_cancer = pd.DataFrame(data.target)\n",
    "\n",
    "x_cancer_train,  x_cancer_test, y_cancer_train, y_cancer_test = train_test_split(x_cancer, y_cancer, random_state=42)"
   ]
  },
  {
   "cell_type": "code",
   "execution_count": null,
   "metadata": {
    "id": "oJRAhOoBnBof"
   },
   "outputs": [],
   "source": [
    "#przeskalowanie danych\n",
    "apartments_scaler = StandardScaler()\n",
    "x_apartments_train_scaled =  apartments_scaler.fit_transform(x_apartments_train)\n",
    "x_apartments_test_scaled =  apartments_scaler.fit_transform(x_apartments_test)\n",
    "\n",
    "cancer_scaler = StandardScaler()\n",
    "x_cancer_train_scaled = cancer_scaler.fit_transform(x_cancer_train)\n",
    "x_cancer_test_scaled = cancer_scaler.fit_transform(x_cancer_test)"
   ]
  },
  {
   "cell_type": "code",
   "execution_count": null,
   "metadata": {
    "colab": {
     "base_uri": "https://localhost:8080/",
     "height": 111
    },
    "id": "wMmBEz7OXo7W",
    "outputId": "da8eee53-8428-4642-eed5-a6926fecfc06"
   },
   "outputs": [],
   "source": [
    "#wytrenowanie modeli na danych z i bez skalowania\n",
    "sv_a1 = SVC(kernel=\"rbf\", random_state=42)\n",
    "sv_a2 = SVC(kernel=\"rbf\", random_state=42)\n",
    "sv_c1 = SVC(kernel=\"rbf\", random_state=42)\n",
    "sv_c2 = SVC(kernel=\"rbf\", random_state=42)\n",
    "\n",
    "sv_a1.fit(x_apartments_train, y_apartments_train)\n",
    "unscaled_apartments_pred = sv_a1.predict(x_apartments_test)\n",
    "\n",
    "sv_a2.fit(x_apartments_train_scaled, y_apartments_train)\n",
    "scaled_apartments_pred = sv_a1.predict(x_apartments_test_scaled)\n",
    "\n",
    "\n",
    "sv_c1.fit(x_cancer_train, y_cancer_train)\n",
    "unscaled_cancer_pred = sv_c1.predict(x_cancer_test)\n",
    "\n",
    "sv_c2.fit(x_cancer_train_scaled, y_cancer_train)\n",
    "scaled_cancer_pred = sv_c1.predict(x_cancer_test_scaled)\n",
    "\n",
    "unscaled_apartments_acc = accuracy_score(y_apartments_test, unscaled_apartments_pred)\n",
    "scaled_apartments_acc = accuracy_score(y_apartments_test, scaled_apartments_pred)\n",
    "unscaled_cancer_acc = accuracy_score(y_cancer_test, unscaled_cancer_pred)\n",
    "scaled_cancer_acc = accuracy_score(y_cancer_test, scaled_cancer_pred)\n",
    "\n",
    "results = [[unscaled_apartments_acc,scaled_apartments_acc],\n",
    "           [unscaled_cancer_acc,scaled_cancer_acc]]\n",
    "\n",
    "\n",
    "pd_results =pd.DataFrame(data=results, columns=[\"unscaled\",\"scaled\"], index=[\"apartments\",\"cancer\"])\n",
    "\n",
    "pd_results"
   ]
  },
  {
   "cell_type": "markdown",
   "metadata": {
    "id": "O1YMtifIttJJ"
   },
   "source": [
    "Jak widać skalowanie nie dało pozytywnego efektu. Zbiór danych dotyczący raka piersi był już przeskalowany. Dodatkowo wg. dokumentacji sklearna SVM również przeprowadza skalowanie. Takie potrójne skalowanie przynosi więc ujemne efekty. Jeśli sprawa tyczy się zbioru apartments skalowanie również nie przynosi pożądanych efektów."
   ]
  },
  {
   "cell_type": "code",
   "execution_count": null,
   "metadata": {
    "id": "pMPtY2TeXsKt"
   },
   "outputs": [],
   "source": [
    "#hiperparametry do optymalizacji\n",
    "distributions = dict(C= uniform(loc=0, scale=4),\n",
    "                     degree=[i for i in range(1,15)],\n",
    "                     gamma = uniform(loc=0, scale=1)\n",
    "                    )"
   ]
  },
  {
   "cell_type": "code",
   "execution_count": null,
   "metadata": {
    "colab": {
     "base_uri": "https://localhost:8080/"
    },
    "id": "BciREpuIXwDA",
    "outputId": "34d2a63a-b021-4bd1-b4f3-b136a1214813"
   },
   "outputs": [],
   "source": [
    "clf_a = RandomizedSearchCV(sv_a1, distributions, n_iter=1000, verbose=True, random_state=42)\n",
    "search_a = clf_a.fit(x_apartments_train, y_apartments_train)\n",
    "\n",
    "clf_c = RandomizedSearchCV(sv_c1, distributions, n_iter=1000, verbose=True, random_state=42)\n",
    "search_c = clf_c.fit(x_cancer_train, y_cancer_train)"
   ]
  },
  {
   "cell_type": "code",
   "execution_count": null,
   "metadata": {
    "colab": {
     "base_uri": "https://localhost:8080/"
    },
    "id": "LJ6tb0bTXzF9",
    "outputId": "8bedd8f6-92ce-40d5-8a39-2047bc4eac5c"
   },
   "outputs": [],
   "source": [
    "search_a.best_params_"
   ]
  },
  {
   "cell_type": "code",
   "execution_count": null,
   "metadata": {
    "colab": {
     "base_uri": "https://localhost:8080/"
    },
    "id": "KPNNaywk4sT5",
    "outputId": "7fa527da-a929-4d6c-f49b-48b3b63acc30"
   },
   "outputs": [],
   "source": [
    "search_c.best_params_"
   ]
  },
  {
   "cell_type": "code",
   "execution_count": null,
   "metadata": {
    "colab": {
     "base_uri": "https://localhost:8080/"
    },
    "id": "_h0vjkvTFelB",
    "outputId": "cf18bfa8-707e-468a-b81f-0ffd67bf7bad"
   },
   "outputs": [],
   "source": [
    "#sprawdzenie, czy te parametry poprawiają model\n",
    "sv_a_new = SVC(kernel=\"rbf\",C=3.5589922261307083, degree=6, gamma=0.0013385008146062916, random_state=42)\n",
    "sv_a_new.fit(x_apartments_train, y_apartments_train)\n",
    "unscaled_apartments_pred_new = sv_a_new.predict(x_apartments_test)\n",
    "accuracy_score(y_apartments_test, unscaled_apartments_pred_new)"
   ]
  },
  {
   "cell_type": "markdown",
   "metadata": {
    "id": "CReL58rsttJL"
   },
   "source": [
    "Jak widać, w tym przypadku mamy niewielki zysk."
   ]
  },
  {
   "cell_type": "code",
   "execution_count": null,
   "metadata": {
    "colab": {
     "base_uri": "https://localhost:8080/"
    },
    "id": "T_Rgcl5CFzR1",
    "outputId": "0c4e70bd-2769-437c-b57f-fc758704f56b"
   },
   "outputs": [],
   "source": [
    "sv_c_new = SVC(kernel=\"rbf\", C= 1.8800995309030366, degree= 5, gamma=0.0010431294303261396, random_state=42)\n",
    "sv_c_new.fit(x_cancer_train, y_cancer_train)\n",
    "unscaled_cancer_pred_new = sv_c_new.predict(x_cancer_test)\n",
    "accuracy_score(y_cancer_test, unscaled_cancer_pred_new)"
   ]
  },
  {
   "cell_type": "markdown",
   "metadata": {
    "id": "b4hGO7exttJM"
   },
   "source": [
    "W tym przypadku, zmiana hiperparametrów pogorszyła wynik. Być może dlatego, że już z domyślnymi parametrami model osiągnął tak dobry wynik, albo random search działał zbyt krótko i nie wystarczająco przeszukał przestrzeń parametrów."
   ]
  }
 ],
 "metadata": {
  "colab": {
   "collapsed_sections": [],
   "name": "spytek_mikolaj_pd4.ipynb",
   "provenance": []
  },
  "kernelspec": {
   "display_name": "Python 3",
   "language": "python",
   "name": "python3"
  },
  "language_info": {
   "codemirror_mode": {
    "name": "ipython",
    "version": 3
   },
   "file_extension": ".py",
   "mimetype": "text/x-python",
   "name": "python",
   "nbconvert_exporter": "python",
   "pygments_lexer": "ipython3",
   "version": "3.8.7"
  }
 },
 "nbformat": 4,
 "nbformat_minor": 1
}
