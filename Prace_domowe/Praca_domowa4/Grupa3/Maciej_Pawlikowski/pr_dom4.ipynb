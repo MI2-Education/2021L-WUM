{
 "cells": [
  {
   "cell_type": "code",
   "execution_count": null,
   "metadata": {},
   "outputs": [],
   "source": [
    "from sklearn import svm\n",
    "import dalex\n",
    "import pandas as pd\n",
    "from category_encoders import TargetEncoder\n",
    "from sklearn.model_selection import train_test_split, RandomizedSearchCV\n",
    "from sklearn.preprocessing import Normalizer\n",
    "from sklearn.metrics import mean_squared_error,  make_scorer\n",
    "import numpy as np"
   ]
  },
  {
   "cell_type": "code",
   "execution_count": null,
   "metadata": {},
   "outputs": [],
   "source": [
    "apartments=dalex.datasets.load_apartments()\n",
    "apartments"
   ]
  },
  {
   "cell_type": "code",
   "execution_count": null,
   "metadata": {},
   "outputs": [],
   "source": [
    "cereal=pd.read_csv(\"cereal.csv\")\n",
    "print(cereal)\n",
    "# Ze względu, że SVC wymaga liczb całkowitych jako target zastąpię rating podłogą z wartości kolumny\n",
    "cereal[\"rating\"]=cereal[\"rating\"].round(0).astype(int)"
   ]
  },
  {
   "cell_type": "markdown",
   "metadata": {},
   "source": [
    "## Preprocessing"
   ]
  },
  {
   "cell_type": "code",
   "execution_count": null,
   "metadata": {},
   "outputs": [],
   "source": [
    "te=TargetEncoder()\n",
    "apartments['district']=te.fit_transform(apartments['district'],apartments['m2_price'])\n",
    "\n",
    "y=apartments['m2_price']\n",
    "X=apartments.iloc[:,1:]\n",
    "trainx,testx,trainy,testy=train_test_split(X,y,test_size=0.3,random_state=23)"
   ]
  },
  {
   "cell_type": "code",
   "execution_count": null,
   "metadata": {},
   "outputs": [],
   "source": [
    "te=TargetEncoder()\n",
    "cereal['mfr']=te.fit_transform(cereal['mfr'],cereal['rating'])\n",
    "\n"
   ]
  },
  {
   "cell_type": "code",
   "execution_count": null,
   "metadata": {},
   "outputs": [],
   "source": [
    "te=TargetEncoder()\n",
    "cereal['type']=te.fit_transform(cereal['type'],cereal['rating'])"
   ]
  },
  {
   "cell_type": "markdown",
   "metadata": {},
   "source": [
    "# Apartments"
   ]
  },
  {
   "cell_type": "markdown",
   "metadata": {},
   "source": [
    "## Standard parameters without standarisation"
   ]
  },
  {
   "cell_type": "code",
   "execution_count": null,
   "metadata": {},
   "outputs": [],
   "source": [
    "svc=svm.SVC()\n",
    "svc.fit(trainx,trainy)\n",
    "ans=svc.predict(testx)\n",
    "print(f\"Mean squared error:  { mean_squared_error(ans,testy, squared=False)}\")"
   ]
  },
  {
   "cell_type": "markdown",
   "metadata": {},
   "source": [
    "## Standard parameters with normalisation"
   ]
  },
  {
   "cell_type": "code",
   "execution_count": null,
   "metadata": {},
   "outputs": [],
   "source": [
    "scaler=Normalizer().fit(apartments.iloc[:,1:])\n",
    "apartments2=pd.DataFrame(scaler.transform(apartments.iloc[:,1:]))\n",
    "y=apartments['m2_price']\n",
    "X=apartments2.iloc[:,1:]\n",
    "trainx2,testx2,trainy2,testy2=train_test_split(X,y,test_size=0.3,random_state=2123)\n",
    "svc2=svm.SVC()\n",
    "svc2.fit(trainx2,trainy2)\n",
    "ans2=svc2.predict(testx2)\n",
    "print(f\"Mean squared error:  { mean_squared_error(ans2,testy2, squared=False)}\")\n"
   ]
  },
  {
   "cell_type": "markdown",
   "metadata": {},
   "source": [
    "Jak widać dzięki standaryzacji udało się osiągnąć lepszy wynik"
   ]
  },
  {
   "cell_type": "markdown",
   "metadata": {},
   "source": [
    "## Hyperparameters Random Search"
   ]
  },
  {
   "cell_type": "code",
   "execution_count": null,
   "metadata": {},
   "outputs": [],
   "source": [
    "model_params={\n",
    "    \"kernel\":[\"rbf\",\"poly\"],\n",
    "    \"gamma\":['scale','auto'],\n",
    "    \"degree\":[2,3,4,5,6]\n",
    "    \n",
    "}"
   ]
  },
  {
   "cell_type": "code",
   "execution_count": null,
   "metadata": {},
   "outputs": [],
   "source": [
    "rs=RandomizedSearchCV(estimator = svm.SVC(),param_distributions = model_params, cv=3,n_jobs=-1,n_iter=100, random_state=1613,verbose=1,scoring='neg_root_mean_squared_error')\n",
    "rs.fit(trainx2,trainy2)"
   ]
  },
  {
   "cell_type": "code",
   "execution_count": null,
   "metadata": {},
   "outputs": [],
   "source": [
    "print(f\"Mean squared error:  { rs.best_score_}\")\n",
    "print(f\"Hyperparameters:  { rs.best_params_}\")"
   ]
  },
  {
   "cell_type": "markdown",
   "metadata": {},
   "source": [
    "Jak widać dostrojenie hiperparametrów dość mocno wpłynęło na poprawę wyniku."
   ]
  },
  {
   "cell_type": "markdown",
   "metadata": {},
   "source": [
    "# Cereals"
   ]
  },
  {
   "cell_type": "markdown",
   "metadata": {},
   "source": [
    "Baza danych pobrana z: https://www.kaggle.com/crawford/80-cereals , w której targetem jest rating"
   ]
  },
  {
   "cell_type": "code",
   "execution_count": null,
   "metadata": {},
   "outputs": [],
   "source": [
    "y=cereal['rating']\n",
    "X=cereal.iloc[:,1:-1]\n",
    "trainx,testx,trainy,testy=train_test_split(X,y,test_size=0.3,random_state=23)"
   ]
  },
  {
   "cell_type": "markdown",
   "metadata": {},
   "source": [
    "## Standard parameters without standarisation"
   ]
  },
  {
   "cell_type": "code",
   "execution_count": null,
   "metadata": {},
   "outputs": [],
   "source": [
    "svc=svm.SVC()\n",
    "svc.fit(trainx,trainy)\n",
    "ans=svc.predict(testx)\n",
    "print(f\"Mean squared error:  { mean_squared_error(ans,testy, squared=False)}\")"
   ]
  },
  {
   "cell_type": "markdown",
   "metadata": {},
   "source": [
    "## Standard parameters with normalisation"
   ]
  },
  {
   "cell_type": "code",
   "execution_count": null,
   "metadata": {},
   "outputs": [],
   "source": [
    "scaler=Normalizer().fit(apartments.iloc[:,1:])\n",
    "cereal2=pd.DataFrame(scaler.transform(cereal.iloc[:,1:]))\n",
    "X=cereal2.iloc[:,1:-1]\n",
    "y=cereal[\"rating\"]\n",
    "trainx2,testx2,trainy2,testy2=train_test_split(X,y,test_size=0.3,random_state=2123)\n",
    "svc2=svm.SVC()\n",
    "svc2.fit(trainx2,trainy2)\n",
    "ans2=svc2.predict(testx2)\n",
    "print(f\"Mean squared error:  { mean_squared_error(ans2,testy2, squared=False)}\")\n"
   ]
  },
  {
   "cell_type": "markdown",
   "metadata": {},
   "source": [
    "Jak można się było spodziewać standaryzacja polepszyła wynik również w drugiej bazie danych."
   ]
  },
  {
   "cell_type": "markdown",
   "metadata": {},
   "source": [
    "## Hyperparameters Random Search"
   ]
  },
  {
   "cell_type": "code",
   "execution_count": null,
   "metadata": {},
   "outputs": [],
   "source": [
    "model_params={\n",
    "    \"kernel\":[\"rbf\",\"poly\"],\n",
    "    \"gamma\":['scale','auto'],\n",
    "    \"degree\":[2,3,4,5,6]\n",
    "    \n",
    "}"
   ]
  },
  {
   "cell_type": "code",
   "execution_count": null,
   "metadata": {},
   "outputs": [],
   "source": [
    "rs=RandomizedSearchCV(estimator = svm.SVC(),param_distributions = model_params, cv=3,n_iter=100, random_state=1613,verbose=1,scoring='neg_root_mean_squared_error')\n",
    "rs.fit(trainx2,trainy2)"
   ]
  },
  {
   "cell_type": "code",
   "execution_count": null,
   "metadata": {},
   "outputs": [],
   "source": [
    "print(f\"Mean squared error:  { rs.best_score_}\")\n",
    "print(f\"Hyperparameters:  { rs.best_params_}\")"
   ]
  },
  {
   "cell_type": "markdown",
   "metadata": {},
   "source": [
    "Bez większych niespodzianek random search poprawił wynik."
   ]
  }
 ],
 "metadata": {
  "kernelspec": {
   "display_name": "Python 3",
   "language": "python",
   "name": "python3"
  },
  "language_info": {
   "codemirror_mode": {
    "name": "ipython",
    "version": 3
   },
   "file_extension": ".py",
   "mimetype": "text/x-python",
   "name": "python",
   "nbconvert_exporter": "python",
   "pygments_lexer": "ipython3",
   "version": "3.8.5"
  }
 },
 "nbformat": 4,
 "nbformat_minor": 4
}
