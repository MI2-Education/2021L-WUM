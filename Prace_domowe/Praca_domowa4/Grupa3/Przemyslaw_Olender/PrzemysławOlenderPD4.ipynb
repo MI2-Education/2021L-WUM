{
 "cells": [
  {
   "cell_type": "code",
   "execution_count": null,
   "id": "printable-velvet",
   "metadata": {},
   "outputs": [],
   "source": [
    "import pandas as pd\n",
    "from sklearn.svm import SVC\n",
    "from sklearn.datasets import load_wine\n",
    "import dalex\n",
    "import numpy as np\n",
    "from sklearn.model_selection import train_test_split\n",
    "from sklearn.model_selection import RandomizedSearchCV\n",
    "from sklearn.preprocessing import StandardScaler\n",
    "from sklearn.preprocessing import LabelEncoder\n",
    "from sklearn.metrics import accuracy_score\n",
    "import warnings\n",
    "warnings.filterwarnings('ignore')"
   ]
  },
  {
   "cell_type": "markdown",
   "id": "accepted-evolution",
   "metadata": {},
   "source": [
    "# Zbiór danych apartments"
   ]
  },
  {
   "cell_type": "code",
   "execution_count": null,
   "id": "hourly-preliminary",
   "metadata": {},
   "outputs": [],
   "source": [
    "aparts = dalex.datasets.load_apartments()\n",
    "print(aparts.info())\n",
    "aparts.head()"
   ]
  },
  {
   "cell_type": "markdown",
   "id": "thick-ticket",
   "metadata": {},
   "source": [
    "### Encoding i podział na zbiory treningowy i testowy"
   ]
  },
  {
   "cell_type": "code",
   "execution_count": null,
   "id": "spanish-battlefield",
   "metadata": {},
   "outputs": [],
   "source": [
    "le=LabelEncoder()\n",
    "aparts['district'] = le.fit_transform(aparts['district'])\n",
    "\n",
    "X = aparts.drop('district', axis = 1)\n",
    "y = aparts['district']\n",
    "\n",
    "X_train, X_test, y_train, y_test = train_test_split(X, y, stratify=y, test_size = 0.3, random_state = 29)"
   ]
  },
  {
   "cell_type": "markdown",
   "id": "dressed-reaction",
   "metadata": {},
   "source": [
    "### Prosty model bez skalowania"
   ]
  },
  {
   "cell_type": "code",
   "execution_count": null,
   "id": "arctic-settle",
   "metadata": {},
   "outputs": [],
   "source": [
    "model_svc = SVC()\n",
    "\n",
    "model_svc.fit(X_train, y_train)\n",
    "y_pred = model_svc.predict(X_test)\n",
    "\n",
    "simple_model = accuracy_score(y_test, y_pred)\n",
    "print('Accuracy score dla prostego modelu bez skalowania i strojenia hiperparametrów wynosi: ',  simple_model)"
   ]
  },
  {
   "cell_type": "markdown",
   "id": "indirect-mississippi",
   "metadata": {},
   "source": [
    "### Strojenie hiperparametrów bez skalowania"
   ]
  },
  {
   "cell_type": "code",
   "execution_count": null,
   "id": "restricted-harris",
   "metadata": {},
   "outputs": [],
   "source": [
    "model_svc = SVC()\n",
    "\n",
    "C = [i for i in range(10)]\n",
    "C.append(20)\n",
    "C.append(50)\n",
    "\n",
    "parameters = {\n",
    "    'C' : C,\n",
    "    'gamma' : ['scale', 'auto', 3, 10],\n",
    "    'degree': np.linspace(1, 5, 5)\n",
    "}\n",
    "\n",
    "svc_rand = RandomizedSearchCV(model_svc, parameters, n_iter=1000, n_jobs=-1)\n",
    "best_svc = svc_rand.fit(X_train ,y_train)\n",
    "best_svc.best_estimator_"
   ]
  },
  {
   "cell_type": "code",
   "execution_count": null,
   "id": "banned-livestock",
   "metadata": {},
   "outputs": [],
   "source": [
    "model_svc = best_svc.best_estimator_\n",
    "model_svc.fit(X_train, y_train)\n",
    "\n",
    "y_pred = model_svc.predict(X_test)\n",
    "\n",
    "hiper_model = accuracy_score(y_test, y_pred)\n",
    "print('Accuracy score dla modelu bez skalowania ze strojeniem hiperparametrów wynosi: ',  hiper_model)"
   ]
  },
  {
   "cell_type": "markdown",
   "id": "given-haven",
   "metadata": {},
   "source": [
    "### Skalowanie bez strojenia hiperparametrów"
   ]
  },
  {
   "cell_type": "code",
   "execution_count": null,
   "id": "enabling-exploration",
   "metadata": {},
   "outputs": [],
   "source": [
    "scaler = StandardScaler()\n",
    "X_train =  scaler.fit_transform(X_train)\n",
    "X_test =  scaler.fit_transform(X_test)\n",
    "\n",
    "model_svc = SVC()\n",
    "\n",
    "model_svc.fit(X_train, y_train)\n",
    "y_pred = model_svc.predict(X_test)\n",
    "\n",
    "scal_model = accuracy_score(y_test, y_pred)\n",
    "print('Accuracy score dla prostego modelu ze skalowaniem i bez strojenia hiperparametrów wynosi: ',  scal_model)"
   ]
  },
  {
   "cell_type": "markdown",
   "id": "fantastic-pressing",
   "metadata": {},
   "source": [
    "### Strojenie hiperparametrów ze skalowaniem"
   ]
  },
  {
   "cell_type": "code",
   "execution_count": null,
   "id": "precise-olympus",
   "metadata": {},
   "outputs": [],
   "source": [
    "model_svc = SVC()\n",
    "\n",
    "svc_rand = RandomizedSearchCV(model_svc, parameters, n_iter=1000, n_jobs=-1)\n",
    "best_svm = svc_rand.fit(X_train ,y_train)\n",
    "best_svm.best_estimator_"
   ]
  },
  {
   "cell_type": "code",
   "execution_count": null,
   "id": "unknown-divide",
   "metadata": {},
   "outputs": [],
   "source": [
    "model_svc = best_svm.best_estimator_\n",
    "\n",
    "model_svc.fit(X_train, y_train)\n",
    "\n",
    "y_pred = model_svc.predict(X_test)\n",
    "\n",
    "hiper_scal_model = mean_squared_error(y_test, y_pred, squared=True)\n",
    "print('RMSE dla modelu ze skalowaniem i strojeniem hiperparametrów wynosi: ',  hiper_scal_model)"
   ]
  },
  {
   "cell_type": "markdown",
   "id": "portuguese-settle",
   "metadata": {},
   "source": [
    "### Podsumowanie\n",
    "Skalowanie poprawiło wyniki modelu, za to strojenie hiperparametrów bez skalowania nie poprawiło wyniku, a po skalowaniu nawet pogorszyło, może to wynikać z tego, że RandomizedSearch nie trafił w optymalne rozwiązanie."
   ]
  },
  {
   "cell_type": "markdown",
   "id": "applicable-characteristic",
   "metadata": {},
   "source": [
    "# Zbiór danych Wine"
   ]
  },
  {
   "cell_type": "code",
   "execution_count": null,
   "id": "spatial-birmingham",
   "metadata": {},
   "outputs": [],
   "source": [
    "wine_dict = load_wine()"
   ]
  },
  {
   "cell_type": "code",
   "execution_count": null,
   "id": "verified-chocolate",
   "metadata": {},
   "outputs": [],
   "source": [
    "X = pd.DataFrame(wine_dict['data'], columns = wine_dict['feature_names'])\n",
    "Y = wine_dict['target']\n",
    "\n",
    "X_train, X_test, y_train, y_test = train_test_split(X, Y, random_state = 29, test_size = 0.3)"
   ]
  },
  {
   "cell_type": "markdown",
   "id": "pediatric-gossip",
   "metadata": {},
   "source": [
    "### Prosty model bez skalowania"
   ]
  },
  {
   "cell_type": "code",
   "execution_count": null,
   "id": "commercial-assurance",
   "metadata": {},
   "outputs": [],
   "source": [
    "model_svc = SVC(random_state=29)\n",
    "\n",
    "model_svc.fit(X_train, y_train)\n",
    "y_pred = model_svc.predict(X_test)\n",
    "\n",
    "simple_model = accuracy_score(y_test, y_pred)\n",
    "\n",
    "print('Accuracy score dla prostego modelu bez skalowania i strojenia hiperparametrów wynosi: ',  simple_model)"
   ]
  },
  {
   "cell_type": "markdown",
   "id": "approximate-chinese",
   "metadata": {},
   "source": [
    "### Strojenie hiperparametrów bez skalowania"
   ]
  },
  {
   "cell_type": "code",
   "execution_count": null,
   "id": "express-height",
   "metadata": {},
   "outputs": [],
   "source": [
    "model_svc = SVC()\n",
    "\n",
    "parameters = {\n",
    "    'C' : [np.linspace(1, 10, 10), 20, 50],\n",
    "    'gamma' : ['scale', 'auto', 3, 10],\n",
    "    'degree': np.linspace(1, 5, 5),\n",
    "    'kernel': ['linear', 'poly', 'rbf']\n",
    "}\n",
    "\n",
    "svc_rand = RandomizedSearchCV(model_svc, parameters,  n_iter=100)\n",
    "best_svc = svc_rand.fit(X_train ,y_train)\n",
    "best_svc.best_estimator_"
   ]
  },
  {
   "cell_type": "code",
   "execution_count": null,
   "id": "above-mobile",
   "metadata": {},
   "outputs": [],
   "source": [
    "model_svc = best_svc.best_estimator_\n",
    "\n",
    "model_svc.fit(X_train, y_train)\n",
    "\n",
    "y_pred = model_svc.predict(X_test)\n",
    "\n",
    "hiper_model = accuracy_score(y_test, y_pred)\n",
    "print('Accuracy score dla modelu bez skalowania ze strojeniem hiperparametrów wynosi: ',  hiper_model)"
   ]
  },
  {
   "cell_type": "markdown",
   "id": "local-interference",
   "metadata": {},
   "source": [
    "### Skalowanie bez strojenia hiperparametrów"
   ]
  },
  {
   "cell_type": "code",
   "execution_count": null,
   "id": "living-winning",
   "metadata": {},
   "outputs": [],
   "source": [
    "scaler = StandardScaler()\n",
    "X_train =  scaler.fit_transform(X_train)\n",
    "X_test =  scaler.fit_transform(X_test)\n",
    "\n",
    "model_svc = SVC(random_state=29)\n",
    "\n",
    "model_svc.fit(X_train, y_train)\n",
    "y_pred = model_svc.predict(X_test)\n",
    "\n",
    "scal_model = accuracy_score(y_test, y_pred)\n",
    "print('Accuracy score dla prostego modelu ze skalowaniem i bez strojenia hiperparametrów wynosi: ',  scal_model)"
   ]
  },
  {
   "cell_type": "markdown",
   "id": "distinguished-retailer",
   "metadata": {},
   "source": [
    "### Strojenie hiperparametrów ze skalowaniem"
   ]
  },
  {
   "cell_type": "code",
   "execution_count": null,
   "id": "round-stretch",
   "metadata": {},
   "outputs": [],
   "source": [
    "model_svc = SVC()\n",
    "svc_rand = RandomizedSearchCV(model_svc, parameters,  n_iter=100, random_state=29)\n",
    "best_svc = svc_rand.fit(X_train ,y_train)\n",
    "best_svc.best_estimator_"
   ]
  },
  {
   "cell_type": "code",
   "execution_count": null,
   "id": "productive-hepatitis",
   "metadata": {},
   "outputs": [],
   "source": [
    "model_svc = best_svc.best_estimator_\n",
    "\n",
    "model_svc.fit(X_train, y_train)\n",
    "\n",
    "y_pred = model_svc.predict(X_test)\n",
    "\n",
    "hiper_model = accuracy_score(y_test, y_pred)\n",
    "print('Accuracy score dla modelu ze skalowaniem i strojeniem hiperparametrów wynosi: ',  hiper_model)"
   ]
  },
  {
   "cell_type": "markdown",
   "id": "primary-tooth",
   "metadata": {},
   "source": [
    "### Podsumowanie\n",
    "Skalowanie sprawiło, że model ma prawie 98% poprawności, jednak stojenie hiperparametrów nie poprawiło wyników."
   ]
  }
 ],
 "metadata": {
  "kernelspec": {
   "display_name": "Python 3",
   "language": "python",
   "name": "python3"
  },
  "language_info": {
   "codemirror_mode": {
    "name": "ipython",
    "version": 3
   },
   "file_extension": ".py",
   "mimetype": "text/x-python",
   "name": "python",
   "nbconvert_exporter": "python",
   "pygments_lexer": "ipython3",
   "version": "3.8.1"
  }
 },
 "nbformat": 4,
 "nbformat_minor": 5
}
