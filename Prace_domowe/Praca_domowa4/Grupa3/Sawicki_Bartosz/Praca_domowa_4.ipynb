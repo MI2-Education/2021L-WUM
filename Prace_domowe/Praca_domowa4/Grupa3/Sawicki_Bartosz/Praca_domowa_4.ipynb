{
 "cells": [
  {
   "cell_type": "markdown",
   "id": "applied-district",
   "metadata": {},
   "source": [
    "# Praca domowa 4\n",
    "#### Autor: Bartosz Sawicki"
   ]
  },
  {
   "cell_type": "code",
   "execution_count": null,
   "id": "dress-client",
   "metadata": {},
   "outputs": [],
   "source": [
    "import pandas as pd\n",
    "import numpy as np\n",
    "import matplotlib.pyplot as plt\n",
    "import seaborn as sns\n",
    "\n",
    "from dalex import datasets\n",
    "\n",
    "from sklearn.metrics import accuracy_score, mean_squared_error\n",
    "from sklearn.model_selection import  RandomizedSearchCV, train_test_split\n",
    "from sklearn.pipeline import make_pipeline\n",
    "from sklearn.preprocessing import OneHotEncoder, StandardScaler\n",
    "from sklearn.svm import SVR, SVC\n"
   ]
  },
  {
   "cell_type": "markdown",
   "id": "ancient-handy",
   "metadata": {},
   "source": [
    "## Apartments"
   ]
  },
  {
   "cell_type": "code",
   "execution_count": null,
   "id": "civilian-canvas",
   "metadata": {},
   "outputs": [],
   "source": [
    "apartments = pd.concat([datasets.load_apartments(),datasets.load_apartments_test()])"
   ]
  },
  {
   "cell_type": "code",
   "execution_count": null,
   "id": "complete-chaos",
   "metadata": {},
   "outputs": [],
   "source": [
    "ap_X_train, ap_X_test, ap_y_train, ap_y_test = train_test_split(\n",
    "    apartments.drop(['m2_price'], axis=1), \n",
    "    apartments.loc[:,'m2_price'], \n",
    "    random_state=123)"
   ]
  },
  {
   "cell_type": "markdown",
   "id": "leading-attribute",
   "metadata": {},
   "source": [
    "### EDA"
   ]
  },
  {
   "cell_type": "code",
   "execution_count": null,
   "id": "dependent-initial",
   "metadata": {},
   "outputs": [],
   "source": [
    "apartments.info()"
   ]
  },
  {
   "cell_type": "code",
   "execution_count": null,
   "id": "automated-cooperation",
   "metadata": {
    "scrolled": true
   },
   "outputs": [],
   "source": [
    "sns.histplot(ap_y_train)"
   ]
  },
  {
   "cell_type": "markdown",
   "id": "subtle-mambo",
   "metadata": {},
   "source": [
    "Zmienna celu ma lekko prawoskośny rozkład, ale nie powinno być to problemem w zadaniu regresji."
   ]
  },
  {
   "cell_type": "code",
   "execution_count": null,
   "id": "parliamentary-maximum",
   "metadata": {},
   "outputs": [],
   "source": [
    "sns.pairplot(ap_X_train)"
   ]
  },
  {
   "cell_type": "markdown",
   "id": "secondary-assessment",
   "metadata": {},
   "source": [
    "Wszystkie zmienne mają dosyć równomierny rozkład, liczba pokoji jest skorelowana z powierzchnią"
   ]
  },
  {
   "cell_type": "code",
   "execution_count": null,
   "id": "engaged-scottish",
   "metadata": {},
   "outputs": [],
   "source": [
    "ap_train = pd.concat([ap_X_train, ap_y_train], axis=1)\n",
    "sns.heatmap(ap_train.corr(), annot=True)"
   ]
  },
  {
   "cell_type": "markdown",
   "id": "beginning-sending",
   "metadata": {},
   "source": [
    "Usuniemy jedną ze skorelowanych zmiennych"
   ]
  },
  {
   "cell_type": "code",
   "execution_count": null,
   "id": "casual-bouquet",
   "metadata": {},
   "outputs": [],
   "source": [
    "ap_X_test.drop(['no_rooms'], axis=1, inplace=True)\n",
    "ap_X_train.drop(['no_rooms'], axis=1, inplace=True)"
   ]
  },
  {
   "cell_type": "markdown",
   "id": "mighty-attempt",
   "metadata": {},
   "source": [
    "## Mobile price classification \n",
    "Źródło: [https://www.kaggle.com/iabhishekofficial/mobile-price-classification](https://www.kaggle.com/iabhishekofficial/mobile-price-classification). \n",
    "\n",
    "Zbiór danych o modelach telefonów komórkowych z etykietą kategorii cenowej. Należy przewidzieć do jakiej kategorii należy telefon. "
   ]
  },
  {
   "cell_type": "code",
   "execution_count": null,
   "id": "functioning-evaluation",
   "metadata": {},
   "outputs": [],
   "source": [
    "mobiles_train = pd.read_csv('data/train.csv')\n",
    "mobiles_test = pd.read_csv('data/test.csv')"
   ]
  },
  {
   "cell_type": "code",
   "execution_count": null,
   "id": "going-donna",
   "metadata": {},
   "outputs": [],
   "source": [
    "mobiles_test.columns"
   ]
  },
  {
   "cell_type": "code",
   "execution_count": null,
   "id": "expensive-milton",
   "metadata": {},
   "outputs": [],
   "source": [
    "mobiles_train.columns"
   ]
  },
  {
   "cell_type": "markdown",
   "id": "extended-concentration",
   "metadata": {},
   "source": [
    "W zbiorze danych `test` brakuje zmiennej celu, więc jest dla nas bezużyteczny. Podzielimy zbiór train na treningowy i testowy."
   ]
  },
  {
   "cell_type": "code",
   "execution_count": null,
   "id": "altered-johnston",
   "metadata": {},
   "outputs": [],
   "source": [
    "mobiles = pd.read_csv('data/train.csv')\n",
    "mob_X = mobiles.drop(['price_range'], axis=1)\n",
    "mob_y = mobiles.loc[:,'price_range']"
   ]
  },
  {
   "cell_type": "code",
   "execution_count": null,
   "id": "standing-article",
   "metadata": {},
   "outputs": [],
   "source": [
    "mob_X_train, mob_X_test, mob_y_train, mob_y_test = train_test_split(mob_X, mob_y, random_state=123, stratify=mob_y)"
   ]
  },
  {
   "cell_type": "markdown",
   "id": "happy-swaziland",
   "metadata": {},
   "source": [
    "### EDA"
   ]
  },
  {
   "cell_type": "code",
   "execution_count": null,
   "id": "consolidated-adrian",
   "metadata": {
    "scrolled": false
   },
   "outputs": [],
   "source": [
    "mob_X_train.info()"
   ]
  },
  {
   "cell_type": "code",
   "execution_count": null,
   "id": "italian-delicious",
   "metadata": {},
   "outputs": [],
   "source": [
    "sns.histplot(mob_y_train)"
   ]
  },
  {
   "cell_type": "code",
   "execution_count": null,
   "id": "mysterious-audit",
   "metadata": {
    "scrolled": false
   },
   "outputs": [],
   "source": [
    "mob_train = pd.concat([mob_X_train, mob_y_train], axis=1)\n",
    "fig, ax = plt.subplots(figsize=(15,12))\n",
    "\n",
    "sns.heatmap(ax=ax, data=mob_train.corr())"
   ]
  },
  {
   "cell_type": "markdown",
   "id": "convenient-novel",
   "metadata": {},
   "source": [
    "- pc skorelowany z fc (pc - primary camera, fc - front camera). Rozdzielczość aparatów podstawowego i przedniego.\n",
    "- px_height i px_width skorelowane (szer. i wys. ekranu w pixelach)\n",
    "- Na cenę ma wpływ: \n",
    "    + pamięć RAM\n",
    "    + pojemność baterii\n",
    "    + rozdzielczość ekranu"
   ]
  },
  {
   "cell_type": "code",
   "execution_count": null,
   "id": "first-roberts",
   "metadata": {},
   "outputs": [],
   "source": [
    "cols = ['battery_power', 'fc', 'int_memory', 'pc', 'px_height', 'px_width', 'ram', 'sc_h', 'sc_w', 'talk_time']\n",
    "sns.pairplot(mob_X_train.loc[:,cols])"
   ]
  },
  {
   "cell_type": "markdown",
   "id": "spatial-passport",
   "metadata": {},
   "source": [
    "Usuniemy z modelu skorelowane zmienne"
   ]
  },
  {
   "cell_type": "code",
   "execution_count": null,
   "id": "focused-trading",
   "metadata": {},
   "outputs": [],
   "source": [
    "mob_X_test = mob_X_test.drop(['fc', 'px_height', 'sc_h'], axis=1)\n",
    "mob_X_train = mob_X_train.drop(['fc', 'px_height', 'sc_h'], axis=1)"
   ]
  },
  {
   "cell_type": "markdown",
   "id": "improving-message",
   "metadata": {},
   "source": [
    "## Tworzenie modeli\n",
    "### Apartments"
   ]
  },
  {
   "cell_type": "code",
   "execution_count": null,
   "id": "postal-cross",
   "metadata": {
    "scrolled": false
   },
   "outputs": [],
   "source": [
    "ap_scaling_clf = make_pipeline(OneHotEncoder(sparse=False), StandardScaler(), SVR())\n",
    "ap_clf = make_pipeline(OneHotEncoder(), SVR())\n",
    "\n",
    "ap_scaling_clf.fit(ap_X_train, ap_y_train)\n",
    "ap_clf.fit(ap_X_train, ap_y_train)"
   ]
  },
  {
   "cell_type": "code",
   "execution_count": null,
   "id": "romance-junior",
   "metadata": {},
   "outputs": [],
   "source": [
    "display(mean_squared_error(ap_y_test, ap_scaling_clf.predict(ap_X_test)))\n",
    "display(mean_squared_error(ap_y_test, ap_clf.predict(ap_X_test)))"
   ]
  },
  {
   "cell_type": "markdown",
   "id": "interested-acoustic",
   "metadata": {},
   "source": [
    "SVM Regressor osiągnął mniejszy MSE, gdy nie skalował danych. Zaprzecza to tezie postawionej w artykule.\n",
    "\n",
    "### Mobiles"
   ]
  },
  {
   "cell_type": "code",
   "execution_count": null,
   "id": "surprising-israeli",
   "metadata": {},
   "outputs": [],
   "source": [
    "mob_scaling_clf = make_pipeline(StandardScaler(), SVC())\n",
    "mob_clf = SVC()\n",
    "\n",
    "mob_scaling_clf.fit(mob_X_train, mob_y_train)\n",
    "mob_clf.fit(mob_X_train, mob_y_train)"
   ]
  },
  {
   "cell_type": "code",
   "execution_count": null,
   "id": "pretty-replica",
   "metadata": {},
   "outputs": [],
   "source": [
    "display(accuracy_score(mob_y_test, mob_scaling_clf.predict(mob_X_test)))\n",
    "display(accuracy_score(mob_y_test, mob_clf.predict(mob_X_test)))"
   ]
  },
  {
   "cell_type": "markdown",
   "id": "trying-flashing",
   "metadata": {},
   "source": [
    "Podobnie jest w tym przypadku. Lepszy wynik uzyskuje klasyfikator bez skalowania."
   ]
  },
  {
   "cell_type": "markdown",
   "id": "adopted-secretariat",
   "metadata": {},
   "source": [
    "## Tuning hiperparametrów\n",
    "### Apartments"
   ]
  },
  {
   "cell_type": "code",
   "execution_count": null,
   "id": "quarterly-northeast",
   "metadata": {},
   "outputs": [],
   "source": [
    "ap_scaling_clf.get_params().keys()"
   ]
  },
  {
   "cell_type": "code",
   "execution_count": null,
   "id": "wrong-cologne",
   "metadata": {
    "scrolled": false
   },
   "outputs": [],
   "source": [
    "distributions = dict(svr__gamma=['scale', 'auto', .05, .1, .25],\n",
    "                    svr__C=[.01, .05, .1, .25, .5, 2, 5],\n",
    "                    svr__kernel=['poly'],\n",
    "                    svr__degree=[x for x in range(1,6)])\n",
    "ap_scaling_clf_rs = RandomizedSearchCV(ap_scaling_clf, distributions, \n",
    "                                       random_state=123, scoring='neg_mean_squared_error', \n",
    "                                       n_jobs=-1, verbose=5, n_iter=5)\n",
    "search = ap_scaling_clf_rs.fit(ap_X_train, ap_y_train)\n",
    "search.best_params_"
   ]
  },
  {
   "cell_type": "code",
   "execution_count": null,
   "id": "dramatic-postcard",
   "metadata": {},
   "outputs": [],
   "source": [
    "ap_best_clf = search.best_estimator_\n",
    "display(mean_squared_error(ap_y_test, ap_best_clf.predict(ap_X_test)))"
   ]
  },
  {
   "cell_type": "markdown",
   "id": "advised-cathedral",
   "metadata": {},
   "source": [
    "Uzyskaliśmy dużą poprawę MSE dla SVR (z 836907 do 3824)"
   ]
  },
  {
   "cell_type": "markdown",
   "id": "abroad-listening",
   "metadata": {},
   "source": [
    "### Mobiles"
   ]
  },
  {
   "cell_type": "code",
   "execution_count": null,
   "id": "raising-force",
   "metadata": {},
   "outputs": [],
   "source": [
    "distributions = dict(svc__gamma=['scale', 'auto', .05, .1, .25],\n",
    "                    svc__C=[.01, .05, .1, .25, .5, 2, 5, 10, 25],\n",
    "                    svc__kernel=['poly'],\n",
    "                    svc__degree=[x for x in range(1,6)])\n",
    "mob_scaling_clf_rs = RandomizedSearchCV(mob_scaling_clf, distributions, \n",
    "                                       random_state=123, scoring='accuracy', \n",
    "                                       n_jobs=-1, verbose=5)\n",
    "mob_search = mob_scaling_clf_rs.fit(mob_X_train, mob_y_train)\n",
    "mob_search.best_params_"
   ]
  },
  {
   "cell_type": "code",
   "execution_count": null,
   "id": "lightweight-flush",
   "metadata": {},
   "outputs": [],
   "source": [
    "mob_best_clf = mob_search.best_estimator_\n",
    "display(accuracy_score(mob_y_test, mob_best_clf.predict(mob_X_test)))"
   ]
  },
  {
   "cell_type": "markdown",
   "id": "dense-oxide",
   "metadata": {},
   "source": [
    "Poprawiliśmy skuteczność z 83% do prawie 89%\n",
    "\n",
    "## Wnioski\n",
    "\n",
    "Zastosowanie tuningu hiperparametrów może znacząco poprawić wynik modelu. RandomizedSearchCV pozwala na szybkie sprawdzenie różnych kombinacji hiperparametrów, które póżniej można udoskonalić poprzez GridSearch"
   ]
  }
 ],
 "metadata": {
  "kernelspec": {
   "display_name": "Python 3",
   "language": "python",
   "name": "python3"
  },
  "language_info": {
   "codemirror_mode": {
    "name": "ipython",
    "version": 3
   },
   "file_extension": ".py",
   "mimetype": "text/x-python",
   "name": "python",
   "nbconvert_exporter": "python",
   "pygments_lexer": "ipython3",
   "version": "3.8.5"
  }
 },
 "nbformat": 4,
 "nbformat_minor": 5
}
