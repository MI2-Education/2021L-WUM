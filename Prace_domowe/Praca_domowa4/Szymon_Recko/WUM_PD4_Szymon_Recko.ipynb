{
 "cells": [
  {
   "cell_type": "markdown",
   "metadata": {
    "id": "IE5A96Dys6Zi"
   },
   "source": [
    "# PD 4"
   ]
  },
  {
   "cell_type": "code",
   "execution_count": null,
   "metadata": {
    "colab": {
     "base_uri": "https://localhost:8080/"
    },
    "id": "DON483theoeV",
    "outputId": "0d4e0618-313c-409f-cbc7-56460a3eb50b"
   },
   "outputs": [],
   "source": [
    "pip install dalex"
   ]
  },
  {
   "cell_type": "code",
   "execution_count": null,
   "metadata": {
    "id": "YAXsWZ6ied8G"
   },
   "outputs": [],
   "source": [
    "from sklearn.svm import SVR\n",
    "import pandas as pd\n",
    "import numpy as np\n",
    "from dalex import datasets\n",
    "from sklearn.model_selection import train_test_split\n",
    "from sklearn.model_selection import RandomizedSearchCV\n",
    "from sklearn.metrics import mean_squared_error\n",
    "from sklearn.preprocessing import StandardScaler"
   ]
  },
  {
   "cell_type": "markdown",
   "metadata": {
    "id": "ASl1_C2LxhVV"
   },
   "source": [
    "# Apartments"
   ]
  },
  {
   "cell_type": "markdown",
   "metadata": {
    "id": "u1gBLsjpw-C5"
   },
   "source": [
    "## Wczytanie danych i podział na zbiory "
   ]
  },
  {
   "cell_type": "code",
   "execution_count": null,
   "metadata": {
    "id": "vT6_6sKTed8R"
   },
   "outputs": [],
   "source": [
    "df_train=datasets.load_apartments()\n",
    "df_test=datasets.load_apartments_test()"
   ]
  },
  {
   "cell_type": "code",
   "execution_count": null,
   "metadata": {
    "id": "0PodF5UYed8V"
   },
   "outputs": [],
   "source": [
    "X_train=df_train.drop([\"m2_price\"],axis=1)\n",
    "y_train=df_train[\"m2_price\"]\n",
    "X_test=df_test.drop([\"m2_price\"],axis=1)\n",
    "y_test=df_test[\"m2_price\"]"
   ]
  },
  {
   "cell_type": "code",
   "execution_count": null,
   "metadata": {
    "id": "tPrFyE4AtdVB"
   },
   "outputs": [],
   "source": [
    "X_train=pd.get_dummies(X_train)\n",
    "X_test=pd.get_dummies(X_test)\n",
    "X_test, X_val, y_test, y_val=train_test_split(X_test,y_test,random_state = 123)"
   ]
  },
  {
   "cell_type": "markdown",
   "metadata": {
    "id": "p5kDo1zixFim"
   },
   "source": [
    "## Podstawowy model"
   ]
  },
  {
   "cell_type": "code",
   "execution_count": null,
   "metadata": {
    "colab": {
     "base_uri": "https://localhost:8080/"
    },
    "id": "-Pln0yNjed8Y",
    "outputId": "4ba408d7-7a97-4d46-8821-de810b155816"
   },
   "outputs": [],
   "source": [
    "model=SVR()\n",
    "model.fit(X_train,y_train)\n",
    "print(\"RMSE on test set: \",mean_squared_error(model.predict(X_test),y_test,squared=False))"
   ]
  },
  {
   "cell_type": "markdown",
   "metadata": {
    "id": "ZPkR8p2WxanI"
   },
   "source": [
    "## Standaryzacja"
   ]
  },
  {
   "cell_type": "code",
   "execution_count": null,
   "metadata": {
    "id": "63A7SuUnxy23"
   },
   "outputs": [],
   "source": [
    "scal1 = StandardScaler()\n",
    "scal2 = StandardScaler()\n",
    "scal1.fit(X_train)\n",
    "scal2.fit(X_test)\n",
    "X_train_scaled=scal1.transform(X_train)\n",
    "X_test_scaled=scal2.transform(X_test)"
   ]
  },
  {
   "cell_type": "code",
   "execution_count": null,
   "metadata": {
    "colab": {
     "base_uri": "https://localhost:8080/"
    },
    "id": "l-ubhh670d7J",
    "outputId": "42cf38e4-1960-49df-b28a-81c15bfdfc6e"
   },
   "outputs": [],
   "source": [
    "model_scaled=SVR()\n",
    "model_scaled.fit(X_train_scaled,y_train)\n",
    "print(\"RMSE on scaled test set: \",mean_squared_error(model_scaled.predict(X_test_scaled),y_test,squared=False))"
   ]
  },
  {
   "cell_type": "markdown",
   "metadata": {
    "id": "d3PEyrAd0v6a"
   },
   "source": [
    "## Tuning hiperparametrów\n",
    "Nie używam tutaj innych kerneli ponieważ trenowanie ich jest strasznie czasochłonne. Pociąga to za sobą, że sprawdzanie różnych wartości 'degree' nie ma sensu, ponieważ tylko kernel 'poly' bierze go pod uwagę."
   ]
  },
  {
   "cell_type": "code",
   "execution_count": null,
   "metadata": {
    "colab": {
     "base_uri": "https://localhost:8080/"
    },
    "id": "4iNVGdUV04MT",
    "outputId": "9c094c8a-521c-4431-821e-c502cdbed079"
   },
   "outputs": [],
   "source": [
    "scal3 = StandardScaler()\n",
    "scal3.fit(X_val)\n",
    "X_val_scaled=scal1.transform(X_val)\n",
    "model_tuning=SVR()\n",
    "params={'gamma':[0.0001,0.001,0.01,0.1,1,'auto','scale'],\n",
    "        'C':[0.1,0.5,1,10,100,1000]}\n",
    "RS=RandomizedSearchCV(model_tuning,params,random_state=123,cv=5,n_iter=40,n_jobs=-1)\n",
    "RS.fit(X_val,y_val)\n",
    "RS.best_params_"
   ]
  },
  {
   "cell_type": "code",
   "execution_count": null,
   "metadata": {
    "colab": {
     "base_uri": "https://localhost:8080/"
    },
    "id": "hPO0WyHiIvVx",
    "outputId": "2e45fb4b-0a36-4972-cf57-e866d74d9ee7"
   },
   "outputs": [],
   "source": [
    "print(\"RMSE with tuning on test set: \",mean_squared_error(RS.predict(X_test),y_test,squared=False))"
   ]
  },
  {
   "cell_type": "markdown",
   "metadata": {
    "id": "B2pvf9E1J302"
   },
   "source": [
    "# Dragons"
   ]
  },
  {
   "cell_type": "markdown",
   "metadata": {
    "id": "gUggPDg7OUog"
   },
   "source": [
    "## Wczytanie danych i podział na zbiory"
   ]
  },
  {
   "cell_type": "code",
   "execution_count": null,
   "metadata": {
    "id": "W21Jem2gKGdY"
   },
   "outputs": [],
   "source": [
    "df_train=datasets.load_dragons()\n",
    "df_test=datasets.load_dragons_test()"
   ]
  },
  {
   "cell_type": "code",
   "execution_count": null,
   "metadata": {
    "id": "EEUU5bKhKKOt"
   },
   "outputs": [],
   "source": [
    "X_train=df_train.drop([\"life_length\"],axis=1)\n",
    "y_train=df_train[\"life_length\"]\n",
    "X_test=df_test.drop([\"life_length\"],axis=1)\n",
    "y_test=df_test[\"life_length\"]\n",
    "X_test, X_val, y_test, y_val=train_test_split(X_test,y_test,random_state = 123)"
   ]
  },
  {
   "cell_type": "code",
   "execution_count": null,
   "metadata": {
    "id": "jB3nrQi2KmND"
   },
   "outputs": [],
   "source": [
    "X_train=pd.get_dummies(X_train)\n",
    "X_test=pd.get_dummies(X_test)\n",
    "X_test, X_val, y_test, y_val=train_test_split(X_test,y_test,random_state = 123)"
   ]
  },
  {
   "cell_type": "markdown",
   "metadata": {
    "id": "nUTRl9q0OaI6"
   },
   "source": [
    "## Podstawowy model"
   ]
  },
  {
   "cell_type": "code",
   "execution_count": null,
   "metadata": {
    "colab": {
     "base_uri": "https://localhost:8080/"
    },
    "id": "dqkp2KjcKxIY",
    "outputId": "7f3a0c92-c223-4a3a-ff48-077a7d542565"
   },
   "outputs": [],
   "source": [
    "model=SVR()\n",
    "model.fit(X_train,y_train)\n",
    "print(\"RMSE on test set: \",mean_squared_error(model.predict(X_test),y_test,squared=False))"
   ]
  },
  {
   "cell_type": "markdown",
   "metadata": {
    "id": "hmAXVaHfOc1k"
   },
   "source": [
    "## Standaryzacja"
   ]
  },
  {
   "cell_type": "code",
   "execution_count": null,
   "metadata": {
    "id": "FnzOe_gXOfrf"
   },
   "outputs": [],
   "source": [
    "scal1 = StandardScaler()\n",
    "scal2 = StandardScaler()\n",
    "scal1.fit(X_train)\n",
    "scal2.fit(X_test)\n",
    "X_train_scaled=scal1.transform(X_train)\n",
    "X_test_scaled=scal2.transform(X_test)"
   ]
  },
  {
   "cell_type": "code",
   "execution_count": null,
   "metadata": {
    "colab": {
     "base_uri": "https://localhost:8080/"
    },
    "id": "gYqGPN1yOjqK",
    "outputId": "38e97643-a469-4123-a394-64c32988e30b"
   },
   "outputs": [],
   "source": [
    "model_scaled=SVR()\n",
    "model_scaled.fit(X_train_scaled,y_train)\n",
    "print(\"RMSE on scaled test set: \",mean_squared_error(model_scaled.predict(X_test_scaled),y_test,squared=False))"
   ]
  },
  {
   "cell_type": "markdown",
   "metadata": {
    "id": "q777TRh-U3Jf"
   },
   "source": [
    "## Tuning hiperparametrów"
   ]
  },
  {
   "cell_type": "code",
   "execution_count": null,
   "metadata": {
    "colab": {
     "base_uri": "https://localhost:8080/"
    },
    "id": "xopunTG1Omvs",
    "outputId": "4dc89443-2f84-4370-c32f-a3d0db924a26"
   },
   "outputs": [],
   "source": [
    "scal3 = StandardScaler()\n",
    "scal3.fit(X_val)\n",
    "X_val_scaled=scal1.transform(X_val)\n",
    "model_tuning=SVR()\n",
    "params={'gamma':[0.0001,0.001,0.01,0.1,1,'auto','scale'],\n",
    "        'C':[0.1,0.5,1,10,100,1000]}\n",
    "RS=RandomizedSearchCV(model_tuning,params,random_state=123,cv=3,n_jobs=-1)\n",
    "RS.fit(X_val,y_val)\n",
    "RS.best_params_"
   ]
  },
  {
   "cell_type": "code",
   "execution_count": null,
   "metadata": {
    "colab": {
     "base_uri": "https://localhost:8080/"
    },
    "id": "YURQa7clOsAp",
    "outputId": "441f2264-2eb2-479d-c089-a470862dac6e"
   },
   "outputs": [],
   "source": [
    "print(\"RMSE with tuning on test set: \",mean_squared_error(RS.predict(X_test),y_test,squared=False))"
   ]
  },
  {
   "cell_type": "markdown",
   "metadata": {
    "id": "gBCxUyJwUyRU"
   },
   "source": [
    "# Wnioski"
   ]
  },
  {
   "cell_type": "markdown",
   "metadata": {
    "id": "QoO3zs5GVJbS"
   },
   "source": [
    "Zauważamy, że standaryzacja danych i tuning hiperparametrów w różnym stopniu poprawiają dokładność modelu, w zależności od problemu którym się zajmujemy i ilości danych, które posiadamy."
   ]
  }
 ],
 "metadata": {
  "colab": {
   "collapsed_sections": [],
   "name": "WUM PD4.ipynb",
   "provenance": []
  },
  "kernelspec": {
   "display_name": "Python 3",
   "language": "python",
   "name": "python3"
  },
  "language_info": {
   "codemirror_mode": {
    "name": "ipython",
    "version": 3
   },
   "file_extension": ".py",
   "mimetype": "text/x-python",
   "name": "python",
   "nbconvert_exporter": "python",
   "pygments_lexer": "ipython3",
   "version": "3.8.5"
  }
 },
 "nbformat": 4,
 "nbformat_minor": 1
}
