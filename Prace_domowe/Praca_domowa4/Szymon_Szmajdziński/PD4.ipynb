{
 "cells": [
  {
   "cell_type": "markdown",
   "metadata": {},
   "source": [
    "# Praca domowa 4\n",
    "Tematem pracy domowej było zaimplementowanie modelu SVM dla dwóch róznych zbiorów danych i sprawdzić teze czy skalowanie danych wpływa na wyniki modelu."
   ]
  },
  {
   "cell_type": "code",
   "execution_count": 3,
   "metadata": {},
   "outputs": [],
   "source": [
    "import pandas as pd\n",
    "import numpy as np\n",
    "import matplotlib.pyplot as plt\n",
    "import seaborn as sns\n",
    "from sklearn.svm import SVR\n",
    "from sklearn.metrics import mean_squared_error\n",
    "from sklearn.model_selection import train_test_split\n",
    "from sklearn.preprocessing import StandardScaler\n",
    "from sklearn.preprocessing import OneHotEncoder\n",
    "from sklearn.pipeline import make_pipeline\n",
    "from sklearn.model_selection import RandomizedSearchCV\n",
    "import warnings\n",
    "warnings.filterwarnings('ignore')"
   ]
  },
  {
   "cell_type": "markdown",
   "metadata": {},
   "source": [
    "## Zbiór apartments\n",
    "### Krótka analiza zbioru \n",
    "Po krótkiej analizie widzimy, że w zbiorze nie ma braków w danych. widzimy również, że mamy do czyninia z jedną kolumną kategoryczną. Będziemy musieli ją przeskalować."
   ]
  },
  {
   "cell_type": "code",
   "execution_count": 4,
   "metadata": {},
   "outputs": [
    {
     "data": {
      "text/html": [
       "<div>\n",
       "<style scoped>\n",
       "    .dataframe tbody tr th:only-of-type {\n",
       "        vertical-align: middle;\n",
       "    }\n",
       "\n",
       "    .dataframe tbody tr th {\n",
       "        vertical-align: top;\n",
       "    }\n",
       "\n",
       "    .dataframe thead th {\n",
       "        text-align: right;\n",
       "    }\n",
       "</style>\n",
       "<table border=\"1\" class=\"dataframe\">\n",
       "  <thead>\n",
       "    <tr style=\"text-align: right;\">\n",
       "      <th></th>\n",
       "      <th>m2_price</th>\n",
       "      <th>construction_year</th>\n",
       "      <th>surface</th>\n",
       "      <th>floor</th>\n",
       "      <th>no_rooms</th>\n",
       "      <th>district</th>\n",
       "    </tr>\n",
       "  </thead>\n",
       "  <tbody>\n",
       "    <tr>\n",
       "      <th>1</th>\n",
       "      <td>5897</td>\n",
       "      <td>1953</td>\n",
       "      <td>25</td>\n",
       "      <td>3</td>\n",
       "      <td>1</td>\n",
       "      <td>Srodmiescie</td>\n",
       "    </tr>\n",
       "    <tr>\n",
       "      <th>2</th>\n",
       "      <td>1818</td>\n",
       "      <td>1992</td>\n",
       "      <td>143</td>\n",
       "      <td>9</td>\n",
       "      <td>5</td>\n",
       "      <td>Bielany</td>\n",
       "    </tr>\n",
       "    <tr>\n",
       "      <th>3</th>\n",
       "      <td>3643</td>\n",
       "      <td>1937</td>\n",
       "      <td>56</td>\n",
       "      <td>1</td>\n",
       "      <td>2</td>\n",
       "      <td>Praga</td>\n",
       "    </tr>\n",
       "  </tbody>\n",
       "</table>\n",
       "</div>"
      ],
      "text/plain": [
       "   m2_price  construction_year  surface  floor  no_rooms     district\n",
       "1      5897               1953       25      3         1  Srodmiescie\n",
       "2      1818               1992      143      9         5      Bielany\n",
       "3      3643               1937       56      1         2        Praga"
      ]
     },
     "execution_count": 4,
     "metadata": {},
     "output_type": "execute_result"
    }
   ],
   "source": [
    "from dalex.datasets import load_apartments\n",
    "apart = load_apartments()\n",
    "apart.head(3)"
   ]
  },
  {
   "cell_type": "code",
   "execution_count": 5,
   "metadata": {},
   "outputs": [
    {
     "name": "stdout",
     "output_type": "stream",
     "text": [
      "<class 'pandas.core.frame.DataFrame'>\n",
      "Int64Index: 1000 entries, 1 to 1000\n",
      "Data columns (total 6 columns):\n",
      " #   Column             Non-Null Count  Dtype \n",
      "---  ------             --------------  ----- \n",
      " 0   m2_price           1000 non-null   int64 \n",
      " 1   construction_year  1000 non-null   int64 \n",
      " 2   surface            1000 non-null   int64 \n",
      " 3   floor              1000 non-null   int64 \n",
      " 4   no_rooms           1000 non-null   int64 \n",
      " 5   district           1000 non-null   object\n",
      "dtypes: int64(5), object(1)\n",
      "memory usage: 54.7+ KB\n"
     ]
    }
   ],
   "source": [
    "apart.info()"
   ]
  },
  {
   "cell_type": "code",
   "execution_count": 6,
   "metadata": {},
   "outputs": [
    {
     "data": {
      "text/html": [
       "<div>\n",
       "<style scoped>\n",
       "    .dataframe tbody tr th:only-of-type {\n",
       "        vertical-align: middle;\n",
       "    }\n",
       "\n",
       "    .dataframe tbody tr th {\n",
       "        vertical-align: top;\n",
       "    }\n",
       "\n",
       "    .dataframe thead th {\n",
       "        text-align: right;\n",
       "    }\n",
       "</style>\n",
       "<table border=\"1\" class=\"dataframe\">\n",
       "  <thead>\n",
       "    <tr style=\"text-align: right;\">\n",
       "      <th></th>\n",
       "      <th>m2_price</th>\n",
       "      <th>construction_year</th>\n",
       "      <th>surface</th>\n",
       "      <th>floor</th>\n",
       "      <th>no_rooms</th>\n",
       "    </tr>\n",
       "  </thead>\n",
       "  <tbody>\n",
       "    <tr>\n",
       "      <th>count</th>\n",
       "      <td>1000.000000</td>\n",
       "      <td>1000.000000</td>\n",
       "      <td>1000.000000</td>\n",
       "      <td>1000.000000</td>\n",
       "      <td>1000.000000</td>\n",
       "    </tr>\n",
       "    <tr>\n",
       "      <th>mean</th>\n",
       "      <td>3487.019000</td>\n",
       "      <td>1964.823000</td>\n",
       "      <td>85.590000</td>\n",
       "      <td>5.623000</td>\n",
       "      <td>3.360000</td>\n",
       "    </tr>\n",
       "    <tr>\n",
       "      <th>std</th>\n",
       "      <td>906.691651</td>\n",
       "      <td>25.831511</td>\n",
       "      <td>37.874799</td>\n",
       "      <td>2.899876</td>\n",
       "      <td>1.381415</td>\n",
       "    </tr>\n",
       "    <tr>\n",
       "      <th>min</th>\n",
       "      <td>1607.000000</td>\n",
       "      <td>1920.000000</td>\n",
       "      <td>20.000000</td>\n",
       "      <td>1.000000</td>\n",
       "      <td>1.000000</td>\n",
       "    </tr>\n",
       "    <tr>\n",
       "      <th>25%</th>\n",
       "      <td>2857.000000</td>\n",
       "      <td>1943.000000</td>\n",
       "      <td>53.000000</td>\n",
       "      <td>3.000000</td>\n",
       "      <td>2.000000</td>\n",
       "    </tr>\n",
       "    <tr>\n",
       "      <th>50%</th>\n",
       "      <td>3386.000000</td>\n",
       "      <td>1965.000000</td>\n",
       "      <td>85.500000</td>\n",
       "      <td>6.000000</td>\n",
       "      <td>3.000000</td>\n",
       "    </tr>\n",
       "    <tr>\n",
       "      <th>75%</th>\n",
       "      <td>4018.250000</td>\n",
       "      <td>1988.000000</td>\n",
       "      <td>118.000000</td>\n",
       "      <td>8.000000</td>\n",
       "      <td>4.000000</td>\n",
       "    </tr>\n",
       "    <tr>\n",
       "      <th>max</th>\n",
       "      <td>6595.000000</td>\n",
       "      <td>2010.000000</td>\n",
       "      <td>150.000000</td>\n",
       "      <td>10.000000</td>\n",
       "      <td>6.000000</td>\n",
       "    </tr>\n",
       "  </tbody>\n",
       "</table>\n",
       "</div>"
      ],
      "text/plain": [
       "          m2_price  construction_year      surface        floor     no_rooms\n",
       "count  1000.000000        1000.000000  1000.000000  1000.000000  1000.000000\n",
       "mean   3487.019000        1964.823000    85.590000     5.623000     3.360000\n",
       "std     906.691651          25.831511    37.874799     2.899876     1.381415\n",
       "min    1607.000000        1920.000000    20.000000     1.000000     1.000000\n",
       "25%    2857.000000        1943.000000    53.000000     3.000000     2.000000\n",
       "50%    3386.000000        1965.000000    85.500000     6.000000     3.000000\n",
       "75%    4018.250000        1988.000000   118.000000     8.000000     4.000000\n",
       "max    6595.000000        2010.000000   150.000000    10.000000     6.000000"
      ]
     },
     "execution_count": 6,
     "metadata": {},
     "output_type": "execute_result"
    }
   ],
   "source": [
    "apart.describe()"
   ]
  },
  {
   "cell_type": "markdown",
   "metadata": {},
   "source": [
    "Widzimy jak wyglądają rozkłady poszczególnych zmiennych. Rozkład ceny i liczby pokoi przypomina rozkład normalny z ogonem z prawej strony, reszta natomiast wygląda całkiem jednostajnie."
   ]
  },
  {
   "cell_type": "code",
   "execution_count": 7,
   "metadata": {},
   "outputs": [
    {
     "data": {
      "image/png": "[encoded data removed]",
      "text/plain": [
       "<Figure size 1008x720 with 6 Axes>"
      ]
     },
     "metadata": {
      "needs_background": "light"
     },
     "output_type": "display_data"
    }
   ],
   "source": [
    "apart.hist(figsize=(14,10), bins=15)\n",
    "plt.show()"
   ]
  },
  {
   "cell_type": "markdown",
   "metadata": {},
   "source": [
    "### SVM dla amartments \n",
    "Na początku dzielimy zbiór na zbiór testowy i treningowy. Następnie jako, że zbiór zawiera kolumne kategoryczną zawierającą informacje o dzielnicy w której mieści się apartament, kodyjemy tą zmienną. Jako że jest tylko 10 kategorii kożystamy z OneHot encodera."
   ]
  },
  {
   "cell_type": "code",
   "execution_count": 8,
   "metadata": {},
   "outputs": [],
   "source": [
    "# Dzielenie zbioru na treningowy i testowy \n",
    "x_apart_train, x_apart_test, y_apart_train, y_apart_test = train_test_split(\n",
    "    apart.drop(columns=['m2_price']), apart['m2_price'], test_size=0.3, random_state=13)"
   ]
  },
  {
   "cell_type": "code",
   "execution_count": 9,
   "metadata": {},
   "outputs": [
    {
     "name": "stdout",
     "output_type": "stream",
     "text": [
      " Rozmiar zbioru treningowego: (700, 14)\n"
     ]
    }
   ],
   "source": [
    "# OneHot\n",
    "x_apart_train = pd.get_dummies(data = x_apart_train, columns = ['district'])\n",
    "x_apart_test = pd.get_dummies(data = x_apart_test, columns = ['district'])\n",
    "x_apart_train.shape\n",
    "print(\" Rozmiar zbioru treningowego:\", x_apart_train.shape)"
   ]
  },
  {
   "cell_type": "markdown",
   "metadata": {},
   "source": [
    "Następnie treniujemy dwa modele SVR. Najpierw trenujemy model bez standaryzacji danych. Następnie trenujemy idnetyczny model, ale wpierw przeskalowujemy wartości danych."
   ]
  },
  {
   "cell_type": "code",
   "execution_count": 10,
   "metadata": {},
   "outputs": [
    {
     "name": "stdout",
     "output_type": "stream",
     "text": [
      "                          #  Bez skalowania  Ze skalowaniem\n",
      " MSE na zbiorze treningowym      916.644110      895.910705\n",
      "    MSE na zbiorze testowym      905.405174      884.420810\n"
     ]
    }
   ],
   "source": [
    "# Model bez skalowania\n",
    "apart_model_unscaled = SVR()\n",
    "apart_model_unscaled.fit(x_apart_train, y_apart_train)\n",
    "\n",
    "# Model ze skalowaniem \n",
    "preprocessing = StandardScaler()\n",
    "apart_model_scaled = make_pipeline(preprocessing, SVR())\n",
    "apart_model_scaled.fit(x_apart_train, y_apart_train)\n",
    "\n",
    "compare = pd.DataFrame(columns=[\"#\", \"Bez skalowania\", \"Ze skalowaniem\"])\n",
    "compare[\"#\"]= [\"MSE na zbiorze treningowym\", \"MSE na zbiorze testowym\"]\n",
    "compare[\"Bez skalowania\"]= [mean_squared_error(y_apart_train, apart_model_unscaled.predict(x_apart_train), squared=False),\n",
    "                            mean_squared_error(y_apart_test, apart_model_unscaled.predict(x_apart_test), squared=False)]\n",
    "compare[\"Ze skalowaniem\"]= [mean_squared_error(y_apart_train, apart_model_scaled.predict(x_apart_train), squared=False),\n",
    "                            mean_squared_error(y_apart_test, apart_model_scaled.predict(x_apart_test), squared=False)]\n",
    "\n",
    "print(compare.to_string(index=False))"
   ]
  },
  {
   "cell_type": "markdown",
   "metadata": {},
   "source": [
    "W ramce wyżej widzimy, że błąd maleje, gdy mamy do czynienia z przeskalowanymi danymi. Każda minimalizacja błędów jest dla nas cenna, więc warto jest stosować standaryzację przed użyciem SVM. Potwierdza to teze z linkowanego artykułu."
   ]
  },
  {
   "cell_type": "markdown",
   "metadata": {},
   "source": [
    "## Zbiór diabetes\n",
    "### Krótka analiza zbioru\n",
    "\n",
    "Jako drugi zbiór wybrałem zbiór diabetes. Podobnie jak wcześniej przyglądamy się powierzchownie naszym danym. Również nie mają one braków w danych. Nie maja również zmiennych kategorycznych. Dane te są też już przeskalowane. "
   ]
  },
  {
   "cell_type": "code",
   "execution_count": 11,
   "metadata": {},
   "outputs": [
    {
     "data": {
      "text/html": [
       "<div>\n",
       "<style scoped>\n",
       "    .dataframe tbody tr th:only-of-type {\n",
       "        vertical-align: middle;\n",
       "    }\n",
       "\n",
       "    .dataframe tbody tr th {\n",
       "        vertical-align: top;\n",
       "    }\n",
       "\n",
       "    .dataframe thead th {\n",
       "        text-align: right;\n",
       "    }\n",
       "</style>\n",
       "<table border=\"1\" class=\"dataframe\">\n",
       "  <thead>\n",
       "    <tr style=\"text-align: right;\">\n",
       "      <th></th>\n",
       "      <th>age</th>\n",
       "      <th>sex</th>\n",
       "      <th>bmi</th>\n",
       "      <th>bp</th>\n",
       "      <th>s1</th>\n",
       "      <th>s2</th>\n",
       "      <th>s3</th>\n",
       "      <th>s4</th>\n",
       "      <th>s5</th>\n",
       "      <th>s6</th>\n",
       "    </tr>\n",
       "  </thead>\n",
       "  <tbody>\n",
       "    <tr>\n",
       "      <th>0</th>\n",
       "      <td>0.038076</td>\n",
       "      <td>0.050680</td>\n",
       "      <td>0.061696</td>\n",
       "      <td>0.021872</td>\n",
       "      <td>-0.044223</td>\n",
       "      <td>-0.034821</td>\n",
       "      <td>-0.043401</td>\n",
       "      <td>-0.002592</td>\n",
       "      <td>0.019908</td>\n",
       "      <td>-0.017646</td>\n",
       "    </tr>\n",
       "    <tr>\n",
       "      <th>1</th>\n",
       "      <td>-0.001882</td>\n",
       "      <td>-0.044642</td>\n",
       "      <td>-0.051474</td>\n",
       "      <td>-0.026328</td>\n",
       "      <td>-0.008449</td>\n",
       "      <td>-0.019163</td>\n",
       "      <td>0.074412</td>\n",
       "      <td>-0.039493</td>\n",
       "      <td>-0.068330</td>\n",
       "      <td>-0.092204</td>\n",
       "    </tr>\n",
       "    <tr>\n",
       "      <th>2</th>\n",
       "      <td>0.085299</td>\n",
       "      <td>0.050680</td>\n",
       "      <td>0.044451</td>\n",
       "      <td>-0.005671</td>\n",
       "      <td>-0.045599</td>\n",
       "      <td>-0.034194</td>\n",
       "      <td>-0.032356</td>\n",
       "      <td>-0.002592</td>\n",
       "      <td>0.002864</td>\n",
       "      <td>-0.025930</td>\n",
       "    </tr>\n",
       "    <tr>\n",
       "      <th>3</th>\n",
       "      <td>-0.089063</td>\n",
       "      <td>-0.044642</td>\n",
       "      <td>-0.011595</td>\n",
       "      <td>-0.036656</td>\n",
       "      <td>0.012191</td>\n",
       "      <td>0.024991</td>\n",
       "      <td>-0.036038</td>\n",
       "      <td>0.034309</td>\n",
       "      <td>0.022692</td>\n",
       "      <td>-0.009362</td>\n",
       "    </tr>\n",
       "    <tr>\n",
       "      <th>4</th>\n",
       "      <td>0.005383</td>\n",
       "      <td>-0.044642</td>\n",
       "      <td>-0.036385</td>\n",
       "      <td>0.021872</td>\n",
       "      <td>0.003935</td>\n",
       "      <td>0.015596</td>\n",
       "      <td>0.008142</td>\n",
       "      <td>-0.002592</td>\n",
       "      <td>-0.031991</td>\n",
       "      <td>-0.046641</td>\n",
       "    </tr>\n",
       "  </tbody>\n",
       "</table>\n",
       "</div>"
      ],
      "text/plain": [
       "        age       sex       bmi        bp        s1        s2        s3  \\\n",
       "0  0.038076  0.050680  0.061696  0.021872 -0.044223 -0.034821 -0.043401   \n",
       "1 -0.001882 -0.044642 -0.051474 -0.026328 -0.008449 -0.019163  0.074412   \n",
       "2  0.085299  0.050680  0.044451 -0.005671 -0.045599 -0.034194 -0.032356   \n",
       "3 -0.089063 -0.044642 -0.011595 -0.036656  0.012191  0.024991 -0.036038   \n",
       "4  0.005383 -0.044642 -0.036385  0.021872  0.003935  0.015596  0.008142   \n",
       "\n",
       "         s4        s5        s6  \n",
       "0 -0.002592  0.019908 -0.017646  \n",
       "1 -0.039493 -0.068330 -0.092204  \n",
       "2 -0.002592  0.002864 -0.025930  \n",
       "3  0.034309  0.022692 -0.009362  \n",
       "4 -0.002592 -0.031991 -0.046641  "
      ]
     },
     "execution_count": 11,
     "metadata": {},
     "output_type": "execute_result"
    }
   ],
   "source": [
    "from sklearn.datasets import load_diabetes\n",
    "diab_raw = load_diabetes(as_frame=True)\n",
    "diab = diab_raw['data']\n",
    "diab_target = diab_raw['target']\n",
    "diab.head()"
   ]
  },
  {
   "cell_type": "code",
   "execution_count": 12,
   "metadata": {},
   "outputs": [
    {
     "data": {
      "image/png": "[encoded data removed]",
      "text/plain": [
       "<Figure size 1296x1008 with 12 Axes>"
      ]
     },
     "metadata": {
      "needs_background": "light"
     },
     "output_type": "display_data"
    }
   ],
   "source": [
    "diab.hist(figsize=(18,14), bins=20)\n",
    "plt.show()"
   ]
  },
  {
   "cell_type": "markdown",
   "metadata": {},
   "source": [
    "### SVM dla diabetes\n",
    "W tym przypadku nie mamy do czynienia z cechami kategorycznymi. Jak wspomniałem dane są już przeskalowane. Pozostaje nam zatem jedynie podział na zbiór treningowy i testowy."
   ]
  },
  {
   "cell_type": "code",
   "execution_count": 111,
   "metadata": {},
   "outputs": [],
   "source": [
    "# Podział na zbiory testowy i treningowy\n",
    "x_diab_train, x_diab_test, y_diab_train, y_diab_test = train_test_split(\n",
    "    diab, diab_target, test_size=0.3, random_state=13)"
   ]
  },
  {
   "cell_type": "code",
   "execution_count": 112,
   "metadata": {},
   "outputs": [
    {
     "name": "stdout",
     "output_type": "stream",
     "text": [
      "MSE na zbiorze treningowym:  72.53560139173298\n",
      "MSE na zbiorze testowym:  67.28805281953838\n"
     ]
    }
   ],
   "source": [
    "# Tworzenie modelu dla diabetes\n",
    "diab_model_scaled = SVR()\n",
    "diab_model_scaled.fit(x_diab_train, y_diab_train)\n",
    "\n",
    "print('MSE na zbiorze treningowym: ', mean_squared_error(y_diab_train, diab_model_scaled.predict(x_diab_train), squared=False))\n",
    "print('MSE na zbiorze testowym: ', mean_squared_error(y_diab_test, diab_model_scaled.predict(x_diab_test), squared=False))"
   ]
  },
  {
   "cell_type": "markdown",
   "metadata": {},
   "source": [
    "## Strojenie parametrów \n",
    "Za pomocą Random Search będziemy teraz stroić parametry modeli.\n",
    "\n",
    "### Strojenie modelu dla apartments"
   ]
  },
  {
   "cell_type": "code",
   "execution_count": 120,
   "metadata": {
    "scrolled": false
   },
   "outputs": [
    {
     "name": "stdout",
     "output_type": "stream",
     "text": [
      "{'svr__kernel': 'rbf', 'svr__gamma': 'scale', 'svr__degree': 3, 'svr__C': 496.1}\n",
      "MSE train for best estimator:  164.74915202096034\n",
      "MSE test for best estimator:  195.04014864427648\n"
     ]
    }
   ],
   "source": [
    "params = {'svr__C': np.arange(0.1, 500, 0.5),\n",
    "            'svr__gamma': ['scale', 'auto', 1],\n",
    "            'svr__degree': np.arange(1,  10, 1),\n",
    "            'svr__kernel':['rbf']}\n",
    "\n",
    "random = RandomizedSearchCV(estimator=make_pipeline(preprocessing, SVR()), param_distributions=params, n_iter= 200, n_jobs=-1)\n",
    "\n",
    "random_result = random.fit(x_apart_train, y_apart_train)\n",
    "\n",
    "best_estimator = random.best_estimator_\n",
    "print(random_result.best_params_)\n",
    "print('MSE train for best estimator: ', mean_squared_error(y_apart_train, best_estimator.predict(x_apart_train), squared=False))\n",
    "print('MSE test for best estimator: ', mean_squared_error(y_apart_test, best_estimator.predict(x_apart_test), squared=False))"
   ]
  },
  {
   "cell_type": "markdown",
   "metadata": {},
   "source": [
    "### Strojenie modelu dla diabetes"
   ]
  },
  {
   "cell_type": "code",
   "execution_count": 121,
   "metadata": {},
   "outputs": [
    {
     "name": "stdout",
     "output_type": "stream",
     "text": [
      "{'svr__kernel': 'rbf', 'svr__gamma': 1, 'svr__degree': 7, 'svr__C': 492.1}\n",
      "MSE train for best estimator:  53.172759814711455\n",
      "MSE test for best estimator:  54.232166073502775\n"
     ]
    }
   ],
   "source": [
    "svr_diabetes = make_pipeline(SVR())\n",
    "random_diabetes = RandomizedSearchCV(estimator=svr_diabetes, param_distributions=params, n_iter= 100, n_jobs=-1)\n",
    "\n",
    "random_result_diabetes = random_diabetes.fit(x_diab_train, y_diab_train)\n",
    "\n",
    "best_estimator_diabetes = random_diabetes.best_estimator_\n",
    "print(random_result_diabetes.best_params_)\n",
    "print('MSE train for best estimator: ', mean_squared_error(y_diab_train, best_estimator_diabetes.predict(x_diab_train), squared=False))\n",
    "print('MSE test for best estimator: ', mean_squared_error(y_diab_test, best_estimator_diabetes.predict(x_diab_test), squared=False))"
   ]
  },
  {
   "cell_type": "markdown",
   "metadata": {},
   "source": [
    "## Wnioski \n",
    "W obu przypadkach strojenie parametrów znacznie zmniejszyło błąd. Poprawa w przypadku strojenia parametrów okazała się byc dużo bardziej znacząca niż skalowanie parametrów. Wnisek jest taki, że zdecydowanie ważniejsze jest strojenie parametrów. Jeżeli zależy nam jednak na jak najlepszych wynikach pownniśmy również przskalować dane. Różnica nie jest powalająca, ale jeżeli chcemy tworzyć solidne modele to każda poprawa wyniku powninna być dla nas instotna"
   ]
  },
  {
   "cell_type": "code",
   "execution_count": null,
   "metadata": {},
   "outputs": [],
   "source": []
  }
 ],
 "metadata": {
  "kernelspec": {
   "display_name": "Python 3",
   "language": "python",
   "name": "python3"
  },
  "language_info": {
   "codemirror_mode": {
    "name": "ipython",
    "version": 3
   },
   "file_extension": ".py",
   "mimetype": "text/x-python",
   "name": "python",
   "nbconvert_exporter": "python",
   "pygments_lexer": "ipython3",
   "version": "3.8.5"
  }
 },
 "nbformat": 4,
 "nbformat_minor": 4
}
