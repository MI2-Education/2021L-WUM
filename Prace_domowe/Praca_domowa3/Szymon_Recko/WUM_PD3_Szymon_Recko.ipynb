{
 "cells": [
  {
   "cell_type": "markdown",
   "metadata": {},
   "source": [
    "# WUM PD3 Szymon Recko"
   ]
  },
  {
   "cell_type": "code",
   "execution_count": null,
   "metadata": {},
   "outputs": [],
   "source": [
    "import pandas as pd\n",
    "import numpy as np\n",
    "import random\n",
    "import csv\n",
    "from matplotlib import pyplot as plt\n",
    "import seaborn as sns\n",
    "from sklearn.metrics import accuracy_score,precision_score,recall_score\n",
    "from sklearn.model_selection import train_test_split\n",
    "from sklearn.ensemble import RandomForestClassifier\n",
    "from sklearn.model_selection import train_test_split\n",
    "from sklearn.svm import SVC\n",
    "from sklearn.linear_model import LogisticRegression\n",
    "from sklearn.neighbors import KNeighborsClassifier"
   ]
  },
  {
   "cell_type": "markdown",
   "metadata": {},
   "source": [
    "# Wczytanie danych"
   ]
  },
  {
   "cell_type": "code",
   "execution_count": null,
   "metadata": {},
   "outputs": [],
   "source": [
    "data=pd.read_csv(\"australia.csv\")"
   ]
  },
  {
   "cell_type": "code",
   "execution_count": null,
   "metadata": {},
   "outputs": [],
   "source": [
    "data.head()"
   ]
  },
  {
   "cell_type": "code",
   "execution_count": null,
   "metadata": {},
   "outputs": [],
   "source": [
    "data.info()"
   ]
  },
  {
   "cell_type": "markdown",
   "metadata": {},
   "source": [
    "# Podział na zbiór testowy i treningowy"
   ]
  },
  {
   "cell_type": "code",
   "execution_count": null,
   "metadata": {},
   "outputs": [],
   "source": [
    "y = np.array(data['RainTomorrow'])\n",
    "X = data.drop(['RainTomorrow'],axis=1)"
   ]
  },
  {
   "cell_type": "code",
   "execution_count": null,
   "metadata": {},
   "outputs": [],
   "source": [
    "sum(y)"
   ]
  },
  {
   "cell_type": "markdown",
   "metadata": {},
   "source": [
    "To nam daje informacje że zbiór nie jest równo podzielony, ponieważ jest tylko 12427 jedynek. Z tego względu accuracy może nie być najlepszą metryką."
   ]
  },
  {
   "cell_type": "code",
   "execution_count": null,
   "metadata": {},
   "outputs": [],
   "source": [
    "X_train, X_test, y_train, y_test = train_test_split(\n",
    "    X, y, test_size=0.2, random_state=123, stratify=y\n",
    ")"
   ]
  },
  {
   "cell_type": "markdown",
   "metadata": {},
   "source": [
    "# RandomForestClassifier"
   ]
  },
  {
   "cell_type": "code",
   "execution_count": null,
   "metadata": {},
   "outputs": [],
   "source": [
    "rows = []\n",
    "row = []\n",
    "index = []\n",
    "for i in range(2,10,1):\n",
    "    model_rf = RandomForestClassifier(n_estimators=i,random_state=123,n_jobs = -1)\n",
    "    model_rf.fit(X_train, y_train)\n",
    "    y_predict = model_rf.predict(X_test)\n",
    "    row=[accuracy_score(y_test,y_predict),recall_score(y_test,y_predict),precision_score(y_test,y_predict)]\n",
    "    rows.append(row)\n",
    "    index.append(str(i)+' estimators')\n",
    "pd.DataFrame(rows,index=index,columns=['Accuracy','Recall','Precision'])"
   ]
  },
  {
   "cell_type": "markdown",
   "metadata": {},
   "source": [
    "`n_estimators` jest liczbą odpowiadającą za ilość użytych drzew. Wraz ze wzrostem liczby drzew `Accuracy` nieznacznie rośnie. Ciekawe jest, że gdybyśmy spojrzeli oddzielnie tylko na parzyste lub nieparzyste wartości parametru to też możnaby było zaobserwować wzrost `Recall` i `Precision`."
   ]
  },
  {
   "cell_type": "markdown",
   "metadata": {},
   "source": [
    "# SVM"
   ]
  },
  {
   "cell_type": "code",
   "execution_count": null,
   "metadata": {},
   "outputs": [],
   "source": [
    "rows = []\n",
    "row = []\n",
    "index = []\n",
    "for i in range(2,11,2):\n",
    "    model_SVM = SVC(C=i/10,random_state=123)\n",
    "    model_SVM.fit(X_train, y_train)\n",
    "    y_predict = model_SVM.predict(X_test)\n",
    "    row=[accuracy_score(y_test,y_predict),recall_score(y_test,y_predict),precision_score(y_test,y_predict)]\n",
    "    rows.append(row)\n",
    "    index.append('C='+str(i/10))\n",
    "pd.DataFrame(rows,index=index,columns=['Accuracy','Recall','Precision'])"
   ]
  },
  {
   "cell_type": "markdown",
   "metadata": {},
   "source": [
    "`C` jest parametrem regularyzacji, a jej siła jest odwrotnie proporcjonalna do wielkości tego parametru. Karą jest podniesione do kwadratu `l2`. Obserwujemy, że wraz ze wzrostem `C` rośnie też `Accuracy` i `Recall`, a za to maleje `Precision`."
   ]
  },
  {
   "cell_type": "markdown",
   "metadata": {},
   "source": [
    "# KNeighborsClassifier"
   ]
  },
  {
   "cell_type": "code",
   "execution_count": null,
   "metadata": {},
   "outputs": [],
   "source": [
    "rows = []\n",
    "row = []\n",
    "index = []\n",
    "for i in range(3,10,1):\n",
    "    model_knc = KNeighborsClassifier(n_neighbors=i)\n",
    "    model_knc.fit(X_train, y_train)\n",
    "    y_predict = model_knc.predict(X_test)\n",
    "    row=[accuracy_score(y_test,y_predict),recall_score(y_test,y_predict),precision_score(y_test,y_predict)]\n",
    "    rows.append(row)\n",
    "    index.append(str(i)+' neighbours')\n",
    "pd.DataFrame(rows,index=index,columns=['Accuracy','Recall','Precision'])"
   ]
  },
  {
   "cell_type": "markdown",
   "metadata": {},
   "source": [
    "Parametr `n_neighbors` odpowiada za liczbę sąsiadów braną pod uwagę. Występuje analogiczna zależność co przy `RandomForestClassifier`"
   ]
  },
  {
   "cell_type": "markdown",
   "metadata": {},
   "source": [
    "# Podsumowanie\n",
    "Wydaje mi się, że najlepszą miarą z trzech turaj użytych byłoby `Precision` ponieważ minimalizuje on `FP` czyli sytuację, w której przewidzieliśmy że będzie padać, ale nie padało."
   ]
  },
  {
   "cell_type": "code",
   "execution_count": null,
   "metadata": {},
   "outputs": [],
   "source": []
  }
 ],
 "metadata": {
  "kernelspec": {
   "display_name": "Python 3",
   "language": "python",
   "name": "python3"
  },
  "language_info": {
   "codemirror_mode": {
    "name": "ipython",
    "version": 3
   },
   "file_extension": ".py",
   "mimetype": "text/x-python",
   "name": "python",
   "nbconvert_exporter": "python",
   "pygments_lexer": "ipython3",
   "version": "3.8.5"
  },
  "widgets": {
   "application/vnd.jupyter.widget-state+json": {
    "state": {},
    "version_major": 2,
    "version_minor": 0
   }
  }
 },
 "nbformat": 4,
 "nbformat_minor": 4
}
