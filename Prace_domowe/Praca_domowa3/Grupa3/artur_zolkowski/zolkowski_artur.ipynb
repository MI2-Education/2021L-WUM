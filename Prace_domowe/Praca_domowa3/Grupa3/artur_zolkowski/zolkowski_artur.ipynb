{
 "cells": [
  {
   "cell_type": "markdown",
   "metadata": {},
   "source": [
    "### PD3\n",
    "##### Artur Żółkowski"
   ]
  },
  {
   "cell_type": "code",
   "execution_count": null,
   "metadata": {},
   "outputs": [],
   "source": [
    "import pandas as pd\n",
    "import numpy as np\n",
    "import seaborn as sns\n",
    "import matplotlib.pyplot as plt\n",
    "from sklearn.model_selection import train_test_split, KFold, cross_validate\n",
    "from sklearn.ensemble import RandomForestClassifier\n",
    "from sklearn.linear_model import LogisticRegression\n",
    "from sklearn.metrics import accuracy_score\n",
    "from sklearn.metrics import recall_score\n",
    "from sklearn.metrics import f1_score\n",
    "from sklearn.metrics import roc_curve\n",
    "from sklearn.neighbors import KNeighborsClassifier\n",
    "from sklearn.pipeline import Pipeline\n",
    "from sklearn.preprocessing import StandardScaler\n",
    "from sklearn import svm\n",
    "np.random.seed = 42"
   ]
  },
  {
   "cell_type": "code",
   "execution_count": null,
   "metadata": {},
   "outputs": [],
   "source": [
    "df = pd.read_csv(\"https://raw.githubusercontent.com/mini-pw/2021L-WUM/main/Prace_domowe/Praca_domowa3/australia.csv\")\n",
    "df.head()"
   ]
  },
  {
   "cell_type": "code",
   "execution_count": null,
   "metadata": {},
   "outputs": [],
   "source": [
    "df.hist(figsize=(20,15))\n",
    "plt.show()"
   ]
  },
  {
   "cell_type": "code",
   "execution_count": null,
   "metadata": {},
   "outputs": [],
   "source": [
    "X = df.drop(\"RainTomorrow\", axis=1)\n",
    "y = df[[\"RainTomorrow\"]]"
   ]
  },
  {
   "cell_type": "code",
   "execution_count": null,
   "metadata": {},
   "outputs": [],
   "source": [
    "y.describe()"
   ]
  },
  {
   "cell_type": "markdown",
   "metadata": {},
   "source": [
    "Jak można zauważyć mamy znacznie więcej dni bez deszczu niż tych deszczowych. By zachować odpowiednią proporcję tych dni w zbiorze testowym i treningowym, przy podziale użyjemy stratify."
   ]
  },
  {
   "cell_type": "code",
   "execution_count": null,
   "metadata": {},
   "outputs": [],
   "source": [
    "X_train, X_test, y_train, y_test = train_test_split(X, y, stratify=y, test_size=0.2)\n",
    "kfolds = 3\n",
    "split = KFold(n_splits=kfolds, shuffle=True, random_state=42)\n",
    "indicators = [\"recall\", \"accuracy\", \"roc_auc\", \"f1\"]\n",
    "models_summary = pd.DataFrame(columns = indicators) "
   ]
  },
  {
   "cell_type": "markdown",
   "metadata": {},
   "source": [
    "## Modele"
   ]
  },
  {
   "cell_type": "markdown",
   "metadata": {},
   "source": [
    "### Random forest"
   ]
  },
  {
   "cell_type": "code",
   "execution_count": null,
   "metadata": {},
   "outputs": [],
   "source": [
    "rfc = RandomForestClassifier(n_estimators=400, max_depth=40, max_features=4, random_state=42)\n",
    "rf_model = Pipeline(steps=[('standardscaler', StandardScaler()), ('rf', rfc)])\n",
    "    \n",
    "rf_cv_results = cross_validate(rf_model, X_train, y_train, cv=split, scoring=indicators, n_jobs=-1)"
   ]
  },
  {
   "cell_type": "code",
   "execution_count": null,
   "metadata": {},
   "outputs": [],
   "source": [
    "models_summary.loc[\"RF\"]=[np.mean(rf_cv_results[\"test_recall\"]), np.mean(rf_cv_results[\"test_accuracy\"]), \n",
    "                          np.mean(rf_cv_results[\"test_roc_auc\"]), np.mean(rf_cv_results[\"test_f1\"])]"
   ]
  },
  {
   "cell_type": "code",
   "execution_count": null,
   "metadata": {},
   "outputs": [],
   "source": [
    "models_summary.loc[\"RF\"]"
   ]
  },
  {
   "cell_type": "markdown",
   "metadata": {},
   "source": [
    "### SVC"
   ]
  },
  {
   "cell_type": "code",
   "execution_count": null,
   "metadata": {},
   "outputs": [],
   "source": [
    "svc = svm.SVC(kernel=\"linear\", random_state=42)\n",
    "svc_model = Pipeline(steps=[('standardscaler', StandardScaler()), ('svc', svc)])\n",
    "\n",
    "sv_cv_results = cross_validate(svc_model, X_train, y_train, cv=split, scoring=indicators, n_jobs=-1)"
   ]
  },
  {
   "cell_type": "code",
   "execution_count": null,
   "metadata": {},
   "outputs": [],
   "source": [
    "models_summary.loc[\"SVC\"]=[np.mean(sv_cv_results[\"test_recall\"]), np.mean(sv_cv_results[\"test_accuracy\"]), \n",
    "                           np.mean(sv_cv_results[\"test_roc_auc\"]), np.mean(sv_cv_results[\"test_f1\"])]"
   ]
  },
  {
   "cell_type": "code",
   "execution_count": null,
   "metadata": {},
   "outputs": [],
   "source": [
    "models_summary.loc[\"SVC\"]"
   ]
  },
  {
   "cell_type": "markdown",
   "metadata": {},
   "source": [
    "### Logistic regression"
   ]
  },
  {
   "cell_type": "code",
   "execution_count": null,
   "metadata": {},
   "outputs": [],
   "source": [
    "knn = KNeighborsClassifier(n_neighbors=5, weights='distance', p=2, n_jobs=-1)\n",
    "knn_model = Pipeline(steps=[('standardscaler', StandardScaler()), ('knn', knn)])\n",
    "\n",
    "knn_cv_results = cross_validate(knn_model, X_train, y_train, cv=split, scoring=indicators, n_jobs=-1)"
   ]
  },
  {
   "cell_type": "code",
   "execution_count": null,
   "metadata": {},
   "outputs": [],
   "source": [
    "models_summary.loc[\"KNN\"]=[np.mean(knn_cv_results[\"test_recall\"]), np.mean(knn_cv_results[\"test_accuracy\"]), \n",
    "                           np.mean(knn_cv_results[\"test_roc_auc\"]), np.mean(knn_cv_results[\"test_f1\"])]"
   ]
  },
  {
   "cell_type": "code",
   "execution_count": null,
   "metadata": {},
   "outputs": [],
   "source": [
    "models_summary.loc[\"KNN\"]"
   ]
  },
  {
   "cell_type": "markdown",
   "metadata": {},
   "source": [
    "## Porównanie modeli"
   ]
  },
  {
   "cell_type": "code",
   "execution_count": null,
   "metadata": {},
   "outputs": [],
   "source": [
    "models_summary.reset_index()"
   ]
  },
  {
   "cell_type": "code",
   "execution_count": null,
   "metadata": {},
   "outputs": [],
   "source": [
    "models_summary.T.plot.bar()\n",
    "plt.show()"
   ]
  },
  {
   "cell_type": "markdown",
   "metadata": {},
   "source": [
    "Porównując wytrenowane modele możemy zauważyć, że las losowy wypada najlepiej w każdej z obliczonych miar. Oczywiście dobierając nieco inne wartości hiperparametrów wyniki mogłyby być różne. \n",
    "Porównując SVC z KNN możemy zauważyć, że ten drugi ma wyższy wynik recall, jednak wypada znacznie słabiej w pozostałych wartościach. Jeśli jednak chcielibyśmy przewidzieć jak najwięcej deszczowych dni mógłby być on warty rozważenia. \n",
    "Możemy zauważyć, że wszystkie modele mają wysokie accuracy, jednak jeśli weźmiemy pod uwagę, że dni bez deszczu stanowią zdecydowaną większość, wówczas wartości te nie robią żadnego wrażenia. Model który za każdym razem przewidywałby, że nie będzie deszczu, miałby równie wysokie accuracy, jednakże oczywiście byłby bezużyteczny."
   ]
  }
 ],
 "metadata": {
  "kernelspec": {
   "display_name": "Python 3",
   "language": "python",
   "name": "python3"
  },
  "language_info": {
   "codemirror_mode": {
    "name": "ipython",
    "version": 3
   },
   "file_extension": ".py",
   "mimetype": "text/x-python",
   "name": "python",
   "nbconvert_exporter": "python",
   "pygments_lexer": "ipython3",
   "version": "3.9.0"
  }
 },
 "nbformat": 4,
 "nbformat_minor": 4
}
