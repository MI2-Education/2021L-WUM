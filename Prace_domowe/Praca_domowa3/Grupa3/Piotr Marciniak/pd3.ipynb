{
 "cells": [
  {
   "cell_type": "markdown",
   "id": "macro-raise",
   "metadata": {},
   "source": [
    "# Praca Domowa 3\n",
    "Piotr Marciniak\n",
    "## Wczytanie danych i modułów"
   ]
  },
  {
   "cell_type": "code",
   "execution_count": 1,
   "id": "compliant-madagascar",
   "metadata": {},
   "outputs": [
    {
     "data": {
      "text/html": [
       "<div>\n",
       "<style scoped>\n",
       "    .dataframe tbody tr th:only-of-type {\n",
       "        vertical-align: middle;\n",
       "    }\n",
       "\n",
       "    .dataframe tbody tr th {\n",
       "        vertical-align: top;\n",
       "    }\n",
       "\n",
       "    .dataframe thead th {\n",
       "        text-align: right;\n",
       "    }\n",
       "</style>\n",
       "<table border=\"1\" class=\"dataframe\">\n",
       "  <thead>\n",
       "    <tr style=\"text-align: right;\">\n",
       "      <th></th>\n",
       "      <th>MinTemp</th>\n",
       "      <th>MaxTemp</th>\n",
       "      <th>Rainfall</th>\n",
       "      <th>Evaporation</th>\n",
       "      <th>Sunshine</th>\n",
       "      <th>WindGustSpeed</th>\n",
       "      <th>WindSpeed9am</th>\n",
       "      <th>WindSpeed3pm</th>\n",
       "      <th>Humidity9am</th>\n",
       "      <th>Humidity3pm</th>\n",
       "      <th>Pressure9am</th>\n",
       "      <th>Pressure3pm</th>\n",
       "      <th>Cloud9am</th>\n",
       "      <th>Cloud3pm</th>\n",
       "      <th>Temp9am</th>\n",
       "      <th>Temp3pm</th>\n",
       "      <th>RainToday</th>\n",
       "      <th>RainTomorrow</th>\n",
       "    </tr>\n",
       "  </thead>\n",
       "  <tbody>\n",
       "    <tr>\n",
       "      <th>0</th>\n",
       "      <td>17.9</td>\n",
       "      <td>35.2</td>\n",
       "      <td>0.0</td>\n",
       "      <td>12.0</td>\n",
       "      <td>12.3</td>\n",
       "      <td>48.0</td>\n",
       "      <td>6.0</td>\n",
       "      <td>20.0</td>\n",
       "      <td>20.0</td>\n",
       "      <td>13.0</td>\n",
       "      <td>1006.3</td>\n",
       "      <td>1004.4</td>\n",
       "      <td>2.0</td>\n",
       "      <td>5.0</td>\n",
       "      <td>26.6</td>\n",
       "      <td>33.4</td>\n",
       "      <td>0</td>\n",
       "      <td>0</td>\n",
       "    </tr>\n",
       "    <tr>\n",
       "      <th>1</th>\n",
       "      <td>18.4</td>\n",
       "      <td>28.9</td>\n",
       "      <td>0.0</td>\n",
       "      <td>14.8</td>\n",
       "      <td>13.0</td>\n",
       "      <td>37.0</td>\n",
       "      <td>19.0</td>\n",
       "      <td>19.0</td>\n",
       "      <td>30.0</td>\n",
       "      <td>8.0</td>\n",
       "      <td>1012.9</td>\n",
       "      <td>1012.1</td>\n",
       "      <td>1.0</td>\n",
       "      <td>1.0</td>\n",
       "      <td>20.3</td>\n",
       "      <td>27.0</td>\n",
       "      <td>0</td>\n",
       "      <td>0</td>\n",
       "    </tr>\n",
       "    <tr>\n",
       "      <th>2</th>\n",
       "      <td>19.4</td>\n",
       "      <td>37.6</td>\n",
       "      <td>0.0</td>\n",
       "      <td>10.8</td>\n",
       "      <td>10.6</td>\n",
       "      <td>46.0</td>\n",
       "      <td>30.0</td>\n",
       "      <td>15.0</td>\n",
       "      <td>42.0</td>\n",
       "      <td>22.0</td>\n",
       "      <td>1012.3</td>\n",
       "      <td>1009.2</td>\n",
       "      <td>1.0</td>\n",
       "      <td>6.0</td>\n",
       "      <td>28.7</td>\n",
       "      <td>34.9</td>\n",
       "      <td>0</td>\n",
       "      <td>0</td>\n",
       "    </tr>\n",
       "    <tr>\n",
       "      <th>3</th>\n",
       "      <td>21.9</td>\n",
       "      <td>38.4</td>\n",
       "      <td>0.0</td>\n",
       "      <td>11.4</td>\n",
       "      <td>12.2</td>\n",
       "      <td>31.0</td>\n",
       "      <td>6.0</td>\n",
       "      <td>6.0</td>\n",
       "      <td>37.0</td>\n",
       "      <td>22.0</td>\n",
       "      <td>1012.7</td>\n",
       "      <td>1009.1</td>\n",
       "      <td>1.0</td>\n",
       "      <td>5.0</td>\n",
       "      <td>29.1</td>\n",
       "      <td>35.6</td>\n",
       "      <td>0</td>\n",
       "      <td>0</td>\n",
       "    </tr>\n",
       "    <tr>\n",
       "      <th>4</th>\n",
       "      <td>24.2</td>\n",
       "      <td>41.0</td>\n",
       "      <td>0.0</td>\n",
       "      <td>11.2</td>\n",
       "      <td>8.4</td>\n",
       "      <td>35.0</td>\n",
       "      <td>17.0</td>\n",
       "      <td>13.0</td>\n",
       "      <td>19.0</td>\n",
       "      <td>15.0</td>\n",
       "      <td>1010.7</td>\n",
       "      <td>1007.4</td>\n",
       "      <td>1.0</td>\n",
       "      <td>6.0</td>\n",
       "      <td>33.6</td>\n",
       "      <td>37.6</td>\n",
       "      <td>0</td>\n",
       "      <td>0</td>\n",
       "    </tr>\n",
       "    <tr>\n",
       "      <th>...</th>\n",
       "      <td>...</td>\n",
       "      <td>...</td>\n",
       "      <td>...</td>\n",
       "      <td>...</td>\n",
       "      <td>...</td>\n",
       "      <td>...</td>\n",
       "      <td>...</td>\n",
       "      <td>...</td>\n",
       "      <td>...</td>\n",
       "      <td>...</td>\n",
       "      <td>...</td>\n",
       "      <td>...</td>\n",
       "      <td>...</td>\n",
       "      <td>...</td>\n",
       "      <td>...</td>\n",
       "      <td>...</td>\n",
       "      <td>...</td>\n",
       "      <td>...</td>\n",
       "    </tr>\n",
       "    <tr>\n",
       "      <th>56415</th>\n",
       "      <td>19.3</td>\n",
       "      <td>33.4</td>\n",
       "      <td>0.0</td>\n",
       "      <td>6.0</td>\n",
       "      <td>11.0</td>\n",
       "      <td>35.0</td>\n",
       "      <td>9.0</td>\n",
       "      <td>20.0</td>\n",
       "      <td>63.0</td>\n",
       "      <td>32.0</td>\n",
       "      <td>1013.9</td>\n",
       "      <td>1010.5</td>\n",
       "      <td>0.0</td>\n",
       "      <td>1.0</td>\n",
       "      <td>24.5</td>\n",
       "      <td>32.3</td>\n",
       "      <td>0</td>\n",
       "      <td>0</td>\n",
       "    </tr>\n",
       "    <tr>\n",
       "      <th>56416</th>\n",
       "      <td>21.2</td>\n",
       "      <td>32.6</td>\n",
       "      <td>0.0</td>\n",
       "      <td>7.6</td>\n",
       "      <td>8.6</td>\n",
       "      <td>37.0</td>\n",
       "      <td>13.0</td>\n",
       "      <td>11.0</td>\n",
       "      <td>56.0</td>\n",
       "      <td>28.0</td>\n",
       "      <td>1014.6</td>\n",
       "      <td>1011.2</td>\n",
       "      <td>7.0</td>\n",
       "      <td>0.0</td>\n",
       "      <td>24.8</td>\n",
       "      <td>32.0</td>\n",
       "      <td>0</td>\n",
       "      <td>0</td>\n",
       "    </tr>\n",
       "    <tr>\n",
       "      <th>56417</th>\n",
       "      <td>20.7</td>\n",
       "      <td>32.8</td>\n",
       "      <td>0.0</td>\n",
       "      <td>5.6</td>\n",
       "      <td>11.0</td>\n",
       "      <td>33.0</td>\n",
       "      <td>17.0</td>\n",
       "      <td>11.0</td>\n",
       "      <td>46.0</td>\n",
       "      <td>23.0</td>\n",
       "      <td>1015.3</td>\n",
       "      <td>1011.8</td>\n",
       "      <td>0.0</td>\n",
       "      <td>0.0</td>\n",
       "      <td>24.8</td>\n",
       "      <td>32.1</td>\n",
       "      <td>0</td>\n",
       "      <td>0</td>\n",
       "    </tr>\n",
       "    <tr>\n",
       "      <th>56418</th>\n",
       "      <td>19.5</td>\n",
       "      <td>31.8</td>\n",
       "      <td>0.0</td>\n",
       "      <td>6.2</td>\n",
       "      <td>10.6</td>\n",
       "      <td>26.0</td>\n",
       "      <td>9.0</td>\n",
       "      <td>17.0</td>\n",
       "      <td>62.0</td>\n",
       "      <td>58.0</td>\n",
       "      <td>1014.9</td>\n",
       "      <td>1010.7</td>\n",
       "      <td>1.0</td>\n",
       "      <td>1.0</td>\n",
       "      <td>24.8</td>\n",
       "      <td>29.2</td>\n",
       "      <td>0</td>\n",
       "      <td>0</td>\n",
       "    </tr>\n",
       "    <tr>\n",
       "      <th>56419</th>\n",
       "      <td>20.2</td>\n",
       "      <td>31.7</td>\n",
       "      <td>0.0</td>\n",
       "      <td>5.6</td>\n",
       "      <td>10.7</td>\n",
       "      <td>30.0</td>\n",
       "      <td>15.0</td>\n",
       "      <td>7.0</td>\n",
       "      <td>73.0</td>\n",
       "      <td>32.0</td>\n",
       "      <td>1013.9</td>\n",
       "      <td>1009.7</td>\n",
       "      <td>6.0</td>\n",
       "      <td>5.0</td>\n",
       "      <td>25.4</td>\n",
       "      <td>31.0</td>\n",
       "      <td>0</td>\n",
       "      <td>0</td>\n",
       "    </tr>\n",
       "  </tbody>\n",
       "</table>\n",
       "<p>56420 rows × 18 columns</p>\n",
       "</div>"
      ],
      "text/plain": [
       "       MinTemp  MaxTemp  Rainfall  Evaporation  Sunshine  WindGustSpeed  \\\n",
       "0         17.9     35.2       0.0         12.0      12.3           48.0   \n",
       "1         18.4     28.9       0.0         14.8      13.0           37.0   \n",
       "2         19.4     37.6       0.0         10.8      10.6           46.0   \n",
       "3         21.9     38.4       0.0         11.4      12.2           31.0   \n",
       "4         24.2     41.0       0.0         11.2       8.4           35.0   \n",
       "...        ...      ...       ...          ...       ...            ...   \n",
       "56415     19.3     33.4       0.0          6.0      11.0           35.0   \n",
       "56416     21.2     32.6       0.0          7.6       8.6           37.0   \n",
       "56417     20.7     32.8       0.0          5.6      11.0           33.0   \n",
       "56418     19.5     31.8       0.0          6.2      10.6           26.0   \n",
       "56419     20.2     31.7       0.0          5.6      10.7           30.0   \n",
       "\n",
       "       WindSpeed9am  WindSpeed3pm  Humidity9am  Humidity3pm  Pressure9am  \\\n",
       "0               6.0          20.0         20.0         13.0       1006.3   \n",
       "1              19.0          19.0         30.0          8.0       1012.9   \n",
       "2              30.0          15.0         42.0         22.0       1012.3   \n",
       "3               6.0           6.0         37.0         22.0       1012.7   \n",
       "4              17.0          13.0         19.0         15.0       1010.7   \n",
       "...             ...           ...          ...          ...          ...   \n",
       "56415           9.0          20.0         63.0         32.0       1013.9   \n",
       "56416          13.0          11.0         56.0         28.0       1014.6   \n",
       "56417          17.0          11.0         46.0         23.0       1015.3   \n",
       "56418           9.0          17.0         62.0         58.0       1014.9   \n",
       "56419          15.0           7.0         73.0         32.0       1013.9   \n",
       "\n",
       "       Pressure3pm  Cloud9am  Cloud3pm  Temp9am  Temp3pm  RainToday  \\\n",
       "0           1004.4       2.0       5.0     26.6     33.4          0   \n",
       "1           1012.1       1.0       1.0     20.3     27.0          0   \n",
       "2           1009.2       1.0       6.0     28.7     34.9          0   \n",
       "3           1009.1       1.0       5.0     29.1     35.6          0   \n",
       "4           1007.4       1.0       6.0     33.6     37.6          0   \n",
       "...            ...       ...       ...      ...      ...        ...   \n",
       "56415       1010.5       0.0       1.0     24.5     32.3          0   \n",
       "56416       1011.2       7.0       0.0     24.8     32.0          0   \n",
       "56417       1011.8       0.0       0.0     24.8     32.1          0   \n",
       "56418       1010.7       1.0       1.0     24.8     29.2          0   \n",
       "56419       1009.7       6.0       5.0     25.4     31.0          0   \n",
       "\n",
       "       RainTomorrow  \n",
       "0                 0  \n",
       "1                 0  \n",
       "2                 0  \n",
       "3                 0  \n",
       "4                 0  \n",
       "...             ...  \n",
       "56415             0  \n",
       "56416             0  \n",
       "56417             0  \n",
       "56418             0  \n",
       "56419             0  \n",
       "\n",
       "[56420 rows x 18 columns]"
      ]
     },
     "execution_count": 1,
     "metadata": {},
     "output_type": "execute_result"
    }
   ],
   "source": [
    "import pandas as pd\n",
    "import numpy as np\n",
    "\n",
    "weather_df = pd.read_csv('../../australia.csv')\n",
    "weather_df"
   ]
  },
  {
   "cell_type": "markdown",
   "id": "extreme-support",
   "metadata": {},
   "source": [
    "## Podział na zbiór treningowy i testowy\n",
    "Jako, że mamy dużo danych zastosujemy podział 60%-40% danych treningowych do danych testowych."
   ]
  },
  {
   "cell_type": "code",
   "execution_count": 2,
   "id": "greater-austria",
   "metadata": {},
   "outputs": [],
   "source": [
    "from sklearn.model_selection import train_test_split\n",
    "\n",
    "X = weather_df.drop(columns=\"RainTomorrow\")\n",
    "y = weather_df[\"RainTomorrow\"]\n",
    "X_train, X_test, y_train, y_test = train_test_split(X, y, test_size=0.4, random_state=42)"
   ]
  },
  {
   "cell_type": "markdown",
   "id": "gorgeous-tension",
   "metadata": {},
   "source": [
    "## Nauka klasyfikatorów\n",
    "\n",
    "### Random Forest\n",
    "Oprócz hiperparametrów poznanych na ostatnich laboratoriach zainteresował mnie parametr **max_leaf_nodes**, która określa nam maksymalną ilość liści, czyli de facto trafień do dodanych grup. Może powodować powstawanie dużo podziałów, które zachodzą dla tylko zbioru treningowego. Powinien być przydatny w razie overfittingu."
   ]
  },
  {
   "cell_type": "code",
   "execution_count": 3,
   "id": "loose-privacy",
   "metadata": {},
   "outputs": [
    {
     "data": {
      "text/plain": [
       "RandomForestClassifier(max_depth=4, max_features=4, max_leaf_nodes=13,\n",
       "                       min_samples_split=3, n_estimators=500, n_jobs=-1,\n",
       "                       random_state=42)"
      ]
     },
     "execution_count": 3,
     "metadata": {},
     "output_type": "execute_result"
    }
   ],
   "source": [
    "from sklearn.ensemble import RandomForestClassifier\n",
    "\n",
    "rfc = RandomForestClassifier(\n",
    "                            n_estimators=500, \n",
    "                            max_depth=4, \n",
    "                            min_samples_split=3,\n",
    "                            max_features=4, \n",
    "                            max_leaf_nodes=13,\n",
    "                            random_state=42,\n",
    "                            n_jobs = -1)\n",
    "rfc.fit(X_train, y_train)"
   ]
  },
  {
   "cell_type": "code",
   "execution_count": 4,
   "id": "enhanced-india",
   "metadata": {},
   "outputs": [],
   "source": [
    "rfc_pred = rfc.predict(X_test)\n",
    "rfc_prob = rfc.predict_proba(X_test)"
   ]
  },
  {
   "cell_type": "markdown",
   "id": "deluxe-baker",
   "metadata": {},
   "source": [
    "## XGBoost\n",
    "Oprócz hiperparametrów poznanych na ostatnich laboratoriach zainteresował mnie parametr **subsample**. Mówi nam o stosunku przykładów treningowych użytych w danej boostingowej iteracji. Defaultowo jest on ustawiony na 1, czyli cały zbiór treningowy jest użyty w jednej iteracji. Ustawione tej wartości na 0.5, spowoduje losowe podzielenie zbioru na połowę. Wskazujemy frakcję naszego zbioru."
   ]
  },
  {
   "cell_type": "code",
   "execution_count": 5,
   "id": "latest-playback",
   "metadata": {},
   "outputs": [
    {
     "data": {
      "text/plain": [
       "XGBClassifier(base_score=0.5, booster='gbtree', colsample_bylevel=1,\n",
       "              colsample_bynode=1, colsample_bytree=1, eval_metric='logloss',\n",
       "              gamma=0, gpu_id=-1, importance_type='gain',\n",
       "              interaction_constraints='', learning_rate=0.0001,\n",
       "              max_delta_step=0, max_depth=6, min_child_weight=1, missing=nan,\n",
       "              monotone_constraints='()', n_estimators=100, n_jobs=4,\n",
       "              num_parallel_tree=1, random_state=42, reg_alpha=0, reg_lambda=1,\n",
       "              scale_pos_weight=1, subsample=0.8, tree_method='exact',\n",
       "              use_label_encoder=False, validate_parameters=1, verbosity=None)"
      ]
     },
     "execution_count": 5,
     "metadata": {},
     "output_type": "execute_result"
    }
   ],
   "source": [
    "from xgboost import XGBClassifier\n",
    "\n",
    "xgb = XGBClassifier(learning_rate=0.0001,\n",
    "                    booster='gbtree', \n",
    "                    max_depth=6,\n",
    "                    eval_metric=\"logloss\", \n",
    "                    random_state=42,\n",
    "                    subsample=0.8,\n",
    "                    use_label_encoder=False #nie używamy enkodera sklearn'a\n",
    ")\n",
    "\n",
    "xgb.fit(X_train, y_train)"
   ]
  },
  {
   "cell_type": "code",
   "execution_count": 6,
   "id": "specific-audio",
   "metadata": {},
   "outputs": [],
   "source": [
    "xgb_prob = xgb.predict_proba(X_test)\n",
    "xgb_pred = xgb.predict(X_test)"
   ]
  },
  {
   "cell_type": "markdown",
   "id": "removable-mortality",
   "metadata": {},
   "source": [
    "## SVM - Support Vector Machine\n",
    "Hiperparametrem, na którym się skupimy jest **kernel**, czyli funkcje według dokonujemy podziału. Możemy wybrać już z przygotowanych czyli \n",
    "* linear - liniowe,\n",
    "* poly - wielomianowe,\n",
    "* rbf - radial basis function jest to rodzina funkcji, w przypadku domyślnego sci-kita mamy $\\exp\\left(-\\gamma\\|x-x'\\|^2\\right)$, \n",
    "* sigmoid - $\\tanh\\left(\\lambda x^T y + c\\right)$,\n",
    "* precomputed - możemy podać własną funkcję jądra.\n",
    "\n",
    "Z powodu dużej ilości danych użycie Gaussowskiego jądra jest kosztowne, dlatego użyjemy wielomianowe stopnia 2."
   ]
  },
  {
   "cell_type": "code",
   "execution_count": 7,
   "id": "ethical-yellow",
   "metadata": {},
   "outputs": [
    {
     "data": {
      "text/plain": [
       "SVC(cache_size=1000, degree=2, kernel='poly', probability=True)"
      ]
     },
     "execution_count": 7,
     "metadata": {},
     "output_type": "execute_result"
    }
   ],
   "source": [
    "from sklearn.svm import SVC\n",
    "from sklearn.gaussian_process.kernels import RBF\n",
    "\n",
    "svc = SVC(kernel='poly', degree=2, cache_size=1000, probability=True) \n",
    "svc.fit(X_train, y_train)"
   ]
  },
  {
   "cell_type": "code",
   "execution_count": 8,
   "id": "freelance-spiritual",
   "metadata": {},
   "outputs": [],
   "source": [
    "svc_prob = svc.predict_proba(X_test)\n",
    "svc_pred = svc.predict(X_test)"
   ]
  },
  {
   "cell_type": "markdown",
   "id": "powerful-employer",
   "metadata": {},
   "source": [
    "## Porównanie klasyfikatorów\n",
    "Do wstępnego porównania użyjemy na początek *accuracy*. Później spojrzymy na macierz pomyłek (*confusion matrix*). W zależności od tego, jak zdefinujemy nasz problem możemy chcieć wysoki *recall* (farmerzy, których interesuje, jak przewidujemy opad deszczu, aby zaplanować koszenie traw) lub *specifity* (turyści, którym zależy na słonecznej pogodzie), dlatego użyjemy również *ROC curve*, czyli zależności od *recallu* od *specifity* może pomóc dobrać threshold.\n",
    "### Accuracy"
   ]
  },
  {
   "cell_type": "code",
   "execution_count": 9,
   "id": "radical-china",
   "metadata": {},
   "outputs": [
    {
     "data": {
      "text/html": [
       "<div>\n",
       "<style scoped>\n",
       "    .dataframe tbody tr th:only-of-type {\n",
       "        vertical-align: middle;\n",
       "    }\n",
       "\n",
       "    .dataframe tbody tr th {\n",
       "        vertical-align: top;\n",
       "    }\n",
       "\n",
       "    .dataframe thead th {\n",
       "        text-align: right;\n",
       "    }\n",
       "</style>\n",
       "<table border=\"1\" class=\"dataframe\">\n",
       "  <thead>\n",
       "    <tr style=\"text-align: right;\">\n",
       "      <th></th>\n",
       "      <th>Model</th>\n",
       "      <th>Accuracy</th>\n",
       "    </tr>\n",
       "  </thead>\n",
       "  <tbody>\n",
       "    <tr>\n",
       "      <th>0</th>\n",
       "      <td>Random Forest</td>\n",
       "      <td>0.843274</td>\n",
       "    </tr>\n",
       "    <tr>\n",
       "      <th>1</th>\n",
       "      <td>XGBoost</td>\n",
       "      <td>0.846154</td>\n",
       "    </tr>\n",
       "    <tr>\n",
       "      <th>2</th>\n",
       "      <td>Support Vector Machine</td>\n",
       "      <td>0.838843</td>\n",
       "    </tr>\n",
       "  </tbody>\n",
       "</table>\n",
       "</div>"
      ],
      "text/plain": [
       "                    Model  Accuracy\n",
       "0           Random Forest  0.843274\n",
       "1                 XGBoost  0.846154\n",
       "2  Support Vector Machine  0.838843"
      ]
     },
     "execution_count": 9,
     "metadata": {},
     "output_type": "execute_result"
    }
   ],
   "source": [
    "from sklearn.metrics import accuracy_score\n",
    "pd.DataFrame([\n",
    "            (\"Random Forest\", accuracy_score(y_true=y_test, y_pred=rfc_pred)),\n",
    "            (\"XGBoost\", accuracy_score(y_true=y_test, y_pred=xgb_pred)),\n",
    "            (\"Support Vector Machine\", accuracy_score(y_true=y_test, y_pred=svc_pred)),\n",
    "            ], \n",
    "            columns=[\"Model\", \"Accuracy\"])"
   ]
  },
  {
   "cell_type": "markdown",
   "id": "simplified-administration",
   "metadata": {},
   "source": [
    "Jak widzimy accuracy średnio rozróżnia nam nasze klasyfikatory (najlepsze różnią się na 3 cyfrze znaczącej)."
   ]
  },
  {
   "cell_type": "markdown",
   "id": "powered-crawford",
   "metadata": {},
   "source": [
    "### Confusion Matrix"
   ]
  },
  {
   "cell_type": "code",
   "execution_count": 11,
   "id": "generous-going",
   "metadata": {},
   "outputs": [
    {
     "data": {
      "image/png": "[encoded data removed]",
      "text/plain": [
       "<Figure size 1080x360 with 3 Axes>"
      ]
     },
     "metadata": {
      "needs_background": "light"
     },
     "output_type": "display_data"
    }
   ],
   "source": [
    "from sklearn.metrics import confusion_matrix\n",
    "import seaborn as sns\n",
    "import matplotlib.pyplot as plt\n",
    "\n",
    "fig, axes = plt.subplots(1, 3, figsize=(15, 5), sharex=True, sharey=True)\n",
    "def plot_confusion_matrix(ax, y_true, y_pred, name):\n",
    "    C = confusion_matrix(y_true, y_pred)\n",
    "    sns.heatmap(C, annot=True, ax=ax, cmap='Blues', cbar=False, fmt=\"d\")\n",
    "    ax.set_title(name)\n",
    "    ax.set_xlabel(\"Predicted label\")\n",
    "\n",
    "plot_confusion_matrix(axes[0], y_test, rfc_pred, \"Random Forest\")\n",
    "plot_confusion_matrix(axes[1], y_test, xgb_pred, \"XGBoost\")\n",
    "plot_confusion_matrix(axes[2], y_test, svc_pred, \"Support Vector Machine\")\n",
    "axes[0].set_ylabel(\"True label\")\n",
    "plt.show()"
   ]
  },
  {
   "cell_type": "markdown",
   "id": "central-perspective",
   "metadata": {},
   "source": [
    "Widzimy, że *XGBoost* ma najniższy recall, zatem jego zalecałbym dla farmerów, natomiast *specifity* ma najniższy SVM zatem jego zaleciłbym chcącym opalić się turystom. Zatem spójrzmy na poniższą ramkę."
   ]
  },
  {
   "cell_type": "code",
   "execution_count": 19,
   "id": "impressive-november",
   "metadata": {},
   "outputs": [
    {
     "data": {
      "text/html": [
       "<div>\n",
       "<style scoped>\n",
       "    .dataframe tbody tr th:only-of-type {\n",
       "        vertical-align: middle;\n",
       "    }\n",
       "\n",
       "    .dataframe tbody tr th {\n",
       "        vertical-align: top;\n",
       "    }\n",
       "\n",
       "    .dataframe thead th {\n",
       "        text-align: right;\n",
       "    }\n",
       "</style>\n",
       "<table border=\"1\" class=\"dataframe\">\n",
       "  <thead>\n",
       "    <tr style=\"text-align: right;\">\n",
       "      <th></th>\n",
       "      <th>Model</th>\n",
       "      <th>Recall</th>\n",
       "      <th>Precision</th>\n",
       "      <th>F1-score</th>\n",
       "    </tr>\n",
       "  </thead>\n",
       "  <tbody>\n",
       "    <tr>\n",
       "      <th>0</th>\n",
       "      <td>Random Forest</td>\n",
       "      <td>0.402920</td>\n",
       "      <td>0.799843</td>\n",
       "      <td>0.535888</td>\n",
       "    </tr>\n",
       "    <tr>\n",
       "      <th>1</th>\n",
       "      <td>XGBoost</td>\n",
       "      <td>0.478887</td>\n",
       "      <td>0.744936</td>\n",
       "      <td>0.582993</td>\n",
       "    </tr>\n",
       "    <tr>\n",
       "      <th>2</th>\n",
       "      <td>Support Vector Machine</td>\n",
       "      <td>0.356551</td>\n",
       "      <td>0.827760</td>\n",
       "      <td>0.498414</td>\n",
       "    </tr>\n",
       "  </tbody>\n",
       "</table>\n",
       "</div>"
      ],
      "text/plain": [
       "                    Model    Recall  Precision  F1-score\n",
       "0           Random Forest  0.402920   0.799843  0.535888\n",
       "1                 XGBoost  0.478887   0.744936  0.582993\n",
       "2  Support Vector Machine  0.356551   0.827760  0.498414"
      ]
     },
     "execution_count": 19,
     "metadata": {},
     "output_type": "execute_result"
    }
   ],
   "source": [
    "from sklearn.metrics import recall_score, precision_score, f1_score\n",
    "pd.DataFrame([\n",
    "            (\"Random Forest\", recall_score(y_true=y_test, y_pred=rfc_pred), precision_score(y_true=y_test, y_pred=rfc_pred), f1_score(y_true=y_test, y_pred=rfc_pred)),\n",
    "            (\"XGBoost\", recall_score(y_true=y_test, y_pred=xgb_pred), precision_score(y_true=y_test, y_pred=xgb_pred), f1_score(y_true=y_test, y_pred=xgb_pred)),\n",
    "            (\"Support Vector Machine\", recall_score(y_true=y_test, y_pred=svc_pred), precision_score(y_true=y_test, y_pred=svc_pred), f1_score(y_true=y_test, y_pred=svc_pred)),\n",
    "            ], \n",
    "            columns=[\"Model\", \"Recall\", \"Precision\", \"F1-score\"])"
   ]
  },
  {
   "cell_type": "markdown",
   "id": "worthy-encyclopedia",
   "metadata": {},
   "source": [
    "Z F1 widzimy, że n"
   ]
  },
  {
   "cell_type": "markdown",
   "id": "statistical-correspondence",
   "metadata": {},
   "source": [
    "### ROC curve"
   ]
  },
  {
   "cell_type": "code",
   "execution_count": null,
   "id": "favorite-confirmation",
   "metadata": {},
   "outputs": [],
   "source": [
    "from sklearn.metrics import roc_curve\n",
    "import matplotlib.pyplot as plt\n",
    "\n",
    "def plot_roc_curve(y_true, y_pred, name):\n",
    "    fpr, tpr, threshold = roc_curve(y_true, y_pred)\n",
    "    plt.plot(fpr, tpr, label=name)\n",
    "\n",
    "plt.figure(figsize=(18,18))\n",
    "plot_roc_curve(y_test, rfc_prob[:, 1], \"Random Forest\")\n",
    "plot_roc_curve(y_test, xgb_prob[:, 1], \"XGBoost\")\n",
    "plot_roc_curve(y_test, svc_prob[:, 1], \"Support Vector Machine\")\n",
    "plt.legend()\n",
    "plt.xlabel(\"False Positive Rate\")\n",
    "plt.ylabel(\"True Positive Rate\")\n",
    "plt.show()"
   ]
  },
  {
   "cell_type": "markdown",
   "id": "passive-atlanta",
   "metadata": {},
   "source": [
    "Jaki widzimy XGBoost ma najlepszą krzywą (najbliższą do idealnej)."
   ]
  },
  {
   "cell_type": "markdown",
   "id": "moral-basement",
   "metadata": {},
   "source": [
    "## Wniosek\n",
    "Najlepsze wyniki osiągnał XGBoost, wynika to właściwe ze wszystkich użytych metryk."
   ]
  }
 ],
 "metadata": {
  "kernelspec": {
   "display_name": "Python 3",
   "language": "python",
   "name": "python3"
  },
  "language_info": {
   "codemirror_mode": {
    "name": "ipython",
    "version": 3
   },
   "file_extension": ".py",
   "mimetype": "text/x-python",
   "name": "python",
   "nbconvert_exporter": "python",
   "pygments_lexer": "ipython3",
   "version": "3.8.5"
  }
 },
 "nbformat": 4,
 "nbformat_minor": 5
}