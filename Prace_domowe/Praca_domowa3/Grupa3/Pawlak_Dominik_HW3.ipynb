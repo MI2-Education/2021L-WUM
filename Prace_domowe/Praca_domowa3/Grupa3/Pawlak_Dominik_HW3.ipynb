{
 "cells": [
  {
   "cell_type": "code",
   "execution_count": null,
   "id": "postal-permit",
   "metadata": {},
   "outputs": [],
   "source": [
    "import pandas as pd\n",
    "import numpy as np\n",
    "import matplotlib.pyplot as plt\n",
    "import warnings\n",
    "import seaborn as sns\n",
    "warnings.filterwarnings('ignore')\n",
    "np.random.seed = 44"
   ]
  },
  {
   "cell_type": "code",
   "execution_count": null,
   "id": "federal-aviation",
   "metadata": {},
   "outputs": [],
   "source": [
    "weather_df = pd.read_csv('australia.csv')\n",
    "weather_df.head()"
   ]
  },
  {
   "cell_type": "code",
   "execution_count": null,
   "id": "cellular-sacrifice",
   "metadata": {},
   "outputs": [],
   "source": [
    "X = weather_df.drop(['RainTomorrow'], axis=1)\n",
    "y = np.array(weather_df['RainTomorrow'])"
   ]
  },
  {
   "cell_type": "code",
   "execution_count": null,
   "id": "mental-platinum",
   "metadata": {},
   "outputs": [],
   "source": [
    "weather_df.describe()"
   ]
  },
  {
   "cell_type": "code",
   "execution_count": null,
   "id": "greek-chassis",
   "metadata": {},
   "outputs": [],
   "source": [
    "weather_df['RainTomorrow'].hist(bins = 3, figsize = (5, 6))\n",
    "plt.ylabel('Number of cases')\n",
    "plt.xlabel('Rain Tomorrow')\n",
    "plt.xticks([0, 1])\n",
    "plt.show()"
   ]
  },
  {
   "cell_type": "markdown",
   "id": "hungarian-blake",
   "metadata": {},
   "source": [
    "Zatem klasa \"brak deszczu\" występuje dużo więcej razy."
   ]
  },
  {
   "cell_type": "code",
   "execution_count": null,
   "id": "preceding-belarus",
   "metadata": {},
   "outputs": [],
   "source": [
    "from sklearn.model_selection import train_test_split\n",
    "X_train, X_test, y_train, y_test = train_test_split(X, y, test_size=0.2, stratify=y)"
   ]
  },
  {
   "cell_type": "code",
   "execution_count": null,
   "id": "gorgeous-contractor",
   "metadata": {},
   "outputs": [],
   "source": [
    "print(X_train.shape, X_test.shape)"
   ]
  },
  {
   "cell_type": "markdown",
   "id": "committed-farming",
   "metadata": {},
   "source": [
    "# Logistic Regression"
   ]
  },
  {
   "cell_type": "code",
   "execution_count": null,
   "id": "divided-factory",
   "metadata": {},
   "outputs": [],
   "source": [
    "from sklearn.metrics import accuracy_score\n",
    "from sklearn.model_selection import cross_val_score\n",
    "from sklearn.metrics import roc_auc_score\n",
    "from sklearn.metrics import roc_curve\n",
    "\n",
    "from sklearn.linear_model import LogisticRegression\n",
    "from sklearn import tree\n",
    "from sklearn.svm import SVC\n",
    "\n",
    "modelLR = LogisticRegression(penalty = 'none', random_state=35, max_iter=100000)\n",
    "modelLR.fit(X_train, y_train)\n",
    "y_hat = modelLR.predict(X_test)\n",
    "\n",
    "pred_prob1 = modelLR.predict_proba(X_test)\n",
    "fpr1, tpr1, _ = roc_curve(y_test, pred_prob1[:,1], pos_label=1)\n",
    "\n",
    "\n",
    "print(f'Accuracy: {round(accuracy_score(y_test, y_hat), 4)}')\n",
    "print(f'Cross-Validation mean score: {round(np.mean(cross_val_score(modelLR, X_test, y_test)), 4)}')\n",
    "print(f'ROC-AUC Score: {round(roc_auc_score(y_test, pred_prob1[:,1]), 4)}')"
   ]
  },
  {
   "cell_type": "markdown",
   "id": "standing-detector",
   "metadata": {},
   "source": [
    "# Decision tree"
   ]
  },
  {
   "cell_type": "code",
   "execution_count": null,
   "id": "annual-specific",
   "metadata": {},
   "outputs": [],
   "source": [
    "modelDT = tree.DecisionTreeClassifier(random_state = 35, max_depth = 10)\n",
    "modelDT.fit(X_train, y_train)\n",
    "y_hat = modelDT.predict(X_test)\n",
    "\n",
    "pred_prob2 = modelDT.predict_proba(X_test)\n",
    "fpr2, tpr2, _ = roc_curve(y_test, pred_prob2[:, 1], pos_label=1)\n",
    "\n",
    "print(f'Accuracy: {round(accuracy_score(y_test, y_hat), 4)}')\n",
    "print(f'Cross-Validation mean score: {round(np.mean(cross_val_score(modelDT, X_test, y_test)), 4)}')\n",
    "print(f'ROC-AUC Score: {round(roc_auc_score(y_test, pred_prob2[:, 1]), 4)}')"
   ]
  },
  {
   "cell_type": "markdown",
   "id": "mysterious-basis",
   "metadata": {},
   "source": [
    "# SVC"
   ]
  },
  {
   "cell_type": "code",
   "execution_count": null,
   "id": "textile-environment",
   "metadata": {},
   "outputs": [],
   "source": [
    "modelSVC = SVC(gamma='scale', degree = 5, kernel = 'poly', max_iter = 100000, random_state = 35)\n",
    "modelSVC.fit(X_train, y_train)\n",
    "y_hat = modelSVC.predict(X_test)\n",
    "\n",
    "fpr3, tpr3, _ = roc_curve(y_test, y_hat, pos_label=1)\n",
    "\n",
    "print(f'Accuracy: {round(accuracy_score(y_test, y_hat), 4)}')\n",
    "print(f'Cross-Validation mean score: {round(np.mean(cross_val_score(modelDT, X_test, y_test)), 4)}')\n",
    "print(f'ROC-AUC Score: {round(roc_auc_score(y_test, y_hat), 4)}')"
   ]
  },
  {
   "cell_type": "code",
   "execution_count": null,
   "id": "japanese-madrid",
   "metadata": {},
   "outputs": [],
   "source": [
    "random_probs = [0 for i in range(len(y_test))]\n",
    "p_fpr, p_tpr, _ = roc_curve(y_test, random_probs, pos_label=1)\n",
    "\n",
    "plt.plot(fpr1, tpr1, linestyle='--',color='orange', label='Logistic Regression')\n",
    "plt.plot(fpr2, tpr2, linestyle='--',color='green', label='Decision Tree')\n",
    "plt.plot(fpr3, tpr3, linestyle='--',color='red', label='SVC')\n",
    "plt.plot(p_fpr, p_tpr, linestyle='--', color='blue')\n",
    "\n",
    "plt.title('ROC curve')\n",
    "plt.xlabel('False Positive Rate')\n",
    "plt.ylabel('True Positive rate')\n",
    "plt.legend(loc='best')\n",
    "plt.show();"
   ]
  },
  {
   "cell_type": "markdown",
   "id": "existing-queens",
   "metadata": {},
   "source": [
    "Po wykresie krzywej ROC oraz przedstawionych wynikach innych miar jakości klasyfikatora, widzimy, że z wybranych przeze mnie modeli najlepiej radzi sobie model regresji logistycznej."
   ]
  }
 ],
 "metadata": {
  "kernelspec": {
   "display_name": "Python 3",
   "language": "python",
   "name": "python3"
  },
  "language_info": {
   "codemirror_mode": {
    "name": "ipython",
    "version": 3
   },
   "file_extension": ".py",
   "mimetype": "text/x-python",
   "name": "python",
   "nbconvert_exporter": "python",
   "pygments_lexer": "ipython3",
   "version": "3.7.4"
  }
 },
 "nbformat": 4,
 "nbformat_minor": 5
}
