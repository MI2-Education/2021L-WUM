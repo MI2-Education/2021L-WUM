{
 "cells": [
  {
   "cell_type": "markdown",
   "id": "architectural-float",
   "metadata": {},
   "source": [
    "# Praca domowa 3 \n",
    "#### Bartosz Sawicki\n"
   ]
  },
  {
   "cell_type": "code",
   "execution_count": null,
   "id": "local-leave",
   "metadata": {},
   "outputs": [],
   "source": [
    "import pandas as pd"
   ]
  },
  {
   "cell_type": "markdown",
   "id": "spread-source",
   "metadata": {},
   "source": [
    "## Wczytanie zbioru danych"
   ]
  },
  {
   "cell_type": "code",
   "execution_count": null,
   "id": "optional-thesaurus",
   "metadata": {},
   "outputs": [],
   "source": [
    "path = '../../australia.csv'\n",
    "\n",
    "df = pd.read_csv(path)"
   ]
  },
  {
   "cell_type": "code",
   "execution_count": null,
   "id": "french-laptop",
   "metadata": {},
   "outputs": [],
   "source": [
    "df.head()"
   ]
  },
  {
   "cell_type": "code",
   "execution_count": null,
   "id": "bibliographic-capitol",
   "metadata": {},
   "outputs": [],
   "source": [
    "df.shape"
   ]
  },
  {
   "cell_type": "code",
   "execution_count": null,
   "id": "baking-contents",
   "metadata": {},
   "outputs": [],
   "source": [
    "df.info()"
   ]
  },
  {
   "cell_type": "markdown",
   "id": "outdoor-summit",
   "metadata": {},
   "source": [
    "## Podział na zbiór testowy i treningowy"
   ]
  },
  {
   "cell_type": "code",
   "execution_count": null,
   "id": "thousand-present",
   "metadata": {},
   "outputs": [],
   "source": [
    "from sklearn.model_selection import train_test_split"
   ]
  },
  {
   "cell_type": "code",
   "execution_count": null,
   "id": "experimental-greenhouse",
   "metadata": {},
   "outputs": [],
   "source": [
    "X = df.drop('RainTomorrow', axis='columns')\n",
    "y = df.loc[:,'RainTomorrow']\n",
    "display(X,y)"
   ]
  },
  {
   "cell_type": "code",
   "execution_count": null,
   "id": "detected-moral",
   "metadata": {},
   "outputs": [],
   "source": [
    "X_train, X_test, y_train, y_test = train_test_split(\n",
    "    X, y, test_size=0.2, random_state=1337, \n",
    "    stratify=y) # dzielimy tak, żeby zbiór treningowy i testowy miały taki sam rozkład y"
   ]
  },
  {
   "cell_type": "markdown",
   "id": "alternative-blanket",
   "metadata": {},
   "source": [
    "## Nauczenie klasyfikatorów\n",
    "### Regresja logistyczna z l2"
   ]
  },
  {
   "cell_type": "code",
   "execution_count": null,
   "id": "suffering-hotel",
   "metadata": {},
   "outputs": [],
   "source": [
    "from sklearn.linear_model import LogisticRegression"
   ]
  },
  {
   "cell_type": "code",
   "execution_count": null,
   "id": "pleased-diabetes",
   "metadata": {},
   "outputs": [],
   "source": [
    "lr = LogisticRegression(penalty='l2', random_state=1337).fit(X_train, y_train)"
   ]
  },
  {
   "cell_type": "markdown",
   "id": "banner-quantity",
   "metadata": {},
   "source": [
    "Przy domyślnym `max_iter`=100 regresja nie jest zbieżna."
   ]
  },
  {
   "cell_type": "code",
   "execution_count": null,
   "id": "treated-johnston",
   "metadata": {},
   "outputs": [],
   "source": [
    "lr = LogisticRegression(penalty='l2', random_state=1337, max_iter=1000).fit(X_train, y_train)"
   ]
  },
  {
   "cell_type": "markdown",
   "id": "facial-ecuador",
   "metadata": {},
   "source": [
    "Po zwiększeniu parametru mamy zbieżność."
   ]
  },
  {
   "cell_type": "markdown",
   "id": "former-passion",
   "metadata": {},
   "source": [
    "### AdaBoost"
   ]
  },
  {
   "cell_type": "code",
   "execution_count": null,
   "id": "armed-glory",
   "metadata": {},
   "outputs": [],
   "source": [
    "from sklearn.ensemble import AdaBoostClassifier"
   ]
  },
  {
   "cell_type": "code",
   "execution_count": null,
   "id": "daily-valley",
   "metadata": {},
   "outputs": [],
   "source": [
    "ab = AdaBoostClassifier(n_estimators=200, random_state=1337).fit(X_train, y_train)"
   ]
  },
  {
   "cell_type": "markdown",
   "id": "defensive-trademark",
   "metadata": {},
   "source": [
    "### KNN Clasifier"
   ]
  },
  {
   "cell_type": "code",
   "execution_count": null,
   "id": "economic-veteran",
   "metadata": {},
   "outputs": [],
   "source": [
    "from sklearn.neighbors import KNeighborsClassifier"
   ]
  },
  {
   "cell_type": "code",
   "execution_count": null,
   "id": "municipal-witness",
   "metadata": {},
   "outputs": [],
   "source": [
    "knn = KNeighborsClassifier(n_neighbors=7, p=1).fit(X_train, y_train)"
   ]
  },
  {
   "cell_type": "markdown",
   "id": "democratic-yugoslavia",
   "metadata": {},
   "source": [
    "## Ewaluacja modeli\n",
    "\n",
    "Używane metryki:\n",
    "- accuracy\n",
    "- balanced_accuracy\n",
    "- f1\n",
    "- roc_auc\n"
   ]
  },
  {
   "cell_type": "code",
   "execution_count": null,
   "id": "indian-julian",
   "metadata": {},
   "outputs": [],
   "source": [
    "from sklearn.metrics import accuracy_score, balanced_accuracy_score, f1_score, roc_auc_score"
   ]
  },
  {
   "cell_type": "code",
   "execution_count": null,
   "id": "latin-chance",
   "metadata": {},
   "outputs": [],
   "source": [
    "models = [lr,ab,knn]\n",
    "metrics = [accuracy_score, balanced_accuracy_score, f1_score, roc_auc_score]\n",
    "\n",
    "result_dict = {metric.__name__: {} for metric in metrics}\n",
    "\n",
    "for model in models:\n",
    "    y_pred = model.predict(X_test)\n",
    "    for metric in metrics:\n",
    "        result_dict.get(metric.__name__).update({type(model).__name__ : metric(y_test, y_pred)})"
   ]
  },
  {
   "cell_type": "code",
   "execution_count": null,
   "id": "stuffed-correspondence",
   "metadata": {},
   "outputs": [],
   "source": [
    "metric_names = [metric.__name__ for metric in metrics]\n",
    "res = pd.DataFrame(result_dict)\n",
    "res = pd.concat((res,res.index.to_series()), axis=1)\n",
    "results = res.melt(0,metric_names)\n",
    "results['metric'] = results['variable']"
   ]
  },
  {
   "cell_type": "code",
   "execution_count": null,
   "id": "fewer-foundation",
   "metadata": {},
   "outputs": [],
   "source": [
    "import matplotlib.pyplot as plt\n",
    "import seaborn as sns"
   ]
  },
  {
   "cell_type": "code",
   "execution_count": null,
   "id": "according-yemen",
   "metadata": {},
   "outputs": [],
   "source": [
    "sns.catplot(data=results, hue=0, y='value', x='metric', kind='bar', col='metric', sharex=False, col_wrap=2)\n",
    "plt.show()"
   ]
  },
  {
   "cell_type": "markdown",
   "id": "second-daily",
   "metadata": {},
   "source": [
    "Niezależnie, czy patrzymy na wynik jednej metryki, czy na wszystkie, najlepszym klasyfikatorem okazuje się AdaBoost. Niemniej jego przewaga nad innymi modelami jest niewielka."
   ]
  }
 ],
 "metadata": {
  "kernelspec": {
   "display_name": "Python 3",
   "language": "python",
   "name": "python3"
  },
  "language_info": {
   "codemirror_mode": {
    "name": "ipython",
    "version": 3
   },
   "file_extension": ".py",
   "mimetype": "text/x-python",
   "name": "python",
   "nbconvert_exporter": "python",
   "pygments_lexer": "ipython3",
   "version": "3.8.5"
  }
 },
 "nbformat": 4,
 "nbformat_minor": 5
}
