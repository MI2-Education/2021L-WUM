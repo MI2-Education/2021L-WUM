{
 "cells": [
  {
   "cell_type": "code",
   "execution_count": null,
   "id": "basic-machinery",
   "metadata": {},
   "outputs": [],
   "source": [
    "import pandas as pd\n",
    "import numpy as np\n",
    "import seaborn as sns\n",
    "import matplotlib.pyplot as plt\n",
    "from sklearn.model_selection import train_test_split\n",
    "from sklearn.pipeline import Pipeline\n",
    "from sklearn.preprocessing import StandardScaler\n",
    "from sklearn.model_selection import KFold, cross_validate"
   ]
  },
  {
   "cell_type": "code",
   "execution_count": null,
   "id": "blocked-scenario",
   "metadata": {},
   "outputs": [],
   "source": [
    "rain_df = pd.read_csv(\"https://raw.githubusercontent.com/mini-pw/2021L-WUM/main/Prace_domowe/Praca_domowa3/australia.csv\")\n",
    "rain_df.head()"
   ]
  },
  {
   "cell_type": "code",
   "execution_count": null,
   "id": "historic-africa",
   "metadata": {},
   "outputs": [],
   "source": [
    "rain_df.hist(figsize = (18, 12))\n",
    "plt.show()"
   ]
  },
  {
   "cell_type": "markdown",
   "id": "modern-destiny",
   "metadata": {},
   "source": [
    "Widać dużą dysproporcje miedzy dnami deszczowymi i bezdeszczowymi, uwzględnimy ją przy dzieleniu dancch na zbiory."
   ]
  },
  {
   "cell_type": "markdown",
   "id": "peaceful-patient",
   "metadata": {},
   "source": [
    "### Podział na zbiór treningowy i testowy"
   ]
  },
  {
   "cell_type": "code",
   "execution_count": null,
   "id": "massive-fitness",
   "metadata": {},
   "outputs": [],
   "source": [
    "X = rain_df.drop('RainTomorrow', axis = 1)\n",
    "y = rain_df[['RainTomorrow']]"
   ]
  },
  {
   "cell_type": "code",
   "execution_count": null,
   "id": "accepting-player",
   "metadata": {},
   "outputs": [],
   "source": [
    "X_train, X_test, y_train, y_test = train_test_split(X, y, stratify = y, test_size = 0.2, random_state = 29)\n",
    "\n",
    "print(f'X_train shape: {X_train.shape}')\n",
    "print(f'X_test shape:  {X_test.shape}')\n",
    "print(f'y_train shape: {y_train.shape}')\n",
    "print(f'y_test shape:  {y_test.shape}')"
   ]
  },
  {
   "cell_type": "markdown",
   "id": "oriental-sleeve",
   "metadata": {},
   "source": [
    "## Uczenie modeli"
   ]
  },
  {
   "cell_type": "code",
   "execution_count": null,
   "id": "retained-printer",
   "metadata": {},
   "outputs": [],
   "source": [
    "split = KFold(n_splits = 10, shuffle =True, random_state = 29)\n",
    "\n",
    "def results_to_df(results, model):\n",
    "    data = [\n",
    "        ['accuracy', np.mean(results['test_accuracy'])],\n",
    "        ['precision', np.mean(results['test_precision'])],\n",
    "        ['roc_aux', np.mean(results['test_roc_auc'])],\n",
    "        ['recall', np.mean(results['test_recall'])]\n",
    "    ]\n",
    "    return pd.DataFrame(data, columns = ['measure', model])"
   ]
  },
  {
   "cell_type": "markdown",
   "id": "hearing-vessel",
   "metadata": {},
   "source": [
    "### Regresja liniowa"
   ]
  },
  {
   "cell_type": "code",
   "execution_count": null,
   "id": "hazardous-quebec",
   "metadata": {},
   "outputs": [],
   "source": [
    "from sklearn.linear_model import LogisticRegression\n",
    "\n",
    "lr = LogisticRegression(penalty = 'l1', solver='saga', random_state = 29, max_iter = 1000)\n",
    "\n",
    "lr_pipe = Pipeline(\n",
    "        steps=[\n",
    "        ('standardscaler', StandardScaler()),\n",
    "        ('lr', lr)])  \n",
    "\n",
    "lr_results = cross_validate(lr_pipe, X_train, y_train, cv = split, n_jobs = -1,\n",
    "                               scoring = ['accuracy', 'precision', 'roc_auc', 'recall'])\n",
    "\n",
    "\n",
    "lr_df = results_to_df(lr_results, 'LogisticRegression')"
   ]
  },
  {
   "cell_type": "code",
   "execution_count": null,
   "id": "needed-alcohol",
   "metadata": {},
   "outputs": [],
   "source": [
    "lr_df"
   ]
  },
  {
   "cell_type": "markdown",
   "id": "owned-hardware",
   "metadata": {},
   "source": [
    "### Random Forest"
   ]
  },
  {
   "cell_type": "code",
   "execution_count": null,
   "id": "academic-flood",
   "metadata": {},
   "outputs": [],
   "source": [
    "from sklearn.ensemble import RandomForestClassifier\n",
    "\n",
    "randomForest = RandomForestClassifier(max_depth = 10, random_state = 29, n_estimators = 300)\n",
    "\n",
    "randomForest_pipe = Pipeline(\n",
    "    steps=[\n",
    "        ('standardscaler', StandardScaler()),\n",
    "        ('rf', randomForest)])  \n",
    "\n",
    "randomForest_results = cross_validate(randomForest_pipe, X_train, y_train, cv = split, n_jobs = -1,\n",
    "                               scoring = ['accuracy', 'precision', 'roc_auc', 'recall'])\n",
    "\n",
    "\n",
    "randomForest_df = results_to_df(randomForest_results, 'RandomForest')"
   ]
  },
  {
   "cell_type": "code",
   "execution_count": null,
   "id": "ordered-collaboration",
   "metadata": {},
   "outputs": [],
   "source": [
    "randomForest_df"
   ]
  },
  {
   "cell_type": "markdown",
   "id": "excess-photograph",
   "metadata": {},
   "source": [
    "### K Nearest Neighbors"
   ]
  },
  {
   "cell_type": "code",
   "execution_count": null,
   "id": "material-workstation",
   "metadata": {},
   "outputs": [],
   "source": [
    "from sklearn.neighbors import KNeighborsClassifier\n",
    "\n",
    "knn = KNeighborsClassifier(n_neighbors = 10, algorithm = 'ball_tree', leaf_size = 40)\n",
    "\n",
    "knn_pipe = Pipeline(\n",
    "    steps=[\n",
    "        ('standardscaler', StandardScaler()),\n",
    "        ('knn', knn)])  \n",
    "\n",
    "knn_results = cross_validate(knn_pipe, X_train, y_train, cv = split, n_jobs = -1,\n",
    "                               scoring = ['accuracy', 'precision', 'roc_auc', 'recall'])\n",
    "\n",
    "\n",
    "knn_df = results_to_df(knn_results, 'KNeighbours')"
   ]
  },
  {
   "cell_type": "code",
   "execution_count": null,
   "id": "matched-jaguar",
   "metadata": {},
   "outputs": [],
   "source": [
    "knn_df"
   ]
  },
  {
   "cell_type": "markdown",
   "id": "clean-disease",
   "metadata": {},
   "source": [
    "## Ocena modeli"
   ]
  },
  {
   "cell_type": "code",
   "execution_count": null,
   "id": "governmental-meter",
   "metadata": {},
   "outputs": [],
   "source": [
    "all_results = pd.merge((pd.merge(lr_df, randomForest_df, on = 'measure')), knn_df, on = 'measure')\n",
    "\n",
    "all_results"
   ]
  },
  {
   "cell_type": "code",
   "execution_count": null,
   "id": "fresh-congo",
   "metadata": {},
   "outputs": [],
   "source": [
    "all_results_melt = all_results.melt(id_vars=['measure'],\n",
    "                                    value_vars=['LogisticRegression', 'RandomForest', 'KNeighbours'])\n",
    "\n",
    "plt.figure(figsize = (9, 6))\n",
    "sns.barplot(data = all_results_melt, x = 'variable', y = 'value', hue = 'measure'\n",
    "           ).set(xlabel='', ylabel='mean value')\n",
    "plt.legend(bbox_to_anchor=(1.01, 1),borderaxespad=0)\n",
    "plt.show()"
   ]
  },
  {
   "cell_type": "markdown",
   "id": "opposed-fitting",
   "metadata": {},
   "source": [
    "Dla każdego z modeli średnie wartośi mair są na podobnym poziomie, więc ciężko wybrać najlepszy s\n",
    "pośród nich.\n",
    "\n",
    "Accuracy we wszystkich moedlach jest bardzo wysokie, jednak sprawdza ono tylko poprawność odpowiedzi, która należy do zbioru {0, 1}, przy czym 0 jest znacznie więcej niż 1. Nietrudo więc trafić w większość poprawnych odpowiedzi. Auc_roc daje równie wysokie wyniki.\n",
    "\n",
    "Porównując Precision i Recall można zauważyć dysproporcje, dni bez deszczu są częściej są uznawane na deszczowe niż dni deszczowe za dni bez deszczu. Te dwie miary razem z accuracy dają dobry obraz działania modelu."
   ]
  }
 ],
 "metadata": {
  "kernelspec": {
   "display_name": "Python 3",
   "language": "python",
   "name": "python3"
  },
  "language_info": {
   "codemirror_mode": {
    "name": "ipython",
    "version": 3
   },
   "file_extension": ".py",
   "mimetype": "text/x-python",
   "name": "python",
   "nbconvert_exporter": "python",
   "pygments_lexer": "ipython3",
   "version": "3.8.1"
  }
 },
 "nbformat": 4,
 "nbformat_minor": 5
}
