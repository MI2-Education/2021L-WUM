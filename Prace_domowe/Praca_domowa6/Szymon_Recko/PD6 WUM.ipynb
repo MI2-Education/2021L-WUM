{
 "cells": [
  {
   "cell_type": "markdown",
   "metadata": {},
   "source": [
    "# PD 6 Szymon Rećko"
   ]
  },
  {
   "cell_type": "code",
   "execution_count": null,
   "metadata": {},
   "outputs": [],
   "source": [
    "from sklearn.datasets import fetch_olivetti_faces\n",
    "import matplotlib.pyplot as plt\n",
    "import numpy as np\n",
    "from sklearn.decomposition import PCA\n",
    "from sklearn.metrics import mean_squared_error\n",
    "from skimage.transform import rotate,swirl"
   ]
  },
  {
   "cell_type": "markdown",
   "metadata": {},
   "source": [
    "## Dane"
   ]
  },
  {
   "cell_type": "code",
   "execution_count": null,
   "metadata": {},
   "outputs": [],
   "source": [
    "data=fetch_olivetti_faces()"
   ]
  },
  {
   "cell_type": "code",
   "execution_count": null,
   "metadata": {},
   "outputs": [],
   "source": [
    "data.keys()"
   ]
  },
  {
   "cell_type": "markdown",
   "metadata": {},
   "source": [
    "## Przydatne funkcje"
   ]
  },
  {
   "cell_type": "code",
   "execution_count": null,
   "metadata": {},
   "outputs": [],
   "source": [
    "def cal_RMSE(original_data, data_after_trans):\n",
    "    for i in range(4):\n",
    "        id = ids[i]*10\n",
    "        print((mean_squared_error(original_data[id], data_after_trans[id], squared=False)))"
   ]
  },
  {
   "cell_type": "code",
   "execution_count": null,
   "metadata": {},
   "outputs": [],
   "source": [
    "def RMSE_mod(modificated_image):\n",
    "    transformed_data  = pca.transform(modificated_image)\n",
    "    inverted = pca.inverse_transform(transformed_data)\n",
    "    cal_RMSE(data_copy,inverted)"
   ]
  },
  {
   "cell_type": "markdown",
   "metadata": {},
   "source": [
    "## 0. Rysowanie"
   ]
  },
  {
   "cell_type": "code",
   "execution_count": null,
   "metadata": {},
   "outputs": [],
   "source": [
    "ids=[1,2,3,4]\n",
    "images=data.images\n",
    "fig_original, ax=plt.subplots(nrows=1, ncols=4, figsize=(18, 9))\n",
    "ax=ax.flatten()\n",
    "for i in range(4):\n",
    "    id =ids[i]\n",
    "    image_index=id*10\n",
    "    ax[i].imshow(images[image_index], cmap='gray')\n",
    "    ax[i].set_xticks([])\n",
    "    ax[i].set_yticks([])\n",
    "    ax[i].set_title(\"id:{}\".format(id))"
   ]
  },
  {
   "cell_type": "markdown",
   "metadata": {},
   "source": [
    "## 1. PCA"
   ]
  },
  {
   "cell_type": "code",
   "execution_count": null,
   "metadata": {},
   "outputs": [],
   "source": [
    "data_copy=data.data.copy()\n",
    "target=data.target.copy()\n",
    "images=data.images.copy()\n",
    "pca=PCA()\n",
    "pca.fit(data_copy)\n",
    "plt.figure(1, figsize=(12,8))\n",
    "plt.plot(np.cumsum(pca.explained_variance_ratio_))\n",
    "plt.xlabel('number of components')\n",
    "plt.ylabel('cumulative explained variance')\n",
    "plt.show()"
   ]
  },
  {
   "cell_type": "code",
   "execution_count": null,
   "metadata": {},
   "outputs": [],
   "source": [
    "#wybieramy tyle komponentów by co najmniej 95% wariancji było wyjaśnionej\n",
    "pca = PCA(n_components = 0.95)\n",
    "data_pca = pca.fit_transform(data_copy)\n",
    "kompresja=4096/data_pca.shape[1]\n",
    "print(\"Stopień kompresji: \"+str(kompresja))"
   ]
  },
  {
   "cell_type": "markdown",
   "metadata": {},
   "source": [
    "## 2. Transformacja odwrotna"
   ]
  },
  {
   "cell_type": "code",
   "execution_count": null,
   "metadata": {},
   "outputs": [],
   "source": [
    "inverted = pca.inverse_transform(data_pca)\n",
    "inverted.shape\n",
    "inverted_img = inverted.reshape(400,64,64)\n",
    "inverted_img.shape"
   ]
  },
  {
   "cell_type": "code",
   "execution_count": null,
   "metadata": {},
   "outputs": [],
   "source": [
    "images=inverted_img\n",
    "fig_pca, ax=plt.subplots(nrows=1, ncols=4, figsize=(18, 9))\n",
    "ax=ax.flatten()\n",
    "for i in range(4):\n",
    "    id =ids[i]\n",
    "    image_index=id*10\n",
    "    ax[i].imshow(images[image_index], cmap='gray')\n",
    "    ax[i].set_xticks([])\n",
    "    ax[i].set_yticks([])\n",
    "    ax[i].set_title(\"id:{}\".format(id))"
   ]
  },
  {
   "cell_type": "code",
   "execution_count": null,
   "metadata": {},
   "outputs": [],
   "source": [
    "fig_original"
   ]
  },
  {
   "cell_type": "code",
   "execution_count": null,
   "metadata": {},
   "outputs": [],
   "source": [
    "cal_RMSE(data_copy,inverted)"
   ]
  },
  {
   "cell_type": "markdown",
   "metadata": {},
   "source": [
    "## 3. Przekształcone obrazy"
   ]
  },
  {
   "cell_type": "code",
   "execution_count": null,
   "metadata": {},
   "outputs": [],
   "source": [
    "plt.figure(1, figsize=(20, 20))\n",
    "for i in range(4):\n",
    "    id = ids[i]*10\n",
    "    #obrócone\n",
    "    rotated = rotate(images[id], 90)\n",
    "    plt.subplot(11, 5, i+1)\n",
    "    plt.imshow(rotated, cmap=plt.cm.gray, interpolation='nearest')\n",
    "    plt.xticks(())\n",
    "    plt.yticks(())\n",
    "    #odbicie lustrzane\n",
    "    horizontal_flip = images[id][:, ::-1]\n",
    "    plt.subplot(11, 5, 5+i+1)\n",
    "    plt.imshow(horizontal_flip, cmap=plt.cm.gray, interpolation='nearest')\n",
    "    plt.xticks(())\n",
    "    plt.yticks(())\n",
    "    #swirl\n",
    "    swirled = swirl(images[id], rotation=0, strength=2, radius=90)\n",
    "    plt.subplot(11, 5, 10+i+1)\n",
    "    plt.imshow(swirled, cmap=plt.cm.gray, interpolation='nearest')\n",
    "    plt.xticks(())\n",
    "    plt.yticks(())"
   ]
  },
  {
   "cell_type": "markdown",
   "metadata": {},
   "source": [
    "## 4. Transformacja, odwrotna transformacja, RMSE"
   ]
  },
  {
   "cell_type": "code",
   "execution_count": null,
   "metadata": {},
   "outputs": [],
   "source": [
    "rotated = rotate(data_copy, 90)\n",
    "print('RMSE dla obrócenia:')\n",
    "RMSE_mod(rotated)\n",
    "horizontal_flip = data_copy[:, ::-1]\n",
    "print('RMSE dla odbicia:')\n",
    "RMSE_mod(horizontal_flip)\n",
    "swirled = swirl(data_copy, rotation=0, strength=2, radius=90)\n",
    "print('RMSE dla swirled:')\n",
    "RMSE_mod(swirled)"
   ]
  },
  {
   "cell_type": "markdown",
   "metadata": {},
   "source": [
    "## 5. Wnioski"
   ]
  },
  {
   "cell_type": "markdown",
   "metadata": {},
   "source": [
    "Na podstawie tego badania widać, że ta metoda może być użyta przy wykrywaniu anomali na zdjęciach takich jak odbicie czy obrócenie ponieważ jest tam zauważalnie większe RMSE, jednak nie jest w stanie zauważyć przekształcenia swirl."
   ]
  },
  {
   "cell_type": "code",
   "execution_count": null,
   "metadata": {},
   "outputs": [],
   "source": []
  }
 ],
 "metadata": {
  "kernelspec": {
   "display_name": "Python 3",
   "language": "python",
   "name": "python3"
  },
  "language_info": {
   "codemirror_mode": {
    "name": "ipython",
    "version": 3
   },
   "file_extension": ".py",
   "mimetype": "text/x-python",
   "name": "python",
   "nbconvert_exporter": "python",
   "pygments_lexer": "ipython3",
   "version": "3.8.5"
  }
 },
 "nbformat": 4,
 "nbformat_minor": 4
}
