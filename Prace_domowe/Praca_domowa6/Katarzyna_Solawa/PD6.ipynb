{
 "cells": [
  {
   "cell_type": "code",
   "execution_count": null,
   "id": "super-porter",
   "metadata": {},
   "outputs": [],
   "source": [
    "from sklearn.datasets import fetch_olivetti_faces"
   ]
  },
  {
   "cell_type": "code",
   "execution_count": null,
   "id": "burning-prophet",
   "metadata": {},
   "outputs": [],
   "source": [
    "import pandas as pd \n",
    "import numpy as np\n",
    "from matplotlib import pyplot as plt\n",
    "import seaborn as sns\n",
    "import pandas_profiling\n",
    "import copy\n",
    "from sklearn.decomposition import PCA\n",
    "import sklearn.metrics\n",
    "from sklearn import manifold\n",
    "from sklearn.cluster import KMeans\n",
    "from sklearn.manifold import TSNE"
   ]
  },
  {
   "cell_type": "code",
   "execution_count": null,
   "id": "medical-candidate",
   "metadata": {},
   "outputs": [],
   "source": [
    "df=fetch_olivetti_faces()"
   ]
  },
  {
   "cell_type": "markdown",
   "id": "working-explanation",
   "metadata": {},
   "source": [
    "# Narysować wybrane obrazy."
   ]
  },
  {
   "cell_type": "code",
   "execution_count": null,
   "id": "pregnant-subcommittee",
   "metadata": {},
   "outputs": [],
   "source": [
    "nrows, ncols = 2, 5\n",
    "plt.figure(figsize=(10,5))\n",
    "plt.gray()\n",
    "for i in range(ncols * nrows):\n",
    "    ax = plt.subplot(nrows, ncols, i + 1)\n",
    "    ax.matshow(df.images[i*10,...])\n",
    "    plt.xticks([]); plt.yticks([])\n",
    "    plt.title(df.target[i*10])\n",
    "plt.show()\n"
   ]
  },
  {
   "cell_type": "markdown",
   "id": "pediatric-criminal",
   "metadata": {},
   "source": [
    "# Wykorzystać algorytm PCA do kompresji zbioru Olivetti Faces. "
   ]
  },
  {
   "cell_type": "code",
   "execution_count": null,
   "id": "muslim-sense",
   "metadata": {},
   "outputs": [],
   "source": [
    "from sklearn.decomposition import PCA\n",
    "pca = PCA().fit(df.data)\n",
    "\n",
    "plt.figure(figsize=(9,6))\n",
    "plt.plot(range(1, len(pca.explained_variance_ratio_)+1), np.cumsum(pca.explained_variance_ratio_))\n",
    "plt.xlabel('number of components')\n",
    "plt.ylabel('cumulative explained variance');"
   ]
  },
  {
   "cell_type": "markdown",
   "id": "automated-liver",
   "metadata": {},
   "source": [
    "Wybieramy takie `n_components` aby `cumulative explained variance` było ok, 0.95"
   ]
  },
  {
   "cell_type": "code",
   "execution_count": null,
   "id": "regional-delivery",
   "metadata": {},
   "outputs": [],
   "source": [
    "from sklearn.decomposition import PCA\n",
    "pca = PCA(n_components = 0.99)\n",
    "pca.fit(df.data)\n",
    "reduced = pca.transform(df.data)\n"
   ]
  },
  {
   "cell_type": "markdown",
   "id": "numerous-universal",
   "metadata": {},
   "source": [
    "Policzmy stopień kompresji"
   ]
  },
  {
   "cell_type": "code",
   "execution_count": null,
   "id": "after-premiere",
   "metadata": {},
   "outputs": [],
   "source": [
    "print(f\"CR = {df.data.shape[1]/reduced.shape[1]}\")"
   ]
  },
  {
   "cell_type": "code",
   "execution_count": null,
   "id": "institutional-concert",
   "metadata": {},
   "outputs": [],
   "source": [
    "re_reduced = pca.inverse_transform(reduced)"
   ]
  },
  {
   "cell_type": "code",
   "execution_count": null,
   "id": "correct-morning",
   "metadata": {},
   "outputs": [],
   "source": [
    "nrows, ncols = 2, 5\n",
    "plt.figure(figsize=(10,5))\n",
    "plt.gray()\n",
    "for i in range(ncols * nrows):\n",
    "    ax = plt.subplot(nrows, ncols, i + 1)\n",
    "    ax.matshow(re_reduced[i*10].reshape((64,64)))\n",
    "    plt.xticks([]); plt.yticks([])\n",
    "    plt.title(i)\n",
    "plt.show()"
   ]
  },
  {
   "cell_type": "markdown",
   "id": "prompt-bookmark",
   "metadata": {},
   "source": [
    "Po preprowadzeniu transformacji odwrotnej można zaóważyć spadek jakości względem pierwotnych obrazów"
   ]
  },
  {
   "cell_type": "code",
   "execution_count": null,
   "id": "primary-berry",
   "metadata": {},
   "outputs": [],
   "source": [
    "from sklearn.metrics import mean_squared_error\n",
    "for i in range(10):\n",
    "    print(f'RMSE obraz {i}: {np.sqrt(mean_squared_error(df.data[i*10], re_reduced[i*10])):.3f}')"
   ]
  },
  {
   "cell_type": "markdown",
   "id": "weighted-danish",
   "metadata": {},
   "source": [
    "# Modyfikacje\n",
    "## rotacja"
   ]
  },
  {
   "cell_type": "code",
   "execution_count": null,
   "id": "missing-catering",
   "metadata": {},
   "outputs": [],
   "source": [
    "rotated = []\n",
    "for image in df.images:\n",
    "    rotated.append(np.transpose(image))\n",
    "rotated = np.array(rotated)"
   ]
  },
  {
   "cell_type": "code",
   "execution_count": null,
   "id": "agricultural-spread",
   "metadata": {},
   "outputs": [],
   "source": [
    "nrows, ncols = 2, 5\n",
    "plt.figure(figsize=(10,5))\n",
    "plt.gray()\n",
    "for i in range(ncols * nrows):\n",
    "    ax = plt.subplot(nrows, ncols, i + 1)\n",
    "    ax.matshow(rotated[i*10,...])\n",
    "    plt.xticks([]); plt.yticks([])\n",
    "    plt.title(df.target[i*10])\n",
    "plt.show()\n"
   ]
  },
  {
   "cell_type": "markdown",
   "id": "stuck-alignment",
   "metadata": {},
   "source": [
    "## odbicie lustrzane"
   ]
  },
  {
   "cell_type": "code",
   "execution_count": null,
   "id": "statistical-provision",
   "metadata": {},
   "outputs": [],
   "source": [
    "mirror = []\n",
    "for image in df.images:\n",
    "    mirror.append(np.fliplr(image))\n",
    "mirror = np.array(mirror)"
   ]
  },
  {
   "cell_type": "code",
   "execution_count": null,
   "id": "bearing-conclusion",
   "metadata": {},
   "outputs": [],
   "source": [
    "nrows, ncols = 2, 5\n",
    "plt.figure(figsize=(10,5))\n",
    "plt.gray()\n",
    "for i in range(ncols * nrows):\n",
    "    ax = plt.subplot(nrows, ncols, i + 1)\n",
    "    ax.matshow(mirror[i*10,...])\n",
    "    plt.xticks([]); plt.yticks([])\n",
    "    plt.title(df.target[i*10])\n",
    "plt.show()"
   ]
  },
  {
   "cell_type": "markdown",
   "id": "extraordinary-indonesian",
   "metadata": {},
   "source": [
    "## przyciemnione"
   ]
  },
  {
   "cell_type": "code",
   "execution_count": null,
   "id": "parallel-spanking",
   "metadata": {},
   "outputs": [],
   "source": [
    "dark = []\n",
    "for image in df.data:\n",
    "    dark.append((image - 0.5).clip(min=0))\n",
    "dark = np.array(dark)"
   ]
  },
  {
   "cell_type": "code",
   "execution_count": null,
   "id": "crucial-museum",
   "metadata": {},
   "outputs": [],
   "source": [
    "nrows, ncols = 2, 5\n",
    "plt.figure(figsize=(10,5))\n",
    "plt.gray()\n",
    "for i in range(ncols * nrows):\n",
    "    ax = plt.subplot(nrows, ncols, i + 1)\n",
    "    ax.matshow(dark[i*10,...].reshape((64,64)))\n",
    "    plt.xticks([]); plt.yticks([])\n",
    "    plt.title(df.target[i*10])\n",
    "plt.show()"
   ]
  },
  {
   "cell_type": "markdown",
   "id": "skilled-lottery",
   "metadata": {},
   "source": [
    "# Transformacja modyfikacji"
   ]
  },
  {
   "cell_type": "code",
   "execution_count": null,
   "id": "binary-kingdom",
   "metadata": {},
   "outputs": [],
   "source": [
    "reduced = pca.transform(df.data)\n",
    "re_reduced = pca.inverse_transform(reduced)"
   ]
  },
  {
   "cell_type": "code",
   "execution_count": null,
   "id": "numerous-three",
   "metadata": {},
   "outputs": [],
   "source": [
    "for i in range(10):\n",
    "    print(f'RMSE obraz {i}: {np.sqrt(mean_squared_error(df.data[i*10], re_reduced[i*10])):.3f}')"
   ]
  },
  {
   "cell_type": "markdown",
   "id": "urban-metadata",
   "metadata": {},
   "source": [
    "## rotacja"
   ]
  },
  {
   "cell_type": "code",
   "execution_count": null,
   "id": "ready-height",
   "metadata": {},
   "outputs": [],
   "source": [
    "reduced = pca.transform(rotated.reshape((400,4096)))\n",
    "re_reduced = pca.inverse_transform(reduced)"
   ]
  },
  {
   "cell_type": "code",
   "execution_count": null,
   "id": "constant-complement",
   "metadata": {},
   "outputs": [],
   "source": [
    "for i in range(10):\n",
    "    print(f'RMSE obraz {i} rotated: {np.sqrt(mean_squared_error(rotated.reshape((400,4096))[i*10], re_reduced[i*10])):.3f}')"
   ]
  },
  {
   "cell_type": "markdown",
   "id": "popular-liver",
   "metadata": {},
   "source": [
    "Wartosci błędu ok. 7 razy większa niż dla orginalnych obrazów"
   ]
  },
  {
   "cell_type": "markdown",
   "id": "japanese-journal",
   "metadata": {},
   "source": [
    "## odbicie lustrzane"
   ]
  },
  {
   "cell_type": "code",
   "execution_count": null,
   "id": "increased-personal",
   "metadata": {},
   "outputs": [],
   "source": [
    "reduced = pca.transform(mirror.reshape((400,4096)))\n",
    "re_reduced = pca.inverse_transform(reduced)"
   ]
  },
  {
   "cell_type": "code",
   "execution_count": null,
   "id": "loving-welsh",
   "metadata": {},
   "outputs": [],
   "source": [
    "for i in range(10):\n",
    "    print(f'RMSE obraz {i} mirrored: {np.sqrt(mean_squared_error(mirror.reshape((400,4096))[i*10], re_reduced[i*10])):.3f}')"
   ]
  },
  {
   "cell_type": "markdown",
   "id": "becoming-chosen",
   "metadata": {},
   "source": [
    "Odbcia lustrzane mają największe RMSE dla obrazów które orginalnie miały najmniejsze. RMSE nie jest tak duże jak dla rotacji."
   ]
  },
  {
   "cell_type": "markdown",
   "id": "lyric-radiation",
   "metadata": {},
   "source": [
    "## przyciemnione"
   ]
  },
  {
   "cell_type": "code",
   "execution_count": null,
   "id": "juvenile-maldives",
   "metadata": {},
   "outputs": [],
   "source": [
    "reduced = pca.transform(dark.reshape((400,4096)))\n",
    "re_reduced = pca.inverse_transform(reduced)"
   ]
  },
  {
   "cell_type": "code",
   "execution_count": null,
   "id": "russian-violence",
   "metadata": {},
   "outputs": [],
   "source": [
    "for i in range(10):\n",
    "    print(f'RMSE obraz {i} darken: {np.sqrt(mean_squared_error(dark.reshape((400,4096))[i*10], re_reduced[i*10])):.3f}')"
   ]
  },
  {
   "cell_type": "markdown",
   "id": "industrial-intermediate",
   "metadata": {},
   "source": [
    "Wyniki RMSE dla przyciemnienia są stabilne `(0.03x)` podobnie jak dla oryginalych obrazów `(0.01x)`"
   ]
  },
  {
   "cell_type": "markdown",
   "id": "organic-proposition",
   "metadata": {},
   "source": [
    "# Czy PCA może służyć do wykrywania pewnego typu anomalii w zdjęciach twarzy?\n",
    "\n",
    "Wydaje mi się że tak. RMSE po PCA zdjęć zmodyfikowanych było często największe dla zdjęć które pierwotnie miały najmniejsze RMSE. Może to oznaczać że te obrazy miały jakieś elementy wyróżniające się które pozwalały łatwiej odtworzyć ten obraz po kompresji, ale model nie radził sobię z przywracaniem tych cech szczególnych po modyfikacji obrazu. Jednym z takich obrazów był ten pokazany niżej. Może ma to związek z krzywym nosem lub ustami."
   ]
  },
  {
   "cell_type": "code",
   "execution_count": null,
   "id": "decimal-acceptance",
   "metadata": {},
   "outputs": [],
   "source": [
    "plt.figure(figsize=(10,5))\n",
    "plt.gray()\n",
    "plt.matshow(re_reduced[1*10].reshape((64,64)))\n",
    "plt.xticks([]); plt.yticks([])\n",
    "plt.title(1)\n",
    "plt.show()"
   ]
  }
 ],
 "metadata": {
  "kernelspec": {
   "display_name": "Python 3",
   "language": "python",
   "name": "python3"
  },
  "language_info": {
   "codemirror_mode": {
    "name": "ipython",
    "version": 3
   },
   "file_extension": ".py",
   "mimetype": "text/x-python",
   "name": "python",
   "nbconvert_exporter": "python",
   "pygments_lexer": "ipython3",
   "version": "3.8.8"
  }
 },
 "nbformat": 4,
 "nbformat_minor": 5
}
