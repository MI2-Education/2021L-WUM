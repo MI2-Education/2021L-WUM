{
 "cells": [
  {
   "cell_type": "code",
   "execution_count": null,
   "id": "shaped-breast",
   "metadata": {},
   "outputs": [],
   "source": [
    "import pandas as pd\n",
    "import numpy as np\n",
    "import matplotlib.pyplot as plt\n",
    "import seaborn as sns\n",
    "from sklearn.datasets import fetch_olivetti_faces"
   ]
  },
  {
   "cell_type": "markdown",
   "id": "caroline-float",
   "metadata": {},
   "source": [
    "- Narysować wybrane obrazy.\n",
    "\n",
    "- Wykorzystać algorytm PCA do kompresji zbioru Olivetti Faces. Dobrać odpowiednią liczbę składowych. Po transformacji obliczyć stopień kompresji. Rozmiar obrazka: liczba wartości numerycznych\n",
    "\n",
    "- Przeprowadzić transformację odwrotną (inverse_transform). Narysować, porównać z pkt. 0. Obliczyć błąd rekonstrukcji w postaci błędu RMSE dla każdego obrazu.\n",
    "\n",
    "- Przygotować kilka / kilkanaście zmodyfikowanych obrazów (np. obróconych o 90 stopni, przyciemnionych, odbitych w poziomie).\n",
    "\n",
    "- Korzystając z modelu wyuczonego w pkt. 1 przeprowadzić transformację, a następnie odwrotną transformację obrazów z pkt. 3.\n",
    "\n",
    "- Obliczyć błąd rekonstrukji dla każdego typu modyfikacji. Porównać z wartościami błędu uzyskanymi w pkt. 2.\n",
    "\n",
    "- Czy PCA może służyć do wykrywania pewnego typu anomalii w zdjęciach twarzy? Jeżeli tak to jakich?"
   ]
  },
  {
   "cell_type": "code",
   "execution_count": null,
   "id": "artistic-municipality",
   "metadata": {},
   "outputs": [],
   "source": [
    "faces = fetch_olivetti_faces()\n",
    "data = faces['data']\n",
    "images = faces['images']\n",
    "test_images = images[[1, 50, 100, 200, 300],:,:]"
   ]
  },
  {
   "cell_type": "markdown",
   "id": "sacred-conditions",
   "metadata": {},
   "source": [
    "# Rysowanie obrazów"
   ]
  },
  {
   "cell_type": "code",
   "execution_count": null,
   "id": "induced-connectivity",
   "metadata": {},
   "outputs": [],
   "source": [
    "fig, axs = plt.subplots(1, 5, figsize=(15, 3))\n",
    "for i in range(5):\n",
    "    axs[i].imshow(test_images[i])"
   ]
  },
  {
   "cell_type": "markdown",
   "id": "generous-canberra",
   "metadata": {},
   "source": [
    "# Kompresja"
   ]
  },
  {
   "cell_type": "code",
   "execution_count": null,
   "id": "ordinary-carbon",
   "metadata": {},
   "outputs": [],
   "source": [
    "from sklearn.decomposition import PCA"
   ]
  },
  {
   "cell_type": "code",
   "execution_count": null,
   "id": "gross-parish",
   "metadata": {},
   "outputs": [],
   "source": [
    "pca = PCA(n_components=400)\n",
    "\n",
    "data_pca = pca.fit_transform(data)"
   ]
  },
  {
   "cell_type": "code",
   "execution_count": null,
   "id": "funded-operator",
   "metadata": {},
   "outputs": [],
   "source": [
    "plt.figure(figsize=(9,6))\n",
    "plt.plot(range(1, len(pca.explained_variance_ratio_)+1), np.cumsum(pca.explained_variance_ratio_))\n",
    "plt.xlabel('number of components')\n",
    "plt.xlim(0, 200)\n",
    "plt.ylabel('cumulative explained variance')"
   ]
  },
  {
   "cell_type": "markdown",
   "id": "hired-monthly",
   "metadata": {},
   "source": [
    "Przy około 100 komponentach wyjaśnionych jest 90% warinacji."
   ]
  },
  {
   "cell_type": "code",
   "execution_count": null,
   "id": "floral-jungle",
   "metadata": {},
   "outputs": [],
   "source": [
    "pca = PCA(n_components=100)\n",
    "data_pca2 = pca.fit_transform(data)"
   ]
  },
  {
   "cell_type": "code",
   "execution_count": null,
   "id": "ceramic-guard",
   "metadata": {},
   "outputs": [],
   "source": [
    "data.shape"
   ]
  },
  {
   "cell_type": "code",
   "execution_count": null,
   "id": "critical-metro",
   "metadata": {},
   "outputs": [],
   "source": [
    "data_pca2.shape"
   ]
  },
  {
   "cell_type": "code",
   "execution_count": null,
   "id": "tropical-development",
   "metadata": {},
   "outputs": [],
   "source": [
    "print(f\"Stopień kompresji to {(data.shape[0] * data.shape[1]) / (data_pca2.shape[0] * data_pca2.shape[1])}\")"
   ]
  },
  {
   "cell_type": "markdown",
   "id": "bearing-georgia",
   "metadata": {},
   "source": [
    "# Transformacja odwrotna"
   ]
  },
  {
   "cell_type": "code",
   "execution_count": null,
   "id": "retained-russian",
   "metadata": {},
   "outputs": [],
   "source": [
    "fig, axs = plt.subplots(1, 5, figsize=(15, 3))\n",
    "inv_t = pca.inverse_transform(data_pca2)\n",
    "idx = [1, 50, 100, 200, 300]\n",
    "for i in range(5):\n",
    "    axs[i].imshow(inv_t[idx[i]].reshape(64, 64))"
   ]
  },
  {
   "cell_type": "markdown",
   "id": "double-mining",
   "metadata": {},
   "source": [
    "Różnica po inverse transforamtion jest niezauważalna."
   ]
  },
  {
   "cell_type": "code",
   "execution_count": null,
   "id": "harmful-seminar",
   "metadata": {},
   "outputs": [],
   "source": [
    "from sklearn.metrics import mean_squared_error as rmse"
   ]
  },
  {
   "cell_type": "code",
   "execution_count": null,
   "id": "dense-worcester",
   "metadata": {},
   "outputs": [],
   "source": [
    "rmse_arr = []\n",
    "\n",
    "for i in range(400):\n",
    "    rmse_arr.append(rmse(data[i], inv_t[i], squared = True))"
   ]
  },
  {
   "cell_type": "code",
   "execution_count": null,
   "id": "dependent-shift",
   "metadata": {},
   "outputs": [],
   "source": [
    "plt.figure(figsize=(9,6))\n",
    "plt.plot(range(1, len(rmse_arr)+1), rmse_arr)\n",
    "plt.xlabel('picture')\n",
    "plt.xlim(0, 400)\n",
    "plt.ylabel('rmse')"
   ]
  },
  {
   "cell_type": "code",
   "execution_count": null,
   "id": "rental-chamber",
   "metadata": {},
   "outputs": [],
   "source": [
    "np.mean(rmse_arr)"
   ]
  },
  {
   "cell_type": "markdown",
   "id": "imperial-filling",
   "metadata": {},
   "source": [
    "Błąd rekonstrukcji jest bardzo niski, wynosi troche ponad 0.001."
   ]
  },
  {
   "cell_type": "markdown",
   "id": "young-offer",
   "metadata": {},
   "source": [
    "# Modyfikacja obrazów\n",
    "## Obrót"
   ]
  },
  {
   "cell_type": "code",
   "execution_count": null,
   "id": "steady-divorce",
   "metadata": {},
   "outputs": [],
   "source": [
    "from skimage.transform import rotate"
   ]
  },
  {
   "cell_type": "code",
   "execution_count": null,
   "id": "satisfied-sympathy",
   "metadata": {},
   "outputs": [],
   "source": [
    "fig, axs = plt.subplots(1, 5, figsize=(15, 3))\n",
    "rotated_images = []\n",
    "for i in range(5):\n",
    "    rotated_images.append(rotate(test_images[i], -90))\n",
    "    axs[i].imshow(rotated_images[i])"
   ]
  },
  {
   "cell_type": "markdown",
   "id": "neural-cyprus",
   "metadata": {},
   "source": [
    "## Obrót po PCA i inverse trasformation"
   ]
  },
  {
   "cell_type": "code",
   "execution_count": null,
   "id": "dependent-queen",
   "metadata": {},
   "outputs": [],
   "source": [
    "rotated_images_pca = pca.inverse_transform(pca.transform(np.array(rotated_images).reshape(5, -1)))"
   ]
  },
  {
   "cell_type": "code",
   "execution_count": null,
   "id": "established-assembly",
   "metadata": {},
   "outputs": [],
   "source": [
    "fig, axs = plt.subplots(1, 5, figsize=(15, 3))\n",
    "for i in range(5):\n",
    "    axs[i].imshow(rotated_images_pca[i].reshape(64,64))"
   ]
  },
  {
   "cell_type": "markdown",
   "id": "empirical-orchestra",
   "metadata": {},
   "source": [
    "## Przyciemnienie"
   ]
  },
  {
   "cell_type": "code",
   "execution_count": null,
   "id": "proof-charter",
   "metadata": {},
   "outputs": [],
   "source": [
    "from skimage import exposure"
   ]
  },
  {
   "cell_type": "code",
   "execution_count": null,
   "id": "right-segment",
   "metadata": {},
   "outputs": [],
   "source": [
    "fig, axs = plt.subplots(1, 5, figsize=(15, 3))\n",
    "darker_images = []\n",
    "for i in range(5):\n",
    "    darker_images.append(exposure.adjust_gamma(test_images[i], 5))\n",
    "    axs[i].imshow(darker_images[i])"
   ]
  },
  {
   "cell_type": "markdown",
   "id": "norman-scholarship",
   "metadata": {},
   "source": [
    "## Przyciemnienie po PCA i inverse trasformation"
   ]
  },
  {
   "cell_type": "code",
   "execution_count": null,
   "id": "institutional-scratch",
   "metadata": {},
   "outputs": [],
   "source": [
    "darker_images_pca = pca.inverse_transform(pca.transform(np.array(darker_images).reshape(5, -1)))"
   ]
  },
  {
   "cell_type": "code",
   "execution_count": null,
   "id": "entire-ghost",
   "metadata": {},
   "outputs": [],
   "source": [
    "fig, axs = plt.subplots(1, 5, figsize=(15, 3))\n",
    "for i in range(5):\n",
    "    axs[i].imshow(darker_images_pca[i].reshape(64,64))"
   ]
  },
  {
   "cell_type": "markdown",
   "id": "seeing-costa",
   "metadata": {},
   "source": [
    "## Odbicie w poziomie"
   ]
  },
  {
   "cell_type": "code",
   "execution_count": null,
   "id": "nonprofit-cameroon",
   "metadata": {},
   "outputs": [],
   "source": [
    "fig, axs = plt.subplots(1, 5, figsize=(15, 3))\n",
    "fliped_images = []\n",
    "for i in range(5):\n",
    "    fliped_images.append(test_images[i][:,::-1])\n",
    "    axs[i].imshow(fliped_images[i])"
   ]
  },
  {
   "cell_type": "markdown",
   "id": "reduced-conference",
   "metadata": {},
   "source": [
    "## Odbicie w poziomie po PCA i inverse trasformation"
   ]
  },
  {
   "cell_type": "code",
   "execution_count": null,
   "id": "charming-bryan",
   "metadata": {},
   "outputs": [],
   "source": [
    "fliped_images_pca = pca.inverse_transform(pca.transform(np.array(fliped_images).reshape(5, -1)))"
   ]
  },
  {
   "cell_type": "code",
   "execution_count": null,
   "id": "graduate-grace",
   "metadata": {},
   "outputs": [],
   "source": [
    "fig, axs = plt.subplots(1, 5, figsize=(15, 3))\n",
    "for i in range(5):\n",
    "    axs[i].imshow(fliped_images_pca[i].reshape(64,64))"
   ]
  },
  {
   "cell_type": "markdown",
   "id": "objective-stock",
   "metadata": {},
   "source": [
    "# Błąd transformacji"
   ]
  },
  {
   "cell_type": "code",
   "execution_count": null,
   "id": "ranking-feeling",
   "metadata": {},
   "outputs": [],
   "source": [
    "# błąd dla wszystkich obrazów przy obrocie\n",
    "rotated_all = np.array([rotate(images[i], -90) for i in range(len(images))]).reshape(len(images), -1)\n",
    "rotated_all_pca = pca.inverse_transform(\n",
    "    pca.transform(\n",
    "        rotated_all\n",
    "    )\n",
    ")\n",
    "\n",
    "rmse_rotated = np.array([rmse(rotated_all[i], rotated_all_pca[i], squared = True) for i in range(len(rotated_all))])\n",
    "\n",
    "# błąd dla wszystkich obrazów po przciemnenieu\n",
    "darker_all = np.array([exposure.adjust_gamma(images[i], 5) for i in range(len(images))]).reshape(len(images), -1)\n",
    "darker_all_pca = pca.inverse_transform(\n",
    "    pca.transform(\n",
    "        darker_all\n",
    "    )\n",
    ")\n",
    "\n",
    "rmse_darker = np.array([rmse(darker_all[i], darker_all_pca[i], squared = True) for i in range(len(darker_all_pca))])\n",
    "\n",
    "# błąd dla wszystkich obrazów po odbiciu\n",
    "flipped_all = np.array([images[i][:,::-1] for i in range(len(images))]).reshape(len(images), -1)\n",
    "flipped_all_pca = pca.inverse_transform(\n",
    "    pca.transform(\n",
    "        flipped_all\n",
    "    )\n",
    ")\n",
    "\n",
    "rmse_flipped = np.array([rmse(flipped_all[i], flipped_all_pca[i], squared = True) for i in range(len(flipped_all))])\n"
   ]
  },
  {
   "cell_type": "code",
   "execution_count": null,
   "id": "victorian-judge",
   "metadata": {},
   "outputs": [],
   "source": [
    "df = pd.DataFrame({\n",
    "    'transformation' : ['normal', 'rotation', 'dark', 'flip'],\n",
    "    'rmse' : [np.mean(rmse_arr), np.mean(rmse_rotated), np.mean(rmse_darker), np.mean(rmse_flipped)]\n",
    "    })"
   ]
  },
  {
   "cell_type": "code",
   "execution_count": null,
   "id": "entire-quarterly",
   "metadata": {},
   "outputs": [],
   "source": [
    "fig, ax = plt.subplots(1, 1, figsize=(9,6))\n",
    "\n",
    "sns.barplot(data = df, x = 'transformation', y = 'rmse',\n",
    "            color = 'dodgerblue',\n",
    "            order = df.sort_values('rmse')['transformation'], ax = ax)\n",
    "ax.set_title('RMSE for transformations')\n",
    "ax.set_xlabel('')"
   ]
  },
  {
   "cell_type": "markdown",
   "id": "abandoned-paradise",
   "metadata": {},
   "source": [
    "Największe RMSE jest dla obrócenia zdjęcia o 90, można było to wywnioskować już po narysowanych obrazach, po transformacji i transformacji odwrotenj obrazy w ogóle nie były obrócone i prawie wcale nie są do siebie podobne. \n",
    "Przyciemnione obrazy również straciły na jakości jednak wciąż można je rozpoznać a efekt przyciemnienia się zachował.\n",
    "Na obazach odbitych w poziomie widać podobieństow i zachowanie efektu.\n",
    "\n",
    "PCA może być wykorzytywane w wykrywaniu anomalii w zdjęciach, szczególnie w obrotu (można na przykład stworzyć narzędzie do automatycznego obracania zdjęć w dobrą stronę)."
   ]
  }
 ],
 "metadata": {
  "kernelspec": {
   "display_name": "Python 3",
   "language": "python",
   "name": "python3"
  },
  "language_info": {
   "codemirror_mode": {
    "name": "ipython",
    "version": 3
   },
   "file_extension": ".py",
   "mimetype": "text/x-python",
   "name": "python",
   "nbconvert_exporter": "python",
   "pygments_lexer": "ipython3",
   "version": "3.8.2"
  }
 },
 "nbformat": 4,
 "nbformat_minor": 5
}
