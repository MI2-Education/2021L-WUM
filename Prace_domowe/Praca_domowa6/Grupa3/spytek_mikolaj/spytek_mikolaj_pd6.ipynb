{
 "cells": [
  {
   "cell_type": "markdown",
   "id": "mathematical-milwaukee",
   "metadata": {},
   "source": [
    "# Praca domowa 6\n",
    "**Mikołaj Spytek**"
   ]
  },
  {
   "cell_type": "code",
   "execution_count": null,
   "id": "passing-meaning",
   "metadata": {},
   "outputs": [],
   "source": [
    "from sklearn.datasets import fetch_olivetti_faces\n",
    "import matplotlib.pyplot as plt\n",
    "import pandas as pd\n",
    "import numpy as np\n",
    "faces = fetch_olivetti_faces()\n",
    "df = faces.data\n",
    "images = faces.images"
   ]
  },
  {
   "cell_type": "code",
   "execution_count": null,
   "id": "later-efficiency",
   "metadata": {},
   "outputs": [],
   "source": [
    "def draw_faces(data):\n",
    "    fig, axs = plt.subplots(4,4, figsize=(16,16))\n",
    "    for i in range(16):\n",
    "        axs[i//4, i%4].imshow(data[i].reshape(64,64), cmap=\"gray\")\n",
    "    plt.show()\n",
    "    \n",
    "def darken(data, value):\n",
    "    newdata = []\n",
    "    for i in range(len(data)):\n",
    "        if data[i]>value:\n",
    "            newdata.append(data[i]-value)\n",
    "        else:\n",
    "            newdata.append(0)\n",
    "    return np.array(newdata)"
   ]
  },
  {
   "cell_type": "markdown",
   "id": "blessed-joseph",
   "metadata": {},
   "source": [
    "## Część 0\n",
    "Rysowanie niektórych obrazków"
   ]
  },
  {
   "cell_type": "code",
   "execution_count": null,
   "id": "balanced-framing",
   "metadata": {},
   "outputs": [],
   "source": [
    "draw_faces(df)"
   ]
  },
  {
   "cell_type": "markdown",
   "id": "reliable-brisbane",
   "metadata": {},
   "source": [
    "## Część 1\n",
    "PCA i dobór ilości współrzędnych"
   ]
  },
  {
   "cell_type": "code",
   "execution_count": null,
   "id": "emerging-aviation",
   "metadata": {},
   "outputs": [],
   "source": [
    "from sklearn.decomposition import PCA\n",
    "\n",
    "pca = PCA()\n",
    "\n",
    "pca.fit(df)\n",
    "plt.plot(range(1, len(pca.explained_variance_ratio_)+1), np.cumsum(pca.explained_variance_ratio_))\n",
    "plt.xlabel('number of components')\n",
    "plt.ylabel('cumulative explained variance')\n",
    "plt.show()\n",
    "\n",
    "np.cumsum(pca.explained_variance_ratio_)[250]"
   ]
  },
  {
   "cell_type": "markdown",
   "id": "sustainable-sunday",
   "metadata": {},
   "source": [
    "Na podstawie wykresu, możemy przyjąć, że 250 będzie odpowiednią liczbą komponentów, ponad 98% wariancji jest już wyjaśnione. "
   ]
  },
  {
   "cell_type": "code",
   "execution_count": null,
   "id": "developing-toronto",
   "metadata": {},
   "outputs": [],
   "source": [
    "newpca= PCA(n_components=250)\n",
    "\n",
    "newpca.fit(df)\n",
    "\n",
    "df_after_pca = newpca.transform(df)\n",
    "\n",
    "compression_rate = len(df[0])/len(df_after_pca[0])\n",
    "\n",
    "print(\"Stopień kompresji to: {}\".format(compression_rate))"
   ]
  },
  {
   "cell_type": "markdown",
   "id": "impaired-myrtle",
   "metadata": {},
   "source": [
    "## Część 2\n",
    "Przekształcenie odwrotne"
   ]
  },
  {
   "cell_type": "code",
   "execution_count": null,
   "id": "spectacular-yorkshire",
   "metadata": {},
   "outputs": [],
   "source": [
    "reconstructed = newpca.inverse_transform(df_after_pca)\n",
    "\n",
    "draw_faces(reconstructed)"
   ]
  },
  {
   "cell_type": "markdown",
   "id": "sporting-reduction",
   "metadata": {},
   "source": [
    "Obrazy zrekonstruowane wyglądają bardzo podobnie, różnica jest raczej niezauważalna, jedyne co można powiedzieć, to mała strata jakości."
   ]
  },
  {
   "cell_type": "code",
   "execution_count": null,
   "id": "exposed-steal",
   "metadata": {},
   "outputs": [],
   "source": [
    "from sklearn.metrics import mean_squared_error\n",
    "scores = []\n",
    "\n",
    "for i in range(len(df)):\n",
    "    scores.append(np.sqrt(mean_squared_error(df[i], reconstructed[i])))\n",
    "    \n",
    "plt.plot(scores)\n",
    "plt.xlabel(\"photo number\")\n",
    "plt.ylabel(\"root mean squared error\")\n",
    "plt.show()\n",
    "\n",
    "print(\"Baseline: {}\".format(np.sqrt(mean_squared_error(df[0], [0.5 for i in range(4096)]))))"
   ]
  },
  {
   "cell_type": "markdown",
   "id": "genuine-montgomery",
   "metadata": {},
   "source": [
    "Jak widać wartość błedu jest niewielka, nie przekracza 0.02, podczas gdy baseline, jest 10x większy."
   ]
  },
  {
   "cell_type": "markdown",
   "id": "bridal-measurement",
   "metadata": {},
   "source": [
    "## Część 3\n",
    "Przekształcenia niektórych obrazów"
   ]
  },
  {
   "cell_type": "code",
   "execution_count": null,
   "id": "actual-polish",
   "metadata": {},
   "outputs": [],
   "source": [
    "flipped = []\n",
    "# vertical flip\n",
    "\n",
    "for i in range(len(df)):\n",
    "    flipped.append(np.flip(df[i].reshape(64, 64), axis=1).reshape(1, 4096))\n",
    "\n",
    "draw_faces(flipped)"
   ]
  },
  {
   "cell_type": "code",
   "execution_count": null,
   "id": "boring-willow",
   "metadata": {},
   "outputs": [],
   "source": [
    "#rotation\n",
    "rotated = []\n",
    "\n",
    "for i in range(len(df)):\n",
    "    rotated.append(np.rot90(df[i].reshape(64, 64)).reshape(1, 4096))\n",
    "draw_faces(rotated)"
   ]
  },
  {
   "cell_type": "code",
   "execution_count": null,
   "id": "exposed-capital",
   "metadata": {},
   "outputs": [],
   "source": [
    "#darkening\n",
    "darkened = []\n",
    "\n",
    "for i in range(len(df)):\n",
    "    darkened.append(darken(df[i], 0.5).reshape(1, 4096))\n",
    "draw_faces(darkened)\n",
    "\n"
   ]
  },
  {
   "cell_type": "markdown",
   "id": "central-sudan",
   "metadata": {},
   "source": [
    "## Część 4\n",
    "PCA i PCA odwrotne"
   ]
  },
  {
   "cell_type": "code",
   "execution_count": null,
   "id": "median-faith",
   "metadata": {},
   "outputs": [],
   "source": [
    "flipped_arr = np.array(flipped).reshape(len(df), 4096)\n",
    "transformed_flipped = newpca.transform(flipped_arr)\n",
    "reversed_flipped = newpca.inverse_transform(transformed_flipped)\n",
    "\n",
    "draw_faces(reversed_flipped)"
   ]
  },
  {
   "cell_type": "code",
   "execution_count": null,
   "id": "fifteen-banner",
   "metadata": {},
   "outputs": [],
   "source": [
    "rotated_arr = np.array(rotated).reshape(len(df), 4096)\n",
    "transformed_rotated = newpca.transform(rotated_arr)\n",
    "reversed_rotated = newpca.inverse_transform(transformed_rotated)\n",
    "\n",
    "draw_faces(reversed_rotated)"
   ]
  },
  {
   "cell_type": "code",
   "execution_count": null,
   "id": "indian-financing",
   "metadata": {},
   "outputs": [],
   "source": [
    "darkened_arr = np.array(darkened).reshape(len(df), 4096)\n",
    "transformed_darkened = newpca.transform(darkened_arr)\n",
    "reversed_darkened = newpca.inverse_transform(transformed_darkened)\n",
    "\n",
    "draw_faces(reversed_darkened)"
   ]
  },
  {
   "cell_type": "markdown",
   "id": "possible-jesus",
   "metadata": {},
   "source": [
    "Widać, że odtworzone twarze są bardzo zniekształcone, w szczególności te, które były poddane rotacji."
   ]
  },
  {
   "cell_type": "code",
   "execution_count": null,
   "id": "human-association",
   "metadata": {},
   "outputs": [],
   "source": [
    "errors = []\n",
    "\n",
    "for i in range(len(df)):\n",
    "    errors.append(np.mean(np.sqrt(mean_squared_error(flipped_arr[i], reversed_flipped[i]))))\n",
    "    \n",
    "flipped_error = np.mean(errors)\n",
    "\n",
    "errors = []\n",
    "\n",
    "for i in range(len(df)):\n",
    "    errors.append(np.mean(np.sqrt(mean_squared_error(rotated_arr[i], reversed_rotated[i]))))\n",
    "    \n",
    "rotated_error = np.mean(errors)\n",
    "\n",
    "errors = []\n",
    "\n",
    "for i in range(len(df)):\n",
    "    errors.append(np.mean(np.sqrt(mean_squared_error(darkened_arr[i], reversed_darkened[i]))))\n",
    "    \n",
    "darkened_error = np.mean(errors)\n",
    "\n",
    "[flipped_error, rotated_error, darkened_error]"
   ]
  },
  {
   "cell_type": "markdown",
   "id": "regulation-cambodia",
   "metadata": {},
   "source": [
    "Widać, że obrazy zmodyfikowane dostają większe wartości błedu niż nawet najgorsze obserwacje niezmodyfikowane. Można z tego wnioskować, że PCA może w niektórych przypadkach służyć do wykrywania anomaliów."
   ]
  }
 ],
 "metadata": {
  "kernelspec": {
   "display_name": "Python 3",
   "language": "python",
   "name": "python3"
  },
  "language_info": {
   "codemirror_mode": {
    "name": "ipython",
    "version": 3
   },
   "file_extension": ".py",
   "mimetype": "text/x-python",
   "name": "python",
   "nbconvert_exporter": "python",
   "pygments_lexer": "ipython3",
   "version": "3.8.7"
  }
 },
 "nbformat": 4,
 "nbformat_minor": 5
}
