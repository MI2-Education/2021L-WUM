{
 "cells": [
  {
   "cell_type": "code",
   "execution_count": null,
   "metadata": {},
   "outputs": [],
   "source": [
    "from sklearn.datasets import fetch_olivetti_faces\n",
    "import matplotlib.pyplot as plt\n",
    "import numpy as np\n",
    "import seaborn as sns\n",
    "from sklearn.decomposition import PCA\n",
    "import pandas as pd\n",
    "from sklearn.model_selection import train_test_split\n",
    "from sklearn.metrics import mean_squared_error"
   ]
  },
  {
   "cell_type": "code",
   "execution_count": null,
   "metadata": {},
   "outputs": [],
   "source": [
    "data=fetch_olivetti_faces()"
   ]
  },
  {
   "cell_type": "code",
   "execution_count": null,
   "metadata": {},
   "outputs": [],
   "source": [
    "data.data.shape"
   ]
  },
  {
   "cell_type": "markdown",
   "metadata": {},
   "source": [
    "# Wybór ilości komponentów"
   ]
  },
  {
   "cell_type": "code",
   "execution_count": null,
   "metadata": {},
   "outputs": [],
   "source": [
    "X=data.data\n",
    "y=data.target\n",
    "x_train,x_test,y_train,y_test=train_test_split(X,y,test_size=0.1,random_state=2342)\n",
    "pca=PCA().fit(x_train)\n",
    "ans=[]\n",
    "for i in range(350):\n",
    "    model=PCA(n_components=i)\n",
    "    m=model.fit_transform(x_train)\n",
    "    ans.append(mean_squared_error(model.inverse_transform(m),x_train))\n"
   ]
  },
  {
   "cell_type": "code",
   "execution_count": null,
   "metadata": {},
   "outputs": [],
   "source": [
    "pca=PCA(n_components=200)\n",
    "tran=pca.fit_transform(x_train)\n",
    "df=pca.inverse_transform(tran)"
   ]
  },
  {
   "cell_type": "markdown",
   "metadata": {},
   "source": [
    "# Stopień kompresji"
   ]
  },
  {
   "cell_type": "code",
   "execution_count": null,
   "metadata": {},
   "outputs": [],
   "source": [
    "x_train[0].shape[0]/tran[0].shape[0]"
   ]
  },
  {
   "cell_type": "markdown",
   "metadata": {},
   "source": [
    "# Wybrane obrazy"
   ]
  },
  {
   "cell_type": "code",
   "execution_count": null,
   "metadata": {},
   "outputs": [],
   "source": [
    "plt.gray()\n",
    "nrow=4\n",
    "ncol=6\n",
    "plt.figure(figsize=(15,10))\n",
    "for i in range(nrow*ncol):\n",
    "    ax=plt.subplot(nrow,ncol,i+1)\n",
    "    ax.matshow(x_train[i].reshape((64,64)))"
   ]
  },
  {
   "cell_type": "markdown",
   "metadata": {},
   "source": [
    "# Transformacja odwrotna"
   ]
  },
  {
   "cell_type": "code",
   "execution_count": null,
   "metadata": {},
   "outputs": [],
   "source": [
    "plt.gray()\n",
    "answer=[]\n",
    "plt.figure(figsize=(15,10))\n",
    "for i in range(nrow*ncol):\n",
    "    ax=plt.subplot(nrow,ncol,i+1)\n",
    "    ans=[x_train[i]]\n",
    "    ans=pca.transform(ans)\n",
    "    ans=pca.inverse_transform(ans)\n",
    "    ax.matshow(ans.reshape((64,64)))\n",
    "    answer.append(ans)"
   ]
  },
  {
   "cell_type": "markdown",
   "metadata": {},
   "source": [
    "## Błąd rekonstrukcji"
   ]
  },
  {
   "cell_type": "code",
   "execution_count": null,
   "metadata": {},
   "outputs": [],
   "source": [
    "error=[0]*24\n",
    "for i in range(24):\n",
    "    error[i]=mean_squared_error(x_train[i],answer[i].reshape(64*64))\n",
    "sns.boxplot(data=[error])"
   ]
  },
  {
   "cell_type": "markdown",
   "metadata": {},
   "source": [
    "# Zmodyfikowane obrazy"
   ]
  },
  {
   "cell_type": "markdown",
   "metadata": {},
   "source": [
    "### Obrócone"
   ]
  },
  {
   "cell_type": "code",
   "execution_count": null,
   "metadata": {},
   "outputs": [],
   "source": [
    "transposed=np.transpose(x_train[1].reshape((64,64))).reshape((1,64*64))"
   ]
  },
  {
   "cell_type": "code",
   "execution_count": null,
   "metadata": {},
   "outputs": [],
   "source": [
    "plt.gray()\n",
    "answer0=[]\n",
    "plt.figure(figsize=(15,10))\n",
    "for i in range(nrow*ncol):\n",
    "    ax=plt.subplot(nrow,ncol,i+1)\n",
    "    ans=[x_train[i].reshape((64,64)).transpose().reshape(64*64)]\n",
    "    ans=pca.transform(ans)\n",
    "    ans=pca.inverse_transform(ans)\n",
    "    ax.matshow(ans.reshape((64,64)))\n",
    "    answer0.append(ans)"
   ]
  },
  {
   "cell_type": "markdown",
   "metadata": {},
   "source": [
    "### Przyciemnione"
   ]
  },
  {
   "cell_type": "code",
   "execution_count": null,
   "metadata": {},
   "outputs": [],
   "source": [
    "plt.gray()\n",
    "answer1=[]\n",
    "plt.figure(figsize=(15,10))\n",
    "for i in range(nrow*ncol):\n",
    "    ax=plt.subplot(nrow,ncol,i+1)\n",
    "    ans=x_train[i]+0.5\n",
    "    ans=[ans]\n",
    "    ans=pca.transform(ans)\n",
    "    ans=pca.inverse_transform(ans)\n",
    "    ax.matshow(ans.reshape((64,64)))\n",
    "    answer1.append(ans)"
   ]
  },
  {
   "cell_type": "markdown",
   "metadata": {},
   "source": [
    "### Do góry nogami"
   ]
  },
  {
   "cell_type": "code",
   "execution_count": null,
   "metadata": {},
   "outputs": [],
   "source": [
    "plt.gray()\n",
    "answer2=[]\n",
    "plt.figure(figsize=(15,10))\n",
    "for i in range(nrow*ncol):\n",
    "    ax=plt.subplot(nrow,ncol,i+1)\n",
    "    ans=[np.flip(x_train[i].reshape((64,64)),axis=0).reshape(64*64)]\n",
    "    ans=pca.transform(ans)\n",
    "    ans=pca.inverse_transform(ans)\n",
    "    ax.matshow(ans.reshape((64,64)))\n",
    "    answer2.append(ans)"
   ]
  },
  {
   "cell_type": "markdown",
   "metadata": {},
   "source": [
    "# Błąd rekonstrukcji dla modyfikacji"
   ]
  },
  {
   "cell_type": "code",
   "execution_count": null,
   "metadata": {},
   "outputs": [],
   "source": [
    "error=[0]*24\n",
    "error0=[0]*24\n",
    "error1=[0]*24\n",
    "error2=[0]*24\n",
    "for i in range(24):\n",
    "    error[i]=mean_squared_error(x_train[i],answer[i].reshape(64*64))\n",
    "    error0[i]=mean_squared_error(x_train[i],answer0[i].reshape(64*64))\n",
    "    error1[i]=mean_squared_error(x_train[i],answer1[i].reshape(64*64))\n",
    "    error2[i]=mean_squared_error(x_train[i],answer2[i].reshape(64*64))\n",
    "sns.boxplot(data=[error,error0,error1,error2])"
   ]
  },
  {
   "cell_type": "markdown",
   "metadata": {},
   "source": [
    "# Wnioski"
   ]
  },
  {
   "cell_type": "markdown",
   "metadata": {},
   "source": [
    "RMSE daje znacznie większe wartości dla zmodyfikowanych obrazów, co może okazać się pomocne przy próbie wykrycia, czy obrazy były modyfikowane. Co ciekawe zarówno przyciemnienie, jak i niezmienione obrazy mają bardzo skupione wartości błędu, różnią się natomiast tym ,że niezmienione obrazy mają RMSE bliskie 0, a przyciemnione nie.\n"
   ]
  }
 ],
 "metadata": {
  "kernelspec": {
   "display_name": "Python 3",
   "language": "python",
   "name": "python3"
  },
  "language_info": {
   "codemirror_mode": {
    "name": "ipython",
    "version": 3
   },
   "file_extension": ".py",
   "mimetype": "text/x-python",
   "name": "python",
   "nbconvert_exporter": "python",
   "pygments_lexer": "ipython3",
   "version": "3.8.5"
  }
 },
 "nbformat": 4,
 "nbformat_minor": 4
}
