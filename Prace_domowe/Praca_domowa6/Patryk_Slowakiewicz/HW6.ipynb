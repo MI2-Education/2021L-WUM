{
 "cells": [
  {
   "cell_type": "code",
   "execution_count": null,
   "id": "proof-discovery",
   "metadata": {},
   "outputs": [],
   "source": [
    "from sklearn.datasets import fetch_olivetti_faces\n",
    "import pandas as pd\n",
    "import numpy as np\n",
    "import matplotlib.pyplot as plt\n",
    "import seaborn as sns\n",
    "from sklearn.decomposition import PCA\n",
    "from sklearn.metrics import mean_squared_error\n",
    "import pickle"
   ]
  },
  {
   "cell_type": "code",
   "execution_count": null,
   "id": "alone-warehouse",
   "metadata": {},
   "outputs": [],
   "source": [
    "faces = fetch_olivetti_faces()"
   ]
  },
  {
   "cell_type": "code",
   "execution_count": null,
   "id": "monetary-hardwood",
   "metadata": {},
   "outputs": [],
   "source": [
    "X = faces.data\n",
    "y = faces.target"
   ]
  },
  {
   "cell_type": "markdown",
   "id": "prerequisite-regulation",
   "metadata": {},
   "source": [
    "# 0 wybrane zdjęcia"
   ]
  },
  {
   "cell_type": "code",
   "execution_count": null,
   "id": "copyrighted-button",
   "metadata": {},
   "outputs": [],
   "source": [
    "nrows, ncols = 2, 2\n",
    "plt.figure(figsize=(10,10))\n",
    "plt.gray()\n",
    "for i in range(ncols * nrows):\n",
    "    ax = plt.subplot(nrows, ncols, i + 1)\n",
    "    ax.matshow(faces.images[10*i,...])\n",
    "    plt.xticks([]); plt.yticks([])\n",
    "    plt.title(faces.target[10*i])\n",
    "plt.show()"
   ]
  },
  {
   "cell_type": "markdown",
   "id": "written-aquarium",
   "metadata": {},
   "source": [
    "# 1 wybór liczby składowych\n",
    "\n",
    "Na wykresie widać, że przegięcie jest ok 50."
   ]
  },
  {
   "cell_type": "code",
   "execution_count": null,
   "id": "resistant-italy",
   "metadata": {},
   "outputs": [],
   "source": [
    "pca = PCA().fit(X)\n",
    "\n",
    "plt.figure(figsize=(9,6))\n",
    "plt.plot(range(1, len(pca.explained_variance_ratio_)+1), np.cumsum(pca.explained_variance_ratio_))\n",
    "plt.grid()\n",
    "plt.xlabel('number of components')\n",
    "plt.ylabel('cumulative explained variance');"
   ]
  },
  {
   "cell_type": "code",
   "execution_count": null,
   "id": "loaded-australia",
   "metadata": {},
   "outputs": [],
   "source": [
    "def scatter(x, colors):\n",
    "    palette = np.array(sns.color_palette(\"hls\", 40))\n",
    "\n",
    "    f = plt.figure(figsize=(12, 12))\n",
    "    ax = plt.subplot(aspect='equal')\n",
    "    sc = ax.scatter(x[:,0], x[:,1], lw=0, s=40,\n",
    "                    c=palette[colors.astype(np.int)])\n",
    "    plt.xlim(-25, 25)\n",
    "    plt.ylim(-25, 25)\n",
    "    plt.legend()\n",
    "    ax.axis('off')\n",
    "    ax.axis('tight')\n",
    "\n",
    "    return f, ax, sc,"
   ]
  },
  {
   "cell_type": "markdown",
   "id": "continental-bronze",
   "metadata": {},
   "source": [
    "## Transformacja dzięki PCA"
   ]
  },
  {
   "cell_type": "code",
   "execution_count": null,
   "id": "respiratory-subscriber",
   "metadata": {},
   "outputs": [],
   "source": [
    "pca = PCA(n_components = 50)\n",
    "X_tr = pca.fit_transform(X)\n",
    "scatter(X_tr, faces.target)\n",
    "plt.show()"
   ]
  },
  {
   "cell_type": "markdown",
   "id": "collaborative-astrology",
   "metadata": {},
   "source": [
    "## Stopień kompresji"
   ]
  },
  {
   "cell_type": "code",
   "execution_count": null,
   "id": "beneficial-fifth",
   "metadata": {},
   "outputs": [],
   "source": [
    "compression = X.shape[1] / X_tr.shape[1]\n",
    "print('Stopien kompresji = ' + str(round(compression, 2)))"
   ]
  },
  {
   "cell_type": "markdown",
   "id": "incident-steps",
   "metadata": {},
   "source": [
    "# 2 Transformacja odwrotna"
   ]
  },
  {
   "cell_type": "code",
   "execution_count": null,
   "id": "bibliographic-bikini",
   "metadata": {},
   "outputs": [],
   "source": [
    "X_itr = pca.inverse_transform(X_tr)"
   ]
  },
  {
   "cell_type": "markdown",
   "id": "advised-emperor",
   "metadata": {},
   "source": [
    "## Porównanie zdjęć"
   ]
  },
  {
   "cell_type": "code",
   "execution_count": null,
   "id": "muslim-louis",
   "metadata": {},
   "outputs": [],
   "source": [
    "nrows, ncols = 2, 2\n",
    "plt.figure(figsize=(10,10))\n",
    "plt.gray()\n",
    "for i in range(ncols * nrows):\n",
    "    ax = plt.subplot(nrows, ncols, i + 1)\n",
    "    ax.matshow(X_itr[10*i,...].reshape(64,64))\n",
    "    plt.xticks([]); plt.yticks([])\n",
    "    plt.title(faces.target[10*i])\n",
    "plt.show()"
   ]
  },
  {
   "cell_type": "markdown",
   "id": "coupled-ownership",
   "metadata": {},
   "source": [
    "## Błąd rekonstrukcji"
   ]
  },
  {
   "cell_type": "code",
   "execution_count": null,
   "id": "above-asian",
   "metadata": {},
   "outputs": [],
   "source": [
    "for i in range(4):\n",
    "    print('RMSE dla zdjęcia: '+ str(i) + ' = ' + str(mean_squared_error(X[10*i], X_itr[10*i], squared=False)))"
   ]
  },
  {
   "cell_type": "code",
   "execution_count": null,
   "id": "separated-custom",
   "metadata": {},
   "outputs": [],
   "source": [
    "print('RMSE dla całego zbioru =  ' + str(mean_squared_error(X, X_itr, squared=False)))"
   ]
  },
  {
   "cell_type": "markdown",
   "id": "critical-carry",
   "metadata": {},
   "source": [
    "# 3 Modyfikacja obrazów"
   ]
  },
  {
   "cell_type": "code",
   "execution_count": null,
   "id": "noticed-detective",
   "metadata": {},
   "outputs": [],
   "source": [
    "def rotate(x):\n",
    "    return x.reshape(64,64).T.reshape(4096)\n",
    "\n",
    "def bright(x, factor):\n",
    "    return x * factor\n",
    "\n",
    "def flip(x):\n",
    "    return np.flipud(x.reshape(64,64)).reshape(4096)\n",
    "\n",
    "def picshow(x):\n",
    "    plt.matshow(x.reshape(64,64),interpolation='nearest', vmin=0, vmax=1)\n",
    "    plt.xticks([]); plt.yticks([])"
   ]
  },
  {
   "cell_type": "code",
   "execution_count": null,
   "id": "familiar-arlington",
   "metadata": {},
   "outputs": [],
   "source": [
    "ax = picshow(rotate(X[0]))\n",
    "ax = picshow(bright(X[0], 1.5))\n",
    "ax = picshow(flip(X[0]))\n",
    "plt.show()"
   ]
  },
  {
   "cell_type": "code",
   "execution_count": null,
   "id": "individual-tokyo",
   "metadata": {},
   "outputs": [],
   "source": [
    "L = [X[5], X[25], X[45], X[65], X[85]]\n",
    "X_r = list(map(rotate, L))\n",
    "X_b = list(map(lambda x: bright(x, 1.5), L))\n",
    "X_f = list(map(flip, L))"
   ]
  },
  {
   "cell_type": "code",
   "execution_count": null,
   "id": "popular-magic",
   "metadata": {},
   "outputs": [],
   "source": [
    "LS = [L, X_r, X_b, X_f]\n",
    "LS_t = list(map(pca.transform, LS))\n",
    "LS_i = list(map(pca.inverse_transform, LS_t)"
   ]
  },
  {
   "cell_type": "markdown",
   "id": "physical-feedback",
   "metadata": {},
   "source": [
    "# 5 Wnioski\n",
    "\n",
    "Jak widać wszystkie zmiany powodują znaczny wzrost RMSE, z czego najwięszy obroty i odbicia. Dzięki takim anomaliom możliwe jest wyłapanie zdjęć które odstają zostały zmienione w jeden z powyższych sposobów."
   ]
  },
  {
   "cell_type": "code",
   "execution_count": null,
   "id": "studied-legislature",
   "metadata": {},
   "outputs": [],
   "source": [
    "rmse = []\n",
    "names = ['normalny', 'obrót', 'rozjaśnienie', 'odbicie']\n",
    "for i, j, k in zip(LS, LS_i, names):\n",
    "    rmse.append(mean_squared_error(i, j, squared=False))\n",
    "    print('RMSE dla zbioru ' + k + ' =  ' + str(round(mean_squared_error(i, j, squared=False), 5)))"
   ]
  },
  {
   "cell_type": "code",
   "execution_count": null,
   "id": "another-arbor",
   "metadata": {},
   "outputs": [],
   "source": [
    "plt.grid()\n",
    "plt.bar(height= rmse, x = names)\n",
    "plt.title('RMSE dla poszczególnych zmian')\n",
    "plt.show()"
   ]
  },
  {
   "cell_type": "code",
   "execution_count": null,
   "id": "danish-playback",
   "metadata": {},
   "outputs": [],
   "source": [
    "flatLSi = [item for sublist in LS_i for item in sublist]"
   ]
  },
  {
   "cell_type": "code",
   "execution_count": null,
   "id": "several-lease",
   "metadata": {},
   "outputs": [],
   "source": [
    "nrows, ncols = 4, 5\n",
    "plt.figure(figsize=(10,10))\n",
    "plt.gray()\n",
    "for i in range(nrows * ncols):\n",
    "    ax = plt.subplot(nrows, ncols, i + 1)\n",
    "    ax.matshow(flatLSi[i].reshape(64,64))\n",
    "    plt.xticks([]); plt.yticks([])\n",
    "    plt.title(names[i//5])\n",
    "plt.show()"
   ]
  },
  {
   "cell_type": "code",
   "execution_count": null,
   "id": "sitting-thickness",
   "metadata": {},
   "outputs": [],
   "source": []
  }
 ],
 "metadata": {
  "kernelspec": {
   "display_name": "Python 3",
   "language": "python",
   "name": "python3"
  },
  "language_info": {
   "codemirror_mode": {
    "name": "ipython",
    "version": 3
   },
   "file_extension": ".py",
   "mimetype": "text/x-python",
   "name": "python",
   "nbconvert_exporter": "python",
   "pygments_lexer": "ipython3",
   "version": "3.8.8"
  }
 },
 "nbformat": 4,
 "nbformat_minor": 5
}
