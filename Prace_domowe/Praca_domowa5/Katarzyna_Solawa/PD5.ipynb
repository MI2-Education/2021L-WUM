{
 "cells": [
  {
   "cell_type": "code",
   "execution_count": null,
   "id": "champion-mentor",
   "metadata": {},
   "outputs": [],
   "source": [
    "import pandas as pd\n",
    "from matplotlib import pyplot as plt\n",
    "import numpy as np\n",
    "from scipy.spatial import distance"
   ]
  },
  {
   "cell_type": "code",
   "execution_count": null,
   "id": "descending-worker",
   "metadata": {},
   "outputs": [],
   "source": [
    "df=pd.read_csv(\"clustering.csv\",header=None)\n",
    "df = np.asarray(df)"
   ]
  },
  {
   "cell_type": "code",
   "execution_count": null,
   "id": "stopped-neighbor",
   "metadata": {},
   "outputs": [],
   "source": [
    "from sklearn.cluster import KMeans\n",
    "\n",
    "def plot_kmeans_clusters(X, n_clusters):\n",
    "    kmeans = KMeans(n_clusters=n_clusters, random_state=0)\n",
    "    kmeans.fit(X)\n",
    "    y_kmeans = kmeans.predict(X)\n",
    "    plt.scatter(X[:, 0], X[:, 1], c=y_kmeans, s=30, cmap='viridis')\n",
    "\n",
    "    centers = kmeans.cluster_centers_\n",
    "    plt.scatter(centers[:, 0], centers[:, 1], c='black', s=200, alpha=0.75)\n",
    "    plt.title('K-means clusters')\n",
    "    plt.show()\n"
   ]
  },
  {
   "cell_type": "code",
   "execution_count": null,
   "id": "established-maria",
   "metadata": {},
   "outputs": [],
   "source": [
    "def count_clustering_scores(X, cluster_num, model, score_fun):\n",
    "    # Napiszmy tę funkcje tak ogólnie, jak to możliwe. \n",
    "    # Zwróćcie uwagę na przekazanie obiektów typu callable: model i score_fun.\n",
    "    if isinstance(cluster_num, int):\n",
    "        cluster_num_iter = [cluster_num]\n",
    "    else:\n",
    "        cluster_num_iter = cluster_num\n",
    "        \n",
    "    scores = []    \n",
    "    for k in cluster_num_iter:\n",
    "        model_instance = model(n_clusters=k)\n",
    "        labels = model_instance.fit_predict(X)\n",
    "        wcss = score_fun(X, labels)\n",
    "        scores.append(wcss)\n",
    "    \n",
    "    if isinstance(cluster_num, int):\n",
    "        return scores[0]\n",
    "    else:\n",
    "        return scores"
   ]
  },
  {
   "cell_type": "code",
   "execution_count": null,
   "id": "possible-accounting",
   "metadata": {},
   "outputs": [],
   "source": [
    "from scipy.spatial import distance\n",
    "import numpy as np\n",
    "\n",
    "\n",
    "def min_interclust_dist(X, label):\n",
    "    clusters = set(label)\n",
    "    global_min_dist = np.inf\n",
    "    for cluster_i in clusters:\n",
    "        cluster_i_idx = np.where(label == cluster_i)\n",
    "        for cluster_j in clusters:\n",
    "            if cluster_i != cluster_j:\n",
    "                cluster_j_idx = np.where(label == cluster_j)\n",
    "                interclust_min_dist = np.min(distance.cdist(X[cluster_i_idx], X[cluster_j_idx]))\n",
    "                global_min_dist = np.min([global_min_dist, interclust_min_dist])\n",
    "    return global_min_dist\n"
   ]
  },
  {
   "cell_type": "code",
   "execution_count": null,
   "id": "baking-complaint",
   "metadata": {
    "scrolled": true
   },
   "outputs": [],
   "source": [
    "plt.scatter(df[:,0], df[:,1])\n",
    "plt.show()"
   ]
  },
  {
   "cell_type": "markdown",
   "id": "protective-gentleman",
   "metadata": {},
   "source": [
    "# AgglomerativeClustering \n",
    "\n",
    "## Silhouette score"
   ]
  },
  {
   "cell_type": "code",
   "execution_count": null,
   "id": "experienced-password",
   "metadata": {},
   "outputs": [],
   "source": [
    "from sklearn.metrics import silhouette_score\n",
    "cluster_num_seq = range(2, 11) # Niektóre metryki nie działają gdy mamy tylko jeden klaster\n",
    "silhouette_vec = count_clustering_scores(df, cluster_num_seq, AgglomerativeClustering, silhouette_score)\n",
    "plt.plot(cluster_num_seq, silhouette_vec, 'bx-')\n",
    "plt.xlabel('k')\n",
    "plt.ylabel('silhouette_score')\n",
    "plt.show()\n"
   ]
  },
  {
   "cell_type": "markdown",
   "id": "intelligent-delhi",
   "metadata": {},
   "source": [
    "5 lub 8 klastrów osiaga najwyższy sihoulette score\n",
    "\n",
    "## 5 klastrów"
   ]
  },
  {
   "cell_type": "code",
   "execution_count": null,
   "id": "determined-liabilities",
   "metadata": {},
   "outputs": [],
   "source": [
    "from sklearn.cluster import AgglomerativeClustering\n",
    "\n",
    "model = AgglomerativeClustering(n_clusters=5)\n",
    "y = model.fit_predict(df)\n",
    "plt.scatter(df[:, 0], df[:, 1], c=y, s=30, cmap='viridis')\n",
    "plt.show()"
   ]
  },
  {
   "cell_type": "markdown",
   "id": "vital-identifier",
   "metadata": {},
   "source": [
    "## 8 klastrów"
   ]
  },
  {
   "cell_type": "code",
   "execution_count": null,
   "id": "limiting-ideal",
   "metadata": {},
   "outputs": [],
   "source": [
    "model = AgglomerativeClustering(n_clusters=8)\n",
    "y = model.fit_predict(df)\n",
    "plt.scatter(df[:, 0],df[:, 1], c=y, s=30, cmap='viridis')\n",
    "plt.show()"
   ]
  },
  {
   "cell_type": "markdown",
   "id": "breathing-flight",
   "metadata": {},
   "source": [
    "## Podsumowanie\n",
    "\n",
    "Wybierzmy 8 klastrów ponieważ ma większy silhouette score oraz rozdziela punkty które w 6 - klastrowaniu były fioletowe, pomimo widocznego podziału."
   ]
  },
  {
   "cell_type": "markdown",
   "id": "verified-valve",
   "metadata": {},
   "source": [
    "# KMeans\n",
    "\n",
    "## min interclust dist"
   ]
  },
  {
   "cell_type": "code",
   "execution_count": null,
   "id": "attached-fiber",
   "metadata": {},
   "outputs": [],
   "source": [
    "cluster_num_seq = range(2, 12) # Niektóre metryki nie działają gdy mamy tylko jeden klaster\n",
    "silhouette_vec = count_clustering_scores(df, cluster_num_seq, KMeans, min_interclust_dist)\n",
    "plt.plot(cluster_num_seq, silhouette_vec, 'bx-')\n",
    "plt.xlabel('k')\n",
    "plt.ylabel('min_interclust_dist')\n",
    "plt.show()"
   ]
  },
  {
   "cell_type": "markdown",
   "id": "offensive-voltage",
   "metadata": {},
   "source": [
    "Największą minimalna odległość między klastrami mamy dla k = 3 lub 7 lub 8"
   ]
  },
  {
   "cell_type": "markdown",
   "id": "stone-above",
   "metadata": {},
   "source": [
    "## 3 klastrów"
   ]
  },
  {
   "cell_type": "code",
   "execution_count": null,
   "id": "missing-climb",
   "metadata": {},
   "outputs": [],
   "source": [
    "model = KMeans(n_clusters=3, random_state=14)\n",
    "y = model.fit_predict(df)\n",
    "plt.scatter(df[:, 0], df[:, 1], c=y, s=30, cmap='viridis')\n",
    "plt.show()"
   ]
  },
  {
   "cell_type": "markdown",
   "id": "thermal-closure",
   "metadata": {},
   "source": [
    "Zły wybór klastrów, fioletowy klaster jest podzielony i miesza się z żółtym"
   ]
  },
  {
   "cell_type": "markdown",
   "id": "connected-chart",
   "metadata": {},
   "source": [
    "## 7 klastrów"
   ]
  },
  {
   "cell_type": "code",
   "execution_count": null,
   "id": "contained-steps",
   "metadata": {},
   "outputs": [],
   "source": [
    "model = KMeans(n_clusters=7, random_state=1)\n",
    "y = model.fit_predict(df)\n",
    "plt.scatter(df[:, 0], df[:, 1], c=y, s=30, cmap='viridis')\n",
    "plt.show()"
   ]
  },
  {
   "cell_type": "markdown",
   "id": "attended-trademark",
   "metadata": {},
   "source": [
    "## 8 klastrów"
   ]
  },
  {
   "cell_type": "code",
   "execution_count": null,
   "id": "complimentary-official",
   "metadata": {},
   "outputs": [],
   "source": [
    "model = KMeans(n_clusters=8, random_state=0)\n",
    "y = model.fit_predict(df)\n",
    "plt.scatter(df[:, 0], df[:, 1], c=y, s=30, cmap='viridis')\n",
    "plt.show()"
   ]
  },
  {
   "cell_type": "markdown",
   "id": "light-acrylic",
   "metadata": {},
   "source": [
    "## Podsumowanie\n",
    "Wybrałabym 7 klastrów ze zwględu na  min_interclust_dist oraz to że w przeciwnieństwie do 8 klastrów, zielony klaster nie jest podzielony. Zielony klaster ma spójny klształt \"flagi\" wieć nie rozdielałabym go."
   ]
  }
 ],
 "metadata": {
  "kernelspec": {
   "display_name": "Python 3",
   "language": "python",
   "name": "python3"
  },
  "language_info": {
   "codemirror_mode": {
    "name": "ipython",
    "version": 3
   },
   "file_extension": ".py",
   "mimetype": "text/x-python",
   "name": "python",
   "nbconvert_exporter": "python",
   "pygments_lexer": "ipython3",
   "version": "3.8.8"
  }
 },
 "nbformat": 4,
 "nbformat_minor": 5
}
