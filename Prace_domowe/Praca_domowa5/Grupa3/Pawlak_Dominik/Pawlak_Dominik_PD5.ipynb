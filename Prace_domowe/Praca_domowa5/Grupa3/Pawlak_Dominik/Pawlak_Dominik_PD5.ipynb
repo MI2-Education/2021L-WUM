{
 "cells": [
  {
   "cell_type": "code",
   "execution_count": null,
   "id": "checked-administrator",
   "metadata": {},
   "outputs": [],
   "source": [
    "import pandas as pd\n",
    "import matplotlib.pyplot as plt\n",
    "\n",
    "clusters_df = pd.read_csv('clustering.csv', names = [\"X\", \"Y\"], header = None)\n",
    "plt.scatter(clusters_df.X, clusters_df.Y)\n",
    "plt.title(\"Rozmieszczenie punktów w przestrzeni R^2\")\n",
    "plt.show()"
   ]
  },
  {
   "cell_type": "markdown",
   "id": "turkish-defeat",
   "metadata": {},
   "source": [
    "# Kmeans z metodą łokcia"
   ]
  },
  {
   "cell_type": "code",
   "execution_count": null,
   "id": "inner-madrid",
   "metadata": {},
   "outputs": [],
   "source": [
    "# wyznaczymy optymalną liczbę klastrów\n",
    "\n",
    "from yellowbrick.cluster import KElbowVisualizer\n",
    "from sklearn.cluster import KMeans\n",
    "\n",
    "model = KMeans(random_state = 152)\n",
    "visualizer = KElbowVisualizer(model, k = (5, 15))\n",
    "\n",
    "visualizer.fit(clusters_df)        \n",
    "visualizer.show()        "
   ]
  },
  {
   "cell_type": "code",
   "execution_count": null,
   "id": "coordinated-fever",
   "metadata": {},
   "outputs": [],
   "source": [
    "def plot_kmeans_clusters(X, n_clusters):\n",
    "    kmeans = KMeans(n_clusters=n_clusters, random_state=0)\n",
    "    kmeans.fit(X)\n",
    "    y_kmeans = kmeans.predict(X)\n",
    "    plt.scatter(X.iloc[:, 0], X.iloc[:, 1], c=y_kmeans, s=30, cmap='viridis')\n",
    "\n",
    "    centers = kmeans.cluster_centers_\n",
    "    plt.scatter(centers[:, 0], centers[:, 1], c='black', s=200, alpha=0.75)\n",
    "    plt.title('K-means clusters')\n",
    "    plt.show()\n",
    "plot_kmeans_clusters(clusters_df, n_clusters=8)"
   ]
  },
  {
   "cell_type": "code",
   "execution_count": null,
   "id": "entitled-acrobat",
   "metadata": {},
   "outputs": [],
   "source": [
    "from sklearn.cluster import AgglomerativeClustering\n",
    "\n",
    "model = AgglomerativeClustering(n_clusters=8)\n",
    "y = model.fit_predict(clusters_df)\n",
    "plt.scatter(clusters_df.iloc[:, 0], clusters_df.iloc[:, 1], c=y, s=30, cmap='viridis')\n",
    "plt.show()"
   ]
  },
  {
   "cell_type": "markdown",
   "id": "twelve-anime",
   "metadata": {},
   "source": [
    "Funkcja wyznaczyła, że metoda łokciowa wyznacza 8 klastrów. Wizualnie widzimy, że istotnie jest to dobra ilość klastrów."
   ]
  },
  {
   "cell_type": "markdown",
   "id": "special-knight",
   "metadata": {},
   "source": [
    "# Metoda aglomeracyjna "
   ]
  },
  {
   "cell_type": "code",
   "execution_count": null,
   "id": "reverse-iraqi",
   "metadata": {},
   "outputs": [],
   "source": [
    "from scipy.cluster import hierarchy\n",
    "\n",
    "Z = hierarchy.linkage(clusters_df, method='ward')\n",
    "plt.figure(figsize=(10, 5), dpi= 200, facecolor='w', edgecolor='k')\n",
    "hierarchy.dendrogram(Z)\n",
    "plt.axhline(y = 200)\n",
    "plt.show()"
   ]
  },
  {
   "cell_type": "code",
   "execution_count": null,
   "id": "respected-reliance",
   "metadata": {},
   "outputs": [],
   "source": [
    "model = AgglomerativeClustering(n_clusters=9, linkage='complete')\n",
    "y = model.fit_predict(clusters_df)\n",
    "plt.scatter(clusters_df.iloc[:, 0], clusters_df.iloc[:, 1], c=y, s=30, cmap='viridis')\n",
    "plt.show()"
   ]
  },
  {
   "cell_type": "markdown",
   "id": "expressed-ottawa",
   "metadata": {},
   "source": [
    "Metoda aglomeracyjna podzieliła nasz zbiór na 9 klastrów. Widzimy jednak, że podział uzyskany w przypadku metody Kmeans (8 klastrów) był lepszy."
   ]
  },
  {
   "cell_type": "code",
   "execution_count": null,
   "id": "piano-burning",
   "metadata": {},
   "outputs": [],
   "source": []
  }
 ],
 "metadata": {
  "kernelspec": {
   "display_name": "Python 3",
   "language": "python",
   "name": "python3"
  },
  "language_info": {
   "codemirror_mode": {
    "name": "ipython",
    "version": 3
   },
   "file_extension": ".py",
   "mimetype": "text/x-python",
   "name": "python",
   "nbconvert_exporter": "python",
   "pygments_lexer": "ipython3",
   "version": "3.7.4"
  }
 },
 "nbformat": 4,
 "nbformat_minor": 5
}
