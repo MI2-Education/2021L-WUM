{
 "cells": [
  {
   "cell_type": "markdown",
   "id": "confident-malawi",
   "metadata": {},
   "source": [
    "# Wczytanie danych"
   ]
  },
  {
   "cell_type": "code",
   "execution_count": null,
   "id": "facial-tucson",
   "metadata": {},
   "outputs": [],
   "source": [
    "import pandas as pd\n",
    "import numpy as np\n",
    "import seaborn as sns\n",
    "sns.set_theme(style=\"whitegrid\")\n",
    "sns.set_palette('Accent_r')\n",
    "\n",
    "from matplotlib import pyplot as plt"
   ]
  },
  {
   "cell_type": "code",
   "execution_count": null,
   "id": "established-education",
   "metadata": {},
   "outputs": [],
   "source": [
    "data = pd.read_csv(\"../../clustering.csv\", header=None, names = ['X', 'Y'])\n",
    "print(len(data))\n",
    "data.head()"
   ]
  },
  {
   "cell_type": "code",
   "execution_count": null,
   "id": "relative-medication",
   "metadata": {},
   "outputs": [],
   "source": [
    "sns.scatterplot(data=data, x='X', y='Y')"
   ]
  },
  {
   "cell_type": "markdown",
   "id": "invalid-processor",
   "metadata": {},
   "source": [
    "# Klastrowanie metodą k-means oceniane współczynnikiem Silhouette"
   ]
  },
  {
   "cell_type": "code",
   "execution_count": null,
   "id": "particular-concept",
   "metadata": {},
   "outputs": [],
   "source": [
    "from sklearn.cluster import KMeans\n",
    "from sklearn.metrics import silhouette_score"
   ]
  },
  {
   "cell_type": "code",
   "execution_count": null,
   "id": "frequent-print",
   "metadata": {},
   "outputs": [],
   "source": [
    "n_clusters = [i for i in range(2,20)]\n",
    "silhouette_scores = []\n",
    "labels_list = []\n",
    "for n in n_clusters:\n",
    "    kmeans = KMeans(n_clusters=n, random_state=123).fit(data)\n",
    "    labels = kmeans.labels_\n",
    "    score = silhouette_score(data, labels)\n",
    "    labels_list.append(labels)\n",
    "    silhouette_scores.append(score)"
   ]
  },
  {
   "cell_type": "code",
   "execution_count": null,
   "id": "mysterious-cruise",
   "metadata": {},
   "outputs": [],
   "source": [
    "ax = sns.lineplot(x=n_clusters, y=silhouette_scores, marker='o', dashes=False)\n",
    "ax.set(xlabel='n clusters', \n",
    "       ylabel='Silhouette score', \n",
    "       title='K Means clustering evaluation', \n",
    "       xticks=n_clusters)\n",
    "plt.show()"
   ]
  },
  {
   "cell_type": "markdown",
   "id": "roman-chocolate",
   "metadata": {},
   "source": [
    "Na powyższym wykresie widzimy, że wybrana metryka przyjmuje najwiekszą wartość, gdy liczba klastrów jest równa 8. To oznacza, że wtedy klastry są najlepiej zdefiniowane. "
   ]
  },
  {
   "cell_type": "code",
   "execution_count": null,
   "id": "nonprofit-evolution",
   "metadata": {},
   "outputs": [],
   "source": [
    "sns.scatterplot(data=data, x='X', y='Y', hue=labels_list[6], palette='Accent')"
   ]
  },
  {
   "cell_type": "markdown",
   "id": "opened-london",
   "metadata": {},
   "source": [
    "# Klastrowanie metodą aglomeracyjną z użyciem metryki Calinski-Harabasz Index"
   ]
  },
  {
   "cell_type": "code",
   "execution_count": null,
   "id": "removable-murray",
   "metadata": {},
   "outputs": [],
   "source": [
    "from sklearn.cluster import AgglomerativeClustering\n",
    "from sklearn.metrics import calinski_harabasz_score"
   ]
  },
  {
   "cell_type": "code",
   "execution_count": null,
   "id": "macro-shift",
   "metadata": {},
   "outputs": [],
   "source": [
    "n_clusters = [i for i in range(2,20)]\n",
    "c_h_scores = []\n",
    "labels_list = []\n",
    "for n in n_clusters:\n",
    "    agglomerative_clusters = AgglomerativeClustering(n_clusters=n).fit(data)\n",
    "    labels = agglomerative_clusters.labels_\n",
    "    score = calinski_harabasz_score(data, labels)\n",
    "    labels_list.append(labels)\n",
    "    c_h_scores.append(score)"
   ]
  },
  {
   "cell_type": "code",
   "execution_count": null,
   "id": "beginning-physiology",
   "metadata": {},
   "outputs": [],
   "source": [
    "ax = sns.lineplot(x=n_clusters, y=c_h_scores, marker='o', dashes=False)\n",
    "ax.set(xlabel='n clusters', \n",
    "       ylabel='Calinski-Harabasz score', \n",
    "       title='Agglomerative clustering evaluation', \n",
    "       xticks=n_clusters)\n",
    "plt.show()"
   ]
  },
  {
   "cell_type": "markdown",
   "id": "civil-bracket",
   "metadata": {},
   "source": [
    "Największy wynik indeksu Calinski-Harabasz jest osiągany dla 11 klastrów. To najlepszy podział według tej metryki."
   ]
  },
  {
   "cell_type": "code",
   "execution_count": null,
   "id": "metropolitan-waterproof",
   "metadata": {},
   "outputs": [],
   "source": [
    "sns.scatterplot(data=data, x='X', y='Y', hue=labels_list[9], palette='Paired')"
   ]
  }
 ],
 "metadata": {
  "kernelspec": {
   "display_name": "Python 3",
   "language": "python",
   "name": "python3"
  },
  "language_info": {
   "codemirror_mode": {
    "name": "ipython",
    "version": 3
   },
   "file_extension": ".py",
   "mimetype": "text/x-python",
   "name": "python",
   "nbconvert_exporter": "python",
   "pygments_lexer": "ipython3",
   "version": "3.8.5"
  }
 },
 "nbformat": 4,
 "nbformat_minor": 5
}
