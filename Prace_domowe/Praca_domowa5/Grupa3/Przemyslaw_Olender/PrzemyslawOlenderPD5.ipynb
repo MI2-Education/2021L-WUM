{
 "cells": [
  {
   "cell_type": "code",
   "execution_count": null,
   "id": "harmful-realtor",
   "metadata": {},
   "outputs": [],
   "source": [
    "import matplotlib.pyplot as plt\n",
    "import seaborn as sns\n",
    "import numpy as np\n",
    "import pandas as pd\n",
    "from sklearn.cluster import KMeans\n",
    "from sklearn.cluster import AgglomerativeClustering\n",
    "from sklearn.metrics import silhouette_score"
   ]
  },
  {
   "cell_type": "code",
   "execution_count": null,
   "id": "directed-convert",
   "metadata": {},
   "outputs": [],
   "source": [
    "data = pd.read_csv('https://raw.githubusercontent.com/mini-pw/2021L-WUM/main/Prace_domowe/Praca_domowa5/clustering.csv')\n",
    "data.columns = ['first', 'second']\n",
    "data.head()"
   ]
  },
  {
   "cell_type": "code",
   "execution_count": null,
   "id": "following-flashing",
   "metadata": {},
   "outputs": [],
   "source": [
    "sns.scatterplot(data = data, x = 'first', y = 'second')\n",
    "plt.show()"
   ]
  },
  {
   "cell_type": "markdown",
   "id": "prostate-frequency",
   "metadata": {},
   "source": [
    "## Metoda k-średnich i metoda łokcia"
   ]
  },
  {
   "cell_type": "markdown",
   "id": "cross-witness",
   "metadata": {},
   "source": [
    "Na oko punkty na powyższym wykresie można sklasteryzować na kilka sposobów, użyjmy metody k-means żeby podzielić punkty na 3, 4, 5, 6, 7 lub 8 klastrów."
   ]
  },
  {
   "cell_type": "code",
   "execution_count": null,
   "id": "characteristic-sunrise",
   "metadata": {},
   "outputs": [],
   "source": [
    "fig, axs = plt.subplots(2, 3, figsize = (16, 10))\n",
    "\n",
    "for i in range(3, 9):\n",
    "    kmeans = KMeans(n_clusters = i, random_state = 0)\n",
    "    kmeans.fit(data)\n",
    "    y_kmeans = kmeans.predict(data)\n",
    "    sns.scatterplot(data = data, x = 'first', y = 'second',\n",
    "                    hue = y_kmeans, palette = 'viridis', legend = False,\n",
    "                    ax = axs[i // 3 -1, i % 3])\n",
    "    axs[i // 3 -1, i % 3].set_title(f'{i} clusters')\n",
    "    \n",
    "plt.show()"
   ]
  },
  {
   "cell_type": "markdown",
   "id": "confident-lancaster",
   "metadata": {},
   "source": [
    "7 i 8 klastrów wygląda chyba na za dużo, użyjmy metody łokcia, żeby znaleźć odpowiednią liczbę, zastosujemy metrykę $L_2$, któa jest najbardziej naturalna dla dwuwymiarowego problemu. "
   ]
  },
  {
   "cell_type": "code",
   "execution_count": null,
   "id": "removable-celebrity",
   "metadata": {},
   "outputs": [],
   "source": [
    "scores = []\n",
    "clusters = []\n",
    "for i in range(1, 15):\n",
    "    kmeans = KMeans(n_clusters = i, random_state = 0)\n",
    "    kmeans.fit(data)\n",
    "    wcss = kmeans.score(data) * -1\n",
    "    scores.append(wcss)\n",
    "    clusters.append(i)\n",
    "\n",
    "plt.plot(clusters, scores, 'bx-')\n",
    "plt.xlabel('number of clusters')\n",
    "plt.ylabel('WCSS')\n",
    "plt.title('The Elbow Method showing the optimal cluster number')\n",
    "plt.show()"
   ]
  },
  {
   "cell_type": "markdown",
   "id": "entitled-sheffield",
   "metadata": {},
   "source": [
    "Punlt największego przegięcia to wartość WCSS dla 3 klastrów, więc według metody łokcia to jest odpowiednia liczba, narysujmy wkres jeszcze raz."
   ]
  },
  {
   "cell_type": "code",
   "execution_count": null,
   "id": "upper-pennsylvania",
   "metadata": {},
   "outputs": [],
   "source": [
    "kmeans = KMeans(n_clusters = 3, random_state = 0)\n",
    "kmeans.fit(data)\n",
    "y_kmeans = kmeans.predict(data)\n",
    "sns.scatterplot(data = data, x = 'first', y = 'second',\n",
    "                hue = y_kmeans, palette = 'viridis', legend = False)\n",
    "    \n",
    "plt.show()"
   ]
  },
  {
   "cell_type": "markdown",
   "id": "successful-accused",
   "metadata": {},
   "source": [
    "## Klastrowaanie aglomeracyjne i metoda Silhouette"
   ]
  },
  {
   "cell_type": "markdown",
   "id": "hired-instruction",
   "metadata": {},
   "source": [
    "Spróbujmy użyć teraz metody Silhouette do wyznaczenia optymalnej liczby klastrów, w środku zastosujemy model klastrowania aglomeracyjnego (AgglomerativeClustering). Najpierw znowu narysujmy podział zbioru na 3 - 8 klastrów."
   ]
  },
  {
   "cell_type": "code",
   "execution_count": null,
   "id": "timely-welcome",
   "metadata": {},
   "outputs": [],
   "source": [
    "fig, axs = plt.subplots(2, 3, figsize = (16, 10))\n",
    "\n",
    "for i in range(3, 9):\n",
    "    aggClus = AgglomerativeClustering(n_clusters = i, linkage = 'complete')\n",
    "    y_aggClus = aggClus.fit_predict(data)\n",
    "    sns.scatterplot(data = data, x = 'first', y = 'second',\n",
    "                    hue = y_aggClus, palette = 'viridis', legend = False,\n",
    "                    ax = axs[i // 3 -1, i % 3])\n",
    "    axs[i // 3 -1, i % 3].set_title(f'{i} clusters')\n",
    "    \n",
    "plt.show()"
   ]
  },
  {
   "cell_type": "markdown",
   "id": "middle-professor",
   "metadata": {},
   "source": [
    "Podziały wyglądają inczaej niż dla k-means, dla większej liczby klastrów sensoweniej niż wcześcniej. Użyjmy metody Silhouette do znalezienia optymalnej liczby."
   ]
  },
  {
   "cell_type": "code",
   "execution_count": null,
   "id": "black-journalism",
   "metadata": {},
   "outputs": [],
   "source": [
    "scores = []\n",
    "clusters = []\n",
    "\n",
    "for i in range(2, 15):\n",
    "    aggClus = AgglomerativeClustering(n_clusters = i, linkage = 'complete')\n",
    "    y_aggClus = aggClus.fit_predict(data)\n",
    "    scores.append(silhouette_score(data, y_aggClus))\n",
    "    clusters.append(i)\n",
    "    \n",
    "plt.plot(clusters, scores, 'bx-')\n",
    "plt.xlabel('number of clusters')\n",
    "plt.ylabel('Silhouette score')\n",
    "plt.title('The Silhouette Method showing the optimal cluster number')\n",
    "plt.show()"
   ]
  },
  {
   "cell_type": "markdown",
   "id": "smoking-creativity",
   "metadata": {},
   "source": [
    "Metoda Silhouette wskazuje, że najlepsza liczba klastów to 7 lub 9, sprawdźmy jak wyglądają wykresy."
   ]
  },
  {
   "cell_type": "code",
   "execution_count": null,
   "id": "moved-exclusion",
   "metadata": {},
   "outputs": [],
   "source": [
    "fig, (ax1, ax2) = plt.subplots(1, 2, figsize = (12, 5))\n",
    "\n",
    "aggClus = AgglomerativeClustering(n_clusters = 7, linkage = 'complete')\n",
    "y_aggClus = aggClus.fit_predict(data)\n",
    "\n",
    "sns.scatterplot(data = data, x = 'first', y = 'second',\n",
    "                hue = y_aggClus, palette = 'viridis', legend = False,\n",
    "                ax = ax1)\n",
    "ax1.set_title('7 clusters')\n",
    "\n",
    "aggClus = AgglomerativeClustering(n_clusters = 9, linkage = 'complete')\n",
    "y_aggClus = aggClus.fit_predict(data)\n",
    "\n",
    "sns.scatterplot(data = data, x = 'first', y = 'second',\n",
    "                hue = y_aggClus, palette = 'viridis', legend = False,\n",
    "                ax = ax2)\n",
    "ax2.set_title('9 clusters')\n",
    "    \n",
    "plt.show()"
   ]
  }
 ],
 "metadata": {
  "kernelspec": {
   "display_name": "Python 3",
   "language": "python",
   "name": "python3"
  },
  "language_info": {
   "codemirror_mode": {
    "name": "ipython",
    "version": 3
   },
   "file_extension": ".py",
   "mimetype": "text/x-python",
   "name": "python",
   "nbconvert_exporter": "python",
   "pygments_lexer": "ipython3",
   "version": "3.8.2"
  }
 },
 "nbformat": 4,
 "nbformat_minor": 5
}
