{
 "cells": [
  {
   "cell_type": "code",
   "execution_count": null,
   "id": "needed-package",
   "metadata": {},
   "outputs": [],
   "source": [
    "import itertools\n",
    "import numpy as np\n",
    "import pandas as pd\n",
    "import matplotlib.pyplot as plt\n",
    "import seaborn as sns\n",
    "import os\n",
    "\n",
    "from sklearn.metrics import (f1_score, \n",
    "                             precision_score, \n",
    "                             recall_score, \n",
    "                             silhouette_score)\n",
    "from sklearn.mixture import GaussianMixture\n",
    "from sklearn.preprocessing import StandardScaler\n",
    "from sklearn.pipeline import Pipeline"
   ]
  },
  {
   "cell_type": "code",
   "execution_count": null,
   "id": "hourly-seller",
   "metadata": {},
   "outputs": [],
   "source": [
    "data_path_prefix = '../../'"
   ]
  },
  {
   "cell_type": "code",
   "execution_count": null,
   "id": "cross-transsexual",
   "metadata": {},
   "outputs": [],
   "source": [
    "train = pd.read_csv(data_path_prefix + 'train.csv')\n",
    "test = pd.read_csv(data_path_prefix + 'test.csv')\n",
    "val = pd.read_csv(data_path_prefix + 'val.csv')"
   ]
  },
  {
   "cell_type": "markdown",
   "id": "annual-frontier",
   "metadata": {},
   "source": [
    "## Choose the right component number "
   ]
  },
  {
   "cell_type": "code",
   "execution_count": null,
   "id": "provincial-company",
   "metadata": {},
   "outputs": [],
   "source": [
    "X = StandardScaler().fit_transform(train)\n",
    "n_components = range(1,5)\n",
    "cov_types = ['full', 'tied', 'diag', 'spherical']\n",
    "results = []\n",
    "for cov_type in cov_types:\n",
    "    for i in n_components:\n",
    "        gmm = GaussianMixture(n_components=i, covariance_type=cov_type, random_state=123)\n",
    "        gmm.fit(X)\n",
    "        results.append((cov_type, i, gmm.bic(X)))\n",
    "        \n",
    "results = pd.DataFrame(results, columns=['cov_type', 'n_components', 'BIC'])"
   ]
  },
  {
   "cell_type": "code",
   "execution_count": null,
   "id": "floppy-diving",
   "metadata": {},
   "outputs": [],
   "source": [
    "sns.lineplot(data=results, x='n_components', y='BIC', hue='cov_type')"
   ]
  },
  {
   "cell_type": "markdown",
   "id": "rocky-skill",
   "metadata": {},
   "source": [
    "The best (lowest) Bayesian information criterion is achived for diagonal covariance type and for 2 components.\n",
    "\n",
    "## Choose the threshold"
   ]
  },
  {
   "cell_type": "code",
   "execution_count": null,
   "id": "fabulous-editing",
   "metadata": {},
   "outputs": [],
   "source": [
    "estimator = Pipeline([\n",
    "    ('scaler', StandardScaler()),\n",
    "    ('gmm', GaussianMixture(\n",
    "        n_components=2, covariance_type='diag', random_state=123))])\n",
    "\n",
    "estimator.fit(train)"
   ]
  },
  {
   "cell_type": "code",
   "execution_count": null,
   "id": "signed-republic",
   "metadata": {},
   "outputs": [],
   "source": [
    "# get probabilities on train\n",
    "train_prob = estimator.score_samples(train)\n",
    "train_result = pd.DataFrame(train_prob, columns=['log_prob'])\n",
    "train_result['class'] = 'train'"
   ]
  },
  {
   "cell_type": "code",
   "execution_count": null,
   "id": "motivated-hygiene",
   "metadata": {},
   "outputs": [],
   "source": [
    "# get probabilities on val\n",
    "val_prob = estimator.score_samples(val)\n",
    "val_result = pd.DataFrame(val_prob, columns=['log_prob'])\n",
    "val_result['class'] = 'val'"
   ]
  },
  {
   "cell_type": "code",
   "execution_count": null,
   "id": "stuck-webster",
   "metadata": {},
   "outputs": [],
   "source": [
    "train_val = pd.concat([train_result, val_result])"
   ]
  },
  {
   "cell_type": "code",
   "execution_count": null,
   "id": "opening-portfolio",
   "metadata": {},
   "outputs": [],
   "source": [
    "threshold = np.floor(np.min(train_prob))"
   ]
  },
  {
   "cell_type": "markdown",
   "id": "alternate-bouquet",
   "metadata": {},
   "source": [
    "The threshold was set as minimal logarithm of probability of points in training dataset."
   ]
  },
  {
   "cell_type": "code",
   "execution_count": null,
   "id": "casual-patio",
   "metadata": {},
   "outputs": [],
   "source": [
    "plt.figure(figsize=(10,6))\n",
    "sns.violinplot(data=train_val, x='log_prob', y='class')\n",
    "sns.swarmplot(data=train_val, x='log_prob', y='class', color='white')\n",
    "plt.axvline(x=threshold, color='red')\n",
    "plt.show()"
   ]
  },
  {
   "cell_type": "markdown",
   "id": "happy-sport",
   "metadata": {},
   "source": [
    "We can see 4 observations from validation set would be classified as outliers.\n",
    "\n",
    "## Evaluate model on test dataset"
   ]
  },
  {
   "cell_type": "code",
   "execution_count": null,
   "id": "pediatric-duration",
   "metadata": {},
   "outputs": [],
   "source": [
    "def predict(X, estimator, threshold):\n",
    "    probs = estimator.score_samples(X)\n",
    "    return np.array([1 if x<threshold else 0 for x in probs])"
   ]
  },
  {
   "cell_type": "code",
   "execution_count": null,
   "id": "bored-staff",
   "metadata": {},
   "outputs": [],
   "source": [
    "X_test = test.drop(['class'], axis=1)\n",
    "y_test = test['class']\n",
    "\n",
    "predicted = predict(X_test, estimator, threshold)\n",
    "metrics = [f1_score, precision_score, recall_score]\n",
    "scores = [(m.__name__, m(y_test, predicted)) for m in metrics]\n",
    "pd.DataFrame(scores, columns=['metric', 'score'])"
   ]
  },
  {
   "cell_type": "markdown",
   "id": "domestic-ferry",
   "metadata": {},
   "source": [
    "Precision score is high and racall is low. It means model classifies outliers as inliers. Hence precision = 1, all inliers were classified as inliers. F1 score is also quite low. Probably the threshold could be higher, but the choice depends on specific situation in which outliers detection is applied."
   ]
  }
 ],
 "metadata": {
  "kernelspec": {
   "display_name": "Python 3",
   "language": "python",
   "name": "python3"
  },
  "language_info": {
   "codemirror_mode": {
    "name": "ipython",
    "version": 3
   },
   "file_extension": ".py",
   "mimetype": "text/x-python",
   "name": "python",
   "nbconvert_exporter": "python",
   "pygments_lexer": "ipython3",
   "version": "3.8.5"
  }
 },
 "nbformat": 4,
 "nbformat_minor": 5
}
