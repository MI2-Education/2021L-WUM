{
 "cells": [
  {
   "cell_type": "code",
   "execution_count": null,
   "id": "humanitarian-territory",
   "metadata": {},
   "outputs": [],
   "source": [
    "import pandas as pd\n",
    "import numpy as np\n",
    "import matplotlib.pyplot as plt\n",
    "import seaborn as sns"
   ]
  },
  {
   "cell_type": "code",
   "execution_count": null,
   "id": "about-starter",
   "metadata": {},
   "outputs": [],
   "source": [
    "test = pd.read_csv('test.csv') \n",
    "train = pd.read_csv('train.csv') \n",
    "val = pd.read_csv('val.csv') "
   ]
  },
  {
   "cell_type": "code",
   "execution_count": null,
   "id": "molecular-chinese",
   "metadata": {},
   "outputs": [],
   "source": [
    "print(train.shape)\n",
    "train.head()"
   ]
  },
  {
   "cell_type": "code",
   "execution_count": null,
   "id": "impressed-terrorism",
   "metadata": {},
   "outputs": [],
   "source": [
    "print(test.shape)\n",
    "test.head()"
   ]
  },
  {
   "cell_type": "code",
   "execution_count": null,
   "id": "looking-specification",
   "metadata": {},
   "outputs": [],
   "source": [
    "print(val.shape)\n",
    "val.head()"
   ]
  },
  {
   "cell_type": "code",
   "execution_count": null,
   "id": "dietary-ferry",
   "metadata": {},
   "outputs": [],
   "source": [
    "train.hist(figsize=(16,12))\n",
    "plt.show()"
   ]
  },
  {
   "cell_type": "code",
   "execution_count": null,
   "id": "statistical-avatar",
   "metadata": {},
   "outputs": [],
   "source": [
    "test.hist(figsize=(16,12))\n",
    "plt.show()"
   ]
  },
  {
   "cell_type": "code",
   "execution_count": null,
   "id": "intended-anaheim",
   "metadata": {},
   "outputs": [],
   "source": [
    "val.hist(figsize=(16,12))\n",
    "plt.show()"
   ]
  },
  {
   "cell_type": "code",
   "execution_count": null,
   "id": "serious-laugh",
   "metadata": {},
   "outputs": [],
   "source": [
    "print(train.info())\n",
    "print(test.info())\n",
    "print(val.info())"
   ]
  },
  {
   "cell_type": "markdown",
   "id": "inappropriate-concentrate",
   "metadata": {},
   "source": [
    "W danych nie ma braków, zbiór test ma dodatkową kolumnę class informującą czy wiersz jest obserwacją odstającą, po rozkładach widać prawdopodobne miejsca występowania outllierów w zbiorach val i test oraz ich brak w train."
   ]
  },
  {
   "cell_type": "code",
   "execution_count": null,
   "id": "broad-recognition",
   "metadata": {},
   "outputs": [],
   "source": [
    "from sklearn.mixture import GaussianMixture\n",
    "from sklearn.metrics import f1_score, precision_score, recall_score"
   ]
  },
  {
   "cell_type": "markdown",
   "id": "adaptive-employer",
   "metadata": {},
   "source": [
    "GMM zwraca prawdopodobieństwo przyporządkowania obserwacji do klastra, więc obserwacje o niskim i odstającym od reszty prawdopodobieństwie mogą być traktowane jako outliery.\n",
    "\n",
    "Za pomocą funcji bic wyznaczmy odpowiednią liczbę klastrów - im mniejsza warość funkcji tym lepiej."
   ]
  },
  {
   "cell_type": "code",
   "execution_count": null,
   "id": "scheduled-album",
   "metadata": {},
   "outputs": [],
   "source": [
    "bic = []\n",
    "for i in range(1, 13):\n",
    "    gmm = GaussianMixture(n_components = i, random_state = 29, covariance_type = \"full\")\n",
    "    gmm.fit(train)\n",
    "    bic.append(gmm.bic(train))"
   ]
  },
  {
   "cell_type": "code",
   "execution_count": null,
   "id": "suburban-offense",
   "metadata": {},
   "outputs": [],
   "source": [
    "sns.lineplot(data = bic)"
   ]
  },
  {
   "cell_type": "markdown",
   "id": "atomic-slovak",
   "metadata": {},
   "source": [
    "Najmniejszą wartość funkcja bic osiąga dla 1 klastra, stwórzmy więc właściwy model:"
   ]
  },
  {
   "cell_type": "code",
   "execution_count": null,
   "id": "grand-distributor",
   "metadata": {},
   "outputs": [],
   "source": [
    "gmm = GaussianMixture(covariance_type='full', n_components=1, random_state=29)\n",
    "gmm.fit(train)"
   ]
  },
  {
   "cell_type": "markdown",
   "id": "smoking-closure",
   "metadata": {},
   "source": [
    "W zbiorze train nie ma outlierów a w val są, porównajmy więc prawdopodbieństwa i wyznaczmy na ich podstawie treshold."
   ]
  },
  {
   "cell_type": "code",
   "execution_count": null,
   "id": "first-wednesday",
   "metadata": {},
   "outputs": [],
   "source": [
    "train_prop = gmm.score_samples(train)\n",
    "val_prop = gmm.score_samples(val)"
   ]
  },
  {
   "cell_type": "code",
   "execution_count": null,
   "id": "alone-invitation",
   "metadata": {},
   "outputs": [],
   "source": [
    "fig, (ax1, ax2) = plt.subplots(1, 2, figsize = (14, 5))\n",
    "\n",
    "sns.lineplot(data = train_prop, ax = ax1)\n",
    "ax1.set_title('Propabilities on train data')\n",
    "\n",
    "sns.lineplot(data = val_prop, ax = ax2)\n",
    "ax2.set_title('Propabilities on validation data')\n",
    "\n",
    "plt.show()"
   ]
  },
  {
   "cell_type": "code",
   "execution_count": null,
   "id": "chemical-spiritual",
   "metadata": {},
   "outputs": [],
   "source": [
    "#bierzemy treshold -30\n",
    "t = -32"
   ]
  },
  {
   "cell_type": "code",
   "execution_count": null,
   "id": "preceding-thanks",
   "metadata": {},
   "outputs": [],
   "source": [
    "test_prop = gmm.score_samples(test.drop('class', axis = 1))"
   ]
  },
  {
   "cell_type": "code",
   "execution_count": null,
   "id": "greenhouse-appearance",
   "metadata": {},
   "outputs": [],
   "source": [
    "test_pred = np.where(test_prop < t, 1, 0)"
   ]
  },
  {
   "cell_type": "code",
   "execution_count": null,
   "id": "simple-faculty",
   "metadata": {},
   "outputs": [],
   "source": [
    "print(f'F1: {f1_score(test[\"class\"], test_pred)}\\n' + \n",
    "      f'Precision: {precision_score(test[\"class\"], test_pred)}\\n' + \n",
    "      f'Recall: {recall_score(test[\"class\"], test_pred)}')"
   ]
  },
  {
   "cell_type": "markdown",
   "id": "provincial-amendment",
   "metadata": {},
   "source": [
    "Metryki osiągają wysokie wyniki, zatem algorytm GMM nadaje się do wyszukiwania outlierów."
   ]
  }
 ],
 "metadata": {
  "kernelspec": {
   "display_name": "Python 3",
   "language": "python",
   "name": "python3"
  },
  "language_info": {
   "codemirror_mode": {
    "name": "ipython",
    "version": 3
   },
   "file_extension": ".py",
   "mimetype": "text/x-python",
   "name": "python",
   "nbconvert_exporter": "python",
   "pygments_lexer": "ipython3",
   "version": "3.8.2"
  }
 },
 "nbformat": 4,
 "nbformat_minor": 5
}
