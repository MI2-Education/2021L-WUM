{
 "cells": [
  {
   "cell_type": "markdown",
   "id": "molecular-direction",
   "metadata": {},
   "source": [
    "# WUM - pd7\n",
    "**Mikołaj Spytek**"
   ]
  },
  {
   "cell_type": "code",
   "execution_count": null,
   "id": "vulnerable-formula",
   "metadata": {},
   "outputs": [],
   "source": [
    "import pandas as pd\n",
    "from sklearn.mixture import GaussianMixture\n",
    "from sklearn.preprocessing import StandardScaler\n",
    "import matplotlib.pyplot as plt\n",
    "\n",
    "scaler = StandardScaler()\n",
    "\n",
    "train = pd.read_csv(\"train.csv\")\n",
    "test = pd.read_csv(\"test.csv\")\n",
    "\n",
    "test_true = test[\"class\"]\n",
    "test = test.drop([\"class\"], axis=1)\n",
    "\n",
    "# train = pd.DataFrame(scaler.fit_transform(train), columns=train.columns)\n",
    "# test = pd.DataFrame(scaler.fit_transform(test), columns=test.columns)\n",
    "\n",
    "\n",
    "gm = GaussianMixture(n_components=2, max_iter=100000, covariance_type='tied', random_state=42)\n",
    "\n",
    "gm.fit(train)\n",
    "\n",
    "test_pred = gm.predict(test)\n",
    "gm.means_\n",
    "\n",
    "\n",
    "probabilities_train = gm.score_samples(train)\n",
    "probabilities_test = gm.score_samples(test)"
   ]
  },
  {
   "cell_type": "code",
   "execution_count": null,
   "id": "acting-quebec",
   "metadata": {},
   "outputs": [],
   "source": [
    "plt.plot(probabilities_train)\n",
    "plt.show()"
   ]
  },
  {
   "cell_type": "code",
   "execution_count": null,
   "id": "current-cache",
   "metadata": {},
   "outputs": [],
   "source": [
    "plt.plot(probabilities_test)\n",
    "plt.show()"
   ]
  },
  {
   "cell_type": "code",
   "execution_count": null,
   "id": "worst-twelve",
   "metadata": {},
   "outputs": [],
   "source": [
    "# wybieramy jakiś punkt odcięcia na podstawie 1-wszego wykresu\n",
    "threshold = -35\n",
    "prediction = [0 if i > threshold else 1 for i in probabilities_test ]"
   ]
  },
  {
   "cell_type": "code",
   "execution_count": null,
   "id": "loaded-demographic",
   "metadata": {},
   "outputs": [],
   "source": [
    "prediction"
   ]
  },
  {
   "cell_type": "code",
   "execution_count": null,
   "id": "prompt-suicide",
   "metadata": {},
   "outputs": [],
   "source": [
    "test_true"
   ]
  },
  {
   "cell_type": "code",
   "execution_count": null,
   "id": "charged-belief",
   "metadata": {},
   "outputs": [],
   "source": [
    "from sklearn.metrics import precision_score, recall_score, f1_score\n",
    "\n",
    "\n",
    "print(\"Precision: {}\".format(precision_score(test_true, prediction)))\n",
    "print(\"Recall: {}\".format(recall_score(test_true, prediction)))\n",
    "print(\"F1: {}\".format(f1_score(test_true, prediction)))\n"
   ]
  },
  {
   "cell_type": "markdown",
   "id": "primary-alpha",
   "metadata": {},
   "source": [
    "### Wnioski\n",
    "Okazuje się, że algorytm GMM można wykorzystywać do detekcji outlierów"
   ]
  }
 ],
 "metadata": {
  "kernelspec": {
   "display_name": "Python 3",
   "language": "python",
   "name": "python3"
  },
  "language_info": {
   "codemirror_mode": {
    "name": "ipython",
    "version": 3
   },
   "file_extension": ".py",
   "mimetype": "text/x-python",
   "name": "python",
   "nbconvert_exporter": "python",
   "pygments_lexer": "ipython3",
   "version": "3.8.7"
  }
 },
 "nbformat": 4,
 "nbformat_minor": 5
}
