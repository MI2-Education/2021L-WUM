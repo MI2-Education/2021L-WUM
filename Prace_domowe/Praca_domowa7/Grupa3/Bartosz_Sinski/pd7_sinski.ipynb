{
 "cells": [
  {
   "cell_type": "markdown",
   "id": "surprised-croatia",
   "metadata": {},
   "source": [
    "# Praca Domowa 7\n",
    "Bartosz Siński"
   ]
  },
  {
   "cell_type": "code",
   "execution_count": 2,
   "id": "independent-saturn",
   "metadata": {},
   "outputs": [],
   "source": [
    "from matplotlib import pyplot as plt\n",
    "import pandas as pd\n",
    "import numpy as np\n",
    "import seaborn as sns\n",
    "np.set_seed = 42"
   ]
  },
  {
   "cell_type": "code",
   "execution_count": 96,
   "id": "peripheral-persian",
   "metadata": {},
   "outputs": [],
   "source": [
    "train = pd.read_csv(\"./src/wine_train.csv\")\n",
    "test = pd.read_csv(\"./src/wine_test.csv\")\n",
    "val = pd.read_csv(\"./src/wine_val.csv\")"
   ]
  },
  {
   "cell_type": "code",
   "execution_count": 97,
   "id": "amino-three",
   "metadata": {},
   "outputs": [
    {
     "data": {
      "text/html": [
       "<div>\n",
       "<style scoped>\n",
       "    .dataframe tbody tr th:only-of-type {\n",
       "        vertical-align: middle;\n",
       "    }\n",
       "\n",
       "    .dataframe tbody tr th {\n",
       "        vertical-align: top;\n",
       "    }\n",
       "\n",
       "    .dataframe thead th {\n",
       "        text-align: right;\n",
       "    }\n",
       "</style>\n",
       "<table border=\"1\" class=\"dataframe\">\n",
       "  <thead>\n",
       "    <tr style=\"text-align: right;\">\n",
       "      <th></th>\n",
       "      <th>class</th>\n",
       "      <th>Alcohol</th>\n",
       "      <th>Malic acid</th>\n",
       "      <th>Ash</th>\n",
       "      <th>Alcalinity of ash</th>\n",
       "      <th>Magnesium</th>\n",
       "      <th>Total phenols</th>\n",
       "      <th>Flavanoids</th>\n",
       "      <th>Nonflavanoid phenols</th>\n",
       "      <th>Proanthocyanins</th>\n",
       "      <th>Color intensity</th>\n",
       "      <th>Hue</th>\n",
       "      <th>OD280/OD315 of diluted wines</th>\n",
       "      <th>Proline</th>\n",
       "    </tr>\n",
       "  </thead>\n",
       "  <tbody>\n",
       "    <tr>\n",
       "      <th>0</th>\n",
       "      <td>0</td>\n",
       "      <td>13.34</td>\n",
       "      <td>0.94</td>\n",
       "      <td>2.36</td>\n",
       "      <td>17.0</td>\n",
       "      <td>110</td>\n",
       "      <td>2.53</td>\n",
       "      <td>1.30</td>\n",
       "      <td>0.55</td>\n",
       "      <td>0.42</td>\n",
       "      <td>3.17</td>\n",
       "      <td>1.02</td>\n",
       "      <td>1.93</td>\n",
       "      <td>750</td>\n",
       "    </tr>\n",
       "    <tr>\n",
       "      <th>1</th>\n",
       "      <td>0</td>\n",
       "      <td>12.00</td>\n",
       "      <td>0.92</td>\n",
       "      <td>2.00</td>\n",
       "      <td>19.0</td>\n",
       "      <td>86</td>\n",
       "      <td>2.42</td>\n",
       "      <td>2.26</td>\n",
       "      <td>0.30</td>\n",
       "      <td>1.43</td>\n",
       "      <td>2.50</td>\n",
       "      <td>1.38</td>\n",
       "      <td>3.12</td>\n",
       "      <td>278</td>\n",
       "    </tr>\n",
       "    <tr>\n",
       "      <th>2</th>\n",
       "      <td>0</td>\n",
       "      <td>11.84</td>\n",
       "      <td>0.89</td>\n",
       "      <td>2.58</td>\n",
       "      <td>18.0</td>\n",
       "      <td>94</td>\n",
       "      <td>2.20</td>\n",
       "      <td>2.21</td>\n",
       "      <td>0.22</td>\n",
       "      <td>2.35</td>\n",
       "      <td>3.05</td>\n",
       "      <td>0.79</td>\n",
       "      <td>3.08</td>\n",
       "      <td>520</td>\n",
       "    </tr>\n",
       "    <tr>\n",
       "      <th>3</th>\n",
       "      <td>0</td>\n",
       "      <td>12.47</td>\n",
       "      <td>1.52</td>\n",
       "      <td>2.20</td>\n",
       "      <td>19.0</td>\n",
       "      <td>162</td>\n",
       "      <td>2.50</td>\n",
       "      <td>2.27</td>\n",
       "      <td>0.32</td>\n",
       "      <td>3.28</td>\n",
       "      <td>2.60</td>\n",
       "      <td>1.16</td>\n",
       "      <td>2.63</td>\n",
       "      <td>937</td>\n",
       "    </tr>\n",
       "    <tr>\n",
       "      <th>4</th>\n",
       "      <td>0</td>\n",
       "      <td>11.81</td>\n",
       "      <td>2.12</td>\n",
       "      <td>2.74</td>\n",
       "      <td>21.5</td>\n",
       "      <td>134</td>\n",
       "      <td>1.60</td>\n",
       "      <td>0.99</td>\n",
       "      <td>0.14</td>\n",
       "      <td>1.56</td>\n",
       "      <td>2.50</td>\n",
       "      <td>0.95</td>\n",
       "      <td>2.26</td>\n",
       "      <td>625</td>\n",
       "    </tr>\n",
       "  </tbody>\n",
       "</table>\n",
       "</div>"
      ],
      "text/plain": [
       "   class  Alcohol  Malic acid   Ash  Alcalinity of ash  Magnesium  \\\n",
       "0      0    13.34        0.94  2.36               17.0        110   \n",
       "1      0    12.00        0.92  2.00               19.0         86   \n",
       "2      0    11.84        0.89  2.58               18.0         94   \n",
       "3      0    12.47        1.52  2.20               19.0        162   \n",
       "4      0    11.81        2.12  2.74               21.5        134   \n",
       "\n",
       "   Total phenols  Flavanoids  Nonflavanoid phenols  Proanthocyanins  \\\n",
       "0           2.53        1.30                  0.55             0.42   \n",
       "1           2.42        2.26                  0.30             1.43   \n",
       "2           2.20        2.21                  0.22             2.35   \n",
       "3           2.50        2.27                  0.32             3.28   \n",
       "4           1.60        0.99                  0.14             1.56   \n",
       "\n",
       "   Color intensity   Hue  OD280/OD315 of diluted wines  Proline  \n",
       "0             3.17  1.02                          1.93      750  \n",
       "1             2.50  1.38                          3.12      278  \n",
       "2             3.05  0.79                          3.08      520  \n",
       "3             2.60  1.16                          2.63      937  \n",
       "4             2.50  0.95                          2.26      625  "
      ]
     },
     "execution_count": 97,
     "metadata": {},
     "output_type": "execute_result"
    }
   ],
   "source": [
    "test.head(5)"
   ]
  },
  {
   "cell_type": "code",
   "execution_count": 84,
   "id": "given-trace",
   "metadata": {},
   "outputs": [],
   "source": [
    "#from sklearn.preprocessing import StandardScaler\n",
    "#train = StandardScaler().fit_transform(train)\n",
    "#val = StandardScaler().fit_transform(val)\n",
    "#test1 = StandardScaler().fit_transform(test.drop('class',axis=1))\n",
    "#test = pd.merge(pd.DataFrame(test1),test['class'],left_index=True, right_index=True)\n",
    "# po standaryzacji danych nasz metoda radziła sobie gorzej i nie zauważała dobrze \n",
    "# outlierów więc nie będziemy jej stosować"
   ]
  },
  {
   "cell_type": "markdown",
   "id": "center-planet",
   "metadata": {},
   "source": [
    "### Znalezienie optymalnej liczby klastrów"
   ]
  },
  {
   "cell_type": "code",
   "execution_count": 98,
   "id": "fatty-sympathy",
   "metadata": {},
   "outputs": [
    {
     "data": {
      "image/png": "[encoded data removed]",
      "text/plain": [
       "<Figure size 432x288 with 1 Axes>"
      ]
     },
     "metadata": {
      "needs_background": "light"
     },
     "output_type": "display_data"
    }
   ],
   "source": [
    "from sklearn.mixture import GaussianMixture\n",
    "from sklearn.metrics import silhouette_score\n",
    "ss_scores = []\n",
    "k = range(2,10)\n",
    "for i in k:\n",
    "    gm = GaussianMixture(n_components=i, random_state=0)\n",
    "    gm.fit(train)\n",
    "    labels = gm.predict(train)\n",
    "    ss_scores.append(silhouette_score(train, labels, random_state = 42))\n",
    "plt.plot(k,ss_scores,'bo-')\n",
    "plt.xlabel('k')\n",
    "plt.ylabel('Silhouette')\n",
    "plt.title('Silhouette Score')\n",
    "plt.show()"
   ]
  },
  {
   "cell_type": "code",
   "execution_count": 99,
   "id": "charitable-ladder",
   "metadata": {},
   "outputs": [
    {
     "data": {
      "image/png": "[encoded data removed]",
      "text/plain": [
       "<Figure size 432x288 with 1 Axes>"
      ]
     },
     "metadata": {
      "needs_background": "light"
     },
     "output_type": "display_data"
    }
   ],
   "source": [
    "bic_scores = []\n",
    "k = range(2,10)\n",
    "for i in k:\n",
    "    gm = GaussianMixture(n_components=i, random_state=0)\n",
    "    gm.fit(train)\n",
    "    bic_scores.append(gm.bic(train))\n",
    "plt.plot(k,bic_scores,'bo-')\n",
    "plt.xlabel('k')\n",
    "plt.ylabel('Bayesian Information Criterion')\n",
    "plt.title('Clusterization using BIC')\n",
    "plt.show()"
   ]
  },
  {
   "cell_type": "markdown",
   "id": "dedicated-spider",
   "metadata": {},
   "source": [
    "Obie przetestowane przez nas metody wykazują, że najbardziej optymalną liczbą klastrów dla GMM na naszych danych jest k=4."
   ]
  },
  {
   "cell_type": "markdown",
   "id": "brazilian-comparison",
   "metadata": {},
   "source": [
    "### Znajdowanie wartości odstających\n",
    "Do znajdowania wartości ostających posłużymy się wartościami *score_samples*, które są zwracane przez GMM dla każdej obserwacji. Oznaczają one ważony logarytm prawdopodobieństwa należenia tej obserwacji do wyznaczonych klastrów."
   ]
  },
  {
   "cell_type": "code",
   "execution_count": 100,
   "id": "mechanical-wrestling",
   "metadata": {
    "scrolled": true
   },
   "outputs": [
    {
     "data": {
      "text/plain": [
       "GaussianMixture(n_components=4, random_state=42)"
      ]
     },
     "execution_count": 100,
     "metadata": {},
     "output_type": "execute_result"
    }
   ],
   "source": [
    "gm2 = GaussianMixture(n_components=4, random_state=42)\n",
    "gm2.fit(train)"
   ]
  },
  {
   "cell_type": "markdown",
   "id": "exposed-government",
   "metadata": {},
   "source": [
    "Sprawdzimy czy dopasowany do zbioru treningowego GMM wykryje outliery na zbiorze walidacyjnym."
   ]
  },
  {
   "cell_type": "code",
   "execution_count": 101,
   "id": "antique-indonesia",
   "metadata": {
    "scrolled": true
   },
   "outputs": [
    {
     "data": {
      "text/plain": [
       "<AxesSubplot:ylabel='Count'>"
      ]
     },
     "execution_count": 101,
     "metadata": {},
     "output_type": "execute_result"
    },
    {
     "data": {
      "image/png": "[encoded data removed]",
      "text/plain": [
       "<Figure size 432x288 with 1 Axes>"
      ]
     },
     "metadata": {
      "needs_background": "light"
     },
     "output_type": "display_data"
    }
   ],
   "source": [
    "val_scores = gm2.score_samples(val)\n",
    "sns.histplot(val_scores,bins=9)"
   ]
  },
  {
   "cell_type": "markdown",
   "id": "stock-soldier",
   "metadata": {},
   "source": [
    "Dwa widać dla obserwacji z wartościami *score_samples* < -100 . Taki też wyznaczymy próg uznawania obserwacji za odstające. Sprawdźmy na zbiorze testowym jak sprawdza się wybrany przez nas próg. "
   ]
  },
  {
   "cell_type": "code",
   "execution_count": 102,
   "id": "universal-stock",
   "metadata": {},
   "outputs": [],
   "source": [
    "test2 = test.drop('class',axis=1)"
   ]
  },
  {
   "cell_type": "code",
   "execution_count": 103,
   "id": "specified-corner",
   "metadata": {
    "scrolled": true
   },
   "outputs": [
    {
     "data": {
      "text/plain": [
       "<AxesSubplot:ylabel='Count'>"
      ]
     },
     "execution_count": 103,
     "metadata": {},
     "output_type": "execute_result"
    },
    {
     "data": {
      "image/png": "[encoded data removed]",
      "text/plain": [
       "<Figure size 432x288 with 1 Axes>"
      ]
     },
     "metadata": {
      "needs_background": "light"
     },
     "output_type": "display_data"
    }
   ],
   "source": [
    "test_scores=gm2.score_samples(test2)\n",
    "sns.histplot(test_scores)"
   ]
  },
  {
   "cell_type": "code",
   "execution_count": 104,
   "id": "electronic-nebraska",
   "metadata": {},
   "outputs": [
    {
     "data": {
      "text/plain": [
       "array([0, 0, 0, 0, 0, 0, 0, 0, 0, 0, 0, 0, 1, 0, 1, 1, 1])"
      ]
     },
     "execution_count": 104,
     "metadata": {},
     "output_type": "execute_result"
    }
   ],
   "source": [
    "results = np.where(gm2.score_samples(test2)<-100,1,0)\n",
    "results"
   ]
  },
  {
   "cell_type": "code",
   "execution_count": 105,
   "id": "fifty-greece",
   "metadata": {
    "scrolled": true
   },
   "outputs": [
    {
     "data": {
      "text/plain": [
       "array([0, 0, 0, 0, 0, 0, 0, 0, 0, 0, 0, 0, 1, 1, 1, 1, 1], dtype=int64)"
      ]
     },
     "execution_count": 105,
     "metadata": {},
     "output_type": "execute_result"
    }
   ],
   "source": [
    "actual = test['class'].to_numpy()\n",
    "actual"
   ]
  },
  {
   "cell_type": "code",
   "execution_count": 107,
   "id": "random-dealer",
   "metadata": {},
   "outputs": [
    {
     "name": "stdout",
     "output_type": "stream",
     "text": [
      "F1 score:0.888888888888889\n",
      "Precision:1.0\n",
      "Recall:0.8\n"
     ]
    }
   ],
   "source": [
    "from sklearn.metrics import f1_score\n",
    "from sklearn.metrics import precision_score\n",
    "from sklearn.metrics import recall_score\n",
    "print(\"F1 score:\" + str(f1_score(actual,results)))\n",
    "print(\"Precision:\" + str(precision_score(actual,results)))\n",
    "print(\"Recall:\" + str(recall_score(actual,results)))"
   ]
  },
  {
   "cell_type": "markdown",
   "id": "grave-denver",
   "metadata": {},
   "source": [
    "Nasza metoda dobrze poradziła sobie z wyrkywaniem outlierów przypisując myląc się jedynie przy jednej obserwacji, w przypadku której wartość odstającą uznała za normalną."
   ]
  }
 ],
 "metadata": {
  "kernelspec": {
   "display_name": "Python 3",
   "language": "python",
   "name": "python3"
  },
  "language_info": {
   "codemirror_mode": {
    "name": "ipython",
    "version": 3
   },
   "file_extension": ".py",
   "mimetype": "text/x-python",
   "name": "python",
   "nbconvert_exporter": "python",
   "pygments_lexer": "ipython3",
   "version": "3.8.5"
  }
 },
 "nbformat": 4,
 "nbformat_minor": 5
}
