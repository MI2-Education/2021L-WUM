{
 "cells": [
  {
   "cell_type": "markdown",
   "id": "sudden-benefit",
   "metadata": {},
   "source": [
    "# Praca domowa nr 7"
   ]
  },
  {
   "cell_type": "code",
   "execution_count": 1,
   "id": "rubber-louisville",
   "metadata": {},
   "outputs": [],
   "source": [
    "import matplotlib.pyplot as plt\n",
    "import pandas as pd\n",
    "import numpy as np\n",
    "from sklearn.mixture import GaussianMixture\n",
    "from sklearn.decomposition import PCA\n",
    "from sklearn.metrics import mean_squared_error\n",
    "from sklearn.metrics import f1_score, precision_score, recall_score\n",
    "from sklearn.model_selection import GridSearchCV\n",
    "from sklearn.decomposition import PCA\n",
    "import seaborn as sns"
   ]
  },
  {
   "cell_type": "markdown",
   "id": "hourly-input",
   "metadata": {},
   "source": [
    "Zbiór danych\n",
    "\n",
    "Poniższe zbiory zostały wyodrębnione ze zbioru Wine UCI:\n",
    "\n",
    "    train - bez próbek odstających, do trenowania modelu\n",
    "    test - do oceny skuteczności modelu, dodana informacja o klasie 0=inliers, 1=outliers\n",
    "    val - analogiczny do test, ale bez klasy\n",
    "\n",
    "Treść zadania\n",
    "\n",
    "Celem zadania jest wykorzytanie algorytmu GMM do wykrywania próbek odstających.\n",
    "\n",
    "Do oceny modelu wykorzystać metryki F1 score, Precision i Recall."
   ]
  },
  {
   "cell_type": "markdown",
   "id": "twenty-maker",
   "metadata": {},
   "source": [
    "## Wczytanie danych"
   ]
  },
  {
   "cell_type": "code",
   "execution_count": 2,
   "id": "applied-dealing",
   "metadata": {},
   "outputs": [],
   "source": [
    "train = pd.read_csv(\"https://raw.githubusercontent.com/mini-pw/2021L-WUM/main/Prace_domowe/Praca_domowa7/train.csv\")\n",
    "test = pd.read_csv(\"https://raw.githubusercontent.com/mini-pw/2021L-WUM/main/Prace_domowe/Praca_domowa7/test.csv\")\n",
    "val = pd.read_csv(\"https://raw.githubusercontent.com/mini-pw/2021L-WUM/main/Prace_domowe/Praca_domowa7/val.csv\")"
   ]
  },
  {
   "cell_type": "code",
   "execution_count": 3,
   "id": "alien-wrist",
   "metadata": {},
   "outputs": [
    {
     "data": {
      "text/html": [
       "<div>\n",
       "<style scoped>\n",
       "    .dataframe tbody tr th:only-of-type {\n",
       "        vertical-align: middle;\n",
       "    }\n",
       "\n",
       "    .dataframe tbody tr th {\n",
       "        vertical-align: top;\n",
       "    }\n",
       "\n",
       "    .dataframe thead th {\n",
       "        text-align: right;\n",
       "    }\n",
       "</style>\n",
       "<table border=\"1\" class=\"dataframe\">\n",
       "  <thead>\n",
       "    <tr style=\"text-align: right;\">\n",
       "      <th></th>\n",
       "      <th>Alcohol</th>\n",
       "      <th>Malic acid</th>\n",
       "      <th>Ash</th>\n",
       "      <th>Alcalinity of ash</th>\n",
       "      <th>Magnesium</th>\n",
       "      <th>Total phenols</th>\n",
       "      <th>Flavanoids</th>\n",
       "      <th>Nonflavanoid phenols</th>\n",
       "      <th>Proanthocyanins</th>\n",
       "      <th>Color intensity</th>\n",
       "      <th>Hue</th>\n",
       "      <th>OD280/OD315 of diluted wines</th>\n",
       "      <th>Proline</th>\n",
       "    </tr>\n",
       "  </thead>\n",
       "  <tbody>\n",
       "    <tr>\n",
       "      <th>0</th>\n",
       "      <td>13.86</td>\n",
       "      <td>1.51</td>\n",
       "      <td>2.67</td>\n",
       "      <td>25.0</td>\n",
       "      <td>86</td>\n",
       "      <td>2.95</td>\n",
       "      <td>2.86</td>\n",
       "      <td>0.21</td>\n",
       "      <td>1.87</td>\n",
       "      <td>3.38</td>\n",
       "      <td>1.36</td>\n",
       "      <td>3.16</td>\n",
       "      <td>410</td>\n",
       "    </tr>\n",
       "    <tr>\n",
       "      <th>1</th>\n",
       "      <td>13.40</td>\n",
       "      <td>3.91</td>\n",
       "      <td>2.48</td>\n",
       "      <td>23.0</td>\n",
       "      <td>102</td>\n",
       "      <td>1.80</td>\n",
       "      <td>0.75</td>\n",
       "      <td>0.43</td>\n",
       "      <td>1.41</td>\n",
       "      <td>7.30</td>\n",
       "      <td>0.70</td>\n",
       "      <td>1.56</td>\n",
       "      <td>750</td>\n",
       "    </tr>\n",
       "    <tr>\n",
       "      <th>2</th>\n",
       "      <td>12.82</td>\n",
       "      <td>3.37</td>\n",
       "      <td>2.30</td>\n",
       "      <td>19.5</td>\n",
       "      <td>88</td>\n",
       "      <td>1.48</td>\n",
       "      <td>0.66</td>\n",
       "      <td>0.40</td>\n",
       "      <td>0.97</td>\n",
       "      <td>10.26</td>\n",
       "      <td>0.72</td>\n",
       "      <td>1.75</td>\n",
       "      <td>685</td>\n",
       "    </tr>\n",
       "    <tr>\n",
       "      <th>3</th>\n",
       "      <td>12.37</td>\n",
       "      <td>1.07</td>\n",
       "      <td>2.10</td>\n",
       "      <td>18.5</td>\n",
       "      <td>88</td>\n",
       "      <td>3.52</td>\n",
       "      <td>3.75</td>\n",
       "      <td>0.24</td>\n",
       "      <td>1.95</td>\n",
       "      <td>4.50</td>\n",
       "      <td>1.04</td>\n",
       "      <td>2.77</td>\n",
       "      <td>660</td>\n",
       "    </tr>\n",
       "    <tr>\n",
       "      <th>4</th>\n",
       "      <td>13.50</td>\n",
       "      <td>1.81</td>\n",
       "      <td>2.61</td>\n",
       "      <td>20.0</td>\n",
       "      <td>96</td>\n",
       "      <td>2.53</td>\n",
       "      <td>2.61</td>\n",
       "      <td>0.28</td>\n",
       "      <td>1.66</td>\n",
       "      <td>3.52</td>\n",
       "      <td>1.12</td>\n",
       "      <td>3.82</td>\n",
       "      <td>845</td>\n",
       "    </tr>\n",
       "    <tr>\n",
       "      <th>5</th>\n",
       "      <td>13.78</td>\n",
       "      <td>2.76</td>\n",
       "      <td>2.30</td>\n",
       "      <td>22.0</td>\n",
       "      <td>90</td>\n",
       "      <td>1.35</td>\n",
       "      <td>0.68</td>\n",
       "      <td>0.41</td>\n",
       "      <td>1.03</td>\n",
       "      <td>9.58</td>\n",
       "      <td>0.70</td>\n",
       "      <td>1.68</td>\n",
       "      <td>615</td>\n",
       "    </tr>\n",
       "    <tr>\n",
       "      <th>6</th>\n",
       "      <td>13.52</td>\n",
       "      <td>3.17</td>\n",
       "      <td>2.72</td>\n",
       "      <td>23.5</td>\n",
       "      <td>97</td>\n",
       "      <td>1.55</td>\n",
       "      <td>0.52</td>\n",
       "      <td>0.50</td>\n",
       "      <td>0.55</td>\n",
       "      <td>4.35</td>\n",
       "      <td>0.89</td>\n",
       "      <td>2.06</td>\n",
       "      <td>520</td>\n",
       "    </tr>\n",
       "    <tr>\n",
       "      <th>7</th>\n",
       "      <td>14.83</td>\n",
       "      <td>1.64</td>\n",
       "      <td>2.17</td>\n",
       "      <td>14.0</td>\n",
       "      <td>97</td>\n",
       "      <td>2.80</td>\n",
       "      <td>2.98</td>\n",
       "      <td>0.29</td>\n",
       "      <td>1.98</td>\n",
       "      <td>5.20</td>\n",
       "      <td>1.08</td>\n",
       "      <td>2.85</td>\n",
       "      <td>1045</td>\n",
       "    </tr>\n",
       "    <tr>\n",
       "      <th>8</th>\n",
       "      <td>13.48</td>\n",
       "      <td>1.81</td>\n",
       "      <td>2.41</td>\n",
       "      <td>20.5</td>\n",
       "      <td>100</td>\n",
       "      <td>2.70</td>\n",
       "      <td>2.98</td>\n",
       "      <td>0.26</td>\n",
       "      <td>1.86</td>\n",
       "      <td>5.10</td>\n",
       "      <td>1.04</td>\n",
       "      <td>3.47</td>\n",
       "      <td>920</td>\n",
       "    </tr>\n",
       "    <tr>\n",
       "      <th>9</th>\n",
       "      <td>12.42</td>\n",
       "      <td>1.61</td>\n",
       "      <td>2.19</td>\n",
       "      <td>22.5</td>\n",
       "      <td>108</td>\n",
       "      <td>2.00</td>\n",
       "      <td>2.09</td>\n",
       "      <td>0.34</td>\n",
       "      <td>1.61</td>\n",
       "      <td>2.06</td>\n",
       "      <td>1.06</td>\n",
       "      <td>2.96</td>\n",
       "      <td>345</td>\n",
       "    </tr>\n",
       "    <tr>\n",
       "      <th>10</th>\n",
       "      <td>13.05</td>\n",
       "      <td>5.80</td>\n",
       "      <td>2.13</td>\n",
       "      <td>21.5</td>\n",
       "      <td>86</td>\n",
       "      <td>2.62</td>\n",
       "      <td>2.65</td>\n",
       "      <td>0.30</td>\n",
       "      <td>2.01</td>\n",
       "      <td>2.60</td>\n",
       "      <td>0.73</td>\n",
       "      <td>3.10</td>\n",
       "      <td>380</td>\n",
       "    </tr>\n",
       "    <tr>\n",
       "      <th>11</th>\n",
       "      <td>12.43</td>\n",
       "      <td>1.53</td>\n",
       "      <td>2.29</td>\n",
       "      <td>21.5</td>\n",
       "      <td>86</td>\n",
       "      <td>2.74</td>\n",
       "      <td>3.15</td>\n",
       "      <td>0.39</td>\n",
       "      <td>1.77</td>\n",
       "      <td>3.94</td>\n",
       "      <td>0.69</td>\n",
       "      <td>2.84</td>\n",
       "      <td>352</td>\n",
       "    </tr>\n",
       "    <tr>\n",
       "      <th>12</th>\n",
       "      <td>13.87</td>\n",
       "      <td>1.90</td>\n",
       "      <td>2.80</td>\n",
       "      <td>19.4</td>\n",
       "      <td>107</td>\n",
       "      <td>2.95</td>\n",
       "      <td>2.97</td>\n",
       "      <td>0.37</td>\n",
       "      <td>1.76</td>\n",
       "      <td>4.50</td>\n",
       "      <td>1.25</td>\n",
       "      <td>3.40</td>\n",
       "      <td>915</td>\n",
       "    </tr>\n",
       "    <tr>\n",
       "      <th>13</th>\n",
       "      <td>13.88</td>\n",
       "      <td>5.04</td>\n",
       "      <td>2.23</td>\n",
       "      <td>20.0</td>\n",
       "      <td>80</td>\n",
       "      <td>0.98</td>\n",
       "      <td>0.34</td>\n",
       "      <td>0.40</td>\n",
       "      <td>0.68</td>\n",
       "      <td>4.90</td>\n",
       "      <td>0.58</td>\n",
       "      <td>1.33</td>\n",
       "      <td>415</td>\n",
       "    </tr>\n",
       "    <tr>\n",
       "      <th>14</th>\n",
       "      <td>12.42</td>\n",
       "      <td>2.55</td>\n",
       "      <td>2.27</td>\n",
       "      <td>22.0</td>\n",
       "      <td>90</td>\n",
       "      <td>1.68</td>\n",
       "      <td>1.84</td>\n",
       "      <td>0.66</td>\n",
       "      <td>1.42</td>\n",
       "      <td>2.70</td>\n",
       "      <td>0.86</td>\n",
       "      <td>3.30</td>\n",
       "      <td>315</td>\n",
       "    </tr>\n",
       "    <tr>\n",
       "      <th>15</th>\n",
       "      <td>12.04</td>\n",
       "      <td>4.30</td>\n",
       "      <td>2.38</td>\n",
       "      <td>22.0</td>\n",
       "      <td>80</td>\n",
       "      <td>2.10</td>\n",
       "      <td>1.75</td>\n",
       "      <td>0.42</td>\n",
       "      <td>1.35</td>\n",
       "      <td>2.60</td>\n",
       "      <td>0.79</td>\n",
       "      <td>2.57</td>\n",
       "      <td>580</td>\n",
       "    </tr>\n",
       "    <tr>\n",
       "      <th>16</th>\n",
       "      <td>13.72</td>\n",
       "      <td>1.43</td>\n",
       "      <td>2.50</td>\n",
       "      <td>16.7</td>\n",
       "      <td>108</td>\n",
       "      <td>3.40</td>\n",
       "      <td>3.67</td>\n",
       "      <td>0.19</td>\n",
       "      <td>2.04</td>\n",
       "      <td>6.80</td>\n",
       "      <td>0.89</td>\n",
       "      <td>2.87</td>\n",
       "      <td>1285</td>\n",
       "    </tr>\n",
       "  </tbody>\n",
       "</table>\n",
       "</div>"
      ],
      "text/plain": [
       "    Alcohol  Malic acid   Ash  Alcalinity of ash  Magnesium  Total phenols  \\\n",
       "0     13.86        1.51  2.67               25.0         86           2.95   \n",
       "1     13.40        3.91  2.48               23.0        102           1.80   \n",
       "2     12.82        3.37  2.30               19.5         88           1.48   \n",
       "3     12.37        1.07  2.10               18.5         88           3.52   \n",
       "4     13.50        1.81  2.61               20.0         96           2.53   \n",
       "5     13.78        2.76  2.30               22.0         90           1.35   \n",
       "6     13.52        3.17  2.72               23.5         97           1.55   \n",
       "7     14.83        1.64  2.17               14.0         97           2.80   \n",
       "8     13.48        1.81  2.41               20.5        100           2.70   \n",
       "9     12.42        1.61  2.19               22.5        108           2.00   \n",
       "10    13.05        5.80  2.13               21.5         86           2.62   \n",
       "11    12.43        1.53  2.29               21.5         86           2.74   \n",
       "12    13.87        1.90  2.80               19.4        107           2.95   \n",
       "13    13.88        5.04  2.23               20.0         80           0.98   \n",
       "14    12.42        2.55  2.27               22.0         90           1.68   \n",
       "15    12.04        4.30  2.38               22.0         80           2.10   \n",
       "16    13.72        1.43  2.50               16.7        108           3.40   \n",
       "\n",
       "    Flavanoids  Nonflavanoid phenols  Proanthocyanins  Color intensity   Hue  \\\n",
       "0         2.86                  0.21             1.87             3.38  1.36   \n",
       "1         0.75                  0.43             1.41             7.30  0.70   \n",
       "2         0.66                  0.40             0.97            10.26  0.72   \n",
       "3         3.75                  0.24             1.95             4.50  1.04   \n",
       "4         2.61                  0.28             1.66             3.52  1.12   \n",
       "5         0.68                  0.41             1.03             9.58  0.70   \n",
       "6         0.52                  0.50             0.55             4.35  0.89   \n",
       "7         2.98                  0.29             1.98             5.20  1.08   \n",
       "8         2.98                  0.26             1.86             5.10  1.04   \n",
       "9         2.09                  0.34             1.61             2.06  1.06   \n",
       "10        2.65                  0.30             2.01             2.60  0.73   \n",
       "11        3.15                  0.39             1.77             3.94  0.69   \n",
       "12        2.97                  0.37             1.76             4.50  1.25   \n",
       "13        0.34                  0.40             0.68             4.90  0.58   \n",
       "14        1.84                  0.66             1.42             2.70  0.86   \n",
       "15        1.75                  0.42             1.35             2.60  0.79   \n",
       "16        3.67                  0.19             2.04             6.80  0.89   \n",
       "\n",
       "    OD280/OD315 of diluted wines  Proline  \n",
       "0                           3.16      410  \n",
       "1                           1.56      750  \n",
       "2                           1.75      685  \n",
       "3                           2.77      660  \n",
       "4                           3.82      845  \n",
       "5                           1.68      615  \n",
       "6                           2.06      520  \n",
       "7                           2.85     1045  \n",
       "8                           3.47      920  \n",
       "9                           2.96      345  \n",
       "10                          3.10      380  \n",
       "11                          2.84      352  \n",
       "12                          3.40      915  \n",
       "13                          1.33      415  \n",
       "14                          3.30      315  \n",
       "15                          2.57      580  \n",
       "16                          2.87     1285  "
      ]
     },
     "execution_count": 3,
     "metadata": {},
     "output_type": "execute_result"
    }
   ],
   "source": [
    "val"
   ]
  },
  {
   "cell_type": "code",
   "execution_count": 4,
   "id": "opponent-pontiac",
   "metadata": {},
   "outputs": [],
   "source": [
    "X = test.drop('class', axis=1)\n",
    "y = test[['class']]"
   ]
  },
  {
   "cell_type": "markdown",
   "id": "economic-entity",
   "metadata": {},
   "source": [
    "### Wyniki bazowego modelu"
   ]
  },
  {
   "cell_type": "code",
   "execution_count": 5,
   "id": "individual-lafayette",
   "metadata": {},
   "outputs": [
    {
     "data": {
      "text/html": [
       "<div>\n",
       "<style scoped>\n",
       "    .dataframe tbody tr th:only-of-type {\n",
       "        vertical-align: middle;\n",
       "    }\n",
       "\n",
       "    .dataframe tbody tr th {\n",
       "        vertical-align: top;\n",
       "    }\n",
       "\n",
       "    .dataframe thead th {\n",
       "        text-align: right;\n",
       "    }\n",
       "</style>\n",
       "<table border=\"1\" class=\"dataframe\">\n",
       "  <thead>\n",
       "    <tr style=\"text-align: right;\">\n",
       "      <th></th>\n",
       "      <th>f1 score</th>\n",
       "      <th>precision</th>\n",
       "      <th>recall</th>\n",
       "    </tr>\n",
       "  </thead>\n",
       "  <tbody>\n",
       "    <tr>\n",
       "      <th>0</th>\n",
       "      <td>0.470588</td>\n",
       "      <td>0.333333</td>\n",
       "      <td>0.8</td>\n",
       "    </tr>\n",
       "  </tbody>\n",
       "</table>\n",
       "</div>"
      ],
      "text/plain": [
       "   f1 score  precision  recall\n",
       "0  0.470588   0.333333     0.8"
      ]
     },
     "execution_count": 5,
     "metadata": {},
     "output_type": "execute_result"
    }
   ],
   "source": [
    "def show_results(cov = 'full', init='kmeans'):  \n",
    "    gmm = GaussianMixture(n_components=2, random_state=0, covariance_type=cov, init_params=init).fit(train)\n",
    "    y_pred = gmm.predict(X)\n",
    "    t = [f1_score(y, y_pred), precision_score(y, y_pred), recall_score(y, y_pred)]\n",
    "    return t\n",
    "\n",
    "base = show_results()\n",
    "base_df= pd.DataFrame([base], columns = ['f1 score', 'precision', 'recall'])\n",
    "base_df"
   ]
  },
  {
   "cell_type": "markdown",
   "id": "prescription-wrapping",
   "metadata": {},
   "source": [
    "### Wybór najlepszego modelu GMM"
   ]
  },
  {
   "cell_type": "code",
   "execution_count": 38,
   "id": "fourth-split",
   "metadata": {},
   "outputs": [
    {
     "data": {
      "text/html": [
       "<div>\n",
       "<style scoped>\n",
       "    .dataframe tbody tr th:only-of-type {\n",
       "        vertical-align: middle;\n",
       "    }\n",
       "\n",
       "    .dataframe tbody tr th {\n",
       "        vertical-align: top;\n",
       "    }\n",
       "\n",
       "    .dataframe thead th {\n",
       "        text-align: right;\n",
       "    }\n",
       "</style>\n",
       "<table border=\"1\" class=\"dataframe\">\n",
       "  <thead>\n",
       "    <tr style=\"text-align: right;\">\n",
       "      <th></th>\n",
       "      <th>f1 score</th>\n",
       "      <th>precision</th>\n",
       "      <th>recall</th>\n",
       "    </tr>\n",
       "  </thead>\n",
       "  <tbody>\n",
       "    <tr>\n",
       "      <th>spherical, kmeans</th>\n",
       "      <td>0.666667</td>\n",
       "      <td>0.500000</td>\n",
       "      <td>1.0</td>\n",
       "    </tr>\n",
       "    <tr>\n",
       "      <th>tied, kmeans</th>\n",
       "      <td>0.588235</td>\n",
       "      <td>0.416667</td>\n",
       "      <td>1.0</td>\n",
       "    </tr>\n",
       "    <tr>\n",
       "      <th>full, kmeans</th>\n",
       "      <td>0.470588</td>\n",
       "      <td>0.333333</td>\n",
       "      <td>0.8</td>\n",
       "    </tr>\n",
       "    <tr>\n",
       "      <th>full, random</th>\n",
       "      <td>0.000000</td>\n",
       "      <td>0.000000</td>\n",
       "      <td>0.0</td>\n",
       "    </tr>\n",
       "    <tr>\n",
       "      <th>tied, random</th>\n",
       "      <td>0.000000</td>\n",
       "      <td>0.000000</td>\n",
       "      <td>0.0</td>\n",
       "    </tr>\n",
       "    <tr>\n",
       "      <th>diag, kmeans</th>\n",
       "      <td>0.000000</td>\n",
       "      <td>0.000000</td>\n",
       "      <td>0.0</td>\n",
       "    </tr>\n",
       "    <tr>\n",
       "      <th>diag, random</th>\n",
       "      <td>0.000000</td>\n",
       "      <td>0.000000</td>\n",
       "      <td>0.0</td>\n",
       "    </tr>\n",
       "    <tr>\n",
       "      <th>spherical, random</th>\n",
       "      <td>0.000000</td>\n",
       "      <td>0.000000</td>\n",
       "      <td>0.0</td>\n",
       "    </tr>\n",
       "  </tbody>\n",
       "</table>\n",
       "</div>"
      ],
      "text/plain": [
       "                   f1 score  precision  recall\n",
       "spherical, kmeans  0.666667   0.500000     1.0\n",
       "tied, kmeans       0.588235   0.416667     1.0\n",
       "full, kmeans       0.470588   0.333333     0.8\n",
       "full, random       0.000000   0.000000     0.0\n",
       "tied, random       0.000000   0.000000     0.0\n",
       "diag, kmeans       0.000000   0.000000     0.0\n",
       "diag, random       0.000000   0.000000     0.0\n",
       "spherical, random  0.000000   0.000000     0.0"
      ]
     },
     "execution_count": 38,
     "metadata": {},
     "output_type": "execute_result"
    }
   ],
   "source": [
    "def all_results():\n",
    "    res = []\n",
    "    params = []\n",
    "    for i in ['full', 'tied', 'diag', 'spherical']:\n",
    "        for j in ['kmeans', 'random']:\n",
    "            row = show_results(i, j)\n",
    "            res.append(row)\n",
    "            param = str(i)+\", \"+str(j)\n",
    "            params.append(param)\n",
    "    return pd.DataFrame(res, columns = ['f1 score', 'precision', 'recall'], index = params).sort_values('f1 score', ascending = False)\n",
    "\n",
    "all_results()"
   ]
  },
  {
   "cell_type": "markdown",
   "id": "dominican-approach",
   "metadata": {},
   "source": [
    "2 najlepsze modele mają parametry:\n",
    "- `covariance_type`: 'spherical' oraz `init_params`: 'kmeans'\n",
    "- `covariance_type`: 'tied' oraz `init_params`: 'kmeans'"
   ]
  },
  {
   "cell_type": "markdown",
   "id": "contrary-project",
   "metadata": {},
   "source": [
    "## Różnice w liczbie liczbie obserwacji sklasyfikowanych jako odstające i standardowe"
   ]
  },
  {
   "cell_type": "code",
   "execution_count": 30,
   "id": "prescription-mirror",
   "metadata": {},
   "outputs": [
    {
     "data": {
      "text/html": [
       "<div>\n",
       "<style scoped>\n",
       "    .dataframe tbody tr th:only-of-type {\n",
       "        vertical-align: middle;\n",
       "    }\n",
       "\n",
       "    .dataframe tbody tr th {\n",
       "        vertical-align: top;\n",
       "    }\n",
       "\n",
       "    .dataframe thead th {\n",
       "        text-align: right;\n",
       "    }\n",
       "</style>\n",
       "<table border=\"1\" class=\"dataframe\">\n",
       "  <thead>\n",
       "    <tr style=\"text-align: right;\">\n",
       "      <th></th>\n",
       "      <th>0</th>\n",
       "      <th>1</th>\n",
       "    </tr>\n",
       "  </thead>\n",
       "  <tbody>\n",
       "    <tr>\n",
       "      <th>full</th>\n",
       "      <td>7</td>\n",
       "      <td>10</td>\n",
       "    </tr>\n",
       "    <tr>\n",
       "      <th>tied</th>\n",
       "      <td>9</td>\n",
       "      <td>8</td>\n",
       "    </tr>\n",
       "    <tr>\n",
       "      <th>spherical</th>\n",
       "      <td>7</td>\n",
       "      <td>10</td>\n",
       "    </tr>\n",
       "  </tbody>\n",
       "</table>\n",
       "</div>"
      ],
      "text/plain": [
       "           0   1\n",
       "full       7  10\n",
       "tied       9   8\n",
       "spherical  7  10"
      ]
     },
     "execution_count": 30,
     "metadata": {},
     "output_type": "execute_result"
    }
   ],
   "source": [
    "def przydzielone_obserwacje():\n",
    "    res = []\n",
    "    for i in ['full', 'tied', 'spherical']:\n",
    "        gmm = GaussianMixture(n_components=2, random_state=0, covariance_type=i).fit(train)\n",
    "        y_pred = gmm.predict(val)\n",
    "        r = [pd.DataFrame(y_pred).value_counts()[0], pd.DataFrame(y_pred).value_counts()[1]]\n",
    "        res.append(r)\n",
    "    return pd.DataFrame(res, index = ['full', 'tied', 'spherical'])\n",
    "\n",
    "przydzielone_obserwacje()"
   ]
  },
  {
   "cell_type": "markdown",
   "id": "french-attendance",
   "metadata": {},
   "source": [
    "Dla wszystkich modeli stosunek obserwacji zaklasyfikowanych jako standardowe i odstające jest podobny. "
   ]
  },
  {
   "cell_type": "markdown",
   "id": "judicial-patent",
   "metadata": {},
   "source": [
    "## Wizualizacja przy użyciu PCA"
   ]
  },
  {
   "cell_type": "code",
   "execution_count": 7,
   "id": "bizarre-factor",
   "metadata": {},
   "outputs": [
    {
     "data": {
      "image/png": "[encoded data removed]",
      "text/plain": [
       "<Figure size 432x432 with 1 Axes>"
      ]
     },
     "metadata": {
      "needs_background": "light"
     },
     "output_type": "display_data"
    }
   ],
   "source": [
    "pca = PCA(n_components=10)\n",
    "pca.fit(train)\n",
    "plt.figure(figsize=[6, 6])\n",
    "plt.plot(np.arange(1, 11),np.cumsum(pca.explained_variance_ratio_))\n",
    "plt.show()"
   ]
  },
  {
   "cell_type": "code",
   "execution_count": 8,
   "id": "loved-creek",
   "metadata": {},
   "outputs": [],
   "source": [
    "def transform_to_df(model, df, label):\n",
    "    pca2 = PCA(n_components=2)\n",
    "    pca2.fit(train)\n",
    "    X_2 = pca2.transform(df)\n",
    "    if label:\n",
    "        X_2df = pd.DataFrame({'x': X_2[:, 0], 'y': X_2[:, 1], 'label':np.array(y).reshape(1, -1)[0], \n",
    "                          'cluster': model.fit_predict(X_2).astype('str')})\n",
    "    else:\n",
    "        X_2df = pd.DataFrame({'x': X_2[:, 0], 'y': X_2[:, 1], 'cluster': model.fit_predict(X_2).astype('str')})\n",
    "    return X_2df"
   ]
  },
  {
   "cell_type": "code",
   "execution_count": 9,
   "id": "associate-uniform",
   "metadata": {},
   "outputs": [],
   "source": [
    "def plot_clusters(df, label):\n",
    "    plt.figure(figsize=[10, 6])\n",
    "    if (label):\n",
    "        sns.scatterplot(data=df, x='x', y='y', hue='label', style='cluster')\n",
    "    else:\n",
    "        sns.scatterplot(data=df, x='x', y='y', hue='cluster')\n",
    "    plt.show()"
   ]
  },
  {
   "cell_type": "markdown",
   "id": "catholic-double",
   "metadata": {},
   "source": [
    "## Wizualizacja podziału klastrów dla bazowego modelu\n",
    "### Zbiór testowy"
   ]
  },
  {
   "cell_type": "code",
   "execution_count": 10,
   "id": "wireless-suffering",
   "metadata": {},
   "outputs": [
    {
     "data": {
      "image/png": "[encoded data removed]",
      "text/plain": [
       "<Figure size 720x432 with 1 Axes>"
      ]
     },
     "metadata": {
      "needs_background": "light"
     },
     "output_type": "display_data"
    }
   ],
   "source": [
    "basic = GaussianMixture(n_components=2)\n",
    "df_1 = transform_to_df(basic, X, True)\n",
    "plot_clusters(df_1, True)"
   ]
  },
  {
   "cell_type": "markdown",
   "id": "advisory-satisfaction",
   "metadata": {},
   "source": [
    "### Zbiór walidacyjny"
   ]
  },
  {
   "cell_type": "code",
   "execution_count": 11,
   "id": "phantom-draft",
   "metadata": {
    "scrolled": false
   },
   "outputs": [
    {
     "data": {
      "image/png": "[encoded data removed]",
      "text/plain": [
       "<Figure size 720x432 with 1 Axes>"
      ]
     },
     "metadata": {
      "needs_background": "light"
     },
     "output_type": "display_data"
    }
   ],
   "source": [
    "df_1 = transform_to_df(basic, val, False)\n",
    "plot_clusters(df_1, False)"
   ]
  },
  {
   "cell_type": "markdown",
   "id": "mysterious-version",
   "metadata": {},
   "source": [
    "Przy użyciu bazowegomodelu oraz PCA 6 obserwacji zostało zaklasyfikownych jako obserwacje odstające."
   ]
  },
  {
   "cell_type": "markdown",
   "id": "theoretical-office",
   "metadata": {},
   "source": [
    "## Wizualizacja podziału klastrów dla najlepszego modelu\n",
    "### Zbiór testowy"
   ]
  },
  {
   "cell_type": "code",
   "execution_count": 14,
   "id": "declared-former",
   "metadata": {
    "scrolled": true
   },
   "outputs": [
    {
     "data": {
      "image/png": "[encoded data removed]",
      "text/plain": [
       "<Figure size 720x432 with 1 Axes>"
      ]
     },
     "metadata": {
      "needs_background": "light"
     },
     "output_type": "display_data"
    }
   ],
   "source": [
    "best = GaussianMixture(n_components=2, covariance_type='spherical')\n",
    "df_1 = transform_to_df(best, X, True)\n",
    "plot_clusters(df_1, True)"
   ]
  },
  {
   "cell_type": "markdown",
   "id": "environmental-architecture",
   "metadata": {},
   "source": [
    "### Zbiór walidacyjny"
   ]
  },
  {
   "cell_type": "code",
   "execution_count": 40,
   "id": "automatic-batch",
   "metadata": {},
   "outputs": [
    {
     "data": {
      "image/png": "[encoded data removed]",
      "text/plain": [
       "<Figure size 720x432 with 1 Axes>"
      ]
     },
     "metadata": {
      "needs_background": "light"
     },
     "output_type": "display_data"
    }
   ],
   "source": [
    "df_1 = transform_to_df(best, val, False)\n",
    "plot_clusters(df_1, False)"
   ]
  },
  {
   "cell_type": "markdown",
   "id": "elder-south",
   "metadata": {},
   "source": [
    "Zastosowanie PCA zwiększyło liczbę obserwacji sklasyfikowanych jako odsatające.\n",
    "Podsumowując, warto rozważyć wymienione 3 modele:\n",
    "- GaussianMixture() z bazowymi parametrami\n",
    "- GaussianMixture() z parametrami `covariance_type`: 'spherical' oraz `init_params`: 'kmeans'\n",
    "- GaussianMixture() z parametrami`covariance_type`: 'tied' oraz `init_params`: 'kmeans' "
   ]
  }
 ],
 "metadata": {
  "kernelspec": {
   "display_name": "Python 3",
   "language": "python",
   "name": "python3"
  },
  "language_info": {
   "codemirror_mode": {
    "name": "ipython",
    "version": 3
   },
   "file_extension": ".py",
   "mimetype": "text/x-python",
   "name": "python",
   "nbconvert_exporter": "python",
   "pygments_lexer": "ipython3",
   "version": "3.8.6"
  }
 },
 "nbformat": 4,
 "nbformat_minor": 5
}
