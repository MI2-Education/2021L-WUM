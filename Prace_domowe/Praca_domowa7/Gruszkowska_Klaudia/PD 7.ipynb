{
 "cells": [
  {
   "cell_type": "markdown",
   "metadata": {},
   "source": [
    "# Praca domowa 7\n",
    "Klaudia Gruszkowska"
   ]
  },
  {
   "cell_type": "markdown",
   "metadata": {},
   "source": [
    "Zadanie polega na detekcji wartości odstających w danych. "
   ]
  },
  {
   "cell_type": "code",
   "execution_count": 1,
   "metadata": {},
   "outputs": [],
   "source": [
    "import pandas as pd"
   ]
  },
  {
   "cell_type": "code",
   "execution_count": 2,
   "metadata": {},
   "outputs": [],
   "source": [
    "train = pd.read_csv(\"train.csv\")\n",
    "test = pd.read_csv(\"test.csv\")\n",
    "val = pd.read_csv(\"val.csv\")"
   ]
  },
  {
   "cell_type": "code",
   "execution_count": 3,
   "metadata": {},
   "outputs": [
    {
     "data": {
      "text/html": [
       "<div>\n",
       "<style scoped>\n",
       "    .dataframe tbody tr th:only-of-type {\n",
       "        vertical-align: middle;\n",
       "    }\n",
       "\n",
       "    .dataframe tbody tr th {\n",
       "        vertical-align: top;\n",
       "    }\n",
       "\n",
       "    .dataframe thead th {\n",
       "        text-align: right;\n",
       "    }\n",
       "</style>\n",
       "<table border=\"1\" class=\"dataframe\">\n",
       "  <thead>\n",
       "    <tr style=\"text-align: right;\">\n",
       "      <th></th>\n",
       "      <th>Alcohol</th>\n",
       "      <th>Malic acid</th>\n",
       "      <th>Ash</th>\n",
       "      <th>Alcalinity of ash</th>\n",
       "      <th>Magnesium</th>\n",
       "      <th>Total phenols</th>\n",
       "      <th>Flavanoids</th>\n",
       "      <th>Nonflavanoid phenols</th>\n",
       "      <th>Proanthocyanins</th>\n",
       "      <th>Color intensity</th>\n",
       "      <th>Hue</th>\n",
       "      <th>OD280/OD315 of diluted wines</th>\n",
       "      <th>Proline</th>\n",
       "    </tr>\n",
       "  </thead>\n",
       "  <tbody>\n",
       "    <tr>\n",
       "      <th>0</th>\n",
       "      <td>12.72</td>\n",
       "      <td>1.75</td>\n",
       "      <td>2.28</td>\n",
       "      <td>22.5</td>\n",
       "      <td>84</td>\n",
       "      <td>1.38</td>\n",
       "      <td>1.76</td>\n",
       "      <td>0.48</td>\n",
       "      <td>1.63</td>\n",
       "      <td>3.30</td>\n",
       "      <td>0.88</td>\n",
       "      <td>2.42</td>\n",
       "      <td>488</td>\n",
       "    </tr>\n",
       "    <tr>\n",
       "      <th>1</th>\n",
       "      <td>13.23</td>\n",
       "      <td>3.30</td>\n",
       "      <td>2.28</td>\n",
       "      <td>18.5</td>\n",
       "      <td>98</td>\n",
       "      <td>1.80</td>\n",
       "      <td>0.83</td>\n",
       "      <td>0.61</td>\n",
       "      <td>1.87</td>\n",
       "      <td>10.52</td>\n",
       "      <td>0.56</td>\n",
       "      <td>1.51</td>\n",
       "      <td>675</td>\n",
       "    </tr>\n",
       "    <tr>\n",
       "      <th>2</th>\n",
       "      <td>12.58</td>\n",
       "      <td>1.29</td>\n",
       "      <td>2.10</td>\n",
       "      <td>20.0</td>\n",
       "      <td>103</td>\n",
       "      <td>1.48</td>\n",
       "      <td>0.58</td>\n",
       "      <td>0.53</td>\n",
       "      <td>1.40</td>\n",
       "      <td>7.60</td>\n",
       "      <td>0.58</td>\n",
       "      <td>1.55</td>\n",
       "      <td>640</td>\n",
       "    </tr>\n",
       "    <tr>\n",
       "      <th>3</th>\n",
       "      <td>12.37</td>\n",
       "      <td>1.17</td>\n",
       "      <td>1.92</td>\n",
       "      <td>19.6</td>\n",
       "      <td>78</td>\n",
       "      <td>2.11</td>\n",
       "      <td>2.00</td>\n",
       "      <td>0.27</td>\n",
       "      <td>1.04</td>\n",
       "      <td>4.68</td>\n",
       "      <td>1.12</td>\n",
       "      <td>3.48</td>\n",
       "      <td>510</td>\n",
       "    </tr>\n",
       "    <tr>\n",
       "      <th>4</th>\n",
       "      <td>13.84</td>\n",
       "      <td>4.12</td>\n",
       "      <td>2.38</td>\n",
       "      <td>19.5</td>\n",
       "      <td>89</td>\n",
       "      <td>1.80</td>\n",
       "      <td>0.83</td>\n",
       "      <td>0.48</td>\n",
       "      <td>1.56</td>\n",
       "      <td>9.01</td>\n",
       "      <td>0.57</td>\n",
       "      <td>1.64</td>\n",
       "      <td>480</td>\n",
       "    </tr>\n",
       "  </tbody>\n",
       "</table>\n",
       "</div>"
      ],
      "text/plain": [
       "   Alcohol  Malic acid   Ash  Alcalinity of ash  Magnesium  Total phenols  \\\n",
       "0    12.72        1.75  2.28               22.5         84           1.38   \n",
       "1    13.23        3.30  2.28               18.5         98           1.80   \n",
       "2    12.58        1.29  2.10               20.0        103           1.48   \n",
       "3    12.37        1.17  1.92               19.6         78           2.11   \n",
       "4    13.84        4.12  2.38               19.5         89           1.80   \n",
       "\n",
       "   Flavanoids  Nonflavanoid phenols  Proanthocyanins  Color intensity   Hue  \\\n",
       "0        1.76                  0.48             1.63             3.30  0.88   \n",
       "1        0.83                  0.61             1.87            10.52  0.56   \n",
       "2        0.58                  0.53             1.40             7.60  0.58   \n",
       "3        2.00                  0.27             1.04             4.68  1.12   \n",
       "4        0.83                  0.48             1.56             9.01  0.57   \n",
       "\n",
       "   OD280/OD315 of diluted wines  Proline  \n",
       "0                          2.42      488  \n",
       "1                          1.51      675  \n",
       "2                          1.55      640  \n",
       "3                          3.48      510  \n",
       "4                          1.64      480  "
      ]
     },
     "execution_count": 3,
     "metadata": {},
     "output_type": "execute_result"
    }
   ],
   "source": [
    "train.head()"
   ]
  },
  {
   "cell_type": "code",
   "execution_count": 4,
   "metadata": {},
   "outputs": [
    {
     "data": {
      "text/html": [
       "<div>\n",
       "<style scoped>\n",
       "    .dataframe tbody tr th:only-of-type {\n",
       "        vertical-align: middle;\n",
       "    }\n",
       "\n",
       "    .dataframe tbody tr th {\n",
       "        vertical-align: top;\n",
       "    }\n",
       "\n",
       "    .dataframe thead th {\n",
       "        text-align: right;\n",
       "    }\n",
       "</style>\n",
       "<table border=\"1\" class=\"dataframe\">\n",
       "  <thead>\n",
       "    <tr style=\"text-align: right;\">\n",
       "      <th></th>\n",
       "      <th>Alcohol</th>\n",
       "      <th>Malic acid</th>\n",
       "      <th>Ash</th>\n",
       "      <th>Alcalinity of ash</th>\n",
       "      <th>Magnesium</th>\n",
       "      <th>Total phenols</th>\n",
       "      <th>Flavanoids</th>\n",
       "      <th>Nonflavanoid phenols</th>\n",
       "      <th>Proanthocyanins</th>\n",
       "      <th>Color intensity</th>\n",
       "      <th>Hue</th>\n",
       "      <th>OD280/OD315 of diluted wines</th>\n",
       "      <th>Proline</th>\n",
       "    </tr>\n",
       "  </thead>\n",
       "  <tbody>\n",
       "    <tr>\n",
       "      <th>count</th>\n",
       "      <td>95.000000</td>\n",
       "      <td>95.000000</td>\n",
       "      <td>95.000000</td>\n",
       "      <td>95.000000</td>\n",
       "      <td>95.000000</td>\n",
       "      <td>95.000000</td>\n",
       "      <td>95.000000</td>\n",
       "      <td>95.000000</td>\n",
       "      <td>95.000000</td>\n",
       "      <td>95.000000</td>\n",
       "      <td>95.000000</td>\n",
       "      <td>95.000000</td>\n",
       "      <td>95.000000</td>\n",
       "    </tr>\n",
       "    <tr>\n",
       "      <th>mean</th>\n",
       "      <td>12.604211</td>\n",
       "      <td>2.436000</td>\n",
       "      <td>2.315895</td>\n",
       "      <td>20.662105</td>\n",
       "      <td>96.726316</td>\n",
       "      <td>2.018526</td>\n",
       "      <td>1.539579</td>\n",
       "      <td>0.400000</td>\n",
       "      <td>1.429263</td>\n",
       "      <td>4.941789</td>\n",
       "      <td>0.912589</td>\n",
       "      <td>2.307263</td>\n",
       "      <td>572.242105</td>\n",
       "    </tr>\n",
       "    <tr>\n",
       "      <th>std</th>\n",
       "      <td>0.682538</td>\n",
       "      <td>1.191029</td>\n",
       "      <td>0.298223</td>\n",
       "      <td>3.227778</td>\n",
       "      <td>13.737232</td>\n",
       "      <td>0.538838</td>\n",
       "      <td>0.822284</td>\n",
       "      <td>0.130245</td>\n",
       "      <td>0.550238</td>\n",
       "      <td>2.749656</td>\n",
       "      <td>0.260982</td>\n",
       "      <td>0.695243</td>\n",
       "      <td>148.401534</td>\n",
       "    </tr>\n",
       "    <tr>\n",
       "      <th>min</th>\n",
       "      <td>11.030000</td>\n",
       "      <td>0.740000</td>\n",
       "      <td>1.360000</td>\n",
       "      <td>10.600000</td>\n",
       "      <td>70.000000</td>\n",
       "      <td>1.100000</td>\n",
       "      <td>0.470000</td>\n",
       "      <td>0.130000</td>\n",
       "      <td>0.410000</td>\n",
       "      <td>1.280000</td>\n",
       "      <td>0.480000</td>\n",
       "      <td>1.270000</td>\n",
       "      <td>290.000000</td>\n",
       "    </tr>\n",
       "    <tr>\n",
       "      <th>25%</th>\n",
       "      <td>12.165000</td>\n",
       "      <td>1.430000</td>\n",
       "      <td>2.195000</td>\n",
       "      <td>18.500000</td>\n",
       "      <td>87.500000</td>\n",
       "      <td>1.620000</td>\n",
       "      <td>0.815000</td>\n",
       "      <td>0.290000</td>\n",
       "      <td>1.040000</td>\n",
       "      <td>2.875000</td>\n",
       "      <td>0.675000</td>\n",
       "      <td>1.675000</td>\n",
       "      <td>465.500000</td>\n",
       "    </tr>\n",
       "    <tr>\n",
       "      <th>50%</th>\n",
       "      <td>12.520000</td>\n",
       "      <td>2.130000</td>\n",
       "      <td>2.320000</td>\n",
       "      <td>20.000000</td>\n",
       "      <td>94.000000</td>\n",
       "      <td>1.950000</td>\n",
       "      <td>1.460000</td>\n",
       "      <td>0.400000</td>\n",
       "      <td>1.350000</td>\n",
       "      <td>3.850000</td>\n",
       "      <td>0.906000</td>\n",
       "      <td>2.260000</td>\n",
       "      <td>560.000000</td>\n",
       "    </tr>\n",
       "    <tr>\n",
       "      <th>75%</th>\n",
       "      <td>13.095000</td>\n",
       "      <td>3.280000</td>\n",
       "      <td>2.500000</td>\n",
       "      <td>22.500000</td>\n",
       "      <td>103.000000</td>\n",
       "      <td>2.310000</td>\n",
       "      <td>2.075000</td>\n",
       "      <td>0.500000</td>\n",
       "      <td>1.680000</td>\n",
       "      <td>6.550000</td>\n",
       "      <td>1.110000</td>\n",
       "      <td>2.915000</td>\n",
       "      <td>676.500000</td>\n",
       "    </tr>\n",
       "    <tr>\n",
       "      <th>max</th>\n",
       "      <td>14.340000</td>\n",
       "      <td>5.650000</td>\n",
       "      <td>3.230000</td>\n",
       "      <td>30.000000</td>\n",
       "      <td>151.000000</td>\n",
       "      <td>3.500000</td>\n",
       "      <td>5.080000</td>\n",
       "      <td>0.630000</td>\n",
       "      <td>3.580000</td>\n",
       "      <td>13.000000</td>\n",
       "      <td>1.710000</td>\n",
       "      <td>3.690000</td>\n",
       "      <td>985.000000</td>\n",
       "    </tr>\n",
       "  </tbody>\n",
       "</table>\n",
       "</div>"
      ],
      "text/plain": [
       "         Alcohol  Malic acid        Ash  Alcalinity of ash   Magnesium  \\\n",
       "count  95.000000   95.000000  95.000000          95.000000   95.000000   \n",
       "mean   12.604211    2.436000   2.315895          20.662105   96.726316   \n",
       "std     0.682538    1.191029   0.298223           3.227778   13.737232   \n",
       "min    11.030000    0.740000   1.360000          10.600000   70.000000   \n",
       "25%    12.165000    1.430000   2.195000          18.500000   87.500000   \n",
       "50%    12.520000    2.130000   2.320000          20.000000   94.000000   \n",
       "75%    13.095000    3.280000   2.500000          22.500000  103.000000   \n",
       "max    14.340000    5.650000   3.230000          30.000000  151.000000   \n",
       "\n",
       "       Total phenols  Flavanoids  Nonflavanoid phenols  Proanthocyanins  \\\n",
       "count      95.000000   95.000000             95.000000        95.000000   \n",
       "mean        2.018526    1.539579              0.400000         1.429263   \n",
       "std         0.538838    0.822284              0.130245         0.550238   \n",
       "min         1.100000    0.470000              0.130000         0.410000   \n",
       "25%         1.620000    0.815000              0.290000         1.040000   \n",
       "50%         1.950000    1.460000              0.400000         1.350000   \n",
       "75%         2.310000    2.075000              0.500000         1.680000   \n",
       "max         3.500000    5.080000              0.630000         3.580000   \n",
       "\n",
       "       Color intensity        Hue  OD280/OD315 of diluted wines     Proline  \n",
       "count        95.000000  95.000000                     95.000000   95.000000  \n",
       "mean          4.941789   0.912589                      2.307263  572.242105  \n",
       "std           2.749656   0.260982                      0.695243  148.401534  \n",
       "min           1.280000   0.480000                      1.270000  290.000000  \n",
       "25%           2.875000   0.675000                      1.675000  465.500000  \n",
       "50%           3.850000   0.906000                      2.260000  560.000000  \n",
       "75%           6.550000   1.110000                      2.915000  676.500000  \n",
       "max          13.000000   1.710000                      3.690000  985.000000  "
      ]
     },
     "execution_count": 4,
     "metadata": {},
     "output_type": "execute_result"
    }
   ],
   "source": [
    "train.describe()"
   ]
  },
  {
   "cell_type": "markdown",
   "metadata": {},
   "source": [
    "Możemy zauważyć, że nie ma braków danych. "
   ]
  },
  {
   "cell_type": "markdown",
   "metadata": {},
   "source": [
    "### Trenowanie"
   ]
  },
  {
   "cell_type": "code",
   "execution_count": 6,
   "metadata": {},
   "outputs": [],
   "source": [
    "import warnings\n",
    "warnings.filterwarnings('ignore')\n",
    "from sklearn.manifold import TSNE\n",
    "import matplotlib.pyplot as plt\n",
    "import numpy as np\n",
    "import seaborn as sns"
   ]
  },
  {
   "cell_type": "code",
   "execution_count": 7,
   "metadata": {},
   "outputs": [],
   "source": [
    "def scatter(x, colors):\n",
    "    palette = np.array(sns.color_palette(\"hls\", 10))\n",
    "\n",
    "    f = plt.figure(figsize=(8, 8))\n",
    "    ax = plt.subplot(aspect='equal')\n",
    "    sc = ax.scatter(x[:,0], x[:,1], lw=0, s=40,\n",
    "                    c=palette[colors.astype(np.int)])\n",
    "    plt.xlim(-25, 25)\n",
    "    plt.ylim(-25, 25)\n",
    "    ax.axis('off')\n",
    "    ax.axis('tight')\n",
    "\n",
    "    return f, ax, sc"
   ]
  },
  {
   "cell_type": "code",
   "execution_count": 8,
   "metadata": {},
   "outputs": [
    {
     "data": {
      "text/plain": [
       "array([0, 0, 0, 0, 0, 0, 0, 0, 0, 0, 0, 0, 0, 0, 0, 0, 0, 0, 0, 0, 0, 0,\n",
       "       0, 0, 0, 0, 0, 0, 0, 0, 0, 0, 0, 0, 0, 0, 0, 0, 0, 0, 0, 0, 0, 0,\n",
       "       0, 0, 0, 0, 0, 0, 0, 0, 0, 0, 0, 0, 0, 0, 0, 0, 0, 0, 0, 0, 0, 0,\n",
       "       0, 0, 0, 0, 0, 0, 0, 0, 0, 0, 0, 0, 0, 0, 0, 0, 0, 0, 0, 0, 0, 0,\n",
       "       0, 0, 0, 0, 0, 0, 0])"
      ]
     },
     "execution_count": 8,
     "metadata": {},
     "output_type": "execute_result"
    }
   ],
   "source": [
    "y = np.zeros(95,int)\n",
    "y"
   ]
  },
  {
   "cell_type": "code",
   "execution_count": 9,
   "metadata": {},
   "outputs": [
    {
     "name": "stdout",
     "output_type": "stream",
     "text": [
      "[t-SNE] Computing 91 nearest neighbors...\n",
      "[t-SNE] Indexed 95 samples in 0.000s...\n",
      "[t-SNE] Computed neighbors for 95 samples in 0.000s...\n",
      "[t-SNE] Computed conditional probabilities for sample 95 / 95\n",
      "[t-SNE] Mean sigma: 13.323457\n",
      "[t-SNE] KL divergence after 250 iterations with early exaggeration: 49.265884\n",
      "[t-SNE] KL divergence after 900 iterations: 0.087405\n"
     ]
    }
   ],
   "source": [
    "random_state = 2\n",
    "tSNE = TSNE(random_state=random_state, verbose=1)\n",
    "train_proj = tSNE.fit_transform(train)\n"
   ]
  },
  {
   "cell_type": "code",
   "execution_count": 10,
   "metadata": {},
   "outputs": [
    {
     "data": {
      "image/png": "[encoded data removed]",
      "text/plain": [
       "<Figure size 576x576 with 1 Axes>"
      ]
     },
     "metadata": {
      "needs_background": "light"
     },
     "output_type": "display_data"
    }
   ],
   "source": [
    "scatter(train_proj, y)\n",
    "plt.show()"
   ]
  },
  {
   "cell_type": "markdown",
   "metadata": {},
   "source": [
    "Wybieram liczbę komponentów i typ kowariancji korzystając z zaproponowanej przez twórców pakietu sklear metody i wykresu bic dla modelu Gausian Mixture."
   ]
  },
  {
   "cell_type": "code",
   "execution_count": 11,
   "metadata": {},
   "outputs": [
    {
     "data": {
      "text/plain": [
       "<matplotlib.legend.Legend at 0x2134c07ce80>"
      ]
     },
     "execution_count": 11,
     "metadata": {},
     "output_type": "execute_result"
    },
    {
     "data": {
      "image/png": "[encoded data removed]",
      "text/plain": [
       "<Figure size 576x432 with 1 Axes>"
      ]
     },
     "metadata": {
      "needs_background": "light"
     },
     "output_type": "display_data"
    }
   ],
   "source": [
    "import numpy as np\n",
    "import itertools\n",
    "\n",
    "from scipy import linalg\n",
    "import matplotlib.pyplot as plt\n",
    "import matplotlib as mpl\n",
    "\n",
    "from sklearn import mixture\n",
    "\n",
    "lowest_bic = np.infty\n",
    "bic = []\n",
    "n_components_range = range(1, 7)\n",
    "cv_types = ['spherical', 'tied', 'diag', 'full']\n",
    "for cv_type in cv_types:\n",
    "    for n_components in n_components_range:\n",
    "        \n",
    "        gmm = mixture.GaussianMixture(n_components=n_components,\n",
    "                                      covariance_type=cv_type)\n",
    "        gmm.fit(train)\n",
    "        bic.append(gmm.bic(train))\n",
    "        if bic[-1] < lowest_bic:\n",
    "            lowest_bic = bic[-1]\n",
    "            best_gmm = gmm\n",
    "\n",
    "bic = np.array(bic)\n",
    "color_iter = itertools.cycle(['navy', 'turquoise', 'cornflowerblue',\n",
    "                              'darkorange'])\n",
    "clf = best_gmm\n",
    "bars = []\n",
    "\n",
    "\n",
    "plt.figure(figsize=(8, 6))\n",
    "spl = plt.subplot(2, 1, 1)\n",
    "for i, (cv_type, color) in enumerate(zip(cv_types, color_iter)):\n",
    "    xpos = np.array(n_components_range) + .2 * (i - 2)\n",
    "    bars.append(plt.bar(xpos, bic[i * len(n_components_range):\n",
    "                                  (i + 1) * len(n_components_range)],\n",
    "                        width=.2, color=color))\n",
    "plt.xticks(n_components_range)\n",
    "plt.ylim([bic.min() * 1.01 - .01 * bic.max(), bic.max()])\n",
    "plt.title('BIC score per model')\n",
    "xpos = np.mod(bic.argmin(), len(n_components_range)) + .65 +\\\n",
    "    .2 * np.floor(bic.argmin() / len(n_components_range))\n",
    "plt.text(xpos, bic.min() * 0.97 + .03 * bic.max(), '*', fontsize=14)\n",
    "spl.set_xlabel('Number of components')\n",
    "spl.legend([b[0] for b in bars], cv_types)\n"
   ]
  },
  {
   "cell_type": "markdown",
   "metadata": {},
   "source": [
    "Z wykresu można odczytać, że najlepszy jest model z ilością komponentów równą 2 i typem kowariancji diag."
   ]
  },
  {
   "cell_type": "code",
   "execution_count": 12,
   "metadata": {},
   "outputs": [
    {
     "data": {
      "text/plain": [
       "array([-17.28386418, -15.77838756, -15.80011099, -18.20926101,\n",
       "       -15.14052141, -16.27925238, -24.85266747, -27.98406842,\n",
       "       -15.966761  , -12.51657933, -19.35969301, -19.04924274,\n",
       "       -23.3867766 , -18.58719057, -17.34363893, -16.58779196,\n",
       "       -17.38146806, -16.3353046 , -16.28745503, -14.75363942,\n",
       "       -23.08445191, -23.05957232, -18.31496394, -18.98445632,\n",
       "       -18.2974435 , -18.72326871, -16.89698446, -21.37897237,\n",
       "       -15.47543726, -20.06304607, -28.22360091, -14.65850349,\n",
       "       -14.91153287, -18.43907902, -20.74093344, -15.27990983,\n",
       "       -17.83132971, -17.64293491, -22.71534418, -21.12656501,\n",
       "       -13.20800042, -17.39973134, -15.96876838, -16.09863117,\n",
       "       -16.16021505, -17.88211892, -33.03050697, -20.68143313,\n",
       "       -41.49236441, -20.28779427, -23.87215167, -18.81558373,\n",
       "       -15.23012463, -24.49332534, -16.10367437, -16.80135018,\n",
       "       -16.7933464 , -20.64234364, -21.74502201, -20.26790499,\n",
       "       -16.79798964, -21.0516536 , -15.68985965, -18.4738011 ,\n",
       "       -20.50157834, -14.99671978, -15.33103912, -28.95246362,\n",
       "       -17.47588781, -18.02789247, -16.23124196, -17.67246996,\n",
       "       -17.0445311 , -16.92662914, -18.53726253, -16.32150556,\n",
       "       -18.24075455, -16.18301648, -16.89476996, -15.35416137,\n",
       "       -33.66141454, -17.99919563, -23.54894518, -16.19747672,\n",
       "       -16.33492076, -20.03957668, -16.41873682, -15.62107488,\n",
       "       -15.55641508, -16.3747571 , -18.4466257 , -19.11263617,\n",
       "       -16.76081379, -15.48593394, -18.42873951])"
      ]
     },
     "execution_count": 12,
     "metadata": {},
     "output_type": "execute_result"
    }
   ],
   "source": [
    "from sklearn.mixture import GaussianMixture\n",
    "gm = GaussianMixture(n_components = 2, covariance_type = 'diag', random_state=0 )\n",
    "gm.fit(train)\n",
    "gm.score_samples(train)"
   ]
  },
  {
   "cell_type": "markdown",
   "metadata": {},
   "source": [
    "Score samples wskazuje na ważone prawdopodobieństwa logarytmiczne dla każdej próbki."
   ]
  },
  {
   "cell_type": "code",
   "execution_count": 13,
   "metadata": {},
   "outputs": [
    {
     "data": {
      "text/plain": [
       "-41.49236441118691"
      ]
     },
     "execution_count": 13,
     "metadata": {},
     "output_type": "execute_result"
    }
   ],
   "source": [
    "min(gm.score_samples(train))"
   ]
  },
  {
   "cell_type": "markdown",
   "metadata": {},
   "source": [
    "Sprawdzę jak obrazowo możemy zobaczyć rozkład próbki treningowej z podziałem na klastry wyliczonym przez nmodel."
   ]
  },
  {
   "cell_type": "code",
   "execution_count": 14,
   "metadata": {},
   "outputs": [
    {
     "data": {
      "image/png": "[encoded data removed]",
      "text/plain": [
       "<Figure size 576x576 with 1 Axes>"
      ]
     },
     "metadata": {
      "needs_background": "light"
     },
     "output_type": "display_data"
    }
   ],
   "source": [
    "scatter(train_proj,gm.predict(train))\n",
    "plt.show()"
   ]
  },
  {
   "cell_type": "markdown",
   "metadata": {},
   "source": [
    "Dodatkowo możemy zilustrować jak wygląda prawdopodobieństwo dopasowania obserwacji do poszczególnych klastrów. NA pierwszym wykresie pokazane jest prawdopodbieństwo dopasowania do pierwszego klastra, a na drugim do drugiego."
   ]
  },
  {
   "cell_type": "code",
   "execution_count": 15,
   "metadata": {},
   "outputs": [
    {
     "data": {
      "image/png": "[encoded data removed]",
      "text/plain": [
       "<Figure size 720x720 with 3 Axes>"
      ]
     },
     "metadata": {
      "needs_background": "light"
     },
     "output_type": "display_data"
    }
   ],
   "source": [
    "plt.figure(figsize=(10,10))\n",
    "for i in range(2):\n",
    "    plt.subplot(2,2,i+1)\n",
    "    plt.scatter(train_proj[:,0],train_proj[:,1],c=gm.predict_proba(train)[:,i],cmap='viridis',marker='x')\n",
    "plt.colorbar();\n",
    "plt.title('Prawdopodobieństwo dopasowania do klastrów')\n",
    "plt.show()"
   ]
  },
  {
   "cell_type": "markdown",
   "metadata": {},
   "source": [
    "Z wykresów można wyczytać, że obserwacje pewne dopasowania do klastra są zaznaczone na żółto, a skrajnie nie pasujące na fioletowo. Jest jednak obserwacja (na pierwszym wykresie w punkcie (2.5, -6)), która nie jest tak bardzo pewna. Wiemy jednak, że w zbiorze treningowym nie ma wartości odstających."
   ]
  },
  {
   "cell_type": "markdown",
   "metadata": {},
   "source": [
    "Następnie przejdziemy do predykcji obserwacji ze zbioru walidacyjnego, który składa się już też z obserwacji odstających."
   ]
  },
  {
   "cell_type": "code",
   "execution_count": 16,
   "metadata": {},
   "outputs": [
    {
     "name": "stdout",
     "output_type": "stream",
     "text": [
      "[t-SNE] Computing 16 nearest neighbors...\n",
      "[t-SNE] Indexed 17 samples in 0.000s...\n",
      "[t-SNE] Computed neighbors for 17 samples in 0.000s...\n",
      "[t-SNE] Computed conditional probabilities for sample 17 / 17\n",
      "[t-SNE] Mean sigma: 1125899906842624.000000\n",
      "[t-SNE] KL divergence after 250 iterations with early exaggeration: 54.865135\n",
      "[t-SNE] KL divergence after 1000 iterations: 0.371654\n"
     ]
    }
   ],
   "source": [
    "random_state = 2\n",
    "tSNE = TSNE(random_state=random_state, verbose=1)\n",
    "val_proj = tSNE.fit_transform(val)"
   ]
  },
  {
   "cell_type": "code",
   "execution_count": 17,
   "metadata": {},
   "outputs": [],
   "source": [
    "y_val = gm.predict(val)"
   ]
  },
  {
   "cell_type": "code",
   "execution_count": 18,
   "metadata": {},
   "outputs": [
    {
     "data": {
      "image/png": "[encoded data removed]",
      "text/plain": [
       "<Figure size 576x576 with 1 Axes>"
      ]
     },
     "metadata": {
      "needs_background": "light"
     },
     "output_type": "display_data"
    }
   ],
   "source": [
    "scatter(val_proj, y_val)\n",
    "plt.show()"
   ]
  },
  {
   "cell_type": "code",
   "execution_count": 19,
   "metadata": {},
   "outputs": [
    {
     "data": {
      "text/plain": [
       "array([-24.36690887, -12.55353728, -13.85071709, -22.36327348,\n",
       "       -22.61928824, -13.95117666, -18.83698115, -38.69725052,\n",
       "       -25.49426696, -15.63739858, -30.15376166, -18.75991923,\n",
       "       -27.98457997, -23.40244583, -20.26662346, -20.54408719,\n",
       "       -47.99492275])"
      ]
     },
     "execution_count": 19,
     "metadata": {},
     "output_type": "execute_result"
    }
   ],
   "source": [
    "gm.score_samples(val)"
   ]
  },
  {
   "cell_type": "code",
   "execution_count": 20,
   "metadata": {},
   "outputs": [
    {
     "data": {
      "image/png": "[encoded data removed]",
      "text/plain": [
       "<Figure size 720x720 with 3 Axes>"
      ]
     },
     "metadata": {
      "needs_background": "light"
     },
     "output_type": "display_data"
    }
   ],
   "source": [
    "plt.figure(figsize=(10,10))\n",
    "for i in range(2):\n",
    "    plt.subplot(3,2,i+1)\n",
    "    plt.scatter(val_proj[:,0],val_proj[:,1],c=gm.predict_proba(val)[:,i],cmap='viridis',marker='x')\n",
    "plt.colorbar()\n",
    "plt.title(\"Dopasowanie do klastrów - zbiór walidacyjny\")\n",
    "plt.show()"
   ]
  },
  {
   "cell_type": "markdown",
   "metadata": {},
   "source": [
    "### Wybór treshholdu\n",
    "\n",
    "Wybór tresholdu czyli punktu odcięcia, który odróżnia obserwacje odstające od zbioru. Wybieram treshold = 35, ponieważ większość obserwacji z zbioru treningowego znajduję się poniżej tej wartości."
   ]
  },
  {
   "cell_type": "markdown",
   "metadata": {},
   "source": [
    "### Testowanie"
   ]
  },
  {
   "cell_type": "code",
   "execution_count": 21,
   "metadata": {},
   "outputs": [],
   "source": [
    "test_y = test['class']\n",
    "test_x = test.drop(columns=['class'])\n",
    "scores = gm.score_samples(test_x)"
   ]
  },
  {
   "cell_type": "markdown",
   "metadata": {},
   "source": [
    "Zobaczmy jak prezentują się wybrane przez model wartości odstające."
   ]
  },
  {
   "cell_type": "code",
   "execution_count": 22,
   "metadata": {},
   "outputs": [
    {
     "data": {
      "text/html": [
       "<div>\n",
       "<style scoped>\n",
       "    .dataframe tbody tr th:only-of-type {\n",
       "        vertical-align: middle;\n",
       "    }\n",
       "\n",
       "    .dataframe tbody tr th {\n",
       "        vertical-align: top;\n",
       "    }\n",
       "\n",
       "    .dataframe thead th {\n",
       "        text-align: right;\n",
       "    }\n",
       "</style>\n",
       "<table border=\"1\" class=\"dataframe\">\n",
       "  <thead>\n",
       "    <tr style=\"text-align: right;\">\n",
       "      <th></th>\n",
       "      <th>class</th>\n",
       "      <th>Alcohol</th>\n",
       "      <th>Malic acid</th>\n",
       "      <th>Ash</th>\n",
       "      <th>Alcalinity of ash</th>\n",
       "      <th>Magnesium</th>\n",
       "      <th>Total phenols</th>\n",
       "      <th>Flavanoids</th>\n",
       "      <th>Nonflavanoid phenols</th>\n",
       "      <th>Proanthocyanins</th>\n",
       "      <th>Color intensity</th>\n",
       "      <th>Hue</th>\n",
       "      <th>OD280/OD315 of diluted wines</th>\n",
       "      <th>Proline</th>\n",
       "    </tr>\n",
       "  </thead>\n",
       "  <tbody>\n",
       "    <tr>\n",
       "      <th>13</th>\n",
       "      <td>1</td>\n",
       "      <td>14.22</td>\n",
       "      <td>1.70</td>\n",
       "      <td>2.30</td>\n",
       "      <td>16.3</td>\n",
       "      <td>118</td>\n",
       "      <td>3.20</td>\n",
       "      <td>3.00</td>\n",
       "      <td>0.26</td>\n",
       "      <td>2.03</td>\n",
       "      <td>6.38</td>\n",
       "      <td>0.94</td>\n",
       "      <td>3.31</td>\n",
       "      <td>970</td>\n",
       "    </tr>\n",
       "    <tr>\n",
       "      <th>14</th>\n",
       "      <td>1</td>\n",
       "      <td>13.86</td>\n",
       "      <td>1.35</td>\n",
       "      <td>2.27</td>\n",
       "      <td>16.0</td>\n",
       "      <td>98</td>\n",
       "      <td>2.98</td>\n",
       "      <td>3.15</td>\n",
       "      <td>0.22</td>\n",
       "      <td>1.85</td>\n",
       "      <td>7.22</td>\n",
       "      <td>1.01</td>\n",
       "      <td>3.55</td>\n",
       "      <td>1045</td>\n",
       "    </tr>\n",
       "    <tr>\n",
       "      <th>15</th>\n",
       "      <td>1</td>\n",
       "      <td>14.75</td>\n",
       "      <td>1.73</td>\n",
       "      <td>2.39</td>\n",
       "      <td>11.4</td>\n",
       "      <td>91</td>\n",
       "      <td>3.10</td>\n",
       "      <td>3.69</td>\n",
       "      <td>0.43</td>\n",
       "      <td>2.81</td>\n",
       "      <td>5.40</td>\n",
       "      <td>1.25</td>\n",
       "      <td>2.73</td>\n",
       "      <td>1150</td>\n",
       "    </tr>\n",
       "    <tr>\n",
       "      <th>16</th>\n",
       "      <td>1</td>\n",
       "      <td>13.58</td>\n",
       "      <td>1.66</td>\n",
       "      <td>2.36</td>\n",
       "      <td>19.1</td>\n",
       "      <td>106</td>\n",
       "      <td>2.86</td>\n",
       "      <td>3.19</td>\n",
       "      <td>0.22</td>\n",
       "      <td>1.95</td>\n",
       "      <td>6.90</td>\n",
       "      <td>1.09</td>\n",
       "      <td>2.88</td>\n",
       "      <td>1515</td>\n",
       "    </tr>\n",
       "  </tbody>\n",
       "</table>\n",
       "</div>"
      ],
      "text/plain": [
       "    class  Alcohol  Malic acid   Ash  Alcalinity of ash  Magnesium  \\\n",
       "13      1    14.22        1.70  2.30               16.3        118   \n",
       "14      1    13.86        1.35  2.27               16.0         98   \n",
       "15      1    14.75        1.73  2.39               11.4         91   \n",
       "16      1    13.58        1.66  2.36               19.1        106   \n",
       "\n",
       "    Total phenols  Flavanoids  Nonflavanoid phenols  Proanthocyanins  \\\n",
       "13           3.20        3.00                  0.26             2.03   \n",
       "14           2.98        3.15                  0.22             1.85   \n",
       "15           3.10        3.69                  0.43             2.81   \n",
       "16           2.86        3.19                  0.22             1.95   \n",
       "\n",
       "    Color intensity   Hue  OD280/OD315 of diluted wines  Proline  \n",
       "13             6.38  0.94                          3.31      970  \n",
       "14             7.22  1.01                          3.55     1045  \n",
       "15             5.40  1.25                          2.73     1150  \n",
       "16             6.90  1.09                          2.88     1515  "
      ]
     },
     "execution_count": 22,
     "metadata": {},
     "output_type": "execute_result"
    }
   ],
   "source": [
    "outliers = test[gm.score_samples(test_x)<-35]\n",
    "outliers"
   ]
  },
  {
   "cell_type": "code",
   "execution_count": 23,
   "metadata": {},
   "outputs": [],
   "source": [
    "test['pred']=0"
   ]
  },
  {
   "cell_type": "markdown",
   "metadata": {},
   "source": [
    "### Ocena"
   ]
  },
  {
   "cell_type": "code",
   "execution_count": 24,
   "metadata": {},
   "outputs": [
    {
     "data": {
      "text/plain": [
       "array([[12,  0],\n",
       "       [ 1,  4]], dtype=int64)"
      ]
     },
     "execution_count": 24,
     "metadata": {},
     "output_type": "execute_result"
    }
   ],
   "source": [
    "from sklearn.metrics import confusion_matrix\n",
    "xx = gm.score_samples(test_x)\n",
    "for i in range(17):\n",
    "    if xx[i]<-35:\n",
    "        test['pred'].iloc[i]=1\n",
    "    else:\n",
    "        test['pred'].iloc[i]=0\n",
    "y_true = test['class']\n",
    "y_pred = test['pred']\n",
    "confusion_matrix(y_true,y_pred)\n"
   ]
  },
  {
   "cell_type": "markdown",
   "metadata": {},
   "source": [
    "Z macierzy pomyłek widać, że przy treshold równym -35 tylko jedna obserwacje została źle zakwalifikowana. Przy takiej wartości również większość z wartości ze zbioru treningowego, byłaby dobrze zakwalifikowana."
   ]
  },
  {
   "cell_type": "code",
   "execution_count": 25,
   "metadata": {},
   "outputs": [
    {
     "name": "stdout",
     "output_type": "stream",
     "text": [
      "F1 score:  0.888888888888889\n",
      "Precision:  1.0\n",
      "Recall:  0.8\n"
     ]
    }
   ],
   "source": [
    "from sklearn.metrics import f1_score\n",
    "from sklearn.metrics import precision_score\n",
    "from sklearn.metrics import recall_score\n",
    "print(\"F1 score: \",f1_score(test['class'], test['pred']))\n",
    "print(\"Precision: \",precision_score(test['class'], test['pred']))\n",
    "print(\"Recall: \",recall_score(test['class'], test['pred']))"
   ]
  },
  {
   "cell_type": "code",
   "execution_count": 26,
   "metadata": {},
   "outputs": [
    {
     "data": {
      "text/plain": [
       "array([[12,  0],\n",
       "       [ 3,  2]], dtype=int64)"
      ]
     },
     "execution_count": 26,
     "metadata": {},
     "output_type": "execute_result"
    }
   ],
   "source": [
    "xx = gm.score_samples(test_x)\n",
    "for i in range(17):\n",
    "    if xx[i]<-41.5:\n",
    "        test['pred'].iloc[i]=1\n",
    "    else:\n",
    "        test['pred'].iloc[i]=0\n",
    "y_true = test['class']\n",
    "y_pred = test['pred']\n",
    "confusion_matrix(y_true,y_pred)\n"
   ]
  },
  {
   "cell_type": "code",
   "execution_count": 27,
   "metadata": {},
   "outputs": [
    {
     "name": "stdout",
     "output_type": "stream",
     "text": [
      "F1 score:  0.5714285714285715\n",
      "Precision:  1.0\n",
      "Recall:  0.4\n"
     ]
    }
   ],
   "source": [
    "print(\"F1 score: \",f1_score(test['class'], test['pred']))\n",
    "print(\"Precision: \",precision_score(test['class'], test['pred']))\n",
    "print(\"Recall: \",recall_score(test['class'], test['pred']))"
   ]
  },
  {
   "cell_type": "markdown",
   "metadata": {},
   "source": [
    "Dla porównania, wybór tresholdu równego minimalnej wartości z zbioru treningowego, nie daje tak dobrych wyników."
   ]
  },
  {
   "cell_type": "markdown",
   "metadata": {},
   "source": [
    "Z tego porównania możemy zauważyć, że wybór dobrego punktu odcięcia jest kluczowy dla jakości detekcji wartości odstających. Miara precision w obu przypadkach jest równa 1 ponieważ jest liczona jako tp / (tp + fp) a tutaj w obu przypadkach fp jest równy 0( można zauważyć to w macierzy pomyłek)."
   ]
  }
 ],
 "metadata": {
  "kernelspec": {
   "display_name": "Python 3",
   "language": "python",
   "name": "python3"
  },
  "language_info": {
   "codemirror_mode": {
    "name": "ipython",
    "version": 3
   },
   "file_extension": ".py",
   "mimetype": "text/x-python",
   "name": "python",
   "nbconvert_exporter": "python",
   "pygments_lexer": "ipython3",
   "version": "3.7.3"
  }
 },
 "nbformat": 4,
 "nbformat_minor": 2
}
