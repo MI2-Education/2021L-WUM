{
 "cells": [
  {
   "cell_type": "markdown",
   "metadata": {},
   "source": [
    "# Pakiety"
   ]
  },
  {
   "cell_type": "code",
   "execution_count": 1,
   "metadata": {},
   "outputs": [],
   "source": [
    "import pandas as pd\n",
    "import numpy as np\n",
    "import sklearn \n",
    "from sklearn.datasets import load_boston\n",
    "import seaborn as sns\n",
    "import matplotlib.pyplot as plt\n",
    "import matplotlib\n",
    "import warnings\n",
    "warnings.filterwarnings('ignore')\n",
    "np.random.seed(23)"
   ]
  },
  {
   "cell_type": "code",
   "execution_count": 2,
   "metadata": {},
   "outputs": [],
   "source": [
    "COLOR = 'white'\n",
    "matplotlib.rcParams['text.color'] = COLOR\n",
    "matplotlib.rcParams['axes.labelcolor'] = COLOR\n",
    "matplotlib.rcParams['xtick.color'] = COLOR\n",
    "matplotlib.rcParams['ytick.color'] = COLOR\n",
    "matplotlib.rcParams['figure.figsize'] = (10, 6)\n",
    "matplotlib.rcParams['font.size'] = 14"
   ]
  },
  {
   "cell_type": "markdown",
   "metadata": {},
   "source": [
    "# Zbiór danych nt. butów męskich\n",
    "## naszym celem jest przewidzenie ceny - prices_amountmin"
   ]
  },
  {
   "cell_type": "code",
   "execution_count": 5,
   "metadata": {},
   "outputs": [
    {
     "data": {
      "text/html": [
       "<div>\n",
       "<style scoped>\n",
       "    .dataframe tbody tr th:only-of-type {\n",
       "        vertical-align: middle;\n",
       "    }\n",
       "\n",
       "    .dataframe tbody tr th {\n",
       "        vertical-align: top;\n",
       "    }\n",
       "\n",
       "    .dataframe thead th {\n",
       "        text-align: right;\n",
       "    }\n",
       "</style>\n",
       "<table border=\"1\" class=\"dataframe\">\n",
       "  <thead>\n",
       "    <tr style=\"text-align: right;\">\n",
       "      <th></th>\n",
       "      <th>id</th>\n",
       "      <th>asins</th>\n",
       "      <th>brand</th>\n",
       "      <th>categories</th>\n",
       "      <th>colors</th>\n",
       "      <th>count</th>\n",
       "      <th>dateadded</th>\n",
       "      <th>dateupdated</th>\n",
       "      <th>descriptions</th>\n",
       "      <th>dimension</th>\n",
       "      <th>...</th>\n",
       "      <th>prices_warranty</th>\n",
       "      <th>quantities</th>\n",
       "      <th>reviews</th>\n",
       "      <th>sizes</th>\n",
       "      <th>skus</th>\n",
       "      <th>sourceurls</th>\n",
       "      <th>upc</th>\n",
       "      <th>vin</th>\n",
       "      <th>websiteids</th>\n",
       "      <th>weight</th>\n",
       "    </tr>\n",
       "  </thead>\n",
       "  <tbody>\n",
       "    <tr>\n",
       "      <th>0</th>\n",
       "      <td>AVpfHrJ6ilAPnD_xVXOI</td>\n",
       "      <td>NaN</td>\n",
       "      <td>Josmo</td>\n",
       "      <td>Clothing,Shoes,Men's Shoes,All Men's Shoes</td>\n",
       "      <td>NaN</td>\n",
       "      <td>NaN</td>\n",
       "      <td>2016-11-07T00:45:12Z</td>\n",
       "      <td>2016-11-07T00:45:12Z</td>\n",
       "      <td>[{\"dateSeen\":[\"2016-11-07T00:45:12Z\"],\"sourceU...</td>\n",
       "      <td>NaN</td>\n",
       "      <td>...</td>\n",
       "      <td>NaN</td>\n",
       "      <td>NaN</td>\n",
       "      <td>NaN</td>\n",
       "      <td>NaN</td>\n",
       "      <td>NaN</td>\n",
       "      <td>https://www.walmart.com/ip/Josmo-8190-Plain-In...</td>\n",
       "      <td>6.993020e+11</td>\n",
       "      <td>NaN</td>\n",
       "      <td>NaN</td>\n",
       "      <td>NaN</td>\n",
       "    </tr>\n",
       "    <tr>\n",
       "      <th>1</th>\n",
       "      <td>AVpfHrJ6ilAPnD_xVXOI</td>\n",
       "      <td>NaN</td>\n",
       "      <td>Josmo</td>\n",
       "      <td>Clothing,Shoes,Men's Shoes,All Men's Shoes</td>\n",
       "      <td>NaN</td>\n",
       "      <td>NaN</td>\n",
       "      <td>2016-11-07T00:45:12Z</td>\n",
       "      <td>2016-11-07T00:45:12Z</td>\n",
       "      <td>[{\"dateSeen\":[\"2016-11-07T00:45:12Z\"],\"sourceU...</td>\n",
       "      <td>NaN</td>\n",
       "      <td>...</td>\n",
       "      <td>NaN</td>\n",
       "      <td>NaN</td>\n",
       "      <td>NaN</td>\n",
       "      <td>NaN</td>\n",
       "      <td>NaN</td>\n",
       "      <td>https://www.walmart.com/ip/Josmo-8190-Plain-In...</td>\n",
       "      <td>6.993020e+11</td>\n",
       "      <td>NaN</td>\n",
       "      <td>NaN</td>\n",
       "      <td>NaN</td>\n",
       "    </tr>\n",
       "    <tr>\n",
       "      <th>2</th>\n",
       "      <td>AVpfHsWP1cnluZ0-eVZ7</td>\n",
       "      <td>NaN</td>\n",
       "      <td>SERVUS BY HONEYWELL</td>\n",
       "      <td>All Men's Shoes,Shoes,Men's Shoes,Clothing</td>\n",
       "      <td>NaN</td>\n",
       "      <td>NaN</td>\n",
       "      <td>2016-06-14T04:29:57Z</td>\n",
       "      <td>2016-07-09T20:26:48Z</td>\n",
       "      <td>[{\"dateSeen\":[\"2016-07-09T20:26:48Z\"],\"sourceU...</td>\n",
       "      <td>NaN</td>\n",
       "      <td>...</td>\n",
       "      <td>NaN</td>\n",
       "      <td>NaN</td>\n",
       "      <td>NaN</td>\n",
       "      <td>NaN</td>\n",
       "      <td>NaN</td>\n",
       "      <td>http://www.walmart.com/ip/Studs-Shoe-Large-Pr-...</td>\n",
       "      <td>NaN</td>\n",
       "      <td>NaN</td>\n",
       "      <td>NaN</td>\n",
       "      <td>NaN</td>\n",
       "    </tr>\n",
       "    <tr>\n",
       "      <th>3</th>\n",
       "      <td>AVpfHsWP1cnluZ0-eVZ7</td>\n",
       "      <td>NaN</td>\n",
       "      <td>SERVUS BY HONEYWELL</td>\n",
       "      <td>All Men's Shoes,Shoes,Men's Shoes,Clothing</td>\n",
       "      <td>NaN</td>\n",
       "      <td>NaN</td>\n",
       "      <td>2016-06-14T04:29:57Z</td>\n",
       "      <td>2016-07-09T20:26:48Z</td>\n",
       "      <td>[{\"dateSeen\":[\"2016-07-09T20:26:48Z\"],\"sourceU...</td>\n",
       "      <td>NaN</td>\n",
       "      <td>...</td>\n",
       "      <td>NaN</td>\n",
       "      <td>NaN</td>\n",
       "      <td>NaN</td>\n",
       "      <td>NaN</td>\n",
       "      <td>NaN</td>\n",
       "      <td>http://www.walmart.com/ip/Studs-Shoe-Large-Pr-...</td>\n",
       "      <td>NaN</td>\n",
       "      <td>NaN</td>\n",
       "      <td>NaN</td>\n",
       "      <td>NaN</td>\n",
       "    </tr>\n",
       "    <tr>\n",
       "      <th>4</th>\n",
       "      <td>AVpfHsWP1cnluZ0-eVZ7</td>\n",
       "      <td>NaN</td>\n",
       "      <td>SERVUS BY HONEYWELL</td>\n",
       "      <td>All Men's Shoes,Shoes,Men's Shoes,Clothing</td>\n",
       "      <td>NaN</td>\n",
       "      <td>NaN</td>\n",
       "      <td>2016-06-14T04:29:57Z</td>\n",
       "      <td>2016-07-09T20:26:48Z</td>\n",
       "      <td>[{\"dateSeen\":[\"2016-07-09T20:26:48Z\"],\"sourceU...</td>\n",
       "      <td>NaN</td>\n",
       "      <td>...</td>\n",
       "      <td>NaN</td>\n",
       "      <td>NaN</td>\n",
       "      <td>NaN</td>\n",
       "      <td>NaN</td>\n",
       "      <td>NaN</td>\n",
       "      <td>http://www.walmart.com/ip/Studs-Shoe-Large-Pr-...</td>\n",
       "      <td>NaN</td>\n",
       "      <td>NaN</td>\n",
       "      <td>NaN</td>\n",
       "      <td>NaN</td>\n",
       "    </tr>\n",
       "  </tbody>\n",
       "</table>\n",
       "<p>5 rows × 48 columns</p>\n",
       "</div>"
      ],
      "text/plain": [
       "                     id asins                brand  \\\n",
       "0  AVpfHrJ6ilAPnD_xVXOI   NaN                Josmo   \n",
       "1  AVpfHrJ6ilAPnD_xVXOI   NaN                Josmo   \n",
       "2  AVpfHsWP1cnluZ0-eVZ7   NaN  SERVUS BY HONEYWELL   \n",
       "3  AVpfHsWP1cnluZ0-eVZ7   NaN  SERVUS BY HONEYWELL   \n",
       "4  AVpfHsWP1cnluZ0-eVZ7   NaN  SERVUS BY HONEYWELL   \n",
       "\n",
       "                                   categories colors  count  \\\n",
       "0  Clothing,Shoes,Men's Shoes,All Men's Shoes    NaN    NaN   \n",
       "1  Clothing,Shoes,Men's Shoes,All Men's Shoes    NaN    NaN   \n",
       "2  All Men's Shoes,Shoes,Men's Shoes,Clothing    NaN    NaN   \n",
       "3  All Men's Shoes,Shoes,Men's Shoes,Clothing    NaN    NaN   \n",
       "4  All Men's Shoes,Shoes,Men's Shoes,Clothing    NaN    NaN   \n",
       "\n",
       "              dateadded           dateupdated  \\\n",
       "0  2016-11-07T00:45:12Z  2016-11-07T00:45:12Z   \n",
       "1  2016-11-07T00:45:12Z  2016-11-07T00:45:12Z   \n",
       "2  2016-06-14T04:29:57Z  2016-07-09T20:26:48Z   \n",
       "3  2016-06-14T04:29:57Z  2016-07-09T20:26:48Z   \n",
       "4  2016-06-14T04:29:57Z  2016-07-09T20:26:48Z   \n",
       "\n",
       "                                        descriptions dimension  ...  \\\n",
       "0  [{\"dateSeen\":[\"2016-11-07T00:45:12Z\"],\"sourceU...       NaN  ...   \n",
       "1  [{\"dateSeen\":[\"2016-11-07T00:45:12Z\"],\"sourceU...       NaN  ...   \n",
       "2  [{\"dateSeen\":[\"2016-07-09T20:26:48Z\"],\"sourceU...       NaN  ...   \n",
       "3  [{\"dateSeen\":[\"2016-07-09T20:26:48Z\"],\"sourceU...       NaN  ...   \n",
       "4  [{\"dateSeen\":[\"2016-07-09T20:26:48Z\"],\"sourceU...       NaN  ...   \n",
       "\n",
       "   prices_warranty quantities  reviews sizes  skus  \\\n",
       "0              NaN        NaN      NaN   NaN   NaN   \n",
       "1              NaN        NaN      NaN   NaN   NaN   \n",
       "2              NaN        NaN      NaN   NaN   NaN   \n",
       "3              NaN        NaN      NaN   NaN   NaN   \n",
       "4              NaN        NaN      NaN   NaN   NaN   \n",
       "\n",
       "                                          sourceurls           upc vin  \\\n",
       "0  https://www.walmart.com/ip/Josmo-8190-Plain-In...  6.993020e+11 NaN   \n",
       "1  https://www.walmart.com/ip/Josmo-8190-Plain-In...  6.993020e+11 NaN   \n",
       "2  http://www.walmart.com/ip/Studs-Shoe-Large-Pr-...           NaN NaN   \n",
       "3  http://www.walmart.com/ip/Studs-Shoe-Large-Pr-...           NaN NaN   \n",
       "4  http://www.walmart.com/ip/Studs-Shoe-Large-Pr-...           NaN NaN   \n",
       "\n",
       "  websiteids weight  \n",
       "0        NaN    NaN  \n",
       "1        NaN    NaN  \n",
       "2        NaN    NaN  \n",
       "3        NaN    NaN  \n",
       "4        NaN    NaN  \n",
       "\n",
       "[5 rows x 48 columns]"
      ]
     },
     "execution_count": 5,
     "metadata": {},
     "output_type": "execute_result"
    }
   ],
   "source": [
    "# wczytujemy dane \n",
    "shoes_df = pd.read_csv('menshoes.csv')\n",
    "\n",
    "# w tym momencie następuje odruch bezwarunkowy\n",
    "shoes_df.head()\n",
    "\n",
    "# jakie wnioski?\n",
    "# @conclusions\n",
    "# dzikie id, dużo nanów,\n",
    "# nie widać wszystkich kolumn\n",
    "# trzeba wyczyścić"
   ]
  },
  {
   "cell_type": "code",
   "execution_count": 7,
   "metadata": {},
   "outputs": [
    {
     "name": "stdout",
     "output_type": "stream",
     "text": [
      "<class 'pandas.core.frame.DataFrame'>\n",
      "RangeIndex: 18280 entries, 0 to 18279\n",
      "Data columns (total 48 columns):\n",
      " #   Column               Non-Null Count  Dtype  \n",
      "---  ------               --------------  -----  \n",
      " 0   id                   18280 non-null  object \n",
      " 1   asins                2161 non-null   object \n",
      " 2   brand                18263 non-null  object \n",
      " 3   categories           18280 non-null  object \n",
      " 4   colors               10344 non-null  object \n",
      " 5   count                0 non-null      float64\n",
      " 6   dateadded            18280 non-null  object \n",
      " 7   dateupdated          18280 non-null  object \n",
      " 8   descriptions         9704 non-null   object \n",
      " 9   dimension            2968 non-null   object \n",
      " 10  ean                  9690 non-null   float64\n",
      " 11  features             13299 non-null  object \n",
      " 12  flavors              0 non-null      float64\n",
      " 13  imageurls            17255 non-null  object \n",
      " 14  isbn                 0 non-null      float64\n",
      " 15  keys                 18280 non-null  object \n",
      " 16  manufacturer         6296 non-null   object \n",
      " 17  manufacturernumber   14309 non-null  object \n",
      " 18  merchants            13018 non-null  object \n",
      " 19  name                 18280 non-null  object \n",
      " 20  prices_amountmin     18280 non-null  float64\n",
      " 21  prices_amountmax     18280 non-null  float64\n",
      " 22  prices_availability  114 non-null    object \n",
      " 23  prices_color         558 non-null    object \n",
      " 24  prices_condition     11675 non-null  object \n",
      " 25  prices_count         0 non-null      float64\n",
      " 26  prices_currency      18280 non-null  object \n",
      " 27  prices_dateadded     18280 non-null  object \n",
      " 28  prices_dateseen      18280 non-null  object \n",
      " 29  prices_flavor        1 non-null      object \n",
      " 30  prices_issale        18280 non-null  bool   \n",
      " 31  prices_merchant      13160 non-null  object \n",
      " 32  prices_offer         5874 non-null   object \n",
      " 33  prices_returnpolicy  798 non-null    object \n",
      " 34  prices_shipping      4906 non-null   object \n",
      " 35  prices_size          486 non-null    object \n",
      " 36  prices_source        0 non-null      float64\n",
      " 37  prices_sourceurls    18265 non-null  object \n",
      " 38  prices_warranty      42 non-null     object \n",
      " 39  quantities           0 non-null      float64\n",
      " 40  reviews              1592 non-null   object \n",
      " 41  sizes                5920 non-null   object \n",
      " 42  skus                 8120 non-null   object \n",
      " 43  sourceurls           18246 non-null  object \n",
      " 44  upc                  10488 non-null  float64\n",
      " 45  vin                  0 non-null      float64\n",
      " 46  websiteids           0 non-null      float64\n",
      " 47  weight               570 non-null    object \n",
      "dtypes: bool(1), float64(12), object(35)\n",
      "memory usage: 6.6+ MB\n"
     ]
    }
   ],
   "source": [
    "\n",
    "#  Korzystając z przyjaciół przyjrzyjmy się bliżej\n",
    "shoes_df.info()\n",
    "# @conclusions\n",
    "# wyrzucić kolumny - same null/nan\n",
    "# zasada kciuka > 70% nulli to wyrzacamy"
   ]
  },
  {
   "cell_type": "code",
   "execution_count": 9,
   "metadata": {},
   "outputs": [
    {
     "data": {
      "text/html": [
       "<div>\n",
       "<style scoped>\n",
       "    .dataframe tbody tr th:only-of-type {\n",
       "        vertical-align: middle;\n",
       "    }\n",
       "\n",
       "    .dataframe tbody tr th {\n",
       "        vertical-align: top;\n",
       "    }\n",
       "\n",
       "    .dataframe thead th {\n",
       "        text-align: right;\n",
       "    }\n",
       "</style>\n",
       "<table border=\"1\" class=\"dataframe\">\n",
       "  <thead>\n",
       "    <tr style=\"text-align: right;\">\n",
       "      <th></th>\n",
       "      <th>id</th>\n",
       "      <th>brand</th>\n",
       "      <th>categories</th>\n",
       "      <th>colors</th>\n",
       "      <th>dateadded</th>\n",
       "      <th>dateupdated</th>\n",
       "      <th>descriptions</th>\n",
       "      <th>ean</th>\n",
       "      <th>features</th>\n",
       "      <th>imageurls</th>\n",
       "      <th>...</th>\n",
       "      <th>prices_dateadded</th>\n",
       "      <th>prices_dateseen</th>\n",
       "      <th>prices_issale</th>\n",
       "      <th>prices_merchant</th>\n",
       "      <th>prices_offer</th>\n",
       "      <th>prices_sourceurls</th>\n",
       "      <th>sizes</th>\n",
       "      <th>skus</th>\n",
       "      <th>sourceurls</th>\n",
       "      <th>upc</th>\n",
       "    </tr>\n",
       "  </thead>\n",
       "  <tbody>\n",
       "    <tr>\n",
       "      <th>0</th>\n",
       "      <td>AVpfHrJ6ilAPnD_xVXOI</td>\n",
       "      <td>Josmo</td>\n",
       "      <td>Clothing,Shoes,Men's Shoes,All Men's Shoes</td>\n",
       "      <td>NaN</td>\n",
       "      <td>2016-11-07T00:45:12Z</td>\n",
       "      <td>2016-11-07T00:45:12Z</td>\n",
       "      <td>[{\"dateSeen\":[\"2016-11-07T00:45:12Z\"],\"sourceU...</td>\n",
       "      <td>6.993020e+11</td>\n",
       "      <td>[{\"key\":\"Gender\",\"value\":[\"Men\"]},{\"key\":\"Shoe...</td>\n",
       "      <td>https://i5.walmartimages.com/asr/13ac3d61-003c...</td>\n",
       "      <td>...</td>\n",
       "      <td>2016-11-07T00:45:12Z</td>\n",
       "      <td>2016-11-05T00:00:00Z</td>\n",
       "      <td>True</td>\n",
       "      <td>NaN</td>\n",
       "      <td>REDUCED USD 12.10</td>\n",
       "      <td>https://www.walmart.com/ip/Josmo-8190-Plain-In...</td>\n",
       "      <td>NaN</td>\n",
       "      <td>NaN</td>\n",
       "      <td>https://www.walmart.com/ip/Josmo-8190-Plain-In...</td>\n",
       "      <td>6.993020e+11</td>\n",
       "    </tr>\n",
       "    <tr>\n",
       "      <th>1</th>\n",
       "      <td>AVpfHrJ6ilAPnD_xVXOI</td>\n",
       "      <td>Josmo</td>\n",
       "      <td>Clothing,Shoes,Men's Shoes,All Men's Shoes</td>\n",
       "      <td>NaN</td>\n",
       "      <td>2016-11-07T00:45:12Z</td>\n",
       "      <td>2016-11-07T00:45:12Z</td>\n",
       "      <td>[{\"dateSeen\":[\"2016-11-07T00:45:12Z\"],\"sourceU...</td>\n",
       "      <td>6.993020e+11</td>\n",
       "      <td>[{\"key\":\"Gender\",\"value\":[\"Men\"]},{\"key\":\"Shoe...</td>\n",
       "      <td>https://i5.walmartimages.com/asr/13ac3d61-003c...</td>\n",
       "      <td>...</td>\n",
       "      <td>2016-11-07T00:45:12Z</td>\n",
       "      <td>2016-11-05T00:00:00Z</td>\n",
       "      <td>False</td>\n",
       "      <td>UnbeatableSale - Walmart.com</td>\n",
       "      <td>REDUCED USD 12.10</td>\n",
       "      <td>https://www.walmart.com/ip/Josmo-8190-Plain-In...</td>\n",
       "      <td>NaN</td>\n",
       "      <td>NaN</td>\n",
       "      <td>https://www.walmart.com/ip/Josmo-8190-Plain-In...</td>\n",
       "      <td>6.993020e+11</td>\n",
       "    </tr>\n",
       "    <tr>\n",
       "      <th>2</th>\n",
       "      <td>AVpfHsWP1cnluZ0-eVZ7</td>\n",
       "      <td>SERVUS BY HONEYWELL</td>\n",
       "      <td>All Men's Shoes,Shoes,Men's Shoes,Clothing</td>\n",
       "      <td>NaN</td>\n",
       "      <td>2016-06-14T04:29:57Z</td>\n",
       "      <td>2016-07-09T20:26:48Z</td>\n",
       "      <td>[{\"dateSeen\":[\"2016-07-09T20:26:48Z\"],\"sourceU...</td>\n",
       "      <td>NaN</td>\n",
       "      <td>[{\"key\":\"Gender\",\"value\":[\"Men\"]},{\"key\":\"Colo...</td>\n",
       "      <td>http://i5.walmartimages.com/dfw/dce07b8c-5844/...</td>\n",
       "      <td>...</td>\n",
       "      <td>2016-06-14T04:29:57Z</td>\n",
       "      <td>2016-03-08T00:00:00Z</td>\n",
       "      <td>False</td>\n",
       "      <td>SIM Supply Inc - Walmart.com</td>\n",
       "      <td>NaN</td>\n",
       "      <td>http://www.walmart.com/ip/Studs-Shoe-Large-Pr-...</td>\n",
       "      <td>NaN</td>\n",
       "      <td>NaN</td>\n",
       "      <td>http://www.walmart.com/ip/Studs-Shoe-Large-Pr-...</td>\n",
       "      <td>NaN</td>\n",
       "    </tr>\n",
       "    <tr>\n",
       "      <th>3</th>\n",
       "      <td>AVpfHsWP1cnluZ0-eVZ7</td>\n",
       "      <td>SERVUS BY HONEYWELL</td>\n",
       "      <td>All Men's Shoes,Shoes,Men's Shoes,Clothing</td>\n",
       "      <td>NaN</td>\n",
       "      <td>2016-06-14T04:29:57Z</td>\n",
       "      <td>2016-07-09T20:26:48Z</td>\n",
       "      <td>[{\"dateSeen\":[\"2016-07-09T20:26:48Z\"],\"sourceU...</td>\n",
       "      <td>NaN</td>\n",
       "      <td>[{\"key\":\"Gender\",\"value\":[\"Men\"]},{\"key\":\"Colo...</td>\n",
       "      <td>http://i5.walmartimages.com/dfw/dce07b8c-5844/...</td>\n",
       "      <td>...</td>\n",
       "      <td>2016-06-14T04:29:57Z</td>\n",
       "      <td>2015-11-30T00:00:00Z</td>\n",
       "      <td>False</td>\n",
       "      <td>SIM Supply Inc - Walmart.com</td>\n",
       "      <td>NaN</td>\n",
       "      <td>http://www.walmart.com/ip/Studs-Shoe-Large-Pr-...</td>\n",
       "      <td>NaN</td>\n",
       "      <td>NaN</td>\n",
       "      <td>http://www.walmart.com/ip/Studs-Shoe-Large-Pr-...</td>\n",
       "      <td>NaN</td>\n",
       "    </tr>\n",
       "    <tr>\n",
       "      <th>4</th>\n",
       "      <td>AVpfHsWP1cnluZ0-eVZ7</td>\n",
       "      <td>SERVUS BY HONEYWELL</td>\n",
       "      <td>All Men's Shoes,Shoes,Men's Shoes,Clothing</td>\n",
       "      <td>NaN</td>\n",
       "      <td>2016-06-14T04:29:57Z</td>\n",
       "      <td>2016-07-09T20:26:48Z</td>\n",
       "      <td>[{\"dateSeen\":[\"2016-07-09T20:26:48Z\"],\"sourceU...</td>\n",
       "      <td>NaN</td>\n",
       "      <td>[{\"key\":\"Gender\",\"value\":[\"Men\"]},{\"key\":\"Colo...</td>\n",
       "      <td>http://i5.walmartimages.com/dfw/dce07b8c-5844/...</td>\n",
       "      <td>...</td>\n",
       "      <td>2016-06-14T04:29:57Z</td>\n",
       "      <td>2016-04-29T00:00:00Z</td>\n",
       "      <td>False</td>\n",
       "      <td>SIM Supply Inc - Walmart.com</td>\n",
       "      <td>NaN</td>\n",
       "      <td>http://www.walmart.com/ip/Studs-Shoe-Large-Pr-...</td>\n",
       "      <td>NaN</td>\n",
       "      <td>NaN</td>\n",
       "      <td>http://www.walmart.com/ip/Studs-Shoe-Large-Pr-...</td>\n",
       "      <td>NaN</td>\n",
       "    </tr>\n",
       "  </tbody>\n",
       "</table>\n",
       "<p>5 rows × 29 columns</p>\n",
       "</div>"
      ],
      "text/plain": [
       "                     id                brand  \\\n",
       "0  AVpfHrJ6ilAPnD_xVXOI                Josmo   \n",
       "1  AVpfHrJ6ilAPnD_xVXOI                Josmo   \n",
       "2  AVpfHsWP1cnluZ0-eVZ7  SERVUS BY HONEYWELL   \n",
       "3  AVpfHsWP1cnluZ0-eVZ7  SERVUS BY HONEYWELL   \n",
       "4  AVpfHsWP1cnluZ0-eVZ7  SERVUS BY HONEYWELL   \n",
       "\n",
       "                                   categories colors             dateadded  \\\n",
       "0  Clothing,Shoes,Men's Shoes,All Men's Shoes    NaN  2016-11-07T00:45:12Z   \n",
       "1  Clothing,Shoes,Men's Shoes,All Men's Shoes    NaN  2016-11-07T00:45:12Z   \n",
       "2  All Men's Shoes,Shoes,Men's Shoes,Clothing    NaN  2016-06-14T04:29:57Z   \n",
       "3  All Men's Shoes,Shoes,Men's Shoes,Clothing    NaN  2016-06-14T04:29:57Z   \n",
       "4  All Men's Shoes,Shoes,Men's Shoes,Clothing    NaN  2016-06-14T04:29:57Z   \n",
       "\n",
       "            dateupdated                                       descriptions  \\\n",
       "0  2016-11-07T00:45:12Z  [{\"dateSeen\":[\"2016-11-07T00:45:12Z\"],\"sourceU...   \n",
       "1  2016-11-07T00:45:12Z  [{\"dateSeen\":[\"2016-11-07T00:45:12Z\"],\"sourceU...   \n",
       "2  2016-07-09T20:26:48Z  [{\"dateSeen\":[\"2016-07-09T20:26:48Z\"],\"sourceU...   \n",
       "3  2016-07-09T20:26:48Z  [{\"dateSeen\":[\"2016-07-09T20:26:48Z\"],\"sourceU...   \n",
       "4  2016-07-09T20:26:48Z  [{\"dateSeen\":[\"2016-07-09T20:26:48Z\"],\"sourceU...   \n",
       "\n",
       "            ean                                           features  \\\n",
       "0  6.993020e+11  [{\"key\":\"Gender\",\"value\":[\"Men\"]},{\"key\":\"Shoe...   \n",
       "1  6.993020e+11  [{\"key\":\"Gender\",\"value\":[\"Men\"]},{\"key\":\"Shoe...   \n",
       "2           NaN  [{\"key\":\"Gender\",\"value\":[\"Men\"]},{\"key\":\"Colo...   \n",
       "3           NaN  [{\"key\":\"Gender\",\"value\":[\"Men\"]},{\"key\":\"Colo...   \n",
       "4           NaN  [{\"key\":\"Gender\",\"value\":[\"Men\"]},{\"key\":\"Colo...   \n",
       "\n",
       "                                           imageurls  ...  \\\n",
       "0  https://i5.walmartimages.com/asr/13ac3d61-003c...  ...   \n",
       "1  https://i5.walmartimages.com/asr/13ac3d61-003c...  ...   \n",
       "2  http://i5.walmartimages.com/dfw/dce07b8c-5844/...  ...   \n",
       "3  http://i5.walmartimages.com/dfw/dce07b8c-5844/...  ...   \n",
       "4  http://i5.walmartimages.com/dfw/dce07b8c-5844/...  ...   \n",
       "\n",
       "       prices_dateadded       prices_dateseen prices_issale  \\\n",
       "0  2016-11-07T00:45:12Z  2016-11-05T00:00:00Z          True   \n",
       "1  2016-11-07T00:45:12Z  2016-11-05T00:00:00Z         False   \n",
       "2  2016-06-14T04:29:57Z  2016-03-08T00:00:00Z         False   \n",
       "3  2016-06-14T04:29:57Z  2015-11-30T00:00:00Z         False   \n",
       "4  2016-06-14T04:29:57Z  2016-04-29T00:00:00Z         False   \n",
       "\n",
       "                prices_merchant       prices_offer  \\\n",
       "0                           NaN  REDUCED USD 12.10   \n",
       "1  UnbeatableSale - Walmart.com  REDUCED USD 12.10   \n",
       "2  SIM Supply Inc - Walmart.com                NaN   \n",
       "3  SIM Supply Inc - Walmart.com                NaN   \n",
       "4  SIM Supply Inc - Walmart.com                NaN   \n",
       "\n",
       "                                   prices_sourceurls  sizes skus  \\\n",
       "0  https://www.walmart.com/ip/Josmo-8190-Plain-In...    NaN  NaN   \n",
       "1  https://www.walmart.com/ip/Josmo-8190-Plain-In...    NaN  NaN   \n",
       "2  http://www.walmart.com/ip/Studs-Shoe-Large-Pr-...    NaN  NaN   \n",
       "3  http://www.walmart.com/ip/Studs-Shoe-Large-Pr-...    NaN  NaN   \n",
       "4  http://www.walmart.com/ip/Studs-Shoe-Large-Pr-...    NaN  NaN   \n",
       "\n",
       "                                          sourceurls           upc  \n",
       "0  https://www.walmart.com/ip/Josmo-8190-Plain-In...  6.993020e+11  \n",
       "1  https://www.walmart.com/ip/Josmo-8190-Plain-In...  6.993020e+11  \n",
       "2  http://www.walmart.com/ip/Studs-Shoe-Large-Pr-...           NaN  \n",
       "3  http://www.walmart.com/ip/Studs-Shoe-Large-Pr-...           NaN  \n",
       "4  http://www.walmart.com/ip/Studs-Shoe-Large-Pr-...           NaN  \n",
       "\n",
       "[5 rows x 29 columns]"
      ]
     },
     "execution_count": 9,
     "metadata": {},
     "output_type": "execute_result"
    }
   ],
   "source": [
    "threshold = shoes_df.shape[0] * 0.7\n",
    "shoes_df_drop = shoes_df.loc[:, shoes_df.apply(lambda x: x.isna().sum(), axis=0) < threshold]\n",
    "shoes_df_drop.head(5)"
   ]
  },
  {
   "cell_type": "markdown",
   "metadata": {},
   "source": [
    "które kolumny jeszcze wydają się niepotrzebne?  \n",
    "które kolumny trzeba przekształcić?"
   ]
  },
  {
   "cell_type": "code",
   "execution_count": 10,
   "metadata": {},
   "outputs": [],
   "source": [
    "# @conclusions\n",
    "# np. ean, imageURLs; color może być przydatny (białe conversy są droższe zazwyczaj)\n",
    "\n",
    "# te, które nie są pojedynczą informacją - categories, description,..."
   ]
  },
  {
   "cell_type": "code",
   "execution_count": 12,
   "metadata": {},
   "outputs": [
    {
     "data": {
      "text/plain": [
       "Black                                                                            1364\n",
       "Brown                                                                             746\n",
       "Blue                                                                              421\n",
       "Multicolor                                                                        415\n",
       "White                                                                             252\n",
       "                                                                                 ... \n",
       "Tigerlily,BlackElectric Green,Bluebird,Black,Electric Green,BluebirdTigerlily       1\n",
       "Silver ,Antrct ,Black                                                               1\n",
       "Black,Khaki,Tan                                                                     1\n",
       "WhiteBlack-Varsity Red                                                              1\n",
       "SlateNavyWhite                                                                      1\n",
       "Name: colors, Length: 2080, dtype: int64"
      ]
     },
     "execution_count": 12,
     "metadata": {},
     "output_type": "execute_result"
    }
   ],
   "source": [
    "# popatrzmy na kolory butów\n",
    "shoes_df_drop['colors'].value_counts()\n",
    "\n",
    "# jakie jest ograniczenie metody .value_counts()?\n",
    "# @conclusion\n",
    "# duże dysproporcje w kolorach\n",
    "# dużo małych zbirów"
   ]
  },
  {
   "cell_type": "code",
   "execution_count": 13,
   "metadata": {},
   "outputs": [
    {
     "name": "stdout",
     "output_type": "stream",
     "text": [
      "<class 'pandas.core.frame.DataFrame'>\n",
      "RangeIndex: 18280 entries, 0 to 18279\n",
      "Data columns (total 1 columns):\n",
      " #   Column  Non-Null Count  Dtype \n",
      "---  ------  --------------  ----- \n",
      " 0   colors  10344 non-null  object\n",
      "dtypes: object(1)\n",
      "memory usage: 142.9+ KB\n"
     ]
    }
   ],
   "source": [
    "# wartości NA\n",
    "pd.DataFrame(shoes_df_drop['colors']).info()"
   ]
  },
  {
   "cell_type": "markdown",
   "metadata": {},
   "source": [
    "jest sporo braków  \n",
    "pomówimy jak z tym żyć za chwilę  \n",
    "najpierw wizualizacja  \n",
    "jakieś pomysły na wizualizację zmienna ciągła vs. kategoryczna?"
   ]
  },
  {
   "cell_type": "code",
   "execution_count": 14,
   "metadata": {
    "scrolled": true
   },
   "outputs": [
    {
     "data": {
      "image/png": "[encoded data removed]",
      "text/plain": [
       "<Figure size 720x432 with 1 Axes>"
      ]
     },
     "metadata": {
      "needs_background": "dark"
     },
     "output_type": "display_data"
    }
   ],
   "source": [
    "Black_Brown = shoes_df_drop.loc[shoes_df_drop['colors'].isin(['Black', 'Brown'])]\n",
    "violin_plot = sns.violinplot(Black_Brown['colors'], Black_Brown['prices_amountmin'])\n",
    "violin_plot.set_title('Rozkład ceny względem koloru butów')\n",
    "plt.show()"
   ]
  },
  {
   "cell_type": "code",
   "execution_count": 16,
   "metadata": {},
   "outputs": [
    {
     "data": {
      "image/png": "[encoded data removed]",
      "text/plain": [
       "<Figure size 720x432 with 1 Axes>"
      ]
     },
     "metadata": {
      "needs_background": "dark"
     },
     "output_type": "display_data"
    }
   ],
   "source": [
    "popular_colors=shoes_df_drop.loc[shoes_df_drop['colors'].isin(shoes_df_drop['colors'].value_counts().index[:5])]\n",
    "mean_price_popular_colors=popular_colors.groupby('colors')['prices_amountmin'].mean()\n",
    "mean_price_popular_colors.plot(kind='bar', title='Średnia cena')\n",
    "plt.show()"
   ]
  },
  {
   "cell_type": "markdown",
   "metadata": {},
   "source": [
    "# Imputacja zmiennych kategorycznych"
   ]
  },
  {
   "cell_type": "markdown",
   "metadata": {},
   "source": [
    "kolumna colors miała dużo nieuzupełnionych wartości  \n",
    "jak można je uzupełnić?"
   ]
  },
  {
   "cell_type": "code",
   "execution_count": 17,
   "metadata": {},
   "outputs": [
    {
     "data": {
      "text/plain": [
       "0        Missing_color\n",
       "1        Missing_color\n",
       "2        Missing_color\n",
       "3        Missing_color\n",
       "4        Missing_color\n",
       "             ...      \n",
       "18275            Black\n",
       "18276    Missing_color\n",
       "18277    Missing_color\n",
       "18278    Missing_color\n",
       "18279    Missing_color\n",
       "Name: colors, Length: 18280, dtype: object"
      ]
     },
     "execution_count": 17,
     "metadata": {},
     "output_type": "execute_result"
    }
   ],
   "source": [
    "# możnaby najczęściej występującym kolorem, ale czy to nie wprowadza fałszywej informacji?\n",
    "# lepsze podejście - nowa klasa 'Other'\n",
    "shoes_df_drop['colors'].fillna('Missing_color')  #działa"
   ]
  },
  {
   "cell_type": "code",
   "execution_count": null,
   "metadata": {},
   "outputs": [],
   "source": [
    "# czy można lepiej?\n",
    "# można!\n",
    "shoes_df_drop['missing' + 'colors'] = shoes_df_drop['colors'].isna()*1\n",
    "shoes_df_drop['colors'].fillna('Missing_color', inplace=True)\n",
    "\n",
    "# po co ta informacja, skoro w kolumnie już jest napisane, że to brakujący kolor?\n",
    "# @conclusion\n"
   ]
  },
  {
   "cell_type": "markdown",
   "metadata": {},
   "source": [
    "### Uwaga, to co jest wyżej to wcale nie jest prawda  \n",
    "### przekonamy się o tym przy one hot encoding"
   ]
  },
  {
   "cell_type": "markdown",
   "metadata": {},
   "source": [
    "# Imputacja zmiennych ciągłych"
   ]
  },
  {
   "cell_type": "code",
   "execution_count": 18,
   "metadata": {},
   "outputs": [
    {
     "data": {
      "text/html": [
       "<div>\n",
       "<style scoped>\n",
       "    .dataframe tbody tr th:only-of-type {\n",
       "        vertical-align: middle;\n",
       "    }\n",
       "\n",
       "    .dataframe tbody tr th {\n",
       "        vertical-align: top;\n",
       "    }\n",
       "\n",
       "    .dataframe thead th {\n",
       "        text-align: right;\n",
       "    }\n",
       "</style>\n",
       "<table border=\"1\" class=\"dataframe\">\n",
       "  <thead>\n",
       "    <tr style=\"text-align: right;\">\n",
       "      <th></th>\n",
       "      <th>num</th>\n",
       "      <th>cat</th>\n",
       "    </tr>\n",
       "  </thead>\n",
       "  <tbody>\n",
       "    <tr>\n",
       "      <th>0</th>\n",
       "      <td>4</td>\n",
       "      <td>None</td>\n",
       "    </tr>\n",
       "    <tr>\n",
       "      <th>1</th>\n",
       "      <td>None</td>\n",
       "      <td>Nike</td>\n",
       "    </tr>\n",
       "    <tr>\n",
       "      <th>2</th>\n",
       "      <td>3</td>\n",
       "      <td>None</td>\n",
       "    </tr>\n",
       "    <tr>\n",
       "      <th>3</th>\n",
       "      <td>4</td>\n",
       "      <td>None</td>\n",
       "    </tr>\n",
       "    <tr>\n",
       "      <th>4</th>\n",
       "      <td>None</td>\n",
       "      <td>None</td>\n",
       "    </tr>\n",
       "  </tbody>\n",
       "</table>\n",
       "</div>"
      ],
      "text/plain": [
       "    num   cat\n",
       "0     4  None\n",
       "1  None  Nike\n",
       "2     3  None\n",
       "3     4  None\n",
       "4  None  None"
      ]
     },
     "execution_count": 18,
     "metadata": {},
     "output_type": "execute_result"
    }
   ],
   "source": [
    "# w naszym zbiorze nie ma nic do imputacji ciągłej\n",
    "# zerknijmy na szutczny zbiór\n",
    "fake_data=pd.DataFrame({'num':np.random.choice([None, 3,4], 100), \n",
    "                        'cat': np.random.choice([None, 'Puma','Nike','Adidas'], 100, p=[0.92, 0.03, 0.03, 0.02])})\n",
    "fake_data.head()"
   ]
  },
  {
   "cell_type": "code",
   "execution_count": 19,
   "metadata": {},
   "outputs": [
    {
     "name": "stdout",
     "output_type": "stream",
     "text": [
      "<class 'pandas.core.frame.DataFrame'>\n",
      "RangeIndex: 100 entries, 0 to 99\n",
      "Data columns (total 2 columns):\n",
      " #   Column  Non-Null Count  Dtype  \n",
      "---  ------  --------------  -----  \n",
      " 0   num     100 non-null    float64\n",
      " 1   cat     7 non-null      object \n",
      "dtypes: float64(1), object(1)\n",
      "memory usage: 1.7+ KB\n"
     ]
    }
   ],
   "source": [
    "# średnia czy mediana?\n",
    "fake_data.num.fillna(fake_data.num.median(), inplace=True) #fake_data.num.mean()\n",
    "fake_data.info()"
   ]
  },
  {
   "cell_type": "markdown",
   "metadata": {},
   "source": [
    "# Outliery"
   ]
  },
  {
   "cell_type": "code",
   "execution_count": 20,
   "metadata": {},
   "outputs": [
    {
     "data": {
      "text/plain": [
       "(996, 1)"
      ]
     },
     "execution_count": 20,
     "metadata": {},
     "output_type": "execute_result"
    }
   ],
   "source": [
    "# dane jedynie z przedziału (średnia +- 3 sigma) - ma to sens gdy rozkład normalny\n",
    "data=pd.DataFrame({'num':np.random.normal(2,0.4,1000)})\n",
    "factor = 3\n",
    "upper_lim = data['num'].mean () + data['num'].std () * factor\n",
    "lower_lim = data['num'].mean () - data['num'].std () * factor\n",
    "\n",
    "data = data[(data['num'] < upper_lim) & (data['num'] > lower_lim)]\n",
    "data.shape"
   ]
  },
  {
   "cell_type": "code",
   "execution_count": 22,
   "metadata": {},
   "outputs": [
    {
     "name": "stdout",
     "output_type": "stream",
     "text": [
      "Wejściowy rozmiar:  506\n",
      "Wyjściowy rozmiar:  452\n",
      "Pozostało %:  0.89\n"
     ]
    }
   ],
   "source": [
    "# usuwanie na podstawie skrajnych percentyli\n",
    "# to już zadziała \"dobrze\" dla każdego rozkładu\n",
    "# załadujmy nasz ulubiony Boston\n",
    "boston_dict = load_boston()\n",
    "boston_df = pd.DataFrame(boston_dict['data'], columns=boston_dict['feature_names'])\n",
    "\n",
    "dis_data = boston_df['DIS']\n",
    "print('Wejściowy rozmiar: ', dis_data.shape[0])\n",
    "\n",
    "upper_lim = dis_data.quantile(.95)\n",
    "lower_lim = dis_data.quantile(.05)\n",
    "\n",
    "data_percentile = dis_data[(dis_data < upper_lim) & (dis_data > lower_lim)]\n",
    "print('Wyjściowy rozmiar: ', data_percentile.shape[0])\n",
    "print('Pozostało %: ', round(data_percentile.shape[0]/dis_data.shape[0], 2))\n",
    "\n",
    "# co tu jest nie halo?\n",
    "# @conclusion\n",
    "# nawet nie widzieliśmy tych danych"
   ]
  },
  {
   "cell_type": "code",
   "execution_count": 23,
   "metadata": {},
   "outputs": [
    {
     "data": {
      "image/png": "[encoded data removed]",
      "text/plain": [
       "<Figure size 720x432 with 1 Axes>"
      ]
     },
     "metadata": {
      "needs_background": "dark"
     },
     "output_type": "display_data"
    }
   ],
   "source": [
    "# to może boxplot?\n",
    "# faktycznie, dołu nie powinniśmy obcinać\n",
    "# ale na górze są outliery!\n",
    "plot_box = sns.boxplot(boston_df['DIS'])\n",
    "plot_box.set_title('Rozkład zmiennej DIS')\n",
    "plt.show()"
   ]
  },
  {
   "cell_type": "code",
   "execution_count": 24,
   "metadata": {},
   "outputs": [
    {
     "data": {
      "image/png": "[encoded data removed]",
      "text/plain": [
       "<Figure size 720x432 with 1 Axes>"
      ]
     },
     "metadata": {
      "needs_background": "dark"
     },
     "output_type": "display_data"
    }
   ],
   "source": [
    "# nope\n",
    "# ten rozkład taki jest, nie można go za to winić\n",
    "# tu nie ma outlierów\n",
    "plot_dens=sns.histplot(boston_df['DIS'])\n",
    "plot_dens.set_title('Rozkład zmiennej DIS')\n",
    "plt.show()"
   ]
  },
  {
   "cell_type": "markdown",
   "metadata": {},
   "source": [
    "#  Grouping & Binning\n",
    "### Agregujemy klasy do wyższego poziomu lub tniemy zmienną ciągłą na klasy"
   ]
  },
  {
   "cell_type": "markdown",
   "metadata": {},
   "source": [
    "czasami potrzebujemy zrobić ze zmiennej ciągłej kategoryczną  \n",
    "albo mamy zmienną kategoryczną o bardzo dużej liczbie klas  \n",
    "albo dużo klas mało licznych"
   ]
  },
  {
   "cell_type": "code",
   "execution_count": 26,
   "metadata": {},
   "outputs": [
    {
     "data": {
      "text/plain": [
       "Nike                       1709\n",
       "PUMA                        574\n",
       "Ralph Lauren                524\n",
       "New Balance                 361\n",
       "VANS                        356\n",
       "                           ... \n",
       "DeMarini                      1\n",
       "Polo Sport Ralph Lauren       1\n",
       "Christian Lacroix             1\n",
       "FXR                           1\n",
       "Bills Khakis                  1\n",
       "Name: brand, Length: 1856, dtype: int64"
      ]
     },
     "execution_count": 26,
     "metadata": {},
     "output_type": "execute_result"
    }
   ],
   "source": [
    "# zobaczmy jak wygląda kolumna brand \n",
    "shoes_df_drop['brand'].value_counts()\n",
    "# co można z tym zrobić?\n",
    "# @conclusions\n",
    "# grupowanie wygląda kusząco"
   ]
  },
  {
   "cell_type": "code",
   "execution_count": 28,
   "metadata": {},
   "outputs": [
    {
     "data": {
      "text/plain": [
       "559"
      ]
     },
     "execution_count": 28,
     "metadata": {},
     "output_type": "execute_result"
    }
   ],
   "source": [
    "# jest aż 560 marek, które występują raz\n",
    "shoes_df_drop['brand'].value_counts()[shoes_df_drop['brand'].value_counts() == 1].shape[0]\n",
    "\n",
    "# czyli grupujemy w kategorię Other?\n",
    "# @conclusion\n",
    "# nie tak szybko"
   ]
  },
  {
   "cell_type": "code",
   "execution_count": 29,
   "metadata": {},
   "outputs": [
    {
     "data": {
      "text/html": [
       "<div>\n",
       "<style scoped>\n",
       "    .dataframe tbody tr th:only-of-type {\n",
       "        vertical-align: middle;\n",
       "    }\n",
       "\n",
       "    .dataframe tbody tr th {\n",
       "        vertical-align: top;\n",
       "    }\n",
       "\n",
       "    .dataframe thead th {\n",
       "        text-align: right;\n",
       "    }\n",
       "</style>\n",
       "<table border=\"1\" class=\"dataframe\">\n",
       "  <thead>\n",
       "    <tr style=\"text-align: right;\">\n",
       "      <th></th>\n",
       "      <th>brand</th>\n",
       "      <th>count</th>\n",
       "    </tr>\n",
       "  </thead>\n",
       "  <tbody>\n",
       "    <tr>\n",
       "      <th>0</th>\n",
       "      <td>Nike</td>\n",
       "      <td>1709</td>\n",
       "    </tr>\n",
       "    <tr>\n",
       "      <th>42</th>\n",
       "      <td>NIKE</td>\n",
       "      <td>59</td>\n",
       "    </tr>\n",
       "    <tr>\n",
       "      <th>371</th>\n",
       "      <td>nike</td>\n",
       "      <td>9</td>\n",
       "    </tr>\n",
       "    <tr>\n",
       "      <th>472</th>\n",
       "      <td>Nike Golf</td>\n",
       "      <td>6</td>\n",
       "    </tr>\n",
       "    <tr>\n",
       "      <th>920</th>\n",
       "      <td>Nike Jordan Future Low</td>\n",
       "      <td>2</td>\n",
       "    </tr>\n",
       "    <tr>\n",
       "      <th>1627</th>\n",
       "      <td>Nike Air Jordan</td>\n",
       "      <td>1</td>\n",
       "    </tr>\n",
       "    <tr>\n",
       "      <th>1628</th>\n",
       "      <td>Nike Lunarglide 7</td>\n",
       "      <td>1</td>\n",
       "    </tr>\n",
       "    <tr>\n",
       "      <th>1629</th>\n",
       "      <td>Nike SB</td>\n",
       "      <td>1</td>\n",
       "    </tr>\n",
       "    <tr>\n",
       "      <th>1647</th>\n",
       "      <td>NIKE - Kobe</td>\n",
       "      <td>1</td>\n",
       "    </tr>\n",
       "    <tr>\n",
       "      <th>1648</th>\n",
       "      <td>NIKE AIR JORDAN</td>\n",
       "      <td>1</td>\n",
       "    </tr>\n",
       "    <tr>\n",
       "      <th>1649</th>\n",
       "      <td>NIKE AIR JORDAN I</td>\n",
       "      <td>1</td>\n",
       "    </tr>\n",
       "    <tr>\n",
       "      <th>1650</th>\n",
       "      <td>NIKE Air Jordan</td>\n",
       "      <td>1</td>\n",
       "    </tr>\n",
       "  </tbody>\n",
       "</table>\n",
       "</div>"
      ],
      "text/plain": [
       "                       brand  count\n",
       "0                       Nike   1709\n",
       "42                      NIKE     59\n",
       "371                     nike      9\n",
       "472                Nike Golf      6\n",
       "920   Nike Jordan Future Low      2\n",
       "1627         Nike Air Jordan      1\n",
       "1628       Nike Lunarglide 7      1\n",
       "1629                 Nike SB      1\n",
       "1647             NIKE - Kobe      1\n",
       "1648         NIKE AIR JORDAN      1\n",
       "1649       NIKE AIR JORDAN I      1\n",
       "1650         NIKE Air Jordan      1"
      ]
     },
     "execution_count": 29,
     "metadata": {},
     "output_type": "execute_result"
    }
   ],
   "source": [
    "# przyjrzyjmy się bliżej\n",
    "brands = shoes_df_drop[['brand']].groupby(['brand']).size().sort_values(ascending=False).reset_index()\n",
    "brands.columns = ['brand', 'count']\n",
    "brands.loc[brands['brand'].apply(lambda x:'nike' in x.lower())]"
   ]
  },
  {
   "cell_type": "markdown",
   "metadata": {},
   "source": [
    "może warto najpierw zgrupować Najacze a potem dopiero Others?  \n",
    "Nike i NIKE to na pewno to samo, ale może NIKE - Kobe to dość niszowe obuwie i warto, żeby było Others?  \n",
    "to samodzielna decyzja"
   ]
  },
  {
   "cell_type": "code",
   "execution_count": 30,
   "metadata": {},
   "outputs": [
    {
     "data": {
      "text/plain": [
       "nike                 1792\n",
       "PUMA                  574\n",
       "Other                 552\n",
       "Ralph Lauren          524\n",
       "New Balance           361\n",
       "                     ... \n",
       "Rainbow Sandals         2\n",
       "Victory Tailgate        2\n",
       "Lexmark                 2\n",
       "NEFF                    2\n",
       "Roadmate Boot Co.       2\n",
       "Name: brands_processed, Length: 1294, dtype: int64"
      ]
     },
     "execution_count": 30,
     "metadata": {},
     "output_type": "execute_result"
    }
   ],
   "source": [
    "nike_synonyms = brands.loc[brands['brand'].apply(lambda x:'nike' in x.lower()), 'brand'].values\n",
    "\n",
    "small_classes = shoes_df_drop['brand'].value_counts()[shoes_df_drop['brand'].value_counts() == 1].index\n",
    "\n",
    "shoes_df_drop['brands' + '_processed'] = np.where(shoes_df_drop['brand'].isin(nike_synonyms), 'nike', \n",
    "                                              np.where(shoes_df_drop['brand'].isin(small_classes), 'Other', shoes_df_drop['brand']))\n",
    "\n",
    "shoes_df_drop['brands' + '_processed'].value_counts()"
   ]
  },
  {
   "cell_type": "markdown",
   "metadata": {},
   "source": [
    "ten proces można iterować"
   ]
  },
  {
   "cell_type": "code",
   "execution_count": 31,
   "metadata": {},
   "outputs": [
    {
     "data": {
      "text/plain": [
       "0      Chile\n",
       "1      Chile\n",
       "2     France\n",
       "3     Poland\n",
       "4      Spain\n",
       "       ...  \n",
       "95    France\n",
       "96    Poland\n",
       "97     Chile\n",
       "98     Chile\n",
       "99     Chile\n",
       "Length: 100, dtype: object"
      ]
     },
     "execution_count": 31,
     "metadata": {},
     "output_type": "execute_result"
    }
   ],
   "source": [
    "# można to zrobić też przy pomocy słownika\n",
    "geo=np.random.choice((\"Poland\",'Chile', 'France', 'Spain'), 100)\n",
    "geo=pd.Series(geo)\n",
    "geo"
   ]
  },
  {
   "cell_type": "code",
   "execution_count": 32,
   "metadata": {},
   "outputs": [
    {
     "data": {
      "text/plain": [
       "0     South America\n",
       "1     South America\n",
       "2            Europe\n",
       "3            Europe\n",
       "4               NaN\n",
       "          ...      \n",
       "95           Europe\n",
       "96           Europe\n",
       "97    South America\n",
       "98    South America\n",
       "99    South America\n",
       "Length: 100, dtype: object"
      ]
     },
     "execution_count": 32,
     "metadata": {},
     "output_type": "execute_result"
    }
   ],
   "source": [
    "dict_geo={'Poland': \"Europe\", \"Chile\":\"South America\", \"France\":\"Europe\"}\n",
    "from collections import defaultdict\n",
    "countries_list = [('Poland','Europe'), ('France','Europe'), ('Chile','South America')]\n",
    "geo.map(dict_geo)"
   ]
  },
  {
   "cell_type": "code",
   "execution_count": 33,
   "metadata": {},
   "outputs": [
    {
     "data": {
      "text/plain": [
       "0     South America\n",
       "1     South America\n",
       "2            Europe\n",
       "3            Europe\n",
       "4             Other\n",
       "          ...      \n",
       "95           Europe\n",
       "96           Europe\n",
       "97    South America\n",
       "98    South America\n",
       "99    South America\n",
       "Length: 100, dtype: object"
      ]
     },
     "execution_count": 33,
     "metadata": {},
     "output_type": "execute_result"
    }
   ],
   "source": [
    "# metoda z użyciem dict/defaultdict\n",
    "countries_dict = defaultdict(lambda:'Other')\n",
    "for continent, country in countries_list:\n",
    "     countries_dict[continent]=country\n",
    "geo.map(countries_dict)"
   ]
  },
  {
   "cell_type": "code",
   "execution_count": 34,
   "metadata": {},
   "outputs": [
    {
     "data": {
      "image/png": "[encoded data removed]",
      "text/plain": [
       "<Figure size 720x432 with 1 Axes>"
      ]
     },
     "metadata": {
      "needs_background": "dark"
     },
     "output_type": "display_data"
    }
   ],
   "source": [
    "# naszym celem było przewidywanie cen butów\n",
    "# ale może wystarczy jeśli przewidzimy to bardziej z grubsza? Tanie, średnie, drogie\n",
    "prices_hist = sns.histplot(shoes_df_drop['prices_amountmin'])\n",
    "prices_hist.set_title('Rozkład cen butów')\n",
    "plt.show()"
   ]
  },
  {
   "cell_type": "code",
   "execution_count": 37,
   "metadata": {},
   "outputs": [
    {
     "data": {
      "text/plain": [
       "18        expensive\n",
       "19       affordable\n",
       "20       affordable\n",
       "21            cheap\n",
       "22            cheap\n",
       "            ...    \n",
       "18275         cheap\n",
       "18276         cheap\n",
       "18277         cheap\n",
       "18278         cheap\n",
       "18279         cheap\n",
       "Name: prices_amountmin, Length: 18262, dtype: category\n",
       "Categories (3, object): ['cheap' < 'affordable' < 'expensive']"
      ]
     },
     "execution_count": 37,
     "metadata": {},
     "output_type": "execute_result"
    }
   ],
   "source": [
    "cutted = pd.cut(shoes_df_drop['prices_amountmin'], bins=[0, 100, 200, np.inf], labels=['cheap', 'affordable', 'expensive'])\n",
    "cutted[18:]"
   ]
  },
  {
   "cell_type": "code",
   "execution_count": 38,
   "metadata": {},
   "outputs": [
    {
     "data": {
      "text/plain": [
       "4176     NaN\n",
       "17862    NaN\n",
       "18137    NaN\n",
       "Name: prices_amountmin, dtype: category\n",
       "Categories (3, object): ['cheap' < 'affordable' < 'expensive']"
      ]
     },
     "execution_count": 38,
     "metadata": {},
     "output_type": "execute_result"
    }
   ],
   "source": [
    "# zawsze warto sprawdzić\n",
    "cutted[cutted.isna()]"
   ]
  },
  {
   "cell_type": "code",
   "execution_count": 39,
   "metadata": {},
   "outputs": [
    {
     "data": {
      "text/plain": [
       "0.0"
      ]
     },
     "execution_count": 39,
     "metadata": {},
     "output_type": "execute_result"
    }
   ],
   "source": [
    "# i spróbować zrozumieć dlaczego\n",
    "shoes_df_drop.loc[4176, 'prices_amountmin']"
   ]
  },
  {
   "cell_type": "markdown",
   "metadata": {},
   "source": [
    "# Dla przypomnienia - Log Transform"
   ]
  },
  {
   "cell_type": "code",
   "execution_count": 40,
   "metadata": {},
   "outputs": [
    {
     "data": {
      "image/png": "[encoded data removed]",
      "text/plain": [
       "<Figure size 720x432 with 1 Axes>"
      ]
     },
     "metadata": {
      "needs_background": "dark"
     },
     "output_type": "display_data"
    }
   ],
   "source": [
    "dis_dist = sns.distplot(boston_df['DIS'])\n",
    "dis_dist.set_title('Rozkład zmiennej DIS')\n",
    "plt.show()"
   ]
  },
  {
   "cell_type": "code",
   "execution_count": 41,
   "metadata": {},
   "outputs": [
    {
     "data": {
      "image/png": "[encoded data removed]",
      "text/plain": [
       "<Figure size 720x432 with 1 Axes>"
      ]
     },
     "metadata": {
      "needs_background": "dark"
     },
     "output_type": "display_data"
    }
   ],
   "source": [
    "dis_log_dist = sns.distplot(np.log1p(boston_df['DIS']))\n",
    "dis_log_dist.set_title('Rozkład logarytmu zmiennej DIS')\n",
    "plt.show()\n",
    "# nie jest idealnie, ale na pewno mniej skośnie \\:)"
   ]
  },
  {
   "cell_type": "markdown",
   "metadata": {},
   "source": [
    "# Categorical variables encoding\n",
    "### algorytmy często nie lubią zmiennych kategorycznych"
   ]
  },
  {
   "cell_type": "code",
   "execution_count": 42,
   "metadata": {},
   "outputs": [
    {
     "name": "stdout",
     "output_type": "stream",
     "text": [
      "[0 0 2 0 1 1 2 0 2 1]\n"
     ]
    }
   ],
   "source": [
    "from sklearn.preprocessing import LabelEncoder\n",
    "from sklearn.preprocessing import OneHotEncoder\n",
    "\n",
    "data = ['cold', 'cold', 'warm', 'cold', 'hot', 'hot', 'warm', 'cold', 'warm', 'hot']\n",
    "values = np.array(data)\n",
    "\n",
    "# integer encode\n",
    "le = LabelEncoder()\n",
    "integer_encoded = le.fit_transform(values)\n",
    "print(integer_encoded)"
   ]
  },
  {
   "cell_type": "markdown",
   "metadata": {},
   "source": [
    "Warto zauważyć, że to ma sens, tylko dla zmiennych, które reprezentują jakieś poziomy/kolejność"
   ]
  },
  {
   "cell_type": "code",
   "execution_count": 43,
   "metadata": {},
   "outputs": [
    {
     "name": "stdout",
     "output_type": "stream",
     "text": [
      "[1 0 2 0 1 1 2 0 2 1]\n"
     ]
    }
   ],
   "source": [
    "# uwaga! \n",
    "# nie panujemy nad kolejnością -> check OrdinalEncoder\n",
    "data = ['hot', 'cold', 'warm', 'cold', 'hot', 'hot', 'warm', 'cold', 'warm', 'hot']\n",
    "values = np.array(data)\n",
    "le = LabelEncoder()\n",
    "integer_encoded = le.fit_transform(values)\n",
    "print(integer_encoded)"
   ]
  },
  {
   "cell_type": "code",
   "execution_count": 44,
   "metadata": {},
   "outputs": [
    {
     "name": "stdout",
     "output_type": "stream",
     "text": [
      "[[0. 1. 0.]\n",
      " [1. 0. 0.]\n",
      " [0. 0. 1.]\n",
      " [1. 0. 0.]\n",
      " [0. 1. 0.]\n",
      " [0. 1. 0.]\n",
      " [0. 0. 1.]\n",
      " [1. 0. 0.]\n",
      " [0. 0. 1.]\n",
      " [0. 1. 0.]]\n"
     ]
    }
   ],
   "source": [
    "# binary encode\n",
    "onehot_encoder = OneHotEncoder(sparse=False)\n",
    "integer_encoded = integer_encoded.reshape(len(integer_encoded), 1)\n",
    "onehot_encoded = onehot_encoder.fit_transform(integer_encoded)\n",
    "print(onehot_encoded)"
   ]
  },
  {
   "cell_type": "code",
   "execution_count": 45,
   "metadata": {},
   "outputs": [
    {
     "data": {
      "text/html": [
       "<div>\n",
       "<style scoped>\n",
       "    .dataframe tbody tr th:only-of-type {\n",
       "        vertical-align: middle;\n",
       "    }\n",
       "\n",
       "    .dataframe tbody tr th {\n",
       "        vertical-align: top;\n",
       "    }\n",
       "\n",
       "    .dataframe thead th {\n",
       "        text-align: right;\n",
       "    }\n",
       "</style>\n",
       "<table border=\"1\" class=\"dataframe\">\n",
       "  <thead>\n",
       "    <tr style=\"text-align: right;\">\n",
       "      <th></th>\n",
       "      <th>id</th>\n",
       "      <th>brand</th>\n",
       "      <th>categories</th>\n",
       "      <th>colors</th>\n",
       "      <th>dateadded</th>\n",
       "      <th>dateupdated</th>\n",
       "      <th>descriptions</th>\n",
       "      <th>ean</th>\n",
       "      <th>features</th>\n",
       "      <th>imageurls</th>\n",
       "      <th>...</th>\n",
       "      <th>prices_dateseen</th>\n",
       "      <th>prices_issale</th>\n",
       "      <th>prices_merchant</th>\n",
       "      <th>prices_offer</th>\n",
       "      <th>prices_sourceurls</th>\n",
       "      <th>sizes</th>\n",
       "      <th>skus</th>\n",
       "      <th>sourceurls</th>\n",
       "      <th>upc</th>\n",
       "      <th>brands_processed</th>\n",
       "    </tr>\n",
       "  </thead>\n",
       "  <tbody>\n",
       "    <tr>\n",
       "      <th>0</th>\n",
       "      <td>AVpfHrJ6ilAPnD_xVXOI</td>\n",
       "      <td>Josmo</td>\n",
       "      <td>Clothing,Shoes,Men's Shoes,All Men's Shoes</td>\n",
       "      <td>NaN</td>\n",
       "      <td>2016-11-07T00:45:12Z</td>\n",
       "      <td>2016-11-07T00:45:12Z</td>\n",
       "      <td>[{\"dateSeen\":[\"2016-11-07T00:45:12Z\"],\"sourceU...</td>\n",
       "      <td>6.993020e+11</td>\n",
       "      <td>[{\"key\":\"Gender\",\"value\":[\"Men\"]},{\"key\":\"Shoe...</td>\n",
       "      <td>https://i5.walmartimages.com/asr/13ac3d61-003c...</td>\n",
       "      <td>...</td>\n",
       "      <td>2016-11-05T00:00:00Z</td>\n",
       "      <td>True</td>\n",
       "      <td>NaN</td>\n",
       "      <td>REDUCED USD 12.10</td>\n",
       "      <td>https://www.walmart.com/ip/Josmo-8190-Plain-In...</td>\n",
       "      <td>NaN</td>\n",
       "      <td>NaN</td>\n",
       "      <td>https://www.walmart.com/ip/Josmo-8190-Plain-In...</td>\n",
       "      <td>6.993020e+11</td>\n",
       "      <td>Josmo</td>\n",
       "    </tr>\n",
       "    <tr>\n",
       "      <th>1</th>\n",
       "      <td>AVpfHrJ6ilAPnD_xVXOI</td>\n",
       "      <td>Josmo</td>\n",
       "      <td>Clothing,Shoes,Men's Shoes,All Men's Shoes</td>\n",
       "      <td>NaN</td>\n",
       "      <td>2016-11-07T00:45:12Z</td>\n",
       "      <td>2016-11-07T00:45:12Z</td>\n",
       "      <td>[{\"dateSeen\":[\"2016-11-07T00:45:12Z\"],\"sourceU...</td>\n",
       "      <td>6.993020e+11</td>\n",
       "      <td>[{\"key\":\"Gender\",\"value\":[\"Men\"]},{\"key\":\"Shoe...</td>\n",
       "      <td>https://i5.walmartimages.com/asr/13ac3d61-003c...</td>\n",
       "      <td>...</td>\n",
       "      <td>2016-11-05T00:00:00Z</td>\n",
       "      <td>False</td>\n",
       "      <td>UnbeatableSale - Walmart.com</td>\n",
       "      <td>REDUCED USD 12.10</td>\n",
       "      <td>https://www.walmart.com/ip/Josmo-8190-Plain-In...</td>\n",
       "      <td>NaN</td>\n",
       "      <td>NaN</td>\n",
       "      <td>https://www.walmart.com/ip/Josmo-8190-Plain-In...</td>\n",
       "      <td>6.993020e+11</td>\n",
       "      <td>Josmo</td>\n",
       "    </tr>\n",
       "    <tr>\n",
       "      <th>2</th>\n",
       "      <td>AVpfHsWP1cnluZ0-eVZ7</td>\n",
       "      <td>SERVUS BY HONEYWELL</td>\n",
       "      <td>All Men's Shoes,Shoes,Men's Shoes,Clothing</td>\n",
       "      <td>NaN</td>\n",
       "      <td>2016-06-14T04:29:57Z</td>\n",
       "      <td>2016-07-09T20:26:48Z</td>\n",
       "      <td>[{\"dateSeen\":[\"2016-07-09T20:26:48Z\"],\"sourceU...</td>\n",
       "      <td>NaN</td>\n",
       "      <td>[{\"key\":\"Gender\",\"value\":[\"Men\"]},{\"key\":\"Colo...</td>\n",
       "      <td>http://i5.walmartimages.com/dfw/dce07b8c-5844/...</td>\n",
       "      <td>...</td>\n",
       "      <td>2016-03-08T00:00:00Z</td>\n",
       "      <td>False</td>\n",
       "      <td>SIM Supply Inc - Walmart.com</td>\n",
       "      <td>NaN</td>\n",
       "      <td>http://www.walmart.com/ip/Studs-Shoe-Large-Pr-...</td>\n",
       "      <td>NaN</td>\n",
       "      <td>NaN</td>\n",
       "      <td>http://www.walmart.com/ip/Studs-Shoe-Large-Pr-...</td>\n",
       "      <td>NaN</td>\n",
       "      <td>SERVUS BY HONEYWELL</td>\n",
       "    </tr>\n",
       "    <tr>\n",
       "      <th>3</th>\n",
       "      <td>AVpfHsWP1cnluZ0-eVZ7</td>\n",
       "      <td>SERVUS BY HONEYWELL</td>\n",
       "      <td>All Men's Shoes,Shoes,Men's Shoes,Clothing</td>\n",
       "      <td>NaN</td>\n",
       "      <td>2016-06-14T04:29:57Z</td>\n",
       "      <td>2016-07-09T20:26:48Z</td>\n",
       "      <td>[{\"dateSeen\":[\"2016-07-09T20:26:48Z\"],\"sourceU...</td>\n",
       "      <td>NaN</td>\n",
       "      <td>[{\"key\":\"Gender\",\"value\":[\"Men\"]},{\"key\":\"Colo...</td>\n",
       "      <td>http://i5.walmartimages.com/dfw/dce07b8c-5844/...</td>\n",
       "      <td>...</td>\n",
       "      <td>2015-11-30T00:00:00Z</td>\n",
       "      <td>False</td>\n",
       "      <td>SIM Supply Inc - Walmart.com</td>\n",
       "      <td>NaN</td>\n",
       "      <td>http://www.walmart.com/ip/Studs-Shoe-Large-Pr-...</td>\n",
       "      <td>NaN</td>\n",
       "      <td>NaN</td>\n",
       "      <td>http://www.walmart.com/ip/Studs-Shoe-Large-Pr-...</td>\n",
       "      <td>NaN</td>\n",
       "      <td>SERVUS BY HONEYWELL</td>\n",
       "    </tr>\n",
       "    <tr>\n",
       "      <th>4</th>\n",
       "      <td>AVpfHsWP1cnluZ0-eVZ7</td>\n",
       "      <td>SERVUS BY HONEYWELL</td>\n",
       "      <td>All Men's Shoes,Shoes,Men's Shoes,Clothing</td>\n",
       "      <td>NaN</td>\n",
       "      <td>2016-06-14T04:29:57Z</td>\n",
       "      <td>2016-07-09T20:26:48Z</td>\n",
       "      <td>[{\"dateSeen\":[\"2016-07-09T20:26:48Z\"],\"sourceU...</td>\n",
       "      <td>NaN</td>\n",
       "      <td>[{\"key\":\"Gender\",\"value\":[\"Men\"]},{\"key\":\"Colo...</td>\n",
       "      <td>http://i5.walmartimages.com/dfw/dce07b8c-5844/...</td>\n",
       "      <td>...</td>\n",
       "      <td>2016-04-29T00:00:00Z</td>\n",
       "      <td>False</td>\n",
       "      <td>SIM Supply Inc - Walmart.com</td>\n",
       "      <td>NaN</td>\n",
       "      <td>http://www.walmart.com/ip/Studs-Shoe-Large-Pr-...</td>\n",
       "      <td>NaN</td>\n",
       "      <td>NaN</td>\n",
       "      <td>http://www.walmart.com/ip/Studs-Shoe-Large-Pr-...</td>\n",
       "      <td>NaN</td>\n",
       "      <td>SERVUS BY HONEYWELL</td>\n",
       "    </tr>\n",
       "  </tbody>\n",
       "</table>\n",
       "<p>5 rows × 30 columns</p>\n",
       "</div>"
      ],
      "text/plain": [
       "                     id                brand  \\\n",
       "0  AVpfHrJ6ilAPnD_xVXOI                Josmo   \n",
       "1  AVpfHrJ6ilAPnD_xVXOI                Josmo   \n",
       "2  AVpfHsWP1cnluZ0-eVZ7  SERVUS BY HONEYWELL   \n",
       "3  AVpfHsWP1cnluZ0-eVZ7  SERVUS BY HONEYWELL   \n",
       "4  AVpfHsWP1cnluZ0-eVZ7  SERVUS BY HONEYWELL   \n",
       "\n",
       "                                   categories colors             dateadded  \\\n",
       "0  Clothing,Shoes,Men's Shoes,All Men's Shoes    NaN  2016-11-07T00:45:12Z   \n",
       "1  Clothing,Shoes,Men's Shoes,All Men's Shoes    NaN  2016-11-07T00:45:12Z   \n",
       "2  All Men's Shoes,Shoes,Men's Shoes,Clothing    NaN  2016-06-14T04:29:57Z   \n",
       "3  All Men's Shoes,Shoes,Men's Shoes,Clothing    NaN  2016-06-14T04:29:57Z   \n",
       "4  All Men's Shoes,Shoes,Men's Shoes,Clothing    NaN  2016-06-14T04:29:57Z   \n",
       "\n",
       "            dateupdated                                       descriptions  \\\n",
       "0  2016-11-07T00:45:12Z  [{\"dateSeen\":[\"2016-11-07T00:45:12Z\"],\"sourceU...   \n",
       "1  2016-11-07T00:45:12Z  [{\"dateSeen\":[\"2016-11-07T00:45:12Z\"],\"sourceU...   \n",
       "2  2016-07-09T20:26:48Z  [{\"dateSeen\":[\"2016-07-09T20:26:48Z\"],\"sourceU...   \n",
       "3  2016-07-09T20:26:48Z  [{\"dateSeen\":[\"2016-07-09T20:26:48Z\"],\"sourceU...   \n",
       "4  2016-07-09T20:26:48Z  [{\"dateSeen\":[\"2016-07-09T20:26:48Z\"],\"sourceU...   \n",
       "\n",
       "            ean                                           features  \\\n",
       "0  6.993020e+11  [{\"key\":\"Gender\",\"value\":[\"Men\"]},{\"key\":\"Shoe...   \n",
       "1  6.993020e+11  [{\"key\":\"Gender\",\"value\":[\"Men\"]},{\"key\":\"Shoe...   \n",
       "2           NaN  [{\"key\":\"Gender\",\"value\":[\"Men\"]},{\"key\":\"Colo...   \n",
       "3           NaN  [{\"key\":\"Gender\",\"value\":[\"Men\"]},{\"key\":\"Colo...   \n",
       "4           NaN  [{\"key\":\"Gender\",\"value\":[\"Men\"]},{\"key\":\"Colo...   \n",
       "\n",
       "                                           imageurls  ...  \\\n",
       "0  https://i5.walmartimages.com/asr/13ac3d61-003c...  ...   \n",
       "1  https://i5.walmartimages.com/asr/13ac3d61-003c...  ...   \n",
       "2  http://i5.walmartimages.com/dfw/dce07b8c-5844/...  ...   \n",
       "3  http://i5.walmartimages.com/dfw/dce07b8c-5844/...  ...   \n",
       "4  http://i5.walmartimages.com/dfw/dce07b8c-5844/...  ...   \n",
       "\n",
       "        prices_dateseen prices_issale               prices_merchant  \\\n",
       "0  2016-11-05T00:00:00Z          True                           NaN   \n",
       "1  2016-11-05T00:00:00Z         False  UnbeatableSale - Walmart.com   \n",
       "2  2016-03-08T00:00:00Z         False  SIM Supply Inc - Walmart.com   \n",
       "3  2015-11-30T00:00:00Z         False  SIM Supply Inc - Walmart.com   \n",
       "4  2016-04-29T00:00:00Z         False  SIM Supply Inc - Walmart.com   \n",
       "\n",
       "        prices_offer                                  prices_sourceurls  \\\n",
       "0  REDUCED USD 12.10  https://www.walmart.com/ip/Josmo-8190-Plain-In...   \n",
       "1  REDUCED USD 12.10  https://www.walmart.com/ip/Josmo-8190-Plain-In...   \n",
       "2                NaN  http://www.walmart.com/ip/Studs-Shoe-Large-Pr-...   \n",
       "3                NaN  http://www.walmart.com/ip/Studs-Shoe-Large-Pr-...   \n",
       "4                NaN  http://www.walmart.com/ip/Studs-Shoe-Large-Pr-...   \n",
       "\n",
       "   sizes  skus                                         sourceurls  \\\n",
       "0    NaN   NaN  https://www.walmart.com/ip/Josmo-8190-Plain-In...   \n",
       "1    NaN   NaN  https://www.walmart.com/ip/Josmo-8190-Plain-In...   \n",
       "2    NaN   NaN  http://www.walmart.com/ip/Studs-Shoe-Large-Pr-...   \n",
       "3    NaN   NaN  http://www.walmart.com/ip/Studs-Shoe-Large-Pr-...   \n",
       "4    NaN   NaN  http://www.walmart.com/ip/Studs-Shoe-Large-Pr-...   \n",
       "\n",
       "            upc     brands_processed  \n",
       "0  6.993020e+11                Josmo  \n",
       "1  6.993020e+11                Josmo  \n",
       "2           NaN  SERVUS BY HONEYWELL  \n",
       "3           NaN  SERVUS BY HONEYWELL  \n",
       "4           NaN  SERVUS BY HONEYWELL  \n",
       "\n",
       "[5 rows x 30 columns]"
      ]
     },
     "execution_count": 45,
     "metadata": {},
     "output_type": "execute_result"
    }
   ],
   "source": [
    "# przykład z naszych danych\n",
    "# kolumna categories wyglądała obiecująco\n",
    "shoes_df_drop.head()"
   ]
  },
  {
   "cell_type": "code",
   "execution_count": 46,
   "metadata": {},
   "outputs": [
    {
     "data": {
      "text/plain": [
       "All Men's Shoes,Shoes,Men's Shoes,Clothing                                                                    3698\n",
       "Clothing,Shoes,Men's Shoes,All Men's Shoes                                                                    1632\n",
       "Men's Casual Shoes,Shoes,Men's Shoes,Clothing                                                                  698\n",
       "All Men's Clothing,Men's Clothing,Men's Outerwear,Clothing, Shoes & Jewelry,Clothing                           586\n",
       "Clothing, Shoes & Accessories,Men's Shoes,Athletic                                                             391\n",
       "                                                                                                              ... \n",
       "Shoes,Clothing, Shoes & Jewelry,Men,Boots,Western                                                                1\n",
       "Uniforms, Work & Safety,Men,Shorts,Work Utility & Safety,Clothing, Shoes & Jewelry,Clothing                      1\n",
       "Clothing, Shoes & Accessories,Men's Shoes,Boots,See more Timberland Premium Waterproof Boot for Men Siz...       1\n",
       "Novelty,Accessories,Men,Novelty & More,Keychains,Clothing, Shoes & Jewelry,Clothing                              1\n",
       "Fitness & Exercise Equipment,Running Gear,Men's Running Shoes                                                    1\n",
       "Name: categories, Length: 1170, dtype: int64"
      ]
     },
     "execution_count": 46,
     "metadata": {},
     "output_type": "execute_result"
    }
   ],
   "source": [
    "shoes_df_drop['categories'].value_counts()"
   ]
  },
  {
   "cell_type": "code",
   "execution_count": 47,
   "metadata": {},
   "outputs": [
    {
     "data": {
      "text/html": [
       "<div>\n",
       "<style scoped>\n",
       "    .dataframe tbody tr th:only-of-type {\n",
       "        vertical-align: middle;\n",
       "    }\n",
       "\n",
       "    .dataframe tbody tr th {\n",
       "        vertical-align: top;\n",
       "    }\n",
       "\n",
       "    .dataframe thead th {\n",
       "        text-align: right;\n",
       "    }\n",
       "</style>\n",
       "<table border=\"1\" class=\"dataframe\">\n",
       "  <thead>\n",
       "    <tr style=\"text-align: right;\">\n",
       "      <th></th>\n",
       "      <th>category</th>\n",
       "      <th>count</th>\n",
       "    </tr>\n",
       "  </thead>\n",
       "  <tbody>\n",
       "    <tr>\n",
       "      <th>0</th>\n",
       "      <td>Clothing</td>\n",
       "      <td>20258</td>\n",
       "    </tr>\n",
       "    <tr>\n",
       "      <th>1</th>\n",
       "      <td>Shoes</td>\n",
       "      <td>9768</td>\n",
       "    </tr>\n",
       "    <tr>\n",
       "      <th>2</th>\n",
       "      <td>Men's Shoes</td>\n",
       "      <td>9581</td>\n",
       "    </tr>\n",
       "    <tr>\n",
       "      <th>3</th>\n",
       "      <td>All Men's Shoes</td>\n",
       "      <td>6179</td>\n",
       "    </tr>\n",
       "    <tr>\n",
       "      <th>23</th>\n",
       "      <td>Shoes &amp; Jewelry</td>\n",
       "      <td>5389</td>\n",
       "    </tr>\n",
       "    <tr>\n",
       "      <th>9</th>\n",
       "      <td>Men</td>\n",
       "      <td>3394</td>\n",
       "    </tr>\n",
       "    <tr>\n",
       "      <th>7</th>\n",
       "      <td>Shoes &amp; Accessories</td>\n",
       "      <td>3297</td>\n",
       "    </tr>\n",
       "    <tr>\n",
       "      <th>15</th>\n",
       "      <td>Men's Clothing</td>\n",
       "      <td>3186</td>\n",
       "    </tr>\n",
       "    <tr>\n",
       "      <th>21</th>\n",
       "      <td>All Men's Clothing</td>\n",
       "      <td>1583</td>\n",
       "    </tr>\n",
       "    <tr>\n",
       "      <th>4</th>\n",
       "      <td>Men's Casual Shoes</td>\n",
       "      <td>1429</td>\n",
       "    </tr>\n",
       "    <tr>\n",
       "      <th>26</th>\n",
       "      <td>Men's Accessories</td>\n",
       "      <td>1283</td>\n",
       "    </tr>\n",
       "    <tr>\n",
       "      <th>43</th>\n",
       "      <td>Athletic</td>\n",
       "      <td>1037</td>\n",
       "    </tr>\n",
       "    <tr>\n",
       "      <th>63</th>\n",
       "      <td>Workwear &amp; Uniforms</td>\n",
       "      <td>900</td>\n",
       "    </tr>\n",
       "    <tr>\n",
       "      <th>64</th>\n",
       "      <td>Men's Workwear &amp; Uniforms</td>\n",
       "      <td>897</td>\n",
       "    </tr>\n",
       "    <tr>\n",
       "      <th>18</th>\n",
       "      <td>Sporting Goods</td>\n",
       "      <td>861</td>\n",
       "    </tr>\n",
       "    <tr>\n",
       "      <th>24</th>\n",
       "      <td>Team Sports</td>\n",
       "      <td>824</td>\n",
       "    </tr>\n",
       "    <tr>\n",
       "      <th>87</th>\n",
       "      <td>Sunglasses</td>\n",
       "      <td>725</td>\n",
       "    </tr>\n",
       "    <tr>\n",
       "      <th>22</th>\n",
       "      <td>Men's Outerwear</td>\n",
       "      <td>703</td>\n",
       "    </tr>\n",
       "    <tr>\n",
       "      <th>29</th>\n",
       "      <td>Men's Boots</td>\n",
       "      <td>682</td>\n",
       "    </tr>\n",
       "    <tr>\n",
       "      <th>42</th>\n",
       "      <td>Shoes &amp; Cleats</td>\n",
       "      <td>679</td>\n",
       "    </tr>\n",
       "  </tbody>\n",
       "</table>\n",
       "</div>"
      ],
      "text/plain": [
       "                     category  count\n",
       "0                    Clothing  20258\n",
       "1                       Shoes   9768\n",
       "2                 Men's Shoes   9581\n",
       "3             All Men's Shoes   6179\n",
       "23            Shoes & Jewelry   5389\n",
       "9                         Men   3394\n",
       "7         Shoes & Accessories   3297\n",
       "15             Men's Clothing   3186\n",
       "21         All Men's Clothing   1583\n",
       "4          Men's Casual Shoes   1429\n",
       "26          Men's Accessories   1283\n",
       "43                   Athletic   1037\n",
       "63        Workwear & Uniforms    900\n",
       "64  Men's Workwear & Uniforms    897\n",
       "18             Sporting Goods    861\n",
       "24                Team Sports    824\n",
       "87                 Sunglasses    725\n",
       "22            Men's Outerwear    703\n",
       "29                Men's Boots    682\n",
       "42             Shoes & Cleats    679"
      ]
     },
     "execution_count": 47,
     "metadata": {},
     "output_type": "execute_result"
    }
   ],
   "source": [
    "# podrążmy temat\n",
    "categories = {}\n",
    "def split_and_count(x, categories):\n",
    "    cat_list = x.split(',')\n",
    "    for cat in cat_list:\n",
    "        categories.setdefault(cat, 0)\n",
    "        categories[cat] += 1\n",
    "    return categories\n",
    "\n",
    "for row in shoes_df_drop['categories'].iteritems():\n",
    "    split_and_count(row[1], categories)\n",
    "categories_df = pd.DataFrame.from_dict(categories, orient='index').reset_index()\n",
    "categories_df.columns = ['category', 'count']\n",
    "categories_df.sort_values(by='count', ascending=False).head(20)\n",
    "\n",
    "# kategorie typu athletic, *sport, *outwear mogą się nadawać na one-hot"
   ]
  },
  {
   "cell_type": "markdown",
   "metadata": {},
   "source": [
    "# Scaling\n",
    "- min-max scaling\n",
    "- standarization"
   ]
  },
  {
   "cell_type": "markdown",
   "metadata": {},
   "source": [
    "niektóre algorytmy nie lubią dużych skal zmiennych - regresja liniowa z poprzednich zajęć   \n",
    "jakiś parametr musi \"obsłużyć\" bardzo małe i bardzo duże liczby  \n",
    "inne potrzebują mieć zmienne w konkretnym przedziale"
   ]
  },
  {
   "cell_type": "code",
   "execution_count": 49,
   "metadata": {
    "scrolled": true
   },
   "outputs": [
    {
     "name": "stdout",
     "output_type": "stream",
     "text": [
      "[[0.        ]\n",
      " [0.15789474]\n",
      " [0.02631579]\n",
      " [0.36842105]\n",
      " [0.05263158]\n",
      " [0.57894737]\n",
      " [0.10526316]\n",
      " [1.        ]]\n"
     ]
    }
   ],
   "source": [
    "# min-max scaling\n",
    "from sklearn.preprocessing import MinMaxScaler\n",
    "data = np.array([-1, 2, -0.5, 6, 0, 10, 1, 18]).reshape(-1, 1)\n",
    "mm_scaler = MinMaxScaler()\n",
    "\n",
    "print(mm_scaler.fit_transform(data))\n",
    "# musimy się wcześniej zająć outlierami\n",
    "# check robust scaler"
   ]
  },
  {
   "cell_type": "code",
   "execution_count": 50,
   "metadata": {},
   "outputs": [
    {
     "name": "stdout",
     "output_type": "stream",
     "text": [
      "[[-0.87531175]\n",
      " [-0.39238113]\n",
      " [-0.79482332]\n",
      " [ 0.25152637]\n",
      " [-0.71433488]\n",
      " [ 0.89543386]\n",
      " [-0.553358  ]\n",
      " [ 2.18324886]]\n",
      "-0.0 1.0\n"
     ]
    }
   ],
   "source": [
    "# standarization\n",
    "from sklearn.preprocessing import StandardScaler\n",
    "data = np.array([-1, 2, -0.5, 6, 0, 10, 1, 18]).reshape(-1, 1)\n",
    "scaler = StandardScaler()\n",
    "scaled_data = scaler.fit_transform(data)\n",
    "print(scaled_data)\n",
    "print(np.round(np.mean(scaled_data), 4), np.std(scaled_data))"
   ]
  },
  {
   "cell_type": "markdown",
   "metadata": {},
   "source": [
    "# Extracting info from date"
   ]
  },
  {
   "cell_type": "code",
   "execution_count": 52,
   "metadata": {},
   "outputs": [],
   "source": [
    "from datetime import date\n",
    "\n",
    "data = pd.DataFrame({'date':\n",
    "['01-01-2017',\n",
    "'04-12-2008',\n",
    "'23-06-1988',\n",
    "'25-08-1999',\n",
    "'20-02-1993',\n",
    "]})\n",
    "\n",
    "#Transform string to date\n",
    "data['date'] = pd.to_datetime(data.date, format=\"%d-%m-%Y\")\n",
    "\n",
    "#Extracting Year\n",
    "data['year'] = data['date'].dt.year\n",
    "\n",
    "#Extracting Month\n",
    "data['month'] = data['date'].dt.month\n",
    "\n",
    "#Extracting passed years since the date\n",
    "data['passed_years'] = date.today().year - data['date'].dt.year\n",
    "\n",
    "#Extracting passed months since the date\n",
    "data['passed_months'] = (date.today().year - data['date'].dt.year) * 12 + date.today().month - data['date'].dt.month\n",
    "\n",
    "#Extracting the weekday name of the date\n",
    "data['day_name'] = data['date'].dt.day_name()"
   ]
  },
  {
   "cell_type": "code",
   "execution_count": 53,
   "metadata": {},
   "outputs": [
    {
     "data": {
      "text/html": [
       "<div>\n",
       "<style scoped>\n",
       "    .dataframe tbody tr th:only-of-type {\n",
       "        vertical-align: middle;\n",
       "    }\n",
       "\n",
       "    .dataframe tbody tr th {\n",
       "        vertical-align: top;\n",
       "    }\n",
       "\n",
       "    .dataframe thead th {\n",
       "        text-align: right;\n",
       "    }\n",
       "</style>\n",
       "<table border=\"1\" class=\"dataframe\">\n",
       "  <thead>\n",
       "    <tr style=\"text-align: right;\">\n",
       "      <th></th>\n",
       "      <th>date</th>\n",
       "      <th>year</th>\n",
       "      <th>month</th>\n",
       "      <th>passed_years</th>\n",
       "      <th>passed_months</th>\n",
       "      <th>day_name</th>\n",
       "    </tr>\n",
       "  </thead>\n",
       "  <tbody>\n",
       "    <tr>\n",
       "      <th>0</th>\n",
       "      <td>2017-01-01</td>\n",
       "      <td>2017</td>\n",
       "      <td>1</td>\n",
       "      <td>4</td>\n",
       "      <td>50</td>\n",
       "      <td>Sunday</td>\n",
       "    </tr>\n",
       "    <tr>\n",
       "      <th>1</th>\n",
       "      <td>2008-12-04</td>\n",
       "      <td>2008</td>\n",
       "      <td>12</td>\n",
       "      <td>13</td>\n",
       "      <td>147</td>\n",
       "      <td>Thursday</td>\n",
       "    </tr>\n",
       "    <tr>\n",
       "      <th>2</th>\n",
       "      <td>1988-06-23</td>\n",
       "      <td>1988</td>\n",
       "      <td>6</td>\n",
       "      <td>33</td>\n",
       "      <td>393</td>\n",
       "      <td>Thursday</td>\n",
       "    </tr>\n",
       "    <tr>\n",
       "      <th>3</th>\n",
       "      <td>1999-08-25</td>\n",
       "      <td>1999</td>\n",
       "      <td>8</td>\n",
       "      <td>22</td>\n",
       "      <td>259</td>\n",
       "      <td>Wednesday</td>\n",
       "    </tr>\n",
       "    <tr>\n",
       "      <th>4</th>\n",
       "      <td>1993-02-20</td>\n",
       "      <td>1993</td>\n",
       "      <td>2</td>\n",
       "      <td>28</td>\n",
       "      <td>337</td>\n",
       "      <td>Saturday</td>\n",
       "    </tr>\n",
       "  </tbody>\n",
       "</table>\n",
       "</div>"
      ],
      "text/plain": [
       "        date  year  month  passed_years  passed_months   day_name\n",
       "0 2017-01-01  2017      1             4             50     Sunday\n",
       "1 2008-12-04  2008     12            13            147   Thursday\n",
       "2 1988-06-23  1988      6            33            393   Thursday\n",
       "3 1999-08-25  1999      8            22            259  Wednesday\n",
       "4 1993-02-20  1993      2            28            337   Saturday"
      ]
     },
     "execution_count": 53,
     "metadata": {},
     "output_type": "execute_result"
    }
   ],
   "source": [
    "data"
   ]
  },
  {
   "cell_type": "markdown",
   "metadata": {},
   "source": [
    "# warto poczytać\n",
    "pakiet category_encoders:\n",
    "- https://kiwidamien.github.io/encoding-categorical-variables.html\n",
    "- https://pbpython.com/categorical-encoding.html"
   ]
  },
  {
   "cell_type": "markdown",
   "metadata": {},
   "source": [
    "Ciekawa strona z przykładami wizualizacji (wraz z kodem):\n",
    "    https://www.machinelearningplus.com/plots/top-50-matplotlib-visualizations-the-master-plots-python/"
   ]
  }
 ],
 "metadata": {
  "kernelspec": {
   "display_name": "PyCharm (big_project)",
   "language": "python",
   "name": "pycharm-63e77e4d"
  },
  "language_info": {
   "codemirror_mode": {
    "name": "ipython",
    "version": 3
   },
   "file_extension": ".py",
   "mimetype": "text/x-python",
   "name": "python",
   "nbconvert_exporter": "python",
   "pygments_lexer": "ipython3",
   "version": "3.8.5"
  }
 },
 "nbformat": 4,
 "nbformat_minor": 4
}
