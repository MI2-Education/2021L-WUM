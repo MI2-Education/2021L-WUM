{
 "cells": [
  {
   "cell_type": "code",
   "execution_count": null,
   "metadata": {},
   "outputs": [],
   "source": [
    "import pandas as pd\n",
    "import numpy as np\n",
    "\n",
    "from sklearn.datasets import load_boston\n",
    "from sklearn.linear_model import LinearRegression, Lasso\n",
    "from sklearn.metrics import mean_squared_error\n",
    "from sklearn.compose import ColumnTransformer\n",
    "from sklearn.preprocessing import FunctionTransformer\n",
    "from sklearn.pipeline import Pipeline\n",
    "from sklearn.model_selection import train_test_split\n",
    "\n",
    "from matplotlib import pyplot as plt\n",
    "import seaborn as sns\n",
    "from scipy import stats"
   ]
  },
  {
   "cell_type": "markdown",
   "metadata": {},
   "source": [
    "# 0. Plan działania\n",
    "\n",
    "Każdy projekt związany z uczeniem maszynowym jest inny, można jednak wyróżnić pewne kroki które zawsze muszą być wykonane:\n",
    "- Zdobycie zbioru danych\n",
    "- Zapoznanie się ze zbiorem danych (EDA)\n",
    "- Przygotowanie danych do analizy (preprocessing)\n",
    "- Wytrenowanie modelu\n",
    "- Ewaluacja modelu\n",
    "\n",
    "Na tych zajęciach przejdziemy przez te kroki dla problemu regresji: przewidzenie ceny domu w Bostonie. "
   ]
  },
  {
   "cell_type": "markdown",
   "metadata": {},
   "source": [
    "# 1. Importowanie zbioru danych"
   ]
  },
  {
   "cell_type": "code",
   "execution_count": null,
   "metadata": {},
   "outputs": [],
   "source": [
    "boston_dict = load_boston()\n",
    "print(boston_dict.keys())"
   ]
  },
  {
   "cell_type": "code",
   "execution_count": null,
   "metadata": {},
   "outputs": [],
   "source": [
    "print(boston_dict.keys())"
   ]
  },
  {
   "cell_type": "markdown",
   "metadata": {},
   "source": [
    "Widzimy, że otrzymany zbiór danych jest typu `dict`. Sprawdzimy teraz, co znajduje się w tym słowniku i w jaki sposób surowe dane możmy zamienić na obiekt typu `pd.DataFrame` w celu łatwej pracy z nim."
   ]
  },
  {
   "cell_type": "code",
   "execution_count": null,
   "metadata": {},
   "outputs": [],
   "source": [
    "# W tej komórce przejrzyj co znajduje się pod interesującymi Cię kluczami w słowniku\n",
    "# Pod którym kluczem znajduje się X? Pod którym y?\n",
    "\n"
   ]
  },
  {
   "cell_type": "markdown",
   "metadata": {},
   "source": [
    "Wskazówka do komórki poniżej: użyj funkcji `print()`."
   ]
  },
  {
   "cell_type": "code",
   "execution_count": null,
   "metadata": {},
   "outputs": [],
   "source": [
    "# W tej komórce wyświetl opis danych \n",
    "\n"
   ]
  },
  {
   "cell_type": "markdown",
   "metadata": {},
   "source": [
    "Teraz wczytamy wszystkie nasze dane (zarówno $X$ jak i $y$) do obiektu typu `pd.DataFrame`."
   ]
  },
  {
   "cell_type": "code",
   "execution_count": null,
   "metadata": {},
   "outputs": [],
   "source": [
    "boston_df = pd.DataFrame(boston_dict['data'], columns=boston_dict['feature_names'])\n",
    "boston_df['MEDV'] = boston_dict['target']"
   ]
  },
  {
   "cell_type": "markdown",
   "metadata": {},
   "source": [
    "# 2. Eksploracyjna analiza danych\n",
    "\n",
    "W tym momencie wszystkie nasze dane są przechowywane w ramce danych `boston_df`. Użyjemy teraz kolejno metod obiektów `pd.dataframe`: `.head()`, `.info()`, `.describe()` oraz `.hist()` w celu lepszego zapoznania się z danymi. \n"
   ]
  },
  {
   "cell_type": "code",
   "execution_count": null,
   "metadata": {},
   "outputs": [],
   "source": [
    "# Wywołaj metodę head() na obiekcie boston_df \n",
    "\n"
   ]
  },
  {
   "cell_type": "code",
   "execution_count": null,
   "metadata": {},
   "outputs": [],
   "source": [
    "# Wywołaj metodę info() na obiekcie boston_df \n",
    "\n"
   ]
  },
  {
   "cell_type": "code",
   "execution_count": null,
   "metadata": {},
   "outputs": [],
   "source": [
    "# Wywołaj metodę describe() na obiekcie boston_df \n",
    "\n"
   ]
  },
  {
   "cell_type": "code",
   "execution_count": null,
   "metadata": {},
   "outputs": [],
   "source": [
    "# Wywołaj metodę hist() na obiekcie boston_df \n",
    "# Poeksperymentuj z parametrami -- dobrym rozwiązaniem wydają się być wartości (bins = 40, figsize=(18, 12))\n",
    "# Kod powinien się znajdować powyżej linijki plt.show()\n",
    "\n",
    "\n",
    "plt.show()"
   ]
  },
  {
   "cell_type": "markdown",
   "metadata": {},
   "source": [
    "Ponieważ nasz model będzie modelem regresji liniowej, wartościowe może się okazać przyjrzenie się zależności pomiędzy zmiennymi modelu a zmienną celu. \n",
    "\n",
    "Znacie jakiś bardziej elegancki sposób na uzyskanie tego typu wykresów? "
   ]
  },
  {
   "cell_type": "code",
   "execution_count": null,
   "metadata": {},
   "outputs": [],
   "source": [
    "sns.pairplot(boston_df, y_vars=\"MEDV\", x_vars=boston_df.columns.values[:5])\n",
    "sns.pairplot(boston_df, y_vars=\"MEDV\", x_vars=boston_df.columns.values[5:10])\n",
    "sns.pairplot(boston_df, y_vars=\"MEDV\", x_vars=boston_df.columns.values[10:])\n",
    "\n",
    "plt.show()"
   ]
  },
  {
   "cell_type": "markdown",
   "metadata": {},
   "source": [
    "# 3. Przygotowanie zbioru treningowego oraz testowego"
   ]
  },
  {
   "cell_type": "code",
   "execution_count": null,
   "metadata": {},
   "outputs": [],
   "source": [
    "X_train, X_test, y_train, y_test = train_test_split(\n",
    "    boston_df[boston_df.columns.values[:-1]], \n",
    "    boston_df[boston_df.columns.values[-1]], \n",
    "    test_size=0.33, random_state=42)"
   ]
  },
  {
   "cell_type": "markdown",
   "metadata": {},
   "source": [
    "# 4. Preprocessing danych"
   ]
  },
  {
   "cell_type": "markdown",
   "metadata": {},
   "source": [
    "## 4.1. Po co nam preprocessing danych? "
   ]
  },
  {
   "cell_type": "code",
   "execution_count": null,
   "metadata": {},
   "outputs": [],
   "source": [
    "def plot_linear_model(x, y):\n",
    "    m = LinearRegression()\n",
    "    m.fit(x.values.reshape(-1, 1), y.values.reshape(-1, 1))\n",
    "    y_hat = m.predict(x.values.reshape(-1, 1))\n",
    "    plt.figure(figsize=(8, 5))\n",
    "    plt.scatter(x, y)\n",
    "    plt.plot(x, y_hat, c='red')\n",
    "    plt.show()\n",
    "    plt.close('all')\n",
    "    print(f'RMSE: {np.sqrt(mean_squared_error(y, y_hat)):.3f}')"
   ]
  },
  {
   "cell_type": "code",
   "execution_count": null,
   "metadata": {},
   "outputs": [],
   "source": [
    "plot_linear_model(X_train['LSTAT'], y_train)"
   ]
  },
  {
   "cell_type": "code",
   "execution_count": null,
   "metadata": {},
   "outputs": [],
   "source": [
    "plot_linear_model(np.log1p(X_train['LSTAT']), y_train)"
   ]
  },
  {
   "cell_type": "markdown",
   "metadata": {},
   "source": [
    "## 4.2. Właściwy preprocessing danych\n",
    "\n",
    "Dzięki wywołanej wcześniej metodzie `.info()` wiemy, że w naszym zbiorze danych nie ma braków danych (`506 non-null`). Jedyny preprocessing jaki chcemy wykonać, to transformacja danych."
   ]
  },
  {
   "cell_type": "code",
   "execution_count": null,
   "metadata": {},
   "outputs": [],
   "source": [
    "log_features = ['LSTAT', 'CRIM', 'INDUS', 'NOX']\n",
    "\n",
    "\n",
    "transformer = ColumnTransformer(\n",
    "    [\n",
    "        ('log', FunctionTransformer(np.log1p), log_features)\n",
    "    ],\n",
    "    remainder = 'passthrough'\n",
    ")"
   ]
  },
  {
   "cell_type": "markdown",
   "metadata": {},
   "source": [
    "# 5. Przygotowanie modelu"
   ]
  },
  {
   "cell_type": "markdown",
   "metadata": {},
   "source": [
    "## Model liniowy\n",
    "\n",
    "Wytrenujemy teraz najprostszy model stosowany w problemach regresji: model liniowy. Zostanie on dokładniej omówiony na dalszych zajęciach. Do oceny modelu wykorzystamy miarę **RMSE**. Jest ona zdefiniowana w następujący sposób:\n",
    "\n",
    "$$ RMSE = \\sqrt{\\frac{1}{N}\\sum_{i=1}^{N} (\\hat{y}_{i} - y_i)^2} $$\n",
    "\n",
    "Jest to pierwiastek z uśrednionego kwadratu odległości predykcji $\\hat{y}$ od wartości prawdziwej $y$. Im niższa wartość, tym lepiej.\n"
   ]
  },
  {
   "cell_type": "code",
   "execution_count": null,
   "metadata": {},
   "outputs": [],
   "source": [
    "pipe_simple = pipe_transformer = Pipeline(\n",
    "    [\n",
    "        ('linear-model', LinearRegression())\n",
    "    ]\n",
    ")\n",
    "\n",
    "pipe_transformer = Pipeline(\n",
    "    [\n",
    "        ('transformer', transformer),\n",
    "        ('linear-model', LinearRegression())\n",
    "    ]\n",
    ")\n"
   ]
  },
  {
   "cell_type": "code",
   "execution_count": null,
   "metadata": {},
   "outputs": [],
   "source": [
    "pipe_simple.fit(X_train, y_train)\n",
    "y_test_hat = pipe_simple.predict(X_test)\n",
    "\n",
    "print(f'RMSE (bez transformacji danych): {np.sqrt(mean_squared_error(y_test, y_test_hat)):.3f}')"
   ]
  },
  {
   "cell_type": "code",
   "execution_count": null,
   "metadata": {},
   "outputs": [],
   "source": [
    "pipe_transformer.fit(X_train, y_train)\n",
    "y_test_hat = pipe_transformer.predict(X_test)\n",
    "\n",
    "print(f'RMSE (z transformacją danych): {np.sqrt(mean_squared_error(y_test, y_test_hat)):.3f}')"
   ]
  },
  {
   "cell_type": "markdown",
   "metadata": {},
   "source": [
    "Możemy zaobserwować, że transformując część zmiennych udało nam się osiągnąć niższą wartość RMSE. "
   ]
  },
  {
   "cell_type": "markdown",
   "metadata": {},
   "source": [
    "## Baseline"
   ]
  },
  {
   "cell_type": "markdown",
   "metadata": {},
   "source": [
    "Skąd wiemy że nasz model radzi sobie dobrze? Standardową strategią w takiej sytuacji jest wybór baselinu, czyli bardzo prostej metody, którą chcemy \"przebić\". W naszym przypadku, jako baseline przyjmiemy stałą która minimalizuje RMSE.  "
   ]
  },
  {
   "cell_type": "markdown",
   "metadata": {},
   "source": [
    "Zadanie: Jaka stała minimalizuje RMSE?"
   ]
  },
  {
   "cell_type": "code",
   "execution_count": null,
   "metadata": {},
   "outputs": [],
   "source": [
    "##TODO: obliczenie baselinu dla zbioru i porównanie go z modelem"
   ]
  }
 ],
 "metadata": {
  "kernelspec": {
   "display_name": "",
   "language": "python",
   "name": ""
  },
  "language_info": {
   "codemirror_mode": {
    "name": "ipython",
    "version": 3
   },
   "file_extension": ".py",
   "mimetype": "text/x-python",
   "name": "python",
   "nbconvert_exporter": "python",
   "pygments_lexer": "ipython3",
   "version": "3.8.3"
  }
 },
 "nbformat": 4,
 "nbformat_minor": 2
}
