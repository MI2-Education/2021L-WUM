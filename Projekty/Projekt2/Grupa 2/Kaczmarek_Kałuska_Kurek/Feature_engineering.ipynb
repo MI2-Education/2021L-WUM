{
 "cells": [
  {
   "cell_type": "markdown",
   "id": "better-distribution",
   "metadata": {},
   "source": [
    "# Feature engineering"
   ]
  },
  {
   "cell_type": "code",
   "execution_count": 1,
   "id": "endangered-worth",
   "metadata": {},
   "outputs": [
    {
     "name": "stderr",
     "output_type": "stream",
     "text": [
      "c:\\users\\gabriela kurek\\pycharmprojects\\wumpd1\\venv\\lib\\site-packages\\patsy\\constraint.py:13: DeprecationWarning: Using or importing the ABCs from 'collections' instead of from 'collections.abc' is deprecated since Python 3.3, and in 3.9 it will stop working\n",
      "  from collections import Mapping\n"
     ]
    }
   ],
   "source": [
    "import pandas as pd\n",
    "import numpy as np\n",
    "import matplotlib.pyplot as plt\n",
    "import matplotlib as mpl\n",
    "import seaborn as sns\n",
    "import pyLDAvis.sklearn\n",
    "\n",
    "from sklearn.decomposition import LatentDirichletAllocation, NMF\n",
    "from sklearn.feature_extraction.text import TfidfVectorizer, CountVectorizer\n",
    "from sklearn.cluster import KMeans, MiniBatchKMeans, AgglomerativeClustering, FeatureAgglomeration\n",
    "from sklearn.preprocessing import StandardScaler, MinMaxScaler\n",
    "from sklearn.metrics import silhouette_score, silhouette_samples, davies_bouldin_score, calinski_harabasz_score, homogeneity_score\n",
    "from sklearn.decomposition import PCA\n",
    "from sklearn.manifold import TSNE\n",
    "from scipy.cluster import hierarchy\n",
    "\n",
    "from wordcloud import WordCloud\n",
    "from textwrap import wrap\n",
    "from textblob import TextBlob\n",
    "from textstat import flesch_reading_ease, difficult_words, automated_readability_index, text_standard\n",
    "\n",
    "import nltk\n",
    "from nltk.corpus import stopwords\n",
    "\n",
    "import category_encoders as ce\n",
    "\n",
    "import re\n",
    "import warnings\n",
    "warnings.filterwarnings(\"ignore\")\n",
    "\n",
    "import random\n",
    "random.seed(123)"
   ]
  },
  {
   "cell_type": "markdown",
   "id": "lasting-recipient",
   "metadata": {},
   "source": [
    "## Wczytanie i obrobienie pliku"
   ]
  },
  {
   "cell_type": "code",
   "execution_count": 2,
   "id": "metric-oklahoma",
   "metadata": {},
   "outputs": [
    {
     "data": {
      "text/plain": [
       "'\\n§ 14.\\n'"
      ]
     },
     "execution_count": 2,
     "metadata": {},
     "output_type": "execute_result"
    }
   ],
   "source": [
    "file = open('Complete_data .txt', 'r')\n",
    "file_content = file.read()\n",
    "file.close()\n",
    "\n",
    "\n",
    "content_list = re.split('\\d+\\.\\d+', file_content)\n",
    "indices = []\n",
    "corpus = []\n",
    "for idx in range(len(content_list)):\n",
    "    stripped = content_list[idx].strip()\n",
    "    if stripped != '':\n",
    "        corpus.append(content_list[idx])\n",
    "corpus.pop(13)"
   ]
  },
  {
   "cell_type": "markdown",
   "id": "metric-increase",
   "metadata": {},
   "source": [
    "## Długości wyrazów, zdań i ilość znaków"
   ]
  },
  {
   "cell_type": "code",
   "execution_count": 3,
   "id": "suffering-running",
   "metadata": {},
   "outputs": [],
   "source": [
    "df_corpus = pd.DataFrame({'text': corpus})"
   ]
  },
  {
   "cell_type": "code",
   "execution_count": 4,
   "id": "baking-implementation",
   "metadata": {},
   "outputs": [],
   "source": [
    "df_corpus['words_count'] = df_corpus['text'].apply(lambda x: len(re.findall('[^\\d\\W]+', x)))"
   ]
  },
  {
   "cell_type": "code",
   "execution_count": 5,
   "id": "vanilla-universal",
   "metadata": {},
   "outputs": [],
   "source": [
    "df_corpus['sentences_count'] = df_corpus['text'].apply(lambda x: len(re.split('\\.{1}\\s{1}[A-Z]', x)))"
   ]
  },
  {
   "cell_type": "code",
   "execution_count": 6,
   "id": "engaging-greek",
   "metadata": {},
   "outputs": [],
   "source": [
    "df_corpus['letters_count'] = df_corpus['text'].apply(lambda x: len(re.findall('[a-z|A-Z]', x)))"
   ]
  },
  {
   "cell_type": "code",
   "execution_count": 7,
   "id": "bound-equipment",
   "metadata": {},
   "outputs": [],
   "source": [
    "df_corpus['avg_word_length'] = df_corpus['letters_count'] / df_corpus['words_count']\n",
    "df_corpus['avg_sentence_length'] = df_corpus['words_count'] / df_corpus['sentences_count']"
   ]
  },
  {
   "cell_type": "markdown",
   "id": "vulnerable-federal",
   "metadata": {},
   "source": [
    "## Zliczanie wyrazów bez stop words"
   ]
  },
  {
   "cell_type": "code",
   "execution_count": 8,
   "id": "improving-glenn",
   "metadata": {},
   "outputs": [],
   "source": [
    "c_vectorizer2 = CountVectorizer(stop_words='english', token_pattern=r\"\\b[^\\d\\W]+\\b\")\n",
    "cv2 = c_vectorizer2.fit_transform(corpus)\n",
    "\n",
    "cv_features2 = c_vectorizer2.get_feature_names()\n",
    "df_all = pd.DataFrame(cv2.toarray(), columns=list(cv_features2))"
   ]
  },
  {
   "cell_type": "code",
   "execution_count": 9,
   "id": "difficult-pitch",
   "metadata": {},
   "outputs": [],
   "source": [
    "df_corpus['words_count_wo_stopwords'] = df_all.sum(axis=1)"
   ]
  },
  {
   "cell_type": "markdown",
   "id": "distinct-category",
   "metadata": {},
   "source": [
    "Zliczenie wyrazów nie powtarzających się."
   ]
  },
  {
   "cell_type": "code",
   "execution_count": 10,
   "id": "flush-respondent",
   "metadata": {},
   "outputs": [],
   "source": [
    "arr = np.array(df_all)\n",
    "arr = arr >=1\n",
    "arr = arr.astype(int)\n",
    "\n",
    "df_ex = pd.DataFrame(arr, columns = df_all.columns)\n",
    "\n",
    "df_corpus['unique_words_count'] = df_ex.sum(axis = 1)"
   ]
  },
  {
   "cell_type": "code",
   "execution_count": 11,
   "id": "personalized-focus",
   "metadata": {},
   "outputs": [
    {
     "data": {
      "text/html": [
       "<div>\n",
       "<style scoped>\n",
       "    .dataframe tbody tr th:only-of-type {\n",
       "        vertical-align: middle;\n",
       "    }\n",
       "\n",
       "    .dataframe tbody tr th {\n",
       "        vertical-align: top;\n",
       "    }\n",
       "\n",
       "    .dataframe thead th {\n",
       "        text-align: right;\n",
       "    }\n",
       "</style>\n",
       "<table border=\"1\" class=\"dataframe\">\n",
       "  <thead>\n",
       "    <tr style=\"text-align: right;\">\n",
       "      <th></th>\n",
       "      <th>text</th>\n",
       "      <th>words_count</th>\n",
       "      <th>sentences_count</th>\n",
       "      <th>letters_count</th>\n",
       "      <th>avg_word_length</th>\n",
       "      <th>avg_sentence_length</th>\n",
       "      <th>words_count_wo_stopwords</th>\n",
       "      <th>unique_words_count</th>\n",
       "    </tr>\n",
       "  </thead>\n",
       "  <tbody>\n",
       "    <tr>\n",
       "      <th>0</th>\n",
       "      <td>\\n§ 1.The Buddha: \"What do you think, Rahula: ...</td>\n",
       "      <td>609</td>\n",
       "      <td>14</td>\n",
       "      <td>2839</td>\n",
       "      <td>4.661741</td>\n",
       "      <td>43.500000</td>\n",
       "      <td>292</td>\n",
       "      <td>82</td>\n",
       "    </tr>\n",
       "    <tr>\n",
       "      <th>1</th>\n",
       "      <td>\\n§ 2.Once the Blessed One was staying at Kosa...</td>\n",
       "      <td>272</td>\n",
       "      <td>13</td>\n",
       "      <td>1171</td>\n",
       "      <td>4.305147</td>\n",
       "      <td>20.923077</td>\n",
       "      <td>104</td>\n",
       "      <td>46</td>\n",
       "    </tr>\n",
       "    <tr>\n",
       "      <th>2</th>\n",
       "      <td>\\n§ 3.\"'Stress should be known. The cause by w...</td>\n",
       "      <td>378</td>\n",
       "      <td>15</td>\n",
       "      <td>1730</td>\n",
       "      <td>4.576720</td>\n",
       "      <td>25.200000</td>\n",
       "      <td>182</td>\n",
       "      <td>76</td>\n",
       "    </tr>\n",
       "    <tr>\n",
       "      <th>3</th>\n",
       "      <td>\\n§ 4.\"Vision arose, clear knowing arose, disc...</td>\n",
       "      <td>267</td>\n",
       "      <td>16</td>\n",
       "      <td>1239</td>\n",
       "      <td>4.640449</td>\n",
       "      <td>16.687500</td>\n",
       "      <td>120</td>\n",
       "      <td>43</td>\n",
       "    </tr>\n",
       "    <tr>\n",
       "      <th>4</th>\n",
       "      <td>\\n§ 5.Sariputta: \"There are these three forms ...</td>\n",
       "      <td>30</td>\n",
       "      <td>2</td>\n",
       "      <td>175</td>\n",
       "      <td>5.833333</td>\n",
       "      <td>15.000000</td>\n",
       "      <td>13</td>\n",
       "      <td>7</td>\n",
       "    </tr>\n",
       "    <tr>\n",
       "      <th>...</th>\n",
       "      <td>...</td>\n",
       "      <td>...</td>\n",
       "      <td>...</td>\n",
       "      <td>...</td>\n",
       "      <td>...</td>\n",
       "      <td>...</td>\n",
       "      <td>...</td>\n",
       "      <td>...</td>\n",
       "    </tr>\n",
       "    <tr>\n",
       "      <th>585</th>\n",
       "      <td>\\ncondemning both the makers and the worshippe...</td>\n",
       "      <td>540</td>\n",
       "      <td>23</td>\n",
       "      <td>2241</td>\n",
       "      <td>4.150000</td>\n",
       "      <td>23.478261</td>\n",
       "      <td>217</td>\n",
       "      <td>160</td>\n",
       "    </tr>\n",
       "    <tr>\n",
       "      <th>586</th>\n",
       "      <td>\\nworthily punished, and were destroyed by a m...</td>\n",
       "      <td>803</td>\n",
       "      <td>36</td>\n",
       "      <td>3495</td>\n",
       "      <td>4.352428</td>\n",
       "      <td>22.305556</td>\n",
       "      <td>338</td>\n",
       "      <td>215</td>\n",
       "    </tr>\n",
       "    <tr>\n",
       "      <th>587</th>\n",
       "      <td>\\n 17:1. For thy judgments, O Lord, are great,...</td>\n",
       "      <td>531</td>\n",
       "      <td>23</td>\n",
       "      <td>2411</td>\n",
       "      <td>4.540490</td>\n",
       "      <td>23.086957</td>\n",
       "      <td>208</td>\n",
       "      <td>172</td>\n",
       "    </tr>\n",
       "    <tr>\n",
       "      <th>588</th>\n",
       "      <td>\\nintercession, in the sedition on occasion of...</td>\n",
       "      <td>745</td>\n",
       "      <td>33</td>\n",
       "      <td>3302</td>\n",
       "      <td>4.432215</td>\n",
       "      <td>22.575758</td>\n",
       "      <td>311</td>\n",
       "      <td>231</td>\n",
       "    </tr>\n",
       "    <tr>\n",
       "      <th>589</th>\n",
       "      <td>\\nAll creatures obey God's orders for the serv...</td>\n",
       "      <td>618</td>\n",
       "      <td>25</td>\n",
       "      <td>2754</td>\n",
       "      <td>4.456311</td>\n",
       "      <td>24.720000</td>\n",
       "      <td>247</td>\n",
       "      <td>192</td>\n",
       "    </tr>\n",
       "  </tbody>\n",
       "</table>\n",
       "<p>590 rows × 8 columns</p>\n",
       "</div>"
      ],
      "text/plain": [
       "                                                  text  words_count  \\\n",
       "0    \\n§ 1.The Buddha: \"What do you think, Rahula: ...          609   \n",
       "1    \\n§ 2.Once the Blessed One was staying at Kosa...          272   \n",
       "2    \\n§ 3.\"'Stress should be known. The cause by w...          378   \n",
       "3    \\n§ 4.\"Vision arose, clear knowing arose, disc...          267   \n",
       "4    \\n§ 5.Sariputta: \"There are these three forms ...           30   \n",
       "..                                                 ...          ...   \n",
       "585  \\ncondemning both the makers and the worshippe...          540   \n",
       "586  \\nworthily punished, and were destroyed by a m...          803   \n",
       "587  \\n 17:1. For thy judgments, O Lord, are great,...          531   \n",
       "588  \\nintercession, in the sedition on occasion of...          745   \n",
       "589  \\nAll creatures obey God's orders for the serv...          618   \n",
       "\n",
       "     sentences_count  letters_count  avg_word_length  avg_sentence_length  \\\n",
       "0                 14           2839         4.661741            43.500000   \n",
       "1                 13           1171         4.305147            20.923077   \n",
       "2                 15           1730         4.576720            25.200000   \n",
       "3                 16           1239         4.640449            16.687500   \n",
       "4                  2            175         5.833333            15.000000   \n",
       "..               ...            ...              ...                  ...   \n",
       "585               23           2241         4.150000            23.478261   \n",
       "586               36           3495         4.352428            22.305556   \n",
       "587               23           2411         4.540490            23.086957   \n",
       "588               33           3302         4.432215            22.575758   \n",
       "589               25           2754         4.456311            24.720000   \n",
       "\n",
       "     words_count_wo_stopwords  unique_words_count  \n",
       "0                         292                  82  \n",
       "1                         104                  46  \n",
       "2                         182                  76  \n",
       "3                         120                  43  \n",
       "4                          13                   7  \n",
       "..                        ...                 ...  \n",
       "585                       217                 160  \n",
       "586                       338                 215  \n",
       "587                       208                 172  \n",
       "588                       311                 231  \n",
       "589                       247                 192  \n",
       "\n",
       "[590 rows x 8 columns]"
      ]
     },
     "execution_count": 11,
     "metadata": {},
     "output_type": "execute_result"
    }
   ],
   "source": [
    "df_corpus"
   ]
  },
  {
   "cell_type": "markdown",
   "id": "polished-hardware",
   "metadata": {},
   "source": [
    "## Analiza bloku tekstu"
   ]
  },
  {
   "cell_type": "code",
   "execution_count": 12,
   "id": "martial-france",
   "metadata": {},
   "outputs": [],
   "source": [
    "def polarity(text):\n",
    "    return TextBlob(text).sentiment.polarity\n",
    "\n",
    "def subjectivity(text):\n",
    "    return TextBlob(text).sentiment.subjectivity\n",
    "\n",
    "df_corpus['polarity'] = df_corpus['text'].apply(lambda x : polarity(x))\n",
    "df_corpus['subjectivity'] = df_corpus['text'].apply(lambda x : subjectivity(x))"
   ]
  },
  {
   "cell_type": "markdown",
   "id": "moral-latvia",
   "metadata": {},
   "source": [
    "## Analiza złożoności tekstu"
   ]
  },
  {
   "cell_type": "code",
   "execution_count": 13,
   "id": "guilty-peninsula",
   "metadata": {},
   "outputs": [],
   "source": [
    "df_corpus['FRE'] = df_corpus['text'].apply(lambda x : flesch_reading_ease(x))\n",
    "df_corpus['ARI'] = df_corpus['text'].apply(lambda x : automated_readability_index(x))"
   ]
  },
  {
   "cell_type": "markdown",
   "id": "accompanied-gambling",
   "metadata": {},
   "source": [
    "## LDA\n",
    "Czyli przypisanie tekstom tematów przewodnich."
   ]
  },
  {
   "cell_type": "code",
   "execution_count": 14,
   "id": "associate-montgomery",
   "metadata": {},
   "outputs": [],
   "source": [
    "c_vectorizer = CountVectorizer(max_df=0.9, min_df=2, stop_words='english', token_pattern=r\"\\b[^\\d\\W]+\\b\")\n",
    "cv = c_vectorizer.fit_transform(corpus)\n",
    "\n",
    "cv_features = c_vectorizer.get_feature_names()\n",
    "df_word_count = pd.DataFrame(cv.toarray(), columns=list(cv_features))"
   ]
  },
  {
   "cell_type": "code",
   "execution_count": 15,
   "id": "universal-korea",
   "metadata": {},
   "outputs": [],
   "source": [
    "lda_model = LatentDirichletAllocation(n_components=8, \n",
    "                                      learning_method='batch', \n",
    "                                      max_iter=300, \n",
    "                                      random_state=0).fit(cv)"
   ]
  },
  {
   "cell_type": "code",
   "execution_count": 16,
   "id": "demanding-needle",
   "metadata": {},
   "outputs": [],
   "source": [
    "no_top_words = 10\n",
    "def display_topics(model, feature_names, no_top_words):\n",
    "    for topic_idx, topic in enumerate(model.components_):\n",
    "        print(\"Topic %d:\" % (topic_idx))\n",
    "        print(\" \".join([feature_names[i]\n",
    "                            for i in topic.argsort()[:-no_top_words - 1:-1]]))"
   ]
  },
  {
   "cell_type": "code",
   "execution_count": 17,
   "id": "genuine-qualification",
   "metadata": {},
   "outputs": [
    {
     "name": "stdout",
     "output_type": "stream",
     "text": [
      "Topic 0:\n",
      "consciousness things spiritual object life mind perception soul attention power\n",
      "Topic 1:\n",
      "shall lord god earth things like glory great wisdom people\n",
      "Topic 2:\n",
      "shall thy man thou hath thee things god good heart\n",
      "Topic 3:\n",
      "life spiritual power self man said world mind eternal property\n",
      "Topic 4:\n",
      "stress called cessation clinging right having fabrications form feeling consciousness\n",
      "Topic 5:\n",
      "man spiritual self consciousness mind know life knowledge true nature\n",
      "Topic 6:\n",
      "mind right remains body focused discerns feeling monk qualities mindfulness\n",
      "Topic 7:\n",
      "tao does state heaven s great things men sage pleasure\n"
     ]
    }
   ],
   "source": [
    "display_topics(lda_model, c_vectorizer.get_feature_names(), no_top_words)"
   ]
  },
  {
   "cell_type": "markdown",
   "id": "portuguese-chain",
   "metadata": {},
   "source": [
    "### Proponowane przez nas tematy\n",
    "\n",
    "0. Mind Perception and Soul\n",
    "1. Lord of Earth and Wisdom\n",
    "2. Christianity - God\n",
    "3. Spiritual Power and Eternal Property\n",
    "4. Feeling and Consciousness\n",
    "5. Spiritual Man Life and Consciousness\n",
    "6. Monk - Body and Mind\n",
    "7. Tao and Heaven"
   ]
  },
  {
   "cell_type": "markdown",
   "id": "private-madonna",
   "metadata": {},
   "source": [
    "## Tf-idf\n",
    "Przypisanie w tekstach wag słowom."
   ]
  },
  {
   "cell_type": "code",
   "execution_count": 18,
   "id": "incident-issue",
   "metadata": {},
   "outputs": [],
   "source": [
    "tfidf_vectorizer = TfidfVectorizer(max_df=0.9, min_df=2, use_idf=True, stop_words='english', token_pattern=r\"\\b[^\\d\\W]+\\b\")\n",
    "\n",
    "tfidf = tfidf_vectorizer.fit_transform(corpus)\n",
    "tfidf_feature_names = tfidf_vectorizer.get_feature_names()\n",
    "\n",
    "df_tfidf = pd.DataFrame(tfidf.toarray(), columns=list(tfidf_feature_names))"
   ]
  },
  {
   "cell_type": "markdown",
   "id": "massive-string",
   "metadata": {},
   "source": [
    "### Wyznaczenie tematów z wykorzystanie ramki zawierającej wagi słów"
   ]
  },
  {
   "cell_type": "code",
   "execution_count": 19,
   "id": "passing-wireless",
   "metadata": {
    "scrolled": true
   },
   "outputs": [
    {
     "name": "stdout",
     "output_type": "stream",
     "text": [
      "Topic 0:\n",
      "shall man hath wicked god lord just wise wisdom fool\n",
      "Topic 1:\n",
      "spiritual man consciousness powers power life psychical psychic divine soul\n",
      "Topic 2:\n",
      "thy thou thee shalt let hast hath shall god lest\n",
      "Topic 3:\n",
      "mind senses intellect atman objects higher control know driver eye\n",
      "Topic 4:\n",
      "tao does things heaven great men know sage people state\n",
      "Topic 5:\n",
      "brahman said devas vayu nachiketas know replied able indra worship\n",
      "Topic 6:\n",
      "self beings eternal sees seated life atman sorrow body soul\n",
      "Topic 7:\n",
      "right stress cessation feeling consciousness fabrications noble monk concentration perception\n"
     ]
    }
   ],
   "source": [
    "nmf = NMF(n_components=8, random_state=0, alpha=.1, init='nndsvd').fit(tfidf)\n",
    "display_topics(nmf, tfidf_feature_names, no_top_words)"
   ]
  },
  {
   "cell_type": "markdown",
   "id": "computational-tucson",
   "metadata": {},
   "source": [
    "0. Lord's Wisdom\n",
    "1. Spirituality and Consciousness\n",
    "2. Christianity - God\n",
    "3. Mind and Intellect\n",
    "4. Tao does great things\n",
    "5. Brahman and Worship\n",
    "6. Hinduism - Eternal Beings \n",
    "7. Noble Monk Perception"
   ]
  },
  {
   "cell_type": "markdown",
   "id": "classified-float",
   "metadata": {},
   "source": [
    "Przypisanie tematów do tekstów."
   ]
  },
  {
   "cell_type": "code",
   "execution_count": 20,
   "id": "progressive-messaging",
   "metadata": {},
   "outputs": [],
   "source": [
    "nmf_topic_values = nmf.transform(tfidf)\n",
    "df_corpus['nmf_topics'] = nmf_topic_values.argmax(axis=1)\n",
    "lda_topic_values = lda_model.transform(cv)\n",
    "df_corpus['lda_topics'] = lda_topic_values.argmax(axis=1)\n",
    "\n",
    "nmf_remap = {0: 'Lord\\'s Wisdom', \n",
    "           1: 'Spirituality and Consciousness', \n",
    "           2: 'Christianity - God', \n",
    "           3: 'Mind and Intellect', \n",
    "           4: 'Tao does great things', \n",
    "           5: 'Brahman and Worship', \n",
    "           6: 'Hinduism - Eternal Beings', \n",
    "           7: 'Noble Monk Perception'}\n",
    "\n",
    "df_corpus['nmf_topics'] = df_corpus['nmf_topics'].map(nmf_remap)\n",
    "\n",
    "lda_remap = {0: 'Mind Perception and Soul',\n",
    "            1: 'Lord of Earth and Wisdom',\n",
    "            2: 'Christianity - God 2',\n",
    "            3: 'Spiritual Power and Eternal Property',\n",
    "            4: 'Feeling and Consciousness',\n",
    "            5: 'Spiritual Man Life and Consciousness',\n",
    "            6: 'Monk - Body and Mind',\n",
    "            7: 'Tao and Heaven'}\n",
    "\n",
    "df_corpus['lda_topics'] = df_corpus['lda_topics'].map(lda_remap)"
   ]
  },
  {
   "cell_type": "code",
   "execution_count": 21,
   "id": "deadly-ebony",
   "metadata": {},
   "outputs": [
    {
     "data": {
      "text/html": [
       "<div>\n",
       "<style scoped>\n",
       "    .dataframe tbody tr th:only-of-type {\n",
       "        vertical-align: middle;\n",
       "    }\n",
       "\n",
       "    .dataframe tbody tr th {\n",
       "        vertical-align: top;\n",
       "    }\n",
       "\n",
       "    .dataframe thead th {\n",
       "        text-align: right;\n",
       "    }\n",
       "</style>\n",
       "<table border=\"1\" class=\"dataframe\">\n",
       "  <thead>\n",
       "    <tr style=\"text-align: right;\">\n",
       "      <th></th>\n",
       "      <th>text</th>\n",
       "      <th>words_count</th>\n",
       "      <th>sentences_count</th>\n",
       "      <th>letters_count</th>\n",
       "      <th>avg_word_length</th>\n",
       "      <th>avg_sentence_length</th>\n",
       "      <th>words_count_wo_stopwords</th>\n",
       "      <th>unique_words_count</th>\n",
       "      <th>polarity</th>\n",
       "      <th>subjectivity</th>\n",
       "      <th>FRE</th>\n",
       "      <th>ARI</th>\n",
       "      <th>nmf_topics</th>\n",
       "      <th>lda_topics</th>\n",
       "    </tr>\n",
       "  </thead>\n",
       "  <tbody>\n",
       "    <tr>\n",
       "      <th>0</th>\n",
       "      <td>\\n§ 1.The Buddha: \"What do you think, Rahula: ...</td>\n",
       "      <td>609</td>\n",
       "      <td>14</td>\n",
       "      <td>2839</td>\n",
       "      <td>4.661741</td>\n",
       "      <td>43.500000</td>\n",
       "      <td>292</td>\n",
       "      <td>82</td>\n",
       "      <td>-0.059836</td>\n",
       "      <td>0.395902</td>\n",
       "      <td>38.28</td>\n",
       "      <td>19.2</td>\n",
       "      <td>Noble Monk Perception</td>\n",
       "      <td>Feeling and Consciousness</td>\n",
       "    </tr>\n",
       "    <tr>\n",
       "      <th>1</th>\n",
       "      <td>\\n§ 2.Once the Blessed One was staying at Kosa...</td>\n",
       "      <td>272</td>\n",
       "      <td>13</td>\n",
       "      <td>1171</td>\n",
       "      <td>4.305147</td>\n",
       "      <td>20.923077</td>\n",
       "      <td>104</td>\n",
       "      <td>46</td>\n",
       "      <td>0.117647</td>\n",
       "      <td>0.477941</td>\n",
       "      <td>80.01</td>\n",
       "      <td>9.0</td>\n",
       "      <td>Noble Monk Perception</td>\n",
       "      <td>Feeling and Consciousness</td>\n",
       "    </tr>\n",
       "    <tr>\n",
       "      <th>2</th>\n",
       "      <td>\\n§ 3.\"'Stress should be known. The cause by w...</td>\n",
       "      <td>378</td>\n",
       "      <td>15</td>\n",
       "      <td>1730</td>\n",
       "      <td>4.576720</td>\n",
       "      <td>25.200000</td>\n",
       "      <td>182</td>\n",
       "      <td>76</td>\n",
       "      <td>0.180979</td>\n",
       "      <td>0.547078</td>\n",
       "      <td>71.24</td>\n",
       "      <td>10.3</td>\n",
       "      <td>Noble Monk Perception</td>\n",
       "      <td>Feeling and Consciousness</td>\n",
       "    </tr>\n",
       "    <tr>\n",
       "      <th>3</th>\n",
       "      <td>\\n§ 4.\"Vision arose, clear knowing arose, disc...</td>\n",
       "      <td>267</td>\n",
       "      <td>16</td>\n",
       "      <td>1239</td>\n",
       "      <td>4.640449</td>\n",
       "      <td>16.687500</td>\n",
       "      <td>120</td>\n",
       "      <td>43</td>\n",
       "      <td>0.343080</td>\n",
       "      <td>0.664732</td>\n",
       "      <td>62.88</td>\n",
       "      <td>10.1</td>\n",
       "      <td>Noble Monk Perception</td>\n",
       "      <td>Feeling and Consciousness</td>\n",
       "    </tr>\n",
       "    <tr>\n",
       "      <th>4</th>\n",
       "      <td>\\n§ 5.Sariputta: \"There are these three forms ...</td>\n",
       "      <td>30</td>\n",
       "      <td>2</td>\n",
       "      <td>175</td>\n",
       "      <td>5.833333</td>\n",
       "      <td>15.000000</td>\n",
       "      <td>13</td>\n",
       "      <td>7</td>\n",
       "      <td>0.000000</td>\n",
       "      <td>0.000000</td>\n",
       "      <td>64.71</td>\n",
       "      <td>15.9</td>\n",
       "      <td>Noble Monk Perception</td>\n",
       "      <td>Feeling and Consciousness</td>\n",
       "    </tr>\n",
       "  </tbody>\n",
       "</table>\n",
       "</div>"
      ],
      "text/plain": [
       "                                                text  words_count  \\\n",
       "0  \\n§ 1.The Buddha: \"What do you think, Rahula: ...          609   \n",
       "1  \\n§ 2.Once the Blessed One was staying at Kosa...          272   \n",
       "2  \\n§ 3.\"'Stress should be known. The cause by w...          378   \n",
       "3  \\n§ 4.\"Vision arose, clear knowing arose, disc...          267   \n",
       "4  \\n§ 5.Sariputta: \"There are these three forms ...           30   \n",
       "\n",
       "   sentences_count  letters_count  avg_word_length  avg_sentence_length  \\\n",
       "0               14           2839         4.661741            43.500000   \n",
       "1               13           1171         4.305147            20.923077   \n",
       "2               15           1730         4.576720            25.200000   \n",
       "3               16           1239         4.640449            16.687500   \n",
       "4                2            175         5.833333            15.000000   \n",
       "\n",
       "   words_count_wo_stopwords  unique_words_count  polarity  subjectivity  \\\n",
       "0                       292                  82 -0.059836      0.395902   \n",
       "1                       104                  46  0.117647      0.477941   \n",
       "2                       182                  76  0.180979      0.547078   \n",
       "3                       120                  43  0.343080      0.664732   \n",
       "4                        13                   7  0.000000      0.000000   \n",
       "\n",
       "     FRE   ARI             nmf_topics                 lda_topics  \n",
       "0  38.28  19.2  Noble Monk Perception  Feeling and Consciousness  \n",
       "1  80.01   9.0  Noble Monk Perception  Feeling and Consciousness  \n",
       "2  71.24  10.3  Noble Monk Perception  Feeling and Consciousness  \n",
       "3  62.88  10.1  Noble Monk Perception  Feeling and Consciousness  \n",
       "4  64.71  15.9  Noble Monk Perception  Feeling and Consciousness  "
      ]
     },
     "execution_count": 21,
     "metadata": {},
     "output_type": "execute_result"
    }
   ],
   "source": [
    "df_corpus.head()"
   ]
  },
  {
   "cell_type": "markdown",
   "id": "occupational-continuity",
   "metadata": {},
   "source": [
    "## Zakodujemy kolumny z tematami"
   ]
  },
  {
   "cell_type": "code",
   "execution_count": 22,
   "id": "peaceful-impact",
   "metadata": {},
   "outputs": [],
   "source": [
    "oh = ce.OneHotEncoder(cols=['nmf_topics', 'lda_topics'], use_cat_names=True)\n",
    "\n",
    "df_corpus_enc = oh.fit_transform(df_corpus)"
   ]
  },
  {
   "cell_type": "code",
   "execution_count": 23,
   "id": "ruled-contamination",
   "metadata": {},
   "outputs": [
    {
     "data": {
      "text/plain": [
       "(590, 28)"
      ]
     },
     "execution_count": 23,
     "metadata": {},
     "output_type": "execute_result"
    }
   ],
   "source": [
    "df_corpus_enc.shape"
   ]
  },
  {
   "cell_type": "markdown",
   "id": "promising-preliminary",
   "metadata": {},
   "source": [
    "## Normalizacja wybranych cech\n",
    "Znormalizujemy kolumny które posiadają wartości z zakresu przekraczającego przedział [-1, 1].\n",
    "\n",
    "**Kolumny**:\n",
    "- `FRE`,\n",
    "- `ARI`,\n",
    "- `words_count`,\n",
    "- `sentences_count`,\n",
    "- `letters_count`,\n",
    "- `avg_word_length`,\n",
    "- `avg_sentence_length`,\n",
    "- `words_count_wo_stopwords`,\n",
    "- `unique_words_count`"
   ]
  },
  {
   "cell_type": "code",
   "execution_count": 24,
   "id": "intelligent-joshua",
   "metadata": {},
   "outputs": [],
   "source": [
    "cols_to_normalize = ['words_count', 'sentences_count', 'letters_count', 'avg_word_length',\n",
    "                     'avg_sentence_length', 'words_count_wo_stopwords', 'unique_words_count', 'ARI', 'FRE']\n",
    "\n",
    "df_corpus_enc.loc[:, cols_to_normalize] = StandardScaler().fit_transform(df_corpus_enc.loc[:, cols_to_normalize])"
   ]
  },
  {
   "cell_type": "markdown",
   "id": "ethical-forestry",
   "metadata": {},
   "source": [
    "# Klasteryzacja"
   ]
  },
  {
   "cell_type": "markdown",
   "id": "capital-intelligence",
   "metadata": {},
   "source": [
    "## KMeans"
   ]
  },
  {
   "cell_type": "markdown",
   "id": "productive-visitor",
   "metadata": {},
   "source": [
    "### Dobór liczby klastrów\n",
    "Sprawdzimy jaki podział proponują różne metody, następnie podzielimy obserwacje na klastry metodą KMeans dla wybranych liczb klastrów. Na koniec sprawdzimy accuracy dla każdego podziału.\n",
    "#### Metoda łokcia"
   ]
  },
  {
   "cell_type": "code",
   "execution_count": 25,
   "id": "abstract-possession",
   "metadata": {},
   "outputs": [],
   "source": [
    "def elbow_method(df, k_max):\n",
    "    scores = []\n",
    "    for k in range(1, k_max+1):\n",
    "        kmeans = KMeans(random_state=0, n_clusters=k).fit(df)\n",
    "        scores.append(kmeans.score(df) * -1)\n",
    "    return scores"
   ]
  },
  {
   "cell_type": "code",
   "execution_count": 26,
   "id": "complicated-above",
   "metadata": {},
   "outputs": [],
   "source": [
    "X = df_corpus_enc.iloc[:, 1:-1]\n",
    "k_max = 12\n",
    "scores = elbow_method(X, k_max)"
   ]
  },
  {
   "cell_type": "code",
   "execution_count": 27,
   "id": "extended-journalist",
   "metadata": {
    "scrolled": true
   },
   "outputs": [
    {
     "data": {
      "image/png": "[encoded data removed]",
      "text/plain": [
       "<Figure size 432x288 with 1 Axes>"
      ]
     },
     "metadata": {
      "needs_background": "light"
     },
     "output_type": "display_data"
    }
   ],
   "source": [
    "x = list(range(1,k_max + 1))\n",
    "plt.plot(x, scores)\n",
    "plt.show()"
   ]
  },
  {
   "cell_type": "markdown",
   "id": "female-hunter",
   "metadata": {},
   "source": [
    "Według tej metody powinniśmy wybrać 3 lub 4 klastry."
   ]
  },
  {
   "cell_type": "code",
   "execution_count": 28,
   "id": "distinct-portuguese",
   "metadata": {},
   "outputs": [],
   "source": [
    "def clustering_scores(X, cluster_num, model_class, score_fun):\n",
    "    if isinstance(cluster_num, int):\n",
    "        cluster_num_iter = [cluster_num]\n",
    "    else:\n",
    "        cluster_num_iter = cluster_num\n",
    "        \n",
    "    scores = []    \n",
    "    for k in cluster_num_iter:\n",
    "        model_instance = model_class(n_clusters=k)\n",
    "        labels = model_instance.fit_predict(X)\n",
    "        wcss = score_fun(X, labels)\n",
    "        scores.append(wcss)\n",
    "    \n",
    "    if isinstance(cluster_num, int):\n",
    "        return scores[0]\n",
    "    else:\n",
    "        return scores"
   ]
  },
  {
   "cell_type": "markdown",
   "id": "common-louis",
   "metadata": {},
   "source": [
    "#### Silhouette\n",
    "Im wyższy wynik tym lepszy podział.\n",
    "Widzimy na wykresie, że z tego wynika, że najlepszy jest podział na 2 lub 3 klastry."
   ]
  },
  {
   "cell_type": "code",
   "execution_count": 29,
   "id": "relevant-worry",
   "metadata": {
    "scrolled": false
   },
   "outputs": [
    {
     "data": {
      "image/png": "[encoded data removed]",
      "text/plain": [
       "<Figure size 576x432 with 1 Axes>"
      ]
     },
     "metadata": {
      "needs_background": "light"
     },
     "output_type": "display_data"
    }
   ],
   "source": [
    "figsize=[8, 6]\n",
    "\n",
    "cluster_num_seq = range(2, 11) \n",
    "silhouette_vec = clustering_scores(X, cluster_num_seq, KMeans, silhouette_score)\n",
    "f = plt.figure(figsize=figsize)\n",
    "plt.plot(cluster_num_seq, silhouette_vec, 'bx-')\n",
    "plt.xlabel('k')\n",
    "plt.ylabel('Silhouette score')\n",
    "plt.show()"
   ]
  },
  {
   "cell_type": "markdown",
   "id": "saved-projector",
   "metadata": {},
   "source": [
    "#### Davies-Bouldin\n",
    "\n",
    "Niższy wynik oznacza lepsze rozdzielenie klastrów. Zero to najlepszy możliwy wynik.\n",
    "Ponownie możemy zaobserwować, że proponowany jest podział na dwa lub 3 klastry."
   ]
  },
  {
   "cell_type": "code",
   "execution_count": 30,
   "id": "historical-finland",
   "metadata": {},
   "outputs": [
    {
     "data": {
      "image/png": "[encoded data removed]",
      "text/plain": [
       "<Figure size 576x432 with 1 Axes>"
      ]
     },
     "metadata": {
      "needs_background": "light"
     },
     "output_type": "display_data"
    }
   ],
   "source": [
    "cluster_num_seq = range(2, 11) \n",
    "db_vec = clustering_scores(X, cluster_num_seq, KMeans, davies_bouldin_score)\n",
    "f = plt.figure(figsize = figsize)\n",
    "plt.plot(cluster_num_seq, db_vec, 'bx-')\n",
    "plt.xlabel('k')\n",
    "plt.ylabel('Davies Bouldin score')\n",
    "plt.show()"
   ]
  },
  {
   "cell_type": "markdown",
   "id": "directed-thickness",
   "metadata": {},
   "source": [
    "#### Caliński -  Harabasz score\n",
    "Im wyższy wynik metryki tym lepszy podział\n",
    "\n",
    "**Zalety**\n",
    "- wynik jest wyższy dla klastrów gęstych i dobrze oddzielonych\n",
    "\n",
    "**Wady**\n",
    "- ten indeks faworyzuje klastry wypukłe\n",
    "\n",
    "W przypadku tej metryki wygląda na to, że im więcej klastrów tym lepiej."
   ]
  },
  {
   "cell_type": "code",
   "execution_count": 31,
   "id": "protected-parish",
   "metadata": {
    "scrolled": true
   },
   "outputs": [
    {
     "data": {
      "image/png": "[encoded data removed]",
      "text/plain": [
       "<Figure size 576x432 with 1 Axes>"
      ]
     },
     "metadata": {
      "needs_background": "light"
     },
     "output_type": "display_data"
    }
   ],
   "source": [
    "ch_vec = clustering_scores(X, cluster_num_seq, KMeans, calinski_harabasz_score)\n",
    "\n",
    "f = plt.figure(figsize = figsize)\n",
    "plt.plot(cluster_num_seq, ch_vec, 'bx-')\n",
    "plt.xlabel('k')\n",
    "plt.ylabel('Caliński - Harabasz score')\n",
    "plt.show()"
   ]
  },
  {
   "cell_type": "markdown",
   "id": "elegant-flower",
   "metadata": {},
   "source": [
    "Ponieważ większość metryk pomagających w doborze liczby klastrów proponowała podział na 3 lub 2 klastry. Sprawdzimy accuracy dla tego podziału."
   ]
  },
  {
   "cell_type": "markdown",
   "id": "employed-boundary",
   "metadata": {},
   "source": [
    "### Sprawdzenie accuracy\n",
    "W celu sprawdzenia poprawności naszej klasteryzacji, wczytamy etykiety.\n",
    "Będziemy sprawdzać poprawność klasteryzacji pod kątem podziału na religie, czyli możliwe są 4 kategorie.\n",
    "\n",
    "**Wczytanie etykiet**"
   ]
  },
  {
   "cell_type": "code",
   "execution_count": 32,
   "id": "other-logistics",
   "metadata": {},
   "outputs": [],
   "source": [
    "labels = pd.read_csv('AllBooks_baseline_DTM_Labelled.csv')\n",
    "labels = labels.iloc[:, 0]\n",
    "def f(x):\n",
    "    s = x.split('_')\n",
    "    return s[0]\n",
    "labels = np.vectorize(f)(labels)"
   ]
  },
  {
   "cell_type": "code",
   "execution_count": 33,
   "id": "steady-starter",
   "metadata": {},
   "outputs": [],
   "source": [
    "df_corpus_enc['label'] = labels\n",
    "df_corpus_enc['label'].unique()\n",
    "book_dict = {'Buddhism': 'Buddhism', 'TaoTeChing': 'Taoism', 'Upanishad': 'Hiduism' , 'YogaSutra': 'Hiduism',\n",
    "       'BookOfProverb': 'Christianity', 'BookOfEcclesiastes': 'Christianity', 'BookOfEccleasiasticus': 'Christianity',\n",
    "       'BookOfWisdom': 'Christianity'}\n",
    "df_corpus_enc['label'] = df_corpus_enc['label'].replace(book_dict)"
   ]
  },
  {
   "cell_type": "markdown",
   "id": "lasting-warren",
   "metadata": {},
   "source": [
    "### Funkcja licząca accuracy\n",
    "Funkcja dokonuje klasteryzacji na podaną liczbę klastrów, a następnie dla każdego klastra zlicza liczbę obserwacji z danej klasy. Klaster dostaje etykietę klasy, której obserwacji w danym klastrze jest najwięcej. \n",
    "\n",
    "Następnie określa liczbę poprawnie sklasyfikowanych obserwacji i dzieli to przez liczbę wszystkich obserwacji."
   ]
  },
  {
   "cell_type": "code",
   "execution_count": 34,
   "id": "disciplinary-timer",
   "metadata": {},
   "outputs": [
    {
     "name": "stdout",
     "output_type": "stream",
     "text": [
      "Przydzielone klasy: ['Christianity' 'Hiduism']\n",
      "Accuracy: 0.7745762711864407\n",
      "Przydzielone klasy: ['Christianity' 'Hiduism' 'Taoism']\n",
      "Accuracy: 0.8220338983050848\n"
     ]
    }
   ],
   "source": [
    "def check_accuracy(model, X, n_clusters, labels):\n",
    "    results = []\n",
    "    for k in n_clusters:\n",
    "        m = model(n_clusters=k)\n",
    "        result = m.fit_predict(X)\n",
    "        \n",
    "        lbl_dict = {}\n",
    "        for i in range(k):\n",
    "            # przypisanie etykiety dla k-tego klastra\n",
    "            lbl_dict[i] = labels.loc[result == i].groupby(by='label').size().sort_values(ascending=False).index[0]\n",
    "            \n",
    "        result = pd.DataFrame(result)\n",
    "        assigned_labels = result.replace(lbl_dict)        \n",
    "        print(f'Przydzielone klasy: {assigned_labels.iloc[:, 0].unique()}')\n",
    "        \n",
    "        accuracy = np.sum(np.array(labels) == np.array(assigned_labels)) / 590\n",
    "        print(f'Accuracy: {accuracy}')\n",
    "        \n",
    "check_accuracy(KMeans, X, [2, 3], df_corpus_enc)"
   ]
  },
  {
   "cell_type": "markdown",
   "id": "premier-respect",
   "metadata": {},
   "source": [
    "## PCA\n",
    "\n",
    "Spróbujemy zredukować wymiarowość ramki stosując PCA."
   ]
  },
  {
   "cell_type": "code",
   "execution_count": 35,
   "id": "introductory-recall",
   "metadata": {},
   "outputs": [],
   "source": [
    "pca = PCA().fit(X)"
   ]
  },
  {
   "cell_type": "code",
   "execution_count": 36,
   "id": "attempted-priority",
   "metadata": {
    "scrolled": false
   },
   "outputs": [
    {
     "data": {
      "image/png": "[encoded data removed]",
      "text/plain": [
       "<Figure size 648x432 with 1 Axes>"
      ]
     },
     "metadata": {
      "needs_background": "light"
     },
     "output_type": "display_data"
    }
   ],
   "source": [
    "plt.figure(figsize=(9,6))\n",
    "plt.plot(range(1, len(pca.explained_variance_ratio_)+1), np.cumsum(pca.explained_variance_ratio_),marker='x')\n",
    "plt.xlabel('number of components')\n",
    "plt.ylabel('cumulative explained variance');"
   ]
  },
  {
   "cell_type": "markdown",
   "id": "compatible-potential",
   "metadata": {},
   "source": [
    "Wynik jest ciekawy, okazuje się, że możemy zredukować nasze dane do dwóch wymiarów."
   ]
  },
  {
   "cell_type": "code",
   "execution_count": 37,
   "id": "level-november",
   "metadata": {},
   "outputs": [],
   "source": [
    "X_pca = PCA(n_components=2).fit_transform(X)"
   ]
  },
  {
   "cell_type": "code",
   "execution_count": 38,
   "id": "allied-webcam",
   "metadata": {},
   "outputs": [],
   "source": [
    "X_pca = pd.DataFrame({'x': X_pca[:, 0], 'y': X_pca[:, 1], 'label': df_corpus_enc['label']})"
   ]
  },
  {
   "cell_type": "code",
   "execution_count": 39,
   "id": "irish-belief",
   "metadata": {},
   "outputs": [],
   "source": [
    "def plot_kmeans_clusters(X, n_clusters):\n",
    "    kmeans = KMeans(n_clusters=n_clusters, random_state=0)\n",
    "    kmeans.fit(X)\n",
    "    y_kmeans = kmeans.predict(X)\n",
    "    plt.scatter(X.iloc[:, 0], X.iloc[:, 1], c=y_kmeans, s=30, cmap='viridis')\n",
    "\n",
    "    centers = kmeans.cluster_centers_\n",
    "    plt.scatter(centers[:, 0], centers[:, 1], c='black', s=200, alpha=0.75)\n",
    "    plt.title('K-means clusters')\n",
    "    plt.show()"
   ]
  },
  {
   "cell_type": "code",
   "execution_count": 40,
   "id": "desirable-album",
   "metadata": {},
   "outputs": [
    {
     "data": {
      "image/png": "[encoded data removed]",
      "text/plain": [
       "<Figure size 432x288 with 1 Axes>"
      ]
     },
     "metadata": {
      "needs_background": "light"
     },
     "output_type": "display_data"
    }
   ],
   "source": [
    "plot_kmeans_clusters(X_pca.loc[:, ['x', 'y']], 2)"
   ]
  },
  {
   "cell_type": "code",
   "execution_count": 41,
   "id": "included-cycle",
   "metadata": {
    "scrolled": true
   },
   "outputs": [
    {
     "data": {
      "image/png": "[encoded data removed]",
      "text/plain": [
       "<Figure size 432x288 with 1 Axes>"
      ]
     },
     "metadata": {
      "needs_background": "light"
     },
     "output_type": "display_data"
    }
   ],
   "source": [
    "plot_kmeans_clusters(X_pca.loc[:, ['x', 'y']], 3)"
   ]
  },
  {
   "cell_type": "code",
   "execution_count": 42,
   "id": "integrated-prairie",
   "metadata": {
    "scrolled": true
   },
   "outputs": [
    {
     "data": {
      "image/png": "[encoded data removed]",
      "text/plain": [
       "<Figure size 720x576 with 1 Axes>"
      ]
     },
     "metadata": {
      "needs_background": "light"
     },
     "output_type": "display_data"
    }
   ],
   "source": [
    "f = plt.figure(figsize=[10, 8])\n",
    "sns.scatterplot(data=X_pca, x='x', y='y', hue='label')\n",
    "plt.show()"
   ]
  },
  {
   "cell_type": "markdown",
   "id": "australian-playing",
   "metadata": {},
   "source": [
    "## Obserwacje\n",
    "Najbardziej od wszystkich odstają teksty chrześcijańskie. Ciężko jest znaleźć granicę między tekstami innych religii, szczególnie, że tekstów z hinduizmu jest dużo więcej niż taoizmu i buddyzmu. \n",
    "\n",
    "W miarę dobrym podziałem jest klasteryzacja przy pomocy KMeans na trzy klastry."
   ]
  },
  {
   "cell_type": "markdown",
   "id": "specified-settle",
   "metadata": {},
   "source": [
    "## TSNE"
   ]
  },
  {
   "cell_type": "code",
   "execution_count": 43,
   "id": "dried-aside",
   "metadata": {
    "scrolled": true
   },
   "outputs": [
    {
     "name": "stdout",
     "output_type": "stream",
     "text": [
      "[t-SNE] Computing 91 nearest neighbors...\n",
      "[t-SNE] Indexed 590 samples in 0.001s...\n",
      "[t-SNE] Computed neighbors for 590 samples in 0.024s...\n",
      "[t-SNE] Computed conditional probabilities for sample 590 / 590\n",
      "[t-SNE] Mean sigma: 0.865664\n",
      "[t-SNE] KL divergence after 250 iterations with early exaggeration: 62.847153\n",
      "[t-SNE] KL divergence after 1000 iterations: 0.570289\n"
     ]
    },
    {
     "data": {
      "image/png": "[encoded data removed]",
      "text/plain": [
       "<Figure size 720x576 with 1 Axes>"
      ]
     },
     "metadata": {
      "needs_background": "light"
     },
     "output_type": "display_data"
    }
   ],
   "source": [
    "random_state = 156897\n",
    "plt.figure(figsize=[10, 8])\n",
    "tSNE = TSNE(random_state=random_state, verbose=1)\n",
    "t = tSNE.fit_transform(X)\n",
    "t = pd.DataFrame({'x': t[:, 0], 'y': t[:, 1], 'color': df_corpus_enc['label']})\n",
    "sns.scatterplot(data=t, x='x', y='y', hue='color')\n",
    "plt.show()"
   ]
  },
  {
   "cell_type": "markdown",
   "id": "affecting-notification",
   "metadata": {},
   "source": [
    "Wizualizacja pokazuje, że są widoczne różnice pomiędzy tekstami. Najbardziej oddalone od pozostałych są teksty chrześcijańskie. "
   ]
  },
  {
   "cell_type": "markdown",
   "id": "revised-weekend",
   "metadata": {},
   "source": [
    "## Klasteryzacja hierarchiczna \n",
    "### Ustalenie liczby klastrów"
   ]
  },
  {
   "cell_type": "code",
   "execution_count": 44,
   "id": "mexican-constant",
   "metadata": {},
   "outputs": [],
   "source": [
    "df_encoded = pd.read_csv(\"df_corpus_encoded.csv\")\n",
    "df_encoded = df_encoded.iloc[:,2:]\n",
    "df = pd.read_csv(\"AllBooks_baseline_DTM_Unlabelled.csv\")"
   ]
  },
  {
   "cell_type": "code",
   "execution_count": 45,
   "id": "norman-conviction",
   "metadata": {},
   "outputs": [
    {
     "data": {
      "text/html": [
       "<div>\n",
       "<style scoped>\n",
       "    .dataframe tbody tr th:only-of-type {\n",
       "        vertical-align: middle;\n",
       "    }\n",
       "\n",
       "    .dataframe tbody tr th {\n",
       "        vertical-align: top;\n",
       "    }\n",
       "\n",
       "    .dataframe thead th {\n",
       "        text-align: right;\n",
       "    }\n",
       "</style>\n",
       "<table border=\"1\" class=\"dataframe\">\n",
       "  <thead>\n",
       "    <tr style=\"text-align: right;\">\n",
       "      <th></th>\n",
       "      <th>words_count</th>\n",
       "      <th>sentences_count</th>\n",
       "      <th>letters_count</th>\n",
       "      <th>avg_word_length</th>\n",
       "      <th>avg_sentence_length</th>\n",
       "      <th>words_count_wo_stopwords</th>\n",
       "      <th>unique_words_count</th>\n",
       "      <th>polarity</th>\n",
       "      <th>subjectivity</th>\n",
       "      <th>FRE</th>\n",
       "      <th>...</th>\n",
       "      <th>nmf_topics_Christianity - God</th>\n",
       "      <th>nmf_topics_Spirituality and Consciousness</th>\n",
       "      <th>lda_topics_Feeling and Consciousness</th>\n",
       "      <th>lda_topics_Spiritual Power and Eternal Property</th>\n",
       "      <th>lda_topics_Monk - Body and Mind</th>\n",
       "      <th>lda_topics_Spiritual Man Life and Consciousness</th>\n",
       "      <th>lda_topics_Mind Perception and Soul</th>\n",
       "      <th>lda_topics_Tao and Heaven</th>\n",
       "      <th>lda_topics_Lord of Earth and Wisdom</th>\n",
       "      <th>lda_topics_Christianity - God 2</th>\n",
       "    </tr>\n",
       "  </thead>\n",
       "  <tbody>\n",
       "    <tr>\n",
       "      <th>0</th>\n",
       "      <td>1.717756</td>\n",
       "      <td>0.451745</td>\n",
       "      <td>1.962226</td>\n",
       "      <td>0.517320</td>\n",
       "      <td>-0.186452</td>\n",
       "      <td>2.003568</td>\n",
       "      <td>0.306691</td>\n",
       "      <td>-0.059836</td>\n",
       "      <td>0.395902</td>\n",
       "      <td>0.157529</td>\n",
       "      <td>...</td>\n",
       "      <td>0</td>\n",
       "      <td>0</td>\n",
       "      <td>1</td>\n",
       "      <td>0</td>\n",
       "      <td>0</td>\n",
       "      <td>0</td>\n",
       "      <td>0</td>\n",
       "      <td>0</td>\n",
       "      <td>0</td>\n",
       "      <td>0</td>\n",
       "    </tr>\n",
       "    <tr>\n",
       "      <th>1</th>\n",
       "      <td>0.243078</td>\n",
       "      <td>0.368246</td>\n",
       "      <td>0.239948</td>\n",
       "      <td>-0.357043</td>\n",
       "      <td>-0.637340</td>\n",
       "      <td>0.109040</td>\n",
       "      <td>-0.316551</td>\n",
       "      <td>0.117647</td>\n",
       "      <td>0.477941</td>\n",
       "      <td>0.925323</td>\n",
       "      <td>...</td>\n",
       "      <td>0</td>\n",
       "      <td>0</td>\n",
       "      <td>1</td>\n",
       "      <td>0</td>\n",
       "      <td>0</td>\n",
       "      <td>0</td>\n",
       "      <td>0</td>\n",
       "      <td>0</td>\n",
       "      <td>0</td>\n",
       "      <td>0</td>\n",
       "    </tr>\n",
       "    <tr>\n",
       "      <th>2</th>\n",
       "      <td>0.706923</td>\n",
       "      <td>0.535244</td>\n",
       "      <td>0.817139</td>\n",
       "      <td>0.308850</td>\n",
       "      <td>-0.551925</td>\n",
       "      <td>0.895067</td>\n",
       "      <td>0.202818</td>\n",
       "      <td>0.180979</td>\n",
       "      <td>0.547078</td>\n",
       "      <td>0.763963</td>\n",
       "      <td>...</td>\n",
       "      <td>0</td>\n",
       "      <td>0</td>\n",
       "      <td>1</td>\n",
       "      <td>0</td>\n",
       "      <td>0</td>\n",
       "      <td>0</td>\n",
       "      <td>0</td>\n",
       "      <td>0</td>\n",
       "      <td>0</td>\n",
       "      <td>0</td>\n",
       "    </tr>\n",
       "    <tr>\n",
       "      <th>3</th>\n",
       "      <td>0.221198</td>\n",
       "      <td>0.618743</td>\n",
       "      <td>0.310161</td>\n",
       "      <td>0.465115</td>\n",
       "      <td>-0.721929</td>\n",
       "      <td>0.270276</td>\n",
       "      <td>-0.368487</td>\n",
       "      <td>0.343080</td>\n",
       "      <td>0.664732</td>\n",
       "      <td>0.610146</td>\n",
       "      <td>...</td>\n",
       "      <td>0</td>\n",
       "      <td>0</td>\n",
       "      <td>1</td>\n",
       "      <td>0</td>\n",
       "      <td>0</td>\n",
       "      <td>0</td>\n",
       "      <td>0</td>\n",
       "      <td>0</td>\n",
       "      <td>0</td>\n",
       "      <td>0</td>\n",
       "    </tr>\n",
       "    <tr>\n",
       "      <th>4</th>\n",
       "      <td>-0.815890</td>\n",
       "      <td>-0.550246</td>\n",
       "      <td>-0.788462</td>\n",
       "      <td>3.390052</td>\n",
       "      <td>-0.755631</td>\n",
       "      <td>-0.807993</td>\n",
       "      <td>-0.991729</td>\n",
       "      <td>0.000000</td>\n",
       "      <td>0.000000</td>\n",
       "      <td>0.643817</td>\n",
       "      <td>...</td>\n",
       "      <td>0</td>\n",
       "      <td>0</td>\n",
       "      <td>1</td>\n",
       "      <td>0</td>\n",
       "      <td>0</td>\n",
       "      <td>0</td>\n",
       "      <td>0</td>\n",
       "      <td>0</td>\n",
       "      <td>0</td>\n",
       "      <td>0</td>\n",
       "    </tr>\n",
       "    <tr>\n",
       "      <th>...</th>\n",
       "      <td>...</td>\n",
       "      <td>...</td>\n",
       "      <td>...</td>\n",
       "      <td>...</td>\n",
       "      <td>...</td>\n",
       "      <td>...</td>\n",
       "      <td>...</td>\n",
       "      <td>...</td>\n",
       "      <td>...</td>\n",
       "      <td>...</td>\n",
       "      <td>...</td>\n",
       "      <td>...</td>\n",
       "      <td>...</td>\n",
       "      <td>...</td>\n",
       "      <td>...</td>\n",
       "      <td>...</td>\n",
       "      <td>...</td>\n",
       "      <td>...</td>\n",
       "      <td>...</td>\n",
       "      <td>...</td>\n",
       "      <td>...</td>\n",
       "    </tr>\n",
       "    <tr>\n",
       "      <th>585</th>\n",
       "      <td>1.415819</td>\n",
       "      <td>1.203238</td>\n",
       "      <td>1.344767</td>\n",
       "      <td>-0.737462</td>\n",
       "      <td>-0.586310</td>\n",
       "      <td>1.247772</td>\n",
       "      <td>1.657049</td>\n",
       "      <td>0.010802</td>\n",
       "      <td>0.569444</td>\n",
       "      <td>0.781442</td>\n",
       "      <td>...</td>\n",
       "      <td>1</td>\n",
       "      <td>0</td>\n",
       "      <td>0</td>\n",
       "      <td>0</td>\n",
       "      <td>0</td>\n",
       "      <td>0</td>\n",
       "      <td>0</td>\n",
       "      <td>0</td>\n",
       "      <td>0</td>\n",
       "      <td>1</td>\n",
       "    </tr>\n",
       "    <tr>\n",
       "      <th>586</th>\n",
       "      <td>2.566680</td>\n",
       "      <td>2.288728</td>\n",
       "      <td>2.639573</td>\n",
       "      <td>-0.241110</td>\n",
       "      <td>-0.609730</td>\n",
       "      <td>2.467122</td>\n",
       "      <td>2.609224</td>\n",
       "      <td>0.133667</td>\n",
       "      <td>0.569179</td>\n",
       "      <td>0.792666</td>\n",
       "      <td>...</td>\n",
       "      <td>1</td>\n",
       "      <td>0</td>\n",
       "      <td>0</td>\n",
       "      <td>0</td>\n",
       "      <td>0</td>\n",
       "      <td>0</td>\n",
       "      <td>0</td>\n",
       "      <td>0</td>\n",
       "      <td>0</td>\n",
       "      <td>1</td>\n",
       "    </tr>\n",
       "    <tr>\n",
       "      <th>587</th>\n",
       "      <td>1.376435</td>\n",
       "      <td>1.203238</td>\n",
       "      <td>1.520299</td>\n",
       "      <td>0.220014</td>\n",
       "      <td>-0.594125</td>\n",
       "      <td>1.157076</td>\n",
       "      <td>1.864796</td>\n",
       "      <td>-0.076437</td>\n",
       "      <td>0.650194</td>\n",
       "      <td>0.768379</td>\n",
       "      <td>...</td>\n",
       "      <td>0</td>\n",
       "      <td>0</td>\n",
       "      <td>0</td>\n",
       "      <td>0</td>\n",
       "      <td>0</td>\n",
       "      <td>0</td>\n",
       "      <td>0</td>\n",
       "      <td>0</td>\n",
       "      <td>0</td>\n",
       "      <td>1</td>\n",
       "    </tr>\n",
       "    <tr>\n",
       "      <th>588</th>\n",
       "      <td>2.312878</td>\n",
       "      <td>2.038230</td>\n",
       "      <td>2.440293</td>\n",
       "      <td>-0.045474</td>\n",
       "      <td>-0.604334</td>\n",
       "      <td>2.195036</td>\n",
       "      <td>2.886220</td>\n",
       "      <td>0.042108</td>\n",
       "      <td>0.597840</td>\n",
       "      <td>0.800209</td>\n",
       "      <td>...</td>\n",
       "      <td>1</td>\n",
       "      <td>0</td>\n",
       "      <td>0</td>\n",
       "      <td>0</td>\n",
       "      <td>0</td>\n",
       "      <td>0</td>\n",
       "      <td>0</td>\n",
       "      <td>0</td>\n",
       "      <td>0</td>\n",
       "      <td>1</td>\n",
       "    </tr>\n",
       "    <tr>\n",
       "      <th>589</th>\n",
       "      <td>1.757139</td>\n",
       "      <td>1.370237</td>\n",
       "      <td>1.874460</td>\n",
       "      <td>0.013609</td>\n",
       "      <td>-0.561511</td>\n",
       "      <td>1.550090</td>\n",
       "      <td>2.211041</td>\n",
       "      <td>0.226126</td>\n",
       "      <td>0.594069</td>\n",
       "      <td>0.740412</td>\n",
       "      <td>...</td>\n",
       "      <td>1</td>\n",
       "      <td>0</td>\n",
       "      <td>0</td>\n",
       "      <td>0</td>\n",
       "      <td>0</td>\n",
       "      <td>0</td>\n",
       "      <td>0</td>\n",
       "      <td>0</td>\n",
       "      <td>0</td>\n",
       "      <td>1</td>\n",
       "    </tr>\n",
       "  </tbody>\n",
       "</table>\n",
       "<p>590 rows × 27 columns</p>\n",
       "</div>"
      ],
      "text/plain": [
       "     words_count  sentences_count  letters_count  avg_word_length  \\\n",
       "0       1.717756         0.451745       1.962226         0.517320   \n",
       "1       0.243078         0.368246       0.239948        -0.357043   \n",
       "2       0.706923         0.535244       0.817139         0.308850   \n",
       "3       0.221198         0.618743       0.310161         0.465115   \n",
       "4      -0.815890        -0.550246      -0.788462         3.390052   \n",
       "..           ...              ...            ...              ...   \n",
       "585     1.415819         1.203238       1.344767        -0.737462   \n",
       "586     2.566680         2.288728       2.639573        -0.241110   \n",
       "587     1.376435         1.203238       1.520299         0.220014   \n",
       "588     2.312878         2.038230       2.440293        -0.045474   \n",
       "589     1.757139         1.370237       1.874460         0.013609   \n",
       "\n",
       "     avg_sentence_length  words_count_wo_stopwords  unique_words_count  \\\n",
       "0              -0.186452                  2.003568            0.306691   \n",
       "1              -0.637340                  0.109040           -0.316551   \n",
       "2              -0.551925                  0.895067            0.202818   \n",
       "3              -0.721929                  0.270276           -0.368487   \n",
       "4              -0.755631                 -0.807993           -0.991729   \n",
       "..                   ...                       ...                 ...   \n",
       "585            -0.586310                  1.247772            1.657049   \n",
       "586            -0.609730                  2.467122            2.609224   \n",
       "587            -0.594125                  1.157076            1.864796   \n",
       "588            -0.604334                  2.195036            2.886220   \n",
       "589            -0.561511                  1.550090            2.211041   \n",
       "\n",
       "     polarity  subjectivity       FRE  ...  nmf_topics_Christianity - God  \\\n",
       "0   -0.059836      0.395902  0.157529  ...                              0   \n",
       "1    0.117647      0.477941  0.925323  ...                              0   \n",
       "2    0.180979      0.547078  0.763963  ...                              0   \n",
       "3    0.343080      0.664732  0.610146  ...                              0   \n",
       "4    0.000000      0.000000  0.643817  ...                              0   \n",
       "..        ...           ...       ...  ...                            ...   \n",
       "585  0.010802      0.569444  0.781442  ...                              1   \n",
       "586  0.133667      0.569179  0.792666  ...                              1   \n",
       "587 -0.076437      0.650194  0.768379  ...                              0   \n",
       "588  0.042108      0.597840  0.800209  ...                              1   \n",
       "589  0.226126      0.594069  0.740412  ...                              1   \n",
       "\n",
       "     nmf_topics_Spirituality and Consciousness  \\\n",
       "0                                            0   \n",
       "1                                            0   \n",
       "2                                            0   \n",
       "3                                            0   \n",
       "4                                            0   \n",
       "..                                         ...   \n",
       "585                                          0   \n",
       "586                                          0   \n",
       "587                                          0   \n",
       "588                                          0   \n",
       "589                                          0   \n",
       "\n",
       "     lda_topics_Feeling and Consciousness  \\\n",
       "0                                       1   \n",
       "1                                       1   \n",
       "2                                       1   \n",
       "3                                       1   \n",
       "4                                       1   \n",
       "..                                    ...   \n",
       "585                                     0   \n",
       "586                                     0   \n",
       "587                                     0   \n",
       "588                                     0   \n",
       "589                                     0   \n",
       "\n",
       "     lda_topics_Spiritual Power and Eternal Property  \\\n",
       "0                                                  0   \n",
       "1                                                  0   \n",
       "2                                                  0   \n",
       "3                                                  0   \n",
       "4                                                  0   \n",
       "..                                               ...   \n",
       "585                                                0   \n",
       "586                                                0   \n",
       "587                                                0   \n",
       "588                                                0   \n",
       "589                                                0   \n",
       "\n",
       "     lda_topics_Monk - Body and Mind  \\\n",
       "0                                  0   \n",
       "1                                  0   \n",
       "2                                  0   \n",
       "3                                  0   \n",
       "4                                  0   \n",
       "..                               ...   \n",
       "585                                0   \n",
       "586                                0   \n",
       "587                                0   \n",
       "588                                0   \n",
       "589                                0   \n",
       "\n",
       "     lda_topics_Spiritual Man Life and Consciousness  \\\n",
       "0                                                  0   \n",
       "1                                                  0   \n",
       "2                                                  0   \n",
       "3                                                  0   \n",
       "4                                                  0   \n",
       "..                                               ...   \n",
       "585                                                0   \n",
       "586                                                0   \n",
       "587                                                0   \n",
       "588                                                0   \n",
       "589                                                0   \n",
       "\n",
       "     lda_topics_Mind Perception and Soul  lda_topics_Tao and Heaven  \\\n",
       "0                                      0                          0   \n",
       "1                                      0                          0   \n",
       "2                                      0                          0   \n",
       "3                                      0                          0   \n",
       "4                                      0                          0   \n",
       "..                                   ...                        ...   \n",
       "585                                    0                          0   \n",
       "586                                    0                          0   \n",
       "587                                    0                          0   \n",
       "588                                    0                          0   \n",
       "589                                    0                          0   \n",
       "\n",
       "     lda_topics_Lord of Earth and Wisdom  lda_topics_Christianity - God 2  \n",
       "0                                      0                                0  \n",
       "1                                      0                                0  \n",
       "2                                      0                                0  \n",
       "3                                      0                                0  \n",
       "4                                      0                                0  \n",
       "..                                   ...                              ...  \n",
       "585                                    0                                1  \n",
       "586                                    0                                1  \n",
       "587                                    0                                1  \n",
       "588                                    0                                1  \n",
       "589                                    0                                1  \n",
       "\n",
       "[590 rows x 27 columns]"
      ]
     },
     "execution_count": 45,
     "metadata": {},
     "output_type": "execute_result"
    }
   ],
   "source": [
    "df_encoded"
   ]
  },
  {
   "cell_type": "code",
   "execution_count": 46,
   "id": "little-zoning",
   "metadata": {},
   "outputs": [
    {
     "data": {
      "text/html": [
       "<div>\n",
       "<style scoped>\n",
       "    .dataframe tbody tr th:only-of-type {\n",
       "        vertical-align: middle;\n",
       "    }\n",
       "\n",
       "    .dataframe tbody tr th {\n",
       "        vertical-align: top;\n",
       "    }\n",
       "\n",
       "    .dataframe thead th {\n",
       "        text-align: right;\n",
       "    }\n",
       "</style>\n",
       "<table border=\"1\" class=\"dataframe\">\n",
       "  <thead>\n",
       "    <tr style=\"text-align: right;\">\n",
       "      <th></th>\n",
       "      <th>words_count</th>\n",
       "      <th>sentences_count</th>\n",
       "      <th>letters_count</th>\n",
       "      <th>avg_word_length</th>\n",
       "      <th>avg_sentence_length</th>\n",
       "      <th>words_count_wo_stopwords</th>\n",
       "      <th>unique_words_count</th>\n",
       "      <th>polarity</th>\n",
       "      <th>subjectivity</th>\n",
       "      <th>FRE</th>\n",
       "      <th>...</th>\n",
       "      <th>lda_topics_Feeling and Consciousness</th>\n",
       "      <th>lda_topics_Spiritual Power and Eternal Property</th>\n",
       "      <th>lda_topics_Monk - Body and Mind</th>\n",
       "      <th>lda_topics_Spiritual Man Life and Consciousness</th>\n",
       "      <th>lda_topics_Mind Perception and Soul</th>\n",
       "      <th>lda_topics_Tao and Heaven</th>\n",
       "      <th>lda_topics_Lord of Earth and Wisdom</th>\n",
       "      <th>lda_topics_Christianity - God 2</th>\n",
       "      <th>label</th>\n",
       "      <th>label_num</th>\n",
       "    </tr>\n",
       "  </thead>\n",
       "  <tbody>\n",
       "    <tr>\n",
       "      <th>0</th>\n",
       "      <td>1.717756</td>\n",
       "      <td>0.451745</td>\n",
       "      <td>1.962226</td>\n",
       "      <td>0.517320</td>\n",
       "      <td>-0.186452</td>\n",
       "      <td>2.003568</td>\n",
       "      <td>0.306691</td>\n",
       "      <td>-0.059836</td>\n",
       "      <td>0.395902</td>\n",
       "      <td>0.157529</td>\n",
       "      <td>...</td>\n",
       "      <td>1</td>\n",
       "      <td>0</td>\n",
       "      <td>0</td>\n",
       "      <td>0</td>\n",
       "      <td>0</td>\n",
       "      <td>0</td>\n",
       "      <td>0</td>\n",
       "      <td>0</td>\n",
       "      <td>Buddhism</td>\n",
       "      <td>3</td>\n",
       "    </tr>\n",
       "    <tr>\n",
       "      <th>1</th>\n",
       "      <td>0.243078</td>\n",
       "      <td>0.368246</td>\n",
       "      <td>0.239948</td>\n",
       "      <td>-0.357043</td>\n",
       "      <td>-0.637340</td>\n",
       "      <td>0.109040</td>\n",
       "      <td>-0.316551</td>\n",
       "      <td>0.117647</td>\n",
       "      <td>0.477941</td>\n",
       "      <td>0.925323</td>\n",
       "      <td>...</td>\n",
       "      <td>1</td>\n",
       "      <td>0</td>\n",
       "      <td>0</td>\n",
       "      <td>0</td>\n",
       "      <td>0</td>\n",
       "      <td>0</td>\n",
       "      <td>0</td>\n",
       "      <td>0</td>\n",
       "      <td>Buddhism</td>\n",
       "      <td>3</td>\n",
       "    </tr>\n",
       "    <tr>\n",
       "      <th>2</th>\n",
       "      <td>0.706923</td>\n",
       "      <td>0.535244</td>\n",
       "      <td>0.817139</td>\n",
       "      <td>0.308850</td>\n",
       "      <td>-0.551925</td>\n",
       "      <td>0.895067</td>\n",
       "      <td>0.202818</td>\n",
       "      <td>0.180979</td>\n",
       "      <td>0.547078</td>\n",
       "      <td>0.763963</td>\n",
       "      <td>...</td>\n",
       "      <td>1</td>\n",
       "      <td>0</td>\n",
       "      <td>0</td>\n",
       "      <td>0</td>\n",
       "      <td>0</td>\n",
       "      <td>0</td>\n",
       "      <td>0</td>\n",
       "      <td>0</td>\n",
       "      <td>Buddhism</td>\n",
       "      <td>3</td>\n",
       "    </tr>\n",
       "    <tr>\n",
       "      <th>3</th>\n",
       "      <td>0.221198</td>\n",
       "      <td>0.618743</td>\n",
       "      <td>0.310161</td>\n",
       "      <td>0.465115</td>\n",
       "      <td>-0.721929</td>\n",
       "      <td>0.270276</td>\n",
       "      <td>-0.368487</td>\n",
       "      <td>0.343080</td>\n",
       "      <td>0.664732</td>\n",
       "      <td>0.610146</td>\n",
       "      <td>...</td>\n",
       "      <td>1</td>\n",
       "      <td>0</td>\n",
       "      <td>0</td>\n",
       "      <td>0</td>\n",
       "      <td>0</td>\n",
       "      <td>0</td>\n",
       "      <td>0</td>\n",
       "      <td>0</td>\n",
       "      <td>Buddhism</td>\n",
       "      <td>3</td>\n",
       "    </tr>\n",
       "    <tr>\n",
       "      <th>4</th>\n",
       "      <td>-0.815890</td>\n",
       "      <td>-0.550246</td>\n",
       "      <td>-0.788462</td>\n",
       "      <td>3.390052</td>\n",
       "      <td>-0.755631</td>\n",
       "      <td>-0.807993</td>\n",
       "      <td>-0.991729</td>\n",
       "      <td>0.000000</td>\n",
       "      <td>0.000000</td>\n",
       "      <td>0.643817</td>\n",
       "      <td>...</td>\n",
       "      <td>1</td>\n",
       "      <td>0</td>\n",
       "      <td>0</td>\n",
       "      <td>0</td>\n",
       "      <td>0</td>\n",
       "      <td>0</td>\n",
       "      <td>0</td>\n",
       "      <td>0</td>\n",
       "      <td>Buddhism</td>\n",
       "      <td>3</td>\n",
       "    </tr>\n",
       "    <tr>\n",
       "      <th>...</th>\n",
       "      <td>...</td>\n",
       "      <td>...</td>\n",
       "      <td>...</td>\n",
       "      <td>...</td>\n",
       "      <td>...</td>\n",
       "      <td>...</td>\n",
       "      <td>...</td>\n",
       "      <td>...</td>\n",
       "      <td>...</td>\n",
       "      <td>...</td>\n",
       "      <td>...</td>\n",
       "      <td>...</td>\n",
       "      <td>...</td>\n",
       "      <td>...</td>\n",
       "      <td>...</td>\n",
       "      <td>...</td>\n",
       "      <td>...</td>\n",
       "      <td>...</td>\n",
       "      <td>...</td>\n",
       "      <td>...</td>\n",
       "      <td>...</td>\n",
       "    </tr>\n",
       "    <tr>\n",
       "      <th>585</th>\n",
       "      <td>1.415819</td>\n",
       "      <td>1.203238</td>\n",
       "      <td>1.344767</td>\n",
       "      <td>-0.737462</td>\n",
       "      <td>-0.586310</td>\n",
       "      <td>1.247772</td>\n",
       "      <td>1.657049</td>\n",
       "      <td>0.010802</td>\n",
       "      <td>0.569444</td>\n",
       "      <td>0.781442</td>\n",
       "      <td>...</td>\n",
       "      <td>0</td>\n",
       "      <td>0</td>\n",
       "      <td>0</td>\n",
       "      <td>0</td>\n",
       "      <td>0</td>\n",
       "      <td>0</td>\n",
       "      <td>0</td>\n",
       "      <td>1</td>\n",
       "      <td>Christianity</td>\n",
       "      <td>1</td>\n",
       "    </tr>\n",
       "    <tr>\n",
       "      <th>586</th>\n",
       "      <td>2.566680</td>\n",
       "      <td>2.288728</td>\n",
       "      <td>2.639573</td>\n",
       "      <td>-0.241110</td>\n",
       "      <td>-0.609730</td>\n",
       "      <td>2.467122</td>\n",
       "      <td>2.609224</td>\n",
       "      <td>0.133667</td>\n",
       "      <td>0.569179</td>\n",
       "      <td>0.792666</td>\n",
       "      <td>...</td>\n",
       "      <td>0</td>\n",
       "      <td>0</td>\n",
       "      <td>0</td>\n",
       "      <td>0</td>\n",
       "      <td>0</td>\n",
       "      <td>0</td>\n",
       "      <td>0</td>\n",
       "      <td>1</td>\n",
       "      <td>Christianity</td>\n",
       "      <td>1</td>\n",
       "    </tr>\n",
       "    <tr>\n",
       "      <th>587</th>\n",
       "      <td>1.376435</td>\n",
       "      <td>1.203238</td>\n",
       "      <td>1.520299</td>\n",
       "      <td>0.220014</td>\n",
       "      <td>-0.594125</td>\n",
       "      <td>1.157076</td>\n",
       "      <td>1.864796</td>\n",
       "      <td>-0.076437</td>\n",
       "      <td>0.650194</td>\n",
       "      <td>0.768379</td>\n",
       "      <td>...</td>\n",
       "      <td>0</td>\n",
       "      <td>0</td>\n",
       "      <td>0</td>\n",
       "      <td>0</td>\n",
       "      <td>0</td>\n",
       "      <td>0</td>\n",
       "      <td>0</td>\n",
       "      <td>1</td>\n",
       "      <td>Christianity</td>\n",
       "      <td>1</td>\n",
       "    </tr>\n",
       "    <tr>\n",
       "      <th>588</th>\n",
       "      <td>2.312878</td>\n",
       "      <td>2.038230</td>\n",
       "      <td>2.440293</td>\n",
       "      <td>-0.045474</td>\n",
       "      <td>-0.604334</td>\n",
       "      <td>2.195036</td>\n",
       "      <td>2.886220</td>\n",
       "      <td>0.042108</td>\n",
       "      <td>0.597840</td>\n",
       "      <td>0.800209</td>\n",
       "      <td>...</td>\n",
       "      <td>0</td>\n",
       "      <td>0</td>\n",
       "      <td>0</td>\n",
       "      <td>0</td>\n",
       "      <td>0</td>\n",
       "      <td>0</td>\n",
       "      <td>0</td>\n",
       "      <td>1</td>\n",
       "      <td>Christianity</td>\n",
       "      <td>1</td>\n",
       "    </tr>\n",
       "    <tr>\n",
       "      <th>589</th>\n",
       "      <td>1.757139</td>\n",
       "      <td>1.370237</td>\n",
       "      <td>1.874460</td>\n",
       "      <td>0.013609</td>\n",
       "      <td>-0.561511</td>\n",
       "      <td>1.550090</td>\n",
       "      <td>2.211041</td>\n",
       "      <td>0.226126</td>\n",
       "      <td>0.594069</td>\n",
       "      <td>0.740412</td>\n",
       "      <td>...</td>\n",
       "      <td>0</td>\n",
       "      <td>0</td>\n",
       "      <td>0</td>\n",
       "      <td>0</td>\n",
       "      <td>0</td>\n",
       "      <td>0</td>\n",
       "      <td>0</td>\n",
       "      <td>1</td>\n",
       "      <td>Christianity</td>\n",
       "      <td>1</td>\n",
       "    </tr>\n",
       "  </tbody>\n",
       "</table>\n",
       "<p>590 rows × 29 columns</p>\n",
       "</div>"
      ],
      "text/plain": [
       "     words_count  sentences_count  letters_count  avg_word_length  \\\n",
       "0       1.717756         0.451745       1.962226         0.517320   \n",
       "1       0.243078         0.368246       0.239948        -0.357043   \n",
       "2       0.706923         0.535244       0.817139         0.308850   \n",
       "3       0.221198         0.618743       0.310161         0.465115   \n",
       "4      -0.815890        -0.550246      -0.788462         3.390052   \n",
       "..           ...              ...            ...              ...   \n",
       "585     1.415819         1.203238       1.344767        -0.737462   \n",
       "586     2.566680         2.288728       2.639573        -0.241110   \n",
       "587     1.376435         1.203238       1.520299         0.220014   \n",
       "588     2.312878         2.038230       2.440293        -0.045474   \n",
       "589     1.757139         1.370237       1.874460         0.013609   \n",
       "\n",
       "     avg_sentence_length  words_count_wo_stopwords  unique_words_count  \\\n",
       "0              -0.186452                  2.003568            0.306691   \n",
       "1              -0.637340                  0.109040           -0.316551   \n",
       "2              -0.551925                  0.895067            0.202818   \n",
       "3              -0.721929                  0.270276           -0.368487   \n",
       "4              -0.755631                 -0.807993           -0.991729   \n",
       "..                   ...                       ...                 ...   \n",
       "585            -0.586310                  1.247772            1.657049   \n",
       "586            -0.609730                  2.467122            2.609224   \n",
       "587            -0.594125                  1.157076            1.864796   \n",
       "588            -0.604334                  2.195036            2.886220   \n",
       "589            -0.561511                  1.550090            2.211041   \n",
       "\n",
       "     polarity  subjectivity       FRE  ...  \\\n",
       "0   -0.059836      0.395902  0.157529  ...   \n",
       "1    0.117647      0.477941  0.925323  ...   \n",
       "2    0.180979      0.547078  0.763963  ...   \n",
       "3    0.343080      0.664732  0.610146  ...   \n",
       "4    0.000000      0.000000  0.643817  ...   \n",
       "..        ...           ...       ...  ...   \n",
       "585  0.010802      0.569444  0.781442  ...   \n",
       "586  0.133667      0.569179  0.792666  ...   \n",
       "587 -0.076437      0.650194  0.768379  ...   \n",
       "588  0.042108      0.597840  0.800209  ...   \n",
       "589  0.226126      0.594069  0.740412  ...   \n",
       "\n",
       "     lda_topics_Feeling and Consciousness  \\\n",
       "0                                       1   \n",
       "1                                       1   \n",
       "2                                       1   \n",
       "3                                       1   \n",
       "4                                       1   \n",
       "..                                    ...   \n",
       "585                                     0   \n",
       "586                                     0   \n",
       "587                                     0   \n",
       "588                                     0   \n",
       "589                                     0   \n",
       "\n",
       "     lda_topics_Spiritual Power and Eternal Property  \\\n",
       "0                                                  0   \n",
       "1                                                  0   \n",
       "2                                                  0   \n",
       "3                                                  0   \n",
       "4                                                  0   \n",
       "..                                               ...   \n",
       "585                                                0   \n",
       "586                                                0   \n",
       "587                                                0   \n",
       "588                                                0   \n",
       "589                                                0   \n",
       "\n",
       "     lda_topics_Monk - Body and Mind  \\\n",
       "0                                  0   \n",
       "1                                  0   \n",
       "2                                  0   \n",
       "3                                  0   \n",
       "4                                  0   \n",
       "..                               ...   \n",
       "585                                0   \n",
       "586                                0   \n",
       "587                                0   \n",
       "588                                0   \n",
       "589                                0   \n",
       "\n",
       "     lda_topics_Spiritual Man Life and Consciousness  \\\n",
       "0                                                  0   \n",
       "1                                                  0   \n",
       "2                                                  0   \n",
       "3                                                  0   \n",
       "4                                                  0   \n",
       "..                                               ...   \n",
       "585                                                0   \n",
       "586                                                0   \n",
       "587                                                0   \n",
       "588                                                0   \n",
       "589                                                0   \n",
       "\n",
       "     lda_topics_Mind Perception and Soul  lda_topics_Tao and Heaven  \\\n",
       "0                                      0                          0   \n",
       "1                                      0                          0   \n",
       "2                                      0                          0   \n",
       "3                                      0                          0   \n",
       "4                                      0                          0   \n",
       "..                                   ...                        ...   \n",
       "585                                    0                          0   \n",
       "586                                    0                          0   \n",
       "587                                    0                          0   \n",
       "588                                    0                          0   \n",
       "589                                    0                          0   \n",
       "\n",
       "     lda_topics_Lord of Earth and Wisdom  lda_topics_Christianity - God 2  \\\n",
       "0                                      0                                0   \n",
       "1                                      0                                0   \n",
       "2                                      0                                0   \n",
       "3                                      0                                0   \n",
       "4                                      0                                0   \n",
       "..                                   ...                              ...   \n",
       "585                                    0                                1   \n",
       "586                                    0                                1   \n",
       "587                                    0                                1   \n",
       "588                                    0                                1   \n",
       "589                                    0                                1   \n",
       "\n",
       "            label  label_num  \n",
       "0        Buddhism          3  \n",
       "1        Buddhism          3  \n",
       "2        Buddhism          3  \n",
       "3        Buddhism          3  \n",
       "4        Buddhism          3  \n",
       "..            ...        ...  \n",
       "585  Christianity          1  \n",
       "586  Christianity          1  \n",
       "587  Christianity          1  \n",
       "588  Christianity          1  \n",
       "589  Christianity          1  \n",
       "\n",
       "[590 rows x 29 columns]"
      ]
     },
     "execution_count": 46,
     "metadata": {},
     "output_type": "execute_result"
    }
   ],
   "source": [
    "df_corpus_enc_1 = pd.read_csv(\"df_corpus_enc.csv\")\n",
    "df_corpus_enc_1 = df_corpus_enc_1.iloc[:, 2:] \n",
    "df_corpus_enc_1"
   ]
  },
  {
   "cell_type": "code",
   "execution_count": 47,
   "id": "quality-speaker",
   "metadata": {},
   "outputs": [],
   "source": [
    "def calculate_scores(method_name, clusters, dataframe): \n",
    "    res = []\n",
    "    res_db = []\n",
    "    for cluster in clusters:\n",
    "        model = method_name(n_clusters= cluster).fit(dataframe)\n",
    "        labels = model.labels_\n",
    "        res.append(silhouette_score(df, labels, metric='euclidean'))\n",
    "        res_db.append(davies_bouldin_score(df, labels))\n",
    "    return res, res_db"
   ]
  },
  {
   "cell_type": "markdown",
   "id": "opponent-postcard",
   "metadata": {},
   "source": [
    "#### Wyznaczenie optymalnej liczby klastrów za pomocą metryki"
   ]
  },
  {
   "cell_type": "code",
   "execution_count": 48,
   "id": "peripheral-thread",
   "metadata": {},
   "outputs": [],
   "source": [
    "def plot_score(x, y1, y2, method_name):\n",
    "    label = 'Score for'+ str(method_name).replace(\"<class 'sklearn.cluster._agglomerative.\",\"\")\n",
    "    fig, ax = plt.subplots(1, 2, figsize=(20, 5))\n",
    "    ax[0].plot(x, y1)\n",
    "    ax[0].set_title(\"Silhouette score for dataframe\")\n",
    "    ax[0].set_xlabel('Number of clusters')\n",
    "    ax[0].set_ylabel(label)\n",
    "\n",
    "    plt.plot(x, y2)\n",
    "    plt.title(\"Davies Bouldin score for dataframe\")\n",
    "    plt.xlabel('Number of clusters')\n",
    "    plt.ylabel(label)"
   ]
  },
  {
   "cell_type": "markdown",
   "id": "informative-blackberry",
   "metadata": {},
   "source": [
    "#### Sprawdzenie optymalnej liczby klastrów za pomocą indeksów Silhouette oraz Daviesa Bouldina "
   ]
  },
  {
   "cell_type": "code",
   "execution_count": 49,
   "id": "naked-indie",
   "metadata": {},
   "outputs": [
    {
     "data": {
      "image/png": "[encoded data removed]",
      "text/plain": [
       "<Figure size 1440x360 with 2 Axes>"
      ]
     },
     "metadata": {
      "needs_background": "light"
     },
     "output_type": "display_data"
    }
   ],
   "source": [
    "x = np.arange(2, 15)\n",
    "[score, score_db] = calculate_scores(AgglomerativeClustering, x, df)\n",
    "plot_score(x, score, score_db, AgglomerativeClustering)"
   ]
  },
  {
   "cell_type": "markdown",
   "id": "central-seventh",
   "metadata": {},
   "source": [
    "Według metryki silhouette dla oryginalnej ramki danych optymalna liczba klastrów to 2-3, Według indeksu Davisa-Bouldina najbardziej optymalna liczba klastrów to 3."
   ]
  },
  {
   "cell_type": "code",
   "execution_count": 50,
   "id": "duplicate-obligation",
   "metadata": {},
   "outputs": [
    {
     "data": {
      "image/png": "[encoded data removed]",
      "text/plain": [
       "<Figure size 1440x360 with 2 Axes>"
      ]
     },
     "metadata": {
      "needs_background": "light"
     },
     "output_type": "display_data"
    }
   ],
   "source": [
    "[score, score_db] = calculate_scores(AgglomerativeClustering, x, df_encoded)\n",
    "plot_score(x, score, score_db, AgglomerativeClustering)"
   ]
  },
  {
   "cell_type": "markdown",
   "id": "physical-holly",
   "metadata": {},
   "source": [
    "Dla ramki danych zawierającej dodatkowe cechy proponowana liczba klastrów to 3."
   ]
  },
  {
   "cell_type": "markdown",
   "id": "subtle-landing",
   "metadata": {},
   "source": [
    "#### Wyznaczenie optymalnej liczby klastrów za pomocą dendrogramu\n",
    "Dendrogram dla bazowej ramki danych."
   ]
  },
  {
   "cell_type": "code",
   "execution_count": 52,
   "id": "starting-letter",
   "metadata": {},
   "outputs": [
    {
     "data": {
      "image/png": "[encoded data removed]",
      "text/plain": [
       "<Figure size 1440x720 with 1 Axes>"
      ]
     },
     "metadata": {
      "needs_background": "light"
     },
     "output_type": "display_data"
    }
   ],
   "source": [
    "import scipy.cluster.hierarchy as sch\n",
    "\n",
    "fig, ax = plt.subplots(figsize=(20, 10))\n",
    "with plt.rc_context({'lines.linewidth': 0.5}):\n",
    "    ax = sch.dendrogram(sch.linkage(df, method  = \"ward\"))\n",
    "plt.title('Dendrogram')\n",
    "plt.ylabel('Euclidean distances')\n",
    "plt.axhline(y=125, c='grey', lw=1, linestyle='dashed') \n",
    "plt.show()"
   ]
  },
  {
   "cell_type": "markdown",
   "id": "outside-election",
   "metadata": {},
   "source": [
    "Dendrogram dla ramki danych zawierającej przeliczone właściwości - optymalna liczba klastrów to 3"
   ]
  },
  {
   "cell_type": "code",
   "execution_count": 53,
   "id": "incorporate-tribune",
   "metadata": {},
   "outputs": [],
   "source": [
    "df_encoded_no_text = df_corpus_enc_1.iloc[:,1:-2]"
   ]
  },
  {
   "cell_type": "code",
   "execution_count": 54,
   "id": "global-mobility",
   "metadata": {},
   "outputs": [
    {
     "data": {
      "image/png": "[encoded data removed]",
      "text/plain": [
       "<Figure size 1440x720 with 1 Axes>"
      ]
     },
     "metadata": {
      "needs_background": "light"
     },
     "output_type": "display_data"
    }
   ],
   "source": [
    "fig, ax = plt.subplots(figsize=(20, 10))\n",
    "with plt.rc_context({'lines.linewidth': 0.5}):\n",
    "    ax = sch.dendrogram(sch.linkage(df_encoded_no_text, method  = \"ward\"))\n",
    "plt.title('Dendrogram')\n",
    "plt.ylabel('Euclidean distances')\n",
    "plt.axhline(y=30, c='grey', lw=1, linestyle='dashed') \n",
    "plt.show()"
   ]
  },
  {
   "cell_type": "markdown",
   "id": "sized-links",
   "metadata": {},
   "source": [
    "## Ewaluacja"
   ]
  },
  {
   "cell_type": "markdown",
   "id": "veterinary-buying",
   "metadata": {},
   "source": [
    "### Testowanie funkcji accuracy"
   ]
  },
  {
   "cell_type": "code",
   "execution_count": 56,
   "id": "genetic-oliver",
   "metadata": {},
   "outputs": [],
   "source": [
    "df_corpus_enc_1 = pd.read_csv(\"df_corpus_enc.csv\")\n",
    "df_corpus_enc_1 = df_corpus_enc_1.iloc[:, 1:-1]\n",
    "\n",
    "df_corpus_enc_1['label'] = labels\n",
    "df_corpus_enc_1['label'].unique()\n",
    "book_dict = {'Buddhism': 'Buddhism', 'TaoTeChing': 'Taoism', 'Upanishad': 'Hiduism' , 'YogaSutra': 'Hiduism',\n",
    "       'BookOfProverb': 'Christianity', 'BookOfEcclesiastes': 'Christianity', 'BookOfEccleasiasticus': 'Christianity',\n",
    "       'BookOfWisdom': 'Christianity'}\n",
    "df_corpus_enc_1['label'] = df_corpus_enc_1['label'].replace(book_dict)"
   ]
  },
  {
   "cell_type": "code",
   "execution_count": 57,
   "id": "provincial-daisy",
   "metadata": {},
   "outputs": [
    {
     "name": "stdout",
     "output_type": "stream",
     "text": [
      "Przydzielone klasy: ['Hiduism' 'Christianity']\n",
      "Accuracy: 0.7830508474576271\n",
      "Przydzielone klasy: ['Hiduism' 'Christianity' 'Taoism']\n",
      "Accuracy: 0.8016949152542373\n",
      "Przydzielone klasy: ['Hiduism' 'Buddhism' 'Christianity' 'Taoism']\n",
      "Accuracy: 0.8033898305084746\n"
     ]
    }
   ],
   "source": [
    "X = df_corpus_enc_1.iloc[:, 1:-1]\n",
    "check_accuracy(AgglomerativeClustering, X, [2, 3, 4], df_corpus_enc_1)"
   ]
  },
  {
   "cell_type": "markdown",
   "id": "quantitative-wallpaper",
   "metadata": {},
   "source": [
    "Najbardziej trafne predykcje są generowane dla podziału na 4 klastry, przy podziale na 2 oraz 3 klastry predykcje są nieznacznie mniej trafne - wynoszą odpowiednio ok. 0.78 oraz 0.80"
   ]
  },
  {
   "cell_type": "markdown",
   "id": "bright-concrete",
   "metadata": {},
   "source": [
    "## Szybsze podejście?\n",
    "Powyższa analiza została wykonana w oparciu o wcześniej przygotowane EDA oraz dość skomplikowany feature engineering. Jednak czy może da się prościej, szybciej ale z podobną dokładnością? Zobaczmy :)"
   ]
  },
  {
   "cell_type": "markdown",
   "id": "english-mills",
   "metadata": {},
   "source": [
    "Wczytamy na poczatek dane z tabeli z labelami, a następnie przerobimy je tak, by było wygodnie na nich działać, czyli zrobimy z nich data frame, który posiada w pierwszej kolumnie zkonkatenowane wyrazy z wejściowej tablei, a w drugiej label z tekstu (potrzebne do sprawdzenia na koniec)."
   ]
  },
  {
   "cell_type": "code",
   "execution_count": 58,
   "id": "ethical-curtis",
   "metadata": {},
   "outputs": [
    {
     "data": {
      "text/html": [
       "<div>\n",
       "<style scoped>\n",
       "    .dataframe tbody tr th:only-of-type {\n",
       "        vertical-align: middle;\n",
       "    }\n",
       "\n",
       "    .dataframe tbody tr th {\n",
       "        vertical-align: top;\n",
       "    }\n",
       "\n",
       "    .dataframe thead th {\n",
       "        text-align: right;\n",
       "    }\n",
       "</style>\n",
       "<table border=\"1\" class=\"dataframe\">\n",
       "  <thead>\n",
       "    <tr style=\"text-align: right;\">\n",
       "      <th></th>\n",
       "      <th>Unnamed: 0</th>\n",
       "      <th>foolishness</th>\n",
       "      <th>hath</th>\n",
       "      <th>wholesome</th>\n",
       "      <th>takest</th>\n",
       "      <th>feelings</th>\n",
       "      <th>anger</th>\n",
       "      <th>vaivaswata</th>\n",
       "      <th>matrix</th>\n",
       "      <th>kindled</th>\n",
       "      <th>...</th>\n",
       "      <th>erred</th>\n",
       "      <th>thinkest</th>\n",
       "      <th>modern</th>\n",
       "      <th>reigned</th>\n",
       "      <th>sparingly</th>\n",
       "      <th>visual</th>\n",
       "      <th>thoughts</th>\n",
       "      <th>illumines</th>\n",
       "      <th>attire</th>\n",
       "      <th>explains</th>\n",
       "    </tr>\n",
       "  </thead>\n",
       "  <tbody>\n",
       "    <tr>\n",
       "      <th>0</th>\n",
       "      <td>Buddhism_Ch1</td>\n",
       "      <td>0</td>\n",
       "      <td>0</td>\n",
       "      <td>0</td>\n",
       "      <td>0</td>\n",
       "      <td>0</td>\n",
       "      <td>0</td>\n",
       "      <td>0</td>\n",
       "      <td>0</td>\n",
       "      <td>0</td>\n",
       "      <td>...</td>\n",
       "      <td>0</td>\n",
       "      <td>0</td>\n",
       "      <td>0</td>\n",
       "      <td>0</td>\n",
       "      <td>0</td>\n",
       "      <td>0</td>\n",
       "      <td>0</td>\n",
       "      <td>0</td>\n",
       "      <td>0</td>\n",
       "      <td>0</td>\n",
       "    </tr>\n",
       "    <tr>\n",
       "      <th>1</th>\n",
       "      <td>Buddhism_Ch2</td>\n",
       "      <td>0</td>\n",
       "      <td>0</td>\n",
       "      <td>0</td>\n",
       "      <td>0</td>\n",
       "      <td>0</td>\n",
       "      <td>0</td>\n",
       "      <td>0</td>\n",
       "      <td>0</td>\n",
       "      <td>0</td>\n",
       "      <td>...</td>\n",
       "      <td>0</td>\n",
       "      <td>0</td>\n",
       "      <td>0</td>\n",
       "      <td>0</td>\n",
       "      <td>0</td>\n",
       "      <td>0</td>\n",
       "      <td>0</td>\n",
       "      <td>0</td>\n",
       "      <td>0</td>\n",
       "      <td>0</td>\n",
       "    </tr>\n",
       "    <tr>\n",
       "      <th>2</th>\n",
       "      <td>Buddhism_Ch3</td>\n",
       "      <td>0</td>\n",
       "      <td>0</td>\n",
       "      <td>0</td>\n",
       "      <td>0</td>\n",
       "      <td>0</td>\n",
       "      <td>0</td>\n",
       "      <td>0</td>\n",
       "      <td>0</td>\n",
       "      <td>0</td>\n",
       "      <td>...</td>\n",
       "      <td>0</td>\n",
       "      <td>0</td>\n",
       "      <td>0</td>\n",
       "      <td>0</td>\n",
       "      <td>0</td>\n",
       "      <td>0</td>\n",
       "      <td>0</td>\n",
       "      <td>0</td>\n",
       "      <td>0</td>\n",
       "      <td>0</td>\n",
       "    </tr>\n",
       "    <tr>\n",
       "      <th>3</th>\n",
       "      <td>Buddhism_Ch4</td>\n",
       "      <td>0</td>\n",
       "      <td>0</td>\n",
       "      <td>0</td>\n",
       "      <td>0</td>\n",
       "      <td>0</td>\n",
       "      <td>0</td>\n",
       "      <td>0</td>\n",
       "      <td>0</td>\n",
       "      <td>0</td>\n",
       "      <td>...</td>\n",
       "      <td>0</td>\n",
       "      <td>0</td>\n",
       "      <td>0</td>\n",
       "      <td>0</td>\n",
       "      <td>0</td>\n",
       "      <td>0</td>\n",
       "      <td>0</td>\n",
       "      <td>0</td>\n",
       "      <td>0</td>\n",
       "      <td>0</td>\n",
       "    </tr>\n",
       "    <tr>\n",
       "      <th>4</th>\n",
       "      <td>Buddhism_Ch5</td>\n",
       "      <td>0</td>\n",
       "      <td>0</td>\n",
       "      <td>0</td>\n",
       "      <td>0</td>\n",
       "      <td>0</td>\n",
       "      <td>0</td>\n",
       "      <td>0</td>\n",
       "      <td>0</td>\n",
       "      <td>0</td>\n",
       "      <td>...</td>\n",
       "      <td>0</td>\n",
       "      <td>0</td>\n",
       "      <td>0</td>\n",
       "      <td>0</td>\n",
       "      <td>0</td>\n",
       "      <td>0</td>\n",
       "      <td>0</td>\n",
       "      <td>0</td>\n",
       "      <td>0</td>\n",
       "      <td>0</td>\n",
       "    </tr>\n",
       "  </tbody>\n",
       "</table>\n",
       "<p>5 rows × 8267 columns</p>\n",
       "</div>"
      ],
      "text/plain": [
       "     Unnamed: 0  foolishness  hath  wholesome  takest  feelings  anger  \\\n",
       "0  Buddhism_Ch1            0     0          0       0         0      0   \n",
       "1  Buddhism_Ch2            0     0          0       0         0      0   \n",
       "2  Buddhism_Ch3            0     0          0       0         0      0   \n",
       "3  Buddhism_Ch4            0     0          0       0         0      0   \n",
       "4  Buddhism_Ch5            0     0          0       0         0      0   \n",
       "\n",
       "   vaivaswata  matrix  kindled  ...  erred  thinkest  modern  reigned  \\\n",
       "0           0       0        0  ...      0         0       0        0   \n",
       "1           0       0        0  ...      0         0       0        0   \n",
       "2           0       0        0  ...      0         0       0        0   \n",
       "3           0       0        0  ...      0         0       0        0   \n",
       "4           0       0        0  ...      0         0       0        0   \n",
       "\n",
       "   sparingly  visual  thoughts  illumines  attire  explains  \n",
       "0          0       0         0          0       0         0  \n",
       "1          0       0         0          0       0         0  \n",
       "2          0       0         0          0       0         0  \n",
       "3          0       0         0          0       0         0  \n",
       "4          0       0         0          0       0         0  \n",
       "\n",
       "[5 rows x 8267 columns]"
      ]
     },
     "execution_count": 58,
     "metadata": {},
     "output_type": "execute_result"
    }
   ],
   "source": [
    "df_labelled = pd.read_csv('AllBooks_baseline_DTM_Labelled.csv')\n",
    "df_labelled.head()"
   ]
  },
  {
   "cell_type": "code",
   "execution_count": 59,
   "id": "studied-chocolate",
   "metadata": {},
   "outputs": [
    {
     "data": {
      "text/plain": [
       "0           Buddhism_Ch1\n",
       "1           Buddhism_Ch2\n",
       "2           Buddhism_Ch3\n",
       "3           Buddhism_Ch4\n",
       "4           Buddhism_Ch5\n",
       "             ...        \n",
       "585    BookOfWisdom_Ch15\n",
       "586    BookOfWisdom_Ch16\n",
       "587    BookOfWisdom_Ch17\n",
       "588    BookOfWisdom_Ch18\n",
       "589    BookOfWisdom_Ch19\n",
       "Name: Unnamed: 0, Length: 590, dtype: object"
      ]
     },
     "execution_count": 59,
     "metadata": {},
     "output_type": "execute_result"
    }
   ],
   "source": [
    "labels_1=df_labelled.iloc[:,0]\n",
    "labels_1"
   ]
  },
  {
   "cell_type": "code",
   "execution_count": 60,
   "id": "eastern-content",
   "metadata": {},
   "outputs": [
    {
     "data": {
      "text/html": [
       "<div>\n",
       "<style scoped>\n",
       "    .dataframe tbody tr th:only-of-type {\n",
       "        vertical-align: middle;\n",
       "    }\n",
       "\n",
       "    .dataframe tbody tr th {\n",
       "        vertical-align: top;\n",
       "    }\n",
       "\n",
       "    .dataframe thead th {\n",
       "        text-align: right;\n",
       "    }\n",
       "</style>\n",
       "<table border=\"1\" class=\"dataframe\">\n",
       "  <thead>\n",
       "    <tr style=\"text-align: right;\">\n",
       "      <th></th>\n",
       "      <th>foolishness</th>\n",
       "      <th>hath</th>\n",
       "      <th>wholesome</th>\n",
       "      <th>takest</th>\n",
       "      <th>feelings</th>\n",
       "      <th>anger</th>\n",
       "      <th>vaivaswata</th>\n",
       "      <th>matrix</th>\n",
       "      <th>kindled</th>\n",
       "      <th>convict</th>\n",
       "      <th>...</th>\n",
       "      <th>erred</th>\n",
       "      <th>thinkest</th>\n",
       "      <th>modern</th>\n",
       "      <th>reigned</th>\n",
       "      <th>sparingly</th>\n",
       "      <th>visual</th>\n",
       "      <th>thoughts</th>\n",
       "      <th>illumines</th>\n",
       "      <th>attire</th>\n",
       "      <th>explains</th>\n",
       "    </tr>\n",
       "  </thead>\n",
       "  <tbody>\n",
       "    <tr>\n",
       "      <th>0</th>\n",
       "      <td>0</td>\n",
       "      <td>0</td>\n",
       "      <td>0</td>\n",
       "      <td>0</td>\n",
       "      <td>0</td>\n",
       "      <td>0</td>\n",
       "      <td>0</td>\n",
       "      <td>0</td>\n",
       "      <td>0</td>\n",
       "      <td>0</td>\n",
       "      <td>...</td>\n",
       "      <td>0</td>\n",
       "      <td>0</td>\n",
       "      <td>0</td>\n",
       "      <td>0</td>\n",
       "      <td>0</td>\n",
       "      <td>0</td>\n",
       "      <td>0</td>\n",
       "      <td>0</td>\n",
       "      <td>0</td>\n",
       "      <td>0</td>\n",
       "    </tr>\n",
       "    <tr>\n",
       "      <th>1</th>\n",
       "      <td>0</td>\n",
       "      <td>0</td>\n",
       "      <td>0</td>\n",
       "      <td>0</td>\n",
       "      <td>0</td>\n",
       "      <td>0</td>\n",
       "      <td>0</td>\n",
       "      <td>0</td>\n",
       "      <td>0</td>\n",
       "      <td>0</td>\n",
       "      <td>...</td>\n",
       "      <td>0</td>\n",
       "      <td>0</td>\n",
       "      <td>0</td>\n",
       "      <td>0</td>\n",
       "      <td>0</td>\n",
       "      <td>0</td>\n",
       "      <td>0</td>\n",
       "      <td>0</td>\n",
       "      <td>0</td>\n",
       "      <td>0</td>\n",
       "    </tr>\n",
       "    <tr>\n",
       "      <th>2</th>\n",
       "      <td>0</td>\n",
       "      <td>0</td>\n",
       "      <td>0</td>\n",
       "      <td>0</td>\n",
       "      <td>0</td>\n",
       "      <td>0</td>\n",
       "      <td>0</td>\n",
       "      <td>0</td>\n",
       "      <td>0</td>\n",
       "      <td>0</td>\n",
       "      <td>...</td>\n",
       "      <td>0</td>\n",
       "      <td>0</td>\n",
       "      <td>0</td>\n",
       "      <td>0</td>\n",
       "      <td>0</td>\n",
       "      <td>0</td>\n",
       "      <td>0</td>\n",
       "      <td>0</td>\n",
       "      <td>0</td>\n",
       "      <td>0</td>\n",
       "    </tr>\n",
       "    <tr>\n",
       "      <th>3</th>\n",
       "      <td>0</td>\n",
       "      <td>0</td>\n",
       "      <td>0</td>\n",
       "      <td>0</td>\n",
       "      <td>0</td>\n",
       "      <td>0</td>\n",
       "      <td>0</td>\n",
       "      <td>0</td>\n",
       "      <td>0</td>\n",
       "      <td>0</td>\n",
       "      <td>...</td>\n",
       "      <td>0</td>\n",
       "      <td>0</td>\n",
       "      <td>0</td>\n",
       "      <td>0</td>\n",
       "      <td>0</td>\n",
       "      <td>0</td>\n",
       "      <td>0</td>\n",
       "      <td>0</td>\n",
       "      <td>0</td>\n",
       "      <td>0</td>\n",
       "    </tr>\n",
       "    <tr>\n",
       "      <th>4</th>\n",
       "      <td>0</td>\n",
       "      <td>0</td>\n",
       "      <td>0</td>\n",
       "      <td>0</td>\n",
       "      <td>0</td>\n",
       "      <td>0</td>\n",
       "      <td>0</td>\n",
       "      <td>0</td>\n",
       "      <td>0</td>\n",
       "      <td>0</td>\n",
       "      <td>...</td>\n",
       "      <td>0</td>\n",
       "      <td>0</td>\n",
       "      <td>0</td>\n",
       "      <td>0</td>\n",
       "      <td>0</td>\n",
       "      <td>0</td>\n",
       "      <td>0</td>\n",
       "      <td>0</td>\n",
       "      <td>0</td>\n",
       "      <td>0</td>\n",
       "    </tr>\n",
       "    <tr>\n",
       "      <th>...</th>\n",
       "      <td>...</td>\n",
       "      <td>...</td>\n",
       "      <td>...</td>\n",
       "      <td>...</td>\n",
       "      <td>...</td>\n",
       "      <td>...</td>\n",
       "      <td>...</td>\n",
       "      <td>...</td>\n",
       "      <td>...</td>\n",
       "      <td>...</td>\n",
       "      <td>...</td>\n",
       "      <td>...</td>\n",
       "      <td>...</td>\n",
       "      <td>...</td>\n",
       "      <td>...</td>\n",
       "      <td>...</td>\n",
       "      <td>...</td>\n",
       "      <td>...</td>\n",
       "      <td>...</td>\n",
       "      <td>...</td>\n",
       "      <td>...</td>\n",
       "    </tr>\n",
       "    <tr>\n",
       "      <th>585</th>\n",
       "      <td>0</td>\n",
       "      <td>2</td>\n",
       "      <td>0</td>\n",
       "      <td>0</td>\n",
       "      <td>0</td>\n",
       "      <td>0</td>\n",
       "      <td>0</td>\n",
       "      <td>0</td>\n",
       "      <td>0</td>\n",
       "      <td>0</td>\n",
       "      <td>...</td>\n",
       "      <td>0</td>\n",
       "      <td>0</td>\n",
       "      <td>0</td>\n",
       "      <td>0</td>\n",
       "      <td>0</td>\n",
       "      <td>0</td>\n",
       "      <td>0</td>\n",
       "      <td>0</td>\n",
       "      <td>0</td>\n",
       "      <td>0</td>\n",
       "    </tr>\n",
       "    <tr>\n",
       "      <th>586</th>\n",
       "      <td>0</td>\n",
       "      <td>0</td>\n",
       "      <td>0</td>\n",
       "      <td>0</td>\n",
       "      <td>0</td>\n",
       "      <td>0</td>\n",
       "      <td>0</td>\n",
       "      <td>0</td>\n",
       "      <td>0</td>\n",
       "      <td>0</td>\n",
       "      <td>...</td>\n",
       "      <td>0</td>\n",
       "      <td>0</td>\n",
       "      <td>0</td>\n",
       "      <td>0</td>\n",
       "      <td>0</td>\n",
       "      <td>0</td>\n",
       "      <td>0</td>\n",
       "      <td>0</td>\n",
       "      <td>0</td>\n",
       "      <td>0</td>\n",
       "    </tr>\n",
       "    <tr>\n",
       "      <th>587</th>\n",
       "      <td>0</td>\n",
       "      <td>0</td>\n",
       "      <td>0</td>\n",
       "      <td>0</td>\n",
       "      <td>0</td>\n",
       "      <td>0</td>\n",
       "      <td>0</td>\n",
       "      <td>0</td>\n",
       "      <td>0</td>\n",
       "      <td>0</td>\n",
       "      <td>...</td>\n",
       "      <td>1</td>\n",
       "      <td>0</td>\n",
       "      <td>0</td>\n",
       "      <td>0</td>\n",
       "      <td>0</td>\n",
       "      <td>0</td>\n",
       "      <td>0</td>\n",
       "      <td>0</td>\n",
       "      <td>0</td>\n",
       "      <td>0</td>\n",
       "    </tr>\n",
       "    <tr>\n",
       "      <th>588</th>\n",
       "      <td>0</td>\n",
       "      <td>0</td>\n",
       "      <td>0</td>\n",
       "      <td>0</td>\n",
       "      <td>0</td>\n",
       "      <td>0</td>\n",
       "      <td>0</td>\n",
       "      <td>0</td>\n",
       "      <td>0</td>\n",
       "      <td>0</td>\n",
       "      <td>...</td>\n",
       "      <td>0</td>\n",
       "      <td>0</td>\n",
       "      <td>0</td>\n",
       "      <td>0</td>\n",
       "      <td>0</td>\n",
       "      <td>0</td>\n",
       "      <td>0</td>\n",
       "      <td>0</td>\n",
       "      <td>0</td>\n",
       "      <td>0</td>\n",
       "    </tr>\n",
       "    <tr>\n",
       "      <th>589</th>\n",
       "      <td>0</td>\n",
       "      <td>0</td>\n",
       "      <td>0</td>\n",
       "      <td>0</td>\n",
       "      <td>0</td>\n",
       "      <td>0</td>\n",
       "      <td>0</td>\n",
       "      <td>0</td>\n",
       "      <td>0</td>\n",
       "      <td>0</td>\n",
       "      <td>...</td>\n",
       "      <td>0</td>\n",
       "      <td>0</td>\n",
       "      <td>0</td>\n",
       "      <td>0</td>\n",
       "      <td>0</td>\n",
       "      <td>0</td>\n",
       "      <td>0</td>\n",
       "      <td>0</td>\n",
       "      <td>0</td>\n",
       "      <td>0</td>\n",
       "    </tr>\n",
       "  </tbody>\n",
       "</table>\n",
       "<p>590 rows × 8266 columns</p>\n",
       "</div>"
      ],
      "text/plain": [
       "     foolishness  hath  wholesome  takest  feelings  anger  vaivaswata  \\\n",
       "0              0     0          0       0         0      0           0   \n",
       "1              0     0          0       0         0      0           0   \n",
       "2              0     0          0       0         0      0           0   \n",
       "3              0     0          0       0         0      0           0   \n",
       "4              0     0          0       0         0      0           0   \n",
       "..           ...   ...        ...     ...       ...    ...         ...   \n",
       "585            0     2          0       0         0      0           0   \n",
       "586            0     0          0       0         0      0           0   \n",
       "587            0     0          0       0         0      0           0   \n",
       "588            0     0          0       0         0      0           0   \n",
       "589            0     0          0       0         0      0           0   \n",
       "\n",
       "     matrix  kindled  convict  ...  erred  thinkest  modern  reigned  \\\n",
       "0         0        0        0  ...      0         0       0        0   \n",
       "1         0        0        0  ...      0         0       0        0   \n",
       "2         0        0        0  ...      0         0       0        0   \n",
       "3         0        0        0  ...      0         0       0        0   \n",
       "4         0        0        0  ...      0         0       0        0   \n",
       "..      ...      ...      ...  ...    ...       ...     ...      ...   \n",
       "585       0        0        0  ...      0         0       0        0   \n",
       "586       0        0        0  ...      0         0       0        0   \n",
       "587       0        0        0  ...      1         0       0        0   \n",
       "588       0        0        0  ...      0         0       0        0   \n",
       "589       0        0        0  ...      0         0       0        0   \n",
       "\n",
       "     sparingly  visual  thoughts  illumines  attire  explains  \n",
       "0            0       0         0          0       0         0  \n",
       "1            0       0         0          0       0         0  \n",
       "2            0       0         0          0       0         0  \n",
       "3            0       0         0          0       0         0  \n",
       "4            0       0         0          0       0         0  \n",
       "..         ...     ...       ...        ...     ...       ...  \n",
       "585          0       0         0          0       0         0  \n",
       "586          0       0         0          0       0         0  \n",
       "587          0       0         0          0       0         0  \n",
       "588          0       0         0          0       0         0  \n",
       "589          0       0         0          0       0         0  \n",
       "\n",
       "[590 rows x 8266 columns]"
      ]
     },
     "execution_count": 60,
     "metadata": {},
     "output_type": "execute_result"
    }
   ],
   "source": [
    "without_labels=df_labelled.drop(df_labelled.columns[0], axis=1)\n",
    "without_labels"
   ]
  },
  {
   "cell_type": "code",
   "execution_count": 61,
   "id": "grateful-movie",
   "metadata": {},
   "outputs": [],
   "source": [
    "changed_labels=labels_1.apply(lambda x: 0 if 'Buddhism' in x else (1 if 'TaoTeChing' in x else (2 if 'Upanishad' in x else\n",
    "(3 if 'YogaSutra' in x else(4 if 'BookOfProverb' in x else(5 if 'BookOfEcclesiastes' in x else (6 if 'BookOfEccleasiasticus' in x else(7 if 'BookOfWisdom' in x else x)))))))).to_frame()\n",
    "\n",
    "changed_labels=changed_labels.to_numpy()"
   ]
  },
  {
   "cell_type": "code",
   "execution_count": 62,
   "id": "ceramic-syndication",
   "metadata": {},
   "outputs": [
    {
     "data": {
      "text/html": [
       "<div>\n",
       "<style scoped>\n",
       "    .dataframe tbody tr th:only-of-type {\n",
       "        vertical-align: middle;\n",
       "    }\n",
       "\n",
       "    .dataframe tbody tr th {\n",
       "        vertical-align: top;\n",
       "    }\n",
       "\n",
       "    .dataframe thead th {\n",
       "        text-align: right;\n",
       "    }\n",
       "</style>\n",
       "<table border=\"1\" class=\"dataframe\">\n",
       "  <thead>\n",
       "    <tr style=\"text-align: right;\">\n",
       "      <th></th>\n",
       "      <th>text</th>\n",
       "      <th>label</th>\n",
       "    </tr>\n",
       "  </thead>\n",
       "  <tbody>\n",
       "    <tr>\n",
       "      <th>0</th>\n",
       "      <td>open mentally mentally i affliction affliction...</td>\n",
       "      <td>0.0</td>\n",
       "    </tr>\n",
       "    <tr>\n",
       "      <th>1</th>\n",
       "      <td>staying origination origination disenchantment...</td>\n",
       "      <td>0.0</td>\n",
       "    </tr>\n",
       "    <tr>\n",
       "      <th>2</th>\n",
       "      <td>tell thus thus play play play play play short ...</td>\n",
       "      <td>0.0</td>\n",
       "    </tr>\n",
       "    <tr>\n",
       "      <th>3</th>\n",
       "      <td>illumination origination origination originati...</td>\n",
       "      <td>0.0</td>\n",
       "    </tr>\n",
       "    <tr>\n",
       "      <th>4</th>\n",
       "      <td>stressfulness stressfulness stressfulness stre...</td>\n",
       "      <td>0.0</td>\n",
       "    </tr>\n",
       "    <tr>\n",
       "      <th>...</th>\n",
       "      <td>...</td>\n",
       "      <td>...</td>\n",
       "    </tr>\n",
       "    <tr>\n",
       "      <th>585</th>\n",
       "      <td>hath hath neither neither soft handle short be...</td>\n",
       "      <td>7.0</td>\n",
       "    </tr>\n",
       "    <tr>\n",
       "      <th>586</th>\n",
       "      <td>rage neither neither land land remedy came cam...</td>\n",
       "      <td>7.0</td>\n",
       "    </tr>\n",
       "    <tr>\n",
       "      <th>587</th>\n",
       "      <td>neither neither great great overtaken yielding...</td>\n",
       "      <td>7.0</td>\n",
       "    </tr>\n",
       "    <tr>\n",
       "      <th>588</th>\n",
       "      <td>diadem neither land guest great came fears ask...</td>\n",
       "      <td>7.0</td>\n",
       "    </tr>\n",
       "    <tr>\n",
       "      <th>589</th>\n",
       "      <td>lambs neither land land land great great came ...</td>\n",
       "      <td>7.0</td>\n",
       "    </tr>\n",
       "  </tbody>\n",
       "</table>\n",
       "<p>590 rows × 2 columns</p>\n",
       "</div>"
      ],
      "text/plain": [
       "                                                  text  label\n",
       "0    open mentally mentally i affliction affliction...    0.0\n",
       "1    staying origination origination disenchantment...    0.0\n",
       "2    tell thus thus play play play play play short ...    0.0\n",
       "3    illumination origination origination originati...    0.0\n",
       "4    stressfulness stressfulness stressfulness stre...    0.0\n",
       "..                                                 ...    ...\n",
       "585  hath hath neither neither soft handle short be...    7.0\n",
       "586  rage neither neither land land remedy came cam...    7.0\n",
       "587  neither neither great great overtaken yielding...    7.0\n",
       "588  diadem neither land guest great came fears ask...    7.0\n",
       "589  lambs neither land land land great great came ...    7.0\n",
       "\n",
       "[590 rows x 2 columns]"
      ]
     },
     "execution_count": 62,
     "metadata": {},
     "output_type": "execute_result"
    }
   ],
   "source": [
    "df_2 = {'text':[], 'label':[]}\n",
    "df_2 = pd.DataFrame(data=df_2)\n",
    "for i in range (df_labelled.shape[0]): #tyle jest obserwacji\n",
    "    a=\"\"\n",
    "    for col in without_labels.columns:\n",
    "        val = without_labels[col].values[i]\n",
    "        if(val!=0):\n",
    "            a+=int(val)* (str(col)+\" \")\n",
    "    new_row={'text': a, 'label': changed_labels.flat[i]}\n",
    "    df_2=df_2.append(new_row, ignore_index=True)\n",
    "df_2"
   ]
  },
  {
   "cell_type": "code",
   "execution_count": 63,
   "id": "sorted-edgar",
   "metadata": {},
   "outputs": [],
   "source": [
    "vec = TfidfVectorizer(stop_words=\"english\")\n",
    "vec.fit(df_2.text.values)\n",
    "features = vec.transform(df_2.text.values)"
   ]
  },
  {
   "cell_type": "markdown",
   "id": "patient-wilson",
   "metadata": {},
   "source": [
    "Użyjmy PCA, by zmniejszyć liczbę komponentów do dwóch i zobaczmy co nam potem wyjdzie przy użyciu naszego modelu."
   ]
  },
  {
   "cell_type": "code",
   "execution_count": 64,
   "id": "inside-passion",
   "metadata": {},
   "outputs": [],
   "source": [
    "random_state=0\n",
    "pca = PCA(n_components=2, random_state=random_state)\n",
    "reduced_features = pca.fit_transform(features.toarray())"
   ]
  },
  {
   "cell_type": "markdown",
   "id": "canadian-headset",
   "metadata": {},
   "source": [
    "Sprawdźmy najpierw jeszcze, jaka liczba klastrów jest najoptymalniejsza według algorytmu metody łokcia oraz silhouette."
   ]
  },
  {
   "cell_type": "code",
   "execution_count": 65,
   "id": "seeing-worry",
   "metadata": {},
   "outputs": [],
   "source": [
    "def elbow_method(df, k_max):\n",
    "    scores = []\n",
    "    for k in range(1, k_max+1):\n",
    "        kmeans = MiniBatchKMeans(random_state=0, n_clusters=k).fit(df)\n",
    "        scores.append(kmeans.score(df) * -1)\n",
    "    return scores"
   ]
  },
  {
   "cell_type": "code",
   "execution_count": 66,
   "id": "contained-third",
   "metadata": {},
   "outputs": [
    {
     "data": {
      "image/png": "[encoded data removed]",
      "text/plain": [
       "<Figure size 432x288 with 1 Axes>"
      ]
     },
     "metadata": {
      "needs_background": "light"
     },
     "output_type": "display_data"
    }
   ],
   "source": [
    "scores=elbow_method(reduced_features,12)\n",
    "k_max=12\n",
    "x = list(range(1,k_max + 1))\n",
    "plt.plot(x, scores)\n",
    "plt.show()"
   ]
  },
  {
   "cell_type": "markdown",
   "id": "direct-scientist",
   "metadata": {},
   "source": [
    "Według powyższej metody powinniśmy wybrać 2, 3 lub ewentualnie 4 klastry."
   ]
  },
  {
   "cell_type": "code",
   "execution_count": 67,
   "id": "legendary-czech",
   "metadata": {},
   "outputs": [
    {
     "data": {
      "image/png": "[encoded data removed]",
      "text/plain": [
       "<Figure size 576x432 with 1 Axes>"
      ]
     },
     "metadata": {
      "needs_background": "light"
     },
     "output_type": "display_data"
    }
   ],
   "source": [
    "figsize=[8, 6]\n",
    "\n",
    "cluster_num_seq = range(2, 11) \n",
    "silhouette_vec = clustering_scores(reduced_features, cluster_num_seq, MiniBatchKMeans, silhouette_score)\n",
    "f = plt.figure(figsize=figsize)\n",
    "plt.plot(cluster_num_seq, silhouette_vec, 'bx-')\n",
    "plt.xlabel('k')\n",
    "plt.ylabel('Silhouette score')\n",
    "plt.show()"
   ]
  },
  {
   "cell_type": "markdown",
   "id": "dated-tongue",
   "metadata": {},
   "source": [
    "Tym razem możemy zaobserwować, że najlepszy wynik uzyskamy biorąc 2 lub 3 klastry."
   ]
  },
  {
   "cell_type": "markdown",
   "id": "located-tours",
   "metadata": {},
   "source": [
    "Tak więc spróbujmy jak będzie wyglądać predykcja dla MiniBatchKMeans dla przykładowych 8 klastrów."
   ]
  },
  {
   "cell_type": "code",
   "execution_count": 68,
   "id": "modern-novel",
   "metadata": {},
   "outputs": [
    {
     "data": {
      "text/plain": [
       "array([3, 5, 5, 5, 4, 3, 2, 2, 2, 2, 5, 5, 5, 5, 5, 2, 5, 5, 5, 5, 5, 5,\n",
       "       2, 2, 2, 3, 5, 5, 5, 5, 5, 5, 3, 5, 5, 5, 5, 5, 5, 5, 5, 5, 5, 5,\n",
       "       5, 5, 0, 3, 5, 0, 3, 3, 0, 0, 0, 0, 5, 0, 0, 0, 0, 0, 0, 0, 2, 0,\n",
       "       0, 2, 0, 0, 0, 5, 6, 0, 0, 0, 0, 0, 0, 0, 0, 0, 0, 0, 0, 0, 0, 0,\n",
       "       3, 2, 3, 0, 0, 0, 0, 5, 0, 0, 0, 0, 0, 0, 0, 0, 0, 0, 0, 0, 0, 0,\n",
       "       0, 0, 0, 0, 6, 3, 5, 0, 5, 5, 7, 6, 0, 0, 0, 0, 0, 2, 5, 7, 7, 5,\n",
       "       7, 7, 7, 5, 7, 5, 5, 5, 4, 5, 5, 5, 3, 3, 3, 3, 3, 3, 3, 3, 3, 3,\n",
       "       3, 3, 3, 3, 3, 3, 5, 5, 3, 3, 3, 3, 3, 3, 3, 3, 3, 5, 3, 3, 3, 3,\n",
       "       7, 5, 5, 5, 7, 5, 3, 7, 7, 3, 5, 5, 5, 7, 3, 5, 5, 7, 7, 5, 7, 5,\n",
       "       5, 7, 5, 5, 5, 5, 5, 5, 7, 7, 5, 7, 5, 3, 7, 5, 5, 7, 7, 7, 5, 7,\n",
       "       5, 4, 4, 7, 7, 4, 7, 3, 5, 7, 5, 3, 4, 5, 7, 7, 7, 7, 7, 7, 5, 5,\n",
       "       6, 5, 2, 7, 5, 5, 5, 5, 2, 5, 4, 5, 5, 5, 7, 5, 5, 5, 5, 5, 5, 5,\n",
       "       5, 5, 5, 5, 5, 5, 6, 6, 3, 6, 6, 6, 6, 6, 6, 6, 6, 6, 5, 5, 5, 3,\n",
       "       5, 5, 2, 2, 2, 2, 2, 2, 5, 2, 2, 2, 2, 2, 2, 6, 2, 2, 2, 2, 2, 5,\n",
       "       2, 2, 6, 2, 2, 2, 2, 2, 2, 2, 2, 2, 2, 5, 2, 2, 2, 2, 6, 3, 2, 2,\n",
       "       2, 2, 2, 2, 2, 3, 2, 2, 2, 2, 2, 2, 2, 2, 2, 2, 2, 6, 2, 2, 2, 2,\n",
       "       2, 2, 2, 2, 2, 2, 2, 2, 6, 2, 2, 2, 2, 2, 2, 3, 2, 2, 2, 7, 2, 3,\n",
       "       2, 2, 2, 2, 2, 7, 2, 6, 2, 2, 2, 2, 5, 5, 2, 2, 2, 2, 2, 2, 2, 2,\n",
       "       6, 2, 2, 2, 2, 2, 2, 2, 2, 4, 2, 2, 2, 5, 2, 5, 2, 2, 0, 2, 2, 2,\n",
       "       2, 2, 2, 2, 2, 2, 2, 2, 2, 2, 2, 2, 2, 2, 2, 2, 2, 2, 2, 2, 2, 2,\n",
       "       2, 2, 5, 2, 2, 7, 2, 7, 2, 2, 2, 2, 2, 7, 2, 2, 2, 2, 2, 2, 2, 2,\n",
       "       2, 5, 2, 2, 2, 2, 5, 2, 5, 2, 2, 2, 2, 2, 2, 2, 1, 1, 1, 1, 1, 1,\n",
       "       1, 1, 1, 1, 1, 1, 1, 1, 1, 1, 1, 1, 1, 1, 1, 1, 1, 1, 1, 1, 1, 1,\n",
       "       1, 1, 1, 1, 1, 1, 1, 1, 1, 1, 1, 1, 1, 1, 1, 1, 1, 1, 1, 1, 1, 1,\n",
       "       1, 1, 1, 1, 1, 1, 1, 1, 1, 1, 1, 1, 1, 1, 1, 1, 1, 1, 1, 1, 1, 1,\n",
       "       1, 1, 1, 1, 1, 1, 1, 1, 1, 1, 1, 1, 1, 1, 1, 1, 1, 1, 5, 1, 1, 1,\n",
       "       1, 1, 1, 1, 1, 1, 1, 1, 1, 1, 1, 2, 1, 1, 1, 2, 1, 1])"
      ]
     },
     "execution_count": 68,
     "metadata": {},
     "output_type": "execute_result"
    }
   ],
   "source": [
    "cls = MiniBatchKMeans(n_clusters=8, random_state=random_state)\n",
    "cls.fit(features)\n",
    "cls.predict(features)"
   ]
  },
  {
   "cell_type": "code",
   "execution_count": 69,
   "id": "driven-lindsay",
   "metadata": {},
   "outputs": [
    {
     "data": {
      "text/plain": [
       "0.5698720561819484"
      ]
     },
     "execution_count": 69,
     "metadata": {},
     "output_type": "execute_result"
    }
   ],
   "source": [
    "from sklearn.metrics import homogeneity_score\n",
    "homogeneity_score(df_2.label, cls.predict(features))"
   ]
  },
  {
   "cell_type": "markdown",
   "id": "forward-tourist",
   "metadata": {},
   "source": [
    "A także dla dwóch klastrów (musi nastąpić zmiana labeli w tabeli sprawdzającej, by wynik przy pomocy metryki był wiarygodny - podział jest na Chrześcijaństwo vs pozostałe religie)."
   ]
  },
  {
   "cell_type": "code",
   "execution_count": 70,
   "id": "present-butler",
   "metadata": {},
   "outputs": [],
   "source": [
    "changed_labels_3=labels_1.apply(lambda x: 0 if 'Buddhism' in x else (0 if 'TaoTeChing' in x else (0 if 'Upanishad' in x else\n",
    "(0 if 'YogaSutra' in x else(1 if 'BookOfProverb' in x else(1 if 'BookOfEcclesiastes' in x else (1 if 'BookOfEccleasiasticus' in x else(1 if 'BookOfWisdom' in x else x)))))))).to_frame().to_numpy()"
   ]
  },
  {
   "cell_type": "code",
   "execution_count": 71,
   "id": "seasonal-rugby",
   "metadata": {},
   "outputs": [
    {
     "data": {
      "text/html": [
       "<div>\n",
       "<style scoped>\n",
       "    .dataframe tbody tr th:only-of-type {\n",
       "        vertical-align: middle;\n",
       "    }\n",
       "\n",
       "    .dataframe tbody tr th {\n",
       "        vertical-align: top;\n",
       "    }\n",
       "\n",
       "    .dataframe thead th {\n",
       "        text-align: right;\n",
       "    }\n",
       "</style>\n",
       "<table border=\"1\" class=\"dataframe\">\n",
       "  <thead>\n",
       "    <tr style=\"text-align: right;\">\n",
       "      <th></th>\n",
       "      <th>text</th>\n",
       "      <th>label</th>\n",
       "    </tr>\n",
       "  </thead>\n",
       "  <tbody>\n",
       "    <tr>\n",
       "      <th>0</th>\n",
       "      <td>open mentally mentally i affliction affliction...</td>\n",
       "      <td>0.0</td>\n",
       "    </tr>\n",
       "    <tr>\n",
       "      <th>1</th>\n",
       "      <td>staying origination origination disenchantment...</td>\n",
       "      <td>0.0</td>\n",
       "    </tr>\n",
       "    <tr>\n",
       "      <th>2</th>\n",
       "      <td>tell thus thus play play play play play short ...</td>\n",
       "      <td>0.0</td>\n",
       "    </tr>\n",
       "    <tr>\n",
       "      <th>3</th>\n",
       "      <td>illumination origination origination originati...</td>\n",
       "      <td>0.0</td>\n",
       "    </tr>\n",
       "    <tr>\n",
       "      <th>4</th>\n",
       "      <td>stressfulness stressfulness stressfulness stre...</td>\n",
       "      <td>0.0</td>\n",
       "    </tr>\n",
       "    <tr>\n",
       "      <th>...</th>\n",
       "      <td>...</td>\n",
       "      <td>...</td>\n",
       "    </tr>\n",
       "    <tr>\n",
       "      <th>585</th>\n",
       "      <td>hath hath neither neither soft handle short be...</td>\n",
       "      <td>1.0</td>\n",
       "    </tr>\n",
       "    <tr>\n",
       "      <th>586</th>\n",
       "      <td>rage neither neither land land remedy came cam...</td>\n",
       "      <td>1.0</td>\n",
       "    </tr>\n",
       "    <tr>\n",
       "      <th>587</th>\n",
       "      <td>neither neither great great overtaken yielding...</td>\n",
       "      <td>1.0</td>\n",
       "    </tr>\n",
       "    <tr>\n",
       "      <th>588</th>\n",
       "      <td>diadem neither land guest great came fears ask...</td>\n",
       "      <td>1.0</td>\n",
       "    </tr>\n",
       "    <tr>\n",
       "      <th>589</th>\n",
       "      <td>lambs neither land land land great great came ...</td>\n",
       "      <td>1.0</td>\n",
       "    </tr>\n",
       "  </tbody>\n",
       "</table>\n",
       "<p>590 rows × 2 columns</p>\n",
       "</div>"
      ],
      "text/plain": [
       "                                                  text  label\n",
       "0    open mentally mentally i affliction affliction...    0.0\n",
       "1    staying origination origination disenchantment...    0.0\n",
       "2    tell thus thus play play play play play short ...    0.0\n",
       "3    illumination origination origination originati...    0.0\n",
       "4    stressfulness stressfulness stressfulness stre...    0.0\n",
       "..                                                 ...    ...\n",
       "585  hath hath neither neither soft handle short be...    1.0\n",
       "586  rage neither neither land land remedy came cam...    1.0\n",
       "587  neither neither great great overtaken yielding...    1.0\n",
       "588  diadem neither land guest great came fears ask...    1.0\n",
       "589  lambs neither land land land great great came ...    1.0\n",
       "\n",
       "[590 rows x 2 columns]"
      ]
     },
     "execution_count": 71,
     "metadata": {},
     "output_type": "execute_result"
    }
   ],
   "source": [
    "df3 = {'text':[], 'label':[]}\n",
    "df3 = pd.DataFrame(data=df3)\n",
    "for i in range (df_labelled.shape[0]): #tyle jest obserwacji\n",
    "    a=\"\"\n",
    "    for col in without_labels.columns:\n",
    "        val = without_labels[col].values[i]\n",
    "        if(val!=0):\n",
    "            a+=int(val)* (str(col)+\" \")\n",
    "    new_row={'text': a, 'label': changed_labels_3.flat[i]}\n",
    "    df3=df3.append(new_row, ignore_index=True)\n",
    "df3"
   ]
  },
  {
   "cell_type": "code",
   "execution_count": 72,
   "id": "stuffed-assurance",
   "metadata": {},
   "outputs": [],
   "source": [
    "vec3 = TfidfVectorizer(stop_words=\"english\")\n",
    "vec3.fit(df3.text.values)\n",
    "features3 = vec3.transform(df3.text.values)"
   ]
  },
  {
   "cell_type": "code",
   "execution_count": 73,
   "id": "loose-helping",
   "metadata": {},
   "outputs": [
    {
     "data": {
      "text/plain": [
       "MiniBatchKMeans(n_clusters=2, random_state=0)"
      ]
     },
     "execution_count": 73,
     "metadata": {},
     "output_type": "execute_result"
    }
   ],
   "source": [
    "cls3 = MiniBatchKMeans(n_clusters=2, random_state=random_state)\n",
    "cls3.fit(features3)"
   ]
  },
  {
   "cell_type": "code",
   "execution_count": 74,
   "id": "complex-treasure",
   "metadata": {},
   "outputs": [
    {
     "data": {
      "text/plain": [
       "array([0, 0, 0, 0, 0, 0, 0, 0, 0, 0, 0, 0, 0, 0, 0, 0, 0, 0, 0, 0, 0, 0,\n",
       "       0, 0, 0, 0, 0, 0, 0, 0, 0, 0, 0, 0, 0, 0, 0, 0, 0, 0, 0, 0, 0, 0,\n",
       "       0, 0, 0, 0, 0, 0, 0, 0, 0, 0, 0, 0, 0, 0, 0, 0, 0, 0, 0, 0, 0, 0,\n",
       "       0, 0, 0, 0, 0, 0, 0, 0, 0, 0, 0, 0, 0, 0, 0, 0, 0, 0, 0, 0, 0, 0,\n",
       "       0, 0, 0, 0, 0, 0, 0, 0, 0, 0, 0, 0, 0, 0, 0, 0, 0, 0, 0, 0, 0, 0,\n",
       "       0, 0, 0, 0, 0, 0, 0, 0, 0, 0, 0, 0, 0, 0, 0, 0, 0, 0, 0, 0, 0, 0,\n",
       "       0, 0, 0, 0, 0, 0, 0, 0, 0, 0, 0, 0, 0, 0, 0, 0, 0, 0, 0, 0, 0, 0,\n",
       "       0, 0, 0, 0, 0, 0, 0, 0, 0, 0, 0, 0, 0, 0, 0, 0, 1, 0, 0, 0, 0, 0,\n",
       "       0, 0, 0, 0, 0, 0, 0, 0, 0, 0, 0, 0, 0, 0, 0, 0, 0, 0, 0, 0, 0, 0,\n",
       "       0, 0, 0, 0, 0, 0, 0, 0, 0, 0, 0, 0, 0, 0, 0, 0, 0, 0, 0, 0, 0, 0,\n",
       "       0, 0, 0, 0, 0, 0, 0, 0, 0, 0, 0, 0, 0, 0, 0, 0, 0, 0, 0, 0, 0, 0,\n",
       "       0, 0, 0, 0, 0, 0, 0, 0, 0, 0, 0, 0, 0, 0, 0, 0, 0, 0, 0, 0, 0, 0,\n",
       "       0, 0, 0, 0, 0, 0, 0, 0, 0, 0, 0, 0, 0, 0, 0, 0, 0, 0, 0, 0, 0, 0,\n",
       "       0, 0, 0, 0, 0, 0, 0, 0, 0, 0, 0, 0, 0, 0, 0, 0, 0, 0, 0, 0, 0, 0,\n",
       "       0, 0, 0, 0, 0, 0, 0, 0, 0, 0, 0, 0, 0, 0, 0, 0, 0, 0, 0, 0, 0, 0,\n",
       "       0, 0, 0, 0, 0, 0, 0, 0, 0, 0, 0, 0, 0, 0, 0, 0, 0, 0, 0, 0, 0, 0,\n",
       "       0, 0, 0, 0, 0, 0, 0, 0, 0, 0, 0, 0, 0, 0, 0, 0, 0, 0, 0, 0, 0, 0,\n",
       "       0, 0, 0, 0, 0, 0, 0, 0, 0, 0, 0, 0, 0, 0, 0, 0, 0, 0, 0, 0, 0, 0,\n",
       "       0, 0, 0, 0, 0, 0, 0, 0, 0, 0, 0, 0, 0, 0, 0, 0, 0, 0, 0, 0, 0, 0,\n",
       "       0, 0, 0, 0, 0, 0, 0, 0, 0, 0, 0, 0, 0, 0, 0, 0, 0, 0, 1, 0, 0, 0,\n",
       "       0, 0, 0, 0, 0, 0, 0, 0, 0, 0, 0, 0, 0, 0, 0, 0, 0, 0, 0, 0, 0, 0,\n",
       "       0, 0, 0, 0, 0, 0, 1, 0, 0, 0, 0, 0, 1, 0, 0, 0, 1, 1, 1, 1, 1, 1,\n",
       "       1, 1, 1, 1, 1, 1, 1, 1, 1, 1, 1, 1, 1, 1, 1, 1, 1, 1, 1, 1, 1, 1,\n",
       "       1, 1, 1, 1, 1, 1, 1, 1, 1, 1, 1, 1, 1, 1, 1, 1, 1, 1, 1, 1, 1, 1,\n",
       "       1, 1, 1, 1, 1, 1, 1, 1, 1, 1, 1, 1, 1, 1, 1, 1, 1, 1, 1, 1, 1, 1,\n",
       "       1, 1, 1, 1, 1, 1, 1, 1, 1, 1, 1, 1, 1, 1, 1, 1, 1, 1, 1, 1, 1, 1,\n",
       "       1, 1, 1, 1, 1, 1, 1, 1, 1, 1, 1, 1, 1, 1, 1, 0, 1, 1])"
      ]
     },
     "execution_count": 74,
     "metadata": {},
     "output_type": "execute_result"
    }
   ],
   "source": [
    "cls3.predict(features3)"
   ]
  },
  {
   "cell_type": "code",
   "execution_count": 75,
   "id": "egyptian-companion",
   "metadata": {},
   "outputs": [],
   "source": [
    "pca3 = PCA(n_components=2, random_state=random_state)\n",
    "reduced_features = pca3.fit_transform(features3.toarray())"
   ]
  },
  {
   "cell_type": "code",
   "execution_count": 76,
   "id": "atmospheric-precipitation",
   "metadata": {},
   "outputs": [
    {
     "data": {
      "text/plain": [
       "0.9144605503896787"
      ]
     },
     "execution_count": 76,
     "metadata": {},
     "output_type": "execute_result"
    }
   ],
   "source": [
    "from sklearn.metrics import homogeneity_score\n",
    "homogeneity_score(df3.label, cls3.predict(features3))"
   ]
  },
  {
   "cell_type": "markdown",
   "id": "collected-monkey",
   "metadata": {},
   "source": [
    "Wyniki uzyskane w szczególności dla podziału na dwa klastry nie wyglądają tak źle. Przy następnym checkpoincie sprawdzimy, z pomocą większej ilości metryk, jak bardzo różnią się dokładnościami przewidywanych wyników te dwa podejścia."
   ]
  }
 ],
 "metadata": {
  "kernelspec": {
   "display_name": "Python 3",
   "language": "python",
   "name": "python3"
  },
  "language_info": {
   "codemirror_mode": {
    "name": "ipython",
    "version": 3
   },
   "file_extension": ".py",
   "mimetype": "text/x-python",
   "name": "python",
   "nbconvert_exporter": "python",
   "pygments_lexer": "ipython3",
   "version": "3.8.3"
  }
 },
 "nbformat": 4,
 "nbformat_minor": 5
}
