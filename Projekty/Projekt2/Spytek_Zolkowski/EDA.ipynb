{
 "cells": [
  {
   "cell_type": "code",
   "execution_count": null,
   "id": "forced-theorem",
   "metadata": {},
   "outputs": [],
   "source": [
    "import matplotlib.pyplot as plt\n",
    "import numpy as np\n",
    "import pandas as pd\n",
    "import seaborn as sns"
   ]
  },
  {
   "cell_type": "code",
   "execution_count": null,
   "id": "interstate-satellite",
   "metadata": {},
   "outputs": [],
   "source": [
    "data = pd.read_csv(\"data/online_shoppers_intention.csv\")"
   ]
  },
  {
   "cell_type": "markdown",
   "id": "reliable-greece",
   "metadata": {},
   "source": [
    "Ramka składa się z następujących kolumn:"
   ]
  },
  {
   "cell_type": "code",
   "execution_count": null,
   "id": "applicable-converter",
   "metadata": {},
   "outputs": [],
   "source": [
    "data.info()"
   ]
  },
  {
   "cell_type": "markdown",
   "id": "practical-front",
   "metadata": {},
   "source": [
    "Zmienne: \"Administrative\", \"Administrative Duration\", \"Informational\", \"Informational Duration\", \"Product Related\", \"Product Related Duration\", \"Bounce Rate\", \"Exit Rate\", \"Page Value\" oraz \"Special Day\" to zmienne numeryczne.\n",
    "\n",
    "Natomiast \"OperatingSystems\", \"Browser\", \"Region\", \"TrafficType\", \"VisitorType\", \"Weekend\" oraz \"Revenue\" to zmienne kategoryczne."
   ]
  },
  {
   "cell_type": "code",
   "execution_count": null,
   "id": "federal-albany",
   "metadata": {},
   "outputs": [],
   "source": [
    "num_vars = [\"Administrative\", \"Administrative_Duration\", \"Informational\", \"Informational_Duration\", \"ProductRelated\", \"ProductRelated_Duration\", \"BounceRates\", \"ExitRates\", \"PageValues\", \"SpecialDay\"]\n",
    "cat_vars = [\"OperatingSystems\", \"Browser\", \"Region\", \"TrafficType\", \"VisitorType\", \"Weekend\",\"Revenue\"]"
   ]
  },
  {
   "cell_type": "code",
   "execution_count": null,
   "id": "rough-guarantee",
   "metadata": {},
   "outputs": [],
   "source": [
    "from sklearn.preprocessing import FunctionTransformer\n",
    "\n",
    "\n",
    "transformer = FunctionTransformer(np.log1p)\n",
    "\n",
    "transformer.transform(data[num_vars]).hist(bins=30, figsize=(21,14))\n",
    "plt.show()"
   ]
  },
  {
   "cell_type": "code",
   "execution_count": null,
   "id": "affected-lawrence",
   "metadata": {},
   "outputs": [],
   "source": [
    "n, bins, patches = plt.hist(x=transformer.transform(data[num_vars])[\"PageValues\"], bins='auto', \n",
    "                            alpha=0.7, rwidth=0.85)\n",
    "plt.grid(axis='y', alpha=0.75)\n",
    "plt.title(\"Page Values\")\n",
    "plt.ylim(top=1000)\n",
    "plt.show()"
   ]
  },
  {
   "cell_type": "code",
   "execution_count": null,
   "id": "regional-metro",
   "metadata": {},
   "outputs": [],
   "source": [
    "n, bins, patches = plt.hist(x=transformer.transform(data[num_vars])[\"BounceRates\"], bins=30, \n",
    "                            alpha=0.7, rwidth=0.85)\n",
    "plt.grid(axis='y', alpha=0.75)\n",
    "plt.title(\"Bounce Rates\")\n",
    "plt.ylim(top=1000)\n",
    "plt.show()"
   ]
  },
  {
   "cell_type": "code",
   "execution_count": null,
   "id": "appointed-authentication",
   "metadata": {},
   "outputs": [],
   "source": [
    "n, bins, patches = plt.hist(x=transformer.transform(data[num_vars])[\"Informational\"], bins='auto', \n",
    "                            alpha=0.7, rwidth=0.85)\n",
    "plt.grid(axis='y', alpha=0.75)\n",
    "plt.title(\"Informational\")\n",
    "plt.ylim(top=1500)\n",
    "plt.show()"
   ]
  },
  {
   "cell_type": "code",
   "execution_count": null,
   "id": "worst-creator",
   "metadata": {},
   "outputs": [],
   "source": [
    "n, bins, patches = plt.hist(x=transformer.transform(data[num_vars])[\"Informational_Duration\"], bins='auto', \n",
    "                            alpha=0.7, rwidth=0.85)\n",
    "plt.grid(axis='y', alpha=0.75)\n",
    "plt.title(\"Informational Duration\")\n",
    "plt.ylim(top=1000)\n",
    "plt.show()"
   ]
  },
  {
   "cell_type": "code",
   "execution_count": null,
   "id": "spare-gambling",
   "metadata": {},
   "outputs": [],
   "source": [
    "num_vars_with_rev = num_vars + [\"Revenue\"]\n",
    "\n",
    "sns.pairplot(data[num_vars_with_rev].drop(\"SpecialDay\", axis=1), hue=\"Revenue\")\n",
    "plt.show()"
   ]
  },
  {
   "cell_type": "code",
   "execution_count": null,
   "id": "democratic-malpractice",
   "metadata": {},
   "outputs": [],
   "source": [
    "corr = data[num_vars].corr()\n",
    "f, ax = plt.subplots(figsize=(15, 15))\n",
    "ax = sns.heatmap(\n",
    "    corr, \n",
    "    vmin=-1, vmax=1, center=0,\n",
    "    cmap=sns.diverging_palette(20, 220, n=200),\n",
    "    square=True\n",
    ")\n",
    "ax.set_xticklabels(\n",
    "    ax.get_xticklabels(),\n",
    "    rotation=45,\n",
    "    horizontalalignment='right'\n",
    ")\n",
    "plt.show()"
   ]
  },
  {
   "cell_type": "code",
   "execution_count": null,
   "id": "noted-economy",
   "metadata": {},
   "outputs": [],
   "source": [
    "from sklearn.metrics import normalized_mutual_info_score\n",
    "mi = []\n",
    "cat_data = data[cat_vars]\n",
    "\n",
    "\n",
    "for i in range(len(cat_vars)):\n",
    "    temp = []\n",
    "    for j in range(len(cat_vars)):\n",
    "        temp.append(normalized_mutual_info_score(cat_data.iloc[:,i], cat_data.iloc[:,j]))\n",
    "    mi.append(temp)\n",
    "\n",
    "midf = pd.DataFrame(mi, columns=cat_vars, index=cat_vars)\n",
    "\n",
    "f, ax = plt.subplots(figsize=(15, 15))\n",
    "ax = sns.heatmap(\n",
    "    midf, \n",
    "    vmin=-1, vmax=1, center=0,\n",
    "    cmap=sns.diverging_palette(20, 220, n=200),\n",
    "    square=True\n",
    ")\n",
    "ax.set_xticklabels(\n",
    "    ax.get_xticklabels(),\n",
    "    rotation=45,\n",
    "    horizontalalignment='right'\n",
    ")\n",
    "plt.show()"
   ]
  },
  {
   "cell_type": "code",
   "execution_count": null,
   "id": "beneficial-hygiene",
   "metadata": {},
   "outputs": [],
   "source": [
    "plt.figure(figsize = (10, 7))\n",
    "sns.countplot(data = data, x = \"VisitorType\")\n",
    "plt.xlabel(\"Visitor type\")\n",
    "plt.ylabel(\"Number\")\n",
    "plt.show()"
   ]
  },
  {
   "cell_type": "code",
   "execution_count": null,
   "id": "lyric-slide",
   "metadata": {},
   "outputs": [],
   "source": [
    "plt.figure(figsize=(20,20))\n",
    "data.groupby(\"OperatingSystems\")[\"Revenue\"].value_counts().unstack().plot(kind=\"bar\")\n",
    "plt.title(\"Revenue by OS\")\n",
    "plt.show()\n",
    "\n",
    "percentage = data.groupby(\"OperatingSystems\")[\"Revenue\"].value_counts().unstack()\n",
    "percentage[\"percentage\"] = percentage[True] / (percentage[True] + percentage[False] )\n",
    "percentage"
   ]
  },
  {
   "cell_type": "code",
   "execution_count": null,
   "id": "outdoor-patrick",
   "metadata": {},
   "outputs": [],
   "source": [
    "plt.figure(figsize = (10,10))\n",
    "data.groupby(\"Browser\")[\"Revenue\"].value_counts().unstack().plot(kind=\"bar\")\n",
    "plt.title(\"Revenue by browser\")\n",
    "plt.show()\n",
    "\n",
    "percentage = data.groupby(\"Browser\")[\"Revenue\"].value_counts().unstack()\n",
    "\n",
    "percentage[\"percentage\"] = percentage[True] / (percentage[True] + percentage[False] )\n",
    "percentage"
   ]
  },
  {
   "cell_type": "code",
   "execution_count": null,
   "id": "southeast-biodiversity",
   "metadata": {},
   "outputs": [],
   "source": [
    "istrue = data[\"Revenue\"]== True\n",
    "\n",
    "fig, (ax1, ax2) = plt.subplots(1,2, sharey=True, figsize=(12,9))\n",
    "\n",
    "ax1.hist(data.loc[istrue, \"BounceRates\"])\n",
    "ax1.set_title(\"Users generating revenue\")\n",
    "ax2.hist(data.loc[istrue==False, \"BounceRates\"])\n",
    "ax2.set_title(\"Users not generating revenue\")\n",
    "plt.show()"
   ]
  },
  {
   "cell_type": "code",
   "execution_count": null,
   "id": "married-ideal",
   "metadata": {},
   "outputs": [],
   "source": [
    "plt.figure(figsize=(12,9))\n",
    "sns.boxplot(x=data[\"Revenue\"], y=data[\"BounceRates\"])\n",
    "plt.ylim([-0.001,0.06])"
   ]
  },
  {
   "cell_type": "code",
   "execution_count": null,
   "id": "positive-individual",
   "metadata": {},
   "outputs": [],
   "source": [
    "plt.figure(figsize=(12,9))\n",
    "sns.boxplot(x=data[\"Revenue\"], y=data[\"ProductRelated_Duration\"])\n",
    "plt.ylim([0,6000])\n",
    "plt.show()"
   ]
  },
  {
   "cell_type": "code",
   "execution_count": null,
   "id": "private-algeria",
   "metadata": {},
   "outputs": [],
   "source": [
    "def count_clustering_scores(X, cluster_num, model, score_fun):\n",
    "    if isinstance(cluster_num, int):\n",
    "        cluster_num_iter = [cluster_num]\n",
    "    else:\n",
    "        cluster_num_iter = cluster_num\n",
    "        \n",
    "    scores = []    \n",
    "    for k in cluster_num_iter:\n",
    "        model_instance = model(n_clusters=k)\n",
    "        labels = model_instance.fit_predict(X)\n",
    "        wcss = score_fun(X, labels)\n",
    "        scores.append(wcss)\n",
    "    \n",
    "    if isinstance(cluster_num, int):\n",
    "        return scores[0]\n",
    "    else:\n",
    "        return scores"
   ]
  },
  {
   "cell_type": "code",
   "execution_count": null,
   "id": "accessory-hazard",
   "metadata": {},
   "outputs": [],
   "source": [
    "from sklearn.metrics import silhouette_score\n",
    "from sklearn.cluster import KMeans\n",
    "\n",
    "cluster_num_seq = range(2, 20)\n",
    "silhouette_vec = count_clustering_scores(data.drop([\"Month\", \"VisitorType\"], axis=1), cluster_num_seq, KMeans, silhouette_score)\n",
    "plt.plot(cluster_num_seq, silhouette_vec, 'bx-')\n",
    "plt.xlabel('k')\n",
    "plt.ylabel('Silhouette score')\n",
    "plt.show()"
   ]
  },
  {
   "cell_type": "code",
   "execution_count": null,
   "id": "improved-diesel",
   "metadata": {},
   "outputs": [],
   "source": [
    "from sklearn.metrics import davies_bouldin_score\n",
    "from sklearn.cluster import KMeans\n",
    "\n",
    "cluster_num_seq = range(2, 20)\n",
    "davies_vec = count_clustering_scores(data.drop([\"Month\", \"VisitorType\"], axis=1), cluster_num_seq, KMeans, davies_bouldin_score)\n",
    "plt.plot(cluster_num_seq, davies_vec, 'bx-')\n",
    "plt.xlabel('k')\n",
    "plt.ylabel('davies-bouldin score')\n",
    "plt.show()"
   ]
  },
  {
   "cell_type": "code",
   "execution_count": null,
   "id": "metallic-arrest",
   "metadata": {},
   "outputs": [],
   "source": [
    "from sklearn.manifold import TSNE\n",
    "\n",
    "\n",
    "tsne = TSNE(perplexity = 60)\n",
    "\n",
    "X_tsne = pd.DataFrame(tsne.fit_transform(data.drop([\"Month\", \"VisitorType\"], axis=1)), columns=[\"tsne1\", \"tsne2\"])\n",
    "\n",
    "X_tsne.head()"
   ]
  },
  {
   "cell_type": "code",
   "execution_count": null,
   "id": "convenient-settlement",
   "metadata": {},
   "outputs": [],
   "source": [
    "km = KMeans(n_clusters=11)\n",
    "\n",
    "km.fit(data.drop([\"Month\", \"VisitorType\"], axis=1))\n",
    "\n",
    "predictions = km.labels_\n",
    "\n",
    "sns.scatterplot(x=\"tsne1\", y=\"tsne2\", data=X_tsne, hue=predictions, palette=sns.color_palette(\"muted\", n_colors=11))"
   ]
  },
  {
   "cell_type": "code",
   "execution_count": null,
   "id": "explicit-diabetes",
   "metadata": {},
   "outputs": [],
   "source": [
    "from sklearn.cluster import AgglomerativeClustering\n",
    "\n",
    "agg = AgglomerativeClustering(n_clusters=11)\n",
    "\n",
    "agg.fit(data.drop([\"Month\", \"VisitorType\"], axis=1))\n",
    "\n",
    "\n",
    "predictions = agg.labels_\n",
    "\n",
    "sns.scatterplot(x=\"tsne1\", y=\"tsne2\", data=X_tsne, hue=predictions, palette=sns.color_palette(\"muted\", n_colors=11))"
   ]
  }
 ],
 "metadata": {
  "kernelspec": {
   "display_name": "Python 3",
   "language": "python",
   "name": "python3"
  },
  "language_info": {
   "codemirror_mode": {
    "name": "ipython",
    "version": 3
   },
   "file_extension": ".py",
   "mimetype": "text/x-python",
   "name": "python",
   "nbconvert_exporter": "python",
   "pygments_lexer": "ipython3",
   "version": "3.8.7"
  }
 },
 "nbformat": 4,
 "nbformat_minor": 5
}
