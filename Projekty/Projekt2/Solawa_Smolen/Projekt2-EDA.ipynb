{
 "cells": [
  {
   "cell_type": "markdown",
   "metadata": {},
   "source": [
    "# Projekt 2 - EDA\n",
    "Online shoppers intention zawierają informację o aktywności użytkowników w sesji i czy w trakcie sesji użytkownik dokonał jakiegoś zakupu"
   ]
  },
  {
   "cell_type": "code",
   "execution_count": null,
   "metadata": {},
   "outputs": [],
   "source": [
    "import pandas as pd \n",
    "import numpy as np\n",
    "from matplotlib import pyplot as plt\n",
    "import seaborn as sns\n",
    "import pandas_profiling\n",
    "import copy\n",
    "from sklearn.decomposition import PCA\n",
    "import sklearn.metrics\n",
    "from sklearn import manifold"
   ]
  },
  {
   "cell_type": "markdown",
   "metadata": {},
   "source": [
    "## Podstawowe informacje\n",
    "W celu pozyskania podstawowych informacji użyjemy narzędzia do zautomatyzowanej eksploracji danych **pandas_profiling**. "
   ]
  },
  {
   "cell_type": "code",
   "execution_count": null,
   "metadata": {},
   "outputs": [],
   "source": [
    "df=pd.read_csv(\"online_shoppers_intention.csv\")\n",
    "df=df.info()"
   ]
  },
  {
   "cell_type": "markdown",
   "metadata": {},
   "source": [
    "Nie ma braków danych\n",
    "Zmienna Month i VisitorsType (Returning, New, Other) typu object\n",
    "Zmienna Weekend i Revenue typu bool.\n",
    "\n",
    "Zmienne `Administrative`, `Informational`, `ProductRelated` przedstawiają ile stron danego typu odwiedził użytkownik\n",
    "\n",
    "`Administrative_Duration`,  `Informational_Duration`, `ProductRelated_Duration` ile czasu w sumie użytkownik spędził na stronie danego typu\n",
    "\n",
    "`BounceRates` - procent stron które użytkownik odwiedził bez żadnej dalszej interakcji\n",
    "\n",
    "`SpecialDay` - jak blisko specjalnego dnia była sesja"
   ]
  },
  {
   "cell_type": "code",
   "execution_count": null,
   "metadata": {},
   "outputs": [],
   "source": [
    "df=pd.read_csv(\"online_shoppers_intention.csv\")\n",
    "df=df.dropna()"
   ]
  },
  {
   "cell_type": "code",
   "execution_count": null,
   "metadata": {},
   "outputs": [],
   "source": [
    "df.profile_report()"
   ]
  },
  {
   "cell_type": "markdown",
   "metadata": {},
   "source": [
    "### Wnioski:\n",
    "* dużo zer w zmiennych opisujących pobyt na konkretnych typach stron \n",
    "* Większość wizyt nie kończy się transakcją\n",
    "* Przewaga przeglądarki 1. i 2.\n",
    "* Czy jedna sesja = jedna witryna? Czym są zmienne opisujące strony\n"
   ]
  },
  {
   "cell_type": "markdown",
   "metadata": {},
   "source": [
    "## Macierz korelacji"
   ]
  },
  {
   "cell_type": "code",
   "execution_count": null,
   "metadata": {},
   "outputs": [],
   "source": [
    "nums=[\"Administrative\", \"Administrative_Duration\", \n",
    "      \"Informational\", \"Informational_Duration\", \n",
    "      \"ProductRelated\", \"ProductRelated_Duration\",\n",
    "     \"BounceRates\", \"ExitRates\", \"PageValues\",\n",
    "     \"SpecialDay\", \"VisitorType\", \"Revenue\"]\n",
    "df_hm=df[nums]\n",
    "df_hm=df_hm.replace(False, 0)\n",
    "df_hm=df_hm.replace(True, 1)\n",
    "df_hm=df_hm.replace(\"New_Visitor\", 0)\n",
    "df_hm=df_hm.replace(\"Returning_Visitor\", 1)\n",
    "df_hm=df_hm.replace(\"Other\", 0.5)   #jest ich stosunkowo mało więc to bez większego znaczenia \n",
    "df_hm=df_hm.replace(\"\")\n",
    "pd.to_numeric(df_hm[\"VisitorType\"])\n",
    "df_hm=df_hm\n",
    "plt.figure(figsize=(10, 10))\n",
    "sns.heatmap(df_hm.corr(), annot=True, annot_kws={'size': 11}, fmt='.2f')"
   ]
  },
  {
   "cell_type": "markdown",
   "metadata": {},
   "source": [
    "### Wnioski/pytania do macierzy korelacji\n",
    "* Ujemna korelacjia pomiędzy `SpecialDay` i wszystkimi zmiennymi dot. czasu spędzonego na stronach oraz zmiennej `Revenue` - zaskakujące\n",
    "* Ujemna korelacja pomiędzy `ExitRates`  i `Revenue` - też nieintuicyjne\n",
    "* Czym tak naprawdę jest `PageValues`\n",
    "* Bardzo duża pomiędzy `ExitRates` i `BounceRates` - czy to ludzie którzy po odpaleniu strony od razu ją zamknęli?"
   ]
  },
  {
   "cell_type": "code",
   "execution_count": null,
   "metadata": {},
   "outputs": [],
   "source": [
    "sns.set()\n",
    "cols = ['Administrative', 'Informational',\n",
    "       \"ProductRelated\"]\n",
    "sns.pairplot(df[cols], size = 2.5)\n",
    "plt.show();"
   ]
  },
  {
   "cell_type": "code",
   "execution_count": null,
   "metadata": {},
   "outputs": [],
   "source": [
    "sns.set()\n",
    "cols = ['ExitRates', 'BounceRates',\n",
    "       \"PageValues\"]\n",
    "sns.pairplot(df[cols], size = 2.5)\n",
    "plt.show();"
   ]
  },
  {
   "cell_type": "markdown",
   "metadata": {},
   "source": [
    "Dla ExitRates/BounceRates jedna obserwacja znajduje się w innej częsci trójkąta"
   ]
  },
  {
   "cell_type": "markdown",
   "metadata": {},
   "source": [
    "## Proporcje w spędzonym czasie w zależności od zakupu"
   ]
  },
  {
   "cell_type": "code",
   "execution_count": null,
   "metadata": {},
   "outputs": [],
   "source": [
    "inf_dur=df[\"Informational_Duration\"].sum()\n",
    "prod_dur=df[\"ProductRelated_Duration\"].sum()\n",
    "adm_dur=df[\"Administrative_Duration\"].sum()\n",
    "labels = ['Administrative_Duration', 'Informational_Duration', 'ProductRelated_Duration']\n",
    "sizes = [adm_dur, inf_dur, prod_dur]\n",
    "colors=[\"khaki\", \"mediumseagreen\", \"skyblue\"]\n",
    "fig, axs=plt.subplots(ncols=1, nrows=3, figsize=(20,20))\n",
    "axs[0].pie(sizes, labels=labels,  autopct='%1.1f%%', textprops={'fontsize': 14}, colors=colors)\n",
    "axs[0].set_title(\"All users\", fontsize=16)\n",
    "X=df[df[\"Revenue\"]==True]\n",
    "inf_dur=X[\"Informational_Duration\"].sum()\n",
    "prod_dur=X[\"ProductRelated_Duration\"].sum()\n",
    "adm_dur=X[\"Administrative_Duration\"].sum()\n",
    "labels = ['Administrative_Duration', 'Informational_Duration', 'ProductRelated_Duration']\n",
    "sizes = [adm_dur, inf_dur, prod_dur]\n",
    "colors=[\"khaki\", \"mediumseagreen\", \"skyblue\"]\n",
    "axs[1].pie(sizes, labels=labels,  autopct='%1.1f%%', textprops={'fontsize': 14}, colors=colors)\n",
    "axs[1].set_title(\"Revenue == True\", fontsize=16)\n",
    "X=df[df[\"Revenue\"]==False]\n",
    "inf_dur=X[\"Informational_Duration\"].sum()\n",
    "prod_dur=X[\"ProductRelated_Duration\"].sum()\n",
    "adm_dur=X[\"Administrative_Duration\"].sum()\n",
    "labels = ['Administrative_Duration', 'Informational_Duration', 'ProductRelated_Duration']\n",
    "sizes = [adm_dur, inf_dur, prod_dur]\n",
    "colors=[\"khaki\", \"mediumseagreen\", \"skyblue\"]\n",
    "axs[2].pie(sizes, labels=labels,  autopct='%1.1f%%', textprops={'fontsize': 14}, colors=colors)\n",
    "axs[2].set_title(\"Revenue == False\", fontsize=16)"
   ]
  },
  {
   "cell_type": "markdown",
   "metadata": {},
   "source": [
    "## Długość pobytu na stronie a zakup"
   ]
  },
  {
   "cell_type": "code",
   "execution_count": null,
   "metadata": {},
   "outputs": [],
   "source": [
    "X=df.copy()\n",
    "plt.figure(figsize=(10, 10))\n",
    "X[\"Time\"]=df[\"Informational_Duration\"]+df[\"ProductRelated_Duration\"]+df[\"Administrative_Duration\"]\n",
    "sns.boxplot(data=X, x=\"Revenue\", y=\"Time\")\n",
    "plt.ylim(-100, 30000)"
   ]
  },
  {
   "cell_type": "markdown",
   "metadata": {},
   "source": [
    "## Rodzaje ruchu"
   ]
  },
  {
   "cell_type": "code",
   "execution_count": null,
   "metadata": {},
   "outputs": [],
   "source": [
    "plt.figure(figsize=(10, 10))\n",
    "X = pd.crosstab(df['TrafficType'], df['Revenue'])\n",
    "X.reset_index(inplace=True)\n",
    "plt.bar(X[\"TrafficType\"], X[True]+X[False])\n",
    "plt.title(\"Ilość wizyt poszczególnego typu (TrafficType)\")"
   ]
  },
  {
   "cell_type": "markdown",
   "metadata": {},
   "source": [
    "## Rodzaj ruchu a zakup"
   ]
  },
  {
   "cell_type": "code",
   "execution_count": null,
   "metadata": {},
   "outputs": [],
   "source": [
    "plt.figure(figsize=(10, 10))\n",
    "X = pd.crosstab(df['TrafficType'], df['Revenue'])\n",
    "X.reset_index(inplace=True)\n",
    "plt.bar(X[\"TrafficType\"], X[True]/X[False])\n",
    "plt.title(\"Procent wizyt zakończonych transakcją a rodzaj ruchu\")"
   ]
  },
  {
   "cell_type": "markdown",
   "metadata": {},
   "source": [
    "## Miesiące\n"
   ]
  },
  {
   "cell_type": "code",
   "execution_count": null,
   "metadata": {},
   "outputs": [],
   "source": [
    "X=df.copy()\n",
    "months = [\"Jan\", \"Feb\", \"Mar\", \"Apr\", \"May\", \"June\", \n",
    "          \"Jul\", \"Aug\", \"Sep\", \"Oct\", \"Nov\", \"Dec\"]\n",
    "X[\"Time\"]=df[\"Informational_Duration\"]+df[\"ProductRelated_Duration\"]+df[\"Administrative_Duration\"]\n",
    "X['Month'] = pd.Categorical(X['Month'], categories=months, ordered=True)\n",
    "X=X.groupby([\"Month\"]).agg({'Time':'sum'}).reset_index()\n",
    "X = X.sort_values(by=\"Month\")\n",
    "plt.figure(figsize=(10, 10))\n",
    "plt.bar(X[\"Month\"], X[\"Time\"])\n",
    "plt.title(\"Łączny czas spędzony przez użytkowników podczas wszystkich sesji\")"
   ]
  },
  {
   "cell_type": "code",
   "execution_count": null,
   "metadata": {},
   "outputs": [],
   "source": [
    "X=df.copy()\n",
    "X=X.replace(True, 1)\n",
    "X=X.replace(False, 0)\n",
    "months = [\"Jan\", \"Feb\", \"Mar\", \"April\", \"May\", \"June\", \n",
    "          \"Jul\", \"Aug\", \"Sep\", \"Oct\", \"Nov\", \"Dec\"]\n",
    "X['Month'] = pd.Categorical(X['Month'], categories=months, ordered=True)\n",
    "X=X.groupby([\"Month\"]).agg({'Revenue':['sum', \"count\"]}).reset_index()\n",
    "X = X.sort_values(by=\"Month\")\n",
    "X.columns=[\"Month\", \"sum\", \"count\"]\n",
    "plt.figure(figsize=(10, 10))\n",
    "plt.bar(X[\"Month\"], X[\"sum\"]/X[\"count\"])\n",
    "plt.title(\"Procent wizyt zakończonych transakcją\")\n",
    "\n",
    "\n"
   ]
  },
  {
   "cell_type": "code",
   "execution_count": null,
   "metadata": {},
   "outputs": [],
   "source": [
    "df[(df[\"Month\"]==\"Feb\") & (df[\"Revenue\"]==True)]"
   ]
  },
  {
   "cell_type": "markdown",
   "metadata": {},
   "source": [
    "## PCA"
   ]
  },
  {
   "cell_type": "code",
   "execution_count": null,
   "metadata": {},
   "outputs": [],
   "source": [
    "nums=[\"Administrative_Duration\", \n",
    "      \"Informational_Duration\", \n",
    "    \"ProductRelated_Duration\", \"SpecialDay\"]  #bierzemy zmienne opisujące  użytkowników a nie strony\n",
    "X=df[nums]\n",
    "X=(X-X.mean())/X.std()\n",
    "pca=PCA(2)\n",
    "pca.fit(X)\n",
    "plt.figure(figsize=(10, 10))\n",
    "X_pca=pca.transform(X)\n",
    "sns.scatterplot(X_pca[:, 0], X_pca[:,1], hue=df[\"Revenue\"]) \n"
   ]
  },
  {
   "cell_type": "markdown",
   "metadata": {},
   "source": [
    "### Wnioski:\n",
    "Z powodu dużej ilości zer w naszych danych, PCA nie daje szczególnie dobrych rezultatów. Widoczne na wykresie grupki wynikają z wartości zmiennej \"SpecialDay\", która przyjmuje w końcu ograniczoną ilość wartości - zależną od dnia, nie użytkownika.\n",
    "\n",
    "## Weekend"
   ]
  },
  {
   "cell_type": "code",
   "execution_count": null,
   "metadata": {},
   "outputs": [],
   "source": [
    "df.Weekend.value_counts()"
   ]
  },
  {
   "cell_type": "code",
   "execution_count": null,
   "metadata": {},
   "outputs": [],
   "source": [
    "plt.figure(figsize=(10, 10))\n",
    "tmp=df[[\"Weekend\", \"Revenue\"]].groupby([\"Revenue\", \"Weekend\"]).size().tolist()\n",
    "plt.bar([\"Weekend\",\"not Weekend\"], list(reversed(tmp[0:2])), label='Revenue - False', color=\"blue\")\n",
    "plt.bar([\"Weekend\",\"not Weekend\"], list(reversed(tmp[2:4])), bottom=list(reversed(tmp[0:2])),\n",
    "       label='Revenue - True', color=\"red\")\n",
    "plt.legend()\n",
    "plt.title(\"Weekend x Revenue\")\n",
    "plt.show()"
   ]
  },
  {
   "cell_type": "markdown",
   "metadata": {},
   "source": [
    "* Wiecej sesji odbyło się w ciagu tygodnia\n",
    "* Revenue w zależnosci od weekendu rozkłada sie podobnie w obu przypadkach, większość stanowi Revenue = False"
   ]
  },
  {
   "cell_type": "markdown",
   "metadata": {},
   "source": [
    "## Revenue vs  PageValues/ ExitRates/ BoinceRates"
   ]
  },
  {
   "cell_type": "code",
   "execution_count": null,
   "metadata": {},
   "outputs": [],
   "source": [
    "plt.figure(figsize=(10, 10))\n",
    "sns.violinplot(x = df['Revenue'], y = df['PageValues'])\n",
    "plt.title('Revenue vs PageValues')"
   ]
  },
  {
   "cell_type": "code",
   "execution_count": null,
   "metadata": {},
   "outputs": [],
   "source": [
    "plt.figure(figsize=(10, 10))\n",
    "sns.violinplot(x = df['Revenue'], y = df['ExitRates'])\n",
    "plt.title('Revenue vs ExitRates')"
   ]
  },
  {
   "cell_type": "code",
   "execution_count": null,
   "metadata": {},
   "outputs": [],
   "source": [
    "plt.figure(figsize=(10, 10))\n",
    "sns.violinplot(x = df['Revenue'], y = df['BounceRates'])\n",
    "plt.title('Revenue vs BounceRates')"
   ]
  },
  {
   "cell_type": "markdown",
   "metadata": {},
   "source": [
    "Dla  ExitRates i BounceRates  dla Revenue = False widać duża liczbę obserwacji o okolicy 2 i zaóważaliny wzrost w okolicy 0.20"
   ]
  },
  {
   "cell_type": "markdown",
   "metadata": {},
   "source": [
    "\n",
    "\n",
    "## Month vs SpecialDay"
   ]
  },
  {
   "cell_type": "code",
   "execution_count": null,
   "metadata": {},
   "outputs": [],
   "source": [
    "plt.figure(figsize=(10, 10))\n",
    "sns.violinplot(x = df['Month'], y = df['SpecialDay'], inner = 'points')\n",
    "plt.title('Month vs SpecialDay')"
   ]
  },
  {
   "cell_type": "markdown",
   "metadata": {},
   "source": [
    "## VisitorType"
   ]
  },
  {
   "cell_type": "code",
   "execution_count": null,
   "metadata": {},
   "outputs": [],
   "source": [
    "plt.figure(figsize=(10, 10))\n",
    "sns.violinplot(x = df['VisitorType'], y = df['BounceRates'], inner = 'points')\n",
    "plt.title('VisitorType vs BounceRates')"
   ]
  },
  {
   "cell_type": "code",
   "execution_count": null,
   "metadata": {},
   "outputs": [],
   "source": [
    "plt.figure(figsize=(10, 10))\n",
    "sns.violinplot(x = df['VisitorType'], y = df['ExitRates'], inner = 'points')\n",
    "plt.title('VisitorType vs ExitRates')"
   ]
  },
  {
   "cell_type": "markdown",
   "metadata": {},
   "source": [
    "New_Visitor dla ExitRates i BounceRates ma dużo obserwacji w okolicy 0. Dla Returning_Visitors instnieje wiele obcerwacji z wartościami pomiędzy 0 a 0.20."
   ]
  },
  {
   "cell_type": "code",
   "execution_count": null,
   "metadata": {},
   "outputs": [],
   "source": [
    "plt.figure(figsize=(10, 10))\n",
    "sns.violinplot(x = df['VisitorType'], y = df['PageValues'], inner = 'points')\n",
    "plt.title('VisitorType vs PageValues')"
   ]
  },
  {
   "cell_type": "markdown",
   "metadata": {},
   "source": [
    "Najwyższe PageValues jest dla New_Visitor. tym razem dużo obserwacji bliskich 0 przypada Returning_Visitors"
   ]
  }
 ],
 "metadata": {
  "kernelspec": {
   "display_name": "Python 3",
   "language": "python",
   "name": "python3"
  },
  "language_info": {
   "codemirror_mode": {
    "name": "ipython",
    "version": 3
   },
   "file_extension": ".py",
   "mimetype": "text/x-python",
   "name": "python",
   "nbconvert_exporter": "python",
   "pygments_lexer": "ipython3",
   "version": "3.8.8"
  }
 },
 "nbformat": 4,
 "nbformat_minor": 4
}
