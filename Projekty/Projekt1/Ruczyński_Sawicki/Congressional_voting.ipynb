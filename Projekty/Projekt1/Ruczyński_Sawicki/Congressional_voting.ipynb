{
 "cells": [
  {
   "cell_type": "code",
   "execution_count": null,
   "metadata": {
    "id": "TUDbbZvGe0v2"
   },
   "outputs": [],
   "source": [
    "import numpy as np\n",
    "import pandas as pd\n",
    "import requests\n",
    "import seaborn as sns\n",
    "import warnings\n",
    "warnings.filterwarnings('ignore')\n",
    "\n",
    "from matplotlib import pyplot as plt\n",
    "plt.style.use('ggplot')\n"
   ]
  },
  {
   "cell_type": "code",
   "execution_count": null,
   "metadata": {
    "colab": {
     "base_uri": "https://localhost:8080/",
     "height": 224
    },
    "id": "gT2vMpQofwjS",
    "outputId": "b49c1218-41af-4c0a-8ee0-b7b02b63f17d"
   },
   "outputs": [],
   "source": [
    "url = 'https://api.apispreadsheets.com/api/dataset/congressional-voting/'\n",
    "\n",
    "r = requests.get(url)\n",
    "data = r.json()\n",
    "df = pd.DataFrame.from_dict(data['data'], orient='columns')\n",
    "df.sample(5)"
   ]
  },
  {
   "cell_type": "markdown",
   "metadata": {
    "id": "qKM-OgK_gbCO"
   },
   "source": [
    "# Description\n",
    "\n",
    "This data set includes votes for each of the U.S. House of Representatives Congressmen on the 16 key votes identified by the CQA in 1986. The CQA lists nine different types of votes: voted for, paired for, and announced for (these three simplified to y), voted against, paired against, and announced against (these three simplified to n), voted present, voted present to avoid conflict of interest, and did not vote or otherwise make a position known (these three simplified to an unknown disposition noted in the dataset as ?).\n",
    "\n",
    "---\n",
    "Missing values are filled in with '?' for nominal and -100000 for numerical attributes\n",
    "\n"
   ]
  },
  {
   "cell_type": "code",
   "execution_count": null,
   "metadata": {
    "colab": {
     "base_uri": "https://localhost:8080/"
    },
    "id": "d_tm3BWGgRoO",
    "outputId": "2b32cd07-6f51-4d4c-892e-1eb1d826e089"
   },
   "outputs": [],
   "source": [
    "df.info()"
   ]
  },
  {
   "cell_type": "markdown",
   "metadata": {
    "id": "0oX3FHeahj84"
   },
   "source": [
    "# How does Y look like?\n"
   ]
  },
  {
   "cell_type": "code",
   "execution_count": null,
   "metadata": {
    "colab": {
     "base_uri": "https://localhost:8080/",
     "height": 609
    },
    "id": "2p8xbW6MiyVq",
    "outputId": "ebe8a068-bb1c-4f14-9ed7-8c61bbcdcc5a"
   },
   "outputs": [],
   "source": [
    "palette = {'republican': 'red', 'democrat': 'blue'}\n",
    "plt.figure(figsize=(20,10))\n",
    "ax = sns.countplot(data=df, x='political_party', hue='political_party', palette=palette)\n",
    "for p in ax.patches:\n",
    "  height = p.get_height()\n",
    "  if height > 0:\n",
    "    ax.text(p.get_x()+p.get_width()/2.,\n",
    "            height + 3,\n",
    "            '{:1.2f}%'.format(height/len(df)*100),\n",
    "            ha=\"center\") \n",
    "plt.show()"
   ]
  },
  {
   "cell_type": "markdown",
   "metadata": {
    "id": "MCjrW0hBQ71R"
   },
   "source": [
    "Immediately it is visible that democrats have advantage in numbers in comparison to republicans. It is very likely that this matter affects how people votes, so after deep analysis we will be able to predict if someone is democrat or republican by analysing their votes only."
   ]
  },
  {
   "cell_type": "code",
   "execution_count": null,
   "metadata": {
    "colab": {
     "base_uri": "https://localhost:8080/",
     "height": 1000
    },
    "id": "q57u6X6WuA4_",
    "outputId": "4cb74170-b55e-43ab-c09c-5605367f3fbf"
   },
   "outputs": [],
   "source": [
    "cols = df.columns.drop('political_party')\n",
    "\n",
    "def plot_countplots(columns):\n",
    "\n",
    "  fig, axis = plt.subplots(len(columns) // 3,3, figsize=(20,30))\n",
    "  for i in range(len(columns) // 3):\n",
    "        for j in range(3):\n",
    "\n",
    "          ax = sns.countplot(data=df, x=columns[i*3+j], hue='political_party', \n",
    "                           palette = palette, ax=axis[i][j], order=['y','n','?'])\n",
    "          for p in ax.patches:\n",
    "              height = p.get_height()\n",
    "              if height > 0:\n",
    "                ax.text(p.get_x()+p.get_width()/2.,\n",
    "                        height + 3,\n",
    "                        '{:1.2f}%'.format(height/len(df)*100),\n",
    "                        ha=\"center\")\n",
    "  plt.show()\n",
    "\n",
    "plot_countplots(cols)"
   ]
  },
  {
   "cell_type": "markdown",
   "metadata": {
    "id": "c9-XCrYzROQz"
   },
   "source": [
    "- `physician_fee_freeze` is the most divisive feature\n",
    "- `water_project_cost_sharing` is a feature which has very regular distribution"
   ]
  },
  {
   "cell_type": "markdown",
   "metadata": {
    "id": "b9kko42xdsnM"
   },
   "source": [
    "# **Correlation**\n",
    "\n",
    "To check if our assuptions about most dividing feature are correct, we've decided to add correlation matrix. By doing it we are able to see which features have common distribution, so we don't need them in data analysis.\n"
   ]
  },
  {
   "cell_type": "markdown",
   "metadata": {
    "id": "PV6XfXT5fFKw"
   },
   "source": [
    "We have to map our date, because basicaly we've got string data there and correlation won't work on such data. That's why we use dictionary 'party' which changes democrat and republican parties into, respectively, 2 and -2. All other values are mapped by dictionary val which swaps n for -1, ? for 0, y for 1."
   ]
  },
  {
   "cell_type": "code",
   "execution_count": null,
   "metadata": {
    "colab": {
     "base_uri": "https://localhost:8080/",
     "height": 224
    },
    "id": "iziASLOpWZJ4",
    "outputId": "96f686db-0681-4dbc-9cb6-7a4f6c5849b8"
   },
   "outputs": [],
   "source": [
    "val = {'n':-1, '?':0, 'y':1}\n",
    "party = {'democrat':2, 'republican':-2}\n",
    "\n",
    "df_num=df.copy()\n",
    "df_party = df_num['political_party'].copy()\n",
    "df_num.drop('political_party', axis=1, inplace=True)\n",
    "\n",
    "for column in df_num.columns:\n",
    "  df_num[column] = df_num[column].map(val)\n",
    "\n",
    "df_party = df_party.map(party)\n",
    "\n",
    "df_num = pd.concat([df_num,df_party], axis=1)\n",
    "\n",
    "df_num.head()"
   ]
  },
  {
   "cell_type": "code",
   "execution_count": null,
   "metadata": {
    "colab": {
     "base_uri": "https://localhost:8080/",
     "height": 914
    },
    "id": "X8zj28tzYPpJ",
    "outputId": "bb08899a-c701-4263-db91-cdf8e019eb31"
   },
   "outputs": [],
   "source": [
    "plt.figure(figsize=(26,13))\n",
    "df_num_cor=df_num.iloc[:,0:18]\n",
    "c= df_num_cor.corr()\n",
    "sns.heatmap(c,cmap='PRGn',annot=True)"
   ]
  },
  {
   "cell_type": "markdown",
   "metadata": {
    "id": "-0FzjY8_hauz"
   },
   "source": [
    "***Summary***\n",
    "\n",
    "- As we can clearly see, `physician_fee_freeze` is the most correlated value with political_party which indicates that we were initially right with our assumptions. \n",
    "- We can also see that such variables like `adoption_of_the_budget_resolution`, `el_salvador_aid` and `education_spending` are also highly correlated with party.\n",
    "- On the contrary we can exclude such variables like `water_project_cost_sharing` and `immigration`, because they are almost uncorrelated with the political party."
   ]
  }
 ],
 "metadata": {
  "colab": {
   "collapsed_sections": [],
   "name": "Congressional_voting.ipynb",
   "provenance": []
  },
  "kernelspec": {
   "display_name": "Python 3",
   "language": "python",
   "name": "python3"
  },
  "language_info": {
   "codemirror_mode": {
    "name": "ipython",
    "version": 3
   },
   "file_extension": ".py",
   "mimetype": "text/x-python",
   "name": "python",
   "nbconvert_exporter": "python",
   "pygments_lexer": "ipython3",
   "version": "3.8.5"
  }
 },
 "nbformat": 4,
 "nbformat_minor": 1
}
