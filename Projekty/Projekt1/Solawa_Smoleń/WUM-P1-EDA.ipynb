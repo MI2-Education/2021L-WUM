{
 "cells": [
  {
   "cell_type": "markdown",
   "metadata": {},
   "source": [
    "# Wyników głosowań w kongresie USA w  1986 r."
   ]
  },
  {
   "cell_type": "markdown",
   "metadata": {},
   "source": [
    "Tematem naszego projektu jest przewidywanie przynależności partyjnej członka Izby Reprezentantów amerykańskiego kongresu w 1986 roku na podstawie dokonanych przez niego wyborów podczas głosowań. Naszym zbiorem danych jest ramka zawierająca dane o przynależności partyjnej poszczególnych reprezentantów i ich głosach podczas 16 kluczowych w tym roku głosowań. "
   ]
  },
  {
   "cell_type": "code",
   "execution_count": null,
   "metadata": {},
   "outputs": [],
   "source": [
    "import pandas as pd \n",
    "import numpy as np\n",
    "from matplotlib import pyplot as plt\n",
    "import seaborn as sns\n",
    "import sklearn.metrics\n",
    "import random\n",
    "from sklearn import manifold\n",
    "random.seed(42)\n",
    "import warnings\n",
    "warnings.filterwarnings('ignore')"
   ]
  },
  {
   "cell_type": "code",
   "execution_count": null,
   "metadata": {},
   "outputs": [],
   "source": [
    "df=pd.read_csv(\"congressional_voting_dataset.csv\")"
   ]
  },
  {
   "cell_type": "code",
   "execution_count": null,
   "metadata": {},
   "outputs": [],
   "source": [
    "df.info()"
   ]
  },
  {
   "cell_type": "code",
   "execution_count": null,
   "metadata": {},
   "outputs": [],
   "source": [
    "df.head()"
   ]
  },
  {
   "cell_type": "markdown",
   "metadata": {},
   "source": [
    "## Objaśnienie zmiennych\n",
    "Kolumny 0-15 zawierają wyniki głosowań na tematy skrótowo opisane w nazwach kolumn. Każdy rząd odpowiada jednemu reprezentantowi. Możliwe wartości: <br>\n",
    "**y** - głos na tak <br>\n",
    "**n** - głos na nie <br>\n",
    "**?** - brak głosu - niewzięcie udziału w głosowaniu lub wstrzymanie się od głosu <br>\n",
    "Ostatnia kolumna zawiera informacje o przynależności partyjnej reprezentanta - **republican** albo **democrat**. W naszej ramce danych nie występuje bezpośrednio problem braku danych, ale zapewne będzie trzeba jakoś rozwiązać kwestię wartości **?**."
   ]
  },
  {
   "cell_type": "code",
   "execution_count": null,
   "metadata": {},
   "outputs": [],
   "source": [
    "df.describe()"
   ]
  },
  {
   "cell_type": "code",
   "execution_count": null,
   "metadata": {},
   "outputs": [],
   "source": [
    "labels=[\"y\", \"n\", \"?\"]\n",
    "fig, axs = plt.subplots(ncols=2, nrows=8, figsize=(16, 32))\n",
    "for i in range(len(df.columns)-1):\n",
    "    col=df.columns[i]\n",
    "    tmp=df[[col, \"political_party\"]].groupby([\"political_party\", col]).size().tolist()\n",
    "    r, c= i//2, i%2\n",
    "    axs[r,c].bar(labels, list(reversed(tmp[0:3])), label='democrat', color=\"blue\")\n",
    "    axs[r,c].bar(labels, list(reversed(tmp[3:6])), bottom=list(reversed(tmp[0:3])),\n",
    "       label='republican', color=\"red\")\n",
    "    axs[r,c].legend()\n",
    "    axs[r,c].set_title(col)"
   ]
  },
  {
   "cell_type": "markdown",
   "metadata": {},
   "source": [
    "Obie partie głosowały podobnie na `water_project_cost_sharing` oraz `imigration`(lecz u demokratów przeważa `no`, a u republikan `yes`)\n",
    "Widoczna róznica głosów dla:\n",
    "- `adoption_of_the_budget_resolution`(r-no, d-yes)\n",
    "- `physician_fee_freeze`(r-yes, d-no)\n",
    "- `el_salvador_aid`(r-yes, d-no)\n",
    "- `education_spending`(r-yes, d-no)"
   ]
  },
  {
   "cell_type": "code",
   "execution_count": null,
   "metadata": {},
   "outputs": [],
   "source": [
    "df=df.replace(\"n\", 0)\n",
    "df=df.replace(\"y\", 1)\n",
    "df=df.replace(\"?\",  0.5)   #rozwiązanie tymczasowe\n",
    "df=df.replace(\"republican\", 0)\n",
    "df=df.replace(\"democrat\",  1)\n",
    "plt.figure(figsize=(10,10))\n",
    "sns.heatmap(df.corr(), annot=True, annot_kws={'size': 8}, fmt='.2f')\n",
    "plt.show()"
   ]
  },
  {
   "cell_type": "markdown",
   "metadata": {},
   "source": [
    "Jak widzimy, poziom korelacjii pomiędzy głosem a partią bardzo się różni w zależności od tematu głosowania - dla głosowania **water_project_cost_sharing** związek praktycznie nie istnieje, a dla **physician_fee_freeze** jest bardzo duży."
   ]
  },
  {
   "cell_type": "markdown",
   "metadata": {},
   "source": [
    "Spróbujemy teraz zobaczyć, na ile głosy poszczególnych reprezentantów przypominają głosy innych członków tej samej partii - w tym celu przekształcimy zapisy głosowań poszczególnych członków na wektory i policzymy odległości pomiędzy każdą parą. "
   ]
  },
  {
   "cell_type": "code",
   "execution_count": null,
   "metadata": {},
   "outputs": [],
   "source": [
    "adist=sklearn.metrics.pairwise_distances(df.drop([\"political_party\"], axis=1))\n",
    "adist"
   ]
  },
  {
   "cell_type": "markdown",
   "metadata": {},
   "source": [
    "Użyjemy teraz funkcji z pakietu manifold żeby przekształcić ramkę zawierającą wzajemne odległości na zbiór współrzędnych na dwuwymiarowej płaszczyźnie. Jest to rzut, który próbuje przekształcić wielowymiarowe zależności na płaszczyznę 2D. "
   ]
  },
  {
   "cell_type": "code",
   "execution_count": null,
   "metadata": {},
   "outputs": [],
   "source": [
    "df[\"political_party\"]=df[\"political_party\"].replace(0, \"republican\")\n",
    "df[\"political_party\"]=df[\"political_party\"].replace(1, \"democrat\")\n",
    "adist=np.array(adist)\n",
    "mds = manifold.MDS(n_components=2, dissimilarity=\"precomputed\", random_state=6)\n",
    "results = mds.fit(adist)\n",
    "coords = results.embedding_\n",
    "fig, ax = plt.subplots(figsize=(10,10))\n",
    "sns.scatterplot(\n",
    "    coords[:, 0], coords[:, 1], marker = 'o', hue=df[\"political_party\"], palette=[\"red\", \"blue\"]\n",
    "    )\n",
    "ax.set_title(\"Voting pattern similarity\")"
   ]
  },
  {
   "cell_type": "markdown",
   "metadata": {},
   "source": [
    "Dodatkowo sprawdźmy czy któraś z parti ma skołonność do głosowania na tak lub nie."
   ]
  },
  {
   "cell_type": "code",
   "execution_count": null,
   "metadata": {},
   "outputs": [],
   "source": [
    "df=pd.read_csv(\"congressional_voting_dataset.csv\")\n",
    "democrat_df = df[df['political_party'] == 'democrat']\n",
    "republican_df = df[df['political_party'] == 'republican']"
   ]
  },
  {
   "cell_type": "code",
   "execution_count": null,
   "metadata": {},
   "outputs": [],
   "source": [
    "tak = 0\n",
    "nie = 0\n",
    "brak = 0\n",
    "for i in range(0,15):\n",
    "    tak += (democrat_df[democrat_df.columns[i]] == \"y\").sum()\n",
    "    nie += (democrat_df[democrat_df.columns[i]] == \"n\").sum()\n",
    "    brak += (democrat_df[democrat_df.columns[i]] == \"?\").sum()\n",
    "\n",
    "labels = ['Yes', 'No', '?']\n",
    "sizes = [tak, nie,brak]\n",
    "plt.title(\"Democrat\")\n",
    "plt.bar(labels, sizes)\n",
    "plt.show()"
   ]
  },
  {
   "cell_type": "code",
   "execution_count": null,
   "metadata": {},
   "outputs": [],
   "source": [
    "tak = 0\n",
    "nie = 0\n",
    "brak = 0\n",
    "for i in range(0,15):\n",
    "    tak += (republican_df[republican_df.columns[i]] == \"y\").sum()\n",
    "    nie += (republican_df[republican_df.columns[i]] == \"n\").sum()\n",
    "    brak += (republican_df[republican_df.columns[i]] == \"?\").sum()\n",
    "\n",
    "labels = ['Yes', 'No', '?']\n",
    "sizes = [tak, nie,brak]\n",
    "plt.title(\"Republican\")\n",
    "plt.bar(labels, sizes)\n",
    "plt.show()"
   ]
  },
  {
   "cell_type": "markdown",
   "metadata": {},
   "source": [
    "W obu przypadkach licza głosów jest dość wyrównana."
   ]
  },
  {
   "cell_type": "code",
   "execution_count": null,
   "metadata": {},
   "outputs": [],
   "source": []
  }
 ],
 "metadata": {
  "kernelspec": {
   "display_name": "Python 3",
   "language": "python",
   "name": "python3"
  },
  "language_info": {
   "codemirror_mode": {
    "name": "ipython",
    "version": 3
   },
   "file_extension": ".py",
   "mimetype": "text/x-python",
   "name": "python",
   "nbconvert_exporter": "python",
   "pygments_lexer": "ipython3",
   "version": "3.8.3"
  }
 },
 "nbformat": 4,
 "nbformat_minor": 4
}
