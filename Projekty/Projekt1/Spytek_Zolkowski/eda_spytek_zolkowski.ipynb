{
 "cells": [
  {
   "cell_type": "code",
   "execution_count": null,
   "metadata": {},
   "outputs": [],
   "source": [
    "import pandas as pd\n",
    "import numpy as np\n",
    "import seaborn as sns\n",
    "import matplotlib.pyplot as plt\n",
    "import requests\n",
    "pd.set_option(\"display.max_columns\", None, \"display.width\", 1000)"
   ]
  },
  {
   "cell_type": "markdown",
   "metadata": {},
   "source": [
    "# EDA - projekt 1\n",
    "\n",
    "**Mikołaj Spytek**\n",
    "**Artur Żółkowski**\n",
    "\n",
    "Zajmujemy się zbiorem danych, dotyczącym uczniów dwóch szkół średnich w Portugalii. Dane pochodzą zarówno z odpowiedzi udzielonych bezpośrednio przez uczniów (dane dotyczące sytuacji społecznej, ekonomicznej itd.) oraz z informacji przechowywyanych przez szkołę (dane dotyczące m. in. ocen).\n",
    "\n",
    "Zmienną wyjaśnianą jest `G3` - ocena roczna. Pozostałe zmienne - w znaczej większości kategoryczne, to zmienne wyjaśniające. "
   ]
  },
  {
   "cell_type": "code",
   "execution_count": null,
   "metadata": {},
   "outputs": [],
   "source": [
    "r = requests.get('https://api.apispreadsheets.com/api/dataset/school-grades/')\n",
    "data = r.json()\n",
    "df = pd.DataFrame(data['data'])\n",
    "\n",
    "df.head()"
   ]
  },
  {
   "cell_type": "code",
   "execution_count": null,
   "metadata": {},
   "outputs": [],
   "source": [
    "df.info()"
   ]
  },
  {
   "cell_type": "markdown",
   "metadata": {},
   "source": [
    "Patrząc na opis zbioru danych, możemy zauważyć, że w ramce nie występują wartości puste. Widać również, że cały zbiór danych składa się z 649 obserwacji. Dla zmiennych faktycznie numerycznych, warto spojrzeć na statystyki opisowe. Dla pozostałych kolumn, nie ma to zbyt dużego sensu, gdyż "
   ]
  },
  {
   "cell_type": "code",
   "execution_count": null,
   "metadata": {},
   "outputs": [],
   "source": [
    "df[[\"age\", \"failures\", \"absences\", \"G1\",\"G2\",\"G3\"]].describe()"
   ]
  },
  {
   "cell_type": "code",
   "execution_count": null,
   "metadata": {},
   "outputs": [],
   "source": [
    "df.hist(bins=20, figsize=(18,12))\n",
    "plt.show()"
   ]
  },
  {
   "cell_type": "markdown",
   "metadata": {},
   "source": [
    "Dane mamy z dwóch szkół, więc warto zbadać, czy klasy są zbalansowane."
   ]
  },
  {
   "cell_type": "code",
   "execution_count": null,
   "metadata": {},
   "outputs": [],
   "source": [
    "sns.countplot(data=df, x=\"school\")\n",
    "plt.show()"
   ]
  },
  {
   "cell_type": "markdown",
   "metadata": {},
   "source": [
    "Niestety nie są - musimy to wziąć pod uwagę przy podziale na zbiór testowy i walidacyjny - ocenianie między szkołami może się różnic."
   ]
  },
  {
   "cell_type": "code",
   "execution_count": null,
   "metadata": {},
   "outputs": [],
   "source": [
    "df[\"G3\"].hist(bins=20)\n",
    "plt.title(\"Disribution of G3\")\n",
    "plt.show()"
   ]
  },
  {
   "cell_type": "markdown",
   "metadata": {},
   "source": [
    "Widzimy, że oceny końcowe miałyby rozkład podobny do normalnego, gdyby nie osoby z oceną 0 - powoduje to jednak, że mamy do czynienia z ujemną skośnością.\n",
    "\n",
    "Ciekawa rzecz pokazuje się nam, gdy spojrzymy na zmienną `G2` i jej korelację ze zmienną wyjaśnianą: "
   ]
  },
  {
   "cell_type": "code",
   "execution_count": null,
   "metadata": {},
   "outputs": [],
   "source": [
    "plt.figure(figsize=(18, 12))\n",
    "sns.boxplot(data=df, x=\"G2\", y=\"G3\")\n",
    "plt.show()"
   ]
  },
  {
   "cell_type": "markdown",
   "metadata": {},
   "source": [
    "Jak zauważyli autorzy zbioru danych zmienne `G1` i `G2` są bardzo silnie skorelowane z naszą zmienną wyjaśnianą. Jednak użycie ich do predykowania `G3` jest mało przydatne, bo są to oceny z poprzednich semestrów. Dużo ciekawiej jest wytrenować model na pozostałych kolumnach. \n",
    "\n",
    "Poniżej przyjrzymy się kilku zmiennym, które według naszej intuicji mogłyby mieć większy wpływ na ocenę końcową."
   ]
  },
  {
   "cell_type": "code",
   "execution_count": null,
   "metadata": {},
   "outputs": [],
   "source": [
    "# różnica między tymi dwiema szkołami\n",
    "\n",
    "sns.kdeplot(data=df.loc[df[\"school\"]==\"GP\", \"G3\"], shade=\"True\", legend=True, label = \"GP\")\n",
    "sns.kdeplot(data=df.loc[df[\"school\"]==\"MS\", \"G3\"], shade=\"True\", legend=True, label = \"MS\")\n",
    "plt.legend(title=\"School\")\n",
    "\n",
    "plt.show()"
   ]
  },
  {
   "cell_type": "markdown",
   "metadata": {},
   "source": [
    "Już z pierwszego wykresu gęstości widzimy, że uczniowie szkoły `GP` uzyskują trochę lepsze oceny."
   ]
  },
  {
   "cell_type": "code",
   "execution_count": null,
   "metadata": {},
   "outputs": [],
   "source": [
    "# miasto/wieś\n",
    "\n",
    "sns.kdeplot(data=df.loc[df[\"address\"]==\"U\", \"G3\"], shade=\"True\", legend=True, label = \"Urban\")\n",
    "sns.kdeplot(data=df.loc[df[\"address\"]==\"R\", \"G3\"], shade=\"True\", legend=True, label = \"Rural\")\n",
    "plt.legend(title=\"Address\")\n",
    "plt.show()"
   ]
  },
  {
   "cell_type": "markdown",
   "metadata": {},
   "source": [
    "Na kolejnym wykresie widzimy, że uczniowie mieszkający w mieście mają trochę większą średnią ocenę, ale również nieco większą wariancję."
   ]
  },
  {
   "cell_type": "code",
   "execution_count": null,
   "metadata": {},
   "outputs": [],
   "source": [
    "plot = sns.countplot(x=df['address'])\n",
    "plot.set_xlabel('Address')\n",
    "plot.set_ylabel('Count')\n",
    "plt.show()"
   ]
  },
  {
   "cell_type": "markdown",
   "metadata": {},
   "source": [
    "Przy okazji sprawdziliśmy, jaka jest proporcja uczniów mieszkających w różnych miejscach - również nie mamy zbalansowanych kateogrii."
   ]
  },
  {
   "cell_type": "code",
   "execution_count": null,
   "metadata": {},
   "outputs": [],
   "source": [
    "# czy zamierzają się jeszcze uczyć\n",
    "\n",
    "sns.kdeplot(data=df.loc[df[\"higher\"]==\"yes\", \"G3\"], shade=\"True\", legend=True, label = \"yes\")\n",
    "sns.kdeplot(data=df.loc[df[\"higher\"]==\"no\", \"G3\"], shade=\"True\", legend=True, label = \"no\")\n",
    "plt.legend(title=\"Higher education?\")\n",
    "\n",
    "plt.show()"
   ]
  },
  {
   "cell_type": "markdown",
   "metadata": {},
   "source": [
    "Zmienną, na której bardzo widać różnice w końcowej ocenie jest chęć podjęcia dalszej edukacji po szkole średniej. "
   ]
  },
  {
   "cell_type": "code",
   "execution_count": null,
   "metadata": {},
   "outputs": [],
   "source": [
    "# dostęp do internetu\n",
    "\n",
    "sns.kdeplot(data=df.loc[df[\"internet\"]==\"yes\", \"G3\"], shade=\"True\", legend=True, label = \"yes\")\n",
    "sns.kdeplot(data=df.loc[df[\"internet\"]==\"no\", \"G3\"], shade=\"True\", legend=True, label = \"no\")\n",
    "plt.legend(title=\"Internet?\")\n",
    "plt.show()"
   ]
  },
  {
   "cell_type": "markdown",
   "metadata": {},
   "source": [
    "Dostęp do internetu również wpływa na rozkład ocen końcowych - nieznacznie, ale jednak."
   ]
  },
  {
   "cell_type": "code",
   "execution_count": null,
   "metadata": {},
   "outputs": [],
   "source": [
    "#niezaliczenia\n",
    "\n",
    "sns.kdeplot(data=df.loc[df[\"failures\"]==0, \"G3\"], shade=\"True\", label=\"0\")\n",
    "sns.kdeplot(data=df.loc[df[\"failures\"]>=1, \"G3\"], shade=\"True\", label=\">1\")\n",
    "plt.legend(title=\"liczba niezaliczen\")\n",
    "\n",
    "plt.show()"
   ]
  },
  {
   "cell_type": "markdown",
   "metadata": {},
   "source": [
    "Znaczny wpływ ma zmienna określająca ile razy dany uczeń nie zaliczył kursu. Uczniowie, którzy nie zdali, mają średnio znacznie gorsze oceny.\n",
    "\n",
    "Następne kilka wykresów jest według nas bardzo ciekawe. Zarówno płeć, jak i to, że dana osoba jest w związku nie ma dużego wpływu na rozkład ocen. Jednak jeśli popatrzymy na te zmienne razem to zmiany stają się bardziej zauważalne. Dodatkowo trend nie jest taki sam a odwraca się. "
   ]
  },
  {
   "cell_type": "code",
   "execution_count": null,
   "metadata": {},
   "outputs": [],
   "source": [
    "sns.kdeplot(df.loc[df['sex'] == 'F', 'G3'], label='Female', shade = True)\n",
    "sns.kdeplot(df.loc[df['sex'] == 'M', 'G3'], label='Male', shade = True)\n",
    "plt.title('Gender', fontsize = 14)\n",
    "plt.legend(title=\"Gender\")\n",
    "plt.show()"
   ]
  },
  {
   "cell_type": "code",
   "execution_count": null,
   "metadata": {},
   "outputs": [],
   "source": [
    "sns.kdeplot(df.loc[(df['romantic'] == 'yes') & (df['sex'] == 'F'), 'G3'], label='Relationship Female', shade = True)\n",
    "sns.kdeplot(df.loc[(df['romantic'] == 'no') & (df['sex'] == 'F'), 'G3'], label='Single Female', shade = True)\n",
    "plt.title('Relationship', fontsize = 14)\n",
    "plt.legend()\n",
    "plt.show()"
   ]
  },
  {
   "cell_type": "code",
   "execution_count": null,
   "metadata": {},
   "outputs": [],
   "source": [
    "sns.kdeplot(df.loc[(df['romantic'] == 'yes') & (df['sex'] == 'M'), 'G3'], label='Relationship Male', shade = True)\n",
    "sns.kdeplot(df.loc[(df['romantic'] == 'no') & (df['sex'] == 'M'), 'G3'], label='Single Male', shade = True)\n",
    "plt.title('Relationship', fontsize = 14)\n",
    "plt.legend()\n",
    "plt.show()"
   ]
  },
  {
   "cell_type": "markdown",
   "metadata": {},
   "source": [
    "Widać też, że edukacja rodziców w pewien sposób koreluje z oceną końcową dziecka."
   ]
  },
  {
   "cell_type": "code",
   "execution_count": null,
   "metadata": {},
   "outputs": [],
   "source": [
    "family_ed = df['Fedu'] + df['Medu'] \n",
    "\n",
    "plt.figure(figsize=(12,12))\n",
    "b = sns.boxplot(x=family_ed,y=df['G3'])\n",
    "b.set_xlabel('Parents education ')\n",
    "b.set_ylabel('Final Grade')\n",
    "b.set_ylim((0,21))\n",
    "plt.show()"
   ]
  },
  {
   "cell_type": "markdown",
   "metadata": {},
   "source": [
    "Na heatmapie sprawdziliśmy korelacje poszczególnych zmiennych. Zauważyliśmy jednak, że niektórych kolumn nie ma."
   ]
  },
  {
   "cell_type": "code",
   "execution_count": null,
   "metadata": {},
   "outputs": [],
   "source": [
    "plt.figure(figsize=(12,12))\n",
    "sns.heatmap(df.corr(),annot=True, fmt=\".2f\", square=True)\n",
    "plt.show()"
   ]
  },
  {
   "cell_type": "markdown",
   "metadata": {},
   "source": [
    "Okazało się, że niektóre zmienne kategoryczne były zapisane w kolumnach tekstowych - musieliśmy je przekonwertować, aby pokazały się na heatmapie."
   ]
  },
  {
   "cell_type": "code",
   "execution_count": null,
   "metadata": {},
   "outputs": [],
   "source": [
    "df_all = df.copy()\n",
    "\n",
    "for col in df_all.columns:\n",
    "    if str(df_all[col].dtype) != \"int64\":\n",
    "        df_all[col]=df_all[col].astype(\"category\")\n",
    "        df_all[col]=df_all[col].cat.codes"
   ]
  },
  {
   "cell_type": "code",
   "execution_count": null,
   "metadata": {},
   "outputs": [],
   "source": [
    "plt.figure(figsize=(24,24))\n",
    "sns.heatmap(df_all.corr(),annot=True, fmt=\".2f\", square=True)\n",
    "plt.show()"
   ]
  },
  {
   "cell_type": "markdown",
   "metadata": {},
   "source": [
    "Heatmapa posłuży przede wszystkim do sprawdzenia, czy do modelu nie używamy dwóch silnie skorelowanych zmiennych. Jednak ciekawie jest też popatrzeć na niektóre zależności i sprawdzać czy zachodzą logiczne związki. \n",
    "Na przykład:\n",
    "- zmienna `Walc` wykazuje dość silny związek z `Dalc` (spożycie alkoholu w tygodniu, ze spożyciem alkoholu w dni powszednie),\n",
    "- adres ze szkołą - do jednej ze szkół chodziło więcej uczniów z miasta,\n",
    "- liczba niezaliczeń z chęcią dalszej edukacji,\n",
    "- czas dojazdu z adresem\n",
    "\n",
    "Ponadto widzimy, że trzy ostanie wiersze prawie się od siebie nie różnią. Potwierdza się założenie autorów zbioru - nie ma sensu przewidywać na podstawie `G1` i `G2` bo to prawie identyczne zmienne."
   ]
  },
  {
   "cell_type": "markdown",
   "metadata": {},
   "source": [
    "Aby lepiej poznać rozkłady poszczególnych zmiennych i ich wpływ na zmienną wyjaśnianą, przygotowaliśmy wykresy skrzypcowe. Ponieważ większość ciekawszych wniosków przedstawiliśmy powyżej, poniżej zostawiliśmy tylko niektóre wykresy"
   ]
  },
  {
   "cell_type": "code",
   "execution_count": null,
   "metadata": {
    "scrolled": false
   },
   "outputs": [],
   "source": [
    "# fig, axs = plt.subplots(32, 1, figsize=(10, 300))\n",
    "\n",
    "# for i in range(32):\n",
    "#     sns.violinplot(data=df, x=df.columns.values[i], y=\"G3\", ax=axs[i])\n",
    "\n",
    "\n",
    "fig, axs = plt.subplots(9, 1, figsize=(10, 89))\n",
    "counter=0\n",
    "for i in [2, 4, 10, 13, 17, 18, 20, 21, 22]:\n",
    "    sns.violinplot(data=df, x=df.columns.values[i], y=\"G3\", ax=axs[counter])\n",
    "    counter+=1"
   ]
  }
 ],
 "metadata": {
  "kernelspec": {
   "display_name": "Python 3",
   "language": "python",
   "name": "python3"
  },
  "language_info": {
   "codemirror_mode": {
    "name": "ipython",
    "version": 3
   },
   "file_extension": ".py",
   "mimetype": "text/x-python",
   "name": "python",
   "nbconvert_exporter": "python",
   "pygments_lexer": "ipython3",
   "version": "3.8.7"
  }
 },
 "nbformat": 4,
 "nbformat_minor": 4
}
