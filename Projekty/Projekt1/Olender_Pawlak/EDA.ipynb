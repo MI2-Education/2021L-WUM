{
 "cells": [
  {
   "cell_type": "code",
   "execution_count": null,
   "id": "strong-harassment",
   "metadata": {},
   "outputs": [],
   "source": [
    "import pandas as pd\n",
    "import numpy as np\n",
    "import seaborn as sns\n",
    "import matplotlib.pyplot as plt\n",
    "import matplotlib\n",
    "import category_encoders as ce\n",
    "import warnings\n",
    "warnings.filterwarnings(\"ignore\")"
   ]
  },
  {
   "cell_type": "code",
   "execution_count": null,
   "id": "spanish-emergency",
   "metadata": {},
   "outputs": [],
   "source": [
    "grades_df = pd.read_csv('school_grades_dataset.csv')\n",
    "\n",
    "\n",
    "with pd.option_context('display.max_columns', None):\n",
    "    print(grades_df.head())"
   ]
  },
  {
   "cell_type": "code",
   "execution_count": null,
   "id": "frequent-candidate",
   "metadata": {},
   "outputs": [],
   "source": [
    "grades_df.info()"
   ]
  },
  {
   "cell_type": "code",
   "execution_count": null,
   "id": "gothic-healthcare",
   "metadata": {},
   "outputs": [],
   "source": [
    "attributes_df = pd.read_csv('attributes_school_grades.csv')\n",
    "\n",
    "with pd.option_context('max_colwidth', 150):\n",
    "    print(attributes_df)"
   ]
  },
  {
   "cell_type": "code",
   "execution_count": null,
   "id": "sharp-building",
   "metadata": {},
   "outputs": [],
   "source": [
    "grades_df.describe()"
   ]
  },
  {
   "cell_type": "code",
   "execution_count": null,
   "id": "buried-letter",
   "metadata": {},
   "outputs": [],
   "source": [
    "# Mamy bardzo dużo zmiennych kategorycznych. W danych nie ma braków. Spróbujmy zakodować zmienne kategorczne:\n",
    "\n",
    "# Zmienne: schoolsup, famsup, paid, activities, nursery, higher, internet, romantic jako zmienne o wartościach yes/no możemy\n",
    "# zakodować za pomocą Ordinal Encoder'a\n",
    "cols = ['schoolsup', 'famsup', 'paid', 'activities', 'nursery', 'higher', 'internet', 'romantic']\n",
    "grades_df_new = grades_df.drop(columns = cols)\n",
    "\n",
    "\n",
    "for i in cols:\n",
    "    encoder = ce.OrdinalEncoder(mapping = [{'col': i, 'mapping': {'yes': 1, 'no': 0}},])\n",
    "    grades_df_new[i] = encoder.fit_transform(grades_df)[i]\n",
    "    \n",
    "\n",
    "bin_cols = cols + ['school', 'sex', 'address', 'famsize', 'Pstatus']"
   ]
  },
  {
   "cell_type": "code",
   "execution_count": null,
   "id": "exciting-tragedy",
   "metadata": {},
   "outputs": [],
   "source": [
    "sns.pairplot(grades_df_new, y_vars=\"G3\", x_vars=grades_df.columns.values[0:5])\n",
    "sns.pairplot(grades_df_new, y_vars=\"G3\", x_vars=grades_df.columns.values[5:10])\n",
    "sns.pairplot(grades_df_new, y_vars=\"G3\", x_vars=grades_df.columns.values[10:15])\n",
    "sns.pairplot(grades_df_new, y_vars=\"G3\", x_vars=grades_df.columns.values[15:20])\n",
    "sns.pairplot(grades_df_new, y_vars=\"G3\", x_vars=grades_df.columns.values[20:25])\n",
    "sns.pairplot(grades_df_new, y_vars=\"G3\", x_vars=grades_df.columns.values[25:30])\n",
    "sns.pairplot(grades_df_new, y_vars=\"G3\", x_vars=grades_df.columns.values[30:])\n",
    "\n",
    "plt.show()"
   ]
  },
  {
   "cell_type": "code",
   "execution_count": null,
   "id": "continued-lodge",
   "metadata": {},
   "outputs": [],
   "source": [
    "corr = grades_df_new.corr()\n",
    "f, ax = plt.subplots(figsize=(20, 12))\n",
    "ax = sns.heatmap(corr, \n",
    "            xticklabels=corr.columns.values,\n",
    "            yticklabels=corr.columns.values,\n",
    "            annot = True,\n",
    "            fmt='.2f')"
   ]
  },
  {
   "cell_type": "code",
   "execution_count": null,
   "id": "starting-nicaragua",
   "metadata": {},
   "outputs": [],
   "source": [
    "#heatmapa tylko dla zminnych numerycznych\n",
    "\n",
    "fig, ax = plt.subplots(figsize=(13, 13))\n",
    "sns.heatmap(grades_df.corr(), annot=True, square=True,  fmt='.2f')\n",
    "plt.show()"
   ]
  },
  {
   "cell_type": "code",
   "execution_count": null,
   "id": "breeding-rapid",
   "metadata": {},
   "outputs": [],
   "source": [
    "cols = grades_df.describe().columns\n",
    "\n",
    "grades_df[cols].hist(bins = 20, figsize=(21, 15))\n",
    "plt.show()"
   ]
  },
  {
   "cell_type": "code",
   "execution_count": null,
   "id": "cosmetic-locator",
   "metadata": {},
   "outputs": [],
   "source": [
    "discrete_vals = grades_df.drop(cols, axis=1)\n",
    "\n",
    "len(discrete_vals.columns)\n",
    "\n",
    "def y_or_n_vals(col):\n",
    "    if len(col.value_counts()) == 2:\n",
    "        if all(col.value_counts().index == ['yes', 'no']) | all(col.value_counts().index == ['no', 'yes']):\n",
    "            return True\n",
    "    return False\n",
    "\n",
    "fig, axs = plt.subplots(6, 3, figsize = (18, 25))\n",
    "for i in range(len(discrete_vals.columns)):\n",
    "    col = discrete_vals.columns[i]\n",
    "    \n",
    "    if y_or_n_vals(discrete_vals[col]):\n",
    "        sns.countplot(data = discrete_vals, x=col, ax = axs[i // 3, i % 3], order = ['yes', 'no'])\n",
    "    else:\n",
    "        order = discrete_vals[col].value_counts().sort_values(ascending=False).index\n",
    "        sns.countplot(data = discrete_vals, x=col, ax = axs[i // 3, i % 3], order = order)\n",
    "plt.show()"
   ]
  },
  {
   "cell_type": "code",
   "execution_count": null,
   "id": "electric-treat",
   "metadata": {},
   "outputs": [],
   "source": [
    "df = grades_df.drop(['G1', 'G2', 'absences'], axis = 1)\n",
    "\n",
    "def one_to_five_vals():\n",
    "    if len(col.value_counts()) == 5:\n",
    "        if all(col.value_counts().index == ['yes', 'no']) | all(col.value_counts().index == ['no', 'yes']):\n",
    "            return True\n",
    "    return False\n",
    "\n",
    "fig, axs = plt.subplots(10, 3, figsize = (18, 40))\n",
    "for i in range(len(df.columns)-1):\n",
    "    col = df.columns[i]\n",
    "    \n",
    "    if y_or_n_vals(df[col]):\n",
    "        sns.violinplot(data = df, x=col, y = 'G3', ax = axs[i // 3, i % 3], order = ['yes', 'no'])\n",
    "    elif type(df[col].value_counts().index[0]) is np.int64:\n",
    "        sns.violinplot(data = df, x=col, y = 'G3', ax = axs[i // 3, i % 3], order = df[col].unique().sort())\n",
    "    else:\n",
    "        order = df[col].value_counts().sort_values(ascending=False).index\n",
    "        sns.violinplot(data = df, x=col, y = 'G3', ax = axs[i // 3, i % 3], order = order)\n",
    "plt.show()"
   ]
  },
  {
   "cell_type": "code",
   "execution_count": null,
   "id": "enhanced-server",
   "metadata": {},
   "outputs": [],
   "source": [
    "#Jeszcze raz te same wykresy, żeby wstawić do prezentacji\n",
    "\n",
    "#fig, (ax1, ax2, ax3) = plt.subplots(1, 3, figsize=(14, 4))\n",
    "#sns.violinplot(data = grades_df, x='nursery', y = 'G3', ax = ax1, order = ['yes', 'no'])\n",
    "#sns.violinplot(data = grades_df, x='reason', y = 'G3', ax = ax2, order = grades_df['reason'].unique())\n",
    "#sns.violinplot(data = grades_df, x='higher', y = 'G3', ax = ax3, order = ['yes', 'no'])\n",
    "#plt.show()\n"
   ]
  },
  {
   "cell_type": "code",
   "execution_count": null,
   "id": "expired-gross",
   "metadata": {},
   "outputs": [],
   "source": [
    "fig, axs = plt.subplots(len(bin_cols), 2, figsize = (20, 65))\n",
    "for i in range(len(bin_cols)):\n",
    "    a, b = sorted(grades_df[bin_cols[i]].unique())\n",
    "    if (a == 'no'): a,b = b,a\n",
    "    \n",
    "    X = grades_df.loc[grades_df[bin_cols[i]] == a]\n",
    "    plot_dens=sns.distplot(X['G3'], ax = axs[i, 0])\n",
    "    plot_dens.set_title('Rozkład zmiennej G3 dla zmiennej ' + bin_cols[i] + ' równe ' + a)\n",
    "    txt = \"mean: \" + str(np.mean(X['G3']).round(2))\n",
    "    top = (max(X['G3'].value_counts()))/len(X)\n",
    "    plot_dens.text(0, 0.75 * top,s = txt, fontsize=15)\n",
    "    txt = \"std: \" + str(np.std(X['G3']).round(2))\n",
    "    plot_dens.text(0, 0.6 * top,s = txt, fontsize=15)\n",
    "    \n",
    "    X = grades_df.loc[grades_df[bin_cols[i]] == b]\n",
    "    plot_dens=sns.distplot(X['G3'], ax = axs[i, 1])\n",
    "    plot_dens.set_title('Rozkład zmiennej G3 dla zmiennej ' + bin_cols[i] + ' równej ' + b)\n",
    "    txt = \"średnia: \" + str(np.mean(X['G3']).round(2))\n",
    "    top = (max(X['G3'].value_counts()))/len(X)\n",
    "    plot_dens.text(0, 0.85 * top,s= txt, fontsize=15)\n",
    "    txt = \"std: \" + str(np.std(X['G3']).round(2))\n",
    "    plot_dens.text(0, 0.7 * top,s = txt, fontsize=15)\n",
    "plt.show()"
   ]
  },
  {
   "cell_type": "markdown",
   "id": "broken-helicopter",
   "metadata": {},
   "source": [
    "- Osoby nie posiadający korepetycji uczą się lepiej (zaskakujące). \n",
    "- Osoby posiadające wsparcie rodziny uczą się lepiej. Wykresy osób posiadających / nie posiadających korepetycji przypominają rozkład normalny.\n",
    "- Osoby biorące udział w zajęciach pozalekcyjnych lepiej się uczą. \n",
    "- Osoby po przedszkolu lepiej się uczą. \n",
    "- Zdecydowanie lepiej uczą się osoby chcące osiągnąć wykształcenie wyższe \n",
    "- Zdecydowanie lepiej uczą się osoby posiadające dostęp do internetu\n",
    "- Rozkłady zmiennej romantic wyglądają podobnie, natomiast znacznie wyższa średnia wychodzi gdy 'romantic' jest 'no' Lepsze oceny mają uczniowie szkoły GP. \n",
    "- Dziewczynki uczą się lepiej od chłopców. \n",
    "- Mieszkańcy miast uczą się lepiej niż mieszkańcy wsi. \n",
    "- Histogram sugeruje, że lepiej uczą się dzieci z małych rodzin, matomiast wyższą średnią ocen uzyskały dzieci z dużych rodzin. - Rozkłady dla zmiennej \"Pstatus\" znacząco się różnią, natomiast średnia wygląda identycznie.\n",
    "- szkoła GP lepsza od MS"
   ]
  },
  {
   "cell_type": "code",
   "execution_count": null,
   "id": "western-affair",
   "metadata": {},
   "outputs": [],
   "source": [
    "cols_cat = ['Medu', 'Fedu', 'Mjob', 'Fjob', 'reason', 'guardian', 'famrel', 'freetime', 'goout', 'Dalc', 'Walc', 'health', 'traveltime', 'studytime', 'failures']\n",
    "\n",
    "for i in range(len(cols_cat)):\n",
    "    vals = sorted(grades_df[cols_cat[i]].unique())\n",
    "    \n",
    "    fig, axs = plt.subplots(1, len(vals), figsize = (20, 4))\n",
    "    for a in range(len(vals)):\n",
    "        X = grades_df.loc[grades_df[cols_cat[i]] == vals[a]]\n",
    "        \n",
    "        plot_dens=sns.distplot(X['G3'], ax = axs[a])\n",
    "        plot_dens.set_title(cols_cat[i] + ' = ' + str(vals[a]))\n",
    "        \n",
    "\n",
    "    plt.show()"
   ]
  },
  {
   "cell_type": "code",
   "execution_count": null,
   "id": "hollow-vehicle",
   "metadata": {},
   "outputs": [],
   "source": [
    "grades_df['Mjob'].value_counts()"
   ]
  },
  {
   "cell_type": "code",
   "execution_count": null,
   "id": "atmospheric-elevation",
   "metadata": {},
   "outputs": [],
   "source": [
    "grades_df['Fjob'].value_counts()"
   ]
  },
  {
   "cell_type": "markdown",
   "id": "moving-homework",
   "metadata": {},
   "source": [
    "- Najlepiej uczą się osoby, dla których współczynnik Medu i Fedu jest większy od 2, co było do przewidzenia, że dzieci wykształconych rodziców będą miały dobre oceny.\n",
    "- Jeśli chodzi o wykształcenie rodziców, to najwyższe oceny mają dzieci lekarzy i nauczycieli, jednak te grupy są stosunkwo nieliczne w porównaniu do pozostałych\n",
    "- Najlepsze oceny mają osoby, które wybrały szkołę ze względu na jej reputację, natomiast histogram dla powodu 'pozostałe' jest bardzo podobny do rozkładu naturalnego.\n",
    "- Jeśli chodzi o wolny czas, to najlepiej uczą się osoby ze środka: Nadmiar / niedomiar wolnego czasu nie sprzyja dobrym ocenom.\n",
    "- Pesymistycznym wnioskiem jest, że lepiej uczą się osoby rzadko wychodzące ze znajomymi.\n",
    "- Spodziewanym wnioskiem jest, żę osoby pijące mało alkoholu, zarówno w dni powszednie, jak i weekendy mają lepsze oceny. \n",
    "- Osoby o lepszym stanie zdrowia, mają lepsze oceny.\n",
    "- Lepiej uczą się osoby, które mało czasu przeznaczają na podróż do szkoły.\n",
    "- Lepiej uczą się osoby, które wiecej czasu przeznaczaja na naukę\n",
    "- Lepiej uczą się osoby nie mające na koncie porażek, histogram przypomina wykres rozkładu normalnego\n",
    "- najbardziej skorelowane są wyniki egzaminów - uczniowie utrzymują stały poziom"
   ]
  },
  {
   "cell_type": "code",
   "execution_count": null,
   "id": "bridal-increase",
   "metadata": {},
   "outputs": [],
   "source": [
    "grades_df['G3-result'] = np.where(grades_df['G3'] < 10, 'failed',\n",
    "                                 np.where(grades_df['G3'] < 13, 'weak',\n",
    "                                 np.where(grades_df['G3'] < 16, 'ok',\n",
    "                                 np.where(grades_df['G3'] < 19, 'good', 'excellent'))))\n",
    "\n",
    "grades_df.head()\n"
   ]
  },
  {
   "cell_type": "code",
   "execution_count": null,
   "id": "enabling-copying",
   "metadata": {},
   "outputs": [],
   "source": [
    "grades_df['G3-result'].value_counts()"
   ]
  },
  {
   "cell_type": "code",
   "execution_count": null,
   "id": "pointed-small",
   "metadata": {},
   "outputs": [],
   "source": [
    "interesting_cols = ['Medu', 'Fedu', 'traveltime', 'absences', 'Dalc', 'Walc', 'failures', 'G3-result']\n",
    "df = grades_df[interesting_cols]\n",
    "order = ['failed', 'weak', 'ok', 'good', 'excellent']\n",
    "n = len(interesting_cols)\n",
    "k = 0\n",
    "\n",
    "fig, axs = plt.subplots(n, 1, figsize=(40, 80))\n",
    "for i in range(n-1):\n",
    "    col = interesting_cols[i]\n",
    "    sns.swarmplot(data = grades_df, x = 'G3-result', y = col,  order = order, ax = axs[i])\n",
    "plt.show()"
   ]
  },
  {
   "cell_type": "code",
   "execution_count": null,
   "id": "motivated-heather",
   "metadata": {},
   "outputs": [],
   "source": [
    "fig, ax = plt.subplots(1, 1, figsize=(20, 8))\n",
    "sns.swarmplot(data = grades_df, x = 'G3-result', y = 'absences',  order = order)\n",
    "plt.show()"
   ]
  },
  {
   "cell_type": "code",
   "execution_count": null,
   "id": "realistic-ministry",
   "metadata": {},
   "outputs": [],
   "source": [
    "fig, axs = plt.subplots(1, 1, figsize=(18, 5))\n",
    "sns.swarmplot(data = grades_df, x = 'G3-result', y = 'failures',  order = order)\n",
    "plt.show()"
   ]
  },
  {
   "cell_type": "code",
   "execution_count": null,
   "id": "balanced-animation",
   "metadata": {},
   "outputs": [],
   "source": []
  }
 ],
 "metadata": {
  "kernelspec": {
   "display_name": "Python 3",
   "language": "python",
   "name": "python3"
  },
  "language_info": {
   "codemirror_mode": {
    "name": "ipython",
    "version": 3
   },
   "file_extension": ".py",
   "mimetype": "text/x-python",
   "name": "python",
   "nbconvert_exporter": "python",
   "pygments_lexer": "ipython3",
   "version": "3.8.2"
  }
 },
 "nbformat": 4,
 "nbformat_minor": 5
}
