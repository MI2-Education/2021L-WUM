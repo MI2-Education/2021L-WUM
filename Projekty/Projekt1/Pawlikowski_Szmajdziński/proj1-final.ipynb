{
 "cells": [
  {
   "cell_type": "code",
   "execution_count": null,
   "metadata": {},
   "outputs": [],
   "source": [
    "import matplotlib.pyplot as plt\n",
    "import numpy as np\n",
    "import pandas as pd\n",
    "import seaborn as sns\n",
    "import math\n",
    "from sklearn.ensemble import RandomForestClassifier\n",
    "from sklearn.model_selection import train_test_split\n",
    "from sklearn.linear_model import LogisticRegression\n",
    "from sklearn import linear_model\n",
    "from sklearn.model_selection import GridSearchCV\n",
    "from sklearn import svm\n",
    "from sklearn.neural_network import MLPClassifier\n",
    "from sklearn.neural_network import MLPRegressor\n",
    "from sklearn.metrics import mean_squared_error\n",
    "import warnings\n",
    "warnings.filterwarnings('ignore')\n",
    "from category_encoders import OneHotEncoder"
   ]
  },
  {
   "cell_type": "markdown",
   "metadata": {},
   "source": [
    "## Przygotowanie danych "
   ]
  },
  {
   "cell_type": "code",
   "execution_count": null,
   "metadata": {},
   "outputs": [],
   "source": [
    "data=pd.DataFrame(pd.read_json('https://api.apispreadsheets.com/api/dataset/school-grades/',orient='split'))\n",
    "data.info()"
   ]
  },
  {
   "cell_type": "markdown",
   "metadata": {},
   "source": [
    "## Inżynieria cech \n",
    "### Kodowanie kategoryczne i dodanie kolumny \"Czy dostał 0 pkt\"\n",
    "\n",
    "Chcąc lepiej przewidywać wyniki postanowiliśmy inaczej potraktować osoby z zerowym wynikiem. Nasz plan jest taki, aby najpierw przewidywać czy osoba dostanie 0 pkt, a następnie, jeśli z przewidywania wyjdzie że nie powinna dostać 0 pkt, przewidujemy jej wynik."
   ]
  },
  {
   "cell_type": "code",
   "execution_count": null,
   "metadata": {},
   "outputs": [],
   "source": [
    "data['schoolsup'].describe()"
   ]
  },
  {
   "cell_type": "markdown",
   "metadata": {},
   "source": [
    "Wyrzucamy również kolumne dotyczącą edukacji ojca, gdyż z EDA wyszło nam że jest ona mocno skorelowana z edukacją matki. Postanowiliśmy wyrzucić jedną z tych cech."
   ]
  },
  {
   "cell_type": "code",
   "execution_count": null,
   "metadata": {},
   "outputs": [],
   "source": [
    "data = data.drop(labels = \"Fedu\", axis = 1)\n",
    "data = data.drop(labels = \"Fjob\", axis = 1)\n",
    "\n",
    "ce_one_hot = OneHotEncoder(cols = (\"Mjob\", \"sex\", \"school\",'famsize',\n",
    "                                   \"address\", \"Pstatus\", \"reason\",\n",
    "                                   \"guardian\", \"schoolsup\",'famsup', 'paid',\n",
    "                                   'activities', 'nursery', 'higher', 'internet', 'romantic' ))\n",
    "df = ce_one_hot.fit_transform(data)"
   ]
  },
  {
   "cell_type": "code",
   "execution_count": null,
   "metadata": {},
   "outputs": [],
   "source": [
    "a=df.shape[1]-3\n",
    "df_G=df.iloc[:,:a]\n",
    "\n",
    "a=df.shape[1]-1\n",
    "df=df.iloc[:,:a]\n",
    "data['is_zero']=np.where(data['G3']==0,0,1)\n",
    "\n",
    "df.head()"
   ]
  },
  {
   "cell_type": "markdown",
   "metadata": {},
   "source": [
    "## Modele"
   ]
  },
  {
   "cell_type": "code",
   "execution_count": null,
   "metadata": {},
   "outputs": [],
   "source": [
    "## Funkcja pomocnicza do testowania modeli \n",
    "\n",
    "def models_score(model_params, x_train, y_train, x_test, y_test):\n",
    "    results=[]\n",
    "    for name, param in model_params.items():\n",
    "        classifier=GridSearchCV(param['model'],param['params'],cv=6,return_train_score=False)\n",
    "        classifier.fit(x_train,  y_train)\n",
    "        model_performance = np.sqrt(mean_squared_error(classifier.predict(x_test),y_test, squared=True))\n",
    "        results.append({\n",
    "            'model': name,\n",
    "            'best_score': classifier.best_score_,\n",
    "            'best_params': classifier.best_params_,\n",
    "            'RMSE': model_performance\n",
    "        })\n",
    "    return results\n",
    "\n",
    "def draw_hists(model, x_test, y_test):\n",
    "    fig, ax =plt.subplots(1,2, sharey=True, figsize=(12,6))\n",
    "    sns.histplot(clf.predict(x_test), ax=ax[0])\n",
    "    sns.histplot(y_test, ax=ax[1])\n",
    "    ax[0].set_title('Rozkład przewidywany')\n",
    "    ax[1].set_title('Rozkład rzeczywisty')\n",
    "    fig.show()"
   ]
  },
  {
   "cell_type": "markdown",
   "metadata": {},
   "source": [
    "### Regrasja bez podziału na uczniów, którzy dostali 0pkt"
   ]
  },
  {
   "cell_type": "code",
   "execution_count": null,
   "metadata": {},
   "outputs": [],
   "source": [
    "x_train, x_test, y_train, y_test = train_test_split(df, data[\"G3\"],test_size=0.3, random_state=0)\n",
    "x_train_G, x_test_G, y_train_G, y_test_G = train_test_split(df_G, data[\"G3\"],test_size=0.3, random_state=0)\n",
    "\n",
    "model_params1={\n",
    "    'linear_regression':{\n",
    "        'model': linear_model.LinearRegression(),\n",
    "        'params': {}\n",
    "    },\n",
    "    'lasso':{\n",
    "        'model': linear_model.Lasso(random_state=15),\n",
    "        'params':{\n",
    "            'alpha':[0.1,1,0],\n",
    "            'normalize':['True','False']\n",
    "        }\n",
    "    },\n",
    "    'svm':{\n",
    "            'model': svm.SVC(gamma='auto', tol=1e-1, cache_size=2000, max_iter=1500),\n",
    "            'params': {\n",
    "                'C': [0.001, 0.01, 0.1, 1, 3, 10, 30],\n",
    "                'kernel': ['linear', 'rbf']\n",
    "            }\n",
    "    }\n",
    "}"
   ]
  },
  {
   "cell_type": "markdown",
   "metadata": {},
   "source": [
    "#### Wyniki z G1 i G2"
   ]
  },
  {
   "cell_type": "code",
   "execution_count": null,
   "metadata": {},
   "outputs": [],
   "source": [
    "results= models_score(model_params1, x_train, y_train, x_test, y_test)\n",
    "results"
   ]
  },
  {
   "cell_type": "code",
   "execution_count": null,
   "metadata": {},
   "outputs": [],
   "source": [
    "clf = linear_model.Lasso(alpha=0, normalize = True).fit(x_train, y_train)\n",
    "draw_hists(clf, x_test, y_test)"
   ]
  },
  {
   "cell_type": "markdown",
   "metadata": {},
   "source": [
    "#### Wyniki bez G1 i G2"
   ]
  },
  {
   "cell_type": "code",
   "execution_count": null,
   "metadata": {},
   "outputs": [],
   "source": [
    "results= models_score(model_params1, x_train_G, y_train_G, x_test_G, y_test_G)\n",
    "results"
   ]
  },
  {
   "cell_type": "code",
   "execution_count": null,
   "metadata": {},
   "outputs": [],
   "source": [
    "clf = linear_model.Lasso(alpha=0, normalize = True).fit(x_train_G, y_train_G)\n",
    "draw_hists(clf, x_test_G, y_test_G)"
   ]
  },
  {
   "cell_type": "markdown",
   "metadata": {},
   "source": [
    "### Klasyfikacja uczniów z zerowym wynikiem "
   ]
  },
  {
   "cell_type": "code",
   "execution_count": null,
   "metadata": {},
   "outputs": [],
   "source": [
    " x_train2, x_test2, y_train2, y_test2 = train_test_split(df, data[\"is_zero\"],test_size=0.3, random_state=13)"
   ]
  },
  {
   "cell_type": "code",
   "execution_count": null,
   "metadata": {},
   "outputs": [],
   "source": [
    "\n",
    "from sklearn.linear_model import LogisticRegression\n",
    "\n",
    "model_params2={\n",
    "    'random_forest':{\n",
    "        'model': RandomForestClassifier(random_state=15),\n",
    "        'params': {\n",
    "            'n_estimators':[1,3,8,13],\n",
    "            'min_samples_split': [3,5,10,20]\n",
    "        }\n",
    "    },\n",
    "    'logistic_regession':{\n",
    "        'model': LogisticRegression(random_state=15, solver='liblinear'),\n",
    "        'params':{\n",
    "            'C':[1,5,10],\n",
    "            'penalty':['l1','l2','elasticnet']\n",
    "        }\n",
    "    },\n",
    "    'svm':{\n",
    "            'model': svm.SVC(gamma='auto', tol=1e-1, cache_size=2000, max_iter=1500),\n",
    "            'params': {\n",
    "                'C': [0.001, 0.01, 0.1, 1, 3, 10, 30],\n",
    "                'kernel': ['linear', 'rbf']\n",
    "            }\n",
    "    }\n",
    "}"
   ]
  },
  {
   "cell_type": "code",
   "execution_count": null,
   "metadata": {},
   "outputs": [],
   "source": [
    "results_isZero= models_score(model_params2, x_train2, y_train2, x_test2, y_test2)\n",
    "results_isZero"
   ]
  },
  {
   "cell_type": "markdown",
   "metadata": {},
   "source": [
    "### Regrasja tylko dla uczniów, którzy nie dostali zero punktów "
   ]
  },
  {
   "cell_type": "code",
   "execution_count": null,
   "metadata": {},
   "outputs": [],
   "source": [
    "only_good_data=df.loc[data.is_zero==1]\n",
    "data2=data.loc[data.is_zero==1]\n",
    "x_train3, x_test3, y_train3, y_test3 = train_test_split(only_good_data, data2[\"G3\"],test_size=0.3, random_state=0)"
   ]
  },
  {
   "cell_type": "code",
   "execution_count": null,
   "metadata": {},
   "outputs": [],
   "source": [
    "model_params3={\n",
    "    'linear_regression':{\n",
    "        'model': linear_model.LinearRegression(),\n",
    "        'params': {}\n",
    "    },\n",
    "    'lasso':{\n",
    "        'model': linear_model.Lasso(random_state=15),\n",
    "        'params':{\n",
    "            'alpha':[0.1,1,0],\n",
    "            'normalize':['True','False']\n",
    "        }\n",
    "    }\n",
    "}"
   ]
  },
  {
   "cell_type": "code",
   "execution_count": null,
   "metadata": {},
   "outputs": [],
   "source": [
    "results3= models_score(model_params3, x_train3, y_train3, x_test3, y_test3)\n",
    "results3                                                      "
   ]
  },
  {
   "cell_type": "code",
   "execution_count": null,
   "metadata": {},
   "outputs": [],
   "source": [
    "clf = linear_model.LinearRegression().fit(x_train3, y_train3)\n",
    "draw_hists(clf, x_test3, y_test3)"
   ]
  },
  {
   "cell_type": "markdown",
   "metadata": {},
   "source": [
    "# Model z kubełkami \n"
   ]
  },
  {
   "cell_type": "code",
   "execution_count": null,
   "metadata": {},
   "outputs": [],
   "source": [
    "data_bins = data.drop(labels = \"is_zero\", axis = 1)"
   ]
  },
  {
   "cell_type": "code",
   "execution_count": null,
   "metadata": {},
   "outputs": [],
   "source": [
    "## Podział na kubełki \n",
    "def divade(x, n):\n",
    "    return (x//n) * n \n",
    "\n",
    "df_bins = data_bins[\"G3\"].apply(lambda x: divade(x, 4))\n",
    "\n",
    "x_train4, x_test4, y_train4, y_test4 = train_test_split(df, df_bins,test_size=0.3, random_state=0)"
   ]
  },
  {
   "cell_type": "code",
   "execution_count": null,
   "metadata": {},
   "outputs": [],
   "source": [
    "from sklearn.linear_model import LogisticRegression\n",
    "from sklearn.neural_network import MLPClassifier\n",
    "\n",
    "model_params4={\n",
    "    'random_forest':{\n",
    "        'model': RandomForestClassifier(random_state=15),\n",
    "        'params': {\n",
    "            'n_estimators':[1,3,8,13],\n",
    "            'min_samples_split': [3,5,10,20]\n",
    "        }\n",
    "    },\n",
    "    'logistic_regession':{\n",
    "        'model': LogisticRegression(random_state=15, solver='liblinear'),\n",
    "        'params':{\n",
    "            'C':[1,5,10],\n",
    "            'penalty':['l1','l2','elasticnet']\n",
    "        }\n",
    "    },\n",
    "    'svm':{\n",
    "            'model': svm.SVC(gamma='auto', tol=1e-1, cache_size=2000, max_iter=1500),\n",
    "            'params': {\n",
    "                'C': [0.001, 0.01, 0.1, 1, 3, 10, 30],\n",
    "                'kernel': ['linear', 'rbf']\n",
    "            }\n",
    "    }\n",
    "}"
   ]
  },
  {
   "cell_type": "code",
   "execution_count": null,
   "metadata": {},
   "outputs": [],
   "source": [
    "results4= models_score(model_params4, x_train4, y_train4, x_test4, y_test4)\n",
    "results4   "
   ]
  },
  {
   "cell_type": "code",
   "execution_count": null,
   "metadata": {},
   "outputs": [],
   "source": [
    "clf = svm.SVC(gamma='auto', tol=1e-1, cache_size=2000, max_iter=1500, C = 5, kernel = 'linear').fit(x_train4, y_train4)\n",
    "draw_hists(clf, x_test4, y_test4)"
   ]
  }
 ],
 "metadata": {
  "kernelspec": {
   "display_name": "Python 3",
   "language": "python",
   "name": "python3"
  },
  "language_info": {
   "codemirror_mode": {
    "name": "ipython",
    "version": 3
   },
   "file_extension": ".py",
   "mimetype": "text/x-python",
   "name": "python",
   "nbconvert_exporter": "python",
   "pygments_lexer": "ipython3",
   "version": "3.8.5"
  }
 },
 "nbformat": 4,
 "nbformat_minor": 4
}
